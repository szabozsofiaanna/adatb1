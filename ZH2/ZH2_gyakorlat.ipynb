{
    "metadata": {
        "kernelspec": {
            "name": "SQL",
            "display_name": "SQL",
            "language": "sql"
        },
        "language_info": {
            "name": "sql",
            "version": ""
        }
    },
    "nbformat_minor": 2,
    "nbformat": 4,
    "cells": [
        {
            "cell_type": "code",
            "source": [
                "--1. feladat\r\n",
                "SELECT SZALLAS_NEV,\r\n",
                "HELY,\r\n",
                "ROUND(AVG(CSILLAGOK_SZAMA), 2) as 'ÁTlagos csillagok száma'\r\n",
                "FROM Szallashely\r\n",
                "WHERE SZALLAS_NEV NOT LIKE '%-%'\r\n",
                "GROUP BY SZALLAS_NEV, HELY"
            ],
            "metadata": {
                "azdata_cell_guid": "c6a5c506-cff0-43c0-b350-8ce935c0be4a",
                "language": "sql"
            },
            "outputs": [
                {
                    "output_type": "display_data",
                    "data": {
                        "text/html": "(20 rows affected)"
                    },
                    "metadata": {}
                },
                {
                    "output_type": "display_data",
                    "data": {
                        "text/html": "Total execution time: 00:00:00.010"
                    },
                    "metadata": {}
                },
                {
                    "output_type": "execute_result",
                    "metadata": {},
                    "execution_count": 5,
                    "data": {
                        "application/vnd.dataresource+json": {
                            "schema": {
                                "fields": [
                                    {
                                        "name": "SZALLAS_NEV"
                                    },
                                    {
                                        "name": "HELY"
                                    },
                                    {
                                        "name": "ÁTlagos csillagok száma"
                                    }
                                ]
                            },
                            "data": [
                                {
                                    "SZALLAS_NEV": "Családi Ház",
                                    "HELY": "Balaton-dél",
                                    "ÁTlagos csillagok száma": "0"
                                },
                                {
                                    "SZALLAS_NEV": "Hotel Három Hattyú",
                                    "HELY": "Balaton-dél",
                                    "ÁTlagos csillagok száma": "4"
                                },
                                {
                                    "SZALLAS_NEV": "Jáde panzió",
                                    "HELY": "Balaton-dél",
                                    "ÁTlagos csillagok száma": "3"
                                },
                                {
                                    "SZALLAS_NEV": "Kentaur Hotel",
                                    "HELY": "Balaton-dél",
                                    "ÁTlagos csillagok száma": "3"
                                },
                                {
                                    "SZALLAS_NEV": "Szieszta Apartmanház",
                                    "HELY": "Balaton-dél",
                                    "ÁTlagos csillagok száma": "0"
                                },
                                {
                                    "SZALLAS_NEV": "Tímárház Panzió",
                                    "HELY": "Balaton-dél",
                                    "ÁTlagos csillagok száma": "3"
                                },
                                {
                                    "SZALLAS_NEV": "Partiszél Vendégház",
                                    "HELY": "Balaton-észak",
                                    "ÁTlagos csillagok száma": "0"
                                },
                                {
                                    "SZALLAS_NEV": "Fortuna Panzió",
                                    "HELY": "Békés megye",
                                    "ÁTlagos csillagok száma": "3"
                                },
                                {
                                    "SZALLAS_NEV": "Fortuna panzió",
                                    "HELY": "Budapest",
                                    "ÁTlagos csillagok száma": "3"
                                },
                                {
                                    "SZALLAS_NEV": "Gold Hotel",
                                    "HELY": "Budapest",
                                    "ÁTlagos csillagok száma": "3"
                                },
                                {
                                    "SZALLAS_NEV": "Kollégium",
                                    "HELY": "Budapest",
                                    "ÁTlagos csillagok száma": "0"
                                },
                                {
                                    "SZALLAS_NEV": "Lagúna Hotel",
                                    "HELY": "Budapest",
                                    "ÁTlagos csillagok száma": "4"
                                },
                                {
                                    "SZALLAS_NEV": "Nyárfás Vendégház",
                                    "HELY": "Csongrád megye",
                                    "ÁTlagos csillagok száma": "0"
                                },
                                {
                                    "SZALLAS_NEV": "Riviéra Panzió",
                                    "HELY": "Csongrád megye",
                                    "ÁTlagos csillagok száma": "3"
                                },
                                {
                                    "SZALLAS_NEV": "Fortuna Apartman",
                                    "HELY": "Dél-Somogy",
                                    "ÁTlagos csillagok száma": "0"
                                },
                                {
                                    "SZALLAS_NEV": "Müller Vendégház",
                                    "HELY": "Dél-Somogy",
                                    "ÁTlagos csillagok száma": "0"
                                },
                                {
                                    "SZALLAS_NEV": "Nyárfás Vendégház",
                                    "HELY": "Dél-Somogy",
                                    "ÁTlagos csillagok száma": "0"
                                },
                                {
                                    "SZALLAS_NEV": "Fortuna Apartman",
                                    "HELY": "Hajdúbihar megye",
                                    "ÁTlagos csillagok száma": "0"
                                },
                                {
                                    "SZALLAS_NEV": "Bagoly Hotel",
                                    "HELY": "Pest megye",
                                    "ÁTlagos csillagok száma": "3"
                                },
                                {
                                    "SZALLAS_NEV": "Szarvas Hotel",
                                    "HELY": "Tolna megye",
                                    "ÁTlagos csillagok száma": "4"
                                }
                            ]
                        },
                        "text/html": [
                            "<table>",
                            "<tr><th>SZALLAS_NEV</th><th>HELY</th><th>ÁTlagos csillagok száma</th></tr>",
                            "<tr><td>Családi Ház</td><td>Balaton-dél</td><td>0</td></tr>",
                            "<tr><td>Hotel Három Hattyú</td><td>Balaton-dél</td><td>4</td></tr>",
                            "<tr><td>Jáde panzió</td><td>Balaton-dél</td><td>3</td></tr>",
                            "<tr><td>Kentaur Hotel</td><td>Balaton-dél</td><td>3</td></tr>",
                            "<tr><td>Szieszta Apartmanház</td><td>Balaton-dél</td><td>0</td></tr>",
                            "<tr><td>Tímárház Panzió</td><td>Balaton-dél</td><td>3</td></tr>",
                            "<tr><td>Partiszél Vendégház</td><td>Balaton-észak</td><td>0</td></tr>",
                            "<tr><td>Fortuna Panzió</td><td>Békés megye</td><td>3</td></tr>",
                            "<tr><td>Fortuna panzió</td><td>Budapest</td><td>3</td></tr>",
                            "<tr><td>Gold Hotel</td><td>Budapest</td><td>3</td></tr>",
                            "<tr><td>Kollégium</td><td>Budapest</td><td>0</td></tr>",
                            "<tr><td>Lagúna Hotel</td><td>Budapest</td><td>4</td></tr>",
                            "<tr><td>Nyárfás Vendégház</td><td>Csongrád megye</td><td>0</td></tr>",
                            "<tr><td>Riviéra Panzió</td><td>Csongrád megye</td><td>3</td></tr>",
                            "<tr><td>Fortuna Apartman</td><td>Dél-Somogy</td><td>0</td></tr>",
                            "<tr><td>Müller Vendégház</td><td>Dél-Somogy</td><td>0</td></tr>",
                            "<tr><td>Nyárfás Vendégház</td><td>Dél-Somogy</td><td>0</td></tr>",
                            "<tr><td>Fortuna Apartman</td><td>Hajdúbihar megye</td><td>0</td></tr>",
                            "<tr><td>Bagoly Hotel</td><td>Pest megye</td><td>3</td></tr>",
                            "<tr><td>Szarvas Hotel</td><td>Tolna megye</td><td>4</td></tr>",
                            "</table>"
                        ]
                    }
                }
            ],
            "execution_count": 5
        },
        {
            "cell_type": "code",
            "source": [
                "--2.feladat\r\n",
                "SELECT v.USERNEV,\r\n",
                "v.NEV,\r\n",
                "f.FELNOTT_SZAM + f.GYERMEK_SZAM as 'Fő',\r\n",
                "AVG(f2.FELNOTT_SZAM + f2.GYERMEK_SZAM) OVER(PARTITION BY f.UGYFEL_FK ORDER BY f.METTOL ROWS BETWEEN 3 PRECEDING AND 1 PRECEDING) as 'Előző három foglalás átlaga'\r\n",
                "FROM Vendeg v LEFT JOIN Foglalas f ON v.USERNEV=f.UGYFEL_FK\r\n",
                "LEFT JOIN Foglalas f2 ON f.UGYFEL_FK = f2.UGYFEL_FK\r\n",
                "WHERE f.FELNOTT_SZAM + f.GYERMEK_SZAM < (SELECT AVG(FELNOTT_SZAM+GYERMEK_SZAM)FROM Foglalas)\r\n",
                "OR f.FELNOTT_SZAM IS NULL"
            ],
            "metadata": {
                "language": "sql",
                "azdata_cell_guid": "903db975-27bb-475f-9ae8-b1881dedbe41"
            },
            "outputs": [
                {
                    "output_type": "display_data",
                    "data": {
                        "text/html": "(997 rows affected)"
                    },
                    "metadata": {}
                },
                {
                    "output_type": "display_data",
                    "data": {
                        "text/html": "Total execution time: 00:00:00.273"
                    },
                    "metadata": {}
                },
                {
                    "output_type": "execute_result",
                    "metadata": {},
                    "execution_count": 4,
                    "data": {
                        "application/vnd.dataresource+json": {
                            "schema": {
                                "fields": [
                                    {
                                        "name": "USERNEV"
                                    },
                                    {
                                        "name": "NEV"
                                    },
                                    {
                                        "name": "Fő"
                                    },
                                    {
                                        "name": "Előző három foglalás átlaga"
                                    }
                                ]
                            },
                            "data": [
                                {
                                    "USERNEV": "GABORS",
                                    "NEV": "Szöllősi Gábor",
                                    "Fő": "NULL",
                                    "Előző három foglalás átlaga": "NULL"
                                },
                                {
                                    "USERNEV": "adam1",
                                    "NEV": "Kiss Ádám",
                                    "Fő": "1",
                                    "Előző három foglalás átlaga": "NULL"
                                },
                                {
                                    "USERNEV": "adam1",
                                    "NEV": "Kiss Ádám",
                                    "Fő": "1",
                                    "Előző három foglalás átlaga": "1"
                                },
                                {
                                    "USERNEV": "adam1",
                                    "NEV": "Kiss Ádám",
                                    "Fő": "1",
                                    "Előző három foglalás átlaga": "2"
                                },
                                {
                                    "USERNEV": "adam3",
                                    "NEV": "Barkóci Ádám",
                                    "Fő": "1",
                                    "Előző három foglalás átlaga": "NULL"
                                },
                                {
                                    "USERNEV": "adam3",
                                    "NEV": "Barkóci Ádám",
                                    "Fő": "1",
                                    "Előző három foglalás átlaga": "2"
                                },
                                {
                                    "USERNEV": "agnes",
                                    "NEV": "Lengyel Ágnes",
                                    "Fő": "1",
                                    "Előző három foglalás átlaga": "NULL"
                                },
                                {
                                    "USERNEV": "agnes",
                                    "NEV": "Lengyel Ágnes",
                                    "Fő": "1",
                                    "Előző három foglalás átlaga": "3"
                                },
                                {
                                    "USERNEV": "agnes",
                                    "NEV": "Lengyel Ágnes",
                                    "Fő": "1",
                                    "Előző három foglalás átlaga": "3"
                                },
                                {
                                    "USERNEV": "agnes",
                                    "NEV": "Lengyel Ágnes",
                                    "Fő": "1",
                                    "Előző három foglalás átlaga": "3"
                                },
                                {
                                    "USERNEV": "agnes",
                                    "NEV": "Lengyel Ágnes",
                                    "Fő": "1",
                                    "Előző három foglalás átlaga": "2"
                                },
                                {
                                    "USERNEV": "agnes3",
                                    "NEV": "Hartyánszky Ágnes",
                                    "Fő": "1",
                                    "Előző három foglalás átlaga": "NULL"
                                },
                                {
                                    "USERNEV": "agnes3",
                                    "NEV": "Hartyánszky Ágnes",
                                    "Fő": "1",
                                    "Előző három foglalás átlaga": "1"
                                },
                                {
                                    "USERNEV": "agnes3",
                                    "NEV": "Hartyánszky Ágnes",
                                    "Fő": "1",
                                    "Előző három foglalás átlaga": "2"
                                },
                                {
                                    "USERNEV": "AGNESH",
                                    "NEV": "Horváth Ágnes",
                                    "Fő": "1",
                                    "Előző három foglalás átlaga": "NULL"
                                },
                                {
                                    "USERNEV": "AGNESH",
                                    "NEV": "Horváth Ágnes",
                                    "Fő": "1",
                                    "Előző három foglalás átlaga": "2"
                                },
                                {
                                    "USERNEV": "AGNESH",
                                    "NEV": "Horváth Ágnes",
                                    "Fő": "1",
                                    "Előző három foglalás átlaga": "3"
                                },
                                {
                                    "USERNEV": "AGNESH",
                                    "NEV": "Horváth Ágnes",
                                    "Fő": "1",
                                    "Előző három foglalás átlaga": "2"
                                },
                                {
                                    "USERNEV": "AGNESH",
                                    "NEV": "Horváth Ágnes",
                                    "Fő": "1",
                                    "Előző három foglalás átlaga": "2"
                                },
                                {
                                    "USERNEV": "AGNESH",
                                    "NEV": "Horváth Ágnes",
                                    "Fő": "1",
                                    "Előző három foglalás átlaga": "1"
                                },
                                {
                                    "USERNEV": "AGNESH",
                                    "NEV": "Horváth Ágnes",
                                    "Fő": "1",
                                    "Előző három foglalás átlaga": "2"
                                },
                                {
                                    "USERNEV": "AGNESH",
                                    "NEV": "Horváth Ágnes",
                                    "Fő": "1",
                                    "Előző három foglalás átlaga": "2"
                                },
                                {
                                    "USERNEV": "AGNESH",
                                    "NEV": "Horváth Ágnes",
                                    "Fő": "1",
                                    "Előző három foglalás átlaga": "3"
                                },
                                {
                                    "USERNEV": "AGNESH",
                                    "NEV": "Horváth Ágnes",
                                    "Fő": "1",
                                    "Előző három foglalás átlaga": "2"
                                },
                                {
                                    "USERNEV": "AGNESH",
                                    "NEV": "Horváth Ágnes",
                                    "Fő": "1",
                                    "Előző három foglalás átlaga": "2"
                                },
                                {
                                    "USERNEV": "AGNESH",
                                    "NEV": "Horváth Ágnes",
                                    "Fő": "1",
                                    "Előző három foglalás átlaga": "1"
                                },
                                {
                                    "USERNEV": "akos",
                                    "NEV": "Bíró Ákos",
                                    "Fő": "1",
                                    "Előző három foglalás átlaga": "NULL"
                                },
                                {
                                    "USERNEV": "akos",
                                    "NEV": "Bíró Ákos",
                                    "Fő": "1",
                                    "Előző három foglalás átlaga": "2"
                                },
                                {
                                    "USERNEV": "akos",
                                    "NEV": "Bíró Ákos",
                                    "Fő": "1",
                                    "Előző három foglalás átlaga": "2"
                                },
                                {
                                    "USERNEV": "akos",
                                    "NEV": "Bíró Ákos",
                                    "Fő": "1",
                                    "Előző három foglalás átlaga": "2"
                                },
                                {
                                    "USERNEV": "akos",
                                    "NEV": "Bíró Ákos",
                                    "Fő": "1",
                                    "Előző három foglalás átlaga": "1"
                                },
                                {
                                    "USERNEV": "akos",
                                    "NEV": "Bíró Ákos",
                                    "Fő": "1",
                                    "Előző három foglalás átlaga": "1"
                                },
                                {
                                    "USERNEV": "akos",
                                    "NEV": "Bíró Ákos",
                                    "Fő": "1",
                                    "Előző három foglalás átlaga": "1"
                                },
                                {
                                    "USERNEV": "akos",
                                    "NEV": "Bíró Ákos",
                                    "Fő": "1",
                                    "Előző három foglalás átlaga": "1"
                                },
                                {
                                    "USERNEV": "akos",
                                    "NEV": "Bíró Ákos",
                                    "Fő": "1",
                                    "Előző három foglalás átlaga": "2"
                                },
                                {
                                    "USERNEV": "akos",
                                    "NEV": "Bíró Ákos",
                                    "Fő": "1",
                                    "Előző három foglalás átlaga": "2"
                                },
                                {
                                    "USERNEV": "akos",
                                    "NEV": "Bíró Ákos",
                                    "Fő": "1",
                                    "Előző három foglalás átlaga": "2"
                                },
                                {
                                    "USERNEV": "akos",
                                    "NEV": "Bíró Ákos",
                                    "Fő": "1",
                                    "Előző három foglalás átlaga": "2"
                                },
                                {
                                    "USERNEV": "akos",
                                    "NEV": "Bíró Ákos",
                                    "Fő": "1",
                                    "Előző három foglalás átlaga": "2"
                                },
                                {
                                    "USERNEV": "akos",
                                    "NEV": "Bíró Ákos",
                                    "Fő": "1",
                                    "Előző három foglalás átlaga": "2"
                                },
                                {
                                    "USERNEV": "akos",
                                    "NEV": "Bíró Ákos",
                                    "Fő": "1",
                                    "Előző három foglalás átlaga": "1"
                                },
                                {
                                    "USERNEV": "akos",
                                    "NEV": "Bíró Ákos",
                                    "Fő": "1",
                                    "Előző három foglalás átlaga": "1"
                                },
                                {
                                    "USERNEV": "akos",
                                    "NEV": "Bíró Ákos",
                                    "Fő": "1",
                                    "Előző három foglalás átlaga": "1"
                                },
                                {
                                    "USERNEV": "akos",
                                    "NEV": "Bíró Ákos",
                                    "Fő": "1",
                                    "Előző három foglalás átlaga": "1"
                                },
                                {
                                    "USERNEV": "akos",
                                    "NEV": "Bíró Ákos",
                                    "Fő": "1",
                                    "Előző három foglalás átlaga": "2"
                                },
                                {
                                    "USERNEV": "akos",
                                    "NEV": "Bíró Ákos",
                                    "Fő": "1",
                                    "Előző három foglalás átlaga": "2"
                                },
                                {
                                    "USERNEV": "aladar",
                                    "NEV": "Dunai Aladár",
                                    "Fő": "1",
                                    "Előző három foglalás átlaga": "NULL"
                                },
                                {
                                    "USERNEV": "aladar",
                                    "NEV": "Dunai Aladár",
                                    "Fő": "1",
                                    "Előző három foglalás átlaga": "1"
                                },
                                {
                                    "USERNEV": "aladar",
                                    "NEV": "Dunai Aladár",
                                    "Fő": "1",
                                    "Előző három foglalás átlaga": "1"
                                },
                                {
                                    "USERNEV": "aladar",
                                    "NEV": "Dunai Aladár",
                                    "Fő": "1",
                                    "Előző három foglalás átlaga": "1"
                                },
                                {
                                    "USERNEV": "aladar",
                                    "NEV": "Dunai Aladár",
                                    "Fő": "1",
                                    "Előző három foglalás átlaga": "1"
                                },
                                {
                                    "USERNEV": "aladar",
                                    "NEV": "Dunai Aladár",
                                    "Fő": "1",
                                    "Előző három foglalás átlaga": "1"
                                },
                                {
                                    "USERNEV": "alexandra",
                                    "NEV": "Bagóczki Alexandra",
                                    "Fő": "1",
                                    "Előző három foglalás átlaga": "NULL"
                                },
                                {
                                    "USERNEV": "alexandra",
                                    "NEV": "Bagóczki Alexandra",
                                    "Fő": "1",
                                    "Előző három foglalás átlaga": "3"
                                },
                                {
                                    "USERNEV": "alexandra",
                                    "NEV": "Bagóczki Alexandra",
                                    "Fő": "1",
                                    "Előző három foglalás átlaga": "2"
                                },
                                {
                                    "USERNEV": "alexandra",
                                    "NEV": "Bagóczki Alexandra",
                                    "Fő": "1",
                                    "Előző három foglalás átlaga": "2"
                                },
                                {
                                    "USERNEV": "alexandra",
                                    "NEV": "Bagóczki Alexandra",
                                    "Fő": "1",
                                    "Előző három foglalás átlaga": "2"
                                },
                                {
                                    "USERNEV": "alexandra",
                                    "NEV": "Bagóczki Alexandra",
                                    "Fő": "1",
                                    "Előző három foglalás átlaga": "2"
                                },
                                {
                                    "USERNEV": "alexandra",
                                    "NEV": "Bagóczki Alexandra",
                                    "Fő": "1",
                                    "Előző három foglalás átlaga": "1"
                                },
                                {
                                    "USERNEV": "andi",
                                    "NEV": "Maródi Andrea",
                                    "Fő": "1",
                                    "Előző három foglalás átlaga": "NULL"
                                },
                                {
                                    "USERNEV": "andi",
                                    "NEV": "Maródi Andrea",
                                    "Fő": "1",
                                    "Előző három foglalás átlaga": "4"
                                },
                                {
                                    "USERNEV": "andi",
                                    "NEV": "Maródi Andrea",
                                    "Fő": "1",
                                    "Előző három foglalás átlaga": "2"
                                },
                                {
                                    "USERNEV": "andi",
                                    "NEV": "Maródi Andrea",
                                    "Fő": "1",
                                    "Előző három foglalás átlaga": "2"
                                },
                                {
                                    "USERNEV": "andi",
                                    "NEV": "Maródi Andrea",
                                    "Fő": "1",
                                    "Előző három foglalás átlaga": "2"
                                },
                                {
                                    "USERNEV": "andras2",
                                    "NEV": "Tóth András",
                                    "Fő": "1",
                                    "Előző három foglalás átlaga": "NULL"
                                },
                                {
                                    "USERNEV": "andras2",
                                    "NEV": "Tóth András",
                                    "Fő": "1",
                                    "Előző három foglalás átlaga": "2"
                                },
                                {
                                    "USERNEV": "andras2",
                                    "NEV": "Tóth András",
                                    "Fő": "1",
                                    "Előző három foglalás átlaga": "1"
                                },
                                {
                                    "USERNEV": "andras2",
                                    "NEV": "Tóth András",
                                    "Fő": "1",
                                    "Előző három foglalás átlaga": "1"
                                },
                                {
                                    "USERNEV": "andras2",
                                    "NEV": "Tóth András",
                                    "Fő": "1",
                                    "Előző három foglalás átlaga": "2"
                                },
                                {
                                    "USERNEV": "andras21",
                                    "NEV": "Molnár András",
                                    "Fő": "1",
                                    "Előző három foglalás átlaga": "NULL"
                                },
                                {
                                    "USERNEV": "andras21",
                                    "NEV": "Molnár András",
                                    "Fő": "1",
                                    "Előző három foglalás átlaga": "1"
                                },
                                {
                                    "USERNEV": "andras21",
                                    "NEV": "Molnár András",
                                    "Fő": "1",
                                    "Előző három foglalás átlaga": "1"
                                },
                                {
                                    "USERNEV": "andras21",
                                    "NEV": "Molnár András",
                                    "Fő": "1",
                                    "Előző három foglalás átlaga": "2"
                                },
                                {
                                    "USERNEV": "andras21",
                                    "NEV": "Molnár András",
                                    "Fő": "1",
                                    "Előző három foglalás átlaga": "2"
                                },
                                {
                                    "USERNEV": "andras21",
                                    "NEV": "Molnár András",
                                    "Fő": "1",
                                    "Előző három foglalás átlaga": "3"
                                },
                                {
                                    "USERNEV": "andras21",
                                    "NEV": "Molnár András",
                                    "Fő": "1",
                                    "Előző három foglalás átlaga": "3"
                                },
                                {
                                    "USERNEV": "andras3",
                                    "NEV": "Vígh András",
                                    "Fő": "1",
                                    "Előző három foglalás átlaga": "NULL"
                                },
                                {
                                    "USERNEV": "andras3",
                                    "NEV": "Vígh András",
                                    "Fő": "1",
                                    "Előző három foglalás átlaga": "2"
                                },
                                {
                                    "USERNEV": "andras3",
                                    "NEV": "Vígh András",
                                    "Fő": "1",
                                    "Előző három foglalás átlaga": "2"
                                },
                                {
                                    "USERNEV": "andras3",
                                    "NEV": "Vígh András",
                                    "Fő": "1",
                                    "Előző három foglalás átlaga": "2"
                                },
                                {
                                    "USERNEV": "andras3",
                                    "NEV": "Vígh András",
                                    "Fő": "1",
                                    "Előző három foglalás átlaga": "2"
                                },
                                {
                                    "USERNEV": "andras3",
                                    "NEV": "Vígh András",
                                    "Fő": "1",
                                    "Előző három foglalás átlaga": "2"
                                },
                                {
                                    "USERNEV": "andras3",
                                    "NEV": "Vígh András",
                                    "Fő": "1",
                                    "Előző három foglalás átlaga": "1"
                                },
                                {
                                    "USERNEV": "andras3",
                                    "NEV": "Vígh András",
                                    "Fő": "1",
                                    "Előző három foglalás átlaga": "1"
                                },
                                {
                                    "USERNEV": "andras3",
                                    "NEV": "Vígh András",
                                    "Fő": "1",
                                    "Előző három foglalás átlaga": "1"
                                },
                                {
                                    "USERNEV": "andras3",
                                    "NEV": "Vígh András",
                                    "Fő": "1",
                                    "Előző három foglalás átlaga": "2"
                                },
                                {
                                    "USERNEV": "andras3",
                                    "NEV": "Vígh András",
                                    "Fő": "1",
                                    "Előző három foglalás átlaga": "2"
                                },
                                {
                                    "USERNEV": "andras3",
                                    "NEV": "Vígh András",
                                    "Fő": "1",
                                    "Előző három foglalás átlaga": "2"
                                },
                                {
                                    "USERNEV": "andras3",
                                    "NEV": "Vígh András",
                                    "Fő": "1",
                                    "Előző három foglalás átlaga": "2"
                                },
                                {
                                    "USERNEV": "andras3",
                                    "NEV": "Vígh András",
                                    "Fő": "1",
                                    "Előző három foglalás átlaga": "2"
                                },
                                {
                                    "USERNEV": "andras3",
                                    "NEV": "Vígh András",
                                    "Fő": "1",
                                    "Előző három foglalás átlaga": "1"
                                },
                                {
                                    "USERNEV": "andras3",
                                    "NEV": "Vígh András",
                                    "Fő": "1",
                                    "Előző három foglalás átlaga": "1"
                                },
                                {
                                    "USERNEV": "andras41",
                                    "NEV": "Komjáti András",
                                    "Fő": "1",
                                    "Előző három foglalás átlaga": "NULL"
                                },
                                {
                                    "USERNEV": "andras41",
                                    "NEV": "Komjáti András",
                                    "Fő": "1",
                                    "Előző három foglalás átlaga": "2"
                                },
                                {
                                    "USERNEV": "andras41",
                                    "NEV": "Komjáti András",
                                    "Fő": "1",
                                    "Előző három foglalás átlaga": "3"
                                },
                                {
                                    "USERNEV": "andras41",
                                    "NEV": "Komjáti András",
                                    "Fő": "1",
                                    "Előző három foglalás átlaga": "3"
                                },
                                {
                                    "USERNEV": "andras41",
                                    "NEV": "Komjáti András",
                                    "Fő": "1",
                                    "Előző három foglalás átlaga": "3"
                                },
                                {
                                    "USERNEV": "andras41",
                                    "NEV": "Komjáti András",
                                    "Fő": "1",
                                    "Előző három foglalás átlaga": "2"
                                },
                                {
                                    "USERNEV": "andras41",
                                    "NEV": "Komjáti András",
                                    "Fő": "1",
                                    "Előző három foglalás átlaga": "2"
                                },
                                {
                                    "USERNEV": "andras41",
                                    "NEV": "Komjáti András",
                                    "Fő": "1",
                                    "Előző három foglalás átlaga": "1"
                                },
                                {
                                    "USERNEV": "andras41",
                                    "NEV": "Komjáti András",
                                    "Fő": "1",
                                    "Előző három foglalás átlaga": "2"
                                },
                                {
                                    "USERNEV": "andras41",
                                    "NEV": "Komjáti András",
                                    "Fő": "1",
                                    "Előző három foglalás átlaga": "1"
                                },
                                {
                                    "USERNEV": "andras41",
                                    "NEV": "Komjáti András",
                                    "Fő": "1",
                                    "Előző három foglalás átlaga": "1"
                                },
                                {
                                    "USERNEV": "andras41",
                                    "NEV": "Komjáti András",
                                    "Fő": "1",
                                    "Előző három foglalás átlaga": "1"
                                },
                                {
                                    "USERNEV": "andras41",
                                    "NEV": "Komjáti András",
                                    "Fő": "1",
                                    "Előző három foglalás átlaga": "2"
                                },
                                {
                                    "USERNEV": "andras41",
                                    "NEV": "Komjáti András",
                                    "Fő": "1",
                                    "Előző három foglalás átlaga": "2"
                                },
                                {
                                    "USERNEV": "andras41",
                                    "NEV": "Komjáti András",
                                    "Fő": "1",
                                    "Előző három foglalás átlaga": "2"
                                },
                                {
                                    "USERNEV": "andras41",
                                    "NEV": "Komjáti András",
                                    "Fő": "1",
                                    "Előző három foglalás átlaga": "3"
                                },
                                {
                                    "USERNEV": "andras41",
                                    "NEV": "Komjáti András",
                                    "Fő": "1",
                                    "Előző három foglalás átlaga": "3"
                                },
                                {
                                    "USERNEV": "andras41",
                                    "NEV": "Komjáti András",
                                    "Fő": "1",
                                    "Előző három foglalás átlaga": "3"
                                },
                                {
                                    "USERNEV": "andras41",
                                    "NEV": "Komjáti András",
                                    "Fő": "1",
                                    "Előző három foglalás átlaga": "2"
                                },
                                {
                                    "USERNEV": "andras41",
                                    "NEV": "Komjáti András",
                                    "Fő": "1",
                                    "Előző három foglalás átlaga": "2"
                                },
                                {
                                    "USERNEV": "andras41",
                                    "NEV": "Komjáti András",
                                    "Fő": "1",
                                    "Előző három foglalás átlaga": "1"
                                },
                                {
                                    "USERNEV": "andras41",
                                    "NEV": "Komjáti András",
                                    "Fő": "1",
                                    "Előző három foglalás átlaga": "2"
                                },
                                {
                                    "USERNEV": "andras41",
                                    "NEV": "Komjáti András",
                                    "Fő": "1",
                                    "Előző három foglalás átlaga": "1"
                                },
                                {
                                    "USERNEV": "andras41",
                                    "NEV": "Komjáti András",
                                    "Fő": "1",
                                    "Előző három foglalás átlaga": "1"
                                },
                                {
                                    "USERNEV": "andras41",
                                    "NEV": "Komjáti András",
                                    "Fő": "1",
                                    "Előző három foglalás átlaga": "1"
                                },
                                {
                                    "USERNEV": "andras41",
                                    "NEV": "Komjáti András",
                                    "Fő": "1",
                                    "Előző három foglalás átlaga": "2"
                                },
                                {
                                    "USERNEV": "andras41",
                                    "NEV": "Komjáti András",
                                    "Fő": "1",
                                    "Előző három foglalás átlaga": "2"
                                },
                                {
                                    "USERNEV": "andras41",
                                    "NEV": "Komjáti András",
                                    "Fő": "1",
                                    "Előző három foglalás átlaga": "2"
                                },
                                {
                                    "USERNEV": "andras41",
                                    "NEV": "Komjáti András",
                                    "Fő": "1",
                                    "Előző három foglalás átlaga": "3"
                                },
                                {
                                    "USERNEV": "andras41",
                                    "NEV": "Komjáti András",
                                    "Fő": "1",
                                    "Előző három foglalás átlaga": "3"
                                },
                                {
                                    "USERNEV": "andras41",
                                    "NEV": "Komjáti András",
                                    "Fő": "1",
                                    "Előző három foglalás átlaga": "3"
                                },
                                {
                                    "USERNEV": "andras41",
                                    "NEV": "Komjáti András",
                                    "Fő": "1",
                                    "Előző három foglalás átlaga": "2"
                                },
                                {
                                    "USERNEV": "andras41",
                                    "NEV": "Komjáti András",
                                    "Fő": "1",
                                    "Előző három foglalás átlaga": "2"
                                },
                                {
                                    "USERNEV": "andras41",
                                    "NEV": "Komjáti András",
                                    "Fő": "1",
                                    "Előző három foglalás átlaga": "1"
                                },
                                {
                                    "USERNEV": "andras41",
                                    "NEV": "Komjáti András",
                                    "Fő": "1",
                                    "Előző három foglalás átlaga": "2"
                                },
                                {
                                    "USERNEV": "andras41",
                                    "NEV": "Komjáti András",
                                    "Fő": "1",
                                    "Előző három foglalás átlaga": "1"
                                },
                                {
                                    "USERNEV": "andras41",
                                    "NEV": "Komjáti András",
                                    "Fő": "1",
                                    "Előző három foglalás átlaga": "1"
                                },
                                {
                                    "USERNEV": "andras41",
                                    "NEV": "Komjáti András",
                                    "Fő": "1",
                                    "Előző három foglalás átlaga": "1"
                                },
                                {
                                    "USERNEV": "andras41",
                                    "NEV": "Komjáti András",
                                    "Fő": "1",
                                    "Előző három foglalás átlaga": "2"
                                },
                                {
                                    "USERNEV": "ANDRASE",
                                    "NEV": "Erdei András",
                                    "Fő": "1",
                                    "Előző három foglalás átlaga": "NULL"
                                },
                                {
                                    "USERNEV": "ANDRASE",
                                    "NEV": "Erdei András",
                                    "Fő": "1",
                                    "Előző három foglalás átlaga": "1"
                                },
                                {
                                    "USERNEV": "ANDRASE",
                                    "NEV": "Erdei András",
                                    "Fő": "1",
                                    "Előző három foglalás átlaga": "2"
                                },
                                {
                                    "USERNEV": "ANDRASE",
                                    "NEV": "Erdei András",
                                    "Fő": "1",
                                    "Előző három foglalás átlaga": "2"
                                },
                                {
                                    "USERNEV": "ANDRASE",
                                    "NEV": "Erdei András",
                                    "Fő": "1",
                                    "Előző három foglalás átlaga": "3"
                                },
                                {
                                    "USERNEV": "andrea4",
                                    "NEV": "Neizer Andrea",
                                    "Fő": "1",
                                    "Előző három foglalás átlaga": "NULL"
                                },
                                {
                                    "USERNEV": "andrea4",
                                    "NEV": "Neizer Andrea",
                                    "Fő": "1",
                                    "Előző három foglalás átlaga": "1"
                                },
                                {
                                    "USERNEV": "andrea4",
                                    "NEV": "Neizer Andrea",
                                    "Fő": "1",
                                    "Előző három foglalás átlaga": "1"
                                },
                                {
                                    "USERNEV": "andrea4",
                                    "NEV": "Neizer Andrea",
                                    "Fő": "1",
                                    "Előző három foglalás átlaga": "2"
                                },
                                {
                                    "USERNEV": "anett3",
                                    "NEV": "Pivarcsi Anett",
                                    "Fő": "1",
                                    "Előző három foglalás átlaga": "NULL"
                                },
                                {
                                    "USERNEV": "anett3",
                                    "NEV": "Pivarcsi Anett",
                                    "Fő": "1",
                                    "Előző három foglalás átlaga": "1"
                                },
                                {
                                    "USERNEV": "anett3",
                                    "NEV": "Pivarcsi Anett",
                                    "Fő": "1",
                                    "Előző három foglalás átlaga": "2"
                                },
                                {
                                    "USERNEV": "anett3",
                                    "NEV": "Pivarcsi Anett",
                                    "Fő": "1",
                                    "Előző három foglalás átlaga": "2"
                                },
                                {
                                    "USERNEV": "anett3",
                                    "NEV": "Pivarcsi Anett",
                                    "Fő": "1",
                                    "Előző három foglalás átlaga": "3"
                                },
                                {
                                    "USERNEV": "anett3",
                                    "NEV": "Pivarcsi Anett",
                                    "Fő": "1",
                                    "Előző három foglalás átlaga": "2"
                                },
                                {
                                    "USERNEV": "anett3",
                                    "NEV": "Pivarcsi Anett",
                                    "Fő": "1",
                                    "Előző három foglalás átlaga": "2"
                                },
                                {
                                    "USERNEV": "anett3",
                                    "NEV": "Pivarcsi Anett",
                                    "Fő": "1",
                                    "Előző három foglalás átlaga": "2"
                                },
                                {
                                    "USERNEV": "anett3",
                                    "NEV": "Pivarcsi Anett",
                                    "Fő": "1",
                                    "Előző három foglalás átlaga": "2"
                                },
                                {
                                    "USERNEV": "anett3",
                                    "NEV": "Pivarcsi Anett",
                                    "Fő": "1",
                                    "Előző három foglalás átlaga": "1"
                                },
                                {
                                    "USERNEV": "anett3",
                                    "NEV": "Pivarcsi Anett",
                                    "Fő": "1",
                                    "Előző három foglalás átlaga": "1"
                                },
                                {
                                    "USERNEV": "anett3",
                                    "NEV": "Pivarcsi Anett",
                                    "Fő": "1",
                                    "Előző három foglalás átlaga": "2"
                                },
                                {
                                    "USERNEV": "anett3",
                                    "NEV": "Pivarcsi Anett",
                                    "Fő": "1",
                                    "Előző három foglalás átlaga": "3"
                                },
                                {
                                    "USERNEV": "anett3",
                                    "NEV": "Pivarcsi Anett",
                                    "Fő": "1",
                                    "Előző három foglalás átlaga": "2"
                                },
                                {
                                    "USERNEV": "anett3",
                                    "NEV": "Pivarcsi Anett",
                                    "Fő": "1",
                                    "Előző három foglalás átlaga": "2"
                                },
                                {
                                    "USERNEV": "anett3",
                                    "NEV": "Pivarcsi Anett",
                                    "Fő": "1",
                                    "Előző három foglalás átlaga": "2"
                                },
                                {
                                    "USERNEV": "aniko4",
                                    "NEV": "Böröcz Anikó",
                                    "Fő": "1",
                                    "Előző három foglalás átlaga": "NULL"
                                },
                                {
                                    "USERNEV": "aniko4",
                                    "NEV": "Böröcz Anikó",
                                    "Fő": "1",
                                    "Előző három foglalás átlaga": "3"
                                },
                                {
                                    "USERNEV": "aniko4",
                                    "NEV": "Böröcz Anikó",
                                    "Fő": "1",
                                    "Előző három foglalás átlaga": "2"
                                },
                                {
                                    "USERNEV": "aniko4",
                                    "NEV": "Böröcz Anikó",
                                    "Fő": "1",
                                    "Előző három foglalás átlaga": "2"
                                },
                                {
                                    "USERNEV": "ANIKOS",
                                    "NEV": "Simon Anikó",
                                    "Fő": "1",
                                    "Előző három foglalás átlaga": "NULL"
                                },
                                {
                                    "USERNEV": "ANIKOS",
                                    "NEV": "Simon Anikó",
                                    "Fő": "1",
                                    "Előző három foglalás átlaga": "2"
                                },
                                {
                                    "USERNEV": "ANIKOS",
                                    "NEV": "Simon Anikó",
                                    "Fő": "1",
                                    "Előző három foglalás átlaga": "2"
                                },
                                {
                                    "USERNEV": "ANIKOS",
                                    "NEV": "Simon Anikó",
                                    "Fő": "1",
                                    "Előző három foglalás átlaga": "2"
                                },
                                {
                                    "USERNEV": "ANIKOS",
                                    "NEV": "Simon Anikó",
                                    "Fő": "1",
                                    "Előző három foglalás átlaga": "2"
                                },
                                {
                                    "USERNEV": "ANIKOS",
                                    "NEV": "Simon Anikó",
                                    "Fő": "1",
                                    "Előző három foglalás átlaga": "2"
                                },
                                {
                                    "USERNEV": "ANIKOS",
                                    "NEV": "Simon Anikó",
                                    "Fő": "1",
                                    "Előző három foglalás átlaga": "2"
                                },
                                {
                                    "USERNEV": "ANIKOS",
                                    "NEV": "Simon Anikó",
                                    "Fő": "1",
                                    "Előző három foglalás átlaga": "1"
                                },
                                {
                                    "USERNEV": "ANIKOS",
                                    "NEV": "Simon Anikó",
                                    "Fő": "1",
                                    "Előző három foglalás átlaga": "2"
                                },
                                {
                                    "USERNEV": "ANNAMARIAR",
                                    "NEV": "Regős Annamária",
                                    "Fő": "1",
                                    "Előző három foglalás átlaga": "NULL"
                                },
                                {
                                    "USERNEV": "ANNAMARIAR",
                                    "NEV": "Regős Annamária",
                                    "Fő": "1",
                                    "Előző három foglalás átlaga": "1"
                                },
                                {
                                    "USERNEV": "ANNAMARIAR",
                                    "NEV": "Regős Annamária",
                                    "Fő": "1",
                                    "Előző három foglalás átlaga": "1"
                                },
                                {
                                    "USERNEV": "ANNAMARIAR",
                                    "NEV": "Regős Annamária",
                                    "Fő": "1",
                                    "Előző három foglalás átlaga": "1"
                                },
                                {
                                    "USERNEV": "ANNAMARIAR",
                                    "NEV": "Regős Annamária",
                                    "Fő": "1",
                                    "Előző három foglalás átlaga": "2"
                                },
                                {
                                    "USERNEV": "ANNAMARIAR",
                                    "NEV": "Regős Annamária",
                                    "Fő": "1",
                                    "Előző három foglalás átlaga": "2"
                                },
                                {
                                    "USERNEV": "ARPADH",
                                    "NEV": "Horváth Árpád",
                                    "Fő": "1",
                                    "Előző három foglalás átlaga": "NULL"
                                },
                                {
                                    "USERNEV": "ARPADH",
                                    "NEV": "Horváth Árpád",
                                    "Fő": "1",
                                    "Előző három foglalás átlaga": "2"
                                },
                                {
                                    "USERNEV": "ARPADH",
                                    "NEV": "Horváth Árpád",
                                    "Fő": "1",
                                    "Előző három foglalás átlaga": "2"
                                },
                                {
                                    "USERNEV": "ARPADH",
                                    "NEV": "Horváth Árpád",
                                    "Fő": "1",
                                    "Előző három foglalás átlaga": "2"
                                },
                                {
                                    "USERNEV": "ARPADH",
                                    "NEV": "Horváth Árpád",
                                    "Fő": "1",
                                    "Előző három foglalás átlaga": "1"
                                },
                                {
                                    "USERNEV": "ARPADH",
                                    "NEV": "Horváth Árpád",
                                    "Fő": "1",
                                    "Előző három foglalás átlaga": "1"
                                },
                                {
                                    "USERNEV": "ARPADH",
                                    "NEV": "Horváth Árpád",
                                    "Fő": "1",
                                    "Előző három foglalás átlaga": "1"
                                },
                                {
                                    "USERNEV": "ARPADH",
                                    "NEV": "Horváth Árpád",
                                    "Fő": "1",
                                    "Előző három foglalás átlaga": "2"
                                },
                                {
                                    "USERNEV": "ARPADH",
                                    "NEV": "Horváth Árpád",
                                    "Fő": "1",
                                    "Előző három foglalás átlaga": "2"
                                },
                                {
                                    "USERNEV": "ARPADH",
                                    "NEV": "Horváth Árpád",
                                    "Fő": "1",
                                    "Előző három foglalás átlaga": "2"
                                },
                                {
                                    "USERNEV": "ARPADH",
                                    "NEV": "Horváth Árpád",
                                    "Fő": "1",
                                    "Előző három foglalás átlaga": "2"
                                },
                                {
                                    "USERNEV": "ARPADH",
                                    "NEV": "Horváth Árpád",
                                    "Fő": "1",
                                    "Előző három foglalás átlaga": "1"
                                },
                                {
                                    "USERNEV": "ARPADH",
                                    "NEV": "Horváth Árpád",
                                    "Fő": "1",
                                    "Előző három foglalás átlaga": "1"
                                },
                                {
                                    "USERNEV": "ARPADH",
                                    "NEV": "Horváth Árpád",
                                    "Fő": "1",
                                    "Előző három foglalás átlaga": "1"
                                },
                                {
                                    "USERNEV": "ARPADH",
                                    "NEV": "Horváth Árpád",
                                    "Fő": "1",
                                    "Előző három foglalás átlaga": "2"
                                },
                                {
                                    "USERNEV": "ARPADH",
                                    "NEV": "Horváth Árpád",
                                    "Fő": "1",
                                    "Előző három foglalás átlaga": "2"
                                },
                                {
                                    "USERNEV": "ARPADH",
                                    "NEV": "Horváth Árpád",
                                    "Fő": "1",
                                    "Előző három foglalás átlaga": "2"
                                },
                                {
                                    "USERNEV": "ARPADH",
                                    "NEV": "Horváth Árpád",
                                    "Fő": "1",
                                    "Előző három foglalás átlaga": "2"
                                },
                                {
                                    "USERNEV": "ARPADH",
                                    "NEV": "Horváth Árpád",
                                    "Fő": "1",
                                    "Előző három foglalás átlaga": "1"
                                },
                                {
                                    "USERNEV": "ARPADH",
                                    "NEV": "Horváth Árpád",
                                    "Fő": "1",
                                    "Előző három foglalás átlaga": "1"
                                },
                                {
                                    "USERNEV": "ARPADH",
                                    "NEV": "Horváth Árpád",
                                    "Fő": "1",
                                    "Előző három foglalás átlaga": "1"
                                },
                                {
                                    "USERNEV": "ARPADM",
                                    "NEV": "Móricz Árpád",
                                    "Fő": "1",
                                    "Előző három foglalás átlaga": "NULL"
                                },
                                {
                                    "USERNEV": "ARPADM",
                                    "NEV": "Móricz Árpád",
                                    "Fő": "1",
                                    "Előző három foglalás átlaga": "2"
                                },
                                {
                                    "USERNEV": "ARPADM",
                                    "NEV": "Móricz Árpád",
                                    "Fő": "1",
                                    "Előző három foglalás átlaga": "2"
                                },
                                {
                                    "USERNEV": "ARPADM",
                                    "NEV": "Móricz Árpád",
                                    "Fő": "1",
                                    "Előző három foglalás átlaga": "2"
                                },
                                {
                                    "USERNEV": "ARPADM",
                                    "NEV": "Móricz Árpád",
                                    "Fő": "1",
                                    "Előző három foglalás átlaga": "2"
                                },
                                {
                                    "USERNEV": "ARPADM",
                                    "NEV": "Móricz Árpád",
                                    "Fő": "1",
                                    "Előző három foglalás átlaga": "2"
                                },
                                {
                                    "USERNEV": "attila",
                                    "NEV": "Csóti Attila",
                                    "Fő": "1",
                                    "Előző három foglalás átlaga": "NULL"
                                },
                                {
                                    "USERNEV": "attila",
                                    "NEV": "Csóti Attila",
                                    "Fő": "1",
                                    "Előző három foglalás átlaga": "3"
                                },
                                {
                                    "USERNEV": "attila",
                                    "NEV": "Csóti Attila",
                                    "Fő": "1",
                                    "Előző három foglalás átlaga": "2"
                                },
                                {
                                    "USERNEV": "attila1",
                                    "NEV": "Gulyás Attila",
                                    "Fő": "1",
                                    "Előző három foglalás átlaga": "NULL"
                                },
                                {
                                    "USERNEV": "attila1",
                                    "NEV": "Gulyás Attila",
                                    "Fő": "1",
                                    "Előző három foglalás átlaga": "1"
                                },
                                {
                                    "USERNEV": "attila1",
                                    "NEV": "Gulyás Attila",
                                    "Fő": "1",
                                    "Előző három foglalás átlaga": "1"
                                },
                                {
                                    "USERNEV": "attila1",
                                    "NEV": "Gulyás Attila",
                                    "Fő": "1",
                                    "Előző három foglalás átlaga": "2"
                                },
                                {
                                    "USERNEV": "attila1",
                                    "NEV": "Gulyás Attila",
                                    "Fő": "1",
                                    "Előző három foglalás átlaga": "2"
                                },
                                {
                                    "USERNEV": "attila1",
                                    "NEV": "Gulyás Attila",
                                    "Fő": "1",
                                    "Előző három foglalás átlaga": "2"
                                },
                                {
                                    "USERNEV": "balazs2",
                                    "NEV": "Szűcs Balázs",
                                    "Fő": "1",
                                    "Előző három foglalás átlaga": "NULL"
                                },
                                {
                                    "USERNEV": "balazs2",
                                    "NEV": "Szűcs Balázs",
                                    "Fő": "1",
                                    "Előző három foglalás átlaga": "2"
                                },
                                {
                                    "USERNEV": "balazs2",
                                    "NEV": "Szűcs Balázs",
                                    "Fő": "1",
                                    "Előző három foglalás átlaga": "2"
                                },
                                {
                                    "USERNEV": "balazs2",
                                    "NEV": "Szűcs Balázs",
                                    "Fő": "1",
                                    "Előző három foglalás átlaga": "2"
                                },
                                {
                                    "USERNEV": "balazs2",
                                    "NEV": "Szűcs Balázs",
                                    "Fő": "1",
                                    "Előző három foglalás átlaga": "2"
                                },
                                {
                                    "USERNEV": "balazs2",
                                    "NEV": "Szűcs Balázs",
                                    "Fő": "1",
                                    "Előző három foglalás átlaga": "3"
                                },
                                {
                                    "USERNEV": "balazs2",
                                    "NEV": "Szűcs Balázs",
                                    "Fő": "1",
                                    "Előző három foglalás átlaga": "3"
                                },
                                {
                                    "USERNEV": "balazs2",
                                    "NEV": "Szűcs Balázs",
                                    "Fő": "1",
                                    "Előző három foglalás átlaga": "3"
                                },
                                {
                                    "USERNEV": "balazs2",
                                    "NEV": "Szűcs Balázs",
                                    "Fő": "1",
                                    "Előző három foglalás átlaga": "3"
                                },
                                {
                                    "USERNEV": "balazs2",
                                    "NEV": "Szűcs Balázs",
                                    "Fő": "1",
                                    "Előző három foglalás átlaga": "3"
                                },
                                {
                                    "USERNEV": "balint1",
                                    "NEV": "Molnár Bálint",
                                    "Fő": "1",
                                    "Előző három foglalás átlaga": "NULL"
                                },
                                {
                                    "USERNEV": "balint1",
                                    "NEV": "Molnár Bálint",
                                    "Fő": "1",
                                    "Előző három foglalás átlaga": "2"
                                },
                                {
                                    "USERNEV": "balint1",
                                    "NEV": "Molnár Bálint",
                                    "Fő": "1",
                                    "Előző három foglalás átlaga": "2"
                                },
                                {
                                    "USERNEV": "balint1",
                                    "NEV": "Molnár Bálint",
                                    "Fő": "1",
                                    "Előző három foglalás átlaga": "2"
                                },
                                {
                                    "USERNEV": "balint1",
                                    "NEV": "Molnár Bálint",
                                    "Fő": "1",
                                    "Előző három foglalás átlaga": "2"
                                },
                                {
                                    "USERNEV": "balint1",
                                    "NEV": "Molnár Bálint",
                                    "Fő": "1",
                                    "Előző három foglalás átlaga": "2"
                                },
                                {
                                    "USERNEV": "balint1",
                                    "NEV": "Molnár Bálint",
                                    "Fő": "1",
                                    "Előző három foglalás átlaga": "2"
                                },
                                {
                                    "USERNEV": "balint1",
                                    "NEV": "Molnár Bálint",
                                    "Fő": "1",
                                    "Előző három foglalás átlaga": "1"
                                },
                                {
                                    "USERNEV": "balint1",
                                    "NEV": "Molnár Bálint",
                                    "Fő": "1",
                                    "Előző három foglalás átlaga": "1"
                                },
                                {
                                    "USERNEV": "balint1",
                                    "NEV": "Molnár Bálint",
                                    "Fő": "1",
                                    "Előző három foglalás átlaga": "2"
                                },
                                {
                                    "USERNEV": "balint1",
                                    "NEV": "Molnár Bálint",
                                    "Fő": "1",
                                    "Előző három foglalás átlaga": "2"
                                },
                                {
                                    "USERNEV": "balint1",
                                    "NEV": "Molnár Bálint",
                                    "Fő": "1",
                                    "Előző három foglalás átlaga": "2"
                                },
                                {
                                    "USERNEV": "balint1",
                                    "NEV": "Molnár Bálint",
                                    "Fő": "1",
                                    "Előző három foglalás átlaga": "2"
                                },
                                {
                                    "USERNEV": "balint1",
                                    "NEV": "Molnár Bálint",
                                    "Fő": "1",
                                    "Előző három foglalás átlaga": "2"
                                },
                                {
                                    "USERNEV": "balint1",
                                    "NEV": "Molnár Bálint",
                                    "Fő": "1",
                                    "Előző három foglalás átlaga": "2"
                                },
                                {
                                    "USERNEV": "balint1",
                                    "NEV": "Molnár Bálint",
                                    "Fő": "1",
                                    "Előző három foglalás átlaga": "2"
                                },
                                {
                                    "USERNEV": "balint1",
                                    "NEV": "Molnár Bálint",
                                    "Fő": "1",
                                    "Előző három foglalás átlaga": "2"
                                },
                                {
                                    "USERNEV": "balint1",
                                    "NEV": "Molnár Bálint",
                                    "Fő": "1",
                                    "Előző három foglalás átlaga": "1"
                                },
                                {
                                    "USERNEV": "balint1",
                                    "NEV": "Molnár Bálint",
                                    "Fő": "1",
                                    "Előző három foglalás átlaga": "1"
                                },
                                {
                                    "USERNEV": "balint1",
                                    "NEV": "Molnár Bálint",
                                    "Fő": "1",
                                    "Előző három foglalás átlaga": "2"
                                },
                                {
                                    "USERNEV": "balint2",
                                    "NEV": "Vukasinovity Bálint",
                                    "Fő": "1",
                                    "Előző három foglalás átlaga": "NULL"
                                },
                                {
                                    "USERNEV": "balint2",
                                    "NEV": "Vukasinovity Bálint",
                                    "Fő": "1",
                                    "Előző három foglalás átlaga": "1"
                                },
                                {
                                    "USERNEV": "beata4",
                                    "NEV": "Bagi Beáta",
                                    "Fő": "1",
                                    "Előző három foglalás átlaga": "NULL"
                                },
                                {
                                    "USERNEV": "beata4",
                                    "NEV": "Bagi Beáta",
                                    "Fő": "1",
                                    "Előző három foglalás átlaga": "2"
                                },
                                {
                                    "USERNEV": "beata4",
                                    "NEV": "Bagi Beáta",
                                    "Fő": "1",
                                    "Előző három foglalás átlaga": "2"
                                },
                                {
                                    "USERNEV": "beata4",
                                    "NEV": "Bagi Beáta",
                                    "Fő": "1",
                                    "Előző három foglalás átlaga": "2"
                                },
                                {
                                    "USERNEV": "beata4",
                                    "NEV": "Bagi Beáta",
                                    "Fő": "1",
                                    "Előző három foglalás átlaga": "2"
                                },
                                {
                                    "USERNEV": "beata4",
                                    "NEV": "Bagi Beáta",
                                    "Fő": "1",
                                    "Előző három foglalás átlaga": "1"
                                },
                                {
                                    "USERNEV": "beata4",
                                    "NEV": "Bagi Beáta",
                                    "Fő": "1",
                                    "Előző három foglalás átlaga": "1"
                                },
                                {
                                    "USERNEV": "beata4",
                                    "NEV": "Bagi Beáta",
                                    "Fő": "1",
                                    "Előző három foglalás átlaga": "2"
                                },
                                {
                                    "USERNEV": "beata4",
                                    "NEV": "Bagi Beáta",
                                    "Fő": "1",
                                    "Előző három foglalás átlaga": "2"
                                },
                                {
                                    "USERNEV": "beata4",
                                    "NEV": "Bagi Beáta",
                                    "Fő": "1",
                                    "Előző három foglalás átlaga": "2"
                                },
                                {
                                    "USERNEV": "beata4",
                                    "NEV": "Bagi Beáta",
                                    "Fő": "1",
                                    "Előző három foglalás átlaga": "2"
                                },
                                {
                                    "USERNEV": "beata4",
                                    "NEV": "Bagi Beáta",
                                    "Fő": "1",
                                    "Előző három foglalás átlaga": "1"
                                },
                                {
                                    "USERNEV": "BEATRIXS",
                                    "NEV": "Szekendi Beatrix",
                                    "Fő": "1",
                                    "Előző három foglalás átlaga": "NULL"
                                },
                                {
                                    "USERNEV": "BEATRIXS",
                                    "NEV": "Szekendi Beatrix",
                                    "Fő": "1",
                                    "Előző három foglalás átlaga": "1"
                                },
                                {
                                    "USERNEV": "BEATRIXS",
                                    "NEV": "Szekendi Beatrix",
                                    "Fő": "1",
                                    "Előző három foglalás átlaga": "2"
                                },
                                {
                                    "USERNEV": "BEATRIXS",
                                    "NEV": "Szekendi Beatrix",
                                    "Fő": "1",
                                    "Előző három foglalás átlaga": "2"
                                },
                                {
                                    "USERNEV": "BEATRIXS",
                                    "NEV": "Szekendi Beatrix",
                                    "Fő": "1",
                                    "Előző három foglalás átlaga": "3"
                                },
                                {
                                    "USERNEV": "BEATRIXS",
                                    "NEV": "Szekendi Beatrix",
                                    "Fő": "1",
                                    "Előző három foglalás átlaga": "2"
                                },
                                {
                                    "USERNEV": "BELAF",
                                    "NEV": "Farkas Béla",
                                    "Fő": "1",
                                    "Előző három foglalás átlaga": "NULL"
                                },
                                {
                                    "USERNEV": "BELAF",
                                    "NEV": "Farkas Béla",
                                    "Fő": "1",
                                    "Előző három foglalás átlaga": "3"
                                },
                                {
                                    "USERNEV": "BELAF",
                                    "NEV": "Farkas Béla",
                                    "Fő": "1",
                                    "Előző három foglalás átlaga": "2"
                                },
                                {
                                    "USERNEV": "BELAF",
                                    "NEV": "Farkas Béla",
                                    "Fő": "1",
                                    "Előző három foglalás átlaga": "2"
                                },
                                {
                                    "USERNEV": "BELAF",
                                    "NEV": "Farkas Béla",
                                    "Fő": "1",
                                    "Előző három foglalás átlaga": "1"
                                },
                                {
                                    "USERNEV": "BELAF",
                                    "NEV": "Farkas Béla",
                                    "Fő": "1",
                                    "Előző három foglalás átlaga": "2"
                                },
                                {
                                    "USERNEV": "bence",
                                    "NEV": "Győrffy Bence",
                                    "Fő": "1",
                                    "Előző három foglalás átlaga": "NULL"
                                },
                                {
                                    "USERNEV": "bence",
                                    "NEV": "Győrffy Bence",
                                    "Fő": "1",
                                    "Előző három foglalás átlaga": "2"
                                },
                                {
                                    "USERNEV": "bence",
                                    "NEV": "Győrffy Bence",
                                    "Fő": "1",
                                    "Előző három foglalás átlaga": "2"
                                },
                                {
                                    "USERNEV": "bence",
                                    "NEV": "Győrffy Bence",
                                    "Fő": "1",
                                    "Előző három foglalás átlaga": "2"
                                },
                                {
                                    "USERNEV": "bence",
                                    "NEV": "Győrffy Bence",
                                    "Fő": "1",
                                    "Előző három foglalás átlaga": "2"
                                },
                                {
                                    "USERNEV": "bence",
                                    "NEV": "Győrffy Bence",
                                    "Fő": "1",
                                    "Előző három foglalás átlaga": "2"
                                },
                                {
                                    "USERNEV": "bence",
                                    "NEV": "Győrffy Bence",
                                    "Fő": "1",
                                    "Előző három foglalás átlaga": "2"
                                },
                                {
                                    "USERNEV": "bence",
                                    "NEV": "Győrffy Bence",
                                    "Fő": "1",
                                    "Előző három foglalás átlaga": "2"
                                },
                                {
                                    "USERNEV": "bence",
                                    "NEV": "Győrffy Bence",
                                    "Fő": "1",
                                    "Előző három foglalás átlaga": "2"
                                },
                                {
                                    "USERNEV": "bernadett1",
                                    "NEV": "Simon Bernadett",
                                    "Fő": "1",
                                    "Előző három foglalás átlaga": "NULL"
                                },
                                {
                                    "USERNEV": "bernadett1",
                                    "NEV": "Simon Bernadett",
                                    "Fő": "1",
                                    "Előző három foglalás átlaga": "3"
                                },
                                {
                                    "USERNEV": "bernadett1",
                                    "NEV": "Simon Bernadett",
                                    "Fő": "1",
                                    "Előző három foglalás átlaga": "3"
                                },
                                {
                                    "USERNEV": "bernadett1",
                                    "NEV": "Simon Bernadett",
                                    "Fő": "1",
                                    "Előző három foglalás átlaga": "3"
                                },
                                {
                                    "USERNEV": "bernadett1",
                                    "NEV": "Simon Bernadett",
                                    "Fő": "1",
                                    "Előző három foglalás átlaga": "2"
                                },
                                {
                                    "USERNEV": "bernadett1",
                                    "NEV": "Simon Bernadett",
                                    "Fő": "1",
                                    "Előző három foglalás átlaga": "2"
                                },
                                {
                                    "USERNEV": "bernadett1",
                                    "NEV": "Simon Bernadett",
                                    "Fő": "1",
                                    "Előző három foglalás átlaga": "2"
                                },
                                {
                                    "USERNEV": "bernadett2",
                                    "NEV": "Kovács Bernadett",
                                    "Fő": "1",
                                    "Előző három foglalás átlaga": "NULL"
                                },
                                {
                                    "USERNEV": "bernadett2",
                                    "NEV": "Kovács Bernadett",
                                    "Fő": "1",
                                    "Előző három foglalás átlaga": "2"
                                },
                                {
                                    "USERNEV": "bernadett2",
                                    "NEV": "Kovács Bernadett",
                                    "Fő": "1",
                                    "Előző három foglalás átlaga": "2"
                                },
                                {
                                    "USERNEV": "bernadett2",
                                    "NEV": "Kovács Bernadett",
                                    "Fő": "1",
                                    "Előző három foglalás átlaga": "2"
                                },
                                {
                                    "USERNEV": "bernadett2",
                                    "NEV": "Kovács Bernadett",
                                    "Fő": "1",
                                    "Előző három foglalás átlaga": "2"
                                },
                                {
                                    "USERNEV": "bernadett2",
                                    "NEV": "Kovács Bernadett",
                                    "Fő": "1",
                                    "Előző három foglalás átlaga": "3"
                                },
                                {
                                    "USERNEV": "bernadett2",
                                    "NEV": "Kovács Bernadett",
                                    "Fő": "1",
                                    "Előző három foglalás átlaga": "3"
                                },
                                {
                                    "USERNEV": "bernadett2",
                                    "NEV": "Kovács Bernadett",
                                    "Fő": "1",
                                    "Előző három foglalás átlaga": "2"
                                },
                                {
                                    "USERNEV": "bertalan",
                                    "NEV": "Csiger Bertalan",
                                    "Fő": "1",
                                    "Előző három foglalás átlaga": "NULL"
                                },
                                {
                                    "USERNEV": "bertalan",
                                    "NEV": "Csiger Bertalan",
                                    "Fő": "1",
                                    "Előző három foglalás átlaga": "2"
                                },
                                {
                                    "USERNEV": "bertalan",
                                    "NEV": "Csiger Bertalan",
                                    "Fő": "1",
                                    "Előző három foglalás átlaga": "2"
                                },
                                {
                                    "USERNEV": "bertalan",
                                    "NEV": "Csiger Bertalan",
                                    "Fő": "1",
                                    "Előző három foglalás átlaga": "2"
                                },
                                {
                                    "USERNEV": "bertalan",
                                    "NEV": "Csiger Bertalan",
                                    "Fő": "1",
                                    "Előző három foglalás átlaga": "2"
                                },
                                {
                                    "USERNEV": "bertalan",
                                    "NEV": "Csiger Bertalan",
                                    "Fő": "1",
                                    "Előző három foglalás átlaga": "3"
                                },
                                {
                                    "USERNEV": "brigitta",
                                    "NEV": "Székely Brigitta",
                                    "Fő": "1",
                                    "Előző három foglalás átlaga": "NULL"
                                },
                                {
                                    "USERNEV": "brigitta",
                                    "NEV": "Székely Brigitta",
                                    "Fő": "1",
                                    "Előző három foglalás átlaga": "3"
                                },
                                {
                                    "USERNEV": "brigitta",
                                    "NEV": "Székely Brigitta",
                                    "Fő": "1",
                                    "Előző három foglalás átlaga": "3"
                                },
                                {
                                    "USERNEV": "brigitta",
                                    "NEV": "Székely Brigitta",
                                    "Fő": "1",
                                    "Előző három foglalás átlaga": "3"
                                },
                                {
                                    "USERNEV": "brigitta",
                                    "NEV": "Székely Brigitta",
                                    "Fő": "1",
                                    "Előző három foglalás átlaga": "2"
                                },
                                {
                                    "USERNEV": "dani",
                                    "NEV": "Vörös Dániel",
                                    "Fő": "1",
                                    "Előző három foglalás átlaga": "NULL"
                                },
                                {
                                    "USERNEV": "dani",
                                    "NEV": "Vörös Dániel",
                                    "Fő": "1",
                                    "Előző három foglalás átlaga": "2"
                                },
                                {
                                    "USERNEV": "dani",
                                    "NEV": "Vörös Dániel",
                                    "Fő": "1",
                                    "Előző három foglalás átlaga": "2"
                                },
                                {
                                    "USERNEV": "dani",
                                    "NEV": "Vörös Dániel",
                                    "Fő": "1",
                                    "Előző három foglalás átlaga": "2"
                                },
                                {
                                    "USERNEV": "dani",
                                    "NEV": "Vörös Dániel",
                                    "Fő": "1",
                                    "Előző három foglalás átlaga": "3"
                                },
                                {
                                    "USERNEV": "dani",
                                    "NEV": "Vörös Dániel",
                                    "Fő": "1",
                                    "Előző három foglalás átlaga": "2"
                                },
                                {
                                    "USERNEV": "dani",
                                    "NEV": "Vörös Dániel",
                                    "Fő": "1",
                                    "Előző három foglalás átlaga": "2"
                                },
                                {
                                    "USERNEV": "dani",
                                    "NEV": "Vörös Dániel",
                                    "Fő": "1",
                                    "Előző három foglalás átlaga": "1"
                                },
                                {
                                    "USERNEV": "dani",
                                    "NEV": "Vörös Dániel",
                                    "Fő": "1",
                                    "Előző három foglalás átlaga": "1"
                                },
                                {
                                    "USERNEV": "dani",
                                    "NEV": "Vörös Dániel",
                                    "Fő": "1",
                                    "Előző három foglalás átlaga": "2"
                                },
                                {
                                    "USERNEV": "dani",
                                    "NEV": "Vörös Dániel",
                                    "Fő": "1",
                                    "Előző három foglalás átlaga": "2"
                                },
                                {
                                    "USERNEV": "dani",
                                    "NEV": "Vörös Dániel",
                                    "Fő": "1",
                                    "Előző három foglalás átlaga": "2"
                                },
                                {
                                    "USERNEV": "dani",
                                    "NEV": "Vörös Dániel",
                                    "Fő": "1",
                                    "Előző három foglalás átlaga": "2"
                                },
                                {
                                    "USERNEV": "dani",
                                    "NEV": "Vörös Dániel",
                                    "Fő": "1",
                                    "Előző három foglalás átlaga": "3"
                                },
                                {
                                    "USERNEV": "dani",
                                    "NEV": "Vörös Dániel",
                                    "Fő": "1",
                                    "Előző három foglalás átlaga": "2"
                                },
                                {
                                    "USERNEV": "dani",
                                    "NEV": "Vörös Dániel",
                                    "Fő": "1",
                                    "Előző három foglalás átlaga": "2"
                                },
                                {
                                    "USERNEV": "dani",
                                    "NEV": "Vörös Dániel",
                                    "Fő": "1",
                                    "Előző három foglalás átlaga": "1"
                                },
                                {
                                    "USERNEV": "dani",
                                    "NEV": "Vörös Dániel",
                                    "Fő": "1",
                                    "Előző három foglalás átlaga": "1"
                                },
                                {
                                    "USERNEV": "daniel",
                                    "NEV": "Rácz Dániel",
                                    "Fő": "1",
                                    "Előző három foglalás átlaga": "NULL"
                                },
                                {
                                    "USERNEV": "daniel",
                                    "NEV": "Rácz Dániel",
                                    "Fő": "1",
                                    "Előző három foglalás átlaga": "4"
                                },
                                {
                                    "USERNEV": "daniel",
                                    "NEV": "Rácz Dániel",
                                    "Fő": "1",
                                    "Előző három foglalás átlaga": "3"
                                },
                                {
                                    "USERNEV": "daniel",
                                    "NEV": "Rácz Dániel",
                                    "Fő": "1",
                                    "Előző három foglalás átlaga": "3"
                                },
                                {
                                    "USERNEV": "daniel",
                                    "NEV": "Rácz Dániel",
                                    "Fő": "1",
                                    "Előző három foglalás átlaga": "3"
                                },
                                {
                                    "USERNEV": "daniel",
                                    "NEV": "Rácz Dániel",
                                    "Fő": "1",
                                    "Előző három foglalás átlaga": "3"
                                },
                                {
                                    "USERNEV": "daniel",
                                    "NEV": "Rácz Dániel",
                                    "Fő": "1",
                                    "Előző három foglalás átlaga": "3"
                                },
                                {
                                    "USERNEV": "daniel",
                                    "NEV": "Rácz Dániel",
                                    "Fő": "1",
                                    "Előző három foglalás átlaga": "2"
                                },
                                {
                                    "USERNEV": "daniel",
                                    "NEV": "Rácz Dániel",
                                    "Fő": "1",
                                    "Előző három foglalás átlaga": "2"
                                },
                                {
                                    "USERNEV": "david",
                                    "NEV": "Ambrus Dávid",
                                    "Fő": "1",
                                    "Előző három foglalás átlaga": "NULL"
                                },
                                {
                                    "USERNEV": "david",
                                    "NEV": "Ambrus Dávid",
                                    "Fő": "1",
                                    "Előző három foglalás átlaga": "2"
                                },
                                {
                                    "USERNEV": "david",
                                    "NEV": "Ambrus Dávid",
                                    "Fő": "1",
                                    "Előző három foglalás átlaga": "2"
                                },
                                {
                                    "USERNEV": "david",
                                    "NEV": "Ambrus Dávid",
                                    "Fő": "1",
                                    "Előző három foglalás átlaga": "1"
                                },
                                {
                                    "USERNEV": "david",
                                    "NEV": "Ambrus Dávid",
                                    "Fő": "1",
                                    "Előző három foglalás átlaga": "2"
                                },
                                {
                                    "USERNEV": "david",
                                    "NEV": "Ambrus Dávid",
                                    "Fő": "1",
                                    "Előző három foglalás átlaga": "2"
                                },
                                {
                                    "USERNEV": "david",
                                    "NEV": "Ambrus Dávid",
                                    "Fő": "1",
                                    "Előző három foglalás átlaga": "2"
                                },
                                {
                                    "USERNEV": "david",
                                    "NEV": "Ambrus Dávid",
                                    "Fő": "1",
                                    "Előző három foglalás átlaga": "2"
                                },
                                {
                                    "USERNEV": "david",
                                    "NEV": "Ambrus Dávid",
                                    "Fő": "1",
                                    "Előző három foglalás átlaga": "2"
                                },
                                {
                                    "USERNEV": "emese",
                                    "NEV": "Kuruc Emese",
                                    "Fő": "1",
                                    "Előző három foglalás átlaga": "NULL"
                                },
                                {
                                    "USERNEV": "emese",
                                    "NEV": "Kuruc Emese",
                                    "Fő": "1",
                                    "Előző három foglalás átlaga": "2"
                                },
                                {
                                    "USERNEV": "emese",
                                    "NEV": "Kuruc Emese",
                                    "Fő": "1",
                                    "Előző három foglalás átlaga": "2"
                                },
                                {
                                    "USERNEV": "emese",
                                    "NEV": "Kuruc Emese",
                                    "Fő": "1",
                                    "Előző három foglalás átlaga": "2"
                                },
                                {
                                    "USERNEV": "emese",
                                    "NEV": "Kuruc Emese",
                                    "Fő": "1",
                                    "Előző három foglalás átlaga": "2"
                                },
                                {
                                    "USERNEV": "emese",
                                    "NEV": "Kuruc Emese",
                                    "Fő": "1",
                                    "Előző három foglalás átlaga": "2"
                                },
                                {
                                    "USERNEV": "emese",
                                    "NEV": "Kuruc Emese",
                                    "Fő": "1",
                                    "Előző három foglalás átlaga": "2"
                                },
                                {
                                    "USERNEV": "eszter2",
                                    "NEV": "Balogh Eszter",
                                    "Fő": "1",
                                    "Előző három foglalás átlaga": "NULL"
                                },
                                {
                                    "USERNEV": "eszter2",
                                    "NEV": "Balogh Eszter",
                                    "Fő": "1",
                                    "Előző három foglalás átlaga": "3"
                                },
                                {
                                    "USERNEV": "eszter2",
                                    "NEV": "Balogh Eszter",
                                    "Fő": "1",
                                    "Előző három foglalás átlaga": "2"
                                },
                                {
                                    "USERNEV": "eszter2",
                                    "NEV": "Balogh Eszter",
                                    "Fő": "1",
                                    "Előző három foglalás átlaga": "2"
                                },
                                {
                                    "USERNEV": "eszter2",
                                    "NEV": "Balogh Eszter",
                                    "Fő": "1",
                                    "Előző három foglalás átlaga": "1"
                                },
                                {
                                    "USERNEV": "eszter2",
                                    "NEV": "Balogh Eszter",
                                    "Fő": "1",
                                    "Előző három foglalás átlaga": "1"
                                },
                                {
                                    "USERNEV": "eszter2",
                                    "NEV": "Balogh Eszter",
                                    "Fő": "1",
                                    "Előző három foglalás átlaga": "1"
                                },
                                {
                                    "USERNEV": "eszter2",
                                    "NEV": "Balogh Eszter",
                                    "Fő": "1",
                                    "Előző három foglalás átlaga": "2"
                                },
                                {
                                    "USERNEV": "eszter2",
                                    "NEV": "Balogh Eszter",
                                    "Fő": "1",
                                    "Előző három foglalás átlaga": "2"
                                },
                                {
                                    "USERNEV": "eszter2",
                                    "NEV": "Balogh Eszter",
                                    "Fő": "1",
                                    "Előző három foglalás átlaga": "2"
                                },
                                {
                                    "USERNEV": "eszter2",
                                    "NEV": "Balogh Eszter",
                                    "Fő": "1",
                                    "Előző három foglalás átlaga": "1"
                                },
                                {
                                    "USERNEV": "eszter2",
                                    "NEV": "Balogh Eszter",
                                    "Fő": "1",
                                    "Előző három foglalás átlaga": "2"
                                },
                                {
                                    "USERNEV": "eszter2",
                                    "NEV": "Balogh Eszter",
                                    "Fő": "1",
                                    "Előző három foglalás átlaga": "1"
                                },
                                {
                                    "USERNEV": "eszter2",
                                    "NEV": "Balogh Eszter",
                                    "Fő": "1",
                                    "Előző három foglalás átlaga": "2"
                                },
                                {
                                    "USERNEV": "eszter2",
                                    "NEV": "Balogh Eszter",
                                    "Fő": "1",
                                    "Előző három foglalás átlaga": "1"
                                },
                                {
                                    "USERNEV": "eszter2",
                                    "NEV": "Balogh Eszter",
                                    "Fő": "1",
                                    "Előző három foglalás átlaga": "1"
                                },
                                {
                                    "USERNEV": "eszter2",
                                    "NEV": "Balogh Eszter",
                                    "Fő": "1",
                                    "Előző három foglalás átlaga": "1"
                                },
                                {
                                    "USERNEV": "eszter2",
                                    "NEV": "Balogh Eszter",
                                    "Fő": "1",
                                    "Előző három foglalás átlaga": "2"
                                },
                                {
                                    "USERNEV": "eszter2",
                                    "NEV": "Balogh Eszter",
                                    "Fő": "1",
                                    "Előző három foglalás átlaga": "2"
                                },
                                {
                                    "USERNEV": "eszter2",
                                    "NEV": "Balogh Eszter",
                                    "Fő": "1",
                                    "Előző három foglalás átlaga": "2"
                                },
                                {
                                    "USERNEV": "eszter2",
                                    "NEV": "Balogh Eszter",
                                    "Fő": "1",
                                    "Előző három foglalás átlaga": "1"
                                },
                                {
                                    "USERNEV": "eszter2",
                                    "NEV": "Balogh Eszter",
                                    "Fő": "1",
                                    "Előző három foglalás átlaga": "2"
                                },
                                {
                                    "USERNEV": "eszter2",
                                    "NEV": "Balogh Eszter",
                                    "Fő": "1",
                                    "Előző három foglalás átlaga": "1"
                                },
                                {
                                    "USERNEV": "eszter2",
                                    "NEV": "Balogh Eszter",
                                    "Fő": "1",
                                    "Előző három foglalás átlaga": "2"
                                },
                                {
                                    "USERNEV": "eszter2",
                                    "NEV": "Balogh Eszter",
                                    "Fő": "1",
                                    "Előző három foglalás átlaga": "1"
                                },
                                {
                                    "USERNEV": "eszter2",
                                    "NEV": "Balogh Eszter",
                                    "Fő": "1",
                                    "Előző három foglalás átlaga": "1"
                                },
                                {
                                    "USERNEV": "eszter2",
                                    "NEV": "Balogh Eszter",
                                    "Fő": "1",
                                    "Előző három foglalás átlaga": "1"
                                },
                                {
                                    "USERNEV": "eszter2",
                                    "NEV": "Balogh Eszter",
                                    "Fő": "1",
                                    "Előző három foglalás átlaga": "2"
                                },
                                {
                                    "USERNEV": "eszter2",
                                    "NEV": "Balogh Eszter",
                                    "Fő": "1",
                                    "Előző három foglalás átlaga": "2"
                                },
                                {
                                    "USERNEV": "eszter2",
                                    "NEV": "Balogh Eszter",
                                    "Fő": "1",
                                    "Előző három foglalás átlaga": "2"
                                },
                                {
                                    "USERNEV": "eszter2",
                                    "NEV": "Balogh Eszter",
                                    "Fő": "1",
                                    "Előző három foglalás átlaga": "1"
                                },
                                {
                                    "USERNEV": "eszter2",
                                    "NEV": "Balogh Eszter",
                                    "Fő": "1",
                                    "Előző három foglalás átlaga": "2"
                                },
                                {
                                    "USERNEV": "eszter2",
                                    "NEV": "Balogh Eszter",
                                    "Fő": "1",
                                    "Előző három foglalás átlaga": "1"
                                },
                                {
                                    "USERNEV": "eszter2",
                                    "NEV": "Balogh Eszter",
                                    "Fő": "1",
                                    "Előző három foglalás átlaga": "2"
                                },
                                {
                                    "USERNEV": "eszter2",
                                    "NEV": "Balogh Eszter",
                                    "Fő": "1",
                                    "Előző három foglalás átlaga": "1"
                                },
                                {
                                    "USERNEV": "eszter2",
                                    "NEV": "Balogh Eszter",
                                    "Fő": "1",
                                    "Előző három foglalás átlaga": "1"
                                },
                                {
                                    "USERNEV": "eszter2",
                                    "NEV": "Balogh Eszter",
                                    "Fő": "1",
                                    "Előző három foglalás átlaga": "1"
                                },
                                {
                                    "USERNEV": "eszter2",
                                    "NEV": "Balogh Eszter",
                                    "Fő": "1",
                                    "Előző három foglalás átlaga": "2"
                                },
                                {
                                    "USERNEV": "eszter2",
                                    "NEV": "Balogh Eszter",
                                    "Fő": "1",
                                    "Előző három foglalás átlaga": "2"
                                },
                                {
                                    "USERNEV": "eszter2",
                                    "NEV": "Balogh Eszter",
                                    "Fő": "1",
                                    "Előző három foglalás átlaga": "2"
                                },
                                {
                                    "USERNEV": "eszter2",
                                    "NEV": "Balogh Eszter",
                                    "Fő": "1",
                                    "Előző három foglalás átlaga": "1"
                                },
                                {
                                    "USERNEV": "eszter2",
                                    "NEV": "Balogh Eszter",
                                    "Fő": "1",
                                    "Előző három foglalás átlaga": "2"
                                },
                                {
                                    "USERNEV": "eszter2",
                                    "NEV": "Balogh Eszter",
                                    "Fő": "1",
                                    "Előző három foglalás átlaga": "1"
                                },
                                {
                                    "USERNEV": "eszter2",
                                    "NEV": "Balogh Eszter",
                                    "Fő": "1",
                                    "Előző három foglalás átlaga": "2"
                                },
                                {
                                    "USERNEV": "eszter2",
                                    "NEV": "Balogh Eszter",
                                    "Fő": "1",
                                    "Előző három foglalás átlaga": "1"
                                },
                                {
                                    "USERNEV": "eszter2",
                                    "NEV": "Balogh Eszter",
                                    "Fő": "1",
                                    "Előző három foglalás átlaga": "1"
                                },
                                {
                                    "USERNEV": "eszter2",
                                    "NEV": "Balogh Eszter",
                                    "Fő": "1",
                                    "Előző három foglalás átlaga": "1"
                                },
                                {
                                    "USERNEV": "eszter2",
                                    "NEV": "Balogh Eszter",
                                    "Fő": "1",
                                    "Előző három foglalás átlaga": "2"
                                },
                                {
                                    "USERNEV": "eszter2",
                                    "NEV": "Balogh Eszter",
                                    "Fő": "1",
                                    "Előző három foglalás átlaga": "2"
                                },
                                {
                                    "USERNEV": "eszter2",
                                    "NEV": "Balogh Eszter",
                                    "Fő": "1",
                                    "Előző három foglalás átlaga": "2"
                                },
                                {
                                    "USERNEV": "eszter2",
                                    "NEV": "Balogh Eszter",
                                    "Fő": "1",
                                    "Előző három foglalás átlaga": "1"
                                },
                                {
                                    "USERNEV": "eszter2",
                                    "NEV": "Balogh Eszter",
                                    "Fő": "1",
                                    "Előző három foglalás átlaga": "2"
                                },
                                {
                                    "USERNEV": "eszter2",
                                    "NEV": "Balogh Eszter",
                                    "Fő": "1",
                                    "Előző három foglalás átlaga": "1"
                                },
                                {
                                    "USERNEV": "eszter2",
                                    "NEV": "Balogh Eszter",
                                    "Fő": "1",
                                    "Előző három foglalás átlaga": "2"
                                },
                                {
                                    "USERNEV": "eszter2",
                                    "NEV": "Balogh Eszter",
                                    "Fő": "1",
                                    "Előző három foglalás átlaga": "1"
                                },
                                {
                                    "USERNEV": "eszter2",
                                    "NEV": "Balogh Eszter",
                                    "Fő": "1",
                                    "Előző három foglalás átlaga": "1"
                                },
                                {
                                    "USERNEV": "eszter2",
                                    "NEV": "Balogh Eszter",
                                    "Fő": "1",
                                    "Előző három foglalás átlaga": "1"
                                },
                                {
                                    "USERNEV": "eszter2",
                                    "NEV": "Balogh Eszter",
                                    "Fő": "1",
                                    "Előző három foglalás átlaga": "2"
                                },
                                {
                                    "USERNEV": "eszter2",
                                    "NEV": "Balogh Eszter",
                                    "Fő": "1",
                                    "Előző három foglalás átlaga": "2"
                                },
                                {
                                    "USERNEV": "eszter2",
                                    "NEV": "Balogh Eszter",
                                    "Fő": "1",
                                    "Előző három foglalás átlaga": "2"
                                },
                                {
                                    "USERNEV": "eva2",
                                    "NEV": "Perlinger Éva",
                                    "Fő": "1",
                                    "Előző három foglalás átlaga": "NULL"
                                },
                                {
                                    "USERNEV": "eva2",
                                    "NEV": "Perlinger Éva",
                                    "Fő": "1",
                                    "Előző három foglalás átlaga": "1"
                                },
                                {
                                    "USERNEV": "eva2",
                                    "NEV": "Perlinger Éva",
                                    "Fő": "1",
                                    "Előző három foglalás átlaga": "1"
                                },
                                {
                                    "USERNEV": "eva2",
                                    "NEV": "Perlinger Éva",
                                    "Fő": "1",
                                    "Előző három foglalás átlaga": "1"
                                },
                                {
                                    "USERNEV": "fruzsina4",
                                    "NEV": "Frank Fruzsina",
                                    "Fő": "1",
                                    "Előző három foglalás átlaga": "NULL"
                                },
                                {
                                    "USERNEV": "fruzsina4",
                                    "NEV": "Frank Fruzsina",
                                    "Fő": "1",
                                    "Előző három foglalás átlaga": "3"
                                },
                                {
                                    "USERNEV": "fruzsina4",
                                    "NEV": "Frank Fruzsina",
                                    "Fő": "1",
                                    "Előző három foglalás átlaga": "3"
                                },
                                {
                                    "USERNEV": "fruzsina4",
                                    "NEV": "Frank Fruzsina",
                                    "Fő": "1",
                                    "Előző három foglalás átlaga": "3"
                                },
                                {
                                    "USERNEV": "fruzsina4",
                                    "NEV": "Frank Fruzsina",
                                    "Fő": "1",
                                    "Előző három foglalás átlaga": "3"
                                },
                                {
                                    "USERNEV": "fruzsina4",
                                    "NEV": "Frank Fruzsina",
                                    "Fő": "1",
                                    "Előző három foglalás átlaga": "2"
                                },
                                {
                                    "USERNEV": "fruzsina4",
                                    "NEV": "Frank Fruzsina",
                                    "Fő": "1",
                                    "Előző három foglalás átlaga": "2"
                                },
                                {
                                    "USERNEV": "fruzsina4",
                                    "NEV": "Frank Fruzsina",
                                    "Fő": "1",
                                    "Előző három foglalás átlaga": "2"
                                },
                                {
                                    "USERNEV": "gabor1",
                                    "NEV": "Köves Gábor",
                                    "Fő": "1",
                                    "Előző három foglalás átlaga": "NULL"
                                },
                                {
                                    "USERNEV": "gabor1",
                                    "NEV": "Köves Gábor",
                                    "Fő": "1",
                                    "Előző három foglalás átlaga": "2"
                                },
                                {
                                    "USERNEV": "gabor1",
                                    "NEV": "Köves Gábor",
                                    "Fő": "1",
                                    "Előző három foglalás átlaga": "2"
                                },
                                {
                                    "USERNEV": "gabor1",
                                    "NEV": "Köves Gábor",
                                    "Fő": "1",
                                    "Előző három foglalás átlaga": "3"
                                },
                                {
                                    "USERNEV": "gabor1",
                                    "NEV": "Köves Gábor",
                                    "Fő": "1",
                                    "Előző három foglalás átlaga": "2"
                                },
                                {
                                    "USERNEV": "gabor1",
                                    "NEV": "Köves Gábor",
                                    "Fő": "1",
                                    "Előző három foglalás átlaga": "2"
                                },
                                {
                                    "USERNEV": "gabor1",
                                    "NEV": "Köves Gábor",
                                    "Fő": "1",
                                    "Előző három foglalás átlaga": "1"
                                },
                                {
                                    "USERNEV": "gabor1",
                                    "NEV": "Köves Gábor",
                                    "Fő": "1",
                                    "Előző három foglalás átlaga": "1"
                                },
                                {
                                    "USERNEV": "gabor1",
                                    "NEV": "Köves Gábor",
                                    "Fő": "1",
                                    "Előző három foglalás átlaga": "2"
                                },
                                {
                                    "USERNEV": "gabor1",
                                    "NEV": "Köves Gábor",
                                    "Fő": "1",
                                    "Előző három foglalás átlaga": "3"
                                },
                                {
                                    "USERNEV": "gabor1",
                                    "NEV": "Köves Gábor",
                                    "Fő": "1",
                                    "Előző három foglalás átlaga": "2"
                                },
                                {
                                    "USERNEV": "gabor1",
                                    "NEV": "Köves Gábor",
                                    "Fő": "1",
                                    "Előző három foglalás átlaga": "2"
                                },
                                {
                                    "USERNEV": "gabor4",
                                    "NEV": "Telek Gábor",
                                    "Fő": "1",
                                    "Előző három foglalás átlaga": "NULL"
                                },
                                {
                                    "USERNEV": "gabor4",
                                    "NEV": "Telek Gábor",
                                    "Fő": "1",
                                    "Előző három foglalás átlaga": "3"
                                },
                                {
                                    "USERNEV": "gabor4",
                                    "NEV": "Telek Gábor",
                                    "Fő": "1",
                                    "Előző három foglalás átlaga": "3"
                                },
                                {
                                    "USERNEV": "gabor4",
                                    "NEV": "Telek Gábor",
                                    "Fő": "1",
                                    "Előző három foglalás átlaga": "2"
                                },
                                {
                                    "USERNEV": "GYONGYIK",
                                    "NEV": "Kornseé Gyöngyi",
                                    "Fő": "1",
                                    "Előző három foglalás átlaga": "NULL"
                                },
                                {
                                    "USERNEV": "GYONGYIK",
                                    "NEV": "Kornseé Gyöngyi",
                                    "Fő": "1",
                                    "Előző három foglalás átlaga": "3"
                                },
                                {
                                    "USERNEV": "GYONGYIK",
                                    "NEV": "Kornseé Gyöngyi",
                                    "Fő": "1",
                                    "Előző három foglalás átlaga": "3"
                                },
                                {
                                    "USERNEV": "GYONGYIK",
                                    "NEV": "Kornseé Gyöngyi",
                                    "Fő": "1",
                                    "Előző három foglalás átlaga": "2"
                                },
                                {
                                    "USERNEV": "GYONGYIK",
                                    "NEV": "Kornseé Gyöngyi",
                                    "Fő": "1",
                                    "Előző három foglalás átlaga": "2"
                                },
                                {
                                    "USERNEV": "GYONGYIK",
                                    "NEV": "Kornseé Gyöngyi",
                                    "Fő": "1",
                                    "Előző három foglalás átlaga": "1"
                                },
                                {
                                    "USERNEV": "GYONGYIK",
                                    "NEV": "Kornseé Gyöngyi",
                                    "Fő": "1",
                                    "Előző három foglalás átlaga": "2"
                                },
                                {
                                    "USERNEV": "GYORGYO",
                                    "NEV": "Oroszi György",
                                    "Fő": "1",
                                    "Előző három foglalás átlaga": "NULL"
                                },
                                {
                                    "USERNEV": "GYORGYO",
                                    "NEV": "Oroszi György",
                                    "Fő": "1",
                                    "Előző három foglalás átlaga": "2"
                                },
                                {
                                    "USERNEV": "GYORGYO",
                                    "NEV": "Oroszi György",
                                    "Fő": "1",
                                    "Előző három foglalás átlaga": "2"
                                },
                                {
                                    "USERNEV": "GYORGYO",
                                    "NEV": "Oroszi György",
                                    "Fő": "1",
                                    "Előző három foglalás átlaga": "2"
                                },
                                {
                                    "USERNEV": "GYORGYO",
                                    "NEV": "Oroszi György",
                                    "Fő": "1",
                                    "Előző három foglalás átlaga": "2"
                                },
                                {
                                    "USERNEV": "GYORGYO",
                                    "NEV": "Oroszi György",
                                    "Fő": "1",
                                    "Előző három foglalás átlaga": "2"
                                },
                                {
                                    "USERNEV": "GYORGYO",
                                    "NEV": "Oroszi György",
                                    "Fő": "1",
                                    "Előző három foglalás átlaga": "2"
                                },
                                {
                                    "USERNEV": "GYORGYO",
                                    "NEV": "Oroszi György",
                                    "Fő": "1",
                                    "Előző három foglalás átlaga": "2"
                                },
                                {
                                    "USERNEV": "henrik3",
                                    "NEV": "Nádudvari Henrik",
                                    "Fő": "1",
                                    "Előző három foglalás átlaga": "NULL"
                                },
                                {
                                    "USERNEV": "henrik3",
                                    "NEV": "Nádudvari Henrik",
                                    "Fő": "1",
                                    "Előző három foglalás átlaga": "1"
                                },
                                {
                                    "USERNEV": "henrik3",
                                    "NEV": "Nádudvari Henrik",
                                    "Fő": "1",
                                    "Előző három foglalás átlaga": "2"
                                },
                                {
                                    "USERNEV": "istvan1",
                                    "NEV": "Vizi István",
                                    "Fő": "1",
                                    "Előző három foglalás átlaga": "NULL"
                                },
                                {
                                    "USERNEV": "istvan1",
                                    "NEV": "Vizi István",
                                    "Fő": "1",
                                    "Előző három foglalás átlaga": "3"
                                },
                                {
                                    "USERNEV": "istvan1",
                                    "NEV": "Vizi István",
                                    "Fő": "1",
                                    "Előző három foglalás átlaga": "3"
                                },
                                {
                                    "USERNEV": "istvan1",
                                    "NEV": "Vizi István",
                                    "Fő": "1",
                                    "Előző három foglalás átlaga": "2"
                                },
                                {
                                    "USERNEV": "janos3",
                                    "NEV": "Harangozó János",
                                    "Fő": "1",
                                    "Előző három foglalás átlaga": "NULL"
                                },
                                {
                                    "USERNEV": "janos3",
                                    "NEV": "Harangozó János",
                                    "Fő": "1",
                                    "Előző három foglalás átlaga": "3"
                                },
                                {
                                    "USERNEV": "janos3",
                                    "NEV": "Harangozó János",
                                    "Fő": "1",
                                    "Előző három foglalás átlaga": "2"
                                },
                                {
                                    "USERNEV": "janos3",
                                    "NEV": "Harangozó János",
                                    "Fő": "1",
                                    "Előző három foglalás átlaga": "2"
                                },
                                {
                                    "USERNEV": "janos3",
                                    "NEV": "Harangozó János",
                                    "Fő": "1",
                                    "Előző három foglalás átlaga": "1"
                                },
                                {
                                    "USERNEV": "janos3",
                                    "NEV": "Harangozó János",
                                    "Fő": "1",
                                    "Előző három foglalás átlaga": "2"
                                },
                                {
                                    "USERNEV": "janos3",
                                    "NEV": "Harangozó János",
                                    "Fő": "1",
                                    "Előző három foglalás átlaga": "2"
                                },
                                {
                                    "USERNEV": "janos3",
                                    "NEV": "Harangozó János",
                                    "Fő": "1",
                                    "Előző három foglalás átlaga": "2"
                                },
                                {
                                    "USERNEV": "janos3",
                                    "NEV": "Harangozó János",
                                    "Fő": "1",
                                    "Előző három foglalás átlaga": "2"
                                },
                                {
                                    "USERNEV": "janos3",
                                    "NEV": "Harangozó János",
                                    "Fő": "1",
                                    "Előző három foglalás átlaga": "1"
                                },
                                {
                                    "USERNEV": "JANOSG",
                                    "NEV": "Giliga János",
                                    "Fő": "1",
                                    "Előző három foglalás átlaga": "NULL"
                                },
                                {
                                    "USERNEV": "JANOSG",
                                    "NEV": "Giliga János",
                                    "Fő": "1",
                                    "Előző három foglalás átlaga": "1"
                                },
                                {
                                    "USERNEV": "JANOSG",
                                    "NEV": "Giliga János",
                                    "Fő": "1",
                                    "Előző három foglalás átlaga": "2"
                                },
                                {
                                    "USERNEV": "JANOSG",
                                    "NEV": "Giliga János",
                                    "Fő": "1",
                                    "Előző három foglalás átlaga": "2"
                                },
                                {
                                    "USERNEV": "JANOSG",
                                    "NEV": "Giliga János",
                                    "Fő": "1",
                                    "Előző három foglalás átlaga": "3"
                                },
                                {
                                    "USERNEV": "JANOSG",
                                    "NEV": "Giliga János",
                                    "Fő": "1",
                                    "Előző három foglalás átlaga": "2"
                                },
                                {
                                    "USERNEV": "JANOSG",
                                    "NEV": "Giliga János",
                                    "Fő": "1",
                                    "Előző három foglalás átlaga": "2"
                                },
                                {
                                    "USERNEV": "JOZSEFG",
                                    "NEV": "Gyuris József",
                                    "Fő": "1",
                                    "Előző három foglalás átlaga": "NULL"
                                },
                                {
                                    "USERNEV": "JOZSEFG",
                                    "NEV": "Gyuris József",
                                    "Fő": "1",
                                    "Előző három foglalás átlaga": "2"
                                },
                                {
                                    "USERNEV": "JOZSEFG",
                                    "NEV": "Gyuris József",
                                    "Fő": "1",
                                    "Előző három foglalás átlaga": "2"
                                },
                                {
                                    "USERNEV": "JOZSEFG",
                                    "NEV": "Gyuris József",
                                    "Fő": "1",
                                    "Előző három foglalás átlaga": "2"
                                },
                                {
                                    "USERNEV": "JOZSEFG",
                                    "NEV": "Gyuris József",
                                    "Fő": "1",
                                    "Előző három foglalás átlaga": "2"
                                },
                                {
                                    "USERNEV": "JOZSEFG",
                                    "NEV": "Gyuris József",
                                    "Fő": "1",
                                    "Előző három foglalás átlaga": "2"
                                },
                                {
                                    "USERNEV": "JOZSEFG",
                                    "NEV": "Gyuris József",
                                    "Fő": "1",
                                    "Előző három foglalás átlaga": "2"
                                },
                                {
                                    "USERNEV": "JOZSEFG",
                                    "NEV": "Gyuris József",
                                    "Fő": "1",
                                    "Előző három foglalás átlaga": "2"
                                },
                                {
                                    "USERNEV": "JOZSEFG",
                                    "NEV": "Gyuris József",
                                    "Fő": "1",
                                    "Előző három foglalás átlaga": "2"
                                },
                                {
                                    "USERNEV": "JOZSEFG",
                                    "NEV": "Gyuris József",
                                    "Fő": "1",
                                    "Előző három foglalás átlaga": "2"
                                },
                                {
                                    "USERNEV": "JOZSEFG",
                                    "NEV": "Gyuris József",
                                    "Fő": "1",
                                    "Előző három foglalás átlaga": "2"
                                },
                                {
                                    "USERNEV": "JOZSEFG",
                                    "NEV": "Gyuris József",
                                    "Fő": "1",
                                    "Előző három foglalás átlaga": "2"
                                },
                                {
                                    "USERNEV": "JOZSEFG",
                                    "NEV": "Gyuris József",
                                    "Fő": "1",
                                    "Előző három foglalás átlaga": "2"
                                },
                                {
                                    "USERNEV": "JOZSEFG",
                                    "NEV": "Gyuris József",
                                    "Fő": "1",
                                    "Előző három foglalás átlaga": "2"
                                },
                                {
                                    "USERNEV": "JUDITH",
                                    "NEV": "Hídasi Judit",
                                    "Fő": "1",
                                    "Előző három foglalás átlaga": "NULL"
                                },
                                {
                                    "USERNEV": "JUDITH",
                                    "NEV": "Hídasi Judit",
                                    "Fő": "1",
                                    "Előző három foglalás átlaga": "2"
                                },
                                {
                                    "USERNEV": "JUDITH",
                                    "NEV": "Hídasi Judit",
                                    "Fő": "1",
                                    "Előző három foglalás átlaga": "2"
                                },
                                {
                                    "USERNEV": "julia",
                                    "NEV": "Tóth Júlia",
                                    "Fő": "1",
                                    "Előző három foglalás átlaga": "NULL"
                                },
                                {
                                    "USERNEV": "julia",
                                    "NEV": "Tóth Júlia",
                                    "Fő": "1",
                                    "Előző három foglalás átlaga": "2"
                                },
                                {
                                    "USERNEV": "julia",
                                    "NEV": "Tóth Júlia",
                                    "Fő": "1",
                                    "Előző három foglalás átlaga": "1"
                                },
                                {
                                    "USERNEV": "julia",
                                    "NEV": "Tóth Júlia",
                                    "Fő": "1",
                                    "Előző három foglalás átlaga": "1"
                                },
                                {
                                    "USERNEV": "julia",
                                    "NEV": "Tóth Júlia",
                                    "Fő": "1",
                                    "Előző három foglalás átlaga": "2"
                                },
                                {
                                    "USERNEV": "julia4",
                                    "NEV": "Nagy Júlia",
                                    "Fő": "1",
                                    "Előző három foglalás átlaga": "NULL"
                                },
                                {
                                    "USERNEV": "julia4",
                                    "NEV": "Nagy Júlia",
                                    "Fő": "1",
                                    "Előző három foglalás átlaga": "1"
                                },
                                {
                                    "USERNEV": "kata",
                                    "NEV": "Gondos Katalin",
                                    "Fő": "1",
                                    "Előző három foglalás átlaga": "NULL"
                                },
                                {
                                    "USERNEV": "kata",
                                    "NEV": "Gondos Katalin",
                                    "Fő": "1",
                                    "Előző három foglalás átlaga": "2"
                                },
                                {
                                    "USERNEV": "kata",
                                    "NEV": "Gondos Katalin",
                                    "Fő": "1",
                                    "Előző három foglalás átlaga": "1"
                                },
                                {
                                    "USERNEV": "kata",
                                    "NEV": "Gondos Katalin",
                                    "Fő": "1",
                                    "Előző három foglalás átlaga": "2"
                                },
                                {
                                    "USERNEV": "kata",
                                    "NEV": "Gondos Katalin",
                                    "Fő": "1",
                                    "Előző három foglalás átlaga": "2"
                                },
                                {
                                    "USERNEV": "kata",
                                    "NEV": "Gondos Katalin",
                                    "Fő": "1",
                                    "Előző három foglalás átlaga": "3"
                                },
                                {
                                    "USERNEV": "kata",
                                    "NEV": "Gondos Katalin",
                                    "Fő": "1",
                                    "Előző három foglalás átlaga": "3"
                                },
                                {
                                    "USERNEV": "kata",
                                    "NEV": "Gondos Katalin",
                                    "Fő": "1",
                                    "Előző három foglalás átlaga": "3"
                                },
                                {
                                    "USERNEV": "kata",
                                    "NEV": "Gondos Katalin",
                                    "Fő": "1",
                                    "Előző három foglalás átlaga": "2"
                                },
                                {
                                    "USERNEV": "kata",
                                    "NEV": "Gondos Katalin",
                                    "Fő": "1",
                                    "Előző három foglalás átlaga": "2"
                                },
                                {
                                    "USERNEV": "kata",
                                    "NEV": "Gondos Katalin",
                                    "Fő": "1",
                                    "Előző három foglalás átlaga": "1"
                                },
                                {
                                    "USERNEV": "kata",
                                    "NEV": "Gondos Katalin",
                                    "Fő": "1",
                                    "Előző három foglalás átlaga": "1"
                                },
                                {
                                    "USERNEV": "kata",
                                    "NEV": "Gondos Katalin",
                                    "Fő": "1",
                                    "Előző három foglalás átlaga": "1"
                                },
                                {
                                    "USERNEV": "kata",
                                    "NEV": "Gondos Katalin",
                                    "Fő": "1",
                                    "Előző három foglalás átlaga": "2"
                                },
                                {
                                    "USERNEV": "kata",
                                    "NEV": "Gondos Katalin",
                                    "Fő": "1",
                                    "Előző három foglalás átlaga": "2"
                                },
                                {
                                    "USERNEV": "kata",
                                    "NEV": "Gondos Katalin",
                                    "Fő": "1",
                                    "Előző három foglalás átlaga": "3"
                                },
                                {
                                    "USERNEV": "kata",
                                    "NEV": "Gondos Katalin",
                                    "Fő": "1",
                                    "Előző három foglalás átlaga": "3"
                                },
                                {
                                    "USERNEV": "kata",
                                    "NEV": "Gondos Katalin",
                                    "Fő": "1",
                                    "Előző három foglalás átlaga": "3"
                                },
                                {
                                    "USERNEV": "kata",
                                    "NEV": "Gondos Katalin",
                                    "Fő": "1",
                                    "Előző három foglalás átlaga": "2"
                                },
                                {
                                    "USERNEV": "kata",
                                    "NEV": "Gondos Katalin",
                                    "Fő": "1",
                                    "Előző három foglalás átlaga": "2"
                                },
                                {
                                    "USERNEV": "katalin",
                                    "NEV": "Horváth Katalin",
                                    "Fő": "1",
                                    "Előző három foglalás átlaga": "NULL"
                                },
                                {
                                    "USERNEV": "katalin",
                                    "NEV": "Horváth Katalin",
                                    "Fő": "1",
                                    "Előző három foglalás átlaga": "2"
                                },
                                {
                                    "USERNEV": "katalin",
                                    "NEV": "Horváth Katalin",
                                    "Fő": "1",
                                    "Előző három foglalás átlaga": "1"
                                },
                                {
                                    "USERNEV": "katalin",
                                    "NEV": "Horváth Katalin",
                                    "Fő": "1",
                                    "Előző három foglalás átlaga": "1"
                                },
                                {
                                    "USERNEV": "katalin",
                                    "NEV": "Horváth Katalin",
                                    "Fő": "1",
                                    "Előző három foglalás átlaga": "1"
                                },
                                {
                                    "USERNEV": "katalin",
                                    "NEV": "Horváth Katalin",
                                    "Fő": "1",
                                    "Előző három foglalás átlaga": "1"
                                },
                                {
                                    "USERNEV": "katalin",
                                    "NEV": "Horváth Katalin",
                                    "Fő": "1",
                                    "Előző három foglalás átlaga": "2"
                                },
                                {
                                    "USERNEV": "katalin",
                                    "NEV": "Horváth Katalin",
                                    "Fő": "1",
                                    "Előző három foglalás átlaga": "2"
                                },
                                {
                                    "USERNEV": "katalin",
                                    "NEV": "Horváth Katalin",
                                    "Fő": "1",
                                    "Előző három foglalás átlaga": "2"
                                },
                                {
                                    "USERNEV": "katalin",
                                    "NEV": "Horváth Katalin",
                                    "Fő": "1",
                                    "Előző három foglalás átlaga": "1"
                                },
                                {
                                    "USERNEV": "katalin",
                                    "NEV": "Horváth Katalin",
                                    "Fő": "1",
                                    "Előző három foglalás átlaga": "1"
                                },
                                {
                                    "USERNEV": "katalin",
                                    "NEV": "Horváth Katalin",
                                    "Fő": "1",
                                    "Előző három foglalás átlaga": "1"
                                },
                                {
                                    "USERNEV": "katalin",
                                    "NEV": "Horváth Katalin",
                                    "Fő": "1",
                                    "Előző három foglalás átlaga": "1"
                                },
                                {
                                    "USERNEV": "katalin",
                                    "NEV": "Horváth Katalin",
                                    "Fő": "1",
                                    "Előző három foglalás átlaga": "1"
                                },
                                {
                                    "USERNEV": "katalin",
                                    "NEV": "Horváth Katalin",
                                    "Fő": "1",
                                    "Előző három foglalás átlaga": "1"
                                },
                                {
                                    "USERNEV": "katalin",
                                    "NEV": "Horváth Katalin",
                                    "Fő": "1",
                                    "Előző három foglalás átlaga": "2"
                                },
                                {
                                    "USERNEV": "katalin",
                                    "NEV": "Horváth Katalin",
                                    "Fő": "1",
                                    "Előző három foglalás átlaga": "2"
                                },
                                {
                                    "USERNEV": "katalin",
                                    "NEV": "Horváth Katalin",
                                    "Fő": "1",
                                    "Előző három foglalás átlaga": "2"
                                },
                                {
                                    "USERNEV": "katalin",
                                    "NEV": "Horváth Katalin",
                                    "Fő": "1",
                                    "Előző három foglalás átlaga": "1"
                                },
                                {
                                    "USERNEV": "katalin",
                                    "NEV": "Horváth Katalin",
                                    "Fő": "1",
                                    "Előző három foglalás átlaga": "1"
                                },
                                {
                                    "USERNEV": "katalin",
                                    "NEV": "Horváth Katalin",
                                    "Fő": "1",
                                    "Előző három foglalás átlaga": "1"
                                },
                                {
                                    "USERNEV": "katalin",
                                    "NEV": "Horváth Katalin",
                                    "Fő": "1",
                                    "Előző három foglalás átlaga": "1"
                                },
                                {
                                    "USERNEV": "katalin",
                                    "NEV": "Horváth Katalin",
                                    "Fő": "1",
                                    "Előző három foglalás átlaga": "1"
                                },
                                {
                                    "USERNEV": "katalin",
                                    "NEV": "Horváth Katalin",
                                    "Fő": "1",
                                    "Előző három foglalás átlaga": "1"
                                },
                                {
                                    "USERNEV": "katalin",
                                    "NEV": "Horváth Katalin",
                                    "Fő": "1",
                                    "Előző három foglalás átlaga": "2"
                                },
                                {
                                    "USERNEV": "katalin",
                                    "NEV": "Horváth Katalin",
                                    "Fő": "1",
                                    "Előző három foglalás átlaga": "2"
                                },
                                {
                                    "USERNEV": "katalin",
                                    "NEV": "Horváth Katalin",
                                    "Fő": "1",
                                    "Előző három foglalás átlaga": "2"
                                },
                                {
                                    "USERNEV": "katalin",
                                    "NEV": "Horváth Katalin",
                                    "Fő": "1",
                                    "Előző három foglalás átlaga": "1"
                                },
                                {
                                    "USERNEV": "katalin",
                                    "NEV": "Horváth Katalin",
                                    "Fő": "1",
                                    "Előző három foglalás átlaga": "1"
                                },
                                {
                                    "USERNEV": "katalin",
                                    "NEV": "Horváth Katalin",
                                    "Fő": "1",
                                    "Előző három foglalás átlaga": "1"
                                },
                                {
                                    "USERNEV": "katalin",
                                    "NEV": "Horváth Katalin",
                                    "Fő": "1",
                                    "Előző három foglalás átlaga": "1"
                                },
                                {
                                    "USERNEV": "katalin",
                                    "NEV": "Horváth Katalin",
                                    "Fő": "1",
                                    "Előző három foglalás átlaga": "1"
                                },
                                {
                                    "USERNEV": "katalin",
                                    "NEV": "Horváth Katalin",
                                    "Fő": "1",
                                    "Előző három foglalás átlaga": "1"
                                },
                                {
                                    "USERNEV": "katalin",
                                    "NEV": "Horváth Katalin",
                                    "Fő": "1",
                                    "Előző három foglalás átlaga": "2"
                                },
                                {
                                    "USERNEV": "katalin",
                                    "NEV": "Horváth Katalin",
                                    "Fő": "1",
                                    "Előző három foglalás átlaga": "2"
                                },
                                {
                                    "USERNEV": "katalin",
                                    "NEV": "Horváth Katalin",
                                    "Fő": "1",
                                    "Előző három foglalás átlaga": "2"
                                },
                                {
                                    "USERNEV": "katalin4",
                                    "NEV": "Kertész Katalin",
                                    "Fő": "1",
                                    "Előző három foglalás átlaga": "NULL"
                                },
                                {
                                    "USERNEV": "katalin4",
                                    "NEV": "Kertész Katalin",
                                    "Fő": "1",
                                    "Előző három foglalás átlaga": "1"
                                },
                                {
                                    "USERNEV": "katalin4",
                                    "NEV": "Kertész Katalin",
                                    "Fő": "1",
                                    "Előző három foglalás átlaga": "2"
                                },
                                {
                                    "USERNEV": "katalin4",
                                    "NEV": "Kertész Katalin",
                                    "Fő": "1",
                                    "Előző három foglalás átlaga": "2"
                                },
                                {
                                    "USERNEV": "katalin4",
                                    "NEV": "Kertész Katalin",
                                    "Fő": "1",
                                    "Előző három foglalás átlaga": "3"
                                },
                                {
                                    "USERNEV": "katalin4",
                                    "NEV": "Kertész Katalin",
                                    "Fő": "1",
                                    "Előző három foglalás átlaga": "2"
                                },
                                {
                                    "USERNEV": "katka",
                                    "NEV": "Kovács Katalin",
                                    "Fő": "1",
                                    "Előző három foglalás átlaga": "NULL"
                                },
                                {
                                    "USERNEV": "katka",
                                    "NEV": "Kovács Katalin",
                                    "Fő": "1",
                                    "Előző három foglalás átlaga": "2"
                                },
                                {
                                    "USERNEV": "katka",
                                    "NEV": "Kovács Katalin",
                                    "Fő": "1",
                                    "Előző három foglalás átlaga": "2"
                                },
                                {
                                    "USERNEV": "katka",
                                    "NEV": "Kovács Katalin",
                                    "Fő": "1",
                                    "Előző három foglalás átlaga": "2"
                                },
                                {
                                    "USERNEV": "katka",
                                    "NEV": "Kovács Katalin",
                                    "Fő": "1",
                                    "Előző három foglalás átlaga": "2"
                                },
                                {
                                    "USERNEV": "katka",
                                    "NEV": "Kovács Katalin",
                                    "Fő": "1",
                                    "Előző három foglalás átlaga": "2"
                                },
                                {
                                    "USERNEV": "katka",
                                    "NEV": "Kovács Katalin",
                                    "Fő": "1",
                                    "Előző három foglalás átlaga": "3"
                                },
                                {
                                    "USERNEV": "katka",
                                    "NEV": "Kovács Katalin",
                                    "Fő": "1",
                                    "Előző három foglalás átlaga": "3"
                                },
                                {
                                    "USERNEV": "katka",
                                    "NEV": "Kovács Katalin",
                                    "Fő": "1",
                                    "Előző három foglalás átlaga": "3"
                                },
                                {
                                    "USERNEV": "krisztian4",
                                    "NEV": "Czérna Krisztián",
                                    "Fő": "1",
                                    "Előző három foglalás átlaga": "NULL"
                                },
                                {
                                    "USERNEV": "krisztian4",
                                    "NEV": "Czérna Krisztián",
                                    "Fő": "1",
                                    "Előző három foglalás átlaga": "2"
                                },
                                {
                                    "USERNEV": "krisztian4",
                                    "NEV": "Czérna Krisztián",
                                    "Fő": "1",
                                    "Előző három foglalás átlaga": "2"
                                },
                                {
                                    "USERNEV": "krisztian4",
                                    "NEV": "Czérna Krisztián",
                                    "Fő": "1",
                                    "Előző három foglalás átlaga": "2"
                                },
                                {
                                    "USERNEV": "krisztian4",
                                    "NEV": "Czérna Krisztián",
                                    "Fő": "1",
                                    "Előző három foglalás átlaga": "1"
                                },
                                {
                                    "USERNEV": "krisztian4",
                                    "NEV": "Czérna Krisztián",
                                    "Fő": "1",
                                    "Előző három foglalás átlaga": "1"
                                },
                                {
                                    "USERNEV": "krisztian4",
                                    "NEV": "Czérna Krisztián",
                                    "Fő": "1",
                                    "Előző három foglalás átlaga": "1"
                                },
                                {
                                    "USERNEV": "krisztian4",
                                    "NEV": "Czérna Krisztián",
                                    "Fő": "1",
                                    "Előző három foglalás átlaga": "2"
                                },
                                {
                                    "USERNEV": "krisztian4",
                                    "NEV": "Czérna Krisztián",
                                    "Fő": "1",
                                    "Előző három foglalás átlaga": "2"
                                },
                                {
                                    "USERNEV": "krisztian4",
                                    "NEV": "Czérna Krisztián",
                                    "Fő": "1",
                                    "Előző három foglalás átlaga": "2"
                                },
                                {
                                    "USERNEV": "krisztian4",
                                    "NEV": "Czérna Krisztián",
                                    "Fő": "1",
                                    "Előző három foglalás átlaga": "1"
                                },
                                {
                                    "USERNEV": "krisztian4",
                                    "NEV": "Czérna Krisztián",
                                    "Fő": "1",
                                    "Előző három foglalás átlaga": "2"
                                },
                                {
                                    "USERNEV": "krisztian4",
                                    "NEV": "Czérna Krisztián",
                                    "Fő": "1",
                                    "Előző három foglalás átlaga": "2"
                                },
                                {
                                    "USERNEV": "krisztian4",
                                    "NEV": "Czérna Krisztián",
                                    "Fő": "1",
                                    "Előző három foglalás átlaga": "2"
                                },
                                {
                                    "USERNEV": "krisztian4",
                                    "NEV": "Czérna Krisztián",
                                    "Fő": "1",
                                    "Előző három foglalás átlaga": "2"
                                },
                                {
                                    "USERNEV": "krisztian4",
                                    "NEV": "Czérna Krisztián",
                                    "Fő": "1",
                                    "Előző három foglalás átlaga": "2"
                                },
                                {
                                    "USERNEV": "krisztian4",
                                    "NEV": "Czérna Krisztián",
                                    "Fő": "1",
                                    "Előző három foglalás átlaga": "1"
                                },
                                {
                                    "USERNEV": "krisztian4",
                                    "NEV": "Czérna Krisztián",
                                    "Fő": "1",
                                    "Előző három foglalás átlaga": "1"
                                },
                                {
                                    "USERNEV": "krisztian4",
                                    "NEV": "Czérna Krisztián",
                                    "Fő": "1",
                                    "Előző három foglalás átlaga": "1"
                                },
                                {
                                    "USERNEV": "krisztian4",
                                    "NEV": "Czérna Krisztián",
                                    "Fő": "1",
                                    "Előző három foglalás átlaga": "2"
                                },
                                {
                                    "USERNEV": "krisztian4",
                                    "NEV": "Czérna Krisztián",
                                    "Fő": "1",
                                    "Előző három foglalás átlaga": "2"
                                },
                                {
                                    "USERNEV": "krisztian4",
                                    "NEV": "Czérna Krisztián",
                                    "Fő": "1",
                                    "Előző három foglalás átlaga": "2"
                                },
                                {
                                    "USERNEV": "krisztian4",
                                    "NEV": "Czérna Krisztián",
                                    "Fő": "1",
                                    "Előző három foglalás átlaga": "1"
                                },
                                {
                                    "USERNEV": "krisztian4",
                                    "NEV": "Czérna Krisztián",
                                    "Fő": "1",
                                    "Előző három foglalás átlaga": "2"
                                },
                                {
                                    "USERNEV": "krisztian4",
                                    "NEV": "Czérna Krisztián",
                                    "Fő": "1",
                                    "Előző három foglalás átlaga": "2"
                                },
                                {
                                    "USERNEV": "krisztian4",
                                    "NEV": "Czérna Krisztián",
                                    "Fő": "1",
                                    "Előző három foglalás átlaga": "2"
                                },
                                {
                                    "USERNEV": "krisztian4",
                                    "NEV": "Czérna Krisztián",
                                    "Fő": "1",
                                    "Előző három foglalás átlaga": "2"
                                },
                                {
                                    "USERNEV": "krisztian4",
                                    "NEV": "Czérna Krisztián",
                                    "Fő": "1",
                                    "Előző három foglalás átlaga": "2"
                                },
                                {
                                    "USERNEV": "krisztian4",
                                    "NEV": "Czérna Krisztián",
                                    "Fő": "1",
                                    "Előző három foglalás átlaga": "1"
                                },
                                {
                                    "USERNEV": "krisztian4",
                                    "NEV": "Czérna Krisztián",
                                    "Fő": "1",
                                    "Előző három foglalás átlaga": "1"
                                },
                                {
                                    "USERNEV": "krisztian4",
                                    "NEV": "Czérna Krisztián",
                                    "Fő": "1",
                                    "Előző három foglalás átlaga": "1"
                                },
                                {
                                    "USERNEV": "krisztian4",
                                    "NEV": "Czérna Krisztián",
                                    "Fő": "1",
                                    "Előző három foglalás átlaga": "2"
                                },
                                {
                                    "USERNEV": "krisztian4",
                                    "NEV": "Czérna Krisztián",
                                    "Fő": "1",
                                    "Előző három foglalás átlaga": "2"
                                },
                                {
                                    "USERNEV": "krisztian4",
                                    "NEV": "Czérna Krisztián",
                                    "Fő": "1",
                                    "Előző három foglalás átlaga": "2"
                                },
                                {
                                    "USERNEV": "krisztian4",
                                    "NEV": "Czérna Krisztián",
                                    "Fő": "1",
                                    "Előző három foglalás átlaga": "1"
                                },
                                {
                                    "USERNEV": "krisztian4",
                                    "NEV": "Czérna Krisztián",
                                    "Fő": "1",
                                    "Előző három foglalás átlaga": "2"
                                },
                                {
                                    "USERNEV": "KRISZTIANM",
                                    "NEV": "Mogyródi Krisztián",
                                    "Fő": "1",
                                    "Előző három foglalás átlaga": "NULL"
                                },
                                {
                                    "USERNEV": "KRISZTIANM",
                                    "NEV": "Mogyródi Krisztián",
                                    "Fő": "1",
                                    "Előző három foglalás átlaga": "2"
                                },
                                {
                                    "USERNEV": "KRISZTIANM",
                                    "NEV": "Mogyródi Krisztián",
                                    "Fő": "1",
                                    "Előző három foglalás átlaga": "3"
                                },
                                {
                                    "USERNEV": "KRISZTIANM",
                                    "NEV": "Mogyródi Krisztián",
                                    "Fő": "1",
                                    "Előző három foglalás átlaga": "2"
                                },
                                {
                                    "USERNEV": "KRISZTIANM",
                                    "NEV": "Mogyródi Krisztián",
                                    "Fő": "1",
                                    "Előző három foglalás átlaga": "2"
                                },
                                {
                                    "USERNEV": "KRISZTIANM",
                                    "NEV": "Mogyródi Krisztián",
                                    "Fő": "1",
                                    "Előző három foglalás átlaga": "1"
                                },
                                {
                                    "USERNEV": "krisztina",
                                    "NEV": "Szedlár Krisztina",
                                    "Fő": "1",
                                    "Előző három foglalás átlaga": "NULL"
                                },
                                {
                                    "USERNEV": "krisztina",
                                    "NEV": "Szedlár Krisztina",
                                    "Fő": "1",
                                    "Előző három foglalás átlaga": "2"
                                },
                                {
                                    "USERNEV": "krisztina",
                                    "NEV": "Szedlár Krisztina",
                                    "Fő": "1",
                                    "Előző három foglalás átlaga": "2"
                                },
                                {
                                    "USERNEV": "krisztina",
                                    "NEV": "Szedlár Krisztina",
                                    "Fő": "1",
                                    "Előző három foglalás átlaga": "2"
                                },
                                {
                                    "USERNEV": "krisztina",
                                    "NEV": "Szedlár Krisztina",
                                    "Fő": "1",
                                    "Előző három foglalás átlaga": "2"
                                },
                                {
                                    "USERNEV": "krisztina",
                                    "NEV": "Szedlár Krisztina",
                                    "Fő": "1",
                                    "Előző három foglalás átlaga": "1"
                                },
                                {
                                    "USERNEV": "krisztina",
                                    "NEV": "Szedlár Krisztina",
                                    "Fő": "1",
                                    "Előző három foglalás átlaga": "1"
                                },
                                {
                                    "USERNEV": "krisztina",
                                    "NEV": "Szedlár Krisztina",
                                    "Fő": "1",
                                    "Előző három foglalás átlaga": "1"
                                },
                                {
                                    "USERNEV": "krisztina",
                                    "NEV": "Szedlár Krisztina",
                                    "Fő": "1",
                                    "Előző három foglalás átlaga": "2"
                                },
                                {
                                    "USERNEV": "krisztina",
                                    "NEV": "Szedlár Krisztina",
                                    "Fő": "1",
                                    "Előző három foglalás átlaga": "2"
                                },
                                {
                                    "USERNEV": "krisztina",
                                    "NEV": "Szedlár Krisztina",
                                    "Fő": "1",
                                    "Előző három foglalás átlaga": "3"
                                },
                                {
                                    "USERNEV": "krisztina",
                                    "NEV": "Szedlár Krisztina",
                                    "Fő": "1",
                                    "Előző három foglalás átlaga": "2"
                                },
                                {
                                    "USERNEV": "krisztina",
                                    "NEV": "Szedlár Krisztina",
                                    "Fő": "1",
                                    "Előző három foglalás átlaga": "2"
                                },
                                {
                                    "USERNEV": "krisztina",
                                    "NEV": "Szedlár Krisztina",
                                    "Fő": "1",
                                    "Előző három foglalás átlaga": "1"
                                },
                                {
                                    "USERNEV": "krisztina",
                                    "NEV": "Szedlár Krisztina",
                                    "Fő": "1",
                                    "Előző három foglalás átlaga": "1"
                                },
                                {
                                    "USERNEV": "krisztina",
                                    "NEV": "Szedlár Krisztina",
                                    "Fő": "1",
                                    "Előző három foglalás átlaga": "1"
                                },
                                {
                                    "USERNEV": "krisztina1",
                                    "NEV": "Bori Krisztina",
                                    "Fő": "1",
                                    "Előző három foglalás átlaga": "NULL"
                                },
                                {
                                    "USERNEV": "krisztina1",
                                    "NEV": "Bori Krisztina",
                                    "Fő": "1",
                                    "Előző három foglalás átlaga": "2"
                                },
                                {
                                    "USERNEV": "krisztina1",
                                    "NEV": "Bori Krisztina",
                                    "Fő": "1",
                                    "Előző három foglalás átlaga": "1"
                                },
                                {
                                    "USERNEV": "krisztina1",
                                    "NEV": "Bori Krisztina",
                                    "Fő": "1",
                                    "Előző három foglalás átlaga": "1"
                                },
                                {
                                    "USERNEV": "krisztina1",
                                    "NEV": "Bori Krisztina",
                                    "Fő": "1",
                                    "Előző három foglalás átlaga": "2"
                                },
                                {
                                    "USERNEV": "krisztina1",
                                    "NEV": "Bori Krisztina",
                                    "Fő": "1",
                                    "Előző három foglalás átlaga": "3"
                                },
                                {
                                    "USERNEV": "KRISZTINAG",
                                    "NEV": "Gyárfás Krisztina",
                                    "Fő": "1",
                                    "Előző három foglalás átlaga": "NULL"
                                },
                                {
                                    "USERNEV": "KRISZTINAG",
                                    "NEV": "Gyárfás Krisztina",
                                    "Fő": "1",
                                    "Előző három foglalás átlaga": "2"
                                },
                                {
                                    "USERNEV": "KRISZTINAG",
                                    "NEV": "Gyárfás Krisztina",
                                    "Fő": "1",
                                    "Előző három foglalás átlaga": "2"
                                },
                                {
                                    "USERNEV": "KRISZTINAG",
                                    "NEV": "Gyárfás Krisztina",
                                    "Fő": "1",
                                    "Előző három foglalás átlaga": "2"
                                },
                                {
                                    "USERNEV": "KRISZTINAG",
                                    "NEV": "Gyárfás Krisztina",
                                    "Fő": "1",
                                    "Előző három foglalás átlaga": "1"
                                },
                                {
                                    "USERNEV": "KRISZTINAG",
                                    "NEV": "Gyárfás Krisztina",
                                    "Fő": "1",
                                    "Előző három foglalás átlaga": "1"
                                },
                                {
                                    "USERNEV": "KRISZTINAG",
                                    "NEV": "Gyárfás Krisztina",
                                    "Fő": "1",
                                    "Előző három foglalás átlaga": "1"
                                },
                                {
                                    "USERNEV": "KRISZTINAG",
                                    "NEV": "Gyárfás Krisztina",
                                    "Fő": "1",
                                    "Előző három foglalás átlaga": "2"
                                },
                                {
                                    "USERNEV": "KRISZTINAG",
                                    "NEV": "Gyárfás Krisztina",
                                    "Fő": "1",
                                    "Előző három foglalás átlaga": "2"
                                },
                                {
                                    "USERNEV": "KRISZTINAG",
                                    "NEV": "Gyárfás Krisztina",
                                    "Fő": "1",
                                    "Előző három foglalás átlaga": "1"
                                },
                                {
                                    "USERNEV": "lajos",
                                    "NEV": "Kiss Lajos",
                                    "Fő": "1",
                                    "Előző három foglalás átlaga": "NULL"
                                },
                                {
                                    "USERNEV": "lajos",
                                    "NEV": "Kiss Lajos",
                                    "Fő": "1",
                                    "Előző három foglalás átlaga": "2"
                                },
                                {
                                    "USERNEV": "lajos",
                                    "NEV": "Kiss Lajos",
                                    "Fő": "1",
                                    "Előző három foglalás átlaga": "3"
                                },
                                {
                                    "USERNEV": "LASZLOA",
                                    "NEV": "Antal László",
                                    "Fő": "1",
                                    "Előző három foglalás átlaga": "NULL"
                                },
                                {
                                    "USERNEV": "LASZLOA",
                                    "NEV": "Antal László",
                                    "Fő": "1",
                                    "Előző három foglalás átlaga": "2"
                                },
                                {
                                    "USERNEV": "LASZLOA",
                                    "NEV": "Antal László",
                                    "Fő": "1",
                                    "Előző három foglalás átlaga": "1"
                                },
                                {
                                    "USERNEV": "LASZLOA",
                                    "NEV": "Antal László",
                                    "Fő": "1",
                                    "Előző három foglalás átlaga": "2"
                                },
                                {
                                    "USERNEV": "LASZLON",
                                    "NEV": "Nagy László",
                                    "Fő": "1",
                                    "Előző három foglalás átlaga": "NULL"
                                },
                                {
                                    "USERNEV": "LASZLON",
                                    "NEV": "Nagy László",
                                    "Fő": "1",
                                    "Előző három foglalás átlaga": "1"
                                },
                                {
                                    "USERNEV": "LASZLON",
                                    "NEV": "Nagy László",
                                    "Fő": "1",
                                    "Előző három foglalás átlaga": "1"
                                },
                                {
                                    "USERNEV": "LASZLON",
                                    "NEV": "Nagy László",
                                    "Fő": "1",
                                    "Előző három foglalás átlaga": "2"
                                },
                                {
                                    "USERNEV": "LASZLON",
                                    "NEV": "Nagy László",
                                    "Fő": "1",
                                    "Előző három foglalás átlaga": "2"
                                },
                                {
                                    "USERNEV": "LASZLON",
                                    "NEV": "Nagy László",
                                    "Fő": "1",
                                    "Előző három foglalás átlaga": "1"
                                },
                                {
                                    "USERNEV": "LASZLON",
                                    "NEV": "Nagy László",
                                    "Fő": "1",
                                    "Előző három foglalás átlaga": "1"
                                },
                                {
                                    "USERNEV": "LASZLON",
                                    "NEV": "Nagy László",
                                    "Fő": "1",
                                    "Előző három foglalás átlaga": "1"
                                },
                                {
                                    "USERNEV": "LASZLON",
                                    "NEV": "Nagy László",
                                    "Fő": "1",
                                    "Előző három foglalás átlaga": "2"
                                },
                                {
                                    "USERNEV": "LASZLON",
                                    "NEV": "Nagy László",
                                    "Fő": "1",
                                    "Előző három foglalás átlaga": "2"
                                },
                                {
                                    "USERNEV": "LASZLON",
                                    "NEV": "Nagy László",
                                    "Fő": "1",
                                    "Előző három foglalás átlaga": "2"
                                },
                                {
                                    "USERNEV": "LASZLON",
                                    "NEV": "Nagy László",
                                    "Fő": "1",
                                    "Előző három foglalás átlaga": "1"
                                },
                                {
                                    "USERNEV": "LASZLON",
                                    "NEV": "Nagy László",
                                    "Fő": "1",
                                    "Előző három foglalás átlaga": "1"
                                },
                                {
                                    "USERNEV": "LASZLON",
                                    "NEV": "Nagy László",
                                    "Fő": "1",
                                    "Előző három foglalás átlaga": "1"
                                },
                                {
                                    "USERNEV": "LASZLON",
                                    "NEV": "Nagy László",
                                    "Fő": "1",
                                    "Előző három foglalás átlaga": "2"
                                },
                                {
                                    "USERNEV": "LASZLON",
                                    "NEV": "Nagy László",
                                    "Fő": "1",
                                    "Előző három foglalás átlaga": "2"
                                },
                                {
                                    "USERNEV": "LASZLON",
                                    "NEV": "Nagy László",
                                    "Fő": "1",
                                    "Előző három foglalás átlaga": "2"
                                },
                                {
                                    "USERNEV": "LASZLON",
                                    "NEV": "Nagy László",
                                    "Fő": "1",
                                    "Előző három foglalás átlaga": "1"
                                },
                                {
                                    "USERNEV": "maria1",
                                    "NEV": "Baráth Mária",
                                    "Fő": "1",
                                    "Előző három foglalás átlaga": "NULL"
                                },
                                {
                                    "USERNEV": "maria1",
                                    "NEV": "Baráth Mária",
                                    "Fő": "1",
                                    "Előző három foglalás átlaga": "2"
                                },
                                {
                                    "USERNEV": "maria1",
                                    "NEV": "Baráth Mária",
                                    "Fő": "1",
                                    "Előző három foglalás átlaga": "1"
                                },
                                {
                                    "USERNEV": "maria1",
                                    "NEV": "Baráth Mária",
                                    "Fő": "1",
                                    "Előző három foglalás átlaga": "2"
                                },
                                {
                                    "USERNEV": "maria1",
                                    "NEV": "Baráth Mária",
                                    "Fő": "1",
                                    "Előző három foglalás átlaga": "1"
                                },
                                {
                                    "USERNEV": "maria1",
                                    "NEV": "Baráth Mária",
                                    "Fő": "1",
                                    "Előző három foglalás átlaga": "2"
                                },
                                {
                                    "USERNEV": "maria1",
                                    "NEV": "Baráth Mária",
                                    "Fő": "1",
                                    "Előző három foglalás átlaga": "1"
                                },
                                {
                                    "USERNEV": "maria1",
                                    "NEV": "Baráth Mária",
                                    "Fő": "1",
                                    "Előző három foglalás átlaga": "2"
                                },
                                {
                                    "USERNEV": "maria1",
                                    "NEV": "Baráth Mária",
                                    "Fő": "1",
                                    "Előző három foglalás átlaga": "2"
                                },
                                {
                                    "USERNEV": "maria1",
                                    "NEV": "Baráth Mária",
                                    "Fő": "1",
                                    "Előző három foglalás átlaga": "2"
                                },
                                {
                                    "USERNEV": "maria1",
                                    "NEV": "Baráth Mária",
                                    "Fő": "1",
                                    "Előző három foglalás átlaga": "1"
                                },
                                {
                                    "USERNEV": "maria1",
                                    "NEV": "Baráth Mária",
                                    "Fő": "1",
                                    "Előző három foglalás átlaga": "2"
                                },
                                {
                                    "USERNEV": "maria1",
                                    "NEV": "Baráth Mária",
                                    "Fő": "1",
                                    "Előző három foglalás átlaga": "1"
                                },
                                {
                                    "USERNEV": "maria1",
                                    "NEV": "Baráth Mária",
                                    "Fő": "1",
                                    "Előző három foglalás átlaga": "2"
                                },
                                {
                                    "USERNEV": "maria1",
                                    "NEV": "Baráth Mária",
                                    "Fő": "1",
                                    "Előző három foglalás átlaga": "1"
                                },
                                {
                                    "USERNEV": "maria1",
                                    "NEV": "Baráth Mária",
                                    "Fő": "1",
                                    "Előző három foglalás átlaga": "2"
                                },
                                {
                                    "USERNEV": "maria1",
                                    "NEV": "Baráth Mária",
                                    "Fő": "1",
                                    "Előző három foglalás átlaga": "2"
                                },
                                {
                                    "USERNEV": "maria1",
                                    "NEV": "Baráth Mária",
                                    "Fő": "1",
                                    "Előző három foglalás átlaga": "2"
                                },
                                {
                                    "USERNEV": "maria1",
                                    "NEV": "Baráth Mária",
                                    "Fő": "1",
                                    "Előző három foglalás átlaga": "1"
                                },
                                {
                                    "USERNEV": "maria1",
                                    "NEV": "Baráth Mária",
                                    "Fő": "1",
                                    "Előző három foglalás átlaga": "2"
                                },
                                {
                                    "USERNEV": "maria1",
                                    "NEV": "Baráth Mária",
                                    "Fő": "1",
                                    "Előző három foglalás átlaga": "1"
                                },
                                {
                                    "USERNEV": "maria1",
                                    "NEV": "Baráth Mária",
                                    "Fő": "1",
                                    "Előző három foglalás átlaga": "2"
                                },
                                {
                                    "USERNEV": "maria1",
                                    "NEV": "Baráth Mária",
                                    "Fő": "1",
                                    "Előző három foglalás átlaga": "1"
                                },
                                {
                                    "USERNEV": "maria1",
                                    "NEV": "Baráth Mária",
                                    "Fő": "1",
                                    "Előző három foglalás átlaga": "2"
                                },
                                {
                                    "USERNEV": "mark",
                                    "NEV": "Kispál Márk",
                                    "Fő": "1",
                                    "Előző három foglalás átlaga": "NULL"
                                },
                                {
                                    "USERNEV": "mark",
                                    "NEV": "Kispál Márk",
                                    "Fő": "1",
                                    "Előző három foglalás átlaga": "4"
                                },
                                {
                                    "USERNEV": "mark",
                                    "NEV": "Kispál Márk",
                                    "Fő": "1",
                                    "Előző három foglalás átlaga": "3"
                                },
                                {
                                    "USERNEV": "mark",
                                    "NEV": "Kispál Márk",
                                    "Fő": "1",
                                    "Előző három foglalás átlaga": "3"
                                },
                                {
                                    "USERNEV": "mark",
                                    "NEV": "Kispál Márk",
                                    "Fő": "1",
                                    "Előző három foglalás átlaga": "2"
                                },
                                {
                                    "USERNEV": "marton",
                                    "NEV": "Kalacsi Márton",
                                    "Fő": "1",
                                    "Előző három foglalás átlaga": "NULL"
                                },
                                {
                                    "USERNEV": "marton",
                                    "NEV": "Kalacsi Márton",
                                    "Fő": "1",
                                    "Előző három foglalás átlaga": "3"
                                },
                                {
                                    "USERNEV": "marton",
                                    "NEV": "Kalacsi Márton",
                                    "Fő": "1",
                                    "Előző három foglalás átlaga": "2"
                                },
                                {
                                    "USERNEV": "marton",
                                    "NEV": "Kalacsi Márton",
                                    "Fő": "1",
                                    "Előző három foglalás átlaga": "2"
                                },
                                {
                                    "USERNEV": "marton",
                                    "NEV": "Kalacsi Márton",
                                    "Fő": "1",
                                    "Előző három foglalás átlaga": "2"
                                },
                                {
                                    "USERNEV": "marton",
                                    "NEV": "Kalacsi Márton",
                                    "Fő": "1",
                                    "Előző három foglalás átlaga": "2"
                                },
                                {
                                    "USERNEV": "marton",
                                    "NEV": "Kalacsi Márton",
                                    "Fő": "1",
                                    "Előző három foglalás átlaga": "2"
                                },
                                {
                                    "USERNEV": "MATYASS",
                                    "NEV": "Szilágyi Mátyás",
                                    "Fő": "1",
                                    "Előző három foglalás átlaga": "NULL"
                                },
                                {
                                    "USERNEV": "MATYASS",
                                    "NEV": "Szilágyi Mátyás",
                                    "Fő": "1",
                                    "Előző három foglalás átlaga": "2"
                                },
                                {
                                    "USERNEV": "MATYASS",
                                    "NEV": "Szilágyi Mátyás",
                                    "Fő": "1",
                                    "Előző három foglalás átlaga": "2"
                                },
                                {
                                    "USERNEV": "MATYASS",
                                    "NEV": "Szilágyi Mátyás",
                                    "Fő": "1",
                                    "Előző három foglalás átlaga": "2"
                                },
                                {
                                    "USERNEV": "MATYASS",
                                    "NEV": "Szilágyi Mátyás",
                                    "Fő": "1",
                                    "Előző három foglalás átlaga": "2"
                                },
                                {
                                    "USERNEV": "MATYASS",
                                    "NEV": "Szilágyi Mátyás",
                                    "Fő": "1",
                                    "Előző három foglalás átlaga": "1"
                                },
                                {
                                    "USERNEV": "MATYASS",
                                    "NEV": "Szilágyi Mátyás",
                                    "Fő": "1",
                                    "Előző három foglalás átlaga": "2"
                                },
                                {
                                    "USERNEV": "MATYASS",
                                    "NEV": "Szilágyi Mátyás",
                                    "Fő": "1",
                                    "Előző három foglalás átlaga": "2"
                                },
                                {
                                    "USERNEV": "MATYASS",
                                    "NEV": "Szilágyi Mátyás",
                                    "Fő": "1",
                                    "Előző három foglalás átlaga": "2"
                                },
                                {
                                    "USERNEV": "MATYASS",
                                    "NEV": "Szilágyi Mátyás",
                                    "Fő": "1",
                                    "Előző három foglalás átlaga": "2"
                                },
                                {
                                    "USERNEV": "MATYASS",
                                    "NEV": "Szilágyi Mátyás",
                                    "Fő": "1",
                                    "Előző három foglalás átlaga": "2"
                                },
                                {
                                    "USERNEV": "MATYASS",
                                    "NEV": "Szilágyi Mátyás",
                                    "Fő": "1",
                                    "Előző három foglalás átlaga": "2"
                                },
                                {
                                    "USERNEV": "MATYASS",
                                    "NEV": "Szilágyi Mátyás",
                                    "Fő": "1",
                                    "Előző három foglalás átlaga": "2"
                                },
                                {
                                    "USERNEV": "MATYASS",
                                    "NEV": "Szilágyi Mátyás",
                                    "Fő": "1",
                                    "Előző három foglalás átlaga": "1"
                                },
                                {
                                    "USERNEV": "MATYASS",
                                    "NEV": "Szilágyi Mátyás",
                                    "Fő": "1",
                                    "Előző három foglalás átlaga": "2"
                                },
                                {
                                    "USERNEV": "MATYASS",
                                    "NEV": "Szilágyi Mátyás",
                                    "Fő": "1",
                                    "Előző három foglalás átlaga": "2"
                                },
                                {
                                    "USERNEV": "MIHALYJ",
                                    "NEV": "Juhász Mihály",
                                    "Fő": "1",
                                    "Előző három foglalás átlaga": "NULL"
                                },
                                {
                                    "USERNEV": "MIHALYJ",
                                    "NEV": "Juhász Mihály",
                                    "Fő": "1",
                                    "Előző három foglalás átlaga": "1"
                                },
                                {
                                    "USERNEV": "MIHALYJ",
                                    "NEV": "Juhász Mihály",
                                    "Fő": "1",
                                    "Előző három foglalás átlaga": "1"
                                },
                                {
                                    "USERNEV": "MIHALYJ",
                                    "NEV": "Juhász Mihály",
                                    "Fő": "1",
                                    "Előző három foglalás átlaga": "1"
                                },
                                {
                                    "USERNEV": "MIHALYJ",
                                    "NEV": "Juhász Mihály",
                                    "Fő": "1",
                                    "Előző három foglalás átlaga": "2"
                                },
                                {
                                    "USERNEV": "MIHALYJ",
                                    "NEV": "Juhász Mihály",
                                    "Fő": "1",
                                    "Előző három foglalás átlaga": "2"
                                },
                                {
                                    "USERNEV": "MIHALYJ",
                                    "NEV": "Juhász Mihály",
                                    "Fő": "1",
                                    "Előző három foglalás átlaga": "2"
                                },
                                {
                                    "USERNEV": "MIHALYJ",
                                    "NEV": "Juhász Mihály",
                                    "Fő": "1",
                                    "Előző három foglalás átlaga": "2"
                                },
                                {
                                    "USERNEV": "MIHALYJ",
                                    "NEV": "Juhász Mihály",
                                    "Fő": "1",
                                    "Előző három foglalás átlaga": "1"
                                },
                                {
                                    "USERNEV": "MIHALYJ",
                                    "NEV": "Juhász Mihály",
                                    "Fő": "1",
                                    "Előző három foglalás átlaga": "2"
                                },
                                {
                                    "USERNEV": "miklos2",
                                    "NEV": "Gondos Miklós",
                                    "Fő": "1",
                                    "Előző három foglalás átlaga": "NULL"
                                },
                                {
                                    "USERNEV": "miklos2",
                                    "NEV": "Gondos Miklós",
                                    "Fő": "1",
                                    "Előző három foglalás átlaga": "3"
                                },
                                {
                                    "USERNEV": "miklos2",
                                    "NEV": "Gondos Miklós",
                                    "Fő": "1",
                                    "Előző három foglalás átlaga": "2"
                                },
                                {
                                    "USERNEV": "MONIKAM",
                                    "NEV": "Mohos Mónika",
                                    "Fő": "1",
                                    "Előző három foglalás átlaga": "NULL"
                                },
                                {
                                    "USERNEV": "MONIKAM",
                                    "NEV": "Mohos Mónika",
                                    "Fő": "1",
                                    "Előző három foglalás átlaga": "2"
                                },
                                {
                                    "USERNEV": "MONIKAM",
                                    "NEV": "Mohos Mónika",
                                    "Fő": "1",
                                    "Előző három foglalás átlaga": "1"
                                },
                                {
                                    "USERNEV": "MONIKAM",
                                    "NEV": "Mohos Mónika",
                                    "Fő": "1",
                                    "Előző három foglalás átlaga": "1"
                                },
                                {
                                    "USERNEV": "MONIKAM",
                                    "NEV": "Mohos Mónika",
                                    "Fő": "1",
                                    "Előző három foglalás átlaga": "1"
                                },
                                {
                                    "USERNEV": "MONIKAM",
                                    "NEV": "Mohos Mónika",
                                    "Fő": "1",
                                    "Előző három foglalás átlaga": "1"
                                },
                                {
                                    "USERNEV": "MONIKAM",
                                    "NEV": "Mohos Mónika",
                                    "Fő": "1",
                                    "Előző három foglalás átlaga": "1"
                                },
                                {
                                    "USERNEV": "MONIKAM",
                                    "NEV": "Mohos Mónika",
                                    "Fő": "1",
                                    "Előző három foglalás átlaga": "2"
                                },
                                {
                                    "USERNEV": "MONIKAM",
                                    "NEV": "Mohos Mónika",
                                    "Fő": "1",
                                    "Előző három foglalás átlaga": "1"
                                },
                                {
                                    "USERNEV": "MONIKAM",
                                    "NEV": "Mohos Mónika",
                                    "Fő": "1",
                                    "Előző három foglalás átlaga": "1"
                                },
                                {
                                    "USERNEV": "MONIKAM",
                                    "NEV": "Mohos Mónika",
                                    "Fő": "1",
                                    "Előző három foglalás átlaga": "1"
                                },
                                {
                                    "USERNEV": "MONIKAM",
                                    "NEV": "Mohos Mónika",
                                    "Fő": "1",
                                    "Előző három foglalás átlaga": "1"
                                },
                                {
                                    "USERNEV": "nikolett3",
                                    "NEV": "Horváth Nikolett",
                                    "Fő": "1",
                                    "Előző három foglalás átlaga": "NULL"
                                },
                                {
                                    "USERNEV": "nikolett3",
                                    "NEV": "Horváth Nikolett",
                                    "Fő": "1",
                                    "Előző három foglalás átlaga": "2"
                                },
                                {
                                    "USERNEV": "nikolett3",
                                    "NEV": "Horváth Nikolett",
                                    "Fő": "1",
                                    "Előző három foglalás átlaga": "1"
                                },
                                {
                                    "USERNEV": "nikolett3",
                                    "NEV": "Horváth Nikolett",
                                    "Fő": "1",
                                    "Előző három foglalás átlaga": "1"
                                },
                                {
                                    "USERNEV": "nikolett3",
                                    "NEV": "Horváth Nikolett",
                                    "Fő": "1",
                                    "Előző három foglalás átlaga": "1"
                                },
                                {
                                    "USERNEV": "nikolett3",
                                    "NEV": "Horváth Nikolett",
                                    "Fő": "1",
                                    "Előző három foglalás átlaga": "2"
                                },
                                {
                                    "USERNEV": "nikolett3",
                                    "NEV": "Horváth Nikolett",
                                    "Fő": "1",
                                    "Előző három foglalás átlaga": "2"
                                },
                                {
                                    "USERNEV": "nikolett3",
                                    "NEV": "Horváth Nikolett",
                                    "Fő": "1",
                                    "Előző három foglalás átlaga": "1"
                                },
                                {
                                    "USERNEV": "norbert",
                                    "NEV": "Szűcs Norbert",
                                    "Fő": "1",
                                    "Előző három foglalás átlaga": "NULL"
                                },
                                {
                                    "USERNEV": "norbert",
                                    "NEV": "Szűcs Norbert",
                                    "Fő": "1",
                                    "Előző három foglalás átlaga": "1"
                                },
                                {
                                    "USERNEV": "norbert",
                                    "NEV": "Szűcs Norbert",
                                    "Fő": "1",
                                    "Előző három foglalás átlaga": "2"
                                },
                                {
                                    "USERNEV": "norbert",
                                    "NEV": "Szűcs Norbert",
                                    "Fő": "1",
                                    "Előző három foglalás átlaga": "2"
                                },
                                {
                                    "USERNEV": "norbert",
                                    "NEV": "Szűcs Norbert",
                                    "Fő": "1",
                                    "Előző három foglalás átlaga": "2"
                                },
                                {
                                    "USERNEV": "norbert",
                                    "NEV": "Szűcs Norbert",
                                    "Fő": "1",
                                    "Előző három foglalás átlaga": "2"
                                },
                                {
                                    "USERNEV": "norbert",
                                    "NEV": "Szűcs Norbert",
                                    "Fő": "1",
                                    "Előző három foglalás átlaga": "1"
                                },
                                {
                                    "USERNEV": "norbert",
                                    "NEV": "Szűcs Norbert",
                                    "Fő": "1",
                                    "Előző három foglalás átlaga": "1"
                                },
                                {
                                    "USERNEV": "norbert",
                                    "NEV": "Szűcs Norbert",
                                    "Fő": "1",
                                    "Előző három foglalás átlaga": "2"
                                },
                                {
                                    "USERNEV": "norbert",
                                    "NEV": "Szűcs Norbert",
                                    "Fő": "1",
                                    "Előző három foglalás átlaga": "2"
                                },
                                {
                                    "USERNEV": "norbert2",
                                    "NEV": "Hegedűs Norbert",
                                    "Fő": "1",
                                    "Előző három foglalás átlaga": "NULL"
                                },
                                {
                                    "USERNEV": "norbert2",
                                    "NEV": "Hegedűs Norbert",
                                    "Fő": "1",
                                    "Előző három foglalás átlaga": "1"
                                },
                                {
                                    "USERNEV": "norbert2",
                                    "NEV": "Hegedűs Norbert",
                                    "Fő": "1",
                                    "Előző három foglalás átlaga": "1"
                                },
                                {
                                    "USERNEV": "norbert2",
                                    "NEV": "Hegedűs Norbert",
                                    "Fő": "1",
                                    "Előző három foglalás átlaga": "1"
                                },
                                {
                                    "USERNEV": "norbert2",
                                    "NEV": "Hegedűs Norbert",
                                    "Fő": "1",
                                    "Előző három foglalás átlaga": "1"
                                },
                                {
                                    "USERNEV": "norbert2",
                                    "NEV": "Hegedűs Norbert",
                                    "Fő": "1",
                                    "Előző három foglalás átlaga": "2"
                                },
                                {
                                    "USERNEV": "norbert2",
                                    "NEV": "Hegedűs Norbert",
                                    "Fő": "1",
                                    "Előző három foglalás átlaga": "2"
                                },
                                {
                                    "USERNEV": "norbert2",
                                    "NEV": "Hegedűs Norbert",
                                    "Fő": "1",
                                    "Előző három foglalás átlaga": "2"
                                },
                                {
                                    "USERNEV": "norbert2",
                                    "NEV": "Hegedűs Norbert",
                                    "Fő": "1",
                                    "Előző három foglalás átlaga": "2"
                                },
                                {
                                    "USERNEV": "norbert2",
                                    "NEV": "Hegedűs Norbert",
                                    "Fő": "1",
                                    "Előző három foglalás átlaga": "2"
                                },
                                {
                                    "USERNEV": "norbert2",
                                    "NEV": "Hegedűs Norbert",
                                    "Fő": "1",
                                    "Előző három foglalás átlaga": "1"
                                },
                                {
                                    "USERNEV": "norbert2",
                                    "NEV": "Hegedűs Norbert",
                                    "Fő": "1",
                                    "Előző három foglalás átlaga": "1"
                                },
                                {
                                    "USERNEV": "norbert2",
                                    "NEV": "Hegedűs Norbert",
                                    "Fő": "1",
                                    "Előző három foglalás átlaga": "2"
                                },
                                {
                                    "USERNEV": "norbert2",
                                    "NEV": "Hegedűs Norbert",
                                    "Fő": "1",
                                    "Előző három foglalás átlaga": "2"
                                },
                                {
                                    "USERNEV": "norbert4",
                                    "NEV": "Mile Norbert",
                                    "Fő": "1",
                                    "Előző három foglalás átlaga": "NULL"
                                },
                                {
                                    "USERNEV": "norbert4",
                                    "NEV": "Mile Norbert",
                                    "Fő": "1",
                                    "Előző három foglalás átlaga": "2"
                                },
                                {
                                    "USERNEV": "norbert4",
                                    "NEV": "Mile Norbert",
                                    "Fő": "1",
                                    "Előző három foglalás átlaga": "2"
                                },
                                {
                                    "USERNEV": "norbert4",
                                    "NEV": "Mile Norbert",
                                    "Fő": "1",
                                    "Előző három foglalás átlaga": "3"
                                },
                                {
                                    "USERNEV": "norbert4",
                                    "NEV": "Mile Norbert",
                                    "Fő": "1",
                                    "Előző három foglalás átlaga": "3"
                                },
                                {
                                    "USERNEV": "norbert4",
                                    "NEV": "Mile Norbert",
                                    "Fő": "1",
                                    "Előző három foglalás átlaga": "3"
                                },
                                {
                                    "USERNEV": "norbert4",
                                    "NEV": "Mile Norbert",
                                    "Fő": "1",
                                    "Előző három foglalás átlaga": "3"
                                },
                                {
                                    "USERNEV": "norbert4",
                                    "NEV": "Mile Norbert",
                                    "Fő": "1",
                                    "Előző három foglalás átlaga": "3"
                                },
                                {
                                    "USERNEV": "norbert4",
                                    "NEV": "Mile Norbert",
                                    "Fő": "1",
                                    "Előző három foglalás átlaga": "2"
                                },
                                {
                                    "USERNEV": "norbert5",
                                    "NEV": "Béres Norbert",
                                    "Fő": "1",
                                    "Előző három foglalás átlaga": "NULL"
                                },
                                {
                                    "USERNEV": "norbert5",
                                    "NEV": "Béres Norbert",
                                    "Fő": "1",
                                    "Előző három foglalás átlaga": "2"
                                },
                                {
                                    "USERNEV": "norbert5",
                                    "NEV": "Béres Norbert",
                                    "Fő": "1",
                                    "Előző három foglalás átlaga": "2"
                                },
                                {
                                    "USERNEV": "peter3",
                                    "NEV": "Szalai Péter",
                                    "Fő": "1",
                                    "Előző három foglalás átlaga": "NULL"
                                },
                                {
                                    "USERNEV": "peter3",
                                    "NEV": "Szalai Péter",
                                    "Fő": "1",
                                    "Előző három foglalás átlaga": "4"
                                },
                                {
                                    "USERNEV": "peter3",
                                    "NEV": "Szalai Péter",
                                    "Fő": "1",
                                    "Előző három foglalás átlaga": "3"
                                },
                                {
                                    "USERNEV": "peter3",
                                    "NEV": "Szalai Péter",
                                    "Fő": "1",
                                    "Előző három foglalás átlaga": "3"
                                },
                                {
                                    "USERNEV": "peter3",
                                    "NEV": "Szalai Péter",
                                    "Fő": "1",
                                    "Előző három foglalás átlaga": "2"
                                },
                                {
                                    "USERNEV": "peter3",
                                    "NEV": "Szalai Péter",
                                    "Fő": "1",
                                    "Előző három foglalás átlaga": "1"
                                },
                                {
                                    "USERNEV": "peter3",
                                    "NEV": "Szalai Péter",
                                    "Fő": "1",
                                    "Előző három foglalás átlaga": "1"
                                },
                                {
                                    "USERNEV": "peter3",
                                    "NEV": "Szalai Péter",
                                    "Fő": "1",
                                    "Előző három foglalás átlaga": "2"
                                },
                                {
                                    "USERNEV": "peter3",
                                    "NEV": "Szalai Péter",
                                    "Fő": "1",
                                    "Előző három foglalás átlaga": "3"
                                },
                                {
                                    "USERNEV": "peter3",
                                    "NEV": "Szalai Péter",
                                    "Fő": "1",
                                    "Előző három foglalás átlaga": "3"
                                },
                                {
                                    "USERNEV": "peter3",
                                    "NEV": "Szalai Péter",
                                    "Fő": "1",
                                    "Előző három foglalás átlaga": "2"
                                },
                                {
                                    "USERNEV": "peter3",
                                    "NEV": "Szalai Péter",
                                    "Fő": "1",
                                    "Előző három foglalás átlaga": "1"
                                },
                                {
                                    "USERNEV": "PETERB",
                                    "NEV": "Berendi Péter",
                                    "Fő": "1",
                                    "Előző három foglalás átlaga": "NULL"
                                },
                                {
                                    "USERNEV": "PETERB",
                                    "NEV": "Berendi Péter",
                                    "Fő": "1",
                                    "Előző három foglalás átlaga": "1"
                                },
                                {
                                    "USERNEV": "PETERB",
                                    "NEV": "Berendi Péter",
                                    "Fő": "1",
                                    "Előző három foglalás átlaga": "1"
                                },
                                {
                                    "USERNEV": "PETERB",
                                    "NEV": "Berendi Péter",
                                    "Fő": "1",
                                    "Előző három foglalás átlaga": "1"
                                },
                                {
                                    "USERNEV": "PETERB",
                                    "NEV": "Berendi Péter",
                                    "Fő": "1",
                                    "Előző három foglalás átlaga": "1"
                                },
                                {
                                    "USERNEV": "PETERB",
                                    "NEV": "Berendi Péter",
                                    "Fő": "1",
                                    "Előző három foglalás átlaga": "2"
                                },
                                {
                                    "USERNEV": "PETERB",
                                    "NEV": "Berendi Péter",
                                    "Fő": "1",
                                    "Előző három foglalás átlaga": "2"
                                },
                                {
                                    "USERNEV": "PETERB",
                                    "NEV": "Berendi Péter",
                                    "Fő": "1",
                                    "Előző három foglalás átlaga": "2"
                                },
                                {
                                    "USERNEV": "PETERB",
                                    "NEV": "Berendi Péter",
                                    "Fő": "1",
                                    "Előző három foglalás átlaga": "1"
                                },
                                {
                                    "USERNEV": "PETERB",
                                    "NEV": "Berendi Péter",
                                    "Fő": "1",
                                    "Előző három foglalás átlaga": "1"
                                },
                                {
                                    "USERNEV": "RENATAK",
                                    "NEV": "Kardos Renáta",
                                    "Fő": "1",
                                    "Előző három foglalás átlaga": "NULL"
                                },
                                {
                                    "USERNEV": "RENATAK",
                                    "NEV": "Kardos Renáta",
                                    "Fő": "1",
                                    "Előző három foglalás átlaga": "4"
                                },
                                {
                                    "USERNEV": "RENATAK",
                                    "NEV": "Kardos Renáta",
                                    "Fő": "1",
                                    "Előző három foglalás átlaga": "2"
                                },
                                {
                                    "USERNEV": "RENATAK",
                                    "NEV": "Kardos Renáta",
                                    "Fő": "1",
                                    "Előző három foglalás átlaga": "2"
                                },
                                {
                                    "USERNEV": "RENATAK",
                                    "NEV": "Kardos Renáta",
                                    "Fő": "1",
                                    "Előző három foglalás átlaga": "1"
                                },
                                {
                                    "USERNEV": "RENATAK",
                                    "NEV": "Kardos Renáta",
                                    "Fő": "1",
                                    "Előző három foglalás átlaga": "1"
                                },
                                {
                                    "USERNEV": "RENATAK",
                                    "NEV": "Kardos Renáta",
                                    "Fő": "1",
                                    "Előző három foglalás átlaga": "1"
                                },
                                {
                                    "USERNEV": "RENATAK",
                                    "NEV": "Kardos Renáta",
                                    "Fő": "1",
                                    "Előző három foglalás átlaga": "2"
                                },
                                {
                                    "USERNEV": "RENATAK",
                                    "NEV": "Kardos Renáta",
                                    "Fő": "1",
                                    "Előző három foglalás átlaga": "2"
                                },
                                {
                                    "USERNEV": "RENATAK",
                                    "NEV": "Kardos Renáta",
                                    "Fő": "1",
                                    "Előző három foglalás átlaga": "2"
                                },
                                {
                                    "USERNEV": "RENATAK",
                                    "NEV": "Kardos Renáta",
                                    "Fő": "1",
                                    "Előző három foglalás átlaga": "1"
                                },
                                {
                                    "USERNEV": "RENATAK",
                                    "NEV": "Kardos Renáta",
                                    "Fő": "1",
                                    "Előző három foglalás átlaga": "1"
                                },
                                {
                                    "USERNEV": "RENATAK",
                                    "NEV": "Kardos Renáta",
                                    "Fő": "1",
                                    "Előző három foglalás átlaga": "1"
                                },
                                {
                                    "USERNEV": "RENATAK",
                                    "NEV": "Kardos Renáta",
                                    "Fő": "1",
                                    "Előző három foglalás átlaga": "2"
                                },
                                {
                                    "USERNEV": "RENATAK",
                                    "NEV": "Kardos Renáta",
                                    "Fő": "1",
                                    "Előző három foglalás átlaga": "2"
                                },
                                {
                                    "USERNEV": "RENATAK",
                                    "NEV": "Kardos Renáta",
                                    "Fő": "1",
                                    "Előző három foglalás átlaga": "2"
                                },
                                {
                                    "USERNEV": "RENATAK",
                                    "NEV": "Kardos Renáta",
                                    "Fő": "1",
                                    "Előző három foglalás átlaga": "1"
                                },
                                {
                                    "USERNEV": "RENATAK",
                                    "NEV": "Kardos Renáta",
                                    "Fő": "1",
                                    "Előző három foglalás átlaga": "1"
                                },
                                {
                                    "USERNEV": "RENATAK",
                                    "NEV": "Kardos Renáta",
                                    "Fő": "1",
                                    "Előző három foglalás átlaga": "1"
                                },
                                {
                                    "USERNEV": "RENATAK",
                                    "NEV": "Kardos Renáta",
                                    "Fő": "1",
                                    "Előző három foglalás átlaga": "2"
                                },
                                {
                                    "USERNEV": "RENATAK",
                                    "NEV": "Kardos Renáta",
                                    "Fő": "1",
                                    "Előző három foglalás átlaga": "2"
                                },
                                {
                                    "USERNEV": "RENATAK",
                                    "NEV": "Kardos Renáta",
                                    "Fő": "1",
                                    "Előző három foglalás átlaga": "2"
                                },
                                {
                                    "USERNEV": "RENATAK",
                                    "NEV": "Kardos Renáta",
                                    "Fő": "1",
                                    "Előző három foglalás átlaga": "1"
                                },
                                {
                                    "USERNEV": "RENATAK",
                                    "NEV": "Kardos Renáta",
                                    "Fő": "1",
                                    "Előző három foglalás átlaga": "1"
                                },
                                {
                                    "USERNEV": "RENATAS",
                                    "NEV": "Szirmai Renáta",
                                    "Fő": "1",
                                    "Előző három foglalás átlaga": "NULL"
                                },
                                {
                                    "USERNEV": "RENATAS",
                                    "NEV": "Szirmai Renáta",
                                    "Fő": "1",
                                    "Előző három foglalás átlaga": "2"
                                },
                                {
                                    "USERNEV": "RENATAS",
                                    "NEV": "Szirmai Renáta",
                                    "Fő": "1",
                                    "Előző három foglalás átlaga": "2"
                                },
                                {
                                    "USERNEV": "RENATAS",
                                    "NEV": "Szirmai Renáta",
                                    "Fő": "1",
                                    "Előző három foglalás átlaga": "3"
                                },
                                {
                                    "USERNEV": "RENATAS",
                                    "NEV": "Szirmai Renáta",
                                    "Fő": "1",
                                    "Előző három foglalás átlaga": "2"
                                },
                                {
                                    "USERNEV": "robert2",
                                    "NEV": "Patay Róbert",
                                    "Fő": "1",
                                    "Előző három foglalás átlaga": "NULL"
                                },
                                {
                                    "USERNEV": "robert2",
                                    "NEV": "Patay Róbert",
                                    "Fő": "1",
                                    "Előző három foglalás átlaga": "2"
                                },
                                {
                                    "USERNEV": "robert2",
                                    "NEV": "Patay Róbert",
                                    "Fő": "1",
                                    "Előző három foglalás átlaga": "2"
                                },
                                {
                                    "USERNEV": "robert2",
                                    "NEV": "Patay Róbert",
                                    "Fő": "1",
                                    "Előző három foglalás átlaga": "2"
                                },
                                {
                                    "USERNEV": "ROBERTI",
                                    "NEV": "Iván Róbert",
                                    "Fő": "1",
                                    "Előző három foglalás átlaga": "NULL"
                                },
                                {
                                    "USERNEV": "ROBERTI",
                                    "NEV": "Iván Róbert",
                                    "Fő": "1",
                                    "Előző három foglalás átlaga": "2"
                                },
                                {
                                    "USERNEV": "ROBERTI",
                                    "NEV": "Iván Róbert",
                                    "Fő": "1",
                                    "Előző három foglalás átlaga": "2"
                                },
                                {
                                    "USERNEV": "ROBERTI",
                                    "NEV": "Iván Róbert",
                                    "Fő": "1",
                                    "Előző három foglalás átlaga": "2"
                                },
                                {
                                    "USERNEV": "ROBERTI",
                                    "NEV": "Iván Róbert",
                                    "Fő": "1",
                                    "Előző három foglalás átlaga": "3"
                                },
                                {
                                    "USERNEV": "ROBERTI",
                                    "NEV": "Iván Róbert",
                                    "Fő": "1",
                                    "Előző három foglalás átlaga": "3"
                                },
                                {
                                    "USERNEV": "ROBERTI",
                                    "NEV": "Iván Róbert",
                                    "Fő": "1",
                                    "Előző három foglalás átlaga": "2"
                                },
                                {
                                    "USERNEV": "ROBERTI",
                                    "NEV": "Iván Róbert",
                                    "Fő": "1",
                                    "Előző három foglalás átlaga": "1"
                                },
                                {
                                    "USERNEV": "roland1",
                                    "NEV": "Ferencz Roland",
                                    "Fő": "1",
                                    "Előző három foglalás átlaga": "NULL"
                                },
                                {
                                    "USERNEV": "roland1",
                                    "NEV": "Ferencz Roland",
                                    "Fő": "1",
                                    "Előző három foglalás átlaga": "3"
                                },
                                {
                                    "USERNEV": "roland1",
                                    "NEV": "Ferencz Roland",
                                    "Fő": "1",
                                    "Előző három foglalás átlaga": "2"
                                },
                                {
                                    "USERNEV": "roland1",
                                    "NEV": "Ferencz Roland",
                                    "Fő": "1",
                                    "Előző három foglalás átlaga": "2"
                                },
                                {
                                    "USERNEV": "sandor3",
                                    "NEV": "Farkas Sándor",
                                    "Fő": "1",
                                    "Előző három foglalás átlaga": "NULL"
                                },
                                {
                                    "USERNEV": "sandor3",
                                    "NEV": "Farkas Sándor",
                                    "Fő": "1",
                                    "Előző három foglalás átlaga": "2"
                                },
                                {
                                    "USERNEV": "sandor3",
                                    "NEV": "Farkas Sándor",
                                    "Fő": "1",
                                    "Előző három foglalás átlaga": "1"
                                },
                                {
                                    "USERNEV": "sandor3",
                                    "NEV": "Farkas Sándor",
                                    "Fő": "1",
                                    "Előző három foglalás átlaga": "1"
                                },
                                {
                                    "USERNEV": "sandor3",
                                    "NEV": "Farkas Sándor",
                                    "Fő": "1",
                                    "Előző három foglalás átlaga": "2"
                                },
                                {
                                    "USERNEV": "sandor4",
                                    "NEV": "Nagy Sándor",
                                    "Fő": "1",
                                    "Előző három foglalás átlaga": "NULL"
                                },
                                {
                                    "USERNEV": "sandor4",
                                    "NEV": "Nagy Sándor",
                                    "Fő": "1",
                                    "Előző három foglalás átlaga": "1"
                                },
                                {
                                    "USERNEV": "sandor4",
                                    "NEV": "Nagy Sándor",
                                    "Fő": "1",
                                    "Előző három foglalás átlaga": "1"
                                },
                                {
                                    "USERNEV": "sandor4",
                                    "NEV": "Nagy Sándor",
                                    "Fő": "1",
                                    "Előző három foglalás átlaga": "1"
                                },
                                {
                                    "USERNEV": "sandor4",
                                    "NEV": "Nagy Sándor",
                                    "Fő": "1",
                                    "Előző három foglalás átlaga": "1"
                                },
                                {
                                    "USERNEV": "sandor4",
                                    "NEV": "Nagy Sándor",
                                    "Fő": "1",
                                    "Előző három foglalás átlaga": "1"
                                },
                                {
                                    "USERNEV": "sandor4",
                                    "NEV": "Nagy Sándor",
                                    "Fő": "1",
                                    "Előző három foglalás átlaga": "1"
                                },
                                {
                                    "USERNEV": "sandor4",
                                    "NEV": "Nagy Sándor",
                                    "Fő": "1",
                                    "Előző három foglalás átlaga": "1"
                                },
                                {
                                    "USERNEV": "sara",
                                    "NEV": "Farkas Sára",
                                    "Fő": "1",
                                    "Előző három foglalás átlaga": "NULL"
                                },
                                {
                                    "USERNEV": "sara",
                                    "NEV": "Farkas Sára",
                                    "Fő": "1",
                                    "Előző három foglalás átlaga": "3"
                                },
                                {
                                    "USERNEV": "sara",
                                    "NEV": "Farkas Sára",
                                    "Fő": "1",
                                    "Előző három foglalás átlaga": "3"
                                },
                                {
                                    "USERNEV": "sara",
                                    "NEV": "Farkas Sára",
                                    "Fő": "1",
                                    "Előző három foglalás átlaga": "2"
                                },
                                {
                                    "USERNEV": "sara",
                                    "NEV": "Farkas Sára",
                                    "Fő": "1",
                                    "Előző három foglalás átlaga": "2"
                                },
                                {
                                    "USERNEV": "sara",
                                    "NEV": "Farkas Sára",
                                    "Fő": "1",
                                    "Előző három foglalás átlaga": "2"
                                },
                                {
                                    "USERNEV": "sara",
                                    "NEV": "Farkas Sára",
                                    "Fő": "1",
                                    "Előző három foglalás átlaga": "2"
                                },
                                {
                                    "USERNEV": "sara",
                                    "NEV": "Farkas Sára",
                                    "Fő": "1",
                                    "Előző három foglalás átlaga": "2"
                                },
                                {
                                    "USERNEV": "sara",
                                    "NEV": "Farkas Sára",
                                    "Fő": "1",
                                    "Előző három foglalás átlaga": "2"
                                },
                                {
                                    "USERNEV": "sara",
                                    "NEV": "Farkas Sára",
                                    "Fő": "1",
                                    "Előző három foglalás átlaga": "2"
                                },
                                {
                                    "USERNEV": "sara",
                                    "NEV": "Farkas Sára",
                                    "Fő": "1",
                                    "Előző három foglalás átlaga": "3"
                                },
                                {
                                    "USERNEV": "sara",
                                    "NEV": "Farkas Sára",
                                    "Fő": "1",
                                    "Előző három foglalás átlaga": "2"
                                },
                                {
                                    "USERNEV": "SZILARDS",
                                    "NEV": "Szalai Szilárd",
                                    "Fő": "1",
                                    "Előző három foglalás átlaga": "NULL"
                                },
                                {
                                    "USERNEV": "SZILARDS",
                                    "NEV": "Szalai Szilárd",
                                    "Fő": "1",
                                    "Előző három foglalás átlaga": "3"
                                },
                                {
                                    "USERNEV": "SZILARDS",
                                    "NEV": "Szalai Szilárd",
                                    "Fő": "1",
                                    "Előző három foglalás átlaga": "4"
                                },
                                {
                                    "USERNEV": "SZILARDS",
                                    "NEV": "Szalai Szilárd",
                                    "Fő": "1",
                                    "Előző három foglalás átlaga": "4"
                                },
                                {
                                    "USERNEV": "SZILARDS",
                                    "NEV": "Szalai Szilárd",
                                    "Fő": "1",
                                    "Előző három foglalás átlaga": "4"
                                },
                                {
                                    "USERNEV": "SZILARDS",
                                    "NEV": "Szalai Szilárd",
                                    "Fő": "1",
                                    "Előző három foglalás átlaga": "3"
                                },
                                {
                                    "USERNEV": "SZILARDS",
                                    "NEV": "Szalai Szilárd",
                                    "Fő": "1",
                                    "Előző három foglalás átlaga": "3"
                                },
                                {
                                    "USERNEV": "TAMASF",
                                    "NEV": "Fényes Tamás",
                                    "Fő": "1",
                                    "Előző három foglalás átlaga": "NULL"
                                },
                                {
                                    "USERNEV": "TAMASF",
                                    "NEV": "Fényes Tamás",
                                    "Fő": "1",
                                    "Előző három foglalás átlaga": "2"
                                },
                                {
                                    "USERNEV": "TAMASF",
                                    "NEV": "Fényes Tamás",
                                    "Fő": "1",
                                    "Előző három foglalás átlaga": "2"
                                },
                                {
                                    "USERNEV": "TAMASF",
                                    "NEV": "Fényes Tamás",
                                    "Fő": "1",
                                    "Előző három foglalás átlaga": "2"
                                },
                                {
                                    "USERNEV": "TAMASF",
                                    "NEV": "Fényes Tamás",
                                    "Fő": "1",
                                    "Előző három foglalás átlaga": "2"
                                },
                                {
                                    "USERNEV": "TAMASF",
                                    "NEV": "Fényes Tamás",
                                    "Fő": "1",
                                    "Előző három foglalás átlaga": "2"
                                },
                                {
                                    "USERNEV": "TAMASF",
                                    "NEV": "Fényes Tamás",
                                    "Fő": "1",
                                    "Előző három foglalás átlaga": "3"
                                },
                                {
                                    "USERNEV": "TAMASF",
                                    "NEV": "Fényes Tamás",
                                    "Fő": "1",
                                    "Előző három foglalás átlaga": "3"
                                },
                                {
                                    "USERNEV": "TAMASF",
                                    "NEV": "Fényes Tamás",
                                    "Fő": "1",
                                    "Előző három foglalás átlaga": "3"
                                },
                                {
                                    "USERNEV": "tibor",
                                    "NEV": "Gombos Tibor",
                                    "Fő": "1",
                                    "Előző három foglalás átlaga": "NULL"
                                },
                                {
                                    "USERNEV": "tibor",
                                    "NEV": "Gombos Tibor",
                                    "Fő": "1",
                                    "Előző három foglalás átlaga": "2"
                                },
                                {
                                    "USERNEV": "tihamer",
                                    "NEV": "Kazy Tihamér",
                                    "Fő": "1",
                                    "Előző három foglalás átlaga": "NULL"
                                },
                                {
                                    "USERNEV": "tihamer",
                                    "NEV": "Kazy Tihamér",
                                    "Fő": "1",
                                    "Előző három foglalás átlaga": "3"
                                },
                                {
                                    "USERNEV": "tihamer",
                                    "NEV": "Kazy Tihamér",
                                    "Fő": "1",
                                    "Előző három foglalás átlaga": "3"
                                },
                                {
                                    "USERNEV": "tihamer",
                                    "NEV": "Kazy Tihamér",
                                    "Fő": "1",
                                    "Előző három foglalás átlaga": "2"
                                },
                                {
                                    "USERNEV": "tihamer",
                                    "NEV": "Kazy Tihamér",
                                    "Fő": "1",
                                    "Előző három foglalás átlaga": "3"
                                },
                                {
                                    "USERNEV": "tihamer",
                                    "NEV": "Kazy Tihamér",
                                    "Fő": "1",
                                    "Előző három foglalás átlaga": "2"
                                },
                                {
                                    "USERNEV": "tunde",
                                    "NEV": "Turcsik Tünde",
                                    "Fő": "1",
                                    "Előző három foglalás átlaga": "NULL"
                                },
                                {
                                    "USERNEV": "tunde",
                                    "NEV": "Turcsik Tünde",
                                    "Fő": "1",
                                    "Előző három foglalás átlaga": "1"
                                },
                                {
                                    "USERNEV": "tunde",
                                    "NEV": "Turcsik Tünde",
                                    "Fő": "1",
                                    "Előző három foglalás átlaga": "1"
                                },
                                {
                                    "USERNEV": "tunde",
                                    "NEV": "Turcsik Tünde",
                                    "Fő": "1",
                                    "Előző három foglalás átlaga": "2"
                                },
                                {
                                    "USERNEV": "tunde",
                                    "NEV": "Turcsik Tünde",
                                    "Fő": "1",
                                    "Előző három foglalás átlaga": "2"
                                },
                                {
                                    "USERNEV": "tunde",
                                    "NEV": "Turcsik Tünde",
                                    "Fő": "1",
                                    "Előző három foglalás átlaga": "3"
                                },
                                {
                                    "USERNEV": "tunde",
                                    "NEV": "Turcsik Tünde",
                                    "Fő": "1",
                                    "Előző három foglalás átlaga": "3"
                                },
                                {
                                    "USERNEV": "tunde",
                                    "NEV": "Turcsik Tünde",
                                    "Fő": "1",
                                    "Előző három foglalás átlaga": "3"
                                },
                                {
                                    "USERNEV": "valentin",
                                    "NEV": "Feró Valentin",
                                    "Fő": "1",
                                    "Előző három foglalás átlaga": "NULL"
                                },
                                {
                                    "USERNEV": "valentin",
                                    "NEV": "Feró Valentin",
                                    "Fő": "1",
                                    "Előző három foglalás átlaga": "1"
                                },
                                {
                                    "USERNEV": "valentin",
                                    "NEV": "Feró Valentin",
                                    "Fő": "1",
                                    "Előző három foglalás átlaga": "2"
                                },
                                {
                                    "USERNEV": "valentin",
                                    "NEV": "Feró Valentin",
                                    "Fő": "1",
                                    "Előző három foglalás átlaga": "2"
                                },
                                {
                                    "USERNEV": "valentin",
                                    "NEV": "Feró Valentin",
                                    "Fő": "1",
                                    "Előző három foglalás átlaga": "3"
                                },
                                {
                                    "USERNEV": "veronika4",
                                    "NEV": "Tankó Veronika",
                                    "Fő": "1",
                                    "Előző három foglalás átlaga": "NULL"
                                },
                                {
                                    "USERNEV": "veronika4",
                                    "NEV": "Tankó Veronika",
                                    "Fő": "1",
                                    "Előző három foglalás átlaga": "3"
                                },
                                {
                                    "USERNEV": "veronika4",
                                    "NEV": "Tankó Veronika",
                                    "Fő": "1",
                                    "Előző három foglalás átlaga": "2"
                                },
                                {
                                    "USERNEV": "veronika4",
                                    "NEV": "Tankó Veronika",
                                    "Fő": "1",
                                    "Előző három foglalás átlaga": "2"
                                },
                                {
                                    "USERNEV": "veronika4",
                                    "NEV": "Tankó Veronika",
                                    "Fő": "1",
                                    "Előző három foglalás átlaga": "1"
                                },
                                {
                                    "USERNEV": "veronika4",
                                    "NEV": "Tankó Veronika",
                                    "Fő": "1",
                                    "Előző három foglalás átlaga": "2"
                                },
                                {
                                    "USERNEV": "VIKTORIAU",
                                    "NEV": "Urbán Viktoria",
                                    "Fő": "1",
                                    "Előző három foglalás átlaga": "NULL"
                                },
                                {
                                    "USERNEV": "VIKTORIAU",
                                    "NEV": "Urbán Viktoria",
                                    "Fő": "1",
                                    "Előző három foglalás átlaga": "1"
                                },
                                {
                                    "USERNEV": "VIKTORIAU",
                                    "NEV": "Urbán Viktoria",
                                    "Fő": "1",
                                    "Előző három foglalás átlaga": "1"
                                },
                                {
                                    "USERNEV": "VIKTORIAU",
                                    "NEV": "Urbán Viktoria",
                                    "Fő": "1",
                                    "Előző három foglalás átlaga": "2"
                                },
                                {
                                    "USERNEV": "vivien3",
                                    "NEV": "Boros Vivien",
                                    "Fő": "1",
                                    "Előző három foglalás átlaga": "NULL"
                                },
                                {
                                    "USERNEV": "vivien3",
                                    "NEV": "Boros Vivien",
                                    "Fő": "1",
                                    "Előző három foglalás átlaga": "3"
                                },
                                {
                                    "USERNEV": "vivien3",
                                    "NEV": "Boros Vivien",
                                    "Fő": "1",
                                    "Előző három foglalás átlaga": "2"
                                },
                                {
                                    "USERNEV": "vivien3",
                                    "NEV": "Boros Vivien",
                                    "Fő": "1",
                                    "Előző három foglalás átlaga": "2"
                                },
                                {
                                    "USERNEV": "vivien3",
                                    "NEV": "Boros Vivien",
                                    "Fő": "1",
                                    "Előző három foglalás átlaga": "1"
                                },
                                {
                                    "USERNEV": "vivien3",
                                    "NEV": "Boros Vivien",
                                    "Fő": "1",
                                    "Előző három foglalás átlaga": "1"
                                },
                                {
                                    "USERNEV": "vivien3",
                                    "NEV": "Boros Vivien",
                                    "Fő": "1",
                                    "Előző három foglalás átlaga": "1"
                                },
                                {
                                    "USERNEV": "zoltan4",
                                    "NEV": "Barna Zoltán",
                                    "Fő": "1",
                                    "Előző három foglalás átlaga": "NULL"
                                },
                                {
                                    "USERNEV": "zoltan4",
                                    "NEV": "Barna Zoltán",
                                    "Fő": "1",
                                    "Előző három foglalás átlaga": "3"
                                },
                                {
                                    "USERNEV": "zoltan4",
                                    "NEV": "Barna Zoltán",
                                    "Fő": "1",
                                    "Előző három foglalás átlaga": "3"
                                },
                                {
                                    "USERNEV": "zoltan4",
                                    "NEV": "Barna Zoltán",
                                    "Fő": "1",
                                    "Előző három foglalás átlaga": "2"
                                },
                                {
                                    "USERNEV": "zoltan4",
                                    "NEV": "Barna Zoltán",
                                    "Fő": "1",
                                    "Előző három foglalás átlaga": "2"
                                },
                                {
                                    "USERNEV": "zoltan4",
                                    "NEV": "Barna Zoltán",
                                    "Fő": "1",
                                    "Előző három foglalás átlaga": "1"
                                },
                                {
                                    "USERNEV": "zoltan4",
                                    "NEV": "Barna Zoltán",
                                    "Fő": "1",
                                    "Előző három foglalás átlaga": "2"
                                },
                                {
                                    "USERNEV": "zoltan4",
                                    "NEV": "Barna Zoltán",
                                    "Fő": "1",
                                    "Előző három foglalás átlaga": "3"
                                },
                                {
                                    "USERNEV": "zoltan4",
                                    "NEV": "Barna Zoltán",
                                    "Fő": "1",
                                    "Előző három foglalás átlaga": "3"
                                },
                                {
                                    "USERNEV": "zoltan4",
                                    "NEV": "Barna Zoltán",
                                    "Fő": "1",
                                    "Előző három foglalás átlaga": "2"
                                },
                                {
                                    "USERNEV": "zoltan4",
                                    "NEV": "Barna Zoltán",
                                    "Fő": "1",
                                    "Előző három foglalás átlaga": "1"
                                },
                                {
                                    "USERNEV": "zoltan4",
                                    "NEV": "Barna Zoltán",
                                    "Fő": "1",
                                    "Előző három foglalás átlaga": "1"
                                },
                                {
                                    "USERNEV": "zoltan4",
                                    "NEV": "Barna Zoltán",
                                    "Fő": "1",
                                    "Előző három foglalás átlaga": "2"
                                },
                                {
                                    "USERNEV": "zoltan4",
                                    "NEV": "Barna Zoltán",
                                    "Fő": "1",
                                    "Előző három foglalás átlaga": "2"
                                },
                                {
                                    "USERNEV": "zoltan4",
                                    "NEV": "Barna Zoltán",
                                    "Fő": "1",
                                    "Előző három foglalás átlaga": "3"
                                },
                                {
                                    "USERNEV": "zoltan4",
                                    "NEV": "Barna Zoltán",
                                    "Fő": "1",
                                    "Előző három foglalás átlaga": "2"
                                },
                                {
                                    "USERNEV": "zoltan4",
                                    "NEV": "Barna Zoltán",
                                    "Fő": "1",
                                    "Előző három foglalás átlaga": "2"
                                },
                                {
                                    "USERNEV": "zoltan4",
                                    "NEV": "Barna Zoltán",
                                    "Fő": "1",
                                    "Előző három foglalás átlaga": "1"
                                },
                                {
                                    "USERNEV": "zoltan4",
                                    "NEV": "Barna Zoltán",
                                    "Fő": "1",
                                    "Előző három foglalás átlaga": "2"
                                },
                                {
                                    "USERNEV": "zoltan4",
                                    "NEV": "Barna Zoltán",
                                    "Fő": "1",
                                    "Előző három foglalás átlaga": "3"
                                },
                                {
                                    "USERNEV": "zoltan4",
                                    "NEV": "Barna Zoltán",
                                    "Fő": "1",
                                    "Előző három foglalás átlaga": "3"
                                },
                                {
                                    "USERNEV": "zoltan4",
                                    "NEV": "Barna Zoltán",
                                    "Fő": "1",
                                    "Előző három foglalás átlaga": "2"
                                },
                                {
                                    "USERNEV": "zoltan4",
                                    "NEV": "Barna Zoltán",
                                    "Fő": "1",
                                    "Előző három foglalás átlaga": "1"
                                },
                                {
                                    "USERNEV": "zoltan4",
                                    "NEV": "Barna Zoltán",
                                    "Fő": "1",
                                    "Előző három foglalás átlaga": "1"
                                },
                                {
                                    "USERNEV": "zoltan4",
                                    "NEV": "Barna Zoltán",
                                    "Fő": "1",
                                    "Előző három foglalás átlaga": "2"
                                },
                                {
                                    "USERNEV": "zoltan4",
                                    "NEV": "Barna Zoltán",
                                    "Fő": "1",
                                    "Előző három foglalás átlaga": "2"
                                },
                                {
                                    "USERNEV": "zoltan4",
                                    "NEV": "Barna Zoltán",
                                    "Fő": "1",
                                    "Előző három foglalás átlaga": "3"
                                },
                                {
                                    "USERNEV": "zoltan4",
                                    "NEV": "Barna Zoltán",
                                    "Fő": "1",
                                    "Előző három foglalás átlaga": "2"
                                },
                                {
                                    "USERNEV": "zoltan4",
                                    "NEV": "Barna Zoltán",
                                    "Fő": "1",
                                    "Előző három foglalás átlaga": "2"
                                },
                                {
                                    "USERNEV": "zoltan4",
                                    "NEV": "Barna Zoltán",
                                    "Fő": "1",
                                    "Előző három foglalás átlaga": "1"
                                },
                                {
                                    "USERNEV": "zoltan4",
                                    "NEV": "Barna Zoltán",
                                    "Fő": "1",
                                    "Előző három foglalás átlaga": "2"
                                },
                                {
                                    "USERNEV": "zoltan4",
                                    "NEV": "Barna Zoltán",
                                    "Fő": "1",
                                    "Előző három foglalás átlaga": "3"
                                },
                                {
                                    "USERNEV": "zoltan4",
                                    "NEV": "Barna Zoltán",
                                    "Fő": "1",
                                    "Előző három foglalás átlaga": "3"
                                },
                                {
                                    "USERNEV": "zoltan4",
                                    "NEV": "Barna Zoltán",
                                    "Fő": "1",
                                    "Előző három foglalás átlaga": "2"
                                },
                                {
                                    "USERNEV": "zoltan4",
                                    "NEV": "Barna Zoltán",
                                    "Fő": "1",
                                    "Előző három foglalás átlaga": "1"
                                },
                                {
                                    "USERNEV": "zoltan4",
                                    "NEV": "Barna Zoltán",
                                    "Fő": "1",
                                    "Előző három foglalás átlaga": "1"
                                },
                                {
                                    "USERNEV": "zoltan4",
                                    "NEV": "Barna Zoltán",
                                    "Fő": "1",
                                    "Előző három foglalás átlaga": "2"
                                },
                                {
                                    "USERNEV": "zoltan4",
                                    "NEV": "Barna Zoltán",
                                    "Fő": "1",
                                    "Előző három foglalás átlaga": "2"
                                },
                                {
                                    "USERNEV": "zoltan4",
                                    "NEV": "Barna Zoltán",
                                    "Fő": "1",
                                    "Előző három foglalás átlaga": "3"
                                },
                                {
                                    "USERNEV": "zoltan4",
                                    "NEV": "Barna Zoltán",
                                    "Fő": "1",
                                    "Előző három foglalás átlaga": "2"
                                },
                                {
                                    "USERNEV": "zoltan4",
                                    "NEV": "Barna Zoltán",
                                    "Fő": "1",
                                    "Előző három foglalás átlaga": "2"
                                },
                                {
                                    "USERNEV": "zoltan4",
                                    "NEV": "Barna Zoltán",
                                    "Fő": "1",
                                    "Előző három foglalás átlaga": "1"
                                },
                                {
                                    "USERNEV": "zoltan4",
                                    "NEV": "Barna Zoltán",
                                    "Fő": "1",
                                    "Előző három foglalás átlaga": "2"
                                },
                                {
                                    "USERNEV": "zoltan4",
                                    "NEV": "Barna Zoltán",
                                    "Fő": "1",
                                    "Előző három foglalás átlaga": "3"
                                },
                                {
                                    "USERNEV": "zoltan4",
                                    "NEV": "Barna Zoltán",
                                    "Fő": "1",
                                    "Előző három foglalás átlaga": "3"
                                },
                                {
                                    "USERNEV": "zoltan4",
                                    "NEV": "Barna Zoltán",
                                    "Fő": "1",
                                    "Előző három foglalás átlaga": "2"
                                },
                                {
                                    "USERNEV": "zoltan4",
                                    "NEV": "Barna Zoltán",
                                    "Fő": "1",
                                    "Előző három foglalás átlaga": "1"
                                },
                                {
                                    "USERNEV": "zoltan4",
                                    "NEV": "Barna Zoltán",
                                    "Fő": "1",
                                    "Előző három foglalás átlaga": "1"
                                },
                                {
                                    "USERNEV": "ZSOLTJ",
                                    "NEV": "Józsa Zsolt",
                                    "Fő": "1",
                                    "Előző három foglalás átlaga": "NULL"
                                },
                                {
                                    "USERNEV": "ZSOLTJ",
                                    "NEV": "Józsa Zsolt",
                                    "Fő": "1",
                                    "Előző három foglalás átlaga": "4"
                                },
                                {
                                    "USERNEV": "ZSOLTJ",
                                    "NEV": "Józsa Zsolt",
                                    "Fő": "1",
                                    "Előző három foglalás átlaga": "3"
                                },
                                {
                                    "USERNEV": "ZSOLTJ",
                                    "NEV": "Józsa Zsolt",
                                    "Fő": "1",
                                    "Előző három foglalás átlaga": "2"
                                },
                                {
                                    "USERNEV": "ZSOLTJ",
                                    "NEV": "Józsa Zsolt",
                                    "Fő": "1",
                                    "Előző három foglalás átlaga": "1"
                                },
                                {
                                    "USERNEV": "ZSOLTJ",
                                    "NEV": "Józsa Zsolt",
                                    "Fő": "1",
                                    "Előző három foglalás átlaga": "1"
                                },
                                {
                                    "USERNEV": "zsuzsanna",
                                    "NEV": "Barta Zsuzsanna",
                                    "Fő": "1",
                                    "Előző három foglalás átlaga": "NULL"
                                },
                                {
                                    "USERNEV": "zsuzsanna",
                                    "NEV": "Barta Zsuzsanna",
                                    "Fő": "1",
                                    "Előző három foglalás átlaga": "2"
                                },
                                {
                                    "USERNEV": "zsuzsanna",
                                    "NEV": "Barta Zsuzsanna",
                                    "Fő": "1",
                                    "Előző három foglalás átlaga": "2"
                                },
                                {
                                    "USERNEV": "zsuzsanna",
                                    "NEV": "Barta Zsuzsanna",
                                    "Fő": "1",
                                    "Előző három foglalás átlaga": "1"
                                },
                                {
                                    "USERNEV": "ZSUZSAV",
                                    "NEV": "Vajda Zsuzsa",
                                    "Fő": "1",
                                    "Előző három foglalás átlaga": "NULL"
                                },
                                {
                                    "USERNEV": "ZSUZSAV",
                                    "NEV": "Vajda Zsuzsa",
                                    "Fő": "1",
                                    "Előző három foglalás átlaga": "2"
                                },
                                {
                                    "USERNEV": "ZSUZSAV",
                                    "NEV": "Vajda Zsuzsa",
                                    "Fő": "1",
                                    "Előző három foglalás átlaga": "3"
                                },
                                {
                                    "USERNEV": "ZSUZSAV",
                                    "NEV": "Vajda Zsuzsa",
                                    "Fő": "1",
                                    "Előző három foglalás átlaga": "3"
                                },
                                {
                                    "USERNEV": "ZSUZSAV",
                                    "NEV": "Vajda Zsuzsa",
                                    "Fő": "1",
                                    "Előző három foglalás átlaga": "3"
                                },
                                {
                                    "USERNEV": "ZSUZSAV",
                                    "NEV": "Vajda Zsuzsa",
                                    "Fő": "1",
                                    "Előző három foglalás átlaga": "2"
                                }
                            ]
                        },
                        "text/html": [
                            "<table>",
                            "<tr><th>USERNEV</th><th>NEV</th><th>Fő</th><th>Előző három foglalás átlaga</th></tr>",
                            "<tr><td>GABORS</td><td>Szöllősi Gábor</td><td>NULL</td><td>NULL</td></tr>",
                            "<tr><td>adam1</td><td>Kiss Ádám</td><td>1</td><td>NULL</td></tr>",
                            "<tr><td>adam1</td><td>Kiss Ádám</td><td>1</td><td>1</td></tr>",
                            "<tr><td>adam1</td><td>Kiss Ádám</td><td>1</td><td>2</td></tr>",
                            "<tr><td>adam3</td><td>Barkóci Ádám</td><td>1</td><td>NULL</td></tr>",
                            "<tr><td>adam3</td><td>Barkóci Ádám</td><td>1</td><td>2</td></tr>",
                            "<tr><td>agnes</td><td>Lengyel Ágnes</td><td>1</td><td>NULL</td></tr>",
                            "<tr><td>agnes</td><td>Lengyel Ágnes</td><td>1</td><td>3</td></tr>",
                            "<tr><td>agnes</td><td>Lengyel Ágnes</td><td>1</td><td>3</td></tr>",
                            "<tr><td>agnes</td><td>Lengyel Ágnes</td><td>1</td><td>3</td></tr>",
                            "<tr><td>agnes</td><td>Lengyel Ágnes</td><td>1</td><td>2</td></tr>",
                            "<tr><td>agnes3</td><td>Hartyánszky Ágnes</td><td>1</td><td>NULL</td></tr>",
                            "<tr><td>agnes3</td><td>Hartyánszky Ágnes</td><td>1</td><td>1</td></tr>",
                            "<tr><td>agnes3</td><td>Hartyánszky Ágnes</td><td>1</td><td>2</td></tr>",
                            "<tr><td>AGNESH</td><td>Horváth Ágnes</td><td>1</td><td>NULL</td></tr>",
                            "<tr><td>AGNESH</td><td>Horváth Ágnes</td><td>1</td><td>2</td></tr>",
                            "<tr><td>AGNESH</td><td>Horváth Ágnes</td><td>1</td><td>3</td></tr>",
                            "<tr><td>AGNESH</td><td>Horváth Ágnes</td><td>1</td><td>2</td></tr>",
                            "<tr><td>AGNESH</td><td>Horváth Ágnes</td><td>1</td><td>2</td></tr>",
                            "<tr><td>AGNESH</td><td>Horváth Ágnes</td><td>1</td><td>1</td></tr>",
                            "<tr><td>AGNESH</td><td>Horváth Ágnes</td><td>1</td><td>2</td></tr>",
                            "<tr><td>AGNESH</td><td>Horváth Ágnes</td><td>1</td><td>2</td></tr>",
                            "<tr><td>AGNESH</td><td>Horváth Ágnes</td><td>1</td><td>3</td></tr>",
                            "<tr><td>AGNESH</td><td>Horváth Ágnes</td><td>1</td><td>2</td></tr>",
                            "<tr><td>AGNESH</td><td>Horváth Ágnes</td><td>1</td><td>2</td></tr>",
                            "<tr><td>AGNESH</td><td>Horváth Ágnes</td><td>1</td><td>1</td></tr>",
                            "<tr><td>akos</td><td>Bíró Ákos</td><td>1</td><td>NULL</td></tr>",
                            "<tr><td>akos</td><td>Bíró Ákos</td><td>1</td><td>2</td></tr>",
                            "<tr><td>akos</td><td>Bíró Ákos</td><td>1</td><td>2</td></tr>",
                            "<tr><td>akos</td><td>Bíró Ákos</td><td>1</td><td>2</td></tr>",
                            "<tr><td>akos</td><td>Bíró Ákos</td><td>1</td><td>1</td></tr>",
                            "<tr><td>akos</td><td>Bíró Ákos</td><td>1</td><td>1</td></tr>",
                            "<tr><td>akos</td><td>Bíró Ákos</td><td>1</td><td>1</td></tr>",
                            "<tr><td>akos</td><td>Bíró Ákos</td><td>1</td><td>1</td></tr>",
                            "<tr><td>akos</td><td>Bíró Ákos</td><td>1</td><td>2</td></tr>",
                            "<tr><td>akos</td><td>Bíró Ákos</td><td>1</td><td>2</td></tr>",
                            "<tr><td>akos</td><td>Bíró Ákos</td><td>1</td><td>2</td></tr>",
                            "<tr><td>akos</td><td>Bíró Ákos</td><td>1</td><td>2</td></tr>",
                            "<tr><td>akos</td><td>Bíró Ákos</td><td>1</td><td>2</td></tr>",
                            "<tr><td>akos</td><td>Bíró Ákos</td><td>1</td><td>2</td></tr>",
                            "<tr><td>akos</td><td>Bíró Ákos</td><td>1</td><td>1</td></tr>",
                            "<tr><td>akos</td><td>Bíró Ákos</td><td>1</td><td>1</td></tr>",
                            "<tr><td>akos</td><td>Bíró Ákos</td><td>1</td><td>1</td></tr>",
                            "<tr><td>akos</td><td>Bíró Ákos</td><td>1</td><td>1</td></tr>",
                            "<tr><td>akos</td><td>Bíró Ákos</td><td>1</td><td>2</td></tr>",
                            "<tr><td>akos</td><td>Bíró Ákos</td><td>1</td><td>2</td></tr>",
                            "<tr><td>aladar</td><td>Dunai Aladár</td><td>1</td><td>NULL</td></tr>",
                            "<tr><td>aladar</td><td>Dunai Aladár</td><td>1</td><td>1</td></tr>",
                            "<tr><td>aladar</td><td>Dunai Aladár</td><td>1</td><td>1</td></tr>",
                            "<tr><td>aladar</td><td>Dunai Aladár</td><td>1</td><td>1</td></tr>",
                            "<tr><td>aladar</td><td>Dunai Aladár</td><td>1</td><td>1</td></tr>",
                            "<tr><td>aladar</td><td>Dunai Aladár</td><td>1</td><td>1</td></tr>",
                            "<tr><td>alexandra</td><td>Bagóczki Alexandra</td><td>1</td><td>NULL</td></tr>",
                            "<tr><td>alexandra</td><td>Bagóczki Alexandra</td><td>1</td><td>3</td></tr>",
                            "<tr><td>alexandra</td><td>Bagóczki Alexandra</td><td>1</td><td>2</td></tr>",
                            "<tr><td>alexandra</td><td>Bagóczki Alexandra</td><td>1</td><td>2</td></tr>",
                            "<tr><td>alexandra</td><td>Bagóczki Alexandra</td><td>1</td><td>2</td></tr>",
                            "<tr><td>alexandra</td><td>Bagóczki Alexandra</td><td>1</td><td>2</td></tr>",
                            "<tr><td>alexandra</td><td>Bagóczki Alexandra</td><td>1</td><td>1</td></tr>",
                            "<tr><td>andi</td><td>Maródi Andrea</td><td>1</td><td>NULL</td></tr>",
                            "<tr><td>andi</td><td>Maródi Andrea</td><td>1</td><td>4</td></tr>",
                            "<tr><td>andi</td><td>Maródi Andrea</td><td>1</td><td>2</td></tr>",
                            "<tr><td>andi</td><td>Maródi Andrea</td><td>1</td><td>2</td></tr>",
                            "<tr><td>andi</td><td>Maródi Andrea</td><td>1</td><td>2</td></tr>",
                            "<tr><td>andras2</td><td>Tóth András</td><td>1</td><td>NULL</td></tr>",
                            "<tr><td>andras2</td><td>Tóth András</td><td>1</td><td>2</td></tr>",
                            "<tr><td>andras2</td><td>Tóth András</td><td>1</td><td>1</td></tr>",
                            "<tr><td>andras2</td><td>Tóth András</td><td>1</td><td>1</td></tr>",
                            "<tr><td>andras2</td><td>Tóth András</td><td>1</td><td>2</td></tr>",
                            "<tr><td>andras21</td><td>Molnár András</td><td>1</td><td>NULL</td></tr>",
                            "<tr><td>andras21</td><td>Molnár András</td><td>1</td><td>1</td></tr>",
                            "<tr><td>andras21</td><td>Molnár András</td><td>1</td><td>1</td></tr>",
                            "<tr><td>andras21</td><td>Molnár András</td><td>1</td><td>2</td></tr>",
                            "<tr><td>andras21</td><td>Molnár András</td><td>1</td><td>2</td></tr>",
                            "<tr><td>andras21</td><td>Molnár András</td><td>1</td><td>3</td></tr>",
                            "<tr><td>andras21</td><td>Molnár András</td><td>1</td><td>3</td></tr>",
                            "<tr><td>andras3</td><td>Vígh András</td><td>1</td><td>NULL</td></tr>",
                            "<tr><td>andras3</td><td>Vígh András</td><td>1</td><td>2</td></tr>",
                            "<tr><td>andras3</td><td>Vígh András</td><td>1</td><td>2</td></tr>",
                            "<tr><td>andras3</td><td>Vígh András</td><td>1</td><td>2</td></tr>",
                            "<tr><td>andras3</td><td>Vígh András</td><td>1</td><td>2</td></tr>",
                            "<tr><td>andras3</td><td>Vígh András</td><td>1</td><td>2</td></tr>",
                            "<tr><td>andras3</td><td>Vígh András</td><td>1</td><td>1</td></tr>",
                            "<tr><td>andras3</td><td>Vígh András</td><td>1</td><td>1</td></tr>",
                            "<tr><td>andras3</td><td>Vígh András</td><td>1</td><td>1</td></tr>",
                            "<tr><td>andras3</td><td>Vígh András</td><td>1</td><td>2</td></tr>",
                            "<tr><td>andras3</td><td>Vígh András</td><td>1</td><td>2</td></tr>",
                            "<tr><td>andras3</td><td>Vígh András</td><td>1</td><td>2</td></tr>",
                            "<tr><td>andras3</td><td>Vígh András</td><td>1</td><td>2</td></tr>",
                            "<tr><td>andras3</td><td>Vígh András</td><td>1</td><td>2</td></tr>",
                            "<tr><td>andras3</td><td>Vígh András</td><td>1</td><td>1</td></tr>",
                            "<tr><td>andras3</td><td>Vígh András</td><td>1</td><td>1</td></tr>",
                            "<tr><td>andras41</td><td>Komjáti András</td><td>1</td><td>NULL</td></tr>",
                            "<tr><td>andras41</td><td>Komjáti András</td><td>1</td><td>2</td></tr>",
                            "<tr><td>andras41</td><td>Komjáti András</td><td>1</td><td>3</td></tr>",
                            "<tr><td>andras41</td><td>Komjáti András</td><td>1</td><td>3</td></tr>",
                            "<tr><td>andras41</td><td>Komjáti András</td><td>1</td><td>3</td></tr>",
                            "<tr><td>andras41</td><td>Komjáti András</td><td>1</td><td>2</td></tr>",
                            "<tr><td>andras41</td><td>Komjáti András</td><td>1</td><td>2</td></tr>",
                            "<tr><td>andras41</td><td>Komjáti András</td><td>1</td><td>1</td></tr>",
                            "<tr><td>andras41</td><td>Komjáti András</td><td>1</td><td>2</td></tr>",
                            "<tr><td>andras41</td><td>Komjáti András</td><td>1</td><td>1</td></tr>",
                            "<tr><td>andras41</td><td>Komjáti András</td><td>1</td><td>1</td></tr>",
                            "<tr><td>andras41</td><td>Komjáti András</td><td>1</td><td>1</td></tr>",
                            "<tr><td>andras41</td><td>Komjáti András</td><td>1</td><td>2</td></tr>",
                            "<tr><td>andras41</td><td>Komjáti András</td><td>1</td><td>2</td></tr>",
                            "<tr><td>andras41</td><td>Komjáti András</td><td>1</td><td>2</td></tr>",
                            "<tr><td>andras41</td><td>Komjáti András</td><td>1</td><td>3</td></tr>",
                            "<tr><td>andras41</td><td>Komjáti András</td><td>1</td><td>3</td></tr>",
                            "<tr><td>andras41</td><td>Komjáti András</td><td>1</td><td>3</td></tr>",
                            "<tr><td>andras41</td><td>Komjáti András</td><td>1</td><td>2</td></tr>",
                            "<tr><td>andras41</td><td>Komjáti András</td><td>1</td><td>2</td></tr>",
                            "<tr><td>andras41</td><td>Komjáti András</td><td>1</td><td>1</td></tr>",
                            "<tr><td>andras41</td><td>Komjáti András</td><td>1</td><td>2</td></tr>",
                            "<tr><td>andras41</td><td>Komjáti András</td><td>1</td><td>1</td></tr>",
                            "<tr><td>andras41</td><td>Komjáti András</td><td>1</td><td>1</td></tr>",
                            "<tr><td>andras41</td><td>Komjáti András</td><td>1</td><td>1</td></tr>",
                            "<tr><td>andras41</td><td>Komjáti András</td><td>1</td><td>2</td></tr>",
                            "<tr><td>andras41</td><td>Komjáti András</td><td>1</td><td>2</td></tr>",
                            "<tr><td>andras41</td><td>Komjáti András</td><td>1</td><td>2</td></tr>",
                            "<tr><td>andras41</td><td>Komjáti András</td><td>1</td><td>3</td></tr>",
                            "<tr><td>andras41</td><td>Komjáti András</td><td>1</td><td>3</td></tr>",
                            "<tr><td>andras41</td><td>Komjáti András</td><td>1</td><td>3</td></tr>",
                            "<tr><td>andras41</td><td>Komjáti András</td><td>1</td><td>2</td></tr>",
                            "<tr><td>andras41</td><td>Komjáti András</td><td>1</td><td>2</td></tr>",
                            "<tr><td>andras41</td><td>Komjáti András</td><td>1</td><td>1</td></tr>",
                            "<tr><td>andras41</td><td>Komjáti András</td><td>1</td><td>2</td></tr>",
                            "<tr><td>andras41</td><td>Komjáti András</td><td>1</td><td>1</td></tr>",
                            "<tr><td>andras41</td><td>Komjáti András</td><td>1</td><td>1</td></tr>",
                            "<tr><td>andras41</td><td>Komjáti András</td><td>1</td><td>1</td></tr>",
                            "<tr><td>andras41</td><td>Komjáti András</td><td>1</td><td>2</td></tr>",
                            "<tr><td>ANDRASE</td><td>Erdei András</td><td>1</td><td>NULL</td></tr>",
                            "<tr><td>ANDRASE</td><td>Erdei András</td><td>1</td><td>1</td></tr>",
                            "<tr><td>ANDRASE</td><td>Erdei András</td><td>1</td><td>2</td></tr>",
                            "<tr><td>ANDRASE</td><td>Erdei András</td><td>1</td><td>2</td></tr>",
                            "<tr><td>ANDRASE</td><td>Erdei András</td><td>1</td><td>3</td></tr>",
                            "<tr><td>andrea4</td><td>Neizer Andrea</td><td>1</td><td>NULL</td></tr>",
                            "<tr><td>andrea4</td><td>Neizer Andrea</td><td>1</td><td>1</td></tr>",
                            "<tr><td>andrea4</td><td>Neizer Andrea</td><td>1</td><td>1</td></tr>",
                            "<tr><td>andrea4</td><td>Neizer Andrea</td><td>1</td><td>2</td></tr>",
                            "<tr><td>anett3</td><td>Pivarcsi Anett</td><td>1</td><td>NULL</td></tr>",
                            "<tr><td>anett3</td><td>Pivarcsi Anett</td><td>1</td><td>1</td></tr>",
                            "<tr><td>anett3</td><td>Pivarcsi Anett</td><td>1</td><td>2</td></tr>",
                            "<tr><td>anett3</td><td>Pivarcsi Anett</td><td>1</td><td>2</td></tr>",
                            "<tr><td>anett3</td><td>Pivarcsi Anett</td><td>1</td><td>3</td></tr>",
                            "<tr><td>anett3</td><td>Pivarcsi Anett</td><td>1</td><td>2</td></tr>",
                            "<tr><td>anett3</td><td>Pivarcsi Anett</td><td>1</td><td>2</td></tr>",
                            "<tr><td>anett3</td><td>Pivarcsi Anett</td><td>1</td><td>2</td></tr>",
                            "<tr><td>anett3</td><td>Pivarcsi Anett</td><td>1</td><td>2</td></tr>",
                            "<tr><td>anett3</td><td>Pivarcsi Anett</td><td>1</td><td>1</td></tr>",
                            "<tr><td>anett3</td><td>Pivarcsi Anett</td><td>1</td><td>1</td></tr>",
                            "<tr><td>anett3</td><td>Pivarcsi Anett</td><td>1</td><td>2</td></tr>",
                            "<tr><td>anett3</td><td>Pivarcsi Anett</td><td>1</td><td>3</td></tr>",
                            "<tr><td>anett3</td><td>Pivarcsi Anett</td><td>1</td><td>2</td></tr>",
                            "<tr><td>anett3</td><td>Pivarcsi Anett</td><td>1</td><td>2</td></tr>",
                            "<tr><td>anett3</td><td>Pivarcsi Anett</td><td>1</td><td>2</td></tr>",
                            "<tr><td>aniko4</td><td>Böröcz Anikó</td><td>1</td><td>NULL</td></tr>",
                            "<tr><td>aniko4</td><td>Böröcz Anikó</td><td>1</td><td>3</td></tr>",
                            "<tr><td>aniko4</td><td>Böröcz Anikó</td><td>1</td><td>2</td></tr>",
                            "<tr><td>aniko4</td><td>Böröcz Anikó</td><td>1</td><td>2</td></tr>",
                            "<tr><td>ANIKOS</td><td>Simon Anikó</td><td>1</td><td>NULL</td></tr>",
                            "<tr><td>ANIKOS</td><td>Simon Anikó</td><td>1</td><td>2</td></tr>",
                            "<tr><td>ANIKOS</td><td>Simon Anikó</td><td>1</td><td>2</td></tr>",
                            "<tr><td>ANIKOS</td><td>Simon Anikó</td><td>1</td><td>2</td></tr>",
                            "<tr><td>ANIKOS</td><td>Simon Anikó</td><td>1</td><td>2</td></tr>",
                            "<tr><td>ANIKOS</td><td>Simon Anikó</td><td>1</td><td>2</td></tr>",
                            "<tr><td>ANIKOS</td><td>Simon Anikó</td><td>1</td><td>2</td></tr>",
                            "<tr><td>ANIKOS</td><td>Simon Anikó</td><td>1</td><td>1</td></tr>",
                            "<tr><td>ANIKOS</td><td>Simon Anikó</td><td>1</td><td>2</td></tr>",
                            "<tr><td>ANNAMARIAR</td><td>Regős Annamária</td><td>1</td><td>NULL</td></tr>",
                            "<tr><td>ANNAMARIAR</td><td>Regős Annamária</td><td>1</td><td>1</td></tr>",
                            "<tr><td>ANNAMARIAR</td><td>Regős Annamária</td><td>1</td><td>1</td></tr>",
                            "<tr><td>ANNAMARIAR</td><td>Regős Annamária</td><td>1</td><td>1</td></tr>",
                            "<tr><td>ANNAMARIAR</td><td>Regős Annamária</td><td>1</td><td>2</td></tr>",
                            "<tr><td>ANNAMARIAR</td><td>Regős Annamária</td><td>1</td><td>2</td></tr>",
                            "<tr><td>ARPADH</td><td>Horváth Árpád</td><td>1</td><td>NULL</td></tr>",
                            "<tr><td>ARPADH</td><td>Horváth Árpád</td><td>1</td><td>2</td></tr>",
                            "<tr><td>ARPADH</td><td>Horváth Árpád</td><td>1</td><td>2</td></tr>",
                            "<tr><td>ARPADH</td><td>Horváth Árpád</td><td>1</td><td>2</td></tr>",
                            "<tr><td>ARPADH</td><td>Horváth Árpád</td><td>1</td><td>1</td></tr>",
                            "<tr><td>ARPADH</td><td>Horváth Árpád</td><td>1</td><td>1</td></tr>",
                            "<tr><td>ARPADH</td><td>Horváth Árpád</td><td>1</td><td>1</td></tr>",
                            "<tr><td>ARPADH</td><td>Horváth Árpád</td><td>1</td><td>2</td></tr>",
                            "<tr><td>ARPADH</td><td>Horváth Árpád</td><td>1</td><td>2</td></tr>",
                            "<tr><td>ARPADH</td><td>Horváth Árpád</td><td>1</td><td>2</td></tr>",
                            "<tr><td>ARPADH</td><td>Horváth Árpád</td><td>1</td><td>2</td></tr>",
                            "<tr><td>ARPADH</td><td>Horváth Árpád</td><td>1</td><td>1</td></tr>",
                            "<tr><td>ARPADH</td><td>Horváth Árpád</td><td>1</td><td>1</td></tr>",
                            "<tr><td>ARPADH</td><td>Horváth Árpád</td><td>1</td><td>1</td></tr>",
                            "<tr><td>ARPADH</td><td>Horváth Árpád</td><td>1</td><td>2</td></tr>",
                            "<tr><td>ARPADH</td><td>Horváth Árpád</td><td>1</td><td>2</td></tr>",
                            "<tr><td>ARPADH</td><td>Horváth Árpád</td><td>1</td><td>2</td></tr>",
                            "<tr><td>ARPADH</td><td>Horváth Árpád</td><td>1</td><td>2</td></tr>",
                            "<tr><td>ARPADH</td><td>Horváth Árpád</td><td>1</td><td>1</td></tr>",
                            "<tr><td>ARPADH</td><td>Horváth Árpád</td><td>1</td><td>1</td></tr>",
                            "<tr><td>ARPADH</td><td>Horváth Árpád</td><td>1</td><td>1</td></tr>",
                            "<tr><td>ARPADM</td><td>Móricz Árpád</td><td>1</td><td>NULL</td></tr>",
                            "<tr><td>ARPADM</td><td>Móricz Árpád</td><td>1</td><td>2</td></tr>",
                            "<tr><td>ARPADM</td><td>Móricz Árpád</td><td>1</td><td>2</td></tr>",
                            "<tr><td>ARPADM</td><td>Móricz Árpád</td><td>1</td><td>2</td></tr>",
                            "<tr><td>ARPADM</td><td>Móricz Árpád</td><td>1</td><td>2</td></tr>",
                            "<tr><td>ARPADM</td><td>Móricz Árpád</td><td>1</td><td>2</td></tr>",
                            "<tr><td>attila</td><td>Csóti Attila</td><td>1</td><td>NULL</td></tr>",
                            "<tr><td>attila</td><td>Csóti Attila</td><td>1</td><td>3</td></tr>",
                            "<tr><td>attila</td><td>Csóti Attila</td><td>1</td><td>2</td></tr>",
                            "<tr><td>attila1</td><td>Gulyás Attila</td><td>1</td><td>NULL</td></tr>",
                            "<tr><td>attila1</td><td>Gulyás Attila</td><td>1</td><td>1</td></tr>",
                            "<tr><td>attila1</td><td>Gulyás Attila</td><td>1</td><td>1</td></tr>",
                            "<tr><td>attila1</td><td>Gulyás Attila</td><td>1</td><td>2</td></tr>",
                            "<tr><td>attila1</td><td>Gulyás Attila</td><td>1</td><td>2</td></tr>",
                            "<tr><td>attila1</td><td>Gulyás Attila</td><td>1</td><td>2</td></tr>",
                            "<tr><td>balazs2</td><td>Szűcs Balázs</td><td>1</td><td>NULL</td></tr>",
                            "<tr><td>balazs2</td><td>Szűcs Balázs</td><td>1</td><td>2</td></tr>",
                            "<tr><td>balazs2</td><td>Szűcs Balázs</td><td>1</td><td>2</td></tr>",
                            "<tr><td>balazs2</td><td>Szűcs Balázs</td><td>1</td><td>2</td></tr>",
                            "<tr><td>balazs2</td><td>Szűcs Balázs</td><td>1</td><td>2</td></tr>",
                            "<tr><td>balazs2</td><td>Szűcs Balázs</td><td>1</td><td>3</td></tr>",
                            "<tr><td>balazs2</td><td>Szűcs Balázs</td><td>1</td><td>3</td></tr>",
                            "<tr><td>balazs2</td><td>Szűcs Balázs</td><td>1</td><td>3</td></tr>",
                            "<tr><td>balazs2</td><td>Szűcs Balázs</td><td>1</td><td>3</td></tr>",
                            "<tr><td>balazs2</td><td>Szűcs Balázs</td><td>1</td><td>3</td></tr>",
                            "<tr><td>balint1</td><td>Molnár Bálint</td><td>1</td><td>NULL</td></tr>",
                            "<tr><td>balint1</td><td>Molnár Bálint</td><td>1</td><td>2</td></tr>",
                            "<tr><td>balint1</td><td>Molnár Bálint</td><td>1</td><td>2</td></tr>",
                            "<tr><td>balint1</td><td>Molnár Bálint</td><td>1</td><td>2</td></tr>",
                            "<tr><td>balint1</td><td>Molnár Bálint</td><td>1</td><td>2</td></tr>",
                            "<tr><td>balint1</td><td>Molnár Bálint</td><td>1</td><td>2</td></tr>",
                            "<tr><td>balint1</td><td>Molnár Bálint</td><td>1</td><td>2</td></tr>",
                            "<tr><td>balint1</td><td>Molnár Bálint</td><td>1</td><td>1</td></tr>",
                            "<tr><td>balint1</td><td>Molnár Bálint</td><td>1</td><td>1</td></tr>",
                            "<tr><td>balint1</td><td>Molnár Bálint</td><td>1</td><td>2</td></tr>",
                            "<tr><td>balint1</td><td>Molnár Bálint</td><td>1</td><td>2</td></tr>",
                            "<tr><td>balint1</td><td>Molnár Bálint</td><td>1</td><td>2</td></tr>",
                            "<tr><td>balint1</td><td>Molnár Bálint</td><td>1</td><td>2</td></tr>",
                            "<tr><td>balint1</td><td>Molnár Bálint</td><td>1</td><td>2</td></tr>",
                            "<tr><td>balint1</td><td>Molnár Bálint</td><td>1</td><td>2</td></tr>",
                            "<tr><td>balint1</td><td>Molnár Bálint</td><td>1</td><td>2</td></tr>",
                            "<tr><td>balint1</td><td>Molnár Bálint</td><td>1</td><td>2</td></tr>",
                            "<tr><td>balint1</td><td>Molnár Bálint</td><td>1</td><td>1</td></tr>",
                            "<tr><td>balint1</td><td>Molnár Bálint</td><td>1</td><td>1</td></tr>",
                            "<tr><td>balint1</td><td>Molnár Bálint</td><td>1</td><td>2</td></tr>",
                            "<tr><td>balint2</td><td>Vukasinovity Bálint</td><td>1</td><td>NULL</td></tr>",
                            "<tr><td>balint2</td><td>Vukasinovity Bálint</td><td>1</td><td>1</td></tr>",
                            "<tr><td>beata4</td><td>Bagi Beáta</td><td>1</td><td>NULL</td></tr>",
                            "<tr><td>beata4</td><td>Bagi Beáta</td><td>1</td><td>2</td></tr>",
                            "<tr><td>beata4</td><td>Bagi Beáta</td><td>1</td><td>2</td></tr>",
                            "<tr><td>beata4</td><td>Bagi Beáta</td><td>1</td><td>2</td></tr>",
                            "<tr><td>beata4</td><td>Bagi Beáta</td><td>1</td><td>2</td></tr>",
                            "<tr><td>beata4</td><td>Bagi Beáta</td><td>1</td><td>1</td></tr>",
                            "<tr><td>beata4</td><td>Bagi Beáta</td><td>1</td><td>1</td></tr>",
                            "<tr><td>beata4</td><td>Bagi Beáta</td><td>1</td><td>2</td></tr>",
                            "<tr><td>beata4</td><td>Bagi Beáta</td><td>1</td><td>2</td></tr>",
                            "<tr><td>beata4</td><td>Bagi Beáta</td><td>1</td><td>2</td></tr>",
                            "<tr><td>beata4</td><td>Bagi Beáta</td><td>1</td><td>2</td></tr>",
                            "<tr><td>beata4</td><td>Bagi Beáta</td><td>1</td><td>1</td></tr>",
                            "<tr><td>BEATRIXS</td><td>Szekendi Beatrix</td><td>1</td><td>NULL</td></tr>",
                            "<tr><td>BEATRIXS</td><td>Szekendi Beatrix</td><td>1</td><td>1</td></tr>",
                            "<tr><td>BEATRIXS</td><td>Szekendi Beatrix</td><td>1</td><td>2</td></tr>",
                            "<tr><td>BEATRIXS</td><td>Szekendi Beatrix</td><td>1</td><td>2</td></tr>",
                            "<tr><td>BEATRIXS</td><td>Szekendi Beatrix</td><td>1</td><td>3</td></tr>",
                            "<tr><td>BEATRIXS</td><td>Szekendi Beatrix</td><td>1</td><td>2</td></tr>",
                            "<tr><td>BELAF</td><td>Farkas Béla</td><td>1</td><td>NULL</td></tr>",
                            "<tr><td>BELAF</td><td>Farkas Béla</td><td>1</td><td>3</td></tr>",
                            "<tr><td>BELAF</td><td>Farkas Béla</td><td>1</td><td>2</td></tr>",
                            "<tr><td>BELAF</td><td>Farkas Béla</td><td>1</td><td>2</td></tr>",
                            "<tr><td>BELAF</td><td>Farkas Béla</td><td>1</td><td>1</td></tr>",
                            "<tr><td>BELAF</td><td>Farkas Béla</td><td>1</td><td>2</td></tr>",
                            "<tr><td>bence</td><td>Győrffy Bence</td><td>1</td><td>NULL</td></tr>",
                            "<tr><td>bence</td><td>Győrffy Bence</td><td>1</td><td>2</td></tr>",
                            "<tr><td>bence</td><td>Győrffy Bence</td><td>1</td><td>2</td></tr>",
                            "<tr><td>bence</td><td>Győrffy Bence</td><td>1</td><td>2</td></tr>",
                            "<tr><td>bence</td><td>Győrffy Bence</td><td>1</td><td>2</td></tr>",
                            "<tr><td>bence</td><td>Győrffy Bence</td><td>1</td><td>2</td></tr>",
                            "<tr><td>bence</td><td>Győrffy Bence</td><td>1</td><td>2</td></tr>",
                            "<tr><td>bence</td><td>Győrffy Bence</td><td>1</td><td>2</td></tr>",
                            "<tr><td>bence</td><td>Győrffy Bence</td><td>1</td><td>2</td></tr>",
                            "<tr><td>bernadett1</td><td>Simon Bernadett</td><td>1</td><td>NULL</td></tr>",
                            "<tr><td>bernadett1</td><td>Simon Bernadett</td><td>1</td><td>3</td></tr>",
                            "<tr><td>bernadett1</td><td>Simon Bernadett</td><td>1</td><td>3</td></tr>",
                            "<tr><td>bernadett1</td><td>Simon Bernadett</td><td>1</td><td>3</td></tr>",
                            "<tr><td>bernadett1</td><td>Simon Bernadett</td><td>1</td><td>2</td></tr>",
                            "<tr><td>bernadett1</td><td>Simon Bernadett</td><td>1</td><td>2</td></tr>",
                            "<tr><td>bernadett1</td><td>Simon Bernadett</td><td>1</td><td>2</td></tr>",
                            "<tr><td>bernadett2</td><td>Kovács Bernadett</td><td>1</td><td>NULL</td></tr>",
                            "<tr><td>bernadett2</td><td>Kovács Bernadett</td><td>1</td><td>2</td></tr>",
                            "<tr><td>bernadett2</td><td>Kovács Bernadett</td><td>1</td><td>2</td></tr>",
                            "<tr><td>bernadett2</td><td>Kovács Bernadett</td><td>1</td><td>2</td></tr>",
                            "<tr><td>bernadett2</td><td>Kovács Bernadett</td><td>1</td><td>2</td></tr>",
                            "<tr><td>bernadett2</td><td>Kovács Bernadett</td><td>1</td><td>3</td></tr>",
                            "<tr><td>bernadett2</td><td>Kovács Bernadett</td><td>1</td><td>3</td></tr>",
                            "<tr><td>bernadett2</td><td>Kovács Bernadett</td><td>1</td><td>2</td></tr>",
                            "<tr><td>bertalan</td><td>Csiger Bertalan</td><td>1</td><td>NULL</td></tr>",
                            "<tr><td>bertalan</td><td>Csiger Bertalan</td><td>1</td><td>2</td></tr>",
                            "<tr><td>bertalan</td><td>Csiger Bertalan</td><td>1</td><td>2</td></tr>",
                            "<tr><td>bertalan</td><td>Csiger Bertalan</td><td>1</td><td>2</td></tr>",
                            "<tr><td>bertalan</td><td>Csiger Bertalan</td><td>1</td><td>2</td></tr>",
                            "<tr><td>bertalan</td><td>Csiger Bertalan</td><td>1</td><td>3</td></tr>",
                            "<tr><td>brigitta</td><td>Székely Brigitta</td><td>1</td><td>NULL</td></tr>",
                            "<tr><td>brigitta</td><td>Székely Brigitta</td><td>1</td><td>3</td></tr>",
                            "<tr><td>brigitta</td><td>Székely Brigitta</td><td>1</td><td>3</td></tr>",
                            "<tr><td>brigitta</td><td>Székely Brigitta</td><td>1</td><td>3</td></tr>",
                            "<tr><td>brigitta</td><td>Székely Brigitta</td><td>1</td><td>2</td></tr>",
                            "<tr><td>dani</td><td>Vörös Dániel</td><td>1</td><td>NULL</td></tr>",
                            "<tr><td>dani</td><td>Vörös Dániel</td><td>1</td><td>2</td></tr>",
                            "<tr><td>dani</td><td>Vörös Dániel</td><td>1</td><td>2</td></tr>",
                            "<tr><td>dani</td><td>Vörös Dániel</td><td>1</td><td>2</td></tr>",
                            "<tr><td>dani</td><td>Vörös Dániel</td><td>1</td><td>3</td></tr>",
                            "<tr><td>dani</td><td>Vörös Dániel</td><td>1</td><td>2</td></tr>",
                            "<tr><td>dani</td><td>Vörös Dániel</td><td>1</td><td>2</td></tr>",
                            "<tr><td>dani</td><td>Vörös Dániel</td><td>1</td><td>1</td></tr>",
                            "<tr><td>dani</td><td>Vörös Dániel</td><td>1</td><td>1</td></tr>",
                            "<tr><td>dani</td><td>Vörös Dániel</td><td>1</td><td>2</td></tr>",
                            "<tr><td>dani</td><td>Vörös Dániel</td><td>1</td><td>2</td></tr>",
                            "<tr><td>dani</td><td>Vörös Dániel</td><td>1</td><td>2</td></tr>",
                            "<tr><td>dani</td><td>Vörös Dániel</td><td>1</td><td>2</td></tr>",
                            "<tr><td>dani</td><td>Vörös Dániel</td><td>1</td><td>3</td></tr>",
                            "<tr><td>dani</td><td>Vörös Dániel</td><td>1</td><td>2</td></tr>",
                            "<tr><td>dani</td><td>Vörös Dániel</td><td>1</td><td>2</td></tr>",
                            "<tr><td>dani</td><td>Vörös Dániel</td><td>1</td><td>1</td></tr>",
                            "<tr><td>dani</td><td>Vörös Dániel</td><td>1</td><td>1</td></tr>",
                            "<tr><td>daniel</td><td>Rácz Dániel</td><td>1</td><td>NULL</td></tr>",
                            "<tr><td>daniel</td><td>Rácz Dániel</td><td>1</td><td>4</td></tr>",
                            "<tr><td>daniel</td><td>Rácz Dániel</td><td>1</td><td>3</td></tr>",
                            "<tr><td>daniel</td><td>Rácz Dániel</td><td>1</td><td>3</td></tr>",
                            "<tr><td>daniel</td><td>Rácz Dániel</td><td>1</td><td>3</td></tr>",
                            "<tr><td>daniel</td><td>Rácz Dániel</td><td>1</td><td>3</td></tr>",
                            "<tr><td>daniel</td><td>Rácz Dániel</td><td>1</td><td>3</td></tr>",
                            "<tr><td>daniel</td><td>Rácz Dániel</td><td>1</td><td>2</td></tr>",
                            "<tr><td>daniel</td><td>Rácz Dániel</td><td>1</td><td>2</td></tr>",
                            "<tr><td>david</td><td>Ambrus Dávid</td><td>1</td><td>NULL</td></tr>",
                            "<tr><td>david</td><td>Ambrus Dávid</td><td>1</td><td>2</td></tr>",
                            "<tr><td>david</td><td>Ambrus Dávid</td><td>1</td><td>2</td></tr>",
                            "<tr><td>david</td><td>Ambrus Dávid</td><td>1</td><td>1</td></tr>",
                            "<tr><td>david</td><td>Ambrus Dávid</td><td>1</td><td>2</td></tr>",
                            "<tr><td>david</td><td>Ambrus Dávid</td><td>1</td><td>2</td></tr>",
                            "<tr><td>david</td><td>Ambrus Dávid</td><td>1</td><td>2</td></tr>",
                            "<tr><td>david</td><td>Ambrus Dávid</td><td>1</td><td>2</td></tr>",
                            "<tr><td>david</td><td>Ambrus Dávid</td><td>1</td><td>2</td></tr>",
                            "<tr><td>emese</td><td>Kuruc Emese</td><td>1</td><td>NULL</td></tr>",
                            "<tr><td>emese</td><td>Kuruc Emese</td><td>1</td><td>2</td></tr>",
                            "<tr><td>emese</td><td>Kuruc Emese</td><td>1</td><td>2</td></tr>",
                            "<tr><td>emese</td><td>Kuruc Emese</td><td>1</td><td>2</td></tr>",
                            "<tr><td>emese</td><td>Kuruc Emese</td><td>1</td><td>2</td></tr>",
                            "<tr><td>emese</td><td>Kuruc Emese</td><td>1</td><td>2</td></tr>",
                            "<tr><td>emese</td><td>Kuruc Emese</td><td>1</td><td>2</td></tr>",
                            "<tr><td>eszter2</td><td>Balogh Eszter</td><td>1</td><td>NULL</td></tr>",
                            "<tr><td>eszter2</td><td>Balogh Eszter</td><td>1</td><td>3</td></tr>",
                            "<tr><td>eszter2</td><td>Balogh Eszter</td><td>1</td><td>2</td></tr>",
                            "<tr><td>eszter2</td><td>Balogh Eszter</td><td>1</td><td>2</td></tr>",
                            "<tr><td>eszter2</td><td>Balogh Eszter</td><td>1</td><td>1</td></tr>",
                            "<tr><td>eszter2</td><td>Balogh Eszter</td><td>1</td><td>1</td></tr>",
                            "<tr><td>eszter2</td><td>Balogh Eszter</td><td>1</td><td>1</td></tr>",
                            "<tr><td>eszter2</td><td>Balogh Eszter</td><td>1</td><td>2</td></tr>",
                            "<tr><td>eszter2</td><td>Balogh Eszter</td><td>1</td><td>2</td></tr>",
                            "<tr><td>eszter2</td><td>Balogh Eszter</td><td>1</td><td>2</td></tr>",
                            "<tr><td>eszter2</td><td>Balogh Eszter</td><td>1</td><td>1</td></tr>",
                            "<tr><td>eszter2</td><td>Balogh Eszter</td><td>1</td><td>2</td></tr>",
                            "<tr><td>eszter2</td><td>Balogh Eszter</td><td>1</td><td>1</td></tr>",
                            "<tr><td>eszter2</td><td>Balogh Eszter</td><td>1</td><td>2</td></tr>",
                            "<tr><td>eszter2</td><td>Balogh Eszter</td><td>1</td><td>1</td></tr>",
                            "<tr><td>eszter2</td><td>Balogh Eszter</td><td>1</td><td>1</td></tr>",
                            "<tr><td>eszter2</td><td>Balogh Eszter</td><td>1</td><td>1</td></tr>",
                            "<tr><td>eszter2</td><td>Balogh Eszter</td><td>1</td><td>2</td></tr>",
                            "<tr><td>eszter2</td><td>Balogh Eszter</td><td>1</td><td>2</td></tr>",
                            "<tr><td>eszter2</td><td>Balogh Eszter</td><td>1</td><td>2</td></tr>",
                            "<tr><td>eszter2</td><td>Balogh Eszter</td><td>1</td><td>1</td></tr>",
                            "<tr><td>eszter2</td><td>Balogh Eszter</td><td>1</td><td>2</td></tr>",
                            "<tr><td>eszter2</td><td>Balogh Eszter</td><td>1</td><td>1</td></tr>",
                            "<tr><td>eszter2</td><td>Balogh Eszter</td><td>1</td><td>2</td></tr>",
                            "<tr><td>eszter2</td><td>Balogh Eszter</td><td>1</td><td>1</td></tr>",
                            "<tr><td>eszter2</td><td>Balogh Eszter</td><td>1</td><td>1</td></tr>",
                            "<tr><td>eszter2</td><td>Balogh Eszter</td><td>1</td><td>1</td></tr>",
                            "<tr><td>eszter2</td><td>Balogh Eszter</td><td>1</td><td>2</td></tr>",
                            "<tr><td>eszter2</td><td>Balogh Eszter</td><td>1</td><td>2</td></tr>",
                            "<tr><td>eszter2</td><td>Balogh Eszter</td><td>1</td><td>2</td></tr>",
                            "<tr><td>eszter2</td><td>Balogh Eszter</td><td>1</td><td>1</td></tr>",
                            "<tr><td>eszter2</td><td>Balogh Eszter</td><td>1</td><td>2</td></tr>",
                            "<tr><td>eszter2</td><td>Balogh Eszter</td><td>1</td><td>1</td></tr>",
                            "<tr><td>eszter2</td><td>Balogh Eszter</td><td>1</td><td>2</td></tr>",
                            "<tr><td>eszter2</td><td>Balogh Eszter</td><td>1</td><td>1</td></tr>",
                            "<tr><td>eszter2</td><td>Balogh Eszter</td><td>1</td><td>1</td></tr>",
                            "<tr><td>eszter2</td><td>Balogh Eszter</td><td>1</td><td>1</td></tr>",
                            "<tr><td>eszter2</td><td>Balogh Eszter</td><td>1</td><td>2</td></tr>",
                            "<tr><td>eszter2</td><td>Balogh Eszter</td><td>1</td><td>2</td></tr>",
                            "<tr><td>eszter2</td><td>Balogh Eszter</td><td>1</td><td>2</td></tr>",
                            "<tr><td>eszter2</td><td>Balogh Eszter</td><td>1</td><td>1</td></tr>",
                            "<tr><td>eszter2</td><td>Balogh Eszter</td><td>1</td><td>2</td></tr>",
                            "<tr><td>eszter2</td><td>Balogh Eszter</td><td>1</td><td>1</td></tr>",
                            "<tr><td>eszter2</td><td>Balogh Eszter</td><td>1</td><td>2</td></tr>",
                            "<tr><td>eszter2</td><td>Balogh Eszter</td><td>1</td><td>1</td></tr>",
                            "<tr><td>eszter2</td><td>Balogh Eszter</td><td>1</td><td>1</td></tr>",
                            "<tr><td>eszter2</td><td>Balogh Eszter</td><td>1</td><td>1</td></tr>",
                            "<tr><td>eszter2</td><td>Balogh Eszter</td><td>1</td><td>2</td></tr>",
                            "<tr><td>eszter2</td><td>Balogh Eszter</td><td>1</td><td>2</td></tr>",
                            "<tr><td>eszter2</td><td>Balogh Eszter</td><td>1</td><td>2</td></tr>",
                            "<tr><td>eszter2</td><td>Balogh Eszter</td><td>1</td><td>1</td></tr>",
                            "<tr><td>eszter2</td><td>Balogh Eszter</td><td>1</td><td>2</td></tr>",
                            "<tr><td>eszter2</td><td>Balogh Eszter</td><td>1</td><td>1</td></tr>",
                            "<tr><td>eszter2</td><td>Balogh Eszter</td><td>1</td><td>2</td></tr>",
                            "<tr><td>eszter2</td><td>Balogh Eszter</td><td>1</td><td>1</td></tr>",
                            "<tr><td>eszter2</td><td>Balogh Eszter</td><td>1</td><td>1</td></tr>",
                            "<tr><td>eszter2</td><td>Balogh Eszter</td><td>1</td><td>1</td></tr>",
                            "<tr><td>eszter2</td><td>Balogh Eszter</td><td>1</td><td>2</td></tr>",
                            "<tr><td>eszter2</td><td>Balogh Eszter</td><td>1</td><td>2</td></tr>",
                            "<tr><td>eszter2</td><td>Balogh Eszter</td><td>1</td><td>2</td></tr>",
                            "<tr><td>eva2</td><td>Perlinger Éva</td><td>1</td><td>NULL</td></tr>",
                            "<tr><td>eva2</td><td>Perlinger Éva</td><td>1</td><td>1</td></tr>",
                            "<tr><td>eva2</td><td>Perlinger Éva</td><td>1</td><td>1</td></tr>",
                            "<tr><td>eva2</td><td>Perlinger Éva</td><td>1</td><td>1</td></tr>",
                            "<tr><td>fruzsina4</td><td>Frank Fruzsina</td><td>1</td><td>NULL</td></tr>",
                            "<tr><td>fruzsina4</td><td>Frank Fruzsina</td><td>1</td><td>3</td></tr>",
                            "<tr><td>fruzsina4</td><td>Frank Fruzsina</td><td>1</td><td>3</td></tr>",
                            "<tr><td>fruzsina4</td><td>Frank Fruzsina</td><td>1</td><td>3</td></tr>",
                            "<tr><td>fruzsina4</td><td>Frank Fruzsina</td><td>1</td><td>3</td></tr>",
                            "<tr><td>fruzsina4</td><td>Frank Fruzsina</td><td>1</td><td>2</td></tr>",
                            "<tr><td>fruzsina4</td><td>Frank Fruzsina</td><td>1</td><td>2</td></tr>",
                            "<tr><td>fruzsina4</td><td>Frank Fruzsina</td><td>1</td><td>2</td></tr>",
                            "<tr><td>gabor1</td><td>Köves Gábor</td><td>1</td><td>NULL</td></tr>",
                            "<tr><td>gabor1</td><td>Köves Gábor</td><td>1</td><td>2</td></tr>",
                            "<tr><td>gabor1</td><td>Köves Gábor</td><td>1</td><td>2</td></tr>",
                            "<tr><td>gabor1</td><td>Köves Gábor</td><td>1</td><td>3</td></tr>",
                            "<tr><td>gabor1</td><td>Köves Gábor</td><td>1</td><td>2</td></tr>",
                            "<tr><td>gabor1</td><td>Köves Gábor</td><td>1</td><td>2</td></tr>",
                            "<tr><td>gabor1</td><td>Köves Gábor</td><td>1</td><td>1</td></tr>",
                            "<tr><td>gabor1</td><td>Köves Gábor</td><td>1</td><td>1</td></tr>",
                            "<tr><td>gabor1</td><td>Köves Gábor</td><td>1</td><td>2</td></tr>",
                            "<tr><td>gabor1</td><td>Köves Gábor</td><td>1</td><td>3</td></tr>",
                            "<tr><td>gabor1</td><td>Köves Gábor</td><td>1</td><td>2</td></tr>",
                            "<tr><td>gabor1</td><td>Köves Gábor</td><td>1</td><td>2</td></tr>",
                            "<tr><td>gabor4</td><td>Telek Gábor</td><td>1</td><td>NULL</td></tr>",
                            "<tr><td>gabor4</td><td>Telek Gábor</td><td>1</td><td>3</td></tr>",
                            "<tr><td>gabor4</td><td>Telek Gábor</td><td>1</td><td>3</td></tr>",
                            "<tr><td>gabor4</td><td>Telek Gábor</td><td>1</td><td>2</td></tr>",
                            "<tr><td>GYONGYIK</td><td>Kornseé Gyöngyi</td><td>1</td><td>NULL</td></tr>",
                            "<tr><td>GYONGYIK</td><td>Kornseé Gyöngyi</td><td>1</td><td>3</td></tr>",
                            "<tr><td>GYONGYIK</td><td>Kornseé Gyöngyi</td><td>1</td><td>3</td></tr>",
                            "<tr><td>GYONGYIK</td><td>Kornseé Gyöngyi</td><td>1</td><td>2</td></tr>",
                            "<tr><td>GYONGYIK</td><td>Kornseé Gyöngyi</td><td>1</td><td>2</td></tr>",
                            "<tr><td>GYONGYIK</td><td>Kornseé Gyöngyi</td><td>1</td><td>1</td></tr>",
                            "<tr><td>GYONGYIK</td><td>Kornseé Gyöngyi</td><td>1</td><td>2</td></tr>",
                            "<tr><td>GYORGYO</td><td>Oroszi György</td><td>1</td><td>NULL</td></tr>",
                            "<tr><td>GYORGYO</td><td>Oroszi György</td><td>1</td><td>2</td></tr>",
                            "<tr><td>GYORGYO</td><td>Oroszi György</td><td>1</td><td>2</td></tr>",
                            "<tr><td>GYORGYO</td><td>Oroszi György</td><td>1</td><td>2</td></tr>",
                            "<tr><td>GYORGYO</td><td>Oroszi György</td><td>1</td><td>2</td></tr>",
                            "<tr><td>GYORGYO</td><td>Oroszi György</td><td>1</td><td>2</td></tr>",
                            "<tr><td>GYORGYO</td><td>Oroszi György</td><td>1</td><td>2</td></tr>",
                            "<tr><td>GYORGYO</td><td>Oroszi György</td><td>1</td><td>2</td></tr>",
                            "<tr><td>henrik3</td><td>Nádudvari Henrik</td><td>1</td><td>NULL</td></tr>",
                            "<tr><td>henrik3</td><td>Nádudvari Henrik</td><td>1</td><td>1</td></tr>",
                            "<tr><td>henrik3</td><td>Nádudvari Henrik</td><td>1</td><td>2</td></tr>",
                            "<tr><td>istvan1</td><td>Vizi István</td><td>1</td><td>NULL</td></tr>",
                            "<tr><td>istvan1</td><td>Vizi István</td><td>1</td><td>3</td></tr>",
                            "<tr><td>istvan1</td><td>Vizi István</td><td>1</td><td>3</td></tr>",
                            "<tr><td>istvan1</td><td>Vizi István</td><td>1</td><td>2</td></tr>",
                            "<tr><td>janos3</td><td>Harangozó János</td><td>1</td><td>NULL</td></tr>",
                            "<tr><td>janos3</td><td>Harangozó János</td><td>1</td><td>3</td></tr>",
                            "<tr><td>janos3</td><td>Harangozó János</td><td>1</td><td>2</td></tr>",
                            "<tr><td>janos3</td><td>Harangozó János</td><td>1</td><td>2</td></tr>",
                            "<tr><td>janos3</td><td>Harangozó János</td><td>1</td><td>1</td></tr>",
                            "<tr><td>janos3</td><td>Harangozó János</td><td>1</td><td>2</td></tr>",
                            "<tr><td>janos3</td><td>Harangozó János</td><td>1</td><td>2</td></tr>",
                            "<tr><td>janos3</td><td>Harangozó János</td><td>1</td><td>2</td></tr>",
                            "<tr><td>janos3</td><td>Harangozó János</td><td>1</td><td>2</td></tr>",
                            "<tr><td>janos3</td><td>Harangozó János</td><td>1</td><td>1</td></tr>",
                            "<tr><td>JANOSG</td><td>Giliga János</td><td>1</td><td>NULL</td></tr>",
                            "<tr><td>JANOSG</td><td>Giliga János</td><td>1</td><td>1</td></tr>",
                            "<tr><td>JANOSG</td><td>Giliga János</td><td>1</td><td>2</td></tr>",
                            "<tr><td>JANOSG</td><td>Giliga János</td><td>1</td><td>2</td></tr>",
                            "<tr><td>JANOSG</td><td>Giliga János</td><td>1</td><td>3</td></tr>",
                            "<tr><td>JANOSG</td><td>Giliga János</td><td>1</td><td>2</td></tr>",
                            "<tr><td>JANOSG</td><td>Giliga János</td><td>1</td><td>2</td></tr>",
                            "<tr><td>JOZSEFG</td><td>Gyuris József</td><td>1</td><td>NULL</td></tr>",
                            "<tr><td>JOZSEFG</td><td>Gyuris József</td><td>1</td><td>2</td></tr>",
                            "<tr><td>JOZSEFG</td><td>Gyuris József</td><td>1</td><td>2</td></tr>",
                            "<tr><td>JOZSEFG</td><td>Gyuris József</td><td>1</td><td>2</td></tr>",
                            "<tr><td>JOZSEFG</td><td>Gyuris József</td><td>1</td><td>2</td></tr>",
                            "<tr><td>JOZSEFG</td><td>Gyuris József</td><td>1</td><td>2</td></tr>",
                            "<tr><td>JOZSEFG</td><td>Gyuris József</td><td>1</td><td>2</td></tr>",
                            "<tr><td>JOZSEFG</td><td>Gyuris József</td><td>1</td><td>2</td></tr>",
                            "<tr><td>JOZSEFG</td><td>Gyuris József</td><td>1</td><td>2</td></tr>",
                            "<tr><td>JOZSEFG</td><td>Gyuris József</td><td>1</td><td>2</td></tr>",
                            "<tr><td>JOZSEFG</td><td>Gyuris József</td><td>1</td><td>2</td></tr>",
                            "<tr><td>JOZSEFG</td><td>Gyuris József</td><td>1</td><td>2</td></tr>",
                            "<tr><td>JOZSEFG</td><td>Gyuris József</td><td>1</td><td>2</td></tr>",
                            "<tr><td>JOZSEFG</td><td>Gyuris József</td><td>1</td><td>2</td></tr>",
                            "<tr><td>JUDITH</td><td>Hídasi Judit</td><td>1</td><td>NULL</td></tr>",
                            "<tr><td>JUDITH</td><td>Hídasi Judit</td><td>1</td><td>2</td></tr>",
                            "<tr><td>JUDITH</td><td>Hídasi Judit</td><td>1</td><td>2</td></tr>",
                            "<tr><td>julia</td><td>Tóth Júlia</td><td>1</td><td>NULL</td></tr>",
                            "<tr><td>julia</td><td>Tóth Júlia</td><td>1</td><td>2</td></tr>",
                            "<tr><td>julia</td><td>Tóth Júlia</td><td>1</td><td>1</td></tr>",
                            "<tr><td>julia</td><td>Tóth Júlia</td><td>1</td><td>1</td></tr>",
                            "<tr><td>julia</td><td>Tóth Júlia</td><td>1</td><td>2</td></tr>",
                            "<tr><td>julia4</td><td>Nagy Júlia</td><td>1</td><td>NULL</td></tr>",
                            "<tr><td>julia4</td><td>Nagy Júlia</td><td>1</td><td>1</td></tr>",
                            "<tr><td>kata</td><td>Gondos Katalin</td><td>1</td><td>NULL</td></tr>",
                            "<tr><td>kata</td><td>Gondos Katalin</td><td>1</td><td>2</td></tr>",
                            "<tr><td>kata</td><td>Gondos Katalin</td><td>1</td><td>1</td></tr>",
                            "<tr><td>kata</td><td>Gondos Katalin</td><td>1</td><td>2</td></tr>",
                            "<tr><td>kata</td><td>Gondos Katalin</td><td>1</td><td>2</td></tr>",
                            "<tr><td>kata</td><td>Gondos Katalin</td><td>1</td><td>3</td></tr>",
                            "<tr><td>kata</td><td>Gondos Katalin</td><td>1</td><td>3</td></tr>",
                            "<tr><td>kata</td><td>Gondos Katalin</td><td>1</td><td>3</td></tr>",
                            "<tr><td>kata</td><td>Gondos Katalin</td><td>1</td><td>2</td></tr>",
                            "<tr><td>kata</td><td>Gondos Katalin</td><td>1</td><td>2</td></tr>",
                            "<tr><td>kata</td><td>Gondos Katalin</td><td>1</td><td>1</td></tr>",
                            "<tr><td>kata</td><td>Gondos Katalin</td><td>1</td><td>1</td></tr>",
                            "<tr><td>kata</td><td>Gondos Katalin</td><td>1</td><td>1</td></tr>",
                            "<tr><td>kata</td><td>Gondos Katalin</td><td>1</td><td>2</td></tr>",
                            "<tr><td>kata</td><td>Gondos Katalin</td><td>1</td><td>2</td></tr>",
                            "<tr><td>kata</td><td>Gondos Katalin</td><td>1</td><td>3</td></tr>",
                            "<tr><td>kata</td><td>Gondos Katalin</td><td>1</td><td>3</td></tr>",
                            "<tr><td>kata</td><td>Gondos Katalin</td><td>1</td><td>3</td></tr>",
                            "<tr><td>kata</td><td>Gondos Katalin</td><td>1</td><td>2</td></tr>",
                            "<tr><td>kata</td><td>Gondos Katalin</td><td>1</td><td>2</td></tr>",
                            "<tr><td>katalin</td><td>Horváth Katalin</td><td>1</td><td>NULL</td></tr>",
                            "<tr><td>katalin</td><td>Horváth Katalin</td><td>1</td><td>2</td></tr>",
                            "<tr><td>katalin</td><td>Horváth Katalin</td><td>1</td><td>1</td></tr>",
                            "<tr><td>katalin</td><td>Horváth Katalin</td><td>1</td><td>1</td></tr>",
                            "<tr><td>katalin</td><td>Horváth Katalin</td><td>1</td><td>1</td></tr>",
                            "<tr><td>katalin</td><td>Horváth Katalin</td><td>1</td><td>1</td></tr>",
                            "<tr><td>katalin</td><td>Horváth Katalin</td><td>1</td><td>2</td></tr>",
                            "<tr><td>katalin</td><td>Horváth Katalin</td><td>1</td><td>2</td></tr>",
                            "<tr><td>katalin</td><td>Horváth Katalin</td><td>1</td><td>2</td></tr>",
                            "<tr><td>katalin</td><td>Horváth Katalin</td><td>1</td><td>1</td></tr>",
                            "<tr><td>katalin</td><td>Horváth Katalin</td><td>1</td><td>1</td></tr>",
                            "<tr><td>katalin</td><td>Horváth Katalin</td><td>1</td><td>1</td></tr>",
                            "<tr><td>katalin</td><td>Horváth Katalin</td><td>1</td><td>1</td></tr>",
                            "<tr><td>katalin</td><td>Horváth Katalin</td><td>1</td><td>1</td></tr>",
                            "<tr><td>katalin</td><td>Horváth Katalin</td><td>1</td><td>1</td></tr>",
                            "<tr><td>katalin</td><td>Horváth Katalin</td><td>1</td><td>2</td></tr>",
                            "<tr><td>katalin</td><td>Horváth Katalin</td><td>1</td><td>2</td></tr>",
                            "<tr><td>katalin</td><td>Horváth Katalin</td><td>1</td><td>2</td></tr>",
                            "<tr><td>katalin</td><td>Horváth Katalin</td><td>1</td><td>1</td></tr>",
                            "<tr><td>katalin</td><td>Horváth Katalin</td><td>1</td><td>1</td></tr>",
                            "<tr><td>katalin</td><td>Horváth Katalin</td><td>1</td><td>1</td></tr>",
                            "<tr><td>katalin</td><td>Horváth Katalin</td><td>1</td><td>1</td></tr>",
                            "<tr><td>katalin</td><td>Horváth Katalin</td><td>1</td><td>1</td></tr>",
                            "<tr><td>katalin</td><td>Horváth Katalin</td><td>1</td><td>1</td></tr>",
                            "<tr><td>katalin</td><td>Horváth Katalin</td><td>1</td><td>2</td></tr>",
                            "<tr><td>katalin</td><td>Horváth Katalin</td><td>1</td><td>2</td></tr>",
                            "<tr><td>katalin</td><td>Horváth Katalin</td><td>1</td><td>2</td></tr>",
                            "<tr><td>katalin</td><td>Horváth Katalin</td><td>1</td><td>1</td></tr>",
                            "<tr><td>katalin</td><td>Horváth Katalin</td><td>1</td><td>1</td></tr>",
                            "<tr><td>katalin</td><td>Horváth Katalin</td><td>1</td><td>1</td></tr>",
                            "<tr><td>katalin</td><td>Horváth Katalin</td><td>1</td><td>1</td></tr>",
                            "<tr><td>katalin</td><td>Horváth Katalin</td><td>1</td><td>1</td></tr>",
                            "<tr><td>katalin</td><td>Horváth Katalin</td><td>1</td><td>1</td></tr>",
                            "<tr><td>katalin</td><td>Horváth Katalin</td><td>1</td><td>2</td></tr>",
                            "<tr><td>katalin</td><td>Horváth Katalin</td><td>1</td><td>2</td></tr>",
                            "<tr><td>katalin</td><td>Horváth Katalin</td><td>1</td><td>2</td></tr>",
                            "<tr><td>katalin4</td><td>Kertész Katalin</td><td>1</td><td>NULL</td></tr>",
                            "<tr><td>katalin4</td><td>Kertész Katalin</td><td>1</td><td>1</td></tr>",
                            "<tr><td>katalin4</td><td>Kertész Katalin</td><td>1</td><td>2</td></tr>",
                            "<tr><td>katalin4</td><td>Kertész Katalin</td><td>1</td><td>2</td></tr>",
                            "<tr><td>katalin4</td><td>Kertész Katalin</td><td>1</td><td>3</td></tr>",
                            "<tr><td>katalin4</td><td>Kertész Katalin</td><td>1</td><td>2</td></tr>",
                            "<tr><td>katka</td><td>Kovács Katalin</td><td>1</td><td>NULL</td></tr>",
                            "<tr><td>katka</td><td>Kovács Katalin</td><td>1</td><td>2</td></tr>",
                            "<tr><td>katka</td><td>Kovács Katalin</td><td>1</td><td>2</td></tr>",
                            "<tr><td>katka</td><td>Kovács Katalin</td><td>1</td><td>2</td></tr>",
                            "<tr><td>katka</td><td>Kovács Katalin</td><td>1</td><td>2</td></tr>",
                            "<tr><td>katka</td><td>Kovács Katalin</td><td>1</td><td>2</td></tr>",
                            "<tr><td>katka</td><td>Kovács Katalin</td><td>1</td><td>3</td></tr>",
                            "<tr><td>katka</td><td>Kovács Katalin</td><td>1</td><td>3</td></tr>",
                            "<tr><td>katka</td><td>Kovács Katalin</td><td>1</td><td>3</td></tr>",
                            "<tr><td>krisztian4</td><td>Czérna Krisztián</td><td>1</td><td>NULL</td></tr>",
                            "<tr><td>krisztian4</td><td>Czérna Krisztián</td><td>1</td><td>2</td></tr>",
                            "<tr><td>krisztian4</td><td>Czérna Krisztián</td><td>1</td><td>2</td></tr>",
                            "<tr><td>krisztian4</td><td>Czérna Krisztián</td><td>1</td><td>2</td></tr>",
                            "<tr><td>krisztian4</td><td>Czérna Krisztián</td><td>1</td><td>1</td></tr>",
                            "<tr><td>krisztian4</td><td>Czérna Krisztián</td><td>1</td><td>1</td></tr>",
                            "<tr><td>krisztian4</td><td>Czérna Krisztián</td><td>1</td><td>1</td></tr>",
                            "<tr><td>krisztian4</td><td>Czérna Krisztián</td><td>1</td><td>2</td></tr>",
                            "<tr><td>krisztian4</td><td>Czérna Krisztián</td><td>1</td><td>2</td></tr>",
                            "<tr><td>krisztian4</td><td>Czérna Krisztián</td><td>1</td><td>2</td></tr>",
                            "<tr><td>krisztian4</td><td>Czérna Krisztián</td><td>1</td><td>1</td></tr>",
                            "<tr><td>krisztian4</td><td>Czérna Krisztián</td><td>1</td><td>2</td></tr>",
                            "<tr><td>krisztian4</td><td>Czérna Krisztián</td><td>1</td><td>2</td></tr>",
                            "<tr><td>krisztian4</td><td>Czérna Krisztián</td><td>1</td><td>2</td></tr>",
                            "<tr><td>krisztian4</td><td>Czérna Krisztián</td><td>1</td><td>2</td></tr>",
                            "<tr><td>krisztian4</td><td>Czérna Krisztián</td><td>1</td><td>2</td></tr>",
                            "<tr><td>krisztian4</td><td>Czérna Krisztián</td><td>1</td><td>1</td></tr>",
                            "<tr><td>krisztian4</td><td>Czérna Krisztián</td><td>1</td><td>1</td></tr>",
                            "<tr><td>krisztian4</td><td>Czérna Krisztián</td><td>1</td><td>1</td></tr>",
                            "<tr><td>krisztian4</td><td>Czérna Krisztián</td><td>1</td><td>2</td></tr>",
                            "<tr><td>krisztian4</td><td>Czérna Krisztián</td><td>1</td><td>2</td></tr>",
                            "<tr><td>krisztian4</td><td>Czérna Krisztián</td><td>1</td><td>2</td></tr>",
                            "<tr><td>krisztian4</td><td>Czérna Krisztián</td><td>1</td><td>1</td></tr>",
                            "<tr><td>krisztian4</td><td>Czérna Krisztián</td><td>1</td><td>2</td></tr>",
                            "<tr><td>krisztian4</td><td>Czérna Krisztián</td><td>1</td><td>2</td></tr>",
                            "<tr><td>krisztian4</td><td>Czérna Krisztián</td><td>1</td><td>2</td></tr>",
                            "<tr><td>krisztian4</td><td>Czérna Krisztián</td><td>1</td><td>2</td></tr>",
                            "<tr><td>krisztian4</td><td>Czérna Krisztián</td><td>1</td><td>2</td></tr>",
                            "<tr><td>krisztian4</td><td>Czérna Krisztián</td><td>1</td><td>1</td></tr>",
                            "<tr><td>krisztian4</td><td>Czérna Krisztián</td><td>1</td><td>1</td></tr>",
                            "<tr><td>krisztian4</td><td>Czérna Krisztián</td><td>1</td><td>1</td></tr>",
                            "<tr><td>krisztian4</td><td>Czérna Krisztián</td><td>1</td><td>2</td></tr>",
                            "<tr><td>krisztian4</td><td>Czérna Krisztián</td><td>1</td><td>2</td></tr>",
                            "<tr><td>krisztian4</td><td>Czérna Krisztián</td><td>1</td><td>2</td></tr>",
                            "<tr><td>krisztian4</td><td>Czérna Krisztián</td><td>1</td><td>1</td></tr>",
                            "<tr><td>krisztian4</td><td>Czérna Krisztián</td><td>1</td><td>2</td></tr>",
                            "<tr><td>KRISZTIANM</td><td>Mogyródi Krisztián</td><td>1</td><td>NULL</td></tr>",
                            "<tr><td>KRISZTIANM</td><td>Mogyródi Krisztián</td><td>1</td><td>2</td></tr>",
                            "<tr><td>KRISZTIANM</td><td>Mogyródi Krisztián</td><td>1</td><td>3</td></tr>",
                            "<tr><td>KRISZTIANM</td><td>Mogyródi Krisztián</td><td>1</td><td>2</td></tr>",
                            "<tr><td>KRISZTIANM</td><td>Mogyródi Krisztián</td><td>1</td><td>2</td></tr>",
                            "<tr><td>KRISZTIANM</td><td>Mogyródi Krisztián</td><td>1</td><td>1</td></tr>",
                            "<tr><td>krisztina</td><td>Szedlár Krisztina</td><td>1</td><td>NULL</td></tr>",
                            "<tr><td>krisztina</td><td>Szedlár Krisztina</td><td>1</td><td>2</td></tr>",
                            "<tr><td>krisztina</td><td>Szedlár Krisztina</td><td>1</td><td>2</td></tr>",
                            "<tr><td>krisztina</td><td>Szedlár Krisztina</td><td>1</td><td>2</td></tr>",
                            "<tr><td>krisztina</td><td>Szedlár Krisztina</td><td>1</td><td>2</td></tr>",
                            "<tr><td>krisztina</td><td>Szedlár Krisztina</td><td>1</td><td>1</td></tr>",
                            "<tr><td>krisztina</td><td>Szedlár Krisztina</td><td>1</td><td>1</td></tr>",
                            "<tr><td>krisztina</td><td>Szedlár Krisztina</td><td>1</td><td>1</td></tr>",
                            "<tr><td>krisztina</td><td>Szedlár Krisztina</td><td>1</td><td>2</td></tr>",
                            "<tr><td>krisztina</td><td>Szedlár Krisztina</td><td>1</td><td>2</td></tr>",
                            "<tr><td>krisztina</td><td>Szedlár Krisztina</td><td>1</td><td>3</td></tr>",
                            "<tr><td>krisztina</td><td>Szedlár Krisztina</td><td>1</td><td>2</td></tr>",
                            "<tr><td>krisztina</td><td>Szedlár Krisztina</td><td>1</td><td>2</td></tr>",
                            "<tr><td>krisztina</td><td>Szedlár Krisztina</td><td>1</td><td>1</td></tr>",
                            "<tr><td>krisztina</td><td>Szedlár Krisztina</td><td>1</td><td>1</td></tr>",
                            "<tr><td>krisztina</td><td>Szedlár Krisztina</td><td>1</td><td>1</td></tr>",
                            "<tr><td>krisztina1</td><td>Bori Krisztina</td><td>1</td><td>NULL</td></tr>",
                            "<tr><td>krisztina1</td><td>Bori Krisztina</td><td>1</td><td>2</td></tr>",
                            "<tr><td>krisztina1</td><td>Bori Krisztina</td><td>1</td><td>1</td></tr>",
                            "<tr><td>krisztina1</td><td>Bori Krisztina</td><td>1</td><td>1</td></tr>",
                            "<tr><td>krisztina1</td><td>Bori Krisztina</td><td>1</td><td>2</td></tr>",
                            "<tr><td>krisztina1</td><td>Bori Krisztina</td><td>1</td><td>3</td></tr>",
                            "<tr><td>KRISZTINAG</td><td>Gyárfás Krisztina</td><td>1</td><td>NULL</td></tr>",
                            "<tr><td>KRISZTINAG</td><td>Gyárfás Krisztina</td><td>1</td><td>2</td></tr>",
                            "<tr><td>KRISZTINAG</td><td>Gyárfás Krisztina</td><td>1</td><td>2</td></tr>",
                            "<tr><td>KRISZTINAG</td><td>Gyárfás Krisztina</td><td>1</td><td>2</td></tr>",
                            "<tr><td>KRISZTINAG</td><td>Gyárfás Krisztina</td><td>1</td><td>1</td></tr>",
                            "<tr><td>KRISZTINAG</td><td>Gyárfás Krisztina</td><td>1</td><td>1</td></tr>",
                            "<tr><td>KRISZTINAG</td><td>Gyárfás Krisztina</td><td>1</td><td>1</td></tr>",
                            "<tr><td>KRISZTINAG</td><td>Gyárfás Krisztina</td><td>1</td><td>2</td></tr>",
                            "<tr><td>KRISZTINAG</td><td>Gyárfás Krisztina</td><td>1</td><td>2</td></tr>",
                            "<tr><td>KRISZTINAG</td><td>Gyárfás Krisztina</td><td>1</td><td>1</td></tr>",
                            "<tr><td>lajos</td><td>Kiss Lajos</td><td>1</td><td>NULL</td></tr>",
                            "<tr><td>lajos</td><td>Kiss Lajos</td><td>1</td><td>2</td></tr>",
                            "<tr><td>lajos</td><td>Kiss Lajos</td><td>1</td><td>3</td></tr>",
                            "<tr><td>LASZLOA</td><td>Antal László</td><td>1</td><td>NULL</td></tr>",
                            "<tr><td>LASZLOA</td><td>Antal László</td><td>1</td><td>2</td></tr>",
                            "<tr><td>LASZLOA</td><td>Antal László</td><td>1</td><td>1</td></tr>",
                            "<tr><td>LASZLOA</td><td>Antal László</td><td>1</td><td>2</td></tr>",
                            "<tr><td>LASZLON</td><td>Nagy László</td><td>1</td><td>NULL</td></tr>",
                            "<tr><td>LASZLON</td><td>Nagy László</td><td>1</td><td>1</td></tr>",
                            "<tr><td>LASZLON</td><td>Nagy László</td><td>1</td><td>1</td></tr>",
                            "<tr><td>LASZLON</td><td>Nagy László</td><td>1</td><td>2</td></tr>",
                            "<tr><td>LASZLON</td><td>Nagy László</td><td>1</td><td>2</td></tr>",
                            "<tr><td>LASZLON</td><td>Nagy László</td><td>1</td><td>1</td></tr>",
                            "<tr><td>LASZLON</td><td>Nagy László</td><td>1</td><td>1</td></tr>",
                            "<tr><td>LASZLON</td><td>Nagy László</td><td>1</td><td>1</td></tr>",
                            "<tr><td>LASZLON</td><td>Nagy László</td><td>1</td><td>2</td></tr>",
                            "<tr><td>LASZLON</td><td>Nagy László</td><td>1</td><td>2</td></tr>",
                            "<tr><td>LASZLON</td><td>Nagy László</td><td>1</td><td>2</td></tr>",
                            "<tr><td>LASZLON</td><td>Nagy László</td><td>1</td><td>1</td></tr>",
                            "<tr><td>LASZLON</td><td>Nagy László</td><td>1</td><td>1</td></tr>",
                            "<tr><td>LASZLON</td><td>Nagy László</td><td>1</td><td>1</td></tr>",
                            "<tr><td>LASZLON</td><td>Nagy László</td><td>1</td><td>2</td></tr>",
                            "<tr><td>LASZLON</td><td>Nagy László</td><td>1</td><td>2</td></tr>",
                            "<tr><td>LASZLON</td><td>Nagy László</td><td>1</td><td>2</td></tr>",
                            "<tr><td>LASZLON</td><td>Nagy László</td><td>1</td><td>1</td></tr>",
                            "<tr><td>maria1</td><td>Baráth Mária</td><td>1</td><td>NULL</td></tr>",
                            "<tr><td>maria1</td><td>Baráth Mária</td><td>1</td><td>2</td></tr>",
                            "<tr><td>maria1</td><td>Baráth Mária</td><td>1</td><td>1</td></tr>",
                            "<tr><td>maria1</td><td>Baráth Mária</td><td>1</td><td>2</td></tr>",
                            "<tr><td>maria1</td><td>Baráth Mária</td><td>1</td><td>1</td></tr>",
                            "<tr><td>maria1</td><td>Baráth Mária</td><td>1</td><td>2</td></tr>",
                            "<tr><td>maria1</td><td>Baráth Mária</td><td>1</td><td>1</td></tr>",
                            "<tr><td>maria1</td><td>Baráth Mária</td><td>1</td><td>2</td></tr>",
                            "<tr><td>maria1</td><td>Baráth Mária</td><td>1</td><td>2</td></tr>",
                            "<tr><td>maria1</td><td>Baráth Mária</td><td>1</td><td>2</td></tr>",
                            "<tr><td>maria1</td><td>Baráth Mária</td><td>1</td><td>1</td></tr>",
                            "<tr><td>maria1</td><td>Baráth Mária</td><td>1</td><td>2</td></tr>",
                            "<tr><td>maria1</td><td>Baráth Mária</td><td>1</td><td>1</td></tr>",
                            "<tr><td>maria1</td><td>Baráth Mária</td><td>1</td><td>2</td></tr>",
                            "<tr><td>maria1</td><td>Baráth Mária</td><td>1</td><td>1</td></tr>",
                            "<tr><td>maria1</td><td>Baráth Mária</td><td>1</td><td>2</td></tr>",
                            "<tr><td>maria1</td><td>Baráth Mária</td><td>1</td><td>2</td></tr>",
                            "<tr><td>maria1</td><td>Baráth Mária</td><td>1</td><td>2</td></tr>",
                            "<tr><td>maria1</td><td>Baráth Mária</td><td>1</td><td>1</td></tr>",
                            "<tr><td>maria1</td><td>Baráth Mária</td><td>1</td><td>2</td></tr>",
                            "<tr><td>maria1</td><td>Baráth Mária</td><td>1</td><td>1</td></tr>",
                            "<tr><td>maria1</td><td>Baráth Mária</td><td>1</td><td>2</td></tr>",
                            "<tr><td>maria1</td><td>Baráth Mária</td><td>1</td><td>1</td></tr>",
                            "<tr><td>maria1</td><td>Baráth Mária</td><td>1</td><td>2</td></tr>",
                            "<tr><td>mark</td><td>Kispál Márk</td><td>1</td><td>NULL</td></tr>",
                            "<tr><td>mark</td><td>Kispál Márk</td><td>1</td><td>4</td></tr>",
                            "<tr><td>mark</td><td>Kispál Márk</td><td>1</td><td>3</td></tr>",
                            "<tr><td>mark</td><td>Kispál Márk</td><td>1</td><td>3</td></tr>",
                            "<tr><td>mark</td><td>Kispál Márk</td><td>1</td><td>2</td></tr>",
                            "<tr><td>marton</td><td>Kalacsi Márton</td><td>1</td><td>NULL</td></tr>",
                            "<tr><td>marton</td><td>Kalacsi Márton</td><td>1</td><td>3</td></tr>",
                            "<tr><td>marton</td><td>Kalacsi Márton</td><td>1</td><td>2</td></tr>",
                            "<tr><td>marton</td><td>Kalacsi Márton</td><td>1</td><td>2</td></tr>",
                            "<tr><td>marton</td><td>Kalacsi Márton</td><td>1</td><td>2</td></tr>",
                            "<tr><td>marton</td><td>Kalacsi Márton</td><td>1</td><td>2</td></tr>",
                            "<tr><td>marton</td><td>Kalacsi Márton</td><td>1</td><td>2</td></tr>",
                            "<tr><td>MATYASS</td><td>Szilágyi Mátyás</td><td>1</td><td>NULL</td></tr>",
                            "<tr><td>MATYASS</td><td>Szilágyi Mátyás</td><td>1</td><td>2</td></tr>",
                            "<tr><td>MATYASS</td><td>Szilágyi Mátyás</td><td>1</td><td>2</td></tr>",
                            "<tr><td>MATYASS</td><td>Szilágyi Mátyás</td><td>1</td><td>2</td></tr>",
                            "<tr><td>MATYASS</td><td>Szilágyi Mátyás</td><td>1</td><td>2</td></tr>",
                            "<tr><td>MATYASS</td><td>Szilágyi Mátyás</td><td>1</td><td>1</td></tr>",
                            "<tr><td>MATYASS</td><td>Szilágyi Mátyás</td><td>1</td><td>2</td></tr>",
                            "<tr><td>MATYASS</td><td>Szilágyi Mátyás</td><td>1</td><td>2</td></tr>",
                            "<tr><td>MATYASS</td><td>Szilágyi Mátyás</td><td>1</td><td>2</td></tr>",
                            "<tr><td>MATYASS</td><td>Szilágyi Mátyás</td><td>1</td><td>2</td></tr>",
                            "<tr><td>MATYASS</td><td>Szilágyi Mátyás</td><td>1</td><td>2</td></tr>",
                            "<tr><td>MATYASS</td><td>Szilágyi Mátyás</td><td>1</td><td>2</td></tr>",
                            "<tr><td>MATYASS</td><td>Szilágyi Mátyás</td><td>1</td><td>2</td></tr>",
                            "<tr><td>MATYASS</td><td>Szilágyi Mátyás</td><td>1</td><td>1</td></tr>",
                            "<tr><td>MATYASS</td><td>Szilágyi Mátyás</td><td>1</td><td>2</td></tr>",
                            "<tr><td>MATYASS</td><td>Szilágyi Mátyás</td><td>1</td><td>2</td></tr>",
                            "<tr><td>MIHALYJ</td><td>Juhász Mihály</td><td>1</td><td>NULL</td></tr>",
                            "<tr><td>MIHALYJ</td><td>Juhász Mihály</td><td>1</td><td>1</td></tr>",
                            "<tr><td>MIHALYJ</td><td>Juhász Mihály</td><td>1</td><td>1</td></tr>",
                            "<tr><td>MIHALYJ</td><td>Juhász Mihály</td><td>1</td><td>1</td></tr>",
                            "<tr><td>MIHALYJ</td><td>Juhász Mihály</td><td>1</td><td>2</td></tr>",
                            "<tr><td>MIHALYJ</td><td>Juhász Mihály</td><td>1</td><td>2</td></tr>",
                            "<tr><td>MIHALYJ</td><td>Juhász Mihály</td><td>1</td><td>2</td></tr>",
                            "<tr><td>MIHALYJ</td><td>Juhász Mihály</td><td>1</td><td>2</td></tr>",
                            "<tr><td>MIHALYJ</td><td>Juhász Mihály</td><td>1</td><td>1</td></tr>",
                            "<tr><td>MIHALYJ</td><td>Juhász Mihály</td><td>1</td><td>2</td></tr>",
                            "<tr><td>miklos2</td><td>Gondos Miklós</td><td>1</td><td>NULL</td></tr>",
                            "<tr><td>miklos2</td><td>Gondos Miklós</td><td>1</td><td>3</td></tr>",
                            "<tr><td>miklos2</td><td>Gondos Miklós</td><td>1</td><td>2</td></tr>",
                            "<tr><td>MONIKAM</td><td>Mohos Mónika</td><td>1</td><td>NULL</td></tr>",
                            "<tr><td>MONIKAM</td><td>Mohos Mónika</td><td>1</td><td>2</td></tr>",
                            "<tr><td>MONIKAM</td><td>Mohos Mónika</td><td>1</td><td>1</td></tr>",
                            "<tr><td>MONIKAM</td><td>Mohos Mónika</td><td>1</td><td>1</td></tr>",
                            "<tr><td>MONIKAM</td><td>Mohos Mónika</td><td>1</td><td>1</td></tr>",
                            "<tr><td>MONIKAM</td><td>Mohos Mónika</td><td>1</td><td>1</td></tr>",
                            "<tr><td>MONIKAM</td><td>Mohos Mónika</td><td>1</td><td>1</td></tr>",
                            "<tr><td>MONIKAM</td><td>Mohos Mónika</td><td>1</td><td>2</td></tr>",
                            "<tr><td>MONIKAM</td><td>Mohos Mónika</td><td>1</td><td>1</td></tr>",
                            "<tr><td>MONIKAM</td><td>Mohos Mónika</td><td>1</td><td>1</td></tr>",
                            "<tr><td>MONIKAM</td><td>Mohos Mónika</td><td>1</td><td>1</td></tr>",
                            "<tr><td>MONIKAM</td><td>Mohos Mónika</td><td>1</td><td>1</td></tr>",
                            "<tr><td>nikolett3</td><td>Horváth Nikolett</td><td>1</td><td>NULL</td></tr>",
                            "<tr><td>nikolett3</td><td>Horváth Nikolett</td><td>1</td><td>2</td></tr>",
                            "<tr><td>nikolett3</td><td>Horváth Nikolett</td><td>1</td><td>1</td></tr>",
                            "<tr><td>nikolett3</td><td>Horváth Nikolett</td><td>1</td><td>1</td></tr>",
                            "<tr><td>nikolett3</td><td>Horváth Nikolett</td><td>1</td><td>1</td></tr>",
                            "<tr><td>nikolett3</td><td>Horváth Nikolett</td><td>1</td><td>2</td></tr>",
                            "<tr><td>nikolett3</td><td>Horváth Nikolett</td><td>1</td><td>2</td></tr>",
                            "<tr><td>nikolett3</td><td>Horváth Nikolett</td><td>1</td><td>1</td></tr>",
                            "<tr><td>norbert</td><td>Szűcs Norbert</td><td>1</td><td>NULL</td></tr>",
                            "<tr><td>norbert</td><td>Szűcs Norbert</td><td>1</td><td>1</td></tr>",
                            "<tr><td>norbert</td><td>Szűcs Norbert</td><td>1</td><td>2</td></tr>",
                            "<tr><td>norbert</td><td>Szűcs Norbert</td><td>1</td><td>2</td></tr>",
                            "<tr><td>norbert</td><td>Szűcs Norbert</td><td>1</td><td>2</td></tr>",
                            "<tr><td>norbert</td><td>Szűcs Norbert</td><td>1</td><td>2</td></tr>",
                            "<tr><td>norbert</td><td>Szűcs Norbert</td><td>1</td><td>1</td></tr>",
                            "<tr><td>norbert</td><td>Szűcs Norbert</td><td>1</td><td>1</td></tr>",
                            "<tr><td>norbert</td><td>Szűcs Norbert</td><td>1</td><td>2</td></tr>",
                            "<tr><td>norbert</td><td>Szűcs Norbert</td><td>1</td><td>2</td></tr>",
                            "<tr><td>norbert2</td><td>Hegedűs Norbert</td><td>1</td><td>NULL</td></tr>",
                            "<tr><td>norbert2</td><td>Hegedűs Norbert</td><td>1</td><td>1</td></tr>",
                            "<tr><td>norbert2</td><td>Hegedűs Norbert</td><td>1</td><td>1</td></tr>",
                            "<tr><td>norbert2</td><td>Hegedűs Norbert</td><td>1</td><td>1</td></tr>",
                            "<tr><td>norbert2</td><td>Hegedűs Norbert</td><td>1</td><td>1</td></tr>",
                            "<tr><td>norbert2</td><td>Hegedűs Norbert</td><td>1</td><td>2</td></tr>",
                            "<tr><td>norbert2</td><td>Hegedűs Norbert</td><td>1</td><td>2</td></tr>",
                            "<tr><td>norbert2</td><td>Hegedűs Norbert</td><td>1</td><td>2</td></tr>",
                            "<tr><td>norbert2</td><td>Hegedűs Norbert</td><td>1</td><td>2</td></tr>",
                            "<tr><td>norbert2</td><td>Hegedűs Norbert</td><td>1</td><td>2</td></tr>",
                            "<tr><td>norbert2</td><td>Hegedűs Norbert</td><td>1</td><td>1</td></tr>",
                            "<tr><td>norbert2</td><td>Hegedűs Norbert</td><td>1</td><td>1</td></tr>",
                            "<tr><td>norbert2</td><td>Hegedűs Norbert</td><td>1</td><td>2</td></tr>",
                            "<tr><td>norbert2</td><td>Hegedűs Norbert</td><td>1</td><td>2</td></tr>",
                            "<tr><td>norbert4</td><td>Mile Norbert</td><td>1</td><td>NULL</td></tr>",
                            "<tr><td>norbert4</td><td>Mile Norbert</td><td>1</td><td>2</td></tr>",
                            "<tr><td>norbert4</td><td>Mile Norbert</td><td>1</td><td>2</td></tr>",
                            "<tr><td>norbert4</td><td>Mile Norbert</td><td>1</td><td>3</td></tr>",
                            "<tr><td>norbert4</td><td>Mile Norbert</td><td>1</td><td>3</td></tr>",
                            "<tr><td>norbert4</td><td>Mile Norbert</td><td>1</td><td>3</td></tr>",
                            "<tr><td>norbert4</td><td>Mile Norbert</td><td>1</td><td>3</td></tr>",
                            "<tr><td>norbert4</td><td>Mile Norbert</td><td>1</td><td>3</td></tr>",
                            "<tr><td>norbert4</td><td>Mile Norbert</td><td>1</td><td>2</td></tr>",
                            "<tr><td>norbert5</td><td>Béres Norbert</td><td>1</td><td>NULL</td></tr>",
                            "<tr><td>norbert5</td><td>Béres Norbert</td><td>1</td><td>2</td></tr>",
                            "<tr><td>norbert5</td><td>Béres Norbert</td><td>1</td><td>2</td></tr>",
                            "<tr><td>peter3</td><td>Szalai Péter</td><td>1</td><td>NULL</td></tr>",
                            "<tr><td>peter3</td><td>Szalai Péter</td><td>1</td><td>4</td></tr>",
                            "<tr><td>peter3</td><td>Szalai Péter</td><td>1</td><td>3</td></tr>",
                            "<tr><td>peter3</td><td>Szalai Péter</td><td>1</td><td>3</td></tr>",
                            "<tr><td>peter3</td><td>Szalai Péter</td><td>1</td><td>2</td></tr>",
                            "<tr><td>peter3</td><td>Szalai Péter</td><td>1</td><td>1</td></tr>",
                            "<tr><td>peter3</td><td>Szalai Péter</td><td>1</td><td>1</td></tr>",
                            "<tr><td>peter3</td><td>Szalai Péter</td><td>1</td><td>2</td></tr>",
                            "<tr><td>peter3</td><td>Szalai Péter</td><td>1</td><td>3</td></tr>",
                            "<tr><td>peter3</td><td>Szalai Péter</td><td>1</td><td>3</td></tr>",
                            "<tr><td>peter3</td><td>Szalai Péter</td><td>1</td><td>2</td></tr>",
                            "<tr><td>peter3</td><td>Szalai Péter</td><td>1</td><td>1</td></tr>",
                            "<tr><td>PETERB</td><td>Berendi Péter</td><td>1</td><td>NULL</td></tr>",
                            "<tr><td>PETERB</td><td>Berendi Péter</td><td>1</td><td>1</td></tr>",
                            "<tr><td>PETERB</td><td>Berendi Péter</td><td>1</td><td>1</td></tr>",
                            "<tr><td>PETERB</td><td>Berendi Péter</td><td>1</td><td>1</td></tr>",
                            "<tr><td>PETERB</td><td>Berendi Péter</td><td>1</td><td>1</td></tr>",
                            "<tr><td>PETERB</td><td>Berendi Péter</td><td>1</td><td>2</td></tr>",
                            "<tr><td>PETERB</td><td>Berendi Péter</td><td>1</td><td>2</td></tr>",
                            "<tr><td>PETERB</td><td>Berendi Péter</td><td>1</td><td>2</td></tr>",
                            "<tr><td>PETERB</td><td>Berendi Péter</td><td>1</td><td>1</td></tr>",
                            "<tr><td>PETERB</td><td>Berendi Péter</td><td>1</td><td>1</td></tr>",
                            "<tr><td>RENATAK</td><td>Kardos Renáta</td><td>1</td><td>NULL</td></tr>",
                            "<tr><td>RENATAK</td><td>Kardos Renáta</td><td>1</td><td>4</td></tr>",
                            "<tr><td>RENATAK</td><td>Kardos Renáta</td><td>1</td><td>2</td></tr>",
                            "<tr><td>RENATAK</td><td>Kardos Renáta</td><td>1</td><td>2</td></tr>",
                            "<tr><td>RENATAK</td><td>Kardos Renáta</td><td>1</td><td>1</td></tr>",
                            "<tr><td>RENATAK</td><td>Kardos Renáta</td><td>1</td><td>1</td></tr>",
                            "<tr><td>RENATAK</td><td>Kardos Renáta</td><td>1</td><td>1</td></tr>",
                            "<tr><td>RENATAK</td><td>Kardos Renáta</td><td>1</td><td>2</td></tr>",
                            "<tr><td>RENATAK</td><td>Kardos Renáta</td><td>1</td><td>2</td></tr>",
                            "<tr><td>RENATAK</td><td>Kardos Renáta</td><td>1</td><td>2</td></tr>",
                            "<tr><td>RENATAK</td><td>Kardos Renáta</td><td>1</td><td>1</td></tr>",
                            "<tr><td>RENATAK</td><td>Kardos Renáta</td><td>1</td><td>1</td></tr>",
                            "<tr><td>RENATAK</td><td>Kardos Renáta</td><td>1</td><td>1</td></tr>",
                            "<tr><td>RENATAK</td><td>Kardos Renáta</td><td>1</td><td>2</td></tr>",
                            "<tr><td>RENATAK</td><td>Kardos Renáta</td><td>1</td><td>2</td></tr>",
                            "<tr><td>RENATAK</td><td>Kardos Renáta</td><td>1</td><td>2</td></tr>",
                            "<tr><td>RENATAK</td><td>Kardos Renáta</td><td>1</td><td>1</td></tr>",
                            "<tr><td>RENATAK</td><td>Kardos Renáta</td><td>1</td><td>1</td></tr>",
                            "<tr><td>RENATAK</td><td>Kardos Renáta</td><td>1</td><td>1</td></tr>",
                            "<tr><td>RENATAK</td><td>Kardos Renáta</td><td>1</td><td>2</td></tr>",
                            "<tr><td>RENATAK</td><td>Kardos Renáta</td><td>1</td><td>2</td></tr>",
                            "<tr><td>RENATAK</td><td>Kardos Renáta</td><td>1</td><td>2</td></tr>",
                            "<tr><td>RENATAK</td><td>Kardos Renáta</td><td>1</td><td>1</td></tr>",
                            "<tr><td>RENATAK</td><td>Kardos Renáta</td><td>1</td><td>1</td></tr>",
                            "<tr><td>RENATAS</td><td>Szirmai Renáta</td><td>1</td><td>NULL</td></tr>",
                            "<tr><td>RENATAS</td><td>Szirmai Renáta</td><td>1</td><td>2</td></tr>",
                            "<tr><td>RENATAS</td><td>Szirmai Renáta</td><td>1</td><td>2</td></tr>",
                            "<tr><td>RENATAS</td><td>Szirmai Renáta</td><td>1</td><td>3</td></tr>",
                            "<tr><td>RENATAS</td><td>Szirmai Renáta</td><td>1</td><td>2</td></tr>",
                            "<tr><td>robert2</td><td>Patay Róbert</td><td>1</td><td>NULL</td></tr>",
                            "<tr><td>robert2</td><td>Patay Róbert</td><td>1</td><td>2</td></tr>",
                            "<tr><td>robert2</td><td>Patay Róbert</td><td>1</td><td>2</td></tr>",
                            "<tr><td>robert2</td><td>Patay Róbert</td><td>1</td><td>2</td></tr>",
                            "<tr><td>ROBERTI</td><td>Iván Róbert</td><td>1</td><td>NULL</td></tr>",
                            "<tr><td>ROBERTI</td><td>Iván Róbert</td><td>1</td><td>2</td></tr>",
                            "<tr><td>ROBERTI</td><td>Iván Róbert</td><td>1</td><td>2</td></tr>",
                            "<tr><td>ROBERTI</td><td>Iván Róbert</td><td>1</td><td>2</td></tr>",
                            "<tr><td>ROBERTI</td><td>Iván Róbert</td><td>1</td><td>3</td></tr>",
                            "<tr><td>ROBERTI</td><td>Iván Róbert</td><td>1</td><td>3</td></tr>",
                            "<tr><td>ROBERTI</td><td>Iván Róbert</td><td>1</td><td>2</td></tr>",
                            "<tr><td>ROBERTI</td><td>Iván Róbert</td><td>1</td><td>1</td></tr>",
                            "<tr><td>roland1</td><td>Ferencz Roland</td><td>1</td><td>NULL</td></tr>",
                            "<tr><td>roland1</td><td>Ferencz Roland</td><td>1</td><td>3</td></tr>",
                            "<tr><td>roland1</td><td>Ferencz Roland</td><td>1</td><td>2</td></tr>",
                            "<tr><td>roland1</td><td>Ferencz Roland</td><td>1</td><td>2</td></tr>",
                            "<tr><td>sandor3</td><td>Farkas Sándor</td><td>1</td><td>NULL</td></tr>",
                            "<tr><td>sandor3</td><td>Farkas Sándor</td><td>1</td><td>2</td></tr>",
                            "<tr><td>sandor3</td><td>Farkas Sándor</td><td>1</td><td>1</td></tr>",
                            "<tr><td>sandor3</td><td>Farkas Sándor</td><td>1</td><td>1</td></tr>",
                            "<tr><td>sandor3</td><td>Farkas Sándor</td><td>1</td><td>2</td></tr>",
                            "<tr><td>sandor4</td><td>Nagy Sándor</td><td>1</td><td>NULL</td></tr>",
                            "<tr><td>sandor4</td><td>Nagy Sándor</td><td>1</td><td>1</td></tr>",
                            "<tr><td>sandor4</td><td>Nagy Sándor</td><td>1</td><td>1</td></tr>",
                            "<tr><td>sandor4</td><td>Nagy Sándor</td><td>1</td><td>1</td></tr>",
                            "<tr><td>sandor4</td><td>Nagy Sándor</td><td>1</td><td>1</td></tr>",
                            "<tr><td>sandor4</td><td>Nagy Sándor</td><td>1</td><td>1</td></tr>",
                            "<tr><td>sandor4</td><td>Nagy Sándor</td><td>1</td><td>1</td></tr>",
                            "<tr><td>sandor4</td><td>Nagy Sándor</td><td>1</td><td>1</td></tr>",
                            "<tr><td>sara</td><td>Farkas Sára</td><td>1</td><td>NULL</td></tr>",
                            "<tr><td>sara</td><td>Farkas Sára</td><td>1</td><td>3</td></tr>",
                            "<tr><td>sara</td><td>Farkas Sára</td><td>1</td><td>3</td></tr>",
                            "<tr><td>sara</td><td>Farkas Sára</td><td>1</td><td>2</td></tr>",
                            "<tr><td>sara</td><td>Farkas Sára</td><td>1</td><td>2</td></tr>",
                            "<tr><td>sara</td><td>Farkas Sára</td><td>1</td><td>2</td></tr>",
                            "<tr><td>sara</td><td>Farkas Sára</td><td>1</td><td>2</td></tr>",
                            "<tr><td>sara</td><td>Farkas Sára</td><td>1</td><td>2</td></tr>",
                            "<tr><td>sara</td><td>Farkas Sára</td><td>1</td><td>2</td></tr>",
                            "<tr><td>sara</td><td>Farkas Sára</td><td>1</td><td>2</td></tr>",
                            "<tr><td>sara</td><td>Farkas Sára</td><td>1</td><td>3</td></tr>",
                            "<tr><td>sara</td><td>Farkas Sára</td><td>1</td><td>2</td></tr>",
                            "<tr><td>SZILARDS</td><td>Szalai Szilárd</td><td>1</td><td>NULL</td></tr>",
                            "<tr><td>SZILARDS</td><td>Szalai Szilárd</td><td>1</td><td>3</td></tr>",
                            "<tr><td>SZILARDS</td><td>Szalai Szilárd</td><td>1</td><td>4</td></tr>",
                            "<tr><td>SZILARDS</td><td>Szalai Szilárd</td><td>1</td><td>4</td></tr>",
                            "<tr><td>SZILARDS</td><td>Szalai Szilárd</td><td>1</td><td>4</td></tr>",
                            "<tr><td>SZILARDS</td><td>Szalai Szilárd</td><td>1</td><td>3</td></tr>",
                            "<tr><td>SZILARDS</td><td>Szalai Szilárd</td><td>1</td><td>3</td></tr>",
                            "<tr><td>TAMASF</td><td>Fényes Tamás</td><td>1</td><td>NULL</td></tr>",
                            "<tr><td>TAMASF</td><td>Fényes Tamás</td><td>1</td><td>2</td></tr>",
                            "<tr><td>TAMASF</td><td>Fényes Tamás</td><td>1</td><td>2</td></tr>",
                            "<tr><td>TAMASF</td><td>Fényes Tamás</td><td>1</td><td>2</td></tr>",
                            "<tr><td>TAMASF</td><td>Fényes Tamás</td><td>1</td><td>2</td></tr>",
                            "<tr><td>TAMASF</td><td>Fényes Tamás</td><td>1</td><td>2</td></tr>",
                            "<tr><td>TAMASF</td><td>Fényes Tamás</td><td>1</td><td>3</td></tr>",
                            "<tr><td>TAMASF</td><td>Fényes Tamás</td><td>1</td><td>3</td></tr>",
                            "<tr><td>TAMASF</td><td>Fényes Tamás</td><td>1</td><td>3</td></tr>",
                            "<tr><td>tibor</td><td>Gombos Tibor</td><td>1</td><td>NULL</td></tr>",
                            "<tr><td>tibor</td><td>Gombos Tibor</td><td>1</td><td>2</td></tr>",
                            "<tr><td>tihamer</td><td>Kazy Tihamér</td><td>1</td><td>NULL</td></tr>",
                            "<tr><td>tihamer</td><td>Kazy Tihamér</td><td>1</td><td>3</td></tr>",
                            "<tr><td>tihamer</td><td>Kazy Tihamér</td><td>1</td><td>3</td></tr>",
                            "<tr><td>tihamer</td><td>Kazy Tihamér</td><td>1</td><td>2</td></tr>",
                            "<tr><td>tihamer</td><td>Kazy Tihamér</td><td>1</td><td>3</td></tr>",
                            "<tr><td>tihamer</td><td>Kazy Tihamér</td><td>1</td><td>2</td></tr>",
                            "<tr><td>tunde</td><td>Turcsik Tünde</td><td>1</td><td>NULL</td></tr>",
                            "<tr><td>tunde</td><td>Turcsik Tünde</td><td>1</td><td>1</td></tr>",
                            "<tr><td>tunde</td><td>Turcsik Tünde</td><td>1</td><td>1</td></tr>",
                            "<tr><td>tunde</td><td>Turcsik Tünde</td><td>1</td><td>2</td></tr>",
                            "<tr><td>tunde</td><td>Turcsik Tünde</td><td>1</td><td>2</td></tr>",
                            "<tr><td>tunde</td><td>Turcsik Tünde</td><td>1</td><td>3</td></tr>",
                            "<tr><td>tunde</td><td>Turcsik Tünde</td><td>1</td><td>3</td></tr>",
                            "<tr><td>tunde</td><td>Turcsik Tünde</td><td>1</td><td>3</td></tr>",
                            "<tr><td>valentin</td><td>Feró Valentin</td><td>1</td><td>NULL</td></tr>",
                            "<tr><td>valentin</td><td>Feró Valentin</td><td>1</td><td>1</td></tr>",
                            "<tr><td>valentin</td><td>Feró Valentin</td><td>1</td><td>2</td></tr>",
                            "<tr><td>valentin</td><td>Feró Valentin</td><td>1</td><td>2</td></tr>",
                            "<tr><td>valentin</td><td>Feró Valentin</td><td>1</td><td>3</td></tr>",
                            "<tr><td>veronika4</td><td>Tankó Veronika</td><td>1</td><td>NULL</td></tr>",
                            "<tr><td>veronika4</td><td>Tankó Veronika</td><td>1</td><td>3</td></tr>",
                            "<tr><td>veronika4</td><td>Tankó Veronika</td><td>1</td><td>2</td></tr>",
                            "<tr><td>veronika4</td><td>Tankó Veronika</td><td>1</td><td>2</td></tr>",
                            "<tr><td>veronika4</td><td>Tankó Veronika</td><td>1</td><td>1</td></tr>",
                            "<tr><td>veronika4</td><td>Tankó Veronika</td><td>1</td><td>2</td></tr>",
                            "<tr><td>VIKTORIAU</td><td>Urbán Viktoria</td><td>1</td><td>NULL</td></tr>",
                            "<tr><td>VIKTORIAU</td><td>Urbán Viktoria</td><td>1</td><td>1</td></tr>",
                            "<tr><td>VIKTORIAU</td><td>Urbán Viktoria</td><td>1</td><td>1</td></tr>",
                            "<tr><td>VIKTORIAU</td><td>Urbán Viktoria</td><td>1</td><td>2</td></tr>",
                            "<tr><td>vivien3</td><td>Boros Vivien</td><td>1</td><td>NULL</td></tr>",
                            "<tr><td>vivien3</td><td>Boros Vivien</td><td>1</td><td>3</td></tr>",
                            "<tr><td>vivien3</td><td>Boros Vivien</td><td>1</td><td>2</td></tr>",
                            "<tr><td>vivien3</td><td>Boros Vivien</td><td>1</td><td>2</td></tr>",
                            "<tr><td>vivien3</td><td>Boros Vivien</td><td>1</td><td>1</td></tr>",
                            "<tr><td>vivien3</td><td>Boros Vivien</td><td>1</td><td>1</td></tr>",
                            "<tr><td>vivien3</td><td>Boros Vivien</td><td>1</td><td>1</td></tr>",
                            "<tr><td>zoltan4</td><td>Barna Zoltán</td><td>1</td><td>NULL</td></tr>",
                            "<tr><td>zoltan4</td><td>Barna Zoltán</td><td>1</td><td>3</td></tr>",
                            "<tr><td>zoltan4</td><td>Barna Zoltán</td><td>1</td><td>3</td></tr>",
                            "<tr><td>zoltan4</td><td>Barna Zoltán</td><td>1</td><td>2</td></tr>",
                            "<tr><td>zoltan4</td><td>Barna Zoltán</td><td>1</td><td>2</td></tr>",
                            "<tr><td>zoltan4</td><td>Barna Zoltán</td><td>1</td><td>1</td></tr>",
                            "<tr><td>zoltan4</td><td>Barna Zoltán</td><td>1</td><td>2</td></tr>",
                            "<tr><td>zoltan4</td><td>Barna Zoltán</td><td>1</td><td>3</td></tr>",
                            "<tr><td>zoltan4</td><td>Barna Zoltán</td><td>1</td><td>3</td></tr>",
                            "<tr><td>zoltan4</td><td>Barna Zoltán</td><td>1</td><td>2</td></tr>",
                            "<tr><td>zoltan4</td><td>Barna Zoltán</td><td>1</td><td>1</td></tr>",
                            "<tr><td>zoltan4</td><td>Barna Zoltán</td><td>1</td><td>1</td></tr>",
                            "<tr><td>zoltan4</td><td>Barna Zoltán</td><td>1</td><td>2</td></tr>",
                            "<tr><td>zoltan4</td><td>Barna Zoltán</td><td>1</td><td>2</td></tr>",
                            "<tr><td>zoltan4</td><td>Barna Zoltán</td><td>1</td><td>3</td></tr>",
                            "<tr><td>zoltan4</td><td>Barna Zoltán</td><td>1</td><td>2</td></tr>",
                            "<tr><td>zoltan4</td><td>Barna Zoltán</td><td>1</td><td>2</td></tr>",
                            "<tr><td>zoltan4</td><td>Barna Zoltán</td><td>1</td><td>1</td></tr>",
                            "<tr><td>zoltan4</td><td>Barna Zoltán</td><td>1</td><td>2</td></tr>",
                            "<tr><td>zoltan4</td><td>Barna Zoltán</td><td>1</td><td>3</td></tr>",
                            "<tr><td>zoltan4</td><td>Barna Zoltán</td><td>1</td><td>3</td></tr>",
                            "<tr><td>zoltan4</td><td>Barna Zoltán</td><td>1</td><td>2</td></tr>",
                            "<tr><td>zoltan4</td><td>Barna Zoltán</td><td>1</td><td>1</td></tr>",
                            "<tr><td>zoltan4</td><td>Barna Zoltán</td><td>1</td><td>1</td></tr>",
                            "<tr><td>zoltan4</td><td>Barna Zoltán</td><td>1</td><td>2</td></tr>",
                            "<tr><td>zoltan4</td><td>Barna Zoltán</td><td>1</td><td>2</td></tr>",
                            "<tr><td>zoltan4</td><td>Barna Zoltán</td><td>1</td><td>3</td></tr>",
                            "<tr><td>zoltan4</td><td>Barna Zoltán</td><td>1</td><td>2</td></tr>",
                            "<tr><td>zoltan4</td><td>Barna Zoltán</td><td>1</td><td>2</td></tr>",
                            "<tr><td>zoltan4</td><td>Barna Zoltán</td><td>1</td><td>1</td></tr>",
                            "<tr><td>zoltan4</td><td>Barna Zoltán</td><td>1</td><td>2</td></tr>",
                            "<tr><td>zoltan4</td><td>Barna Zoltán</td><td>1</td><td>3</td></tr>",
                            "<tr><td>zoltan4</td><td>Barna Zoltán</td><td>1</td><td>3</td></tr>",
                            "<tr><td>zoltan4</td><td>Barna Zoltán</td><td>1</td><td>2</td></tr>",
                            "<tr><td>zoltan4</td><td>Barna Zoltán</td><td>1</td><td>1</td></tr>",
                            "<tr><td>zoltan4</td><td>Barna Zoltán</td><td>1</td><td>1</td></tr>",
                            "<tr><td>zoltan4</td><td>Barna Zoltán</td><td>1</td><td>2</td></tr>",
                            "<tr><td>zoltan4</td><td>Barna Zoltán</td><td>1</td><td>2</td></tr>",
                            "<tr><td>zoltan4</td><td>Barna Zoltán</td><td>1</td><td>3</td></tr>",
                            "<tr><td>zoltan4</td><td>Barna Zoltán</td><td>1</td><td>2</td></tr>",
                            "<tr><td>zoltan4</td><td>Barna Zoltán</td><td>1</td><td>2</td></tr>",
                            "<tr><td>zoltan4</td><td>Barna Zoltán</td><td>1</td><td>1</td></tr>",
                            "<tr><td>zoltan4</td><td>Barna Zoltán</td><td>1</td><td>2</td></tr>",
                            "<tr><td>zoltan4</td><td>Barna Zoltán</td><td>1</td><td>3</td></tr>",
                            "<tr><td>zoltan4</td><td>Barna Zoltán</td><td>1</td><td>3</td></tr>",
                            "<tr><td>zoltan4</td><td>Barna Zoltán</td><td>1</td><td>2</td></tr>",
                            "<tr><td>zoltan4</td><td>Barna Zoltán</td><td>1</td><td>1</td></tr>",
                            "<tr><td>zoltan4</td><td>Barna Zoltán</td><td>1</td><td>1</td></tr>",
                            "<tr><td>ZSOLTJ</td><td>Józsa Zsolt</td><td>1</td><td>NULL</td></tr>",
                            "<tr><td>ZSOLTJ</td><td>Józsa Zsolt</td><td>1</td><td>4</td></tr>",
                            "<tr><td>ZSOLTJ</td><td>Józsa Zsolt</td><td>1</td><td>3</td></tr>",
                            "<tr><td>ZSOLTJ</td><td>Józsa Zsolt</td><td>1</td><td>2</td></tr>",
                            "<tr><td>ZSOLTJ</td><td>Józsa Zsolt</td><td>1</td><td>1</td></tr>",
                            "<tr><td>ZSOLTJ</td><td>Józsa Zsolt</td><td>1</td><td>1</td></tr>",
                            "<tr><td>zsuzsanna</td><td>Barta Zsuzsanna</td><td>1</td><td>NULL</td></tr>",
                            "<tr><td>zsuzsanna</td><td>Barta Zsuzsanna</td><td>1</td><td>2</td></tr>",
                            "<tr><td>zsuzsanna</td><td>Barta Zsuzsanna</td><td>1</td><td>2</td></tr>",
                            "<tr><td>zsuzsanna</td><td>Barta Zsuzsanna</td><td>1</td><td>1</td></tr>",
                            "<tr><td>ZSUZSAV</td><td>Vajda Zsuzsa</td><td>1</td><td>NULL</td></tr>",
                            "<tr><td>ZSUZSAV</td><td>Vajda Zsuzsa</td><td>1</td><td>2</td></tr>",
                            "<tr><td>ZSUZSAV</td><td>Vajda Zsuzsa</td><td>1</td><td>3</td></tr>",
                            "<tr><td>ZSUZSAV</td><td>Vajda Zsuzsa</td><td>1</td><td>3</td></tr>",
                            "<tr><td>ZSUZSAV</td><td>Vajda Zsuzsa</td><td>1</td><td>3</td></tr>",
                            "<tr><td>ZSUZSAV</td><td>Vajda Zsuzsa</td><td>1</td><td>2</td></tr>",
                            "</table>"
                        ]
                    }
                }
            ],
            "execution_count": 4
        }
    ]
}