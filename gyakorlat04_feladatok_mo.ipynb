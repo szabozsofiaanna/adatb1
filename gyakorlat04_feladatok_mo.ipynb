{
    "cells": [
        {
            "attachments": {},
            "cell_type": "markdown",
            "metadata": {
                "azdata_cell_guid": "363cd270-6577-449b-9c89-d4b7c7972d52"
            },
            "source": [
                "1. <span style=\"background-color: rgb(255, 255, 255); color: rgb(0, 0, 0); font-family: &quot;Open Sans&quot;, sans-serif; font-size: 14.44px;\">Készítsünk listát arról, hogy ügyfelenként (LOGIN), azon belül szállítási módonként hány megrendelés történt!&nbsp;</span> \n",
                "\n",
                "a. A lista tartalmazza a részösszegeket és a végösszeget is!  \n",
                "b. Használjuk a ROLLUP záradékot!"
            ]
        },
        {
            "cell_type": "code",
            "execution_count": null,
            "metadata": {
                "azdata_cell_guid": "6ab9f633-a3b5-48c9-a1dc-4fb8235ae85b",
                "language": "sql"
            },
            "outputs": [],
            "source": [
                "SELECT [LOGIN],\n",
                "       SZALL_MOD,\n",
                "       COUNT(*)\n",
                "FROM Rendeles\n",
                "GROUP BY ROLLUP([LOGIN], SZALL_MOD)\n",
                "-- GROUP BY CUBE([LOGIN], SZALL_MOD)"
            ]
        },
        {
            "attachments": {},
            "cell_type": "markdown",
            "metadata": {
                "azdata_cell_guid": "ea75c103-911f-41a3-a32c-3d40fb3e4e4a"
            },
            "source": [
                "2. <span style=\"background-color: rgb(255, 255, 255); color: rgb(0, 0, 0); font-family: &quot;Open Sans&quot;, sans-serif; font-size: 14.44px;\">Készítsünk listát a termékek számáról a következő csoportosítási szempontok szerint:<br>kategória azonosító, raktárkód, raktárkód+mennyiségi egység!</span>\n",
                "\n",
                "a. A listát szűrjük azokra a csoportokra, ahol a termékek száma legalább 6!"
            ]
        },
        {
            "cell_type": "code",
            "execution_count": null,
            "metadata": {
                "azdata_cell_guid": "222b9618-a8e8-42b4-a8e8-d002257122b7",
                "language": "sql"
            },
            "outputs": [],
            "source": [
                "SELECT KAT_ID,\n",
                "       RAKTAR_KOD,\n",
                "       MEGYS,\n",
                "       COUNT(*)\n",
                "FROM Termek\n",
                "GROUP BY GROUPING SETS(KAT_ID, RAKTAR_KOD, MEGYS)\n",
                "HAVING COUNT(*) >= 6"
            ]
        },
        {
            "attachments": {},
            "cell_type": "markdown",
            "metadata": {
                "azdata_cell_guid": "d7876bb9-76d0-4d07-baed-3cb17b2f96c3"
            },
            "source": [
                "```\n",
                "3. Készítsünk listát az egyes termékkategóriákban lévő termékek számáról! \n",
                "\n",
                "```\n",
                "\n",
                "a. Elég megjeleníteni a kategóriák azonosítóit és a darabszámokat!   \n",
                "<span style=\"color: var(--vscode-foreground);\">b. A lista megfelelően jelölve tartalmazza a végösszeget is!&nbsp;<br></span> <span style=\"color: var(--vscode-foreground);\">c. Az oszlopokat nevezzük el értelemszerűen!&nbsp;<br></span> <span style=\"color: var(--vscode-foreground);\">d. A listát rendezzük a darabszám szerint növekvő sorrendbe!</span>\n"
            ]
        },
        {
            "cell_type": "code",
            "execution_count": null,
            "metadata": {
                "azdata_cell_guid": "56ec19ce-e249-4551-b2a8-f17569765acc",
                "language": "sql"
            },
            "outputs": [],
            "source": [
                "SELECT IIF(GROUPING_ID(KAT_ID) = 1, 'Összesen', CAST(KAT_ID AS nvarchar(5))) AS 'Kategória azonosító',\n",
                "       COUNT(*) AS 'Darabszám'\n",
                "FROM Termek\n",
                "GROUP BY ROLLUP(KAT_ID)\n",
                "ORDER BY COUNT(*)"
            ]
        },
        {
            "attachments": {},
            "cell_type": "markdown",
            "metadata": {
                "azdata_cell_guid": "8e7fef82-8022-49a0-8255-fc2846c2134b"
            },
            "source": [
                "4. <span style=\"background-color: rgb(255, 255, 255); color: rgb(0, 0, 0); font-family: &quot;Open Sans&quot;, sans-serif; font-size: 14.44px;\">Készítsünk listát az ügyfelek számáról születési év szerint, azon belül nem szerinti bontásban!&nbsp;</span> \n",
                "\n",
                "a. A lista megfelelően jelölve tartalmazza a részösszegeket és a végösszeget is!  \n",
                "b. Az oszlopoknak adjunk nevet értelemszerűen!"
            ]
        },
        {
            "cell_type": "code",
            "execution_count": null,
            "metadata": {
                "azdata_cell_guid": "36f7b396-4a1f-45e5-8720-2302537c91bc",
                "language": "sql"
            },
            "outputs": [],
            "source": [
                "SELECT IIF(GROUPING_ID(szulev) = 1, 'Végösszeg', CAST(szulev as nvarchar(4))) AS 'Születési év',\n",
                "       CASE \n",
                "         WHEN GROUPING_ID(szulev, nem) = 1 THEN 'Részösszeg'\n",
                "         WHEN GROUPING_ID(szulev, nem) = 3 THEN 'Végösszeg'\n",
                "         ELSE nem \n",
                "         END AS 'Nem',\n",
                "       count(*) AS 'Ügyfelek száma'\n",
                "FROM ugyfel\n",
                "GROUP BY ROLLUP(szulev, nem)"
            ]
        },
        {
            "attachments": {},
            "cell_type": "markdown",
            "metadata": {
                "azdata_cell_guid": "84239ca2-6b5e-49f5-9860-d44c11d6de32"
            },
            "source": [
                "5. <span style=\"background-color: rgb(255, 255, 255); color: rgb(0, 0, 0); font-family: &quot;Open Sans&quot;, sans-serif; font-size: 14.44px;\">Készítsünk listát a termékek számáról a felvitel hónapja, azon belül napja szerint csoportosítva.&nbsp;</span> \n",
                "\n",
                "a. A lista csak a részösszegeket és a végösszeget tartalmazza!  \n",
                "b. Az oszlopoknak adjunk megfelelő nevet!  \n",
                "c. Ötlet: HAVING + GROUPING\\_ID fv együttes használata"
            ]
        },
        {
            "cell_type": "code",
            "execution_count": null,
            "metadata": {
                "azdata_cell_guid": "06d9a62b-9430-424b-a135-d80e675f0eb3",
                "language": "sql"
            },
            "outputs": [],
            "source": [
                "SELECT MONTH(felvitel) AS 'hónap',\n",
                "       DAY(felvitel) AS 'nap',\n",
                "       COUNT(*) AS 'termékek száma'\n",
                "FROM Termek\n",
                "GROUP BY ROLLUP(MONTH(felvitel), DAY(felvitel))\n",
                "HAVING GROUPING_ID(MONTH(felvitel), DAY(felvitel)) > 0"
            ]
        },
        {
            "cell_type": "code",
            "execution_count": null,
            "metadata": {},
            "outputs": [],
            "source": [
                "SELECT MONTH(felvitel) as 'hónap,',\n",
                "DAY(felvitel) as 'nap',\n",
                "COUNT(*) as 'termékek száma'\n",
                "FROM Termek\n",
                "GROUP BY ROLLUP(MONTH(felvitel), DAY(felvitel))\n",
                "HAVING GROUPING_iD(MONTH(felvitel), DAY(felvitel)) > 0"
            ]
        }
    ],
    "metadata": {
        "kernelspec": {
            "display_name": "SQL",
            "language": "sql",
            "name": "SQL"
        },
        "language_info": {
            "name": "sql",
            "version": ""
        }
    },
    "nbformat": 4,
    "nbformat_minor": 2
}
