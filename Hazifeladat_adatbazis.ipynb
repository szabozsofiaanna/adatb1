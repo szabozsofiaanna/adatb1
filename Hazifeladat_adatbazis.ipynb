{
    "metadata": {
        "kernelspec": {
            "name": "SQL",
            "display_name": "SQL",
            "language": "sql"
        },
        "language_info": {
            "name": "sql",
            "version": ""
        }
    },
    "nbformat_minor": 2,
    "nbformat": 4,
    "cells": [
        {
            "cell_type": "code",
            "source": [
                "--hol vannak hianyzo adatok?\n",
                "SELECT \n",
                "    SUM(CASE WHEN LISTAAR IS NULL THEN 1 ELSE 0 END) AS 'NULL listaar',\n",
                "    SUM(CASE WHEN KESZLET IS NULL THEN 1 ELSE 0 END) AS 'NULL keszlet',\n",
                "    SUM(CASE WHEN FELVITEL IS NULL THEN 1 ELSE 0 END) AS 'NULL felvitel',\n",
                "    SUM(CASE WHEN FELVITTE IS NULL THEN 1 ELSE 0 END) AS 'NULL felvitte',\n",
                "    SUM(CASE WHEN TERMEKKOD IS NULL THEN 1 ELSE 0 END) AS 'NULL keszlet',\n",
                "    SUM(CASE WHEN MEGNEVEZES IS NULL THEN 1 ELSE 0 END) AS 'NULL megnevezes',\n",
                "    SUM(CASE WHEN KAT_ID IS NULL THEN 1 ELSE 0 END) AS 'NULL kat_id',\n",
                "    SUM(CASE WHEN RAKTAR_KOD IS NULL THEN 1 ELSE 0 END) AS 'NULL raktar kód',\n",
                "    SUM(CASE WHEN MEGYS IS NULL THEN 1 ELSE 0 END) AS 'NULL megys',\n",
                "    SUM(CASE WHEN LEIRAS IS NULL THEN 1 ELSE 0 END) AS 'NULL leiras'\n",
                "FROM Termek\n",
                ""
            ],
            "metadata": {
                "language": "sql",
                "azdata_cell_guid": "133fdde8-b7e7-4941-a57a-d5a9c7df9806"
            },
            "outputs": [
                {
                    "output_type": "display_data",
                    "data": {
                        "text/html": "(1 row affected)"
                    },
                    "metadata": {}
                },
                {
                    "output_type": "display_data",
                    "data": {
                        "text/html": "Total execution time: 00:00:00.594"
                    },
                    "metadata": {}
                },
                {
                    "output_type": "execute_result",
                    "metadata": {},
                    "execution_count": 49,
                    "data": {
                        "application/vnd.dataresource+json": {
                            "schema": {
                                "fields": [
                                    {
                                        "name": "NULL listaar"
                                    },
                                    {
                                        "name": "NULL keszlet"
                                    },
                                    {
                                        "name": "NULL felvitel"
                                    },
                                    {
                                        "name": "NULL felvitte"
                                    },
                                    {
                                        "name": "NULL keszlet"
                                    },
                                    {
                                        "name": "NULL megnevezes"
                                    },
                                    {
                                        "name": "NULL kat_id"
                                    },
                                    {
                                        "name": "NULL raktar kód"
                                    },
                                    {
                                        "name": "NULL megys"
                                    },
                                    {
                                        "name": "NULL leiras"
                                    }
                                ]
                            },
                            "data": [
                                {
                                    "NULL listaar": "0",
                                    "NULL keszlet": "0",
                                    "NULL felvitel": "0",
                                    "NULL felvitte": "0",
                                    "NULL megnevezes": "0",
                                    "NULL kat_id": "0",
                                    "NULL raktar kód": "0",
                                    "NULL megys": "0",
                                    "NULL leiras": "527"
                                }
                            ]
                        },
                        "text/html": [
                            "<table>",
                            "<tr><th>NULL listaar</th><th>NULL keszlet</th><th>NULL felvitel</th><th>NULL felvitte</th><th>NULL keszlet</th><th>NULL megnevezes</th><th>NULL kat_id</th><th>NULL raktar kód</th><th>NULL megys</th><th>NULL leiras</th></tr>",
                            "<tr><td>0</td><td>0</td><td>0</td><td>0</td><td>0</td><td>0</td><td>0</td><td>0</td><td>0</td><td>527</td></tr>",
                            "</table>"
                        ]
                    }
                }
            ],
            "execution_count": 49
        },
        {
            "cell_type": "code",
            "source": [
                "--csoportosítas az arkategoria szerint\n",
                "SELECT \n",
                "    CASE \n",
                "        WHEN LISTAAR < 100 THEN '0-99'\n",
                "        WHEN LISTAAR BETWEEN 100 AND 500 THEN '100-500'\n",
                "        WHEN LISTAAR BETWEEN 500 AND 1000 THEN '501-1000'\n",
                "        WHEN LISTAAR > 1000 THEN '1000+'\n",
                "        ELSE 'Nincs ár'\n",
                "    END AS 'Árkategória',\n",
                "    COUNT(*) AS 'Termékek száma',\n",
                "    ROUND(COUNT(*) * 100.0 / SUM(COUNT(*)) OVER(), 2) AS 'Százalék (%)'\n",
                "FROM Termek\n",
                "GROUP BY     \n",
                "CASE \n",
                "        WHEN LISTAAR < 100 THEN '0-99'\n",
                "        WHEN LISTAAR BETWEEN 100 AND 500 THEN '100-500'\n",
                "        WHEN LISTAAR BETWEEN 500 AND 1000 THEN '501-1000'\n",
                "        WHEN LISTAAR > 1000 THEN '1000+'\n",
                "        ELSE 'Nincs ár'\n",
                "         END\n",
                "ORDER BY CASE \n",
                "        WHEN LISTAAR < 100 THEN '0-99'\n",
                "        WHEN LISTAAR BETWEEN 100 AND 500 THEN '100-500'\n",
                "        WHEN LISTAAR BETWEEN 500 AND 1000 THEN '501-1000'\n",
                "        WHEN LISTAAR > 1000 THEN '1000+'\n",
                "        ELSE 'Nincs ár'\n",
                "    END"
            ],
            "metadata": {
                "language": "sql",
                "azdata_cell_guid": "09fa4fd2-0862-4b53-a756-3fbe21f5f4f1"
            },
            "outputs": [
                {
                    "output_type": "display_data",
                    "data": {
                        "text/html": "(4 rows affected)"
                    },
                    "metadata": {}
                },
                {
                    "output_type": "display_data",
                    "data": {
                        "text/html": "Total execution time: 00:00:00.183"
                    },
                    "metadata": {}
                },
                {
                    "output_type": "execute_result",
                    "metadata": {},
                    "execution_count": 105,
                    "data": {
                        "application/vnd.dataresource+json": {
                            "schema": {
                                "fields": [
                                    {
                                        "name": "Árkategória"
                                    },
                                    {
                                        "name": "Termékek száma"
                                    },
                                    {
                                        "name": "Százalék (%)"
                                    }
                                ]
                            },
                            "data": [
                                {
                                    "Árkategória": "0-99",
                                    "Termékek száma": "272",
                                    "Százalék (%)": "49.360000000000"
                                },
                                {
                                    "Árkategória": "1000+",
                                    "Termékek száma": "40",
                                    "Százalék (%)": "7.260000000000"
                                },
                                {
                                    "Árkategória": "100-500",
                                    "Termékek száma": "203",
                                    "Százalék (%)": "36.840000000000"
                                },
                                {
                                    "Árkategória": "501-1000",
                                    "Termékek száma": "36",
                                    "Százalék (%)": "6.530000000000"
                                }
                            ]
                        },
                        "text/html": [
                            "<table>",
                            "<tr><th>Árkategória</th><th>Termékek száma</th><th>Százalék (%)</th></tr>",
                            "<tr><td>0-99</td><td>272</td><td>49.360000000000</td></tr>",
                            "<tr><td>1000+</td><td>40</td><td>7.260000000000</td></tr>",
                            "<tr><td>100-500</td><td>203</td><td>36.840000000000</td></tr>",
                            "<tr><td>501-1000</td><td>36</td><td>6.530000000000</td></tr>",
                            "</table>"
                        ]
                    }
                }
            ],
            "execution_count": 105
        },
        {
            "cell_type": "code",
            "source": [
                "SELECT \n",
                "    MIN(KESZLET) AS 'Min készlet',\n",
                "    MAX(KESZLET) AS 'Max készlet',\n",
                "    AVG(KESZLET) AS 'Átlagos',\n",
                "    SUM(KESZLET) AS 'Össz. termékek száma készleten'\n",
                "FROM Termek\n",
                "WHERE KESZLET IS NOT NULL"
            ],
            "metadata": {
                "language": "sql",
                "azdata_cell_guid": "8591243b-1b2b-411f-a3a7-860d9ceaca9b"
            },
            "outputs": [
                {
                    "output_type": "display_data",
                    "data": {
                        "text/html": "(1 row affected)"
                    },
                    "metadata": {}
                },
                {
                    "output_type": "display_data",
                    "data": {
                        "text/html": "Total execution time: 00:00:00.499"
                    },
                    "metadata": {}
                },
                {
                    "output_type": "execute_result",
                    "metadata": {},
                    "execution_count": 74,
                    "data": {
                        "application/vnd.dataresource+json": {
                            "schema": {
                                "fields": [
                                    {
                                        "name": "Min készlet"
                                    },
                                    {
                                        "name": "Max készlet"
                                    },
                                    {
                                        "name": "Átlagos"
                                    },
                                    {
                                        "name": "Össz. termékek száma készleten"
                                    }
                                ]
                            },
                            "data": [
                                {
                                    "Min készlet": "0",
                                    "Max készlet": "50000",
                                    "Átlagos": "1585,9909255898367",
                                    "Össz. termékek száma készleten": "873881"
                                }
                            ]
                        },
                        "text/html": [
                            "<table>",
                            "<tr><th>Min készlet</th><th>Max készlet</th><th>Átlagos</th><th>Össz. termékek száma készleten</th></tr>",
                            "<tr><td>0</td><td>50000</td><td>1585,9909255898367</td><td>873881</td></tr>",
                            "</table>"
                        ]
                    }
                }
            ],
            "execution_count": 74
        },
        {
            "cell_type": "code",
            "source": [
                "--kiugro ertekek 3as szorassal az listaar szerint\n",
                "SELECT TERMEKKOD as 'Termékkód',\n",
                "MEGNEVEZES as 'Megnevezés',\n",
                "LISTAAR as 'Listaár'\n",
                "FROM Termek\n",
                "WHERE LISTAAR > (SELECT AVG(LISTAAR) + 3 * STDEV(LISTAAR) \n",
                "FROM Termek)\n",
                "ORDER BY LISTAAR DESC"
            ],
            "metadata": {
                "language": "sql",
                "azdata_cell_guid": "8f86a984-c8e0-4dc7-9a07-433534c230ff"
            },
            "outputs": [
                {
                    "output_type": "display_data",
                    "data": {
                        "text/html": "(9 rows affected)"
                    },
                    "metadata": {}
                },
                {
                    "output_type": "display_data",
                    "data": {
                        "text/html": "Total execution time: 00:00:01.005"
                    },
                    "metadata": {}
                },
                {
                    "output_type": "execute_result",
                    "metadata": {},
                    "execution_count": 99,
                    "data": {
                        "application/vnd.dataresource+json": {
                            "schema": {
                                "fields": [
                                    {
                                        "name": "Termékkód"
                                    },
                                    {
                                        "name": "Megnevezés"
                                    },
                                    {
                                        "name": "Listaár"
                                    }
                                ]
                            },
                            "data": [
                                {
                                    "Termékkód": "N039-AL222",
                                    "Megnevezés": "kosztüm (hosszú)",
                                    "Listaár": "46000"
                                },
                                {
                                    "Termékkód": "N035-AL218",
                                    "Megnevezés": "kosztüm (rövid)",
                                    "Listaár": "39000"
                                },
                                {
                                    "Termékkód": "N029-AL212",
                                    "Megnevezés": "női koktélruha",
                                    "Listaár": "32000"
                                },
                                {
                                    "Termékkód": "N001-KB101",
                                    "Megnevezés": "női szövet kabát",
                                    "Listaár": "24000"
                                },
                                {
                                    "Termékkód": "F001-KB101",
                                    "Megnevezés": "férfi szövet kabát",
                                    "Listaár": "22000"
                                },
                                {
                                    "Termékkód": "G041-AL211",
                                    "Megnevezés": "fiú ünneplős ruha",
                                    "Listaár": "16900"
                                },
                                {
                                    "Termékkód": "L041-AL211",
                                    "Megnevezés": "lány ünneplős ruha",
                                    "Listaár": "16900"
                                },
                                {
                                    "Termékkód": "02080511T",
                                    "Megnevezés": "Oki toner C",
                                    "Listaár": "14250"
                                },
                                {
                                    "Termékkód": "F013-NA207",
                                    "Megnevezés": "férfi szövet nadrág",
                                    "Listaár": "11900"
                                }
                            ]
                        },
                        "text/html": [
                            "<table>",
                            "<tr><th>Termékkód</th><th>Megnevezés</th><th>Listaár</th></tr>",
                            "<tr><td>N039-AL222</td><td>kosztüm (hosszú)</td><td>46000</td></tr>",
                            "<tr><td>N035-AL218</td><td>kosztüm (rövid)</td><td>39000</td></tr>",
                            "<tr><td>N029-AL212</td><td>női koktélruha</td><td>32000</td></tr>",
                            "<tr><td>N001-KB101</td><td>női szövet kabát</td><td>24000</td></tr>",
                            "<tr><td>F001-KB101</td><td>férfi szövet kabát</td><td>22000</td></tr>",
                            "<tr><td>G041-AL211</td><td>fiú ünneplős ruha</td><td>16900</td></tr>",
                            "<tr><td>L041-AL211</td><td>lány ünneplős ruha</td><td>16900</td></tr>",
                            "<tr><td>02080511T</td><td>Oki toner C</td><td>14250</td></tr>",
                            "<tr><td>F013-NA207</td><td>férfi szövet nadrág</td><td>11900</td></tr>",
                            "</table>"
                        ]
                    }
                }
            ],
            "execution_count": 99
        },
        {
            "cell_type": "code",
            "source": [
                "SELECT \n",
                "    CASE \n",
                "        WHEN KESZLET = 0 THEN 'Nincs készleten'\n",
                "        WHEN KESZLET BETWEEN 1 AND 100 THEN '1-100 db'\n",
                "        WHEN KESZLET BETWEEN 101 AND 200 THEN '101-200 db'\n",
                "        WHEN KESZLET BETWEEN 201 AND 450 THEN '201-450 db'\n",
                "        WHEN KESZLET > 450 THEN '450+ db'\n",
                "        ELSE 'Ismeretlen'\n",
                "    END AS 'Készlet csoportosítás',\n",
                "    COUNT(*) AS 'Termékek száma'\n",
                "FROM Termek\n",
                "GROUP BY \n",
                "    CASE \n",
                "        WHEN KESZLET = 0 THEN 'Nincs készleten'\n",
                "        WHEN KESZLET BETWEEN 1 AND 100 THEN '1-100 db'\n",
                "        WHEN KESZLET BETWEEN 101 AND 200 THEN '101-200 db'\n",
                "        WHEN KESZLET BETWEEN 201 AND 450 THEN '201-450 db'\n",
                "        WHEN KESZLET > 450 THEN '450+ db'\n",
                "        ELSE 'Ismeretlen' END\n",
                "ORDER BY COUNT(*) ASC"
            ],
            "metadata": {
                "language": "sql",
                "azdata_cell_guid": "3dd8dd2d-5728-40fb-9981-08bb661c333e"
            },
            "outputs": [
                {
                    "output_type": "display_data",
                    "data": {
                        "text/html": "(5 rows affected)"
                    },
                    "metadata": {}
                },
                {
                    "output_type": "display_data",
                    "data": {
                        "text/html": "Total execution time: 00:00:00.643"
                    },
                    "metadata": {}
                },
                {
                    "output_type": "execute_result",
                    "metadata": {},
                    "execution_count": 97,
                    "data": {
                        "application/vnd.dataresource+json": {
                            "schema": {
                                "fields": [
                                    {
                                        "name": "Készlet csoportosítás"
                                    },
                                    {
                                        "name": "Termékek száma"
                                    }
                                ]
                            },
                            "data": [
                                {
                                    "Készlet csoportosítás": "Nincs készleten",
                                    "Termékek száma": "2"
                                },
                                {
                                    "Készlet csoportosítás": "101-200 db",
                                    "Termékek száma": "90"
                                },
                                {
                                    "Készlet csoportosítás": "201-450 db",
                                    "Termékek száma": "95"
                                },
                                {
                                    "Készlet csoportosítás": "1-100 db",
                                    "Termékek száma": "111"
                                },
                                {
                                    "Készlet csoportosítás": "450+ db",
                                    "Termékek száma": "253"
                                }
                            ]
                        },
                        "text/html": [
                            "<table>",
                            "<tr><th>Készlet csoportosítás</th><th>Termékek száma</th></tr>",
                            "<tr><td>Nincs készleten</td><td>2</td></tr>",
                            "<tr><td>101-200 db</td><td>90</td></tr>",
                            "<tr><td>201-450 db</td><td>95</td></tr>",
                            "<tr><td>1-100 db</td><td>111</td></tr>",
                            "<tr><td>450+ db</td><td>253</td></tr>",
                            "</table>"
                        ]
                    }
                }
            ],
            "execution_count": 97
        },
        {
            "cell_type": "code",
            "source": [
                "-- kiugro ertekek a keszlet alapjan, hogy mibol ne rendeljunk tobbet\n",
                "SELECT \n",
                "    TERMEKKOD, \n",
                "    MEGNEVEZES, \n",
                "    KESZLET\n",
                "FROM Termek\n",
                "WHERE \n",
                "   KESZLET > (SELECT AVG(KESZLET) + 3 * STDEV(KESZLET) FROM Termek) --sok\n",
                ""
            ],
            "metadata": {
                "language": "sql",
                "azdata_cell_guid": "eb921a14-708b-40d0-83f0-617c837eddea"
            },
            "outputs": [
                {
                    "output_type": "display_data",
                    "data": {
                        "text/html": "(8 rows affected)"
                    },
                    "metadata": {}
                },
                {
                    "output_type": "display_data",
                    "data": {
                        "text/html": "Total execution time: 00:00:00.050"
                    },
                    "metadata": {}
                },
                {
                    "output_type": "execute_result",
                    "metadata": {},
                    "execution_count": 104,
                    "data": {
                        "application/vnd.dataresource+json": {
                            "schema": {
                                "fields": [
                                    {
                                        "name": "TERMEKKOD"
                                    },
                                    {
                                        "name": "MEGNEVEZES"
                                    },
                                    {
                                        "name": "KESZLET"
                                    }
                                ]
                            },
                            "data": [
                                {
                                    "TERMEKKOD": "03050079T",
                                    "MEGNEVEZES": "Díszkötöző szalag vékony",
                                    "KESZLET": "40000"
                                },
                                {
                                    "TERMEKKOD": "03050080T",
                                    "MEGNEVEZES": "Diszkötöző széles szalag",
                                    "KESZLET": "26000"
                                },
                                {
                                    "TERMEKKOD": "03050457T",
                                    "MEGNEVEZES": "Ajándék cs. tasak kicsi",
                                    "KESZLET": "50000"
                                },
                                {
                                    "TERMEKKOD": "07080164T",
                                    "MEGNEVEZES": "Golyóstoll UNI gumis",
                                    "KESZLET": "30000"
                                },
                                {
                                    "TERMEKKOD": "07080311T",
                                    "MEGNEVEZES": "Pixiron  UNI",
                                    "KESZLET": "22000"
                                },
                                {
                                    "TERMEKKOD": "07080315T",
                                    "MEGNEVEZES": "Pixiron Handy műanyag",
                                    "KESZLET": "25000"
                                },
                                {
                                    "TERMEKKOD": "07080469T",
                                    "MEGNEVEZES": "Golyóstoll UNIBALL 07",
                                    "KESZLET": "35000"
                                },
                                {
                                    "TERMEKKOD": "07080471T",
                                    "MEGNEVEZES": "Golyóstoll levélbontós",
                                    "KESZLET": "50000"
                                }
                            ]
                        },
                        "text/html": [
                            "<table>",
                            "<tr><th>TERMEKKOD</th><th>MEGNEVEZES</th><th>KESZLET</th></tr>",
                            "<tr><td>03050079T</td><td>Díszkötöző szalag vékony</td><td>40000</td></tr>",
                            "<tr><td>03050080T</td><td>Diszkötöző széles szalag</td><td>26000</td></tr>",
                            "<tr><td>03050457T</td><td>Ajándék cs. tasak kicsi</td><td>50000</td></tr>",
                            "<tr><td>07080164T</td><td>Golyóstoll UNI gumis</td><td>30000</td></tr>",
                            "<tr><td>07080311T</td><td>Pixiron  UNI</td><td>22000</td></tr>",
                            "<tr><td>07080315T</td><td>Pixiron Handy műanyag</td><td>25000</td></tr>",
                            "<tr><td>07080469T</td><td>Golyóstoll UNIBALL 07</td><td>35000</td></tr>",
                            "<tr><td>07080471T</td><td>Golyóstoll levélbontós</td><td>50000</td></tr>",
                            "</table>"
                        ]
                    }
                }
            ],
            "execution_count": 104
        },
        {
            "cell_type": "code",
            "source": [
                "--Mibol mennyi van raktaron\n",
                "SELECT MEGNEVEZES,\n",
                "KESZLET\n",
                "FROM Termek\n",
                "WHERE KESZLET >= 0 AND KESZLET IS NOT NULL\n",
                "ORDER BY KESZLET"
            ],
            "metadata": {
                "azdata_cell_guid": "c91a7b85-233f-4fd5-9179-ff4e67ff7566",
                "language": "sql"
            },
            "outputs": [
                {
                    "output_type": "display_data",
                    "data": {
                        "text/html": "(551 rows affected)"
                    },
                    "metadata": {}
                },
                {
                    "output_type": "display_data",
                    "data": {
                        "text/html": "Total execution time: 00:00:00.238"
                    },
                    "metadata": {}
                },
                {
                    "output_type": "execute_result",
                    "metadata": {},
                    "execution_count": 63,
                    "data": {
                        "application/vnd.dataresource+json": {
                            "schema": {
                                "fields": [
                                    {
                                        "name": "MEGNEVEZES"
                                    },
                                    {
                                        "name": "KESZLET"
                                    }
                                ]
                            },
                            "data": [
                                {
                                    "MEGNEVEZES": "Rovatolt papír 20 íves",
                                    "KESZLET": "0"
                                },
                                {
                                    "MEGNEVEZES": "Leckefüzet",
                                    "KESZLET": "0"
                                },
                                {
                                    "MEGNEVEZES": "női alsó",
                                    "KESZLET": "53"
                                },
                                {
                                    "MEGNEVEZES": "női szövet kabát",
                                    "KESZLET": "77"
                                },
                                {
                                    "MEGNEVEZES": "sál",
                                    "KESZLET": "77"
                                },
                                {
                                    "MEGNEVEZES": "gyermek kabát (lány)",
                                    "KESZLET": "78"
                                },
                                {
                                    "MEGNEVEZES": "Fizikai feladatok és tévedések",
                                    "KESZLET": "100"
                                },
                                {
                                    "MEGNEVEZES": "Fogalmazás lépésről lépésre",
                                    "KESZLET": "100"
                                },
                                {
                                    "MEGNEVEZES": "Szövegszerkesztés",
                                    "KESZLET": "100"
                                },
                                {
                                    "MEGNEVEZES": "Informatika",
                                    "KESZLET": "100"
                                },
                                {
                                    "MEGNEVEZES": "Érettségi felv. fel. Matematika",
                                    "KESZLET": "100"
                                },
                                {
                                    "MEGNEVEZES": "Érettségi felv. fel. Biológia",
                                    "KESZLET": "100"
                                },
                                {
                                    "MEGNEVEZES": "Ironbél HI-POLIMER HB 0,7",
                                    "KESZLET": "100"
                                },
                                {
                                    "MEGNEVEZES": "Lakk filc Edding 750",
                                    "KESZLET": "100"
                                },
                                {
                                    "MEGNEVEZES": "Ceruza szorzótáblás",
                                    "KESZLET": "100"
                                },
                                {
                                    "MEGNEVEZES": "Ceruza kínai",
                                    "KESZLET": "100"
                                },
                                {
                                    "MEGNEVEZES": "Golyóstoll",
                                    "KESZLET": "100"
                                },
                                {
                                    "MEGNEVEZES": "Golyóstoll illatos ICO",
                                    "KESZLET": "100"
                                },
                                {
                                    "MEGNEVEZES": "Golyóstoll",
                                    "KESZLET": "100"
                                },
                                {
                                    "MEGNEVEZES": "Golyóstoll kétszínű",
                                    "KESZLET": "100"
                                },
                                {
                                    "MEGNEVEZES": "Zseléstoll Lizzy Card",
                                    "KESZLET": "100"
                                },
                                {
                                    "MEGNEVEZES": "A föld amelyen élünk - Európa földrajza",
                                    "KESZLET": "100"
                                },
                                {
                                    "MEGNEVEZES": "A föld amelyen élünk - Hazánk földrajza",
                                    "KESZLET": "100"
                                },
                                {
                                    "MEGNEVEZES": "Matematika gyakorló 2",
                                    "KESZLET": "100"
                                },
                                {
                                    "MEGNEVEZES": "Tolltartó zipzáras",
                                    "KESZLET": "100"
                                },
                                {
                                    "MEGNEVEZES": "Tolltartó hengeres ",
                                    "KESZLET": "100"
                                },
                                {
                                    "MEGNEVEZES": "Tombola tömb",
                                    "KESZLET": "100"
                                },
                                {
                                    "MEGNEVEZES": "Olló gyerek ",
                                    "KESZLET": "100"
                                },
                                {
                                    "MEGNEVEZES": "Olló, iskolai",
                                    "KESZLET": "100"
                                },
                                {
                                    "MEGNEVEZES": "Füzetborító mesefig.",
                                    "KESZLET": "100"
                                },
                                {
                                    "MEGNEVEZES": "Füzetborító öntapadó kicsi",
                                    "KESZLET": "100"
                                },
                                {
                                    "MEGNEVEZES": "Sp.Füzet A/4  70es",
                                    "KESZLET": "100"
                                },
                                {
                                    "MEGNEVEZES": "Szövegkiemelő vékony",
                                    "KESZLET": "100"
                                },
                                {
                                    "MEGNEVEZES": "Szövegkiemelő Videotip",
                                    "KESZLET": "100"
                                },
                                {
                                    "MEGNEVEZES": "Tempera szóló ezüst",
                                    "KESZLET": "100"
                                },
                                {
                                    "MEGNEVEZES": "Tempera szóló színes",
                                    "KESZLET": "100"
                                },
                                {
                                    "MEGNEVEZES": "Gyűrűskönyv betét A/5",
                                    "KESZLET": "100"
                                },
                                {
                                    "MEGNEVEZES": "kék indigó",
                                    "KESZLET": "100"
                                },
                                {
                                    "MEGNEVEZES": "Írólap 20-50 ",
                                    "KESZLET": "100"
                                },
                                {
                                    "MEGNEVEZES": "Körző",
                                    "KESZLET": "100"
                                },
                                {
                                    "MEGNEVEZES": "Radír KOH-I-NOR 80",
                                    "KESZLET": "100"
                                },
                                {
                                    "MEGNEVEZES": "Vízfesték  12 színű nagy",
                                    "KESZLET": "100"
                                },
                                {
                                    "MEGNEVEZES": "Vízfesték 12 db-os ",
                                    "KESZLET": "100"
                                },
                                {
                                    "MEGNEVEZES": "Vízfesték 12 színű kerek",
                                    "KESZLET": "100"
                                },
                                {
                                    "MEGNEVEZES": "Vízfesték 12db-os kínai",
                                    "KESZLET": "100"
                                },
                                {
                                    "MEGNEVEZES": "Vonalzó 15 cm-es ESSELTE",
                                    "KESZLET": "100"
                                },
                                {
                                    "MEGNEVEZES": "Vonalzó 16 cm-es LIZZY",
                                    "KESZLET": "100"
                                },
                                {
                                    "MEGNEVEZES": "Vonalzó 30 cm",
                                    "KESZLET": "100"
                                },
                                {
                                    "MEGNEVEZES": "Ragasztó Gyurma",
                                    "KESZLET": "100"
                                },
                                {
                                    "MEGNEVEZES": "Hegyző fém 2 lyukú",
                                    "KESZLET": "100"
                                },
                                {
                                    "MEGNEVEZES": "Vonalzó 60 fokos",
                                    "KESZLET": "100"
                                },
                                {
                                    "MEGNEVEZES": "G.toll betét Zebra F-0.7",
                                    "KESZLET": "100"
                                },
                                {
                                    "MEGNEVEZES": "Ceruza Conté zöld",
                                    "KESZLET": "100"
                                },
                                {
                                    "MEGNEVEZES": "Ceruza 2H-3B Koh-i-nor",
                                    "KESZLET": "100"
                                },
                                {
                                    "MEGNEVEZES": "Ceruza kártyás",
                                    "KESZLET": "100"
                                },
                                {
                                    "MEGNEVEZES": "Ceruza Progresso",
                                    "KESZLET": "100"
                                },
                                {
                                    "MEGNEVEZES": "Filctoll ",
                                    "KESZLET": "100"
                                },
                                {
                                    "MEGNEVEZES": "Filctoll document pen",
                                    "KESZLET": "100"
                                },
                                {
                                    "MEGNEVEZES": "Filctoll supra fine",
                                    "KESZLET": "100"
                                },
                                {
                                    "MEGNEVEZES": "G. toll betét mini",
                                    "KESZLET": "100"
                                },
                                {
                                    "MEGNEVEZES": "G. toll betét mini fém",
                                    "KESZLET": "100"
                                },
                                {
                                    "MEGNEVEZES": "Ceruza stabilo swano",
                                    "KESZLET": "100"
                                },
                                {
                                    "MEGNEVEZES": "Golyóstoll UNI laknock",
                                    "KESZLET": "100"
                                },
                                {
                                    "MEGNEVEZES": "Esküvői meghívó",
                                    "KESZLET": "100"
                                },
                                {
                                    "MEGNEVEZES": "Előlap spirálhoz",
                                    "KESZLET": "100"
                                },
                                {
                                    "MEGNEVEZES": "Öntapadó A/4",
                                    "KESZLET": "100"
                                },
                                {
                                    "MEGNEVEZES": "Selyemfényű karton A/4",
                                    "KESZLET": "100"
                                },
                                {
                                    "MEGNEVEZES": "Color Copy A4 200 g",
                                    "KESZLET": "100"
                                },
                                {
                                    "MEGNEVEZES": "Kreatív A/4 300g ",
                                    "KESZLET": "100"
                                },
                                {
                                    "MEGNEVEZES": "Color Copy 160 g-os ",
                                    "KESZLET": "100"
                                },
                                {
                                    "MEGNEVEZES": "Márványos A/4",
                                    "KESZLET": "100"
                                },
                                {
                                    "MEGNEVEZES": "Beírókönyv A4",
                                    "KESZLET": "100"
                                },
                                {
                                    "MEGNEVEZES": "Boríték LA 4 francia",
                                    "KESZLET": "100"
                                },
                                {
                                    "MEGNEVEZES": "Árazószalag ",
                                    "KESZLET": "100"
                                },
                                {
                                    "MEGNEVEZES": "Hibajavító készlet Blanco",
                                    "KESZLET": "100"
                                },
                                {
                                    "MEGNEVEZES": "Hibajavító lap ",
                                    "KESZLET": "100"
                                },
                                {
                                    "MEGNEVEZES": "Írásvetítő fólia",
                                    "KESZLET": "100"
                                },
                                {
                                    "MEGNEVEZES": "Pénztárgépszalag 2pl SC 57.5/60",
                                    "KESZLET": "100"
                                },
                                {
                                    "MEGNEVEZES": "Fólia tasakos A4 125 mik.",
                                    "KESZLET": "100"
                                },
                                {
                                    "MEGNEVEZES": "Fólia tasakos A4 80 mik.",
                                    "KESZLET": "100"
                                },
                                {
                                    "MEGNEVEZES": "Fólia tasakos A4100 mik.",
                                    "KESZLET": "100"
                                },
                                {
                                    "MEGNEVEZES": "Bélyegző IDEAL 50",
                                    "KESZLET": "100"
                                },
                                {
                                    "MEGNEVEZES": "Bélyegző párna",
                                    "KESZLET": "100"
                                },
                                {
                                    "MEGNEVEZES": "Boríték B/4-es",
                                    "KESZLET": "100"
                                },
                                {
                                    "MEGNEVEZES": "Térképtű színes",
                                    "KESZLET": "100"
                                },
                                {
                                    "MEGNEVEZES": "Gémkapocs 50-es",
                                    "KESZLET": "100"
                                },
                                {
                                    "MEGNEVEZES": "Oki toner C",
                                    "KESZLET": "100"
                                },
                                {
                                    "MEGNEVEZES": "Ragasztószalag  TIXO",
                                    "KESZLET": "100"
                                },
                                {
                                    "MEGNEVEZES": "Diszkötöző szalag arany",
                                    "KESZLET": "100"
                                },
                                {
                                    "MEGNEVEZES": "Díszkötöző szalag metál kicsi",
                                    "KESZLET": "100"
                                },
                                {
                                    "MEGNEVEZES": "Ajándék cs. tasak mintás kicsi",
                                    "KESZLET": "100"
                                },
                                {
                                    "MEGNEVEZES": "iskolai csomagoló papír",
                                    "KESZLET": "100"
                                },
                                {
                                    "MEGNEVEZES": "Képeslap kerek",
                                    "KESZLET": "100"
                                },
                                {
                                    "MEGNEVEZES": "Műanyag pohár 1 dl-es",
                                    "KESZLET": "100"
                                },
                                {
                                    "MEGNEVEZES": "Díszdoboz tollnak 2 db-os",
                                    "KESZLET": "100"
                                },
                                {
                                    "MEGNEVEZES": "Díszdoboz tollnak 2 db-os keskeny",
                                    "KESZLET": "100"
                                },
                                {
                                    "MEGNEVEZES": "Játékautó elemes",
                                    "KESZLET": "100"
                                },
                                {
                                    "MEGNEVEZES": "Plüss sárkány",
                                    "KESZLET": "100"
                                },
                                {
                                    "MEGNEVEZES": "Strandlabda ",
                                    "KESZLET": "100"
                                },
                                {
                                    "MEGNEVEZES": "Mappa PVC villámzáras",
                                    "KESZLET": "100"
                                },
                                {
                                    "MEGNEVEZES": "Képeslap  borítékos",
                                    "KESZLET": "100"
                                },
                                {
                                    "MEGNEVEZES": "Matrica világítós ",
                                    "KESZLET": "100"
                                },
                                {
                                    "MEGNEVEZES": "Meghívó állatos",
                                    "KESZLET": "100"
                                },
                                {
                                    "MEGNEVEZES": "Meghívó borítékos",
                                    "KESZLET": "100"
                                },
                                {
                                    "MEGNEVEZES": "Alufólia 10 m-es",
                                    "KESZLET": "100"
                                },
                                {
                                    "MEGNEVEZES": "Szilvia csomagoló",
                                    "KESZLET": "100"
                                },
                                {
                                    "MEGNEVEZES": "Celofán 50 db-os",
                                    "KESZLET": "100"
                                },
                                {
                                    "MEGNEVEZES": "Szalvéta ",
                                    "KESZLET": "100"
                                },
                                {
                                    "MEGNEVEZES": "Szalvéta dekor",
                                    "KESZLET": "100"
                                },
                                {
                                    "MEGNEVEZES": "Füzet A/5, mintás",
                                    "KESZLET": "100"
                                },
                                {
                                    "MEGNEVEZES": "Papírcenti 100 cm-es",
                                    "KESZLET": "100"
                                },
                                {
                                    "MEGNEVEZES": "Szögmérő papír",
                                    "KESZLET": "100"
                                },
                                {
                                    "MEGNEVEZES": "Gyurma színes 200 g-os",
                                    "KESZLET": "100"
                                },
                                {
                                    "MEGNEVEZES": "férfi farmer nadrág",
                                    "KESZLET": "105"
                                },
                                {
                                    "MEGNEVEZES": "gyermek póló (lány)",
                                    "KESZLET": "113"
                                },
                                {
                                    "MEGNEVEZES": "gyermek szandál (lány)",
                                    "KESZLET": "119"
                                },
                                {
                                    "MEGNEVEZES": "Hurkapálca 10 db-os",
                                    "KESZLET": "150"
                                },
                                {
                                    "MEGNEVEZES": "gyermek pamut nadrág (lány)",
                                    "KESZLET": "162"
                                },
                                {
                                    "MEGNEVEZES": "férfi szövet kabát",
                                    "KESZLET": "173"
                                },
                                {
                                    "MEGNEVEZES": "gyermek pamut nadrág (fiú)",
                                    "KESZLET": "182"
                                },
                                {
                                    "MEGNEVEZES": "gyermek farmer nadrág (fiú)",
                                    "KESZLET": "200"
                                },
                                {
                                    "MEGNEVEZES": "Jól felkészültem-e - Fizika",
                                    "KESZLET": "200"
                                },
                                {
                                    "MEGNEVEZES": "Matematika gyakorló 3",
                                    "KESZLET": "200"
                                },
                                {
                                    "MEGNEVEZES": "Fizika",
                                    "KESZLET": "200"
                                },
                                {
                                    "MEGNEVEZES": "A föld amelyen élünk - Távoli földrészek",
                                    "KESZLET": "200"
                                },
                                {
                                    "MEGNEVEZES": "Ceruza szén",
                                    "KESZLET": "200"
                                },
                                {
                                    "MEGNEVEZES": "Golyóstoll Pax tip.",
                                    "KESZLET": "200"
                                },
                                {
                                    "MEGNEVEZES": "Golyóstoll penac",
                                    "KESZLET": "200"
                                },
                                {
                                    "MEGNEVEZES": "Golyóstoll + ceruza Twister 2in1",
                                    "KESZLET": "200"
                                },
                                {
                                    "MEGNEVEZES": "Ceruza zöld színű",
                                    "KESZLET": "200"
                                },
                                {
                                    "MEGNEVEZES": "Ironbél H 0,5",
                                    "KESZLET": "200"
                                },
                                {
                                    "MEGNEVEZES": "Ironbél HB 0,5",
                                    "KESZLET": "200"
                                },
                                {
                                    "MEGNEVEZES": "Ironbél  2B ICO",
                                    "KESZLET": "200"
                                },
                                {
                                    "MEGNEVEZES": "Tintapatron /kék/",
                                    "KESZLET": "200"
                                },
                                {
                                    "MEGNEVEZES": "Tintapatron 30 db-os kék",
                                    "KESZLET": "200"
                                },
                                {
                                    "MEGNEVEZES": "Tintapatron színes",
                                    "KESZLET": "200"
                                },
                                {
                                    "MEGNEVEZES": "Toll Centropen roller",
                                    "KESZLET": "200"
                                },
                                {
                                    "MEGNEVEZES": "G.toll betét görbe hegyű",
                                    "KESZLET": "200"
                                },
                                {
                                    "MEGNEVEZES": "G. toll betét réz",
                                    "KESZLET": "200"
                                },
                                {
                                    "MEGNEVEZES": "G. toll betét S7S",
                                    "KESZLET": "200"
                                },
                                {
                                    "MEGNEVEZES": "Filctoll Edding 750",
                                    "KESZLET": "200"
                                },
                                {
                                    "MEGNEVEZES": "Filctoll Marvy alkoholos",
                                    "KESZLET": "200"
                                },
                                {
                                    "MEGNEVEZES": "Ceruza radíros kínai",
                                    "KESZLET": "200"
                                },
                                {
                                    "MEGNEVEZES": "Ceruza piros-kék",
                                    "KESZLET": "200"
                                },
                                {
                                    "MEGNEVEZES": "Ceruza HB radiros",
                                    "KESZLET": "200"
                                },
                                {
                                    "MEGNEVEZES": "Ceruza Cseh",
                                    "KESZLET": "200"
                                },
                                {
                                    "MEGNEVEZES": "Filctoll, alkoholos Centropen",
                                    "KESZLET": "200"
                                },
                                {
                                    "MEGNEVEZES": "Ceruza 2H-4B",
                                    "KESZLET": "200"
                                },
                                {
                                    "MEGNEVEZES": "G.toll betét Zebra H-0,7",
                                    "KESZLET": "200"
                                },
                                {
                                    "MEGNEVEZES": "G.toll betét Zebra K-0,7",
                                    "KESZLET": "200"
                                },
                                {
                                    "MEGNEVEZES": "Kerámiatoll",
                                    "KESZLET": "200"
                                },
                                {
                                    "MEGNEVEZES": "Vonalzó 45 fokos",
                                    "KESZLET": "200"
                                },
                                {
                                    "MEGNEVEZES": "Ablakkréta",
                                    "KESZLET": "200"
                                },
                                {
                                    "MEGNEVEZES": "Zászló papír",
                                    "KESZLET": "200"
                                },
                                {
                                    "MEGNEVEZES": "Füzettartó A/4",
                                    "KESZLET": "200"
                                },
                                {
                                    "MEGNEVEZES": "Beíró A/5 kockás",
                                    "KESZLET": "200"
                                },
                                {
                                    "MEGNEVEZES": "Indigó Pelikán",
                                    "KESZLET": "200"
                                },
                                {
                                    "MEGNEVEZES": "Post-it 51×38 100 lapos",
                                    "KESZLET": "200"
                                },
                                {
                                    "MEGNEVEZES": "Gyűrűskönyv bet. A/5",
                                    "KESZLET": "200"
                                },
                                {
                                    "MEGNEVEZES": "Szövegkiemelő ",
                                    "KESZLET": "200"
                                },
                                {
                                    "MEGNEVEZES": "Regiszteres füzet A5 Hightech",
                                    "KESZLET": "200"
                                },
                                {
                                    "MEGNEVEZES": "Radír Tikky 40 ",
                                    "KESZLET": "200"
                                },
                                {
                                    "MEGNEVEZES": "Rajzlap A/4 10db ffam.",
                                    "KESZLET": "200"
                                },
                                {
                                    "MEGNEVEZES": "Füzet A5 1-8 osz.-ig",
                                    "KESZLET": "200"
                                },
                                {
                                    "MEGNEVEZES": "Tornazsák",
                                    "KESZLET": "200"
                                },
                                {
                                    "MEGNEVEZES": "Számológép tudományos",
                                    "KESZLET": "200"
                                },
                                {
                                    "MEGNEVEZES": "Hegyző fém 1 lyukú",
                                    "KESZLET": "200"
                                },
                                {
                                    "MEGNEVEZES": "Ragasztó 9 g Pax",
                                    "KESZLET": "200"
                                },
                                {
                                    "MEGNEVEZES": "Ecset Centrum 10,11,12",
                                    "KESZLET": "200"
                                },
                                {
                                    "MEGNEVEZES": "Ecset Deák 2-es",
                                    "KESZLET": "200"
                                },
                                {
                                    "MEGNEVEZES": "Ecset Lizzy 10-es",
                                    "KESZLET": "200"
                                },
                                {
                                    "MEGNEVEZES": "Szögmérő 180 fokos műa.",
                                    "KESZLET": "200"
                                },
                                {
                                    "MEGNEVEZES": "Szögmérő színes",
                                    "KESZLET": "200"
                                },
                                {
                                    "MEGNEVEZES": "Ellenőrzőborító",
                                    "KESZLET": "200"
                                },
                                {
                                    "MEGNEVEZES": "Celofán",
                                    "KESZLET": "200"
                                },
                                {
                                    "MEGNEVEZES": "Ragasztó, Technokol 35g kék",
                                    "KESZLET": "200"
                                },
                                {
                                    "MEGNEVEZES": "Rajzszeg színes",
                                    "KESZLET": "200"
                                },
                                {
                                    "MEGNEVEZES": "Matrica motoros kicsi",
                                    "KESZLET": "200"
                                },
                                {
                                    "MEGNEVEZES": "Képeslap \"Részvét\"",
                                    "KESZLET": "200"
                                },
                                {
                                    "MEGNEVEZES": "Címke egyszínű",
                                    "KESZLET": "200"
                                },
                                {
                                    "MEGNEVEZES": "Mappa bőr A5",
                                    "KESZLET": "200"
                                },
                                {
                                    "MEGNEVEZES": "Levélpapír szett natur, mintás",
                                    "KESZLET": "200"
                                },
                                {
                                    "MEGNEVEZES": "házt.csom.  5 ív",
                                    "KESZLET": "200"
                                },
                                {
                                    "MEGNEVEZES": "Ajándék csom. vékony",
                                    "KESZLET": "200"
                                },
                                {
                                    "MEGNEVEZES": "Ajándék cs. tasak italos, fólia",
                                    "KESZLET": "200"
                                },
                                {
                                    "MEGNEVEZES": "Tűzőgép mini",
                                    "KESZLET": "200"
                                },
                                {
                                    "MEGNEVEZES": "Gémkapocs 28-as színes",
                                    "KESZLET": "200"
                                },
                                {
                                    "MEGNEVEZES": "Ragasztószalag 19 mm-es",
                                    "KESZLET": "200"
                                },
                                {
                                    "MEGNEVEZES": "Álló irattartó",
                                    "KESZLET": "200"
                                },
                                {
                                    "MEGNEVEZES": "Boríték C/4-es",
                                    "KESZLET": "200"
                                },
                                {
                                    "MEGNEVEZES": "Hibajavító roller 5 mm",
                                    "KESZLET": "200"
                                },
                                {
                                    "MEGNEVEZES": "Átírótömb A/6",
                                    "KESZLET": "200"
                                },
                                {
                                    "MEGNEVEZES": "Beírókönyv A5 ",
                                    "KESZLET": "200"
                                },
                                {
                                    "MEGNEVEZES": "Álló irattartó karton",
                                    "KESZLET": "200"
                                },
                                {
                                    "MEGNEVEZES": "Genotherm lefűzhető A4 10db-os",
                                    "KESZLET": "200"
                                },
                                {
                                    "MEGNEVEZES": "Gyorsfűző műa.",
                                    "KESZLET": "200"
                                },
                                {
                                    "MEGNEVEZES": "Kreatív A/4 120g ",
                                    "KESZLET": "200"
                                },
                                {
                                    "MEGNEVEZES": "Fehér másoló A/4",
                                    "KESZLET": "200"
                                },
                                {
                                    "MEGNEVEZES": "Fénymásoló papír GetCopy",
                                    "KESZLET": "200"
                                },
                                {
                                    "MEGNEVEZES": "Pausz papír A/4",
                                    "KESZLET": "200"
                                },
                                {
                                    "MEGNEVEZES": "Fotópapír A/4 fényes",
                                    "KESZLET": "200"
                                },
                                {
                                    "MEGNEVEZES": "Oklevél A/4 színes",
                                    "KESZLET": "200"
                                },
                                {
                                    "MEGNEVEZES": "Emléklap A/5",
                                    "KESZLET": "200"
                                },
                                {
                                    "MEGNEVEZES": "fiú harisnya",
                                    "KESZLET": "205"
                                },
                                {
                                    "MEGNEVEZES": "gyermek csizma (fiú)",
                                    "KESZLET": "229"
                                },
                                {
                                    "MEGNEVEZES": "kosztüm (hosszú)",
                                    "KESZLET": "238"
                                },
                                {
                                    "MEGNEVEZES": "gyermek csizma (lány)",
                                    "KESZLET": "264"
                                },
                                {
                                    "MEGNEVEZES": "női koktélruha",
                                    "KESZLET": "283"
                                },
                                {
                                    "MEGNEVEZES": "női farmer nadrág",
                                    "KESZLET": "289"
                                },
                                {
                                    "MEGNEVEZES": "fiú ünneplős ruha",
                                    "KESZLET": "297"
                                },
                                {
                                    "MEGNEVEZES": "Töltőtoll tinta ",
                                    "KESZLET": "300"
                                },
                                {
                                    "MEGNEVEZES": "Golyóstoll INOXCROM",
                                    "KESZLET": "300"
                                },
                                {
                                    "MEGNEVEZES": "Hegyező tartályos egyes",
                                    "KESZLET": "300"
                                },
                                {
                                    "MEGNEVEZES": "Füzetborító átlátszó A5",
                                    "KESZLET": "300"
                                },
                                {
                                    "MEGNEVEZES": "Taffet papír",
                                    "KESZLET": "300"
                                },
                                {
                                    "MEGNEVEZES": "Füzetborító öntapadó tekercses",
                                    "KESZLET": "300"
                                },
                                {
                                    "MEGNEVEZES": "Füzetborító öntapadós nagy",
                                    "KESZLET": "300"
                                },
                                {
                                    "MEGNEVEZES": "Körző maped",
                                    "KESZLET": "300"
                                },
                                {
                                    "MEGNEVEZES": "Gyurmakés",
                                    "KESZLET": "300"
                                },
                                {
                                    "MEGNEVEZES": "Szótárfüzet Lizzy",
                                    "KESZLET": "300"
                                },
                                {
                                    "MEGNEVEZES": "Filctoll TINTEN PEN",
                                    "KESZLET": "300"
                                },
                                {
                                    "MEGNEVEZES": "Ceruza smaragd",
                                    "KESZLET": "300"
                                },
                                {
                                    "MEGNEVEZES": "Ceruza stabilo opera",
                                    "KESZLET": "300"
                                },
                                {
                                    "MEGNEVEZES": "Fax papír 15 m",
                                    "KESZLET": "300"
                                },
                                {
                                    "MEGNEVEZES": "Fénymásoló papír DataCopy",
                                    "KESZLET": "300"
                                },
                                {
                                    "MEGNEVEZES": "Színes másoló a/4 80g",
                                    "KESZLET": "300"
                                },
                                {
                                    "MEGNEVEZES": "Bevételi pénztárbizonylat 3×25",
                                    "KESZLET": "300"
                                },
                                {
                                    "MEGNEVEZES": "Hibajavító roller Pax",
                                    "KESZLET": "300"
                                },
                                {
                                    "MEGNEVEZES": "Hibajavító Kores mini pen",
                                    "KESZLET": "300"
                                },
                                {
                                    "MEGNEVEZES": "Iromány fedél feles",
                                    "KESZLET": "300"
                                },
                                {
                                    "MEGNEVEZES": "Naptár 24-es",
                                    "KESZLET": "300"
                                },
                                {
                                    "MEGNEVEZES": "Notesz A/5 sima",
                                    "KESZLET": "300"
                                },
                                {
                                    "MEGNEVEZES": "Tűzőgép Boxer 10",
                                    "KESZLET": "300"
                                },
                                {
                                    "MEGNEVEZES": "Notesz mintás",
                                    "KESZLET": "300"
                                },
                                {
                                    "MEGNEVEZES": "Pénztárgépsz. 2 pl. nem öníró",
                                    "KESZLET": "300"
                                },
                                {
                                    "MEGNEVEZES": "Tűzőgép EAGLE",
                                    "KESZLET": "300"
                                },
                                {
                                    "MEGNEVEZES": "Tűzőkapocs 10-es",
                                    "KESZLET": "300"
                                },
                                {
                                    "MEGNEVEZES": "Ajándék csom. 200x70",
                                    "KESZLET": "300"
                                },
                                {
                                    "MEGNEVEZES": "Spirál 1/4 ",
                                    "KESZLET": "300"
                                },
                                {
                                    "MEGNEVEZES": "Képeslap stancolt",
                                    "KESZLET": "300"
                                },
                                {
                                    "MEGNEVEZES": "Levélpapír szett ",
                                    "KESZLET": "300"
                                },
                                {
                                    "MEGNEVEZES": "Mikulás zacskó",
                                    "KESZLET": "300"
                                },
                                {
                                    "MEGNEVEZES": "Műanyag állatok",
                                    "KESZLET": "300"
                                },
                                {
                                    "MEGNEVEZES": "Címke WD. állat",
                                    "KESZLET": "300"
                                },
                                {
                                    "MEGNEVEZES": "Hűtőmágnes",
                                    "KESZLET": "300"
                                },
                                {
                                    "MEGNEVEZES": "Hűtőmágnes WD",
                                    "KESZLET": "300"
                                },
                                {
                                    "MEGNEVEZES": "Díszdoboz kar.",
                                    "KESZLET": "300"
                                },
                                {
                                    "MEGNEVEZES": "Matrica autóra H",
                                    "KESZLET": "300"
                                },
                                {
                                    "MEGNEVEZES": "Matrica tetoválós kicsi",
                                    "KESZLET": "300"
                                },
                                {
                                    "MEGNEVEZES": "Matrica WD kicsi",
                                    "KESZLET": "300"
                                },
                                {
                                    "MEGNEVEZES": "Pill.ragasztó",
                                    "KESZLET": "300"
                                },
                                {
                                    "MEGNEVEZES": "Szemetes zsák 60 literes",
                                    "KESZLET": "300"
                                },
                                {
                                    "MEGNEVEZES": "Szalvéta kicsi virágos",
                                    "KESZLET": "300"
                                },
                                {
                                    "MEGNEVEZES": "Betűtartó sin",
                                    "KESZLET": "300"
                                },
                                {
                                    "MEGNEVEZES": "Számológép Roxin",
                                    "KESZLET": "300"
                                },
                                {
                                    "MEGNEVEZES": "Számolókorong",
                                    "KESZLET": "300"
                                },
                                {
                                    "MEGNEVEZES": "gyermek cipő (lány)",
                                    "KESZLET": "323"
                                },
                                {
                                    "MEGNEVEZES": "lány ünneplős ruha",
                                    "KESZLET": "325"
                                },
                                {
                                    "MEGNEVEZES": "fiú alsó",
                                    "KESZLET": "328"
                                },
                                {
                                    "MEGNEVEZES": "gyermek póló (fiú)",
                                    "KESZLET": "355"
                                },
                                {
                                    "MEGNEVEZES": "lány alsó",
                                    "KESZLET": "369"
                                },
                                {
                                    "MEGNEVEZES": "kosztüm (rövid)",
                                    "KESZLET": "369"
                                },
                                {
                                    "MEGNEVEZES": "lány harisnya",
                                    "KESZLET": "373"
                                },
                                {
                                    "MEGNEVEZES": "gyermek szandál (fiú)",
                                    "KESZLET": "376"
                                },
                                {
                                    "MEGNEVEZES": "férfi ing",
                                    "KESZLET": "381"
                                },
                                {
                                    "MEGNEVEZES": "férfi szövet nadrág",
                                    "KESZLET": "389"
                                },
                                {
                                    "MEGNEVEZES": "gyermek kabát (fiú)",
                                    "KESZLET": "396"
                                },
                                {
                                    "MEGNEVEZES": "Érettségi felv. fel. Fizika",
                                    "KESZLET": "400"
                                },
                                {
                                    "MEGNEVEZES": "Golyóstoll 3 funkciós ",
                                    "KESZLET": "400"
                                },
                                {
                                    "MEGNEVEZES": "Ironbél B 0,5",
                                    "KESZLET": "400"
                                },
                                {
                                    "MEGNEVEZES": "Golyóstoll Zebra mini",
                                    "KESZLET": "400"
                                },
                                {
                                    "MEGNEVEZES": "Golyóstoll Zebra new hard",
                                    "KESZLET": "400"
                                },
                                {
                                    "MEGNEVEZES": "Filctoll vastag ARTIP",
                                    "KESZLET": "400"
                                },
                                {
                                    "MEGNEVEZES": "Meghívó ballagási",
                                    "KESZLET": "400"
                                },
                                {
                                    "MEGNEVEZES": "Miliméterpapír",
                                    "KESZLET": "400"
                                },
                                {
                                    "MEGNEVEZES": "Írólap 10-50 ffam.",
                                    "KESZLET": "400"
                                },
                                {
                                    "MEGNEVEZES": "Tolltartó 1 zipzáros",
                                    "KESZLET": "400"
                                },
                                {
                                    "MEGNEVEZES": "Olló Tagit 18 cm-es",
                                    "KESZLET": "400"
                                },
                                {
                                    "MEGNEVEZES": "Füzettartó A/5 vastag",
                                    "KESZLET": "400"
                                },
                                {
                                    "MEGNEVEZES": "Gumis mappa Köbüki",
                                    "KESZLET": "400"
                                },
                                {
                                    "MEGNEVEZES": "Gyurma színes natúr",
                                    "KESZLET": "400"
                                },
                                {
                                    "MEGNEVEZES": "Gumigyűrű",
                                    "KESZLET": "400"
                                },
                                {
                                    "MEGNEVEZES": "Rágógumi Orbit",
                                    "KESZLET": "400"
                                },
                                {
                                    "MEGNEVEZES": "Matrica Stickers nagy állatos",
                                    "KESZLET": "400"
                                },
                                {
                                    "MEGNEVEZES": "Játék autó",
                                    "KESZLET": "400"
                                },
                                {
                                    "MEGNEVEZES": "Játékautó mini",
                                    "KESZLET": "400"
                                },
                                {
                                    "MEGNEVEZES": "Képeslap stancolt szív",
                                    "KESZLET": "400"
                                },
                                {
                                    "MEGNEVEZES": "Lyukasztó BOXER",
                                    "KESZLET": "400"
                                },
                                {
                                    "MEGNEVEZES": "Ajándék cs. tasak italos",
                                    "KESZLET": "400"
                                },
                                {
                                    "MEGNEVEZES": "CD tartó tok",
                                    "KESZLET": "400"
                                },
                                {
                                    "MEGNEVEZES": "Iratgyűjtő fehér",
                                    "KESZLET": "400"
                                },
                                {
                                    "MEGNEVEZES": "Hibajavító ecsetes Aqua",
                                    "KESZLET": "400"
                                },
                                {
                                    "MEGNEVEZES": "Gemkapocs 28 mm",
                                    "KESZLET": "400"
                                },
                                {
                                    "MEGNEVEZES": "Kiadási pénztárbizonylat 2×25",
                                    "KESZLET": "400"
                                },
                                {
                                    "MEGNEVEZES": "Dipa A/4 keretezett",
                                    "KESZLET": "400"
                                },
                                {
                                    "MEGNEVEZES": "Színes A/3 160 gr IQ",
                                    "KESZLET": "400"
                                },
                                {
                                    "MEGNEVEZES": "gyermek cipő (fiú)",
                                    "KESZLET": "406"
                                },
                                {
                                    "MEGNEVEZES": "gyermek farmer nadrág (lány)",
                                    "KESZLET": "449"
                                },
                                {
                                    "MEGNEVEZES": "fiú zokni",
                                    "KESZLET": "468"
                                },
                                {
                                    "MEGNEVEZES": "lány zokni",
                                    "KESZLET": "470"
                                },
                                {
                                    "MEGNEVEZES": "Golyóstoll Montex Hytone",
                                    "KESZLET": "500"
                                },
                                {
                                    "MEGNEVEZES": "Fizika munkafüzet 13 év.",
                                    "KESZLET": "500"
                                },
                                {
                                    "MEGNEVEZES": "Fizika munkafüzet 14 év.",
                                    "KESZLET": "500"
                                },
                                {
                                    "MEGNEVEZES": "Hegyező műanyag dupla",
                                    "KESZLET": "500"
                                },
                                {
                                    "MEGNEVEZES": "Radírtoll betét vastag",
                                    "KESZLET": "500"
                                },
                                {
                                    "MEGNEVEZES": "Technika cs. I-II-III-IV",
                                    "KESZLET": "500"
                                },
                                {
                                    "MEGNEVEZES": "Krepp papír",
                                    "KESZLET": "500"
                                },
                                {
                                    "MEGNEVEZES": "Szövegkiemelő",
                                    "KESZLET": "500"
                                },
                                {
                                    "MEGNEVEZES": "Táblafilc",
                                    "KESZLET": "500"
                                },
                                {
                                    "MEGNEVEZES": "Regiszteres füzet A4",
                                    "KESZLET": "500"
                                },
                                {
                                    "MEGNEVEZES": "Ecsetkészlet",
                                    "KESZLET": "500"
                                },
                                {
                                    "MEGNEVEZES": "Füzetborító A/4 mintás",
                                    "KESZLET": "500"
                                },
                                {
                                    "MEGNEVEZES": "Ceruza piros-kék vékony",
                                    "KESZLET": "500"
                                },
                                {
                                    "MEGNEVEZES": "Ceruza háromszög ",
                                    "KESZLET": "500"
                                },
                                {
                                    "MEGNEVEZES": "Filctoll CD író",
                                    "KESZLET": "500"
                                },
                                {
                                    "MEGNEVEZES": "G.toll betét csavaros",
                                    "KESZLET": "500"
                                },
                                {
                                    "MEGNEVEZES": "Fénymásoló papír Qconnect",
                                    "KESZLET": "500"
                                },
                                {
                                    "MEGNEVEZES": "Hibajav.roll.Pritt 4,2mm",
                                    "KESZLET": "500"
                                },
                                {
                                    "MEGNEVEZES": "Floppy lemez",
                                    "KESZLET": "500"
                                },
                                {
                                    "MEGNEVEZES": "Genoterm HERLITZ 10-es",
                                    "KESZLET": "500"
                                },
                                {
                                    "MEGNEVEZES": "Ragasztószalag széles barna",
                                    "KESZLET": "500"
                                },
                                {
                                    "MEGNEVEZES": "Levélpapír szett virágos",
                                    "KESZLET": "500"
                                },
                                {
                                    "MEGNEVEZES": "Gumilabda közepes",
                                    "KESZLET": "500"
                                },
                                {
                                    "MEGNEVEZES": "Álarc",
                                    "KESZLET": "500"
                                },
                                {
                                    "MEGNEVEZES": "Játékautó Blisteres",
                                    "KESZLET": "500"
                                },
                                {
                                    "MEGNEVEZES": "Plüss  QX állatok",
                                    "KESZLET": "500"
                                },
                                {
                                    "MEGNEVEZES": "Matrica Test ékszer tattoo",
                                    "KESZLET": "500"
                                },
                                {
                                    "MEGNEVEZES": "Rajzszeg",
                                    "KESZLET": "600"
                                },
                                {
                                    "MEGNEVEZES": "Füzet  A/4 ",
                                    "KESZLET": "600"
                                },
                                {
                                    "MEGNEVEZES": "Képeslap \"Nászajándék\"",
                                    "KESZLET": "600"
                                },
                                {
                                    "MEGNEVEZES": "Tenisz labda",
                                    "KESZLET": "600"
                                },
                                {
                                    "MEGNEVEZES": "Levélpapír sima",
                                    "KESZLET": "600"
                                },
                                {
                                    "MEGNEVEZES": "Ajándék csom. Krepp",
                                    "KESZLET": "600"
                                },
                                {
                                    "MEGNEVEZES": "Határidő napló 2010-s",
                                    "KESZLET": "600"
                                },
                                {
                                    "MEGNEVEZES": "Ajándék csom. 50x70 húsvéti",
                                    "KESZLET": "600"
                                },
                                {
                                    "MEGNEVEZES": "Mappa müa A/4",
                                    "KESZLET": "600"
                                },
                                {
                                    "MEGNEVEZES": "Lyukasztó EAGLE",
                                    "KESZLET": "600"
                                },
                                {
                                    "MEGNEVEZES": "Iratsín fehér",
                                    "KESZLET": "600"
                                },
                                {
                                    "MEGNEVEZES": "Dekorációs karton",
                                    "KESZLET": "600"
                                },
                                {
                                    "MEGNEVEZES": "G.toll betét X20",
                                    "KESZLET": "600"
                                },
                                {
                                    "MEGNEVEZES": "G.toll betét PAX tip.",
                                    "KESZLET": "600"
                                },
                                {
                                    "MEGNEVEZES": "Sorvezető",
                                    "KESZLET": "600"
                                },
                                {
                                    "MEGNEVEZES": "Sp.Füzet A/4 70-as",
                                    "KESZLET": "600"
                                },
                                {
                                    "MEGNEVEZES": "Füzetborító A/4 átlátszó",
                                    "KESZLET": "600"
                                },
                                {
                                    "MEGNEVEZES": "Tolltartó 2 zipzáros töltött",
                                    "KESZLET": "700"
                                },
                                {
                                    "MEGNEVEZES": "Tolltartó asztali",
                                    "KESZLET": "700"
                                },
                                {
                                    "MEGNEVEZES": "Gyűrűskönyv színes",
                                    "KESZLET": "700"
                                },
                                {
                                    "MEGNEVEZES": "Filctoll, alkoholosOHP F-M-C",
                                    "KESZLET": "700"
                                },
                                {
                                    "MEGNEVEZES": "Filctoll permanent vastag",
                                    "KESZLET": "700"
                                },
                                {
                                    "MEGNEVEZES": "Pixiron KOH-I-NOOR",
                                    "KESZLET": "700"
                                },
                                {
                                    "MEGNEVEZES": "Golyóstoll Stabilo piros",
                                    "KESZLET": "700"
                                },
                                {
                                    "MEGNEVEZES": "Ceruzafogó",
                                    "KESZLET": "700"
                                },
                                {
                                    "MEGNEVEZES": "Iratrendező ESSELTE",
                                    "KESZLET": "700"
                                },
                                {
                                    "MEGNEVEZES": "Bélyegzőfesték ",
                                    "KESZLET": "700"
                                },
                                {
                                    "MEGNEVEZES": "Ajándék csom. 100x70 metál",
                                    "KESZLET": "700"
                                },
                                {
                                    "MEGNEVEZES": "Hajgumi macis",
                                    "KESZLET": "700"
                                },
                                {
                                    "MEGNEVEZES": "Címke 8 db-os",
                                    "KESZLET": "700"
                                },
                                {
                                    "MEGNEVEZES": "Matrica tetoválás",
                                    "KESZLET": "700"
                                },
                                {
                                    "MEGNEVEZES": "Képeslap humoros",
                                    "KESZLET": "700"
                                },
                                {
                                    "MEGNEVEZES": "Füzet A/5 hangjegy 36/16",
                                    "KESZLET": "800"
                                },
                                {
                                    "MEGNEVEZES": "Kulcstartó intarziás állatos",
                                    "KESZLET": "800"
                                },
                                {
                                    "MEGNEVEZES": "Jelzőkréta",
                                    "KESZLET": "800"
                                },
                                {
                                    "MEGNEVEZES": "Ajándék csom. nagy  ",
                                    "KESZLET": "800"
                                },
                                {
                                    "MEGNEVEZES": "Ajándék cs. húsvéti 200x70",
                                    "KESZLET": "800"
                                },
                                {
                                    "MEGNEVEZES": "Díszkötöző szalag metál nagy",
                                    "KESZLET": "800"
                                },
                                {
                                    "MEGNEVEZES": "Irattartó müa. boríték A/4",
                                    "KESZLET": "800"
                                },
                                {
                                    "MEGNEVEZES": "Sp.Füzet A/4  perforált, lyuk.",
                                    "KESZLET": "800"
                                },
                                {
                                    "MEGNEVEZES": "Füzettartó A/4 keménytáblás",
                                    "KESZLET": "900"
                                },
                                {
                                    "MEGNEVEZES": "Hegyező gép",
                                    "KESZLET": "900"
                                },
                                {
                                    "MEGNEVEZES": "Öntapadős betűk",
                                    "KESZLET": "900"
                                },
                                {
                                    "MEGNEVEZES": "Ragasztó kores",
                                    "KESZLET": "900"
                                },
                                {
                                    "MEGNEVEZES": "Szövegkiemelő Staedtler",
                                    "KESZLET": "900"
                                },
                                {
                                    "MEGNEVEZES": "Golyóstoll kupakos piros",
                                    "KESZLET": "900"
                                },
                                {
                                    "MEGNEVEZES": "Összefoglaló feladatgyüjtemény számtech.",
                                    "KESZLET": "900"
                                },
                                {
                                    "MEGNEVEZES": "Tűzőgép Boxer ",
                                    "KESZLET": "900"
                                },
                                {
                                    "MEGNEVEZES": "Bélyegző pocket",
                                    "KESZLET": "900"
                                },
                                {
                                    "MEGNEVEZES": "Festékpatron BCI-3BK",
                                    "KESZLET": "900"
                                },
                                {
                                    "MEGNEVEZES": "Color Copy A4 120 g",
                                    "KESZLET": "900"
                                },
                                {
                                    "MEGNEVEZES": "Képeslap karácsonyi borítékos",
                                    "KESZLET": "900"
                                },
                                {
                                    "MEGNEVEZES": "Számolópálca",
                                    "KESZLET": "900"
                                },
                                {
                                    "MEGNEVEZES": "Ecset Centrum 7,8,9",
                                    "KESZLET": "900"
                                },
                                {
                                    "MEGNEVEZES": "Számegyenes",
                                    "KESZLET": "900"
                                },
                                {
                                    "MEGNEVEZES": "Képeslap humoros kaparós",
                                    "KESZLET": "900"
                                },
                                {
                                    "MEGNEVEZES": "Matrica Stickers szíves",
                                    "KESZLET": "900"
                                },
                                {
                                    "MEGNEVEZES": "Lampion",
                                    "KESZLET": "1000"
                                },
                                {
                                    "MEGNEVEZES": "Szalvéta egyszínű",
                                    "KESZLET": "1000"
                                },
                                {
                                    "MEGNEVEZES": "Képkirakó Dirib-darab",
                                    "KESZLET": "1000"
                                },
                                {
                                    "MEGNEVEZES": "Álarc fejdísz",
                                    "KESZLET": "1000"
                                },
                                {
                                    "MEGNEVEZES": "Álarc szemüveg",
                                    "KESZLET": "1000"
                                },
                                {
                                    "MEGNEVEZES": "Levélpapír állatos",
                                    "KESZLET": "1000"
                                },
                                {
                                    "MEGNEVEZES": "Kulcstartó Csőrikés",
                                    "KESZLET": "1000"
                                },
                                {
                                    "MEGNEVEZES": "Emlékkönyv lakatos",
                                    "KESZLET": "1000"
                                },
                                {
                                    "MEGNEVEZES": "Képeslap humoros ",
                                    "KESZLET": "1000"
                                },
                                {
                                    "MEGNEVEZES": "Képeslap humoros borítékos",
                                    "KESZLET": "1000"
                                },
                                {
                                    "MEGNEVEZES": "Mappa PVC villámzáras  képes",
                                    "KESZLET": "1000"
                                },
                                {
                                    "MEGNEVEZES": "Fehér másoló A/3",
                                    "KESZLET": "1000"
                                },
                                {
                                    "MEGNEVEZES": "Színes karton A4",
                                    "KESZLET": "1000"
                                },
                                {
                                    "MEGNEVEZES": "Színes ofszet B/4",
                                    "KESZLET": "1000"
                                },
                                {
                                    "MEGNEVEZES": "Gyorsfűző műa.",
                                    "KESZLET": "1000"
                                },
                                {
                                    "MEGNEVEZES": "Ajándék csom. 70x50 metál",
                                    "KESZLET": "1000"
                                },
                                {
                                    "MEGNEVEZES": "Golyóstoll Stabiló 308",
                                    "KESZLET": "1000"
                                },
                                {
                                    "MEGNEVEZES": "G.toll betét S7L ",
                                    "KESZLET": "1000"
                                },
                                {
                                    "MEGNEVEZES": "Filctoll, textil Edding 4500",
                                    "KESZLET": "1000"
                                },
                                {
                                    "MEGNEVEZES": "Hegyező műanyag egyes",
                                    "KESZLET": "1000"
                                },
                                {
                                    "MEGNEVEZES": "Tolltartó 2 részes NG.",
                                    "KESZLET": "1000"
                                },
                                {
                                    "MEGNEVEZES": "Radír Tikky 30 ",
                                    "KESZLET": "1100"
                                },
                                {
                                    "MEGNEVEZES": "Ragasztószalag nagy 12 mm",
                                    "KESZLET": "1100"
                                },
                                {
                                    "MEGNEVEZES": "Tűzőgép SAX 239",
                                    "KESZLET": "1100"
                                },
                                {
                                    "MEGNEVEZES": "Tokos iratrendező",
                                    "KESZLET": "1100"
                                },
                                {
                                    "MEGNEVEZES": "Öntapadós hologramos papír A/4",
                                    "KESZLET": "1100"
                                },
                                {
                                    "MEGNEVEZES": "Italtartó doboz",
                                    "KESZLET": "1100"
                                },
                                {
                                    "MEGNEVEZES": "Ragasztó, Technokol 35g piros",
                                    "KESZLET": "1100"
                                },
                                {
                                    "MEGNEVEZES": "Szalvéta gyűjtőknek",
                                    "KESZLET": "1200"
                                },
                                {
                                    "MEGNEVEZES": "Kulcstartó figurás",
                                    "KESZLET": "1200"
                                },
                                {
                                    "MEGNEVEZES": "Gyorsfűző dosszié fehér",
                                    "KESZLET": "1200"
                                },
                                {
                                    "MEGNEVEZES": "Bélyegző RP 18-47",
                                    "KESZLET": "1200"
                                },
                                {
                                    "MEGNEVEZES": "G.toll betét Stabilo",
                                    "KESZLET": "1200"
                                },
                                {
                                    "MEGNEVEZES": "Golyóstoll Zodiák",
                                    "KESZLET": "1200"
                                },
                                {
                                    "MEGNEVEZES": "Szám.tech. kicsiknek",
                                    "KESZLET": "1300"
                                },
                                {
                                    "MEGNEVEZES": "Kapocskiszedő",
                                    "KESZLET": "1300"
                                },
                                {
                                    "MEGNEVEZES": "Dvd",
                                    "KESZLET": "1300"
                                },
                                {
                                    "MEGNEVEZES": "Ajándék csom. gyűrt",
                                    "KESZLET": "1300"
                                },
                                {
                                    "MEGNEVEZES": "Lufi hullámos",
                                    "KESZLET": "1300"
                                },
                                {
                                    "MEGNEVEZES": "Levélpapír szett",
                                    "KESZLET": "1300"
                                },
                                {
                                    "MEGNEVEZES": "Hőmérő, műa.",
                                    "KESZLET": "1400"
                                },
                                {
                                    "MEGNEVEZES": "Naptárhát kicsi",
                                    "KESZLET": "1400"
                                },
                                {
                                    "MEGNEVEZES": "Anyanyelvi gyakorló 3",
                                    "KESZLET": "1400"
                                },
                                {
                                    "MEGNEVEZES": "Golyóstoll Zebra 301",
                                    "KESZLET": "1400"
                                },
                                {
                                    "MEGNEVEZES": "Post-it 75×75 100 lapos",
                                    "KESZLET": "1500"
                                },
                                {
                                    "MEGNEVEZES": "Füzettartó A/5  ",
                                    "KESZLET": "1500"
                                },
                                {
                                    "MEGNEVEZES": "Radírtoll betét ER100",
                                    "KESZLET": "1500"
                                },
                                {
                                    "MEGNEVEZES": "Iratgyűjtő ESSELTE ablakos",
                                    "KESZLET": "1500"
                                },
                                {
                                    "MEGNEVEZES": "Genotherm lefűzhető A/5",
                                    "KESZLET": "1500"
                                },
                                {
                                    "MEGNEVEZES": "Color Copy A/4 250 g",
                                    "KESZLET": "1500"
                                },
                                {
                                    "MEGNEVEZES": "Füzet  A4 mintás",
                                    "KESZLET": "1500"
                                },
                                {
                                    "MEGNEVEZES": "Szalvéta Goma húsvéti",
                                    "KESZLET": "1500"
                                },
                                {
                                    "MEGNEVEZES": "Bérlet tok",
                                    "KESZLET": "1500"
                                },
                                {
                                    "MEGNEVEZES": "Levélpapír A/4",
                                    "KESZLET": "1600"
                                },
                                {
                                    "MEGNEVEZES": "Képeslap virágos",
                                    "KESZLET": "1600"
                                },
                                {
                                    "MEGNEVEZES": "Tapétavágó kés",
                                    "KESZLET": "1600"
                                },
                                {
                                    "MEGNEVEZES": "Ragasztószalag 19 mm-es SCOTCH+ tépő",
                                    "KESZLET": "1600"
                                },
                                {
                                    "MEGNEVEZES": "Szorzótábla műanyag",
                                    "KESZLET": "1600"
                                },
                                {
                                    "MEGNEVEZES": "Radír stabilo",
                                    "KESZLET": "1700"
                                },
                                {
                                    "MEGNEVEZES": "G.toll betét jumbo",
                                    "KESZLET": "1700"
                                },
                                {
                                    "MEGNEVEZES": "G.toll betét PAX",
                                    "KESZLET": "1800"
                                },
                                {
                                    "MEGNEVEZES": "Gyűrűskönyv",
                                    "KESZLET": "1800"
                                },
                                {
                                    "MEGNEVEZES": "Gumis mappa fóliázott állatos",
                                    "KESZLET": "1800"
                                },
                                {
                                    "MEGNEVEZES": "Műnyomó 300g 17,5*20",
                                    "KESZLET": "1800"
                                },
                                {
                                    "MEGNEVEZES": "Ajándék csom. 150x70",
                                    "KESZLET": "1900"
                                },
                                {
                                    "MEGNEVEZES": "Notesz sima spirál College",
                                    "KESZLET": "1900"
                                },
                                {
                                    "MEGNEVEZES": "Gyurma 12 szinű",
                                    "KESZLET": "1900"
                                },
                                {
                                    "MEGNEVEZES": "G. toll betét UNI lachnok Fine SA-7C",
                                    "KESZLET": "1900"
                                },
                                {
                                    "MEGNEVEZES": "Ceruza arany, ezüst",
                                    "KESZLET": "1900"
                                },
                                {
                                    "MEGNEVEZES": "Füzettartó A/4 keménytáblás",
                                    "KESZLET": "2000"
                                },
                                {
                                    "MEGNEVEZES": "Zselés toll Muhnwa",
                                    "KESZLET": "2000"
                                },
                                {
                                    "MEGNEVEZES": "Matematika gyakorló 4",
                                    "KESZLET": "2000"
                                },
                                {
                                    "MEGNEVEZES": "Pixiron mini ",
                                    "KESZLET": "2000"
                                },
                                {
                                    "MEGNEVEZES": "Pixiron 0,7 Handy",
                                    "KESZLET": "2000"
                                },
                                {
                                    "MEGNEVEZES": "Golyóstoll Parker tokban",
                                    "KESZLET": "2000"
                                },
                                {
                                    "MEGNEVEZES": "Ajándék cs. tasak mintás nagy",
                                    "KESZLET": "2000"
                                },
                                {
                                    "MEGNEVEZES": "Boríték LC 5",
                                    "KESZLET": "2000"
                                },
                                {
                                    "MEGNEVEZES": "Boríték LC 6",
                                    "KESZLET": "2000"
                                },
                                {
                                    "MEGNEVEZES": "Notesz A/6 College",
                                    "KESZLET": "2000"
                                },
                                {
                                    "MEGNEVEZES": "Gumis mappa csomagolt",
                                    "KESZLET": "2000"
                                },
                                {
                                    "MEGNEVEZES": "Plüss kicsi",
                                    "KESZLET": "2000"
                                },
                                {
                                    "MEGNEVEZES": "Logikai készlet",
                                    "KESZLET": "2000"
                                },
                                {
                                    "MEGNEVEZES": "Kulcstartó mesefigurás",
                                    "KESZLET": "2010"
                                },
                                {
                                    "MEGNEVEZES": "Képeslap karácsonyi",
                                    "KESZLET": "2100"
                                },
                                {
                                    "MEGNEVEZES": "Ajándék cs. húsvéti",
                                    "KESZLET": "2100"
                                },
                                {
                                    "MEGNEVEZES": "Ajándék cs. tasak kicsi",
                                    "KESZLET": "2200"
                                },
                                {
                                    "MEGNEVEZES": "Színes papír I.II-IV.V-VIII-ig",
                                    "KESZLET": "2200"
                                },
                                {
                                    "MEGNEVEZES": "Körzőhegy grafit",
                                    "KESZLET": "2200"
                                },
                                {
                                    "MEGNEVEZES": "Radír Koh-i-nor 40",
                                    "KESZLET": "2200"
                                },
                                {
                                    "MEGNEVEZES": "Színes ceruza 6-os",
                                    "KESZLET": "2200"
                                },
                                {
                                    "MEGNEVEZES": "Képeslap virágos +boríték",
                                    "KESZLET": "2300"
                                },
                                {
                                    "MEGNEVEZES": "Képeslap WD +boríték",
                                    "KESZLET": "2300"
                                },
                                {
                                    "MEGNEVEZES": "Ajándék cs. tasak közepes",
                                    "KESZLET": "2300"
                                },
                                {
                                    "MEGNEVEZES": "Műanyag pohár 5 cl-es",
                                    "KESZLET": "2400"
                                },
                                {
                                    "MEGNEVEZES": "Radír Maped",
                                    "KESZLET": "2400"
                                },
                                {
                                    "MEGNEVEZES": "Kulcstartó nagyítós",
                                    "KESZLET": "2500"
                                },
                                {
                                    "MEGNEVEZES": "Ajándék cs. tasak virágos nagy",
                                    "KESZLET": "2500"
                                },
                                {
                                    "MEGNEVEZES": "Iratsín kék",
                                    "KESZLET": "2500"
                                },
                                {
                                    "MEGNEVEZES": "Boríték légp. kicsi",
                                    "KESZLET": "2500"
                                },
                                {
                                    "MEGNEVEZES": "Ajándék csom. gyűrt 50x70 ",
                                    "KESZLET": "2600"
                                },
                                {
                                    "MEGNEVEZES": "Talpas tasak",
                                    "KESZLET": "2600"
                                },
                                {
                                    "MEGNEVEZES": "Gyűjtőlap A/4",
                                    "KESZLET": "2600"
                                },
                                {
                                    "MEGNEVEZES": "Gyűrűskönyv bet. A/4",
                                    "KESZLET": "2600"
                                },
                                {
                                    "MEGNEVEZES": "Radír gyümölcsös",
                                    "KESZLET": "2600"
                                },
                                {
                                    "MEGNEVEZES": "Vonalzó 20 cm-es ",
                                    "KESZLET": "2600"
                                },
                                {
                                    "MEGNEVEZES": "Határidő napló A/6",
                                    "KESZLET": "2700"
                                },
                                {
                                    "MEGNEVEZES": "Kártya mini Magyar",
                                    "KESZLET": "2800"
                                },
                                {
                                    "MEGNEVEZES": "Tolltartó Garfield",
                                    "KESZLET": "2900"
                                },
                                {
                                    "MEGNEVEZES": "Ragasztó szalag KORES ",
                                    "KESZLET": "3000"
                                },
                                {
                                    "MEGNEVEZES": "Színes ceruza 12 szín",
                                    "KESZLET": "3000"
                                },
                                {
                                    "MEGNEVEZES": "Lufi formázható",
                                    "KESZLET": "3000"
                                },
                                {
                                    "MEGNEVEZES": "Emlékkönyv",
                                    "KESZLET": "3000"
                                },
                                {
                                    "MEGNEVEZES": "félfamentes rajzlap A4 (10 lap)",
                                    "KESZLET": "3000"
                                },
                                {
                                    "MEGNEVEZES": "Dekorációs karton arany, ezüst",
                                    "KESZLET": "3100"
                                },
                                {
                                    "MEGNEVEZES": "Gemkapocs ICO",
                                    "KESZLET": "3200"
                                },
                                {
                                    "MEGNEVEZES": "Kulcstartó billiárd golyós",
                                    "KESZLET": "3500"
                                },
                                {
                                    "MEGNEVEZES": "G.toll betét illatos",
                                    "KESZLET": "3500"
                                },
                                {
                                    "MEGNEVEZES": "Ragasztó kenőfejes Nebuló",
                                    "KESZLET": "3600"
                                },
                                {
                                    "MEGNEVEZES": "Ecset Nebulo 4-es",
                                    "KESZLET": "3600"
                                },
                                {
                                    "MEGNEVEZES": "Ajándék csomagoló tasak",
                                    "KESZLET": "3600"
                                },
                                {
                                    "MEGNEVEZES": "Kulcstartó autós",
                                    "KESZLET": "3700"
                                },
                                {
                                    "MEGNEVEZES": "Ajándék csomagoló tasak lézeres",
                                    "KESZLET": "3900"
                                },
                                {
                                    "MEGNEVEZES": "Anyanyelvi gyakorló 2",
                                    "KESZLET": "3900"
                                },
                                {
                                    "MEGNEVEZES": "Pixiron Pentel színes",
                                    "KESZLET": "4000"
                                },
                                {
                                    "MEGNEVEZES": "Zselés toll ",
                                    "KESZLET": "4000"
                                },
                                {
                                    "MEGNEVEZES": "Ecset Nebuló 10-es",
                                    "KESZLET": "4000"
                                },
                                {
                                    "MEGNEVEZES": "Notesz A/5 sima spirál",
                                    "KESZLET": "4100"
                                },
                                {
                                    "MEGNEVEZES": "Tűzőkapocs 24/6",
                                    "KESZLET": "4200"
                                },
                                {
                                    "MEGNEVEZES": "G.toll betét Parker ",
                                    "KESZLET": "4300"
                                },
                                {
                                    "MEGNEVEZES": "Sp.Füzet A/5 70-es",
                                    "KESZLET": "4400"
                                },
                                {
                                    "MEGNEVEZES": "RAMba zárt világ",
                                    "KESZLET": "4400"
                                },
                                {
                                    "MEGNEVEZES": "Egészségügyi könyv",
                                    "KESZLET": "4400"
                                },
                                {
                                    "MEGNEVEZES": "Füzet 31-32 szótár",
                                    "KESZLET": "4500"
                                },
                                {
                                    "MEGNEVEZES": "Genotherm A4 10db-os",
                                    "KESZLET": "4700"
                                },
                                {
                                    "MEGNEVEZES": "Ragasztó 8 g Pritt",
                                    "KESZLET": "4900"
                                },
                                {
                                    "MEGNEVEZES": "Fizika 13 éveseknek",
                                    "KESZLET": "5000"
                                },
                                {
                                    "MEGNEVEZES": "Papízsebkendő,10db Szindy",
                                    "KESZLET": "5000"
                                },
                                {
                                    "MEGNEVEZES": "Műanyag foszforeszkáló állat",
                                    "KESZLET": "5100"
                                },
                                {
                                    "MEGNEVEZES": "Alufólia 20 m-es",
                                    "KESZLET": "5900"
                                },
                                {
                                    "MEGNEVEZES": "Zselés toll MICRO",
                                    "KESZLET": "6000"
                                },
                                {
                                    "MEGNEVEZES": "Golyóstoll UNI átlátszó",
                                    "KESZLET": "6000"
                                },
                                {
                                    "MEGNEVEZES": "Matrica állatos",
                                    "KESZLET": "6200"
                                },
                                {
                                    "MEGNEVEZES": "Oklevél A/4 egyszínű",
                                    "KESZLET": "6600"
                                },
                                {
                                    "MEGNEVEZES": "Naptárhát nagy",
                                    "KESZLET": "6900"
                                },
                                {
                                    "MEGNEVEZES": "Gumis mappa ",
                                    "KESZLET": "7000"
                                },
                                {
                                    "MEGNEVEZES": "Golyóstoll háromfunkciós",
                                    "KESZLET": "7200"
                                },
                                {
                                    "MEGNEVEZES": "Emlékkönyv",
                                    "KESZLET": "7700"
                                },
                                {
                                    "MEGNEVEZES": "Ajándék cs. 2×100×70",
                                    "KESZLET": "8000"
                                },
                                {
                                    "MEGNEVEZES": "Golyóstoll kétfunkciós ICO",
                                    "KESZLET": "8000"
                                },
                                {
                                    "MEGNEVEZES": "Pixiron Penac",
                                    "KESZLET": "8000"
                                },
                                {
                                    "MEGNEVEZES": "A föld amelyen élünk - munkafüzet",
                                    "KESZLET": "9000"
                                },
                                {
                                    "MEGNEVEZES": "Névjegytartó kicsi",
                                    "KESZLET": "9000"
                                },
                                {
                                    "MEGNEVEZES": "Boríték mintás",
                                    "KESZLET": "10000"
                                },
                                {
                                    "MEGNEVEZES": "irodai tűzőgép",
                                    "KESZLET": "10000"
                                },
                                {
                                    "MEGNEVEZES": "Mappa bemutató",
                                    "KESZLET": "10000"
                                },
                                {
                                    "MEGNEVEZES": "Képeslap karácsonyi WD",
                                    "KESZLET": "10000"
                                },
                                {
                                    "MEGNEVEZES": "Pixiron Handy fém",
                                    "KESZLET": "12000"
                                },
                                {
                                    "MEGNEVEZES": "Pixiron Centrum",
                                    "KESZLET": "12500"
                                },
                                {
                                    "MEGNEVEZES": "Golyóstoll háromszög",
                                    "KESZLET": "15000"
                                },
                                {
                                    "MEGNEVEZES": "Pixiron  UNI",
                                    "KESZLET": "22000"
                                },
                                {
                                    "MEGNEVEZES": "Pixiron Handy műanyag",
                                    "KESZLET": "25000"
                                },
                                {
                                    "MEGNEVEZES": "Diszkötöző széles szalag",
                                    "KESZLET": "26000"
                                },
                                {
                                    "MEGNEVEZES": "Golyóstoll UNI gumis",
                                    "KESZLET": "30000"
                                },
                                {
                                    "MEGNEVEZES": "Golyóstoll UNIBALL 07",
                                    "KESZLET": "35000"
                                },
                                {
                                    "MEGNEVEZES": "Díszkötöző szalag vékony",
                                    "KESZLET": "40000"
                                },
                                {
                                    "MEGNEVEZES": "Ajándék cs. tasak kicsi",
                                    "KESZLET": "50000"
                                },
                                {
                                    "MEGNEVEZES": "Golyóstoll levélbontós",
                                    "KESZLET": "50000"
                                }
                            ]
                        },
                        "text/html": [
                            "<table>",
                            "<tr><th>MEGNEVEZES</th><th>KESZLET</th></tr>",
                            "<tr><td>Rovatolt papír 20 íves</td><td>0</td></tr>",
                            "<tr><td>Leckefüzet</td><td>0</td></tr>",
                            "<tr><td>női alsó</td><td>53</td></tr>",
                            "<tr><td>női szövet kabát</td><td>77</td></tr>",
                            "<tr><td>sál</td><td>77</td></tr>",
                            "<tr><td>gyermek kabát (lány)</td><td>78</td></tr>",
                            "<tr><td>Fizikai feladatok és tévedések</td><td>100</td></tr>",
                            "<tr><td>Fogalmazás lépésről lépésre</td><td>100</td></tr>",
                            "<tr><td>Szövegszerkesztés</td><td>100</td></tr>",
                            "<tr><td>Informatika</td><td>100</td></tr>",
                            "<tr><td>Érettségi felv. fel. Matematika</td><td>100</td></tr>",
                            "<tr><td>Érettségi felv. fel. Biológia</td><td>100</td></tr>",
                            "<tr><td>Ironbél HI-POLIMER HB 0,7</td><td>100</td></tr>",
                            "<tr><td>Lakk filc Edding 750</td><td>100</td></tr>",
                            "<tr><td>Ceruza szorzótáblás</td><td>100</td></tr>",
                            "<tr><td>Ceruza kínai</td><td>100</td></tr>",
                            "<tr><td>Golyóstoll</td><td>100</td></tr>",
                            "<tr><td>Golyóstoll illatos ICO</td><td>100</td></tr>",
                            "<tr><td>Golyóstoll</td><td>100</td></tr>",
                            "<tr><td>Golyóstoll kétszínű</td><td>100</td></tr>",
                            "<tr><td>Zseléstoll Lizzy Card</td><td>100</td></tr>",
                            "<tr><td>A föld amelyen élünk - Európa földrajza</td><td>100</td></tr>",
                            "<tr><td>A föld amelyen élünk - Hazánk földrajza</td><td>100</td></tr>",
                            "<tr><td>Matematika gyakorló 2</td><td>100</td></tr>",
                            "<tr><td>Tolltartó zipzáras</td><td>100</td></tr>",
                            "<tr><td>Tolltartó hengeres </td><td>100</td></tr>",
                            "<tr><td>Tombola tömb</td><td>100</td></tr>",
                            "<tr><td>Olló gyerek </td><td>100</td></tr>",
                            "<tr><td>Olló, iskolai</td><td>100</td></tr>",
                            "<tr><td>Füzetborító mesefig.</td><td>100</td></tr>",
                            "<tr><td>Füzetborító öntapadó kicsi</td><td>100</td></tr>",
                            "<tr><td>Sp.Füzet A/4  70es</td><td>100</td></tr>",
                            "<tr><td>Szövegkiemelő vékony</td><td>100</td></tr>",
                            "<tr><td>Szövegkiemelő Videotip</td><td>100</td></tr>",
                            "<tr><td>Tempera szóló ezüst</td><td>100</td></tr>",
                            "<tr><td>Tempera szóló színes</td><td>100</td></tr>",
                            "<tr><td>Gyűrűskönyv betét A/5</td><td>100</td></tr>",
                            "<tr><td>kék indigó</td><td>100</td></tr>",
                            "<tr><td>Írólap 20-50 </td><td>100</td></tr>",
                            "<tr><td>Körző</td><td>100</td></tr>",
                            "<tr><td>Radír KOH-I-NOR 80</td><td>100</td></tr>",
                            "<tr><td>Vízfesték  12 színű nagy</td><td>100</td></tr>",
                            "<tr><td>Vízfesték 12 db-os </td><td>100</td></tr>",
                            "<tr><td>Vízfesték 12 színű kerek</td><td>100</td></tr>",
                            "<tr><td>Vízfesték 12db-os kínai</td><td>100</td></tr>",
                            "<tr><td>Vonalzó 15 cm-es ESSELTE</td><td>100</td></tr>",
                            "<tr><td>Vonalzó 16 cm-es LIZZY</td><td>100</td></tr>",
                            "<tr><td>Vonalzó 30 cm</td><td>100</td></tr>",
                            "<tr><td>Ragasztó Gyurma</td><td>100</td></tr>",
                            "<tr><td>Hegyző fém 2 lyukú</td><td>100</td></tr>",
                            "<tr><td>Vonalzó 60 fokos</td><td>100</td></tr>",
                            "<tr><td>G.toll betét Zebra F-0.7</td><td>100</td></tr>",
                            "<tr><td>Ceruza Conté zöld</td><td>100</td></tr>",
                            "<tr><td>Ceruza 2H-3B Koh-i-nor</td><td>100</td></tr>",
                            "<tr><td>Ceruza kártyás</td><td>100</td></tr>",
                            "<tr><td>Ceruza Progresso</td><td>100</td></tr>",
                            "<tr><td>Filctoll </td><td>100</td></tr>",
                            "<tr><td>Filctoll document pen</td><td>100</td></tr>",
                            "<tr><td>Filctoll supra fine</td><td>100</td></tr>",
                            "<tr><td>G. toll betét mini</td><td>100</td></tr>",
                            "<tr><td>G. toll betét mini fém</td><td>100</td></tr>",
                            "<tr><td>Ceruza stabilo swano</td><td>100</td></tr>",
                            "<tr><td>Golyóstoll UNI laknock</td><td>100</td></tr>",
                            "<tr><td>Esküvői meghívó</td><td>100</td></tr>",
                            "<tr><td>Előlap spirálhoz</td><td>100</td></tr>",
                            "<tr><td>Öntapadó A/4</td><td>100</td></tr>",
                            "<tr><td>Selyemfényű karton A/4</td><td>100</td></tr>",
                            "<tr><td>Color Copy A4 200 g</td><td>100</td></tr>",
                            "<tr><td>Kreatív A/4 300g </td><td>100</td></tr>",
                            "<tr><td>Color Copy 160 g-os </td><td>100</td></tr>",
                            "<tr><td>Márványos A/4</td><td>100</td></tr>",
                            "<tr><td>Beírókönyv A4</td><td>100</td></tr>",
                            "<tr><td>Boríték LA 4 francia</td><td>100</td></tr>",
                            "<tr><td>Árazószalag </td><td>100</td></tr>",
                            "<tr><td>Hibajavító készlet Blanco</td><td>100</td></tr>",
                            "<tr><td>Hibajavító lap </td><td>100</td></tr>",
                            "<tr><td>Írásvetítő fólia</td><td>100</td></tr>",
                            "<tr><td>Pénztárgépszalag 2pl SC 57.5/60</td><td>100</td></tr>",
                            "<tr><td>Fólia tasakos A4 125 mik.</td><td>100</td></tr>",
                            "<tr><td>Fólia tasakos A4 80 mik.</td><td>100</td></tr>",
                            "<tr><td>Fólia tasakos A4100 mik.</td><td>100</td></tr>",
                            "<tr><td>Bélyegző IDEAL 50</td><td>100</td></tr>",
                            "<tr><td>Bélyegző párna</td><td>100</td></tr>",
                            "<tr><td>Boríték B/4-es</td><td>100</td></tr>",
                            "<tr><td>Térképtű színes</td><td>100</td></tr>",
                            "<tr><td>Gémkapocs 50-es</td><td>100</td></tr>",
                            "<tr><td>Oki toner C</td><td>100</td></tr>",
                            "<tr><td>Ragasztószalag  TIXO</td><td>100</td></tr>",
                            "<tr><td>Diszkötöző szalag arany</td><td>100</td></tr>",
                            "<tr><td>Díszkötöző szalag metál kicsi</td><td>100</td></tr>",
                            "<tr><td>Ajándék cs. tasak mintás kicsi</td><td>100</td></tr>",
                            "<tr><td>iskolai csomagoló papír</td><td>100</td></tr>",
                            "<tr><td>Képeslap kerek</td><td>100</td></tr>",
                            "<tr><td>Műanyag pohár 1 dl-es</td><td>100</td></tr>",
                            "<tr><td>Díszdoboz tollnak 2 db-os</td><td>100</td></tr>",
                            "<tr><td>Díszdoboz tollnak 2 db-os keskeny</td><td>100</td></tr>",
                            "<tr><td>Játékautó elemes</td><td>100</td></tr>",
                            "<tr><td>Plüss sárkány</td><td>100</td></tr>",
                            "<tr><td>Strandlabda </td><td>100</td></tr>",
                            "<tr><td>Mappa PVC villámzáras</td><td>100</td></tr>",
                            "<tr><td>Képeslap  borítékos</td><td>100</td></tr>",
                            "<tr><td>Matrica világítós </td><td>100</td></tr>",
                            "<tr><td>Meghívó állatos</td><td>100</td></tr>",
                            "<tr><td>Meghívó borítékos</td><td>100</td></tr>",
                            "<tr><td>Alufólia 10 m-es</td><td>100</td></tr>",
                            "<tr><td>Szilvia csomagoló</td><td>100</td></tr>",
                            "<tr><td>Celofán 50 db-os</td><td>100</td></tr>",
                            "<tr><td>Szalvéta </td><td>100</td></tr>",
                            "<tr><td>Szalvéta dekor</td><td>100</td></tr>",
                            "<tr><td>Füzet A/5, mintás</td><td>100</td></tr>",
                            "<tr><td>Papírcenti 100 cm-es</td><td>100</td></tr>",
                            "<tr><td>Szögmérő papír</td><td>100</td></tr>",
                            "<tr><td>Gyurma színes 200 g-os</td><td>100</td></tr>",
                            "<tr><td>férfi farmer nadrág</td><td>105</td></tr>",
                            "<tr><td>gyermek póló (lány)</td><td>113</td></tr>",
                            "<tr><td>gyermek szandál (lány)</td><td>119</td></tr>",
                            "<tr><td>Hurkapálca 10 db-os</td><td>150</td></tr>",
                            "<tr><td>gyermek pamut nadrág (lány)</td><td>162</td></tr>",
                            "<tr><td>férfi szövet kabát</td><td>173</td></tr>",
                            "<tr><td>gyermek pamut nadrág (fiú)</td><td>182</td></tr>",
                            "<tr><td>gyermek farmer nadrág (fiú)</td><td>200</td></tr>",
                            "<tr><td>Jól felkészültem-e - Fizika</td><td>200</td></tr>",
                            "<tr><td>Matematika gyakorló 3</td><td>200</td></tr>",
                            "<tr><td>Fizika</td><td>200</td></tr>",
                            "<tr><td>A föld amelyen élünk - Távoli földrészek</td><td>200</td></tr>",
                            "<tr><td>Ceruza szén</td><td>200</td></tr>",
                            "<tr><td>Golyóstoll Pax tip.</td><td>200</td></tr>",
                            "<tr><td>Golyóstoll penac</td><td>200</td></tr>",
                            "<tr><td>Golyóstoll + ceruza Twister 2in1</td><td>200</td></tr>",
                            "<tr><td>Ceruza zöld színű</td><td>200</td></tr>",
                            "<tr><td>Ironbél H 0,5</td><td>200</td></tr>",
                            "<tr><td>Ironbél HB 0,5</td><td>200</td></tr>",
                            "<tr><td>Ironbél  2B ICO</td><td>200</td></tr>",
                            "<tr><td>Tintapatron /kék/</td><td>200</td></tr>",
                            "<tr><td>Tintapatron 30 db-os kék</td><td>200</td></tr>",
                            "<tr><td>Tintapatron színes</td><td>200</td></tr>",
                            "<tr><td>Toll Centropen roller</td><td>200</td></tr>",
                            "<tr><td>G.toll betét görbe hegyű</td><td>200</td></tr>",
                            "<tr><td>G. toll betét réz</td><td>200</td></tr>",
                            "<tr><td>G. toll betét S7S</td><td>200</td></tr>",
                            "<tr><td>Filctoll Edding 750</td><td>200</td></tr>",
                            "<tr><td>Filctoll Marvy alkoholos</td><td>200</td></tr>",
                            "<tr><td>Ceruza radíros kínai</td><td>200</td></tr>",
                            "<tr><td>Ceruza piros-kék</td><td>200</td></tr>",
                            "<tr><td>Ceruza HB radiros</td><td>200</td></tr>",
                            "<tr><td>Ceruza Cseh</td><td>200</td></tr>",
                            "<tr><td>Filctoll, alkoholos Centropen</td><td>200</td></tr>",
                            "<tr><td>Ceruza 2H-4B</td><td>200</td></tr>",
                            "<tr><td>G.toll betét Zebra H-0,7</td><td>200</td></tr>",
                            "<tr><td>G.toll betét Zebra K-0,7</td><td>200</td></tr>",
                            "<tr><td>Kerámiatoll</td><td>200</td></tr>",
                            "<tr><td>Vonalzó 45 fokos</td><td>200</td></tr>",
                            "<tr><td>Ablakkréta</td><td>200</td></tr>",
                            "<tr><td>Zászló papír</td><td>200</td></tr>",
                            "<tr><td>Füzettartó A/4</td><td>200</td></tr>",
                            "<tr><td>Beíró A/5 kockás</td><td>200</td></tr>",
                            "<tr><td>Indigó Pelikán</td><td>200</td></tr>",
                            "<tr><td>Post-it 51×38 100 lapos</td><td>200</td></tr>",
                            "<tr><td>Gyűrűskönyv bet. A/5</td><td>200</td></tr>",
                            "<tr><td>Szövegkiemelő </td><td>200</td></tr>",
                            "<tr><td>Regiszteres füzet A5 Hightech</td><td>200</td></tr>",
                            "<tr><td>Radír Tikky 40 </td><td>200</td></tr>",
                            "<tr><td>Rajzlap A/4 10db ffam.</td><td>200</td></tr>",
                            "<tr><td>Füzet A5 1-8 osz.-ig</td><td>200</td></tr>",
                            "<tr><td>Tornazsák</td><td>200</td></tr>",
                            "<tr><td>Számológép tudományos</td><td>200</td></tr>",
                            "<tr><td>Hegyző fém 1 lyukú</td><td>200</td></tr>",
                            "<tr><td>Ragasztó 9 g Pax</td><td>200</td></tr>",
                            "<tr><td>Ecset Centrum 10,11,12</td><td>200</td></tr>",
                            "<tr><td>Ecset Deák 2-es</td><td>200</td></tr>",
                            "<tr><td>Ecset Lizzy 10-es</td><td>200</td></tr>",
                            "<tr><td>Szögmérő 180 fokos műa.</td><td>200</td></tr>",
                            "<tr><td>Szögmérő színes</td><td>200</td></tr>",
                            "<tr><td>Ellenőrzőborító</td><td>200</td></tr>",
                            "<tr><td>Celofán</td><td>200</td></tr>",
                            "<tr><td>Ragasztó, Technokol 35g kék</td><td>200</td></tr>",
                            "<tr><td>Rajzszeg színes</td><td>200</td></tr>",
                            "<tr><td>Matrica motoros kicsi</td><td>200</td></tr>",
                            "<tr><td>Képeslap &quot;Részvét&quot;</td><td>200</td></tr>",
                            "<tr><td>Címke egyszínű</td><td>200</td></tr>",
                            "<tr><td>Mappa bőr A5</td><td>200</td></tr>",
                            "<tr><td>Levélpapír szett natur, mintás</td><td>200</td></tr>",
                            "<tr><td>házt.csom.  5 ív</td><td>200</td></tr>",
                            "<tr><td>Ajándék csom. vékony</td><td>200</td></tr>",
                            "<tr><td>Ajándék cs. tasak italos, fólia</td><td>200</td></tr>",
                            "<tr><td>Tűzőgép mini</td><td>200</td></tr>",
                            "<tr><td>Gémkapocs 28-as színes</td><td>200</td></tr>",
                            "<tr><td>Ragasztószalag 19 mm-es</td><td>200</td></tr>",
                            "<tr><td>Álló irattartó</td><td>200</td></tr>",
                            "<tr><td>Boríték C/4-es</td><td>200</td></tr>",
                            "<tr><td>Hibajavító roller 5 mm</td><td>200</td></tr>",
                            "<tr><td>Átírótömb A/6</td><td>200</td></tr>",
                            "<tr><td>Beírókönyv A5 </td><td>200</td></tr>",
                            "<tr><td>Álló irattartó karton</td><td>200</td></tr>",
                            "<tr><td>Genotherm lefűzhető A4 10db-os</td><td>200</td></tr>",
                            "<tr><td>Gyorsfűző műa.</td><td>200</td></tr>",
                            "<tr><td>Kreatív A/4 120g </td><td>200</td></tr>",
                            "<tr><td>Fehér másoló A/4</td><td>200</td></tr>",
                            "<tr><td>Fénymásoló papír GetCopy</td><td>200</td></tr>",
                            "<tr><td>Pausz papír A/4</td><td>200</td></tr>",
                            "<tr><td>Fotópapír A/4 fényes</td><td>200</td></tr>",
                            "<tr><td>Oklevél A/4 színes</td><td>200</td></tr>",
                            "<tr><td>Emléklap A/5</td><td>200</td></tr>",
                            "<tr><td>fiú harisnya</td><td>205</td></tr>",
                            "<tr><td>gyermek csizma (fiú)</td><td>229</td></tr>",
                            "<tr><td>kosztüm (hosszú)</td><td>238</td></tr>",
                            "<tr><td>gyermek csizma (lány)</td><td>264</td></tr>",
                            "<tr><td>női koktélruha</td><td>283</td></tr>",
                            "<tr><td>női farmer nadrág</td><td>289</td></tr>",
                            "<tr><td>fiú ünneplős ruha</td><td>297</td></tr>",
                            "<tr><td>Töltőtoll tinta </td><td>300</td></tr>",
                            "<tr><td>Golyóstoll INOXCROM</td><td>300</td></tr>",
                            "<tr><td>Hegyező tartályos egyes</td><td>300</td></tr>",
                            "<tr><td>Füzetborító átlátszó A5</td><td>300</td></tr>",
                            "<tr><td>Taffet papír</td><td>300</td></tr>",
                            "<tr><td>Füzetborító öntapadó tekercses</td><td>300</td></tr>",
                            "<tr><td>Füzetborító öntapadós nagy</td><td>300</td></tr>",
                            "<tr><td>Körző maped</td><td>300</td></tr>",
                            "<tr><td>Gyurmakés</td><td>300</td></tr>",
                            "<tr><td>Szótárfüzet Lizzy</td><td>300</td></tr>",
                            "<tr><td>Filctoll TINTEN PEN</td><td>300</td></tr>",
                            "<tr><td>Ceruza smaragd</td><td>300</td></tr>",
                            "<tr><td>Ceruza stabilo opera</td><td>300</td></tr>",
                            "<tr><td>Fax papír 15 m</td><td>300</td></tr>",
                            "<tr><td>Fénymásoló papír DataCopy</td><td>300</td></tr>",
                            "<tr><td>Színes másoló a/4 80g</td><td>300</td></tr>",
                            "<tr><td>Bevételi pénztárbizonylat 3×25</td><td>300</td></tr>",
                            "<tr><td>Hibajavító roller Pax</td><td>300</td></tr>",
                            "<tr><td>Hibajavító Kores mini pen</td><td>300</td></tr>",
                            "<tr><td>Iromány fedél feles</td><td>300</td></tr>",
                            "<tr><td>Naptár 24-es</td><td>300</td></tr>",
                            "<tr><td>Notesz A/5 sima</td><td>300</td></tr>",
                            "<tr><td>Tűzőgép Boxer 10</td><td>300</td></tr>",
                            "<tr><td>Notesz mintás</td><td>300</td></tr>",
                            "<tr><td>Pénztárgépsz. 2 pl. nem öníró</td><td>300</td></tr>",
                            "<tr><td>Tűzőgép EAGLE</td><td>300</td></tr>",
                            "<tr><td>Tűzőkapocs 10-es</td><td>300</td></tr>",
                            "<tr><td>Ajándék csom. 200x70</td><td>300</td></tr>",
                            "<tr><td>Spirál 1/4 </td><td>300</td></tr>",
                            "<tr><td>Képeslap stancolt</td><td>300</td></tr>",
                            "<tr><td>Levélpapír szett </td><td>300</td></tr>",
                            "<tr><td>Mikulás zacskó</td><td>300</td></tr>",
                            "<tr><td>Műanyag állatok</td><td>300</td></tr>",
                            "<tr><td>Címke WD. állat</td><td>300</td></tr>",
                            "<tr><td>Hűtőmágnes</td><td>300</td></tr>",
                            "<tr><td>Hűtőmágnes WD</td><td>300</td></tr>",
                            "<tr><td>Díszdoboz kar.</td><td>300</td></tr>",
                            "<tr><td>Matrica autóra H</td><td>300</td></tr>",
                            "<tr><td>Matrica tetoválós kicsi</td><td>300</td></tr>",
                            "<tr><td>Matrica WD kicsi</td><td>300</td></tr>",
                            "<tr><td>Pill.ragasztó</td><td>300</td></tr>",
                            "<tr><td>Szemetes zsák 60 literes</td><td>300</td></tr>",
                            "<tr><td>Szalvéta kicsi virágos</td><td>300</td></tr>",
                            "<tr><td>Betűtartó sin</td><td>300</td></tr>",
                            "<tr><td>Számológép Roxin</td><td>300</td></tr>",
                            "<tr><td>Számolókorong</td><td>300</td></tr>",
                            "<tr><td>gyermek cipő (lány)</td><td>323</td></tr>",
                            "<tr><td>lány ünneplős ruha</td><td>325</td></tr>",
                            "<tr><td>fiú alsó</td><td>328</td></tr>",
                            "<tr><td>gyermek póló (fiú)</td><td>355</td></tr>",
                            "<tr><td>lány alsó</td><td>369</td></tr>",
                            "<tr><td>kosztüm (rövid)</td><td>369</td></tr>",
                            "<tr><td>lány harisnya</td><td>373</td></tr>",
                            "<tr><td>gyermek szandál (fiú)</td><td>376</td></tr>",
                            "<tr><td>férfi ing</td><td>381</td></tr>",
                            "<tr><td>férfi szövet nadrág</td><td>389</td></tr>",
                            "<tr><td>gyermek kabát (fiú)</td><td>396</td></tr>",
                            "<tr><td>Érettségi felv. fel. Fizika</td><td>400</td></tr>",
                            "<tr><td>Golyóstoll 3 funkciós </td><td>400</td></tr>",
                            "<tr><td>Ironbél B 0,5</td><td>400</td></tr>",
                            "<tr><td>Golyóstoll Zebra mini</td><td>400</td></tr>",
                            "<tr><td>Golyóstoll Zebra new hard</td><td>400</td></tr>",
                            "<tr><td>Filctoll vastag ARTIP</td><td>400</td></tr>",
                            "<tr><td>Meghívó ballagási</td><td>400</td></tr>",
                            "<tr><td>Miliméterpapír</td><td>400</td></tr>",
                            "<tr><td>Írólap 10-50 ffam.</td><td>400</td></tr>",
                            "<tr><td>Tolltartó 1 zipzáros</td><td>400</td></tr>",
                            "<tr><td>Olló Tagit 18 cm-es</td><td>400</td></tr>",
                            "<tr><td>Füzettartó A/5 vastag</td><td>400</td></tr>",
                            "<tr><td>Gumis mappa Köbüki</td><td>400</td></tr>",
                            "<tr><td>Gyurma színes natúr</td><td>400</td></tr>",
                            "<tr><td>Gumigyűrű</td><td>400</td></tr>",
                            "<tr><td>Rágógumi Orbit</td><td>400</td></tr>",
                            "<tr><td>Matrica Stickers nagy állatos</td><td>400</td></tr>",
                            "<tr><td>Játék autó</td><td>400</td></tr>",
                            "<tr><td>Játékautó mini</td><td>400</td></tr>",
                            "<tr><td>Képeslap stancolt szív</td><td>400</td></tr>",
                            "<tr><td>Lyukasztó BOXER</td><td>400</td></tr>",
                            "<tr><td>Ajándék cs. tasak italos</td><td>400</td></tr>",
                            "<tr><td>CD tartó tok</td><td>400</td></tr>",
                            "<tr><td>Iratgyűjtő fehér</td><td>400</td></tr>",
                            "<tr><td>Hibajavító ecsetes Aqua</td><td>400</td></tr>",
                            "<tr><td>Gemkapocs 28 mm</td><td>400</td></tr>",
                            "<tr><td>Kiadási pénztárbizonylat 2×25</td><td>400</td></tr>",
                            "<tr><td>Dipa A/4 keretezett</td><td>400</td></tr>",
                            "<tr><td>Színes A/3 160 gr IQ</td><td>400</td></tr>",
                            "<tr><td>gyermek cipő (fiú)</td><td>406</td></tr>",
                            "<tr><td>gyermek farmer nadrág (lány)</td><td>449</td></tr>",
                            "<tr><td>fiú zokni</td><td>468</td></tr>",
                            "<tr><td>lány zokni</td><td>470</td></tr>",
                            "<tr><td>Golyóstoll Montex Hytone</td><td>500</td></tr>",
                            "<tr><td>Fizika munkafüzet 13 év.</td><td>500</td></tr>",
                            "<tr><td>Fizika munkafüzet 14 év.</td><td>500</td></tr>",
                            "<tr><td>Hegyező műanyag dupla</td><td>500</td></tr>",
                            "<tr><td>Radírtoll betét vastag</td><td>500</td></tr>",
                            "<tr><td>Technika cs. I-II-III-IV</td><td>500</td></tr>",
                            "<tr><td>Krepp papír</td><td>500</td></tr>",
                            "<tr><td>Szövegkiemelő</td><td>500</td></tr>",
                            "<tr><td>Táblafilc</td><td>500</td></tr>",
                            "<tr><td>Regiszteres füzet A4</td><td>500</td></tr>",
                            "<tr><td>Ecsetkészlet</td><td>500</td></tr>",
                            "<tr><td>Füzetborító A/4 mintás</td><td>500</td></tr>",
                            "<tr><td>Ceruza piros-kék vékony</td><td>500</td></tr>",
                            "<tr><td>Ceruza háromszög </td><td>500</td></tr>",
                            "<tr><td>Filctoll CD író</td><td>500</td></tr>",
                            "<tr><td>G.toll betét csavaros</td><td>500</td></tr>",
                            "<tr><td>Fénymásoló papír Qconnect</td><td>500</td></tr>",
                            "<tr><td>Hibajav.roll.Pritt 4,2mm</td><td>500</td></tr>",
                            "<tr><td>Floppy lemez</td><td>500</td></tr>",
                            "<tr><td>Genoterm HERLITZ 10-es</td><td>500</td></tr>",
                            "<tr><td>Ragasztószalag széles barna</td><td>500</td></tr>",
                            "<tr><td>Levélpapír szett virágos</td><td>500</td></tr>",
                            "<tr><td>Gumilabda közepes</td><td>500</td></tr>",
                            "<tr><td>Álarc</td><td>500</td></tr>",
                            "<tr><td>Játékautó Blisteres</td><td>500</td></tr>",
                            "<tr><td>Plüss  QX állatok</td><td>500</td></tr>",
                            "<tr><td>Matrica Test ékszer tattoo</td><td>500</td></tr>",
                            "<tr><td>Rajzszeg</td><td>600</td></tr>",
                            "<tr><td>Füzet  A/4 </td><td>600</td></tr>",
                            "<tr><td>Képeslap &quot;Nászajándék&quot;</td><td>600</td></tr>",
                            "<tr><td>Tenisz labda</td><td>600</td></tr>",
                            "<tr><td>Levélpapír sima</td><td>600</td></tr>",
                            "<tr><td>Ajándék csom. Krepp</td><td>600</td></tr>",
                            "<tr><td>Határidő napló 2010-s</td><td>600</td></tr>",
                            "<tr><td>Ajándék csom. 50x70 húsvéti</td><td>600</td></tr>",
                            "<tr><td>Mappa müa A/4</td><td>600</td></tr>",
                            "<tr><td>Lyukasztó EAGLE</td><td>600</td></tr>",
                            "<tr><td>Iratsín fehér</td><td>600</td></tr>",
                            "<tr><td>Dekorációs karton</td><td>600</td></tr>",
                            "<tr><td>G.toll betét X20</td><td>600</td></tr>",
                            "<tr><td>G.toll betét PAX tip.</td><td>600</td></tr>",
                            "<tr><td>Sorvezető</td><td>600</td></tr>",
                            "<tr><td>Sp.Füzet A/4 70-as</td><td>600</td></tr>",
                            "<tr><td>Füzetborító A/4 átlátszó</td><td>600</td></tr>",
                            "<tr><td>Tolltartó 2 zipzáros töltött</td><td>700</td></tr>",
                            "<tr><td>Tolltartó asztali</td><td>700</td></tr>",
                            "<tr><td>Gyűrűskönyv színes</td><td>700</td></tr>",
                            "<tr><td>Filctoll, alkoholosOHP F-M-C</td><td>700</td></tr>",
                            "<tr><td>Filctoll permanent vastag</td><td>700</td></tr>",
                            "<tr><td>Pixiron KOH-I-NOOR</td><td>700</td></tr>",
                            "<tr><td>Golyóstoll Stabilo piros</td><td>700</td></tr>",
                            "<tr><td>Ceruzafogó</td><td>700</td></tr>",
                            "<tr><td>Iratrendező ESSELTE</td><td>700</td></tr>",
                            "<tr><td>Bélyegzőfesték </td><td>700</td></tr>",
                            "<tr><td>Ajándék csom. 100x70 metál</td><td>700</td></tr>",
                            "<tr><td>Hajgumi macis</td><td>700</td></tr>",
                            "<tr><td>Címke 8 db-os</td><td>700</td></tr>",
                            "<tr><td>Matrica tetoválás</td><td>700</td></tr>",
                            "<tr><td>Képeslap humoros</td><td>700</td></tr>",
                            "<tr><td>Füzet A/5 hangjegy 36/16</td><td>800</td></tr>",
                            "<tr><td>Kulcstartó intarziás állatos</td><td>800</td></tr>",
                            "<tr><td>Jelzőkréta</td><td>800</td></tr>",
                            "<tr><td>Ajándék csom. nagy  </td><td>800</td></tr>",
                            "<tr><td>Ajándék cs. húsvéti 200x70</td><td>800</td></tr>",
                            "<tr><td>Díszkötöző szalag metál nagy</td><td>800</td></tr>",
                            "<tr><td>Irattartó müa. boríték A/4</td><td>800</td></tr>",
                            "<tr><td>Sp.Füzet A/4  perforált, lyuk.</td><td>800</td></tr>",
                            "<tr><td>Füzettartó A/4 keménytáblás</td><td>900</td></tr>",
                            "<tr><td>Hegyező gép</td><td>900</td></tr>",
                            "<tr><td>Öntapadős betűk</td><td>900</td></tr>",
                            "<tr><td>Ragasztó kores</td><td>900</td></tr>",
                            "<tr><td>Szövegkiemelő Staedtler</td><td>900</td></tr>",
                            "<tr><td>Golyóstoll kupakos piros</td><td>900</td></tr>",
                            "<tr><td>Összefoglaló feladatgyüjtemény számtech.</td><td>900</td></tr>",
                            "<tr><td>Tűzőgép Boxer </td><td>900</td></tr>",
                            "<tr><td>Bélyegző pocket</td><td>900</td></tr>",
                            "<tr><td>Festékpatron BCI-3BK</td><td>900</td></tr>",
                            "<tr><td>Color Copy A4 120 g</td><td>900</td></tr>",
                            "<tr><td>Képeslap karácsonyi borítékos</td><td>900</td></tr>",
                            "<tr><td>Számolópálca</td><td>900</td></tr>",
                            "<tr><td>Ecset Centrum 7,8,9</td><td>900</td></tr>",
                            "<tr><td>Számegyenes</td><td>900</td></tr>",
                            "<tr><td>Képeslap humoros kaparós</td><td>900</td></tr>",
                            "<tr><td>Matrica Stickers szíves</td><td>900</td></tr>",
                            "<tr><td>Lampion</td><td>1000</td></tr>",
                            "<tr><td>Szalvéta egyszínű</td><td>1000</td></tr>",
                            "<tr><td>Képkirakó Dirib-darab</td><td>1000</td></tr>",
                            "<tr><td>Álarc fejdísz</td><td>1000</td></tr>",
                            "<tr><td>Álarc szemüveg</td><td>1000</td></tr>",
                            "<tr><td>Levélpapír állatos</td><td>1000</td></tr>",
                            "<tr><td>Kulcstartó Csőrikés</td><td>1000</td></tr>",
                            "<tr><td>Emlékkönyv lakatos</td><td>1000</td></tr>",
                            "<tr><td>Képeslap humoros </td><td>1000</td></tr>",
                            "<tr><td>Képeslap humoros borítékos</td><td>1000</td></tr>",
                            "<tr><td>Mappa PVC villámzáras  képes</td><td>1000</td></tr>",
                            "<tr><td>Fehér másoló A/3</td><td>1000</td></tr>",
                            "<tr><td>Színes karton A4</td><td>1000</td></tr>",
                            "<tr><td>Színes ofszet B/4</td><td>1000</td></tr>",
                            "<tr><td>Gyorsfűző műa.</td><td>1000</td></tr>",
                            "<tr><td>Ajándék csom. 70x50 metál</td><td>1000</td></tr>",
                            "<tr><td>Golyóstoll Stabiló 308</td><td>1000</td></tr>",
                            "<tr><td>G.toll betét S7L </td><td>1000</td></tr>",
                            "<tr><td>Filctoll, textil Edding 4500</td><td>1000</td></tr>",
                            "<tr><td>Hegyező műanyag egyes</td><td>1000</td></tr>",
                            "<tr><td>Tolltartó 2 részes NG.</td><td>1000</td></tr>",
                            "<tr><td>Radír Tikky 30 </td><td>1100</td></tr>",
                            "<tr><td>Ragasztószalag nagy 12 mm</td><td>1100</td></tr>",
                            "<tr><td>Tűzőgép SAX 239</td><td>1100</td></tr>",
                            "<tr><td>Tokos iratrendező</td><td>1100</td></tr>",
                            "<tr><td>Öntapadós hologramos papír A/4</td><td>1100</td></tr>",
                            "<tr><td>Italtartó doboz</td><td>1100</td></tr>",
                            "<tr><td>Ragasztó, Technokol 35g piros</td><td>1100</td></tr>",
                            "<tr><td>Szalvéta gyűjtőknek</td><td>1200</td></tr>",
                            "<tr><td>Kulcstartó figurás</td><td>1200</td></tr>",
                            "<tr><td>Gyorsfűző dosszié fehér</td><td>1200</td></tr>",
                            "<tr><td>Bélyegző RP 18-47</td><td>1200</td></tr>",
                            "<tr><td>G.toll betét Stabilo</td><td>1200</td></tr>",
                            "<tr><td>Golyóstoll Zodiák</td><td>1200</td></tr>",
                            "<tr><td>Szám.tech. kicsiknek</td><td>1300</td></tr>",
                            "<tr><td>Kapocskiszedő</td><td>1300</td></tr>",
                            "<tr><td>Dvd</td><td>1300</td></tr>",
                            "<tr><td>Ajándék csom. gyűrt</td><td>1300</td></tr>",
                            "<tr><td>Lufi hullámos</td><td>1300</td></tr>",
                            "<tr><td>Levélpapír szett</td><td>1300</td></tr>",
                            "<tr><td>Hőmérő, műa.</td><td>1400</td></tr>",
                            "<tr><td>Naptárhát kicsi</td><td>1400</td></tr>",
                            "<tr><td>Anyanyelvi gyakorló 3</td><td>1400</td></tr>",
                            "<tr><td>Golyóstoll Zebra 301</td><td>1400</td></tr>",
                            "<tr><td>Post-it 75×75 100 lapos</td><td>1500</td></tr>",
                            "<tr><td>Füzettartó A/5  </td><td>1500</td></tr>",
                            "<tr><td>Radírtoll betét ER100</td><td>1500</td></tr>",
                            "<tr><td>Iratgyűjtő ESSELTE ablakos</td><td>1500</td></tr>",
                            "<tr><td>Genotherm lefűzhető A/5</td><td>1500</td></tr>",
                            "<tr><td>Color Copy A/4 250 g</td><td>1500</td></tr>",
                            "<tr><td>Füzet  A4 mintás</td><td>1500</td></tr>",
                            "<tr><td>Szalvéta Goma húsvéti</td><td>1500</td></tr>",
                            "<tr><td>Bérlet tok</td><td>1500</td></tr>",
                            "<tr><td>Levélpapír A/4</td><td>1600</td></tr>",
                            "<tr><td>Képeslap virágos</td><td>1600</td></tr>",
                            "<tr><td>Tapétavágó kés</td><td>1600</td></tr>",
                            "<tr><td>Ragasztószalag 19 mm-es SCOTCH+ tépő</td><td>1600</td></tr>",
                            "<tr><td>Szorzótábla műanyag</td><td>1600</td></tr>",
                            "<tr><td>Radír stabilo</td><td>1700</td></tr>",
                            "<tr><td>G.toll betét jumbo</td><td>1700</td></tr>",
                            "<tr><td>G.toll betét PAX</td><td>1800</td></tr>",
                            "<tr><td>Gyűrűskönyv</td><td>1800</td></tr>",
                            "<tr><td>Gumis mappa fóliázott állatos</td><td>1800</td></tr>",
                            "<tr><td>Műnyomó 300g 17,5*20</td><td>1800</td></tr>",
                            "<tr><td>Ajándék csom. 150x70</td><td>1900</td></tr>",
                            "<tr><td>Notesz sima spirál College</td><td>1900</td></tr>",
                            "<tr><td>Gyurma 12 szinű</td><td>1900</td></tr>",
                            "<tr><td>G. toll betét UNI lachnok Fine SA-7C</td><td>1900</td></tr>",
                            "<tr><td>Ceruza arany, ezüst</td><td>1900</td></tr>",
                            "<tr><td>Füzettartó A/4 keménytáblás</td><td>2000</td></tr>",
                            "<tr><td>Zselés toll Muhnwa</td><td>2000</td></tr>",
                            "<tr><td>Matematika gyakorló 4</td><td>2000</td></tr>",
                            "<tr><td>Pixiron mini </td><td>2000</td></tr>",
                            "<tr><td>Pixiron 0,7 Handy</td><td>2000</td></tr>",
                            "<tr><td>Golyóstoll Parker tokban</td><td>2000</td></tr>",
                            "<tr><td>Ajándék cs. tasak mintás nagy</td><td>2000</td></tr>",
                            "<tr><td>Boríték LC 5</td><td>2000</td></tr>",
                            "<tr><td>Boríték LC 6</td><td>2000</td></tr>",
                            "<tr><td>Notesz A/6 College</td><td>2000</td></tr>",
                            "<tr><td>Gumis mappa csomagolt</td><td>2000</td></tr>",
                            "<tr><td>Plüss kicsi</td><td>2000</td></tr>",
                            "<tr><td>Logikai készlet</td><td>2000</td></tr>",
                            "<tr><td>Kulcstartó mesefigurás</td><td>2010</td></tr>",
                            "<tr><td>Képeslap karácsonyi</td><td>2100</td></tr>",
                            "<tr><td>Ajándék cs. húsvéti</td><td>2100</td></tr>",
                            "<tr><td>Ajándék cs. tasak kicsi</td><td>2200</td></tr>",
                            "<tr><td>Színes papír I.II-IV.V-VIII-ig</td><td>2200</td></tr>",
                            "<tr><td>Körzőhegy grafit</td><td>2200</td></tr>",
                            "<tr><td>Radír Koh-i-nor 40</td><td>2200</td></tr>",
                            "<tr><td>Színes ceruza 6-os</td><td>2200</td></tr>",
                            "<tr><td>Képeslap virágos +boríték</td><td>2300</td></tr>",
                            "<tr><td>Képeslap WD +boríték</td><td>2300</td></tr>",
                            "<tr><td>Ajándék cs. tasak közepes</td><td>2300</td></tr>",
                            "<tr><td>Műanyag pohár 5 cl-es</td><td>2400</td></tr>",
                            "<tr><td>Radír Maped</td><td>2400</td></tr>",
                            "<tr><td>Kulcstartó nagyítós</td><td>2500</td></tr>",
                            "<tr><td>Ajándék cs. tasak virágos nagy</td><td>2500</td></tr>",
                            "<tr><td>Iratsín kék</td><td>2500</td></tr>",
                            "<tr><td>Boríték légp. kicsi</td><td>2500</td></tr>",
                            "<tr><td>Ajándék csom. gyűrt 50x70 </td><td>2600</td></tr>",
                            "<tr><td>Talpas tasak</td><td>2600</td></tr>",
                            "<tr><td>Gyűjtőlap A/4</td><td>2600</td></tr>",
                            "<tr><td>Gyűrűskönyv bet. A/4</td><td>2600</td></tr>",
                            "<tr><td>Radír gyümölcsös</td><td>2600</td></tr>",
                            "<tr><td>Vonalzó 20 cm-es </td><td>2600</td></tr>",
                            "<tr><td>Határidő napló A/6</td><td>2700</td></tr>",
                            "<tr><td>Kártya mini Magyar</td><td>2800</td></tr>",
                            "<tr><td>Tolltartó Garfield</td><td>2900</td></tr>",
                            "<tr><td>Ragasztó szalag KORES </td><td>3000</td></tr>",
                            "<tr><td>Színes ceruza 12 szín</td><td>3000</td></tr>",
                            "<tr><td>Lufi formázható</td><td>3000</td></tr>",
                            "<tr><td>Emlékkönyv</td><td>3000</td></tr>",
                            "<tr><td>félfamentes rajzlap A4 (10 lap)</td><td>3000</td></tr>",
                            "<tr><td>Dekorációs karton arany, ezüst</td><td>3100</td></tr>",
                            "<tr><td>Gemkapocs ICO</td><td>3200</td></tr>",
                            "<tr><td>Kulcstartó billiárd golyós</td><td>3500</td></tr>",
                            "<tr><td>G.toll betét illatos</td><td>3500</td></tr>",
                            "<tr><td>Ragasztó kenőfejes Nebuló</td><td>3600</td></tr>",
                            "<tr><td>Ecset Nebulo 4-es</td><td>3600</td></tr>",
                            "<tr><td>Ajándék csomagoló tasak</td><td>3600</td></tr>",
                            "<tr><td>Kulcstartó autós</td><td>3700</td></tr>",
                            "<tr><td>Ajándék csomagoló tasak lézeres</td><td>3900</td></tr>",
                            "<tr><td>Anyanyelvi gyakorló 2</td><td>3900</td></tr>",
                            "<tr><td>Pixiron Pentel színes</td><td>4000</td></tr>",
                            "<tr><td>Zselés toll </td><td>4000</td></tr>",
                            "<tr><td>Ecset Nebuló 10-es</td><td>4000</td></tr>",
                            "<tr><td>Notesz A/5 sima spirál</td><td>4100</td></tr>",
                            "<tr><td>Tűzőkapocs 24/6</td><td>4200</td></tr>",
                            "<tr><td>G.toll betét Parker </td><td>4300</td></tr>",
                            "<tr><td>Sp.Füzet A/5 70-es</td><td>4400</td></tr>",
                            "<tr><td>RAMba zárt világ</td><td>4400</td></tr>",
                            "<tr><td>Egészségügyi könyv</td><td>4400</td></tr>",
                            "<tr><td>Füzet 31-32 szótár</td><td>4500</td></tr>",
                            "<tr><td>Genotherm A4 10db-os</td><td>4700</td></tr>",
                            "<tr><td>Ragasztó 8 g Pritt</td><td>4900</td></tr>",
                            "<tr><td>Fizika 13 éveseknek</td><td>5000</td></tr>",
                            "<tr><td>Papízsebkendő,10db Szindy</td><td>5000</td></tr>",
                            "<tr><td>Műanyag foszforeszkáló állat</td><td>5100</td></tr>",
                            "<tr><td>Alufólia 20 m-es</td><td>5900</td></tr>",
                            "<tr><td>Zselés toll MICRO</td><td>6000</td></tr>",
                            "<tr><td>Golyóstoll UNI átlátszó</td><td>6000</td></tr>",
                            "<tr><td>Matrica állatos</td><td>6200</td></tr>",
                            "<tr><td>Oklevél A/4 egyszínű</td><td>6600</td></tr>",
                            "<tr><td>Naptárhát nagy</td><td>6900</td></tr>",
                            "<tr><td>Gumis mappa </td><td>7000</td></tr>",
                            "<tr><td>Golyóstoll háromfunkciós</td><td>7200</td></tr>",
                            "<tr><td>Emlékkönyv</td><td>7700</td></tr>",
                            "<tr><td>Ajándék cs. 2×100×70</td><td>8000</td></tr>",
                            "<tr><td>Golyóstoll kétfunkciós ICO</td><td>8000</td></tr>",
                            "<tr><td>Pixiron Penac</td><td>8000</td></tr>",
                            "<tr><td>A föld amelyen élünk - munkafüzet</td><td>9000</td></tr>",
                            "<tr><td>Névjegytartó kicsi</td><td>9000</td></tr>",
                            "<tr><td>Boríték mintás</td><td>10000</td></tr>",
                            "<tr><td>irodai tűzőgép</td><td>10000</td></tr>",
                            "<tr><td>Mappa bemutató</td><td>10000</td></tr>",
                            "<tr><td>Képeslap karácsonyi WD</td><td>10000</td></tr>",
                            "<tr><td>Pixiron Handy fém</td><td>12000</td></tr>",
                            "<tr><td>Pixiron Centrum</td><td>12500</td></tr>",
                            "<tr><td>Golyóstoll háromszög</td><td>15000</td></tr>",
                            "<tr><td>Pixiron  UNI</td><td>22000</td></tr>",
                            "<tr><td>Pixiron Handy műanyag</td><td>25000</td></tr>",
                            "<tr><td>Diszkötöző széles szalag</td><td>26000</td></tr>",
                            "<tr><td>Golyóstoll UNI gumis</td><td>30000</td></tr>",
                            "<tr><td>Golyóstoll UNIBALL 07</td><td>35000</td></tr>",
                            "<tr><td>Díszkötöző szalag vékony</td><td>40000</td></tr>",
                            "<tr><td>Ajándék cs. tasak kicsi</td><td>50000</td></tr>",
                            "<tr><td>Golyóstoll levélbontós</td><td>50000</td></tr>",
                            "</table>"
                        ]
                    }
                }
            ],
            "execution_count": 63
        },
        {
            "cell_type": "code",
            "source": [
                "--kategoraik szerinti termekek eloszlasa\n",
                "SELECT IIF(GROUPING_ID(KAT_ID) = 1, 'Összesen',\n",
                "CAST(KAT_ID AS nvarchar(6))) AS 'KAT_ID',\n",
                "COUNT(*) AS 'Termék db'\n",
                "FROM Termek\n",
                "GROUP BY ROLLUP(KAT_ID)\n",
                "ORDER BY COUNT(*) DESC"
            ],
            "metadata": {
                "language": "sql",
                "azdata_cell_guid": "65ca00e1-69a2-4dd0-b4e1-000ee5ac3603"
            },
            "outputs": [
                {
                    "output_type": "display_data",
                    "data": {
                        "text/html": "(144 rows affected)"
                    },
                    "metadata": {}
                },
                {
                    "output_type": "display_data",
                    "data": {
                        "text/html": "Total execution time: 00:00:00.024"
                    },
                    "metadata": {}
                },
                {
                    "output_type": "execute_result",
                    "metadata": {},
                    "execution_count": 85,
                    "data": {
                        "application/vnd.dataresource+json": {
                            "schema": {
                                "fields": [
                                    {
                                        "name": "KAT_ID"
                                    },
                                    {
                                        "name": "Termék db"
                                    }
                                ]
                            },
                            "data": [
                                {
                                    "KAT_ID": "Összesen",
                                    "Termék db": "551"
                                },
                                {
                                    "KAT_ID": "52",
                                    "Termék db": "26"
                                },
                                {
                                    "KAT_ID": "78",
                                    "Termék db": "24"
                                },
                                {
                                    "KAT_ID": "6",
                                    "Termék db": "20"
                                },
                                {
                                    "KAT_ID": "19",
                                    "Termék db": "19"
                                },
                                {
                                    "KAT_ID": "145",
                                    "Termék db": "18"
                                },
                                {
                                    "KAT_ID": "85",
                                    "Termék db": "16"
                                },
                                {
                                    "KAT_ID": "4",
                                    "Termék db": "15"
                                },
                                {
                                    "KAT_ID": "41",
                                    "Termék db": "13"
                                },
                                {
                                    "KAT_ID": "45",
                                    "Termék db": "11"
                                },
                                {
                                    "KAT_ID": "97",
                                    "Termék db": "10"
                                },
                                {
                                    "KAT_ID": "124",
                                    "Termék db": "10"
                                },
                                {
                                    "KAT_ID": "100",
                                    "Termék db": "9"
                                },
                                {
                                    "KAT_ID": "96",
                                    "Termék db": "9"
                                },
                                {
                                    "KAT_ID": "118",
                                    "Termék db": "9"
                                },
                                {
                                    "KAT_ID": "91",
                                    "Termék db": "7"
                                },
                                {
                                    "KAT_ID": "93",
                                    "Termék db": "7"
                                },
                                {
                                    "KAT_ID": "122",
                                    "Termék db": "7"
                                },
                                {
                                    "KAT_ID": "146",
                                    "Termék db": "7"
                                },
                                {
                                    "KAT_ID": "46",
                                    "Termék db": "7"
                                },
                                {
                                    "KAT_ID": "66",
                                    "Termék db": "7"
                                },
                                {
                                    "KAT_ID": "35",
                                    "Termék db": "7"
                                },
                                {
                                    "KAT_ID": "24",
                                    "Termék db": "7"
                                },
                                {
                                    "KAT_ID": "30",
                                    "Termék db": "7"
                                },
                                {
                                    "KAT_ID": "16",
                                    "Termék db": "7"
                                },
                                {
                                    "KAT_ID": "54",
                                    "Termék db": "6"
                                },
                                {
                                    "KAT_ID": "149",
                                    "Termék db": "6"
                                },
                                {
                                    "KAT_ID": "152",
                                    "Termék db": "6"
                                },
                                {
                                    "KAT_ID": "133",
                                    "Termék db": "6"
                                },
                                {
                                    "KAT_ID": "83",
                                    "Termék db": "6"
                                },
                                {
                                    "KAT_ID": "76",
                                    "Termék db": "5"
                                },
                                {
                                    "KAT_ID": "106",
                                    "Termék db": "5"
                                },
                                {
                                    "KAT_ID": "138",
                                    "Termék db": "5"
                                },
                                {
                                    "KAT_ID": "60",
                                    "Termék db": "5"
                                },
                                {
                                    "KAT_ID": "21",
                                    "Termék db": "5"
                                },
                                {
                                    "KAT_ID": "28",
                                    "Termék db": "5"
                                },
                                {
                                    "KAT_ID": "36",
                                    "Termék db": "5"
                                },
                                {
                                    "KAT_ID": "25",
                                    "Termék db": "4"
                                },
                                {
                                    "KAT_ID": "14",
                                    "Termék db": "4"
                                },
                                {
                                    "KAT_ID": "64",
                                    "Termék db": "4"
                                },
                                {
                                    "KAT_ID": "79",
                                    "Termék db": "4"
                                },
                                {
                                    "KAT_ID": "56",
                                    "Termék db": "4"
                                },
                                {
                                    "KAT_ID": "59",
                                    "Termék db": "4"
                                },
                                {
                                    "KAT_ID": "47",
                                    "Termék db": "4"
                                },
                                {
                                    "KAT_ID": "125",
                                    "Termék db": "4"
                                },
                                {
                                    "KAT_ID": "154",
                                    "Termék db": "4"
                                },
                                {
                                    "KAT_ID": "151",
                                    "Termék db": "4"
                                },
                                {
                                    "KAT_ID": "98",
                                    "Termék db": "4"
                                },
                                {
                                    "KAT_ID": "89",
                                    "Termék db": "3"
                                },
                                {
                                    "KAT_ID": "119",
                                    "Termék db": "3"
                                },
                                {
                                    "KAT_ID": "111",
                                    "Termék db": "3"
                                },
                                {
                                    "KAT_ID": "143",
                                    "Termék db": "3"
                                },
                                {
                                    "KAT_ID": "137",
                                    "Termék db": "3"
                                },
                                {
                                    "KAT_ID": "43",
                                    "Termék db": "3"
                                },
                                {
                                    "KAT_ID": "27",
                                    "Termék db": "3"
                                },
                                {
                                    "KAT_ID": "51",
                                    "Termék db": "3"
                                },
                                {
                                    "KAT_ID": "58",
                                    "Termék db": "3"
                                },
                                {
                                    "KAT_ID": "70",
                                    "Termék db": "3"
                                },
                                {
                                    "KAT_ID": "5",
                                    "Termék db": "3"
                                },
                                {
                                    "KAT_ID": "7",
                                    "Termék db": "3"
                                },
                                {
                                    "KAT_ID": "8",
                                    "Termék db": "3"
                                },
                                {
                                    "KAT_ID": "20",
                                    "Termék db": "3"
                                },
                                {
                                    "KAT_ID": "32",
                                    "Termék db": "3"
                                },
                                {
                                    "KAT_ID": "39",
                                    "Termék db": "2"
                                },
                                {
                                    "KAT_ID": "22",
                                    "Termék db": "2"
                                },
                                {
                                    "KAT_ID": "13",
                                    "Termék db": "2"
                                },
                                {
                                    "KAT_ID": "18",
                                    "Termék db": "2"
                                },
                                {
                                    "KAT_ID": "9",
                                    "Termék db": "2"
                                },
                                {
                                    "KAT_ID": "71",
                                    "Termék db": "2"
                                },
                                {
                                    "KAT_ID": "72",
                                    "Termék db": "2"
                                },
                                {
                                    "KAT_ID": "73",
                                    "Termék db": "2"
                                },
                                {
                                    "KAT_ID": "65",
                                    "Termék db": "2"
                                },
                                {
                                    "KAT_ID": "67",
                                    "Termék db": "2"
                                },
                                {
                                    "KAT_ID": "68",
                                    "Termék db": "2"
                                },
                                {
                                    "KAT_ID": "62",
                                    "Termék db": "2"
                                },
                                {
                                    "KAT_ID": "75",
                                    "Termék db": "2"
                                },
                                {
                                    "KAT_ID": "57",
                                    "Termék db": "2"
                                },
                                {
                                    "KAT_ID": "55",
                                    "Termék db": "2"
                                },
                                {
                                    "KAT_ID": "48",
                                    "Termék db": "2"
                                },
                                {
                                    "KAT_ID": "49",
                                    "Termék db": "2"
                                },
                                {
                                    "KAT_ID": "136",
                                    "Termék db": "2"
                                },
                                {
                                    "KAT_ID": "134",
                                    "Termék db": "2"
                                },
                                {
                                    "KAT_ID": "141",
                                    "Termék db": "2"
                                },
                                {
                                    "KAT_ID": "123",
                                    "Termék db": "2"
                                },
                                {
                                    "KAT_ID": "127",
                                    "Termék db": "2"
                                },
                                {
                                    "KAT_ID": "128",
                                    "Termék db": "2"
                                },
                                {
                                    "KAT_ID": "129",
                                    "Termék db": "2"
                                },
                                {
                                    "KAT_ID": "144",
                                    "Termék db": "2"
                                },
                                {
                                    "KAT_ID": "150",
                                    "Termék db": "2"
                                },
                                {
                                    "KAT_ID": "112",
                                    "Termék db": "2"
                                },
                                {
                                    "KAT_ID": "121",
                                    "Termék db": "2"
                                },
                                {
                                    "KAT_ID": "116",
                                    "Termék db": "2"
                                },
                                {
                                    "KAT_ID": "117",
                                    "Termék db": "2"
                                },
                                {
                                    "KAT_ID": "110",
                                    "Termék db": "2"
                                },
                                {
                                    "KAT_ID": "104",
                                    "Termék db": "2"
                                },
                                {
                                    "KAT_ID": "90",
                                    "Termék db": "2"
                                },
                                {
                                    "KAT_ID": "88",
                                    "Termék db": "2"
                                },
                                {
                                    "KAT_ID": "94",
                                    "Termék db": "2"
                                },
                                {
                                    "KAT_ID": "95",
                                    "Termék db": "2"
                                },
                                {
                                    "KAT_ID": "92",
                                    "Termék db": "2"
                                },
                                {
                                    "KAT_ID": "99",
                                    "Termék db": "1"
                                },
                                {
                                    "KAT_ID": "101",
                                    "Termék db": "1"
                                },
                                {
                                    "KAT_ID": "103",
                                    "Termék db": "1"
                                },
                                {
                                    "KAT_ID": "84",
                                    "Termék db": "1"
                                },
                                {
                                    "KAT_ID": "86",
                                    "Termék db": "1"
                                },
                                {
                                    "KAT_ID": "105",
                                    "Termék db": "1"
                                },
                                {
                                    "KAT_ID": "107",
                                    "Termék db": "1"
                                },
                                {
                                    "KAT_ID": "108",
                                    "Termék db": "1"
                                },
                                {
                                    "KAT_ID": "109",
                                    "Termék db": "1"
                                },
                                {
                                    "KAT_ID": "114",
                                    "Termék db": "1"
                                },
                                {
                                    "KAT_ID": "115",
                                    "Termék db": "1"
                                },
                                {
                                    "KAT_ID": "147",
                                    "Termék db": "1"
                                },
                                {
                                    "KAT_ID": "148",
                                    "Termék db": "1"
                                },
                                {
                                    "KAT_ID": "155",
                                    "Termék db": "1"
                                },
                                {
                                    "KAT_ID": "153",
                                    "Termék db": "1"
                                },
                                {
                                    "KAT_ID": "130",
                                    "Termék db": "1"
                                },
                                {
                                    "KAT_ID": "131",
                                    "Termék db": "1"
                                },
                                {
                                    "KAT_ID": "132",
                                    "Termék db": "1"
                                },
                                {
                                    "KAT_ID": "126",
                                    "Termék db": "1"
                                },
                                {
                                    "KAT_ID": "142",
                                    "Termék db": "1"
                                },
                                {
                                    "KAT_ID": "139",
                                    "Termék db": "1"
                                },
                                {
                                    "KAT_ID": "140",
                                    "Termék db": "1"
                                },
                                {
                                    "KAT_ID": "135",
                                    "Termék db": "1"
                                },
                                {
                                    "KAT_ID": "50",
                                    "Termék db": "1"
                                },
                                {
                                    "KAT_ID": "44",
                                    "Termék db": "1"
                                },
                                {
                                    "KAT_ID": "53",
                                    "Termék db": "1"
                                },
                                {
                                    "KAT_ID": "80",
                                    "Termék db": "1"
                                },
                                {
                                    "KAT_ID": "82",
                                    "Termék db": "1"
                                },
                                {
                                    "KAT_ID": "61",
                                    "Termék db": "1"
                                },
                                {
                                    "KAT_ID": "74",
                                    "Termék db": "1"
                                },
                                {
                                    "KAT_ID": "10",
                                    "Termék db": "1"
                                },
                                {
                                    "KAT_ID": "11",
                                    "Termék db": "1"
                                },
                                {
                                    "KAT_ID": "12",
                                    "Termék db": "1"
                                },
                                {
                                    "KAT_ID": "15",
                                    "Termék db": "1"
                                },
                                {
                                    "KAT_ID": "17",
                                    "Termék db": "1"
                                },
                                {
                                    "KAT_ID": "40",
                                    "Termék db": "1"
                                },
                                {
                                    "KAT_ID": "42",
                                    "Termék db": "1"
                                },
                                {
                                    "KAT_ID": "37",
                                    "Termék db": "1"
                                },
                                {
                                    "KAT_ID": "38",
                                    "Termék db": "1"
                                },
                                {
                                    "KAT_ID": "33",
                                    "Termék db": "1"
                                },
                                {
                                    "KAT_ID": "34",
                                    "Termék db": "1"
                                },
                                {
                                    "KAT_ID": "31",
                                    "Termék db": "1"
                                },
                                {
                                    "KAT_ID": "26",
                                    "Termék db": "1"
                                },
                                {
                                    "KAT_ID": "29",
                                    "Termék db": "1"
                                }
                            ]
                        },
                        "text/html": [
                            "<table>",
                            "<tr><th>KAT_ID</th><th>Termék db</th></tr>",
                            "<tr><td>Összesen</td><td>551</td></tr>",
                            "<tr><td>52</td><td>26</td></tr>",
                            "<tr><td>78</td><td>24</td></tr>",
                            "<tr><td>6</td><td>20</td></tr>",
                            "<tr><td>19</td><td>19</td></tr>",
                            "<tr><td>145</td><td>18</td></tr>",
                            "<tr><td>85</td><td>16</td></tr>",
                            "<tr><td>4</td><td>15</td></tr>",
                            "<tr><td>41</td><td>13</td></tr>",
                            "<tr><td>45</td><td>11</td></tr>",
                            "<tr><td>97</td><td>10</td></tr>",
                            "<tr><td>124</td><td>10</td></tr>",
                            "<tr><td>100</td><td>9</td></tr>",
                            "<tr><td>96</td><td>9</td></tr>",
                            "<tr><td>118</td><td>9</td></tr>",
                            "<tr><td>91</td><td>7</td></tr>",
                            "<tr><td>93</td><td>7</td></tr>",
                            "<tr><td>122</td><td>7</td></tr>",
                            "<tr><td>146</td><td>7</td></tr>",
                            "<tr><td>46</td><td>7</td></tr>",
                            "<tr><td>66</td><td>7</td></tr>",
                            "<tr><td>35</td><td>7</td></tr>",
                            "<tr><td>24</td><td>7</td></tr>",
                            "<tr><td>30</td><td>7</td></tr>",
                            "<tr><td>16</td><td>7</td></tr>",
                            "<tr><td>54</td><td>6</td></tr>",
                            "<tr><td>149</td><td>6</td></tr>",
                            "<tr><td>152</td><td>6</td></tr>",
                            "<tr><td>133</td><td>6</td></tr>",
                            "<tr><td>83</td><td>6</td></tr>",
                            "<tr><td>76</td><td>5</td></tr>",
                            "<tr><td>106</td><td>5</td></tr>",
                            "<tr><td>138</td><td>5</td></tr>",
                            "<tr><td>60</td><td>5</td></tr>",
                            "<tr><td>21</td><td>5</td></tr>",
                            "<tr><td>28</td><td>5</td></tr>",
                            "<tr><td>36</td><td>5</td></tr>",
                            "<tr><td>25</td><td>4</td></tr>",
                            "<tr><td>14</td><td>4</td></tr>",
                            "<tr><td>64</td><td>4</td></tr>",
                            "<tr><td>79</td><td>4</td></tr>",
                            "<tr><td>56</td><td>4</td></tr>",
                            "<tr><td>59</td><td>4</td></tr>",
                            "<tr><td>47</td><td>4</td></tr>",
                            "<tr><td>125</td><td>4</td></tr>",
                            "<tr><td>154</td><td>4</td></tr>",
                            "<tr><td>151</td><td>4</td></tr>",
                            "<tr><td>98</td><td>4</td></tr>",
                            "<tr><td>89</td><td>3</td></tr>",
                            "<tr><td>119</td><td>3</td></tr>",
                            "<tr><td>111</td><td>3</td></tr>",
                            "<tr><td>143</td><td>3</td></tr>",
                            "<tr><td>137</td><td>3</td></tr>",
                            "<tr><td>43</td><td>3</td></tr>",
                            "<tr><td>27</td><td>3</td></tr>",
                            "<tr><td>51</td><td>3</td></tr>",
                            "<tr><td>58</td><td>3</td></tr>",
                            "<tr><td>70</td><td>3</td></tr>",
                            "<tr><td>5</td><td>3</td></tr>",
                            "<tr><td>7</td><td>3</td></tr>",
                            "<tr><td>8</td><td>3</td></tr>",
                            "<tr><td>20</td><td>3</td></tr>",
                            "<tr><td>32</td><td>3</td></tr>",
                            "<tr><td>39</td><td>2</td></tr>",
                            "<tr><td>22</td><td>2</td></tr>",
                            "<tr><td>13</td><td>2</td></tr>",
                            "<tr><td>18</td><td>2</td></tr>",
                            "<tr><td>9</td><td>2</td></tr>",
                            "<tr><td>71</td><td>2</td></tr>",
                            "<tr><td>72</td><td>2</td></tr>",
                            "<tr><td>73</td><td>2</td></tr>",
                            "<tr><td>65</td><td>2</td></tr>",
                            "<tr><td>67</td><td>2</td></tr>",
                            "<tr><td>68</td><td>2</td></tr>",
                            "<tr><td>62</td><td>2</td></tr>",
                            "<tr><td>75</td><td>2</td></tr>",
                            "<tr><td>57</td><td>2</td></tr>",
                            "<tr><td>55</td><td>2</td></tr>",
                            "<tr><td>48</td><td>2</td></tr>",
                            "<tr><td>49</td><td>2</td></tr>",
                            "<tr><td>136</td><td>2</td></tr>",
                            "<tr><td>134</td><td>2</td></tr>",
                            "<tr><td>141</td><td>2</td></tr>",
                            "<tr><td>123</td><td>2</td></tr>",
                            "<tr><td>127</td><td>2</td></tr>",
                            "<tr><td>128</td><td>2</td></tr>",
                            "<tr><td>129</td><td>2</td></tr>",
                            "<tr><td>144</td><td>2</td></tr>",
                            "<tr><td>150</td><td>2</td></tr>",
                            "<tr><td>112</td><td>2</td></tr>",
                            "<tr><td>121</td><td>2</td></tr>",
                            "<tr><td>116</td><td>2</td></tr>",
                            "<tr><td>117</td><td>2</td></tr>",
                            "<tr><td>110</td><td>2</td></tr>",
                            "<tr><td>104</td><td>2</td></tr>",
                            "<tr><td>90</td><td>2</td></tr>",
                            "<tr><td>88</td><td>2</td></tr>",
                            "<tr><td>94</td><td>2</td></tr>",
                            "<tr><td>95</td><td>2</td></tr>",
                            "<tr><td>92</td><td>2</td></tr>",
                            "<tr><td>99</td><td>1</td></tr>",
                            "<tr><td>101</td><td>1</td></tr>",
                            "<tr><td>103</td><td>1</td></tr>",
                            "<tr><td>84</td><td>1</td></tr>",
                            "<tr><td>86</td><td>1</td></tr>",
                            "<tr><td>105</td><td>1</td></tr>",
                            "<tr><td>107</td><td>1</td></tr>",
                            "<tr><td>108</td><td>1</td></tr>",
                            "<tr><td>109</td><td>1</td></tr>",
                            "<tr><td>114</td><td>1</td></tr>",
                            "<tr><td>115</td><td>1</td></tr>",
                            "<tr><td>147</td><td>1</td></tr>",
                            "<tr><td>148</td><td>1</td></tr>",
                            "<tr><td>155</td><td>1</td></tr>",
                            "<tr><td>153</td><td>1</td></tr>",
                            "<tr><td>130</td><td>1</td></tr>",
                            "<tr><td>131</td><td>1</td></tr>",
                            "<tr><td>132</td><td>1</td></tr>",
                            "<tr><td>126</td><td>1</td></tr>",
                            "<tr><td>142</td><td>1</td></tr>",
                            "<tr><td>139</td><td>1</td></tr>",
                            "<tr><td>140</td><td>1</td></tr>",
                            "<tr><td>135</td><td>1</td></tr>",
                            "<tr><td>50</td><td>1</td></tr>",
                            "<tr><td>44</td><td>1</td></tr>",
                            "<tr><td>53</td><td>1</td></tr>",
                            "<tr><td>80</td><td>1</td></tr>",
                            "<tr><td>82</td><td>1</td></tr>",
                            "<tr><td>61</td><td>1</td></tr>",
                            "<tr><td>74</td><td>1</td></tr>",
                            "<tr><td>10</td><td>1</td></tr>",
                            "<tr><td>11</td><td>1</td></tr>",
                            "<tr><td>12</td><td>1</td></tr>",
                            "<tr><td>15</td><td>1</td></tr>",
                            "<tr><td>17</td><td>1</td></tr>",
                            "<tr><td>40</td><td>1</td></tr>",
                            "<tr><td>42</td><td>1</td></tr>",
                            "<tr><td>37</td><td>1</td></tr>",
                            "<tr><td>38</td><td>1</td></tr>",
                            "<tr><td>33</td><td>1</td></tr>",
                            "<tr><td>34</td><td>1</td></tr>",
                            "<tr><td>31</td><td>1</td></tr>",
                            "<tr><td>26</td><td>1</td></tr>",
                            "<tr><td>29</td><td>1</td></tr>",
                            "</table>"
                        ]
                    }
                }
            ],
            "execution_count": 85
        },
        {
            "cell_type": "code",
            "source": [
                "--min, max, atlag fuggveny\n",
                "SELECT \n",
                "    MIN(LISTAAR) AS 'Legolcsóbb',\n",
                "    MAX(LISTAAR) AS 'Legdrágább',\n",
                "    AVG(LISTAAR) AS 'Átlagos ár'\n",
                "FROM Termek\n",
                "WHERE LISTAAR IS NOT NULL;"
            ],
            "metadata": {
                "language": "sql",
                "azdata_cell_guid": "ab597676-e72c-477a-9c01-ec32abf00d30"
            },
            "outputs": [
                {
                    "output_type": "display_data",
                    "data": {
                        "text/html": "(1 row affected)"
                    },
                    "metadata": {}
                },
                {
                    "output_type": "display_data",
                    "data": {
                        "text/html": "Total execution time: 00:00:00.235"
                    },
                    "metadata": {}
                },
                {
                    "output_type": "execute_result",
                    "metadata": {},
                    "execution_count": 88,
                    "data": {
                        "application/vnd.dataresource+json": {
                            "schema": {
                                "fields": [
                                    {
                                        "name": "Legolcsóbb"
                                    },
                                    {
                                        "name": "Legdrágább"
                                    },
                                    {
                                        "name": "Átlagos ár"
                                    }
                                ]
                            },
                            "data": [
                                {
                                    "Legolcsóbb": "0",
                                    "Legdrágább": "46000",
                                    "Átlagos ár": "786,2813067150635"
                                }
                            ]
                        },
                        "text/html": [
                            "<table>",
                            "<tr><th>Legolcsóbb</th><th>Legdrágább</th><th>Átlagos ár</th></tr>",
                            "<tr><td>0</td><td>46000</td><td>786,2813067150635</td></tr>",
                            "</table>"
                        ]
                    }
                }
            ],
            "execution_count": 88
        },
        {
            "cell_type": "code",
            "source": [
                "--Adatok bevitelenek evi es havi eloszlasa\n",
                "SELECT \n",
                "    YEAR(FELVITEL) AS 'Év', \n",
                "    MONTH(FELVITEL) AS 'Hónap', \n",
                "    COUNT(*) AS 'Termékek száma'\n",
                "FROM Termek\n",
                "GROUP BY YEAR(FELVITEL), MONTH(FELVITEL)\n",
                "ORDER BY YEAR(FELVITEL), MONTH(FELVITEL)"
            ],
            "metadata": {
                "language": "sql",
                "azdata_cell_guid": "1057eb46-5e8e-4c54-97ae-50f509a935d6"
            },
            "outputs": [
                {
                    "output_type": "display_data",
                    "data": {
                        "text/html": "(4 rows affected)"
                    },
                    "metadata": {}
                },
                {
                    "output_type": "display_data",
                    "data": {
                        "text/html": "Total execution time: 00:00:01.228"
                    },
                    "metadata": {}
                },
                {
                    "output_type": "execute_result",
                    "metadata": {},
                    "execution_count": 84,
                    "data": {
                        "application/vnd.dataresource+json": {
                            "schema": {
                                "fields": [
                                    {
                                        "name": "Év"
                                    },
                                    {
                                        "name": "Hónap"
                                    },
                                    {
                                        "name": "Termékek száma"
                                    }
                                ]
                            },
                            "data": [
                                {
                                    "Év": "2016",
                                    "Hónap": "7",
                                    "Termékek száma": "355"
                                },
                                {
                                    "Év": "2016",
                                    "Hónap": "8",
                                    "Termékek száma": "194"
                                },
                                {
                                    "Év": "2016",
                                    "Hónap": "9",
                                    "Termékek száma": "1"
                                },
                                {
                                    "Év": "2016",
                                    "Hónap": "12",
                                    "Termékek száma": "1"
                                }
                            ]
                        },
                        "text/html": [
                            "<table>",
                            "<tr><th>Év</th><th>Hónap</th><th>Termékek száma</th></tr>",
                            "<tr><td>2016</td><td>7</td><td>355</td></tr>",
                            "<tr><td>2016</td><td>8</td><td>194</td></tr>",
                            "<tr><td>2016</td><td>9</td><td>1</td></tr>",
                            "<tr><td>2016</td><td>12</td><td>1</td></tr>",
                            "</table>"
                        ]
                    }
                }
            ],
            "execution_count": 84
        }
    ]
}