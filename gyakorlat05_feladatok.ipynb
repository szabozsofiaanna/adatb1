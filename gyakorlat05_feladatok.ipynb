{
    "metadata": {
        "kernelspec": {
            "name": "SQL",
            "display_name": "SQL",
            "language": "sql"
        },
        "language_info": {
            "name": "sql",
            "version": ""
        }
    },
    "nbformat_minor": 2,
    "nbformat": 4,
    "cells": [
        {
            "cell_type": "markdown",
            "source": [
                "1. <span style=\"color: rgb(36, 41, 47); font-family: -apple-system, BlinkMacSystemFont, &quot;Segoe UI&quot;, Helvetica, Arial, sans-serif, &quot;Apple Color Emoji&quot;, &quot;Segoe UI Emoji&quot;; font-size: 16px;\">Készítsünk listát éves bontásban norbert2 azonosítójú ügyfél rendeléseinek értékéről!</span>\n",
                "\n",
                "1. A lista megfelelően jelölve tartalmazza a végösszeget is!"
            ],
            "metadata": {
                "azdata_cell_guid": "363cd270-6577-449b-9c89-d4b7c7972d52"
            },
            "attachments": {}
        },
        {
            "cell_type": "code",
            "source": [
                "SELECT CASE GROUPING_ID (YEAR(r.rend_datum))\r\n",
                "WHEN 1 THEN 'Összesen'\r\n",
                "ELSE CAST(YEAR(r.REND_DATUM) AS nvarchar(4)) END,\r\n",
                "SUM(rt.MENNYISEG * rt.EGYSEGAR) as 'Rendelések összege'\r\n",
                "FROM Rendeles_tetel rt JOIN Rendeles r ON rt.sorszam = r.sorszam\r\n",
                "WHERE r.[LOGIN] = 'norbert2'\r\n",
                "GROUP BY ROLLUP(YEAR(r.rend_datum))"
            ],
            "metadata": {
                "azdata_cell_guid": "6ab9f633-a3b5-48c9-a1dc-4fb8235ae85b",
                "language": "sql"
            },
            "outputs": [
                {
                    "output_type": "display_data",
                    "data": {
                        "text/html": "(3 rows affected)"
                    },
                    "metadata": {}
                },
                {
                    "output_type": "display_data",
                    "data": {
                        "text/html": "Total execution time: 00:00:00.019"
                    },
                    "metadata": {}
                },
                {
                    "output_type": "execute_result",
                    "metadata": {},
                    "execution_count": 7,
                    "data": {
                        "application/vnd.dataresource+json": {
                            "schema": {
                                "fields": [
                                    {
                                        "name": "(No column name)"
                                    },
                                    {
                                        "name": "Rendelések összege"
                                    }
                                ]
                            },
                            "data": [
                                {
                                    "(No column name)": "2015",
                                    "Rendelések összege": "483473"
                                },
                                {
                                    "(No column name)": "2017",
                                    "Rendelések összege": "614340"
                                },
                                {
                                    "(No column name)": "Összesen",
                                    "Rendelések összege": "1097813"
                                }
                            ]
                        },
                        "text/html": [
                            "<table>",
                            "<tr><th>(No column name)</th><th>Rendelések összege</th></tr>",
                            "<tr><td>2015</td><td>483473</td></tr>",
                            "<tr><td>2017</td><td>614340</td></tr>",
                            "<tr><td>Összesen</td><td>1097813</td></tr>",
                            "</table>"
                        ]
                    }
                }
            ],
            "execution_count": 7
        },
        {
            "cell_type": "markdown",
            "source": [
                "2. <span style=\"color: rgb(36, 41, 47); font-family: -apple-system, BlinkMacSystemFont, &quot;Segoe UI&quot;, Helvetica, Arial, sans-serif, &quot;Apple Color Emoji&quot;, &quot;Segoe UI Emoji&quot;; font-size: 16px;\">Készítsünk listát szállítási dátumonként, azon belül szállítási módonként az egyes rendelések összmennyiségéről!</span>\n",
                "\n",
                "1. Csak azokat a termékeket vegyük figyelembe, amelyek mennyiségi egysége db!\n",
                "2. A listát szűrjük úgy, hogy az csak a részösszeg sorokat és a végösszeget tartalmazza!"
            ],
            "metadata": {
                "azdata_cell_guid": "ea75c103-911f-41a3-a32c-3d40fb3e4e4a"
            },
            "attachments": {}
        },
        {
            "cell_type": "code",
            "source": [
                ""
            ],
            "metadata": {
                "azdata_cell_guid": "222b9618-a8e8-42b4-a8e8-d002257122b7",
                "language": "sql"
            },
            "outputs": [],
            "execution_count": null
        },
        {
            "cell_type": "markdown",
            "source": [
                "```\n",
                "3. Hány olyan ügyfél van, aki még nem rendelt semmit?\n",
                "```\n",
                "\n",
                "1. Csoportosítsuk őket nem szerint, azon belül életkor szerint!\n",
                "2. A lista tartalmazza a részösszegeket és a végösszeget is!\n",
                "\n",
                "![](https://moodle.uni-corvinus.hu/theme/image.php/adaptable/atto_h5p/1709548862/icon)"
            ],
            "metadata": {
                "azdata_cell_guid": "d7876bb9-76d0-4d07-baed-3cb17b2f96c3"
            },
            "attachments": {}
        },
        {
            "cell_type": "code",
            "source": [
                ""
            ],
            "metadata": {
                "azdata_cell_guid": "56ec19ce-e249-4551-b2a8-f17569765acc",
                "language": "sql"
            },
            "outputs": [],
            "execution_count": null
        },
        {
            "cell_type": "markdown",
            "source": [
                "4. <span style=\"color: rgb(36, 41, 47); font-family: -apple-system, BlinkMacSystemFont, &quot;Segoe UI&quot;, Helvetica, Arial, sans-serif, &quot;Apple Color Emoji&quot;, &quot;Segoe UI Emoji&quot;; font-size: 16px;\">Készítsünk listát a megrendelt termékek legkisebb és legnagyobb egységáráról szállítási dátum, azon belül szállítási mód szerinti bontásban!</span>\n",
                "\n",
                "1. A lista csak a 2015 májusi szállításokat tartalmazza!\n",
                "2. Jelenítsük meg a részösszegeket és a végösszeget is!"
            ],
            "metadata": {
                "azdata_cell_guid": "8e7fef82-8022-49a0-8255-fc2846c2134b"
            },
            "attachments": {}
        },
        {
            "cell_type": "code",
            "source": [
                ""
            ],
            "metadata": {
                "azdata_cell_guid": "36f7b396-4a1f-45e5-8720-2302537c91bc",
                "language": "sql"
            },
            "outputs": [],
            "execution_count": null
        },
        {
            "cell_type": "markdown",
            "source": [
                "5. <span style=\"color: rgb(36, 41, 47); font-family: -apple-system, BlinkMacSystemFont, &quot;Segoe UI&quot;, Helvetica, Arial, sans-serif, &quot;Apple Color Emoji&quot;, &quot;Segoe UI Emoji&quot;; font-size: 16px;\">Készítsünk csoportot a termékek listaára alapján a következők szerint:&nbsp;<br></span> <span style=\"color: rgb(36, 41, 47); font-family: -apple-system, BlinkMacSystemFont, &quot;Segoe UI&quot;, Helvetica, Arial, sans-serif, &quot;Apple Color Emoji&quot;, &quot;Segoe UI Emoji&quot;; font-size: 16px;\">Az \"olcsó\" termékek legyenek azok, amelyek listaára 3000 alatt van.<br>&nbsp;A \"drága\" termékek legyenek az 5000 felettiek, a többi legyen \"közepes\".</span>\n",
                "\n",
                "1. Listázzuk az egyes csoportokat, és a csoportokba tartozó termékek darabszámát!\n",
                "2. A lista jelenítse meg a végösszeget is!"
            ],
            "metadata": {
                "azdata_cell_guid": "84239ca2-6b5e-49f5-9860-d44c11d6de32"
            },
            "attachments": {}
        },
        {
            "cell_type": "code",
            "source": [
                "SELECT CASE WHEN LISTAAR < 3000 THEN 'olcsó'\r\n",
                "        WHEN LISTAAR > 5000 THEN 'drága'\r\n",
                "        ELSE 'közepes' END as 'Csoportok',\r\n",
                "COUNT(termekkod) as 'Termékek darabszáma'\r\n",
                "FROM Termek\r\n",
                "GROUP BY ROLLUP(CASE WHEN LISTAAR < 3000 THEN 'olcsó'\r\n",
                "        WHEN LISTAAR > 5000 THEN 'drága'\r\n",
                "        ELSE 'közepes'END)"
            ],
            "metadata": {
                "azdata_cell_guid": "06d9a62b-9430-424b-a135-d80e675f0eb3",
                "language": "sql"
            },
            "outputs": [
                {
                    "output_type": "display_data",
                    "data": {
                        "text/html": "(4 rows affected)"
                    },
                    "metadata": {}
                },
                {
                    "output_type": "display_data",
                    "data": {
                        "text/html": "Total execution time: 00:00:00.007"
                    },
                    "metadata": {}
                },
                {
                    "output_type": "execute_result",
                    "metadata": {},
                    "execution_count": 8,
                    "data": {
                        "application/vnd.dataresource+json": {
                            "schema": {
                                "fields": [
                                    {
                                        "name": "Csoportok"
                                    },
                                    {
                                        "name": "Termékek darabszáma"
                                    }
                                ]
                            },
                            "data": [
                                {
                                    "Csoportok": "drága",
                                    "Termékek darabszáma": "20"
                                },
                                {
                                    "Csoportok": "közepes",
                                    "Termékek darabszáma": "5"
                                },
                                {
                                    "Csoportok": "olcsó",
                                    "Termékek darabszáma": "526"
                                },
                                {
                                    "Csoportok": "NULL",
                                    "Termékek darabszáma": "551"
                                }
                            ]
                        },
                        "text/html": [
                            "<table>",
                            "<tr><th>Csoportok</th><th>Termékek darabszáma</th></tr>",
                            "<tr><td>drága</td><td>20</td></tr>",
                            "<tr><td>közepes</td><td>5</td></tr>",
                            "<tr><td>olcsó</td><td>526</td></tr>",
                            "<tr><td>NULL</td><td>551</td></tr>",
                            "</table>"
                        ]
                    }
                }
            ],
            "execution_count": 8
        },
        {
            "cell_type": "markdown",
            "source": [
                "6. <span style=\"font-weight: 600; color: rgb(36, 41, 47); font-family: -apple-system, BlinkMacSystemFont, &quot;Segoe UI&quot;, Helvetica, Arial, sans-serif, &quot;Apple Color Emoji&quot;, &quot;Segoe UI Emoji&quot;; font-size: 16px;\">Készítsünk listát az ügyfelek adatairól név szerinti sorrendben.</span>\n",
                "\n",
                "1. Minden sorban jelenjen meg a sorrend szerint előző, illetve következő ügyfél neve is.\n",
                "2. Ha nincs előző vagy következő ügyfél, akkor a 'Nincs' jelenjen meg!"
            ],
            "metadata": {
                "azdata_cell_guid": "b0d15045-3c43-4f3a-b8d4-76b4f24e5546"
            },
            "attachments": {}
        },
        {
            "cell_type": "code",
            "source": [
                ""
            ],
            "metadata": {
                "azdata_cell_guid": "f2b7400d-1255-40ac-9250-4d57f9da5357",
                "language": "sql"
            },
            "outputs": [],
            "execution_count": null
        },
        {
            "cell_type": "markdown",
            "source": [
                "7. <span style=\"font-weight: 600; color: rgb(36, 41, 47); font-family: -apple-system, BlinkMacSystemFont, &quot;Segoe UI&quot;, Helvetica, Arial, sans-serif, &quot;Apple Color Emoji&quot;, &quot;Segoe UI Emoji&quot;; font-size: 16px;\">Készítsünk lekérdezést, amely megmutatja, hogy melyik termékkategóriába hány termék tartozik. A lista a kategória nevét és a darabszámot jelenítse meg.</span>\n",
                "\n",
                "1. A lista ne tartalmazzon duplikált sorokat.\n",
                "2. A feladatot partíciók segítségével oldjuk meg!"
            ],
            "metadata": {
                "azdata_cell_guid": "7ebf7ddd-1bd2-4246-815a-be8ae37e3b5b"
            },
            "attachments": {}
        },
        {
            "cell_type": "code",
            "source": [
                "SELECT DISTINCT(tk.KAT_NEV) as 'Kategória neve',\r\n",
                "COUNT(t.TERMEKKOD) OVER(PARTITION BY tk.KAT_NEV),\r\n",
                "t.listaar --vagy COUNT(*)\r\n",
                "FROM Termek t JOIN Termekkategoria tk ON t.KAT_ID = tk.KAT_ID\r\n",
                "--GROUP BY tk.KAT_NEV --> kivalthato a partition by es distinct kulcsszavakkal, igy megjelenithetunk mast is, pl listaarat"
            ],
            "metadata": {
                "azdata_cell_guid": "84b7e896-f36e-4985-88f5-e0f706494fef",
                "language": "sql"
            },
            "outputs": [
                {
                    "output_type": "display_data",
                    "data": {
                        "text/html": "(497 rows affected)"
                    },
                    "metadata": {}
                },
                {
                    "output_type": "display_data",
                    "data": {
                        "text/html": "Total execution time: 00:00:00.015"
                    },
                    "metadata": {}
                },
                {
                    "output_type": "execute_result",
                    "metadata": {},
                    "execution_count": 13,
                    "data": {
                        "application/vnd.dataresource+json": {
                            "schema": {
                                "fields": [
                                    {
                                        "name": "Kategória neve"
                                    },
                                    {
                                        "name": "(No column name)"
                                    },
                                    {
                                        "name": "listaar"
                                    }
                                ]
                            },
                            "data": [
                                {
                                    "Kategória neve": "ajándék tárgy",
                                    "(No column name)": "3",
                                    "listaar": "24"
                                },
                                {
                                    "Kategória neve": "ajándék tárgy",
                                    "(No column name)": "3",
                                    "listaar": "73"
                                },
                                {
                                    "Kategória neve": "ajándék tárgy",
                                    "(No column name)": "3",
                                    "listaar": "129"
                                },
                                {
                                    "Kategória neve": "ajándék tasak",
                                    "(No column name)": "20",
                                    "listaar": "11"
                                },
                                {
                                    "Kategória neve": "ajándék tasak",
                                    "(No column name)": "20",
                                    "listaar": "19"
                                },
                                {
                                    "Kategória neve": "ajándék tasak",
                                    "(No column name)": "20",
                                    "listaar": "26"
                                },
                                {
                                    "Kategória neve": "ajándék tasak",
                                    "(No column name)": "20",
                                    "listaar": "40"
                                },
                                {
                                    "Kategória neve": "ajándék tasak",
                                    "(No column name)": "20",
                                    "listaar": "64"
                                },
                                {
                                    "Kategória neve": "ajándék tasak",
                                    "(No column name)": "20",
                                    "listaar": "81"
                                },
                                {
                                    "Kategória neve": "ajándék tasak",
                                    "(No column name)": "20",
                                    "listaar": "103"
                                },
                                {
                                    "Kategória neve": "ajándék tasak",
                                    "(No column name)": "20",
                                    "listaar": "114"
                                },
                                {
                                    "Kategória neve": "ajándék tasak",
                                    "(No column name)": "20",
                                    "listaar": "125"
                                },
                                {
                                    "Kategória neve": "ajándék tasak",
                                    "(No column name)": "20",
                                    "listaar": "148"
                                },
                                {
                                    "Kategória neve": "ajándék tasak",
                                    "(No column name)": "20",
                                    "listaar": "169"
                                },
                                {
                                    "Kategória neve": "ajándék tasak",
                                    "(No column name)": "20",
                                    "listaar": "185"
                                },
                                {
                                    "Kategória neve": "ajándék tasak",
                                    "(No column name)": "20",
                                    "listaar": "206"
                                },
                                {
                                    "Kategória neve": "ajándék tasak",
                                    "(No column name)": "20",
                                    "listaar": "214"
                                },
                                {
                                    "Kategória neve": "ajándék tasak",
                                    "(No column name)": "20",
                                    "listaar": "290"
                                },
                                {
                                    "Kategória neve": "álarc",
                                    "(No column name)": "3",
                                    "listaar": "89"
                                },
                                {
                                    "Kategória neve": "álarc",
                                    "(No column name)": "3",
                                    "listaar": "144"
                                },
                                {
                                    "Kategória neve": "alkalmi",
                                    "(No column name)": "3",
                                    "listaar": "16900"
                                },
                                {
                                    "Kategória neve": "alkalmi",
                                    "(No column name)": "3",
                                    "listaar": "32000"
                                },
                                {
                                    "Kategória neve": "alufólia",
                                    "(No column name)": "2",
                                    "listaar": "118"
                                },
                                {
                                    "Kategória neve": "alufólia",
                                    "(No column name)": "2",
                                    "listaar": "214"
                                },
                                {
                                    "Kategória neve": "árazószalag",
                                    "(No column name)": "1",
                                    "listaar": "106"
                                },
                                {
                                    "Kategória neve": "átírótömb",
                                    "(No column name)": "1",
                                    "listaar": "115"
                                },
                                {
                                    "Kategória neve": "beíró",
                                    "(No column name)": "1",
                                    "listaar": "228"
                                },
                                {
                                    "Kategória neve": "beírókönyv",
                                    "(No column name)": "2",
                                    "listaar": "133"
                                },
                                {
                                    "Kategória neve": "beírókönyv",
                                    "(No column name)": "2",
                                    "listaar": "328"
                                },
                                {
                                    "Kategória neve": "bélyegző",
                                    "(No column name)": "4",
                                    "listaar": "650"
                                },
                                {
                                    "Kategória neve": "bélyegző",
                                    "(No column name)": "4",
                                    "listaar": "780"
                                },
                                {
                                    "Kategória neve": "bélyegző",
                                    "(No column name)": "4",
                                    "listaar": "1147"
                                },
                                {
                                    "Kategória neve": "bélyegző",
                                    "(No column name)": "4",
                                    "listaar": "1377"
                                },
                                {
                                    "Kategória neve": "bélyegzőfesték",
                                    "(No column name)": "1",
                                    "listaar": "297"
                                },
                                {
                                    "Kategória neve": "boríték",
                                    "(No column name)": "7",
                                    "listaar": "3"
                                },
                                {
                                    "Kategória neve": "boríték",
                                    "(No column name)": "7",
                                    "listaar": "6"
                                },
                                {
                                    "Kategória neve": "boríték",
                                    "(No column name)": "7",
                                    "listaar": "15"
                                },
                                {
                                    "Kategória neve": "boríték",
                                    "(No column name)": "7",
                                    "listaar": "18"
                                },
                                {
                                    "Kategória neve": "boríték",
                                    "(No column name)": "7",
                                    "listaar": "39"
                                },
                                {
                                    "Kategória neve": "cd tok",
                                    "(No column name)": "1",
                                    "listaar": "30"
                                },
                                {
                                    "Kategória neve": "celofán",
                                    "(No column name)": "2",
                                    "listaar": "46"
                                },
                                {
                                    "Kategória neve": "celofán",
                                    "(No column name)": "2",
                                    "listaar": "73"
                                },
                                {
                                    "Kategória neve": "ceruza",
                                    "(No column name)": "19",
                                    "listaar": "11"
                                },
                                {
                                    "Kategória neve": "ceruza",
                                    "(No column name)": "19",
                                    "listaar": "23"
                                },
                                {
                                    "Kategória neve": "ceruza",
                                    "(No column name)": "19",
                                    "listaar": "30"
                                },
                                {
                                    "Kategória neve": "ceruza",
                                    "(No column name)": "19",
                                    "listaar": "35"
                                },
                                {
                                    "Kategória neve": "ceruza",
                                    "(No column name)": "19",
                                    "listaar": "36"
                                },
                                {
                                    "Kategória neve": "ceruza",
                                    "(No column name)": "19",
                                    "listaar": "39"
                                },
                                {
                                    "Kategória neve": "ceruza",
                                    "(No column name)": "19",
                                    "listaar": "40"
                                },
                                {
                                    "Kategória neve": "ceruza",
                                    "(No column name)": "19",
                                    "listaar": "44"
                                },
                                {
                                    "Kategória neve": "ceruza",
                                    "(No column name)": "19",
                                    "listaar": "53"
                                },
                                {
                                    "Kategória neve": "ceruza",
                                    "(No column name)": "19",
                                    "listaar": "55"
                                },
                                {
                                    "Kategória neve": "ceruza",
                                    "(No column name)": "19",
                                    "listaar": "58"
                                },
                                {
                                    "Kategória neve": "ceruza",
                                    "(No column name)": "19",
                                    "listaar": "59"
                                },
                                {
                                    "Kategória neve": "ceruza",
                                    "(No column name)": "19",
                                    "listaar": "106"
                                },
                                {
                                    "Kategória neve": "ceruza",
                                    "(No column name)": "19",
                                    "listaar": "146"
                                },
                                {
                                    "Kategória neve": "címke",
                                    "(No column name)": "3",
                                    "listaar": "20"
                                },
                                {
                                    "Kategória neve": "címke",
                                    "(No column name)": "3",
                                    "listaar": "26"
                                },
                                {
                                    "Kategória neve": "címke",
                                    "(No column name)": "3",
                                    "listaar": "31"
                                },
                                {
                                    "Kategória neve": "color copy",
                                    "(No column name)": "5",
                                    "listaar": "10"
                                },
                                {
                                    "Kategória neve": "color copy",
                                    "(No column name)": "5",
                                    "listaar": "14"
                                },
                                {
                                    "Kategória neve": "color copy",
                                    "(No column name)": "5",
                                    "listaar": "15"
                                },
                                {
                                    "Kategória neve": "color copy",
                                    "(No column name)": "5",
                                    "listaar": "1500"
                                },
                                {
                                    "Kategória neve": "csomagoló",
                                    "(No column name)": "2",
                                    "listaar": "89"
                                },
                                {
                                    "Kategória neve": "csomagoló",
                                    "(No column name)": "2",
                                    "listaar": "110"
                                },
                                {
                                    "Kategória neve": "csomagoló papír",
                                    "(No column name)": "7",
                                    "listaar": "23"
                                },
                                {
                                    "Kategória neve": "csomagoló papír",
                                    "(No column name)": "7",
                                    "listaar": "44"
                                },
                                {
                                    "Kategória neve": "csomagoló papír",
                                    "(No column name)": "7",
                                    "listaar": "56"
                                },
                                {
                                    "Kategória neve": "csomagoló papír",
                                    "(No column name)": "7",
                                    "listaar": "106"
                                },
                                {
                                    "Kategória neve": "csomagoló papír",
                                    "(No column name)": "7",
                                    "listaar": "121"
                                },
                                {
                                    "Kategória neve": "csomagoló papír",
                                    "(No column name)": "7",
                                    "listaar": "148"
                                },
                                {
                                    "Kategória neve": "csomagoló papír",
                                    "(No column name)": "7",
                                    "listaar": "220"
                                },
                                {
                                    "Kategória neve": "dekor",
                                    "(No column name)": "4",
                                    "listaar": "3"
                                },
                                {
                                    "Kategória neve": "dekor",
                                    "(No column name)": "4",
                                    "listaar": "15"
                                },
                                {
                                    "Kategória neve": "dekor",
                                    "(No column name)": "4",
                                    "listaar": "23"
                                },
                                {
                                    "Kategória neve": "dekor",
                                    "(No column name)": "4",
                                    "listaar": "44"
                                },
                                {
                                    "Kategória neve": "dipa",
                                    "(No column name)": "1",
                                    "listaar": "9"
                                },
                                {
                                    "Kategória neve": "díszdoboz",
                                    "(No column name)": "3",
                                    "listaar": "44"
                                },
                                {
                                    "Kategória neve": "díszdoboz",
                                    "(No column name)": "3",
                                    "listaar": "61"
                                },
                                {
                                    "Kategória neve": "díszdoboz",
                                    "(No column name)": "3",
                                    "listaar": "66"
                                },
                                {
                                    "Kategória neve": "díszkötöző",
                                    "(No column name)": "5",
                                    "listaar": "15"
                                },
                                {
                                    "Kategória neve": "díszkötöző",
                                    "(No column name)": "5",
                                    "listaar": "26"
                                },
                                {
                                    "Kategória neve": "díszkötöző",
                                    "(No column name)": "5",
                                    "listaar": "44"
                                },
                                {
                                    "Kategória neve": "díszkötöző",
                                    "(No column name)": "5",
                                    "listaar": "81"
                                },
                                {
                                    "Kategória neve": "dvd",
                                    "(No column name)": "1",
                                    "listaar": "133"
                                },
                                {
                                    "Kategória neve": "ecset",
                                    "(No column name)": "7",
                                    "listaar": "33"
                                },
                                {
                                    "Kategória neve": "ecset",
                                    "(No column name)": "7",
                                    "listaar": "36"
                                },
                                {
                                    "Kategória neve": "ecset",
                                    "(No column name)": "7",
                                    "listaar": "40"
                                },
                                {
                                    "Kategória neve": "ecset",
                                    "(No column name)": "7",
                                    "listaar": "60"
                                },
                                {
                                    "Kategória neve": "ecset",
                                    "(No column name)": "7",
                                    "listaar": "65"
                                },
                                {
                                    "Kategória neve": "ecset",
                                    "(No column name)": "7",
                                    "listaar": "79"
                                },
                                {
                                    "Kategória neve": "ecset",
                                    "(No column name)": "7",
                                    "listaar": "180"
                                },
                                {
                                    "Kategória neve": "előlap",
                                    "(No column name)": "1",
                                    "listaar": "25"
                                },
                                {
                                    "Kategória neve": "emlékkönyv",
                                    "(No column name)": "3",
                                    "listaar": "316"
                                },
                                {
                                    "Kategória neve": "emlékkönyv",
                                    "(No column name)": "3",
                                    "listaar": "449"
                                },
                                {
                                    "Kategória neve": "emlékkönyv",
                                    "(No column name)": "3",
                                    "listaar": "526"
                                },
                                {
                                    "Kategória neve": "emléklap",
                                    "(No column name)": "1",
                                    "listaar": "26"
                                },
                                {
                                    "Kategória neve": "fax papír",
                                    "(No column name)": "1",
                                    "listaar": "161"
                                },
                                {
                                    "Kategória neve": "fehérnemű",
                                    "(No column name)": "7",
                                    "listaar": "240"
                                },
                                {
                                    "Kategória neve": "fehérnemű",
                                    "(No column name)": "7",
                                    "listaar": "390"
                                },
                                {
                                    "Kategória neve": "fehérnemű",
                                    "(No column name)": "7",
                                    "listaar": "690"
                                },
                                {
                                    "Kategória neve": "fehérnemű",
                                    "(No column name)": "7",
                                    "listaar": "990"
                                },
                                {
                                    "Kategória neve": "fénymásoló papír",
                                    "(No column name)": "5",
                                    "listaar": "686"
                                },
                                {
                                    "Kategória neve": "fénymásoló papír",
                                    "(No column name)": "5",
                                    "listaar": "728"
                                },
                                {
                                    "Kategória neve": "fénymásoló papír",
                                    "(No column name)": "5",
                                    "listaar": "845"
                                },
                                {
                                    "Kategória neve": "fénymásoló papír",
                                    "(No column name)": "5",
                                    "listaar": "1488"
                                },
                                {
                                    "Kategória neve": "férfi ing",
                                    "(No column name)": "1",
                                    "listaar": "6490"
                                },
                                {
                                    "Kategória neve": "férfi kabát",
                                    "(No column name)": "1",
                                    "listaar": "22000"
                                },
                                {
                                    "Kategória neve": "férfi nadrág",
                                    "(No column name)": "2",
                                    "listaar": "7890"
                                },
                                {
                                    "Kategória neve": "férfi nadrág",
                                    "(No column name)": "2",
                                    "listaar": "11900"
                                },
                                {
                                    "Kategória neve": "festékpatron",
                                    "(No column name)": "1",
                                    "listaar": "625"
                                },
                                {
                                    "Kategória neve": "filctoll",
                                    "(No column name)": "13",
                                    "listaar": "0"
                                },
                                {
                                    "Kategória neve": "filctoll",
                                    "(No column name)": "13",
                                    "listaar": "26"
                                },
                                {
                                    "Kategória neve": "filctoll",
                                    "(No column name)": "13",
                                    "listaar": "46"
                                },
                                {
                                    "Kategória neve": "filctoll",
                                    "(No column name)": "13",
                                    "listaar": "53"
                                },
                                {
                                    "Kategória neve": "filctoll",
                                    "(No column name)": "13",
                                    "listaar": "76"
                                },
                                {
                                    "Kategória neve": "filctoll",
                                    "(No column name)": "13",
                                    "listaar": "103"
                                },
                                {
                                    "Kategória neve": "filctoll",
                                    "(No column name)": "13",
                                    "listaar": "114"
                                },
                                {
                                    "Kategória neve": "filctoll",
                                    "(No column name)": "13",
                                    "listaar": "140"
                                },
                                {
                                    "Kategória neve": "filctoll",
                                    "(No column name)": "13",
                                    "listaar": "276"
                                },
                                {
                                    "Kategória neve": "filctoll",
                                    "(No column name)": "13",
                                    "listaar": "278"
                                },
                                {
                                    "Kategória neve": "filctoll",
                                    "(No column name)": "13",
                                    "listaar": "390"
                                },
                                {
                                    "Kategória neve": "filctoll",
                                    "(No column name)": "13",
                                    "listaar": "434"
                                },
                                {
                                    "Kategória neve": "floppy",
                                    "(No column name)": "1",
                                    "listaar": "51"
                                },
                                {
                                    "Kategória neve": "fólia",
                                    "(No column name)": "3",
                                    "listaar": "40"
                                },
                                {
                                    "Kategória neve": "fólia",
                                    "(No column name)": "3",
                                    "listaar": "44"
                                },
                                {
                                    "Kategória neve": "fotópapír",
                                    "(No column name)": "1",
                                    "listaar": "30"
                                },
                                {
                                    "Kategória neve": "füzet",
                                    "(No column name)": "11",
                                    "listaar": "30"
                                },
                                {
                                    "Kategória neve": "füzet",
                                    "(No column name)": "11",
                                    "listaar": "34"
                                },
                                {
                                    "Kategória neve": "füzet",
                                    "(No column name)": "11",
                                    "listaar": "48"
                                },
                                {
                                    "Kategória neve": "füzet",
                                    "(No column name)": "11",
                                    "listaar": "68"
                                },
                                {
                                    "Kategória neve": "füzet",
                                    "(No column name)": "11",
                                    "listaar": "78"
                                },
                                {
                                    "Kategória neve": "füzet",
                                    "(No column name)": "11",
                                    "listaar": "89"
                                },
                                {
                                    "Kategória neve": "füzet",
                                    "(No column name)": "11",
                                    "listaar": "144"
                                },
                                {
                                    "Kategória neve": "füzet",
                                    "(No column name)": "11",
                                    "listaar": "155"
                                },
                                {
                                    "Kategória neve": "füzet",
                                    "(No column name)": "11",
                                    "listaar": "161"
                                },
                                {
                                    "Kategória neve": "füzet",
                                    "(No column name)": "11",
                                    "listaar": "206"
                                },
                                {
                                    "Kategória neve": "füzetborító",
                                    "(No column name)": "7",
                                    "listaar": "8"
                                },
                                {
                                    "Kategória neve": "füzetborító",
                                    "(No column name)": "7",
                                    "listaar": "10"
                                },
                                {
                                    "Kategória neve": "füzetborító",
                                    "(No column name)": "7",
                                    "listaar": "19"
                                },
                                {
                                    "Kategória neve": "füzetborító",
                                    "(No column name)": "7",
                                    "listaar": "23"
                                },
                                {
                                    "Kategória neve": "füzetborító",
                                    "(No column name)": "7",
                                    "listaar": "24"
                                },
                                {
                                    "Kategória neve": "füzetborító",
                                    "(No column name)": "7",
                                    "listaar": "195"
                                },
                                {
                                    "Kategória neve": "füzettartó",
                                    "(No column name)": "4",
                                    "listaar": "203"
                                },
                                {
                                    "Kategória neve": "füzettartó",
                                    "(No column name)": "4",
                                    "listaar": "411"
                                },
                                {
                                    "Kategória neve": "füzettartó",
                                    "(No column name)": "4",
                                    "listaar": "508"
                                },
                                {
                                    "Kategória neve": "füzettartó",
                                    "(No column name)": "4",
                                    "listaar": "551"
                                },
                                {
                                    "Kategória neve": "gemkapocs",
                                    "(No column name)": "2",
                                    "listaar": "30"
                                },
                                {
                                    "Kategória neve": "gemkapocs",
                                    "(No column name)": "2",
                                    "listaar": "48"
                                },
                                {
                                    "Kategória neve": "gémkapocs",
                                    "(No column name)": "2",
                                    "listaar": "44"
                                },
                                {
                                    "Kategória neve": "gémkapocs",
                                    "(No column name)": "2",
                                    "listaar": "103"
                                },
                                {
                                    "Kategória neve": "genoterm",
                                    "(No column name)": "1",
                                    "listaar": "89"
                                },
                                {
                                    "Kategória neve": "genotherm",
                                    "(No column name)": "3",
                                    "listaar": "8"
                                },
                                {
                                    "Kategória neve": "genotherm",
                                    "(No column name)": "3",
                                    "listaar": "63"
                                },
                                {
                                    "Kategória neve": "genotherm",
                                    "(No column name)": "3",
                                    "listaar": "110"
                                },
                                {
                                    "Kategória neve": "golyóstoll",
                                    "(No column name)": "26",
                                    "listaar": "23"
                                },
                                {
                                    "Kategória neve": "golyóstoll",
                                    "(No column name)": "26",
                                    "listaar": "33"
                                },
                                {
                                    "Kategória neve": "golyóstoll",
                                    "(No column name)": "26",
                                    "listaar": "41"
                                },
                                {
                                    "Kategória neve": "golyóstoll",
                                    "(No column name)": "26",
                                    "listaar": "44"
                                },
                                {
                                    "Kategória neve": "golyóstoll",
                                    "(No column name)": "26",
                                    "listaar": "51"
                                },
                                {
                                    "Kategória neve": "golyóstoll",
                                    "(No column name)": "26",
                                    "listaar": "63"
                                },
                                {
                                    "Kategória neve": "golyóstoll",
                                    "(No column name)": "26",
                                    "listaar": "81"
                                },
                                {
                                    "Kategória neve": "golyóstoll",
                                    "(No column name)": "26",
                                    "listaar": "93"
                                },
                                {
                                    "Kategória neve": "golyóstoll",
                                    "(No column name)": "26",
                                    "listaar": "94"
                                },
                                {
                                    "Kategória neve": "golyóstoll",
                                    "(No column name)": "26",
                                    "listaar": "101"
                                },
                                {
                                    "Kategória neve": "golyóstoll",
                                    "(No column name)": "26",
                                    "listaar": "110"
                                },
                                {
                                    "Kategória neve": "golyóstoll",
                                    "(No column name)": "26",
                                    "listaar": "188"
                                },
                                {
                                    "Kategória neve": "golyóstoll",
                                    "(No column name)": "26",
                                    "listaar": "189"
                                },
                                {
                                    "Kategória neve": "golyóstoll",
                                    "(No column name)": "26",
                                    "listaar": "218"
                                },
                                {
                                    "Kategória neve": "golyóstoll",
                                    "(No column name)": "26",
                                    "listaar": "230"
                                },
                                {
                                    "Kategória neve": "golyóstoll",
                                    "(No column name)": "26",
                                    "listaar": "231"
                                },
                                {
                                    "Kategória neve": "golyóstoll",
                                    "(No column name)": "26",
                                    "listaar": "239"
                                },
                                {
                                    "Kategória neve": "golyóstoll",
                                    "(No column name)": "26",
                                    "listaar": "273"
                                },
                                {
                                    "Kategória neve": "golyóstoll",
                                    "(No column name)": "26",
                                    "listaar": "294"
                                },
                                {
                                    "Kategória neve": "golyóstoll",
                                    "(No column name)": "26",
                                    "listaar": "364"
                                },
                                {
                                    "Kategória neve": "golyóstoll",
                                    "(No column name)": "26",
                                    "listaar": "390"
                                },
                                {
                                    "Kategória neve": "golyóstoll",
                                    "(No column name)": "26",
                                    "listaar": "401"
                                },
                                {
                                    "Kategória neve": "golyóstoll",
                                    "(No column name)": "26",
                                    "listaar": "455"
                                },
                                {
                                    "Kategória neve": "golyóstoll",
                                    "(No column name)": "26",
                                    "listaar": "655"
                                },
                                {
                                    "Kategória neve": "golyóstoll",
                                    "(No column name)": "26",
                                    "listaar": "773"
                                },
                                {
                                    "Kategória neve": "golyóstoll",
                                    "(No column name)": "26",
                                    "listaar": "1019"
                                },
                                {
                                    "Kategória neve": "gumigyűrű",
                                    "(No column name)": "1",
                                    "listaar": "19"
                                },
                                {
                                    "Kategória neve": "gyermek cipő",
                                    "(No column name)": "6",
                                    "listaar": "6900"
                                },
                                {
                                    "Kategória neve": "gyermek cipő",
                                    "(No column name)": "6",
                                    "listaar": "7900"
                                },
                                {
                                    "Kategória neve": "gyermek cipő",
                                    "(No column name)": "6",
                                    "listaar": "8000"
                                },
                                {
                                    "Kategória neve": "gyermek kabát",
                                    "(No column name)": "2",
                                    "listaar": "8900"
                                },
                                {
                                    "Kategória neve": "gyermek nadrág",
                                    "(No column name)": "4",
                                    "listaar": "1290"
                                },
                                {
                                    "Kategória neve": "gyermek nadrág",
                                    "(No column name)": "4",
                                    "listaar": "4990"
                                },
                                {
                                    "Kategória neve": "gyermek póló",
                                    "(No column name)": "2",
                                    "listaar": "3900"
                                },
                                {
                                    "Kategória neve": "gyorsfűző",
                                    "(No column name)": "3",
                                    "listaar": "18"
                                },
                                {
                                    "Kategória neve": "gyorsfűző",
                                    "(No column name)": "3",
                                    "listaar": "30"
                                },
                                {
                                    "Kategória neve": "gyorsfűző",
                                    "(No column name)": "3",
                                    "listaar": "35"
                                },
                                {
                                    "Kategória neve": "gyurma",
                                    "(No column name)": "4",
                                    "listaar": "121"
                                },
                                {
                                    "Kategória neve": "gyurma",
                                    "(No column name)": "4",
                                    "listaar": "161"
                                },
                                {
                                    "Kategória neve": "gyurma",
                                    "(No column name)": "4",
                                    "listaar": "180"
                                },
                                {
                                    "Kategória neve": "gyurma",
                                    "(No column name)": "4",
                                    "listaar": "228"
                                },
                                {
                                    "Kategória neve": "gyűrűskönyv",
                                    "(No column name)": "5",
                                    "listaar": "95"
                                },
                                {
                                    "Kategória neve": "gyűrűskönyv",
                                    "(No column name)": "5",
                                    "listaar": "184"
                                },
                                {
                                    "Kategória neve": "gyűrűskönyv",
                                    "(No column name)": "5",
                                    "listaar": "218"
                                },
                                {
                                    "Kategória neve": "gyűrűskönyv",
                                    "(No column name)": "5",
                                    "listaar": "581"
                                },
                                {
                                    "Kategória neve": "gyűrűskönyv",
                                    "(No column name)": "5",
                                    "listaar": "699"
                                },
                                {
                                    "Kategória neve": "hajgumi",
                                    "(No column name)": "1",
                                    "listaar": "66"
                                },
                                {
                                    "Kategória neve": "határidő napló",
                                    "(No column name)": "2",
                                    "listaar": "464"
                                },
                                {
                                    "Kategória neve": "határidő napló",
                                    "(No column name)": "2",
                                    "listaar": "728"
                                },
                                {
                                    "Kategória neve": "hegyező",
                                    "(No column name)": "4",
                                    "listaar": "23"
                                },
                                {
                                    "Kategória neve": "hegyező",
                                    "(No column name)": "4",
                                    "listaar": "30"
                                },
                                {
                                    "Kategória neve": "hegyező",
                                    "(No column name)": "4",
                                    "listaar": "875"
                                },
                                {
                                    "Kategória neve": "hegyző",
                                    "(No column name)": "2",
                                    "listaar": "70"
                                },
                                {
                                    "Kategória neve": "hegyző",
                                    "(No column name)": "2",
                                    "listaar": "180"
                                },
                                {
                                    "Kategória neve": "hibajavító",
                                    "(No column name)": "7",
                                    "listaar": "81"
                                },
                                {
                                    "Kategória neve": "hibajavító",
                                    "(No column name)": "7",
                                    "listaar": "133"
                                },
                                {
                                    "Kategória neve": "hibajavító",
                                    "(No column name)": "7",
                                    "listaar": "185"
                                },
                                {
                                    "Kategória neve": "hibajavító",
                                    "(No column name)": "7",
                                    "listaar": "273"
                                },
                                {
                                    "Kategória neve": "hibajavító",
                                    "(No column name)": "7",
                                    "listaar": "278"
                                },
                                {
                                    "Kategória neve": "hibajavító",
                                    "(No column name)": "7",
                                    "listaar": "286"
                                },
                                {
                                    "Kategória neve": "hibajavító",
                                    "(No column name)": "7",
                                    "listaar": "794"
                                },
                                {
                                    "Kategória neve": "hűtőmágnes",
                                    "(No column name)": "2",
                                    "listaar": "24"
                                },
                                {
                                    "Kategória neve": "hűtőmágnes",
                                    "(No column name)": "2",
                                    "listaar": "169"
                                },
                                {
                                    "Kategória neve": "indigó",
                                    "(No column name)": "2",
                                    "listaar": "12"
                                },
                                {
                                    "Kategória neve": "indigó",
                                    "(No column name)": "2",
                                    "listaar": "15"
                                },
                                {
                                    "Kategória neve": "írásvetítő fólia",
                                    "(No column name)": "1",
                                    "listaar": "81"
                                },
                                {
                                    "Kategória neve": "iratgyűjtő",
                                    "(No column name)": "3",
                                    "listaar": "19"
                                },
                                {
                                    "Kategória neve": "iratgyűjtő",
                                    "(No column name)": "3",
                                    "listaar": "133"
                                },
                                {
                                    "Kategória neve": "iratrendező",
                                    "(No column name)": "2",
                                    "listaar": "243"
                                },
                                {
                                    "Kategória neve": "iratrendező",
                                    "(No column name)": "2",
                                    "listaar": "259"
                                },
                                {
                                    "Kategória neve": "iratsín",
                                    "(No column name)": "2",
                                    "listaar": "44"
                                },
                                {
                                    "Kategória neve": "iratsín",
                                    "(No column name)": "2",
                                    "listaar": "89"
                                },
                                {
                                    "Kategória neve": "irattartó",
                                    "(No column name)": "2",
                                    "listaar": "66"
                                },
                                {
                                    "Kategória neve": "irattartó",
                                    "(No column name)": "2",
                                    "listaar": "214"
                                },
                                {
                                    "Kategória neve": "irodaszer",
                                    "(No column name)": "1",
                                    "listaar": "59"
                                },
                                {
                                    "Kategória neve": "írólap",
                                    "(No column name)": "2",
                                    "listaar": "29"
                                },
                                {
                                    "Kategória neve": "írólap",
                                    "(No column name)": "2",
                                    "listaar": "34"
                                },
                                {
                                    "Kategória neve": "ironbél",
                                    "(No column name)": "5",
                                    "listaar": "23"
                                },
                                {
                                    "Kategória neve": "ironbél",
                                    "(No column name)": "5",
                                    "listaar": "36"
                                },
                                {
                                    "Kategória neve": "ironbél",
                                    "(No column name)": "5",
                                    "listaar": "59"
                                },
                                {
                                    "Kategória neve": "ironbél",
                                    "(No column name)": "5",
                                    "listaar": "74"
                                },
                                {
                                    "Kategória neve": "ironbél",
                                    "(No column name)": "5",
                                    "listaar": "78"
                                },
                                {
                                    "Kategória neve": "iskolaszer",
                                    "(No column name)": "24",
                                    "listaar": "5"
                                },
                                {
                                    "Kategória neve": "iskolaszer",
                                    "(No column name)": "24",
                                    "listaar": "8"
                                },
                                {
                                    "Kategória neve": "iskolaszer",
                                    "(No column name)": "24",
                                    "listaar": "9"
                                },
                                {
                                    "Kategória neve": "iskolaszer",
                                    "(No column name)": "24",
                                    "listaar": "19"
                                },
                                {
                                    "Kategória neve": "iskolaszer",
                                    "(No column name)": "24",
                                    "listaar": "23"
                                },
                                {
                                    "Kategória neve": "iskolaszer",
                                    "(No column name)": "24",
                                    "listaar": "33"
                                },
                                {
                                    "Kategória neve": "iskolaszer",
                                    "(No column name)": "24",
                                    "listaar": "35"
                                },
                                {
                                    "Kategória neve": "iskolaszer",
                                    "(No column name)": "24",
                                    "listaar": "36"
                                },
                                {
                                    "Kategória neve": "iskolaszer",
                                    "(No column name)": "24",
                                    "listaar": "43"
                                },
                                {
                                    "Kategória neve": "iskolaszer",
                                    "(No column name)": "24",
                                    "listaar": "45"
                                },
                                {
                                    "Kategória neve": "iskolaszer",
                                    "(No column name)": "24",
                                    "listaar": "51"
                                },
                                {
                                    "Kategória neve": "iskolaszer",
                                    "(No column name)": "24",
                                    "listaar": "58"
                                },
                                {
                                    "Kategória neve": "iskolaszer",
                                    "(No column name)": "24",
                                    "listaar": "61"
                                },
                                {
                                    "Kategória neve": "iskolaszer",
                                    "(No column name)": "24",
                                    "listaar": "73"
                                },
                                {
                                    "Kategória neve": "iskolaszer",
                                    "(No column name)": "24",
                                    "listaar": "74"
                                },
                                {
                                    "Kategória neve": "iskolaszer",
                                    "(No column name)": "24",
                                    "listaar": "103"
                                },
                                {
                                    "Kategória neve": "iskolaszer",
                                    "(No column name)": "24",
                                    "listaar": "125"
                                },
                                {
                                    "Kategória neve": "iskolaszer",
                                    "(No column name)": "24",
                                    "listaar": "161"
                                },
                                {
                                    "Kategória neve": "iskolaszer",
                                    "(No column name)": "24",
                                    "listaar": "324"
                                },
                                {
                                    "Kategória neve": "iskolaszer",
                                    "(No column name)": "24",
                                    "listaar": "511"
                                },
                                {
                                    "Kategória neve": "játékautó",
                                    "(No column name)": "4",
                                    "listaar": "65"
                                },
                                {
                                    "Kategória neve": "játékautó",
                                    "(No column name)": "4",
                                    "listaar": "73"
                                },
                                {
                                    "Kategória neve": "játékautó",
                                    "(No column name)": "4",
                                    "listaar": "133"
                                },
                                {
                                    "Kategória neve": "játékautó",
                                    "(No column name)": "4",
                                    "listaar": "165"
                                },
                                {
                                    "Kategória neve": "jelzőkréta",
                                    "(No column name)": "1",
                                    "listaar": "48"
                                },
                                {
                                    "Kategória neve": "kapocskiszedő",
                                    "(No column name)": "1",
                                    "listaar": "106"
                                },
                                {
                                    "Kategória neve": "karton",
                                    "(No column name)": "6",
                                    "listaar": "11"
                                },
                                {
                                    "Kategória neve": "karton",
                                    "(No column name)": "6",
                                    "listaar": "25"
                                },
                                {
                                    "Kategória neve": "karton",
                                    "(No column name)": "6",
                                    "listaar": "38"
                                },
                                {
                                    "Kategória neve": "karton",
                                    "(No column name)": "6",
                                    "listaar": "40"
                                },
                                {
                                    "Kategória neve": "karton",
                                    "(No column name)": "6",
                                    "listaar": "73"
                                },
                                {
                                    "Kategória neve": "karton",
                                    "(No column name)": "6",
                                    "listaar": "89"
                                },
                                {
                                    "Kategória neve": "kártya",
                                    "(No column name)": "1",
                                    "listaar": "131"
                                },
                                {
                                    "Kategória neve": "képeslap",
                                    "(No column name)": "16",
                                    "listaar": "14"
                                },
                                {
                                    "Kategória neve": "képeslap",
                                    "(No column name)": "16",
                                    "listaar": "15"
                                },
                                {
                                    "Kategória neve": "képeslap",
                                    "(No column name)": "16",
                                    "listaar": "30"
                                },
                                {
                                    "Kategória neve": "képeslap",
                                    "(No column name)": "16",
                                    "listaar": "33"
                                },
                                {
                                    "Kategória neve": "képeslap",
                                    "(No column name)": "16",
                                    "listaar": "36"
                                },
                                {
                                    "Kategória neve": "képeslap",
                                    "(No column name)": "16",
                                    "listaar": "44"
                                },
                                {
                                    "Kategória neve": "képeslap",
                                    "(No column name)": "16",
                                    "listaar": "48"
                                },
                                {
                                    "Kategória neve": "képeslap",
                                    "(No column name)": "16",
                                    "listaar": "51"
                                },
                                {
                                    "Kategória neve": "képeslap",
                                    "(No column name)": "16",
                                    "listaar": "55"
                                },
                                {
                                    "Kategória neve": "képeslap",
                                    "(No column name)": "16",
                                    "listaar": "59"
                                },
                                {
                                    "Kategória neve": "képeslap",
                                    "(No column name)": "16",
                                    "listaar": "73"
                                },
                                {
                                    "Kategória neve": "képeslap",
                                    "(No column name)": "16",
                                    "listaar": "81"
                                },
                                {
                                    "Kategória neve": "képeslap",
                                    "(No column name)": "16",
                                    "listaar": "89"
                                },
                                {
                                    "Kategória neve": "képeslap",
                                    "(No column name)": "16",
                                    "listaar": "118"
                                },
                                {
                                    "Kategória neve": "képeslap",
                                    "(No column name)": "16",
                                    "listaar": "184"
                                },
                                {
                                    "Kategória neve": "képkirakó",
                                    "(No column name)": "1",
                                    "listaar": "195"
                                },
                                {
                                    "Kategória neve": "kosztüm",
                                    "(No column name)": "2",
                                    "listaar": "39000"
                                },
                                {
                                    "Kategória neve": "kosztüm",
                                    "(No column name)": "2",
                                    "listaar": "46000"
                                },
                                {
                                    "Kategória neve": "könyv",
                                    "(No column name)": "15",
                                    "listaar": "214"
                                },
                                {
                                    "Kategória neve": "könyv",
                                    "(No column name)": "15",
                                    "listaar": "291"
                                },
                                {
                                    "Kategória neve": "könyv",
                                    "(No column name)": "15",
                                    "listaar": "308"
                                },
                                {
                                    "Kategória neve": "könyv",
                                    "(No column name)": "15",
                                    "listaar": "324"
                                },
                                {
                                    "Kategória neve": "könyv",
                                    "(No column name)": "15",
                                    "listaar": "345"
                                },
                                {
                                    "Kategória neve": "könyv",
                                    "(No column name)": "15",
                                    "listaar": "440"
                                },
                                {
                                    "Kategória neve": "könyv",
                                    "(No column name)": "15",
                                    "listaar": "674"
                                },
                                {
                                    "Kategória neve": "könyv",
                                    "(No column name)": "15",
                                    "listaar": "691"
                                },
                                {
                                    "Kategória neve": "könyv",
                                    "(No column name)": "15",
                                    "listaar": "720"
                                },
                                {
                                    "Kategória neve": "könyv",
                                    "(No column name)": "15",
                                    "listaar": "735"
                                },
                                {
                                    "Kategória neve": "könyv",
                                    "(No column name)": "15",
                                    "listaar": "868"
                                },
                                {
                                    "Kategória neve": "könyv",
                                    "(No column name)": "15",
                                    "listaar": "1089"
                                },
                                {
                                    "Kategória neve": "körző",
                                    "(No column name)": "3",
                                    "listaar": "30"
                                },
                                {
                                    "Kategória neve": "körző",
                                    "(No column name)": "3",
                                    "listaar": "161"
                                },
                                {
                                    "Kategória neve": "körző",
                                    "(No column name)": "3",
                                    "listaar": "243"
                                },
                                {
                                    "Kategória neve": "kreatív",
                                    "(No column name)": "2",
                                    "listaar": "4"
                                },
                                {
                                    "Kategória neve": "kreatív",
                                    "(No column name)": "2",
                                    "listaar": "13"
                                },
                                {
                                    "Kategória neve": "kulcstartó",
                                    "(No column name)": "7",
                                    "listaar": "36"
                                },
                                {
                                    "Kategória neve": "kulcstartó",
                                    "(No column name)": "7",
                                    "listaar": "103"
                                },
                                {
                                    "Kategória neve": "kulcstartó",
                                    "(No column name)": "7",
                                    "listaar": "115"
                                },
                                {
                                    "Kategória neve": "kulcstartó",
                                    "(No column name)": "7",
                                    "listaar": "124"
                                },
                                {
                                    "Kategória neve": "kulcstartó",
                                    "(No column name)": "7",
                                    "listaar": "129"
                                },
                                {
                                    "Kategória neve": "kulcstartó",
                                    "(No column name)": "7",
                                    "listaar": "148"
                                },
                                {
                                    "Kategória neve": "kulcstartó",
                                    "(No column name)": "7",
                                    "listaar": "155"
                                },
                                {
                                    "Kategória neve": "labda",
                                    "(No column name)": "2",
                                    "listaar": "81"
                                },
                                {
                                    "Kategória neve": "labda",
                                    "(No column name)": "2",
                                    "listaar": "110"
                                },
                                {
                                    "Kategória neve": "levélpapír",
                                    "(No column name)": "7",
                                    "listaar": "15"
                                },
                                {
                                    "Kategória neve": "levélpapír",
                                    "(No column name)": "7",
                                    "listaar": "56"
                                },
                                {
                                    "Kategória neve": "levélpapír",
                                    "(No column name)": "7",
                                    "listaar": "74"
                                },
                                {
                                    "Kategória neve": "levélpapír",
                                    "(No column name)": "7",
                                    "listaar": "89"
                                },
                                {
                                    "Kategória neve": "levélpapír",
                                    "(No column name)": "7",
                                    "listaar": "103"
                                },
                                {
                                    "Kategória neve": "levélpapír",
                                    "(No column name)": "7",
                                    "listaar": "140"
                                },
                                {
                                    "Kategória neve": "levélpapír",
                                    "(No column name)": "7",
                                    "listaar": "169"
                                },
                                {
                                    "Kategória neve": "lufi",
                                    "(No column name)": "2",
                                    "listaar": "11"
                                },
                                {
                                    "Kategória neve": "lufi",
                                    "(No column name)": "2",
                                    "listaar": "15"
                                },
                                {
                                    "Kategória neve": "lyukasztó",
                                    "(No column name)": "2",
                                    "listaar": "526"
                                },
                                {
                                    "Kategória neve": "lyukasztó",
                                    "(No column name)": "2",
                                    "listaar": "765"
                                },
                                {
                                    "Kategória neve": "mappa",
                                    "(No column name)": "9",
                                    "listaar": "148"
                                },
                                {
                                    "Kategória neve": "mappa",
                                    "(No column name)": "9",
                                    "listaar": "184"
                                },
                                {
                                    "Kategória neve": "mappa",
                                    "(No column name)": "9",
                                    "listaar": "191"
                                },
                                {
                                    "Kategória neve": "mappa",
                                    "(No column name)": "9",
                                    "listaar": "195"
                                },
                                {
                                    "Kategória neve": "mappa",
                                    "(No column name)": "9",
                                    "listaar": "210"
                                },
                                {
                                    "Kategória neve": "mappa",
                                    "(No column name)": "9",
                                    "listaar": "211"
                                },
                                {
                                    "Kategória neve": "mappa",
                                    "(No column name)": "9",
                                    "listaar": "264"
                                },
                                {
                                    "Kategória neve": "mappa",
                                    "(No column name)": "9",
                                    "listaar": "360"
                                },
                                {
                                    "Kategória neve": "mappa",
                                    "(No column name)": "9",
                                    "listaar": "1765"
                                },
                                {
                                    "Kategória neve": "matrica",
                                    "(No column name)": "10",
                                    "listaar": "49"
                                },
                                {
                                    "Kategória neve": "matrica",
                                    "(No column name)": "10",
                                    "listaar": "55"
                                },
                                {
                                    "Kategória neve": "matrica",
                                    "(No column name)": "10",
                                    "listaar": "56"
                                },
                                {
                                    "Kategória neve": "matrica",
                                    "(No column name)": "10",
                                    "listaar": "93"
                                },
                                {
                                    "Kategória neve": "matrica",
                                    "(No column name)": "10",
                                    "listaar": "109"
                                },
                                {
                                    "Kategória neve": "matrica",
                                    "(No column name)": "10",
                                    "listaar": "148"
                                },
                                {
                                    "Kategória neve": "matrica",
                                    "(No column name)": "10",
                                    "listaar": "161"
                                },
                                {
                                    "Kategória neve": "matrica",
                                    "(No column name)": "10",
                                    "listaar": "168"
                                },
                                {
                                    "Kategória neve": "matrica",
                                    "(No column name)": "10",
                                    "listaar": "175"
                                },
                                {
                                    "Kategória neve": "meghívó",
                                    "(No column name)": "4",
                                    "listaar": "59"
                                },
                                {
                                    "Kategória neve": "meghívó",
                                    "(No column name)": "4",
                                    "listaar": "63"
                                },
                                {
                                    "Kategória neve": "meghívó",
                                    "(No column name)": "4",
                                    "listaar": "155"
                                },
                                {
                                    "Kategória neve": "meghívó",
                                    "(No column name)": "4",
                                    "listaar": "169"
                                },
                                {
                                    "Kategória neve": "miliméterpapír",
                                    "(No column name)": "1",
                                    "listaar": "8"
                                },
                                {
                                    "Kategória neve": "munkafüzet",
                                    "(No column name)": "9",
                                    "listaar": "190"
                                },
                                {
                                    "Kategória neve": "munkafüzet",
                                    "(No column name)": "9",
                                    "listaar": "198"
                                },
                                {
                                    "Kategória neve": "munkafüzet",
                                    "(No column name)": "9",
                                    "listaar": "293"
                                },
                                {
                                    "Kategória neve": "munkafüzet",
                                    "(No column name)": "9",
                                    "listaar": "353"
                                },
                                {
                                    "Kategória neve": "munkafüzet",
                                    "(No column name)": "9",
                                    "listaar": "403"
                                },
                                {
                                    "Kategória neve": "munkafüzet",
                                    "(No column name)": "9",
                                    "listaar": "440"
                                },
                                {
                                    "Kategória neve": "munkafüzet",
                                    "(No column name)": "9",
                                    "listaar": "785"
                                },
                                {
                                    "Kategória neve": "műnyomó",
                                    "(No column name)": "1",
                                    "listaar": "3"
                                },
                                {
                                    "Kategória neve": "naptár",
                                    "(No column name)": "1",
                                    "listaar": "89"
                                },
                                {
                                    "Kategória neve": "naptárhát",
                                    "(No column name)": "2",
                                    "listaar": "15"
                                },
                                {
                                    "Kategória neve": "naptárhát",
                                    "(No column name)": "2",
                                    "listaar": "78"
                                },
                                {
                                    "Kategória neve": "névjegytartó",
                                    "(No column name)": "1",
                                    "listaar": "310"
                                },
                                {
                                    "Kategória neve": "notesz",
                                    "(No column name)": "5",
                                    "listaar": "44"
                                },
                                {
                                    "Kategória neve": "notesz",
                                    "(No column name)": "5",
                                    "listaar": "56"
                                },
                                {
                                    "Kategória neve": "notesz",
                                    "(No column name)": "5",
                                    "listaar": "89"
                                },
                                {
                                    "Kategória neve": "notesz",
                                    "(No column name)": "5",
                                    "listaar": "103"
                                },
                                {
                                    "Kategória neve": "női kabát",
                                    "(No column name)": "1",
                                    "listaar": "24000"
                                },
                                {
                                    "Kategória neve": "női nadrág",
                                    "(No column name)": "1",
                                    "listaar": "8290"
                                },
                                {
                                    "Kategória neve": "ofszet",
                                    "(No column name)": "1",
                                    "listaar": "4"
                                },
                                {
                                    "Kategória neve": "oklevél",
                                    "(No column name)": "2",
                                    "listaar": "48"
                                },
                                {
                                    "Kategória neve": "oklevél",
                                    "(No column name)": "2",
                                    "listaar": "55"
                                },
                                {
                                    "Kategória neve": "olló",
                                    "(No column name)": "3",
                                    "listaar": "133"
                                },
                                {
                                    "Kategória neve": "olló",
                                    "(No column name)": "3",
                                    "listaar": "161"
                                },
                                {
                                    "Kategória neve": "olló",
                                    "(No column name)": "3",
                                    "listaar": "176"
                                },
                                {
                                    "Kategória neve": "öntapadó",
                                    "(No column name)": "2",
                                    "listaar": "59"
                                },
                                {
                                    "Kategória neve": "öntapadó",
                                    "(No column name)": "2",
                                    "listaar": "4575"
                                },
                                {
                                    "Kategória neve": "papízsebkendő",
                                    "(No column name)": "1",
                                    "listaar": "20"
                                },
                                {
                                    "Kategória neve": "pausz",
                                    "(No column name)": "1",
                                    "listaar": "15"
                                },
                                {
                                    "Kategória neve": "pénztárbizonylat",
                                    "(No column name)": "2",
                                    "listaar": "103"
                                },
                                {
                                    "Kategória neve": "pénztárbizonylat",
                                    "(No column name)": "2",
                                    "listaar": "144"
                                },
                                {
                                    "Kategória neve": "pénztárgépszalag",
                                    "(No column name)": "2",
                                    "listaar": "81"
                                },
                                {
                                    "Kategória neve": "pénztárgépszalag",
                                    "(No column name)": "2",
                                    "listaar": "93"
                                },
                                {
                                    "Kategória neve": "pixiron",
                                    "(No column name)": "9",
                                    "listaar": "59"
                                },
                                {
                                    "Kategória neve": "pixiron",
                                    "(No column name)": "9",
                                    "listaar": "94"
                                },
                                {
                                    "Kategória neve": "pixiron",
                                    "(No column name)": "9",
                                    "listaar": "125"
                                },
                                {
                                    "Kategória neve": "pixiron",
                                    "(No column name)": "9",
                                    "listaar": "133"
                                },
                                {
                                    "Kategória neve": "pixiron",
                                    "(No column name)": "9",
                                    "listaar": "235"
                                },
                                {
                                    "Kategória neve": "pixiron",
                                    "(No column name)": "9",
                                    "listaar": "276"
                                },
                                {
                                    "Kategória neve": "pixiron",
                                    "(No column name)": "9",
                                    "listaar": "299"
                                },
                                {
                                    "Kategória neve": "pixiron",
                                    "(No column name)": "9",
                                    "listaar": "468"
                                },
                                {
                                    "Kategória neve": "plüss",
                                    "(No column name)": "3",
                                    "listaar": "161"
                                },
                                {
                                    "Kategória neve": "plüss",
                                    "(No column name)": "3",
                                    "listaar": "173"
                                },
                                {
                                    "Kategória neve": "plüss",
                                    "(No column name)": "3",
                                    "listaar": "314"
                                },
                                {
                                    "Kategória neve": "post-it",
                                    "(No column name)": "2",
                                    "listaar": "36"
                                },
                                {
                                    "Kategória neve": "post-it",
                                    "(No column name)": "2",
                                    "listaar": "89"
                                },
                                {
                                    "Kategória neve": "radír",
                                    "(No column name)": "7",
                                    "listaar": "19"
                                },
                                {
                                    "Kategória neve": "radír",
                                    "(No column name)": "7",
                                    "listaar": "36"
                                },
                                {
                                    "Kategória neve": "radír",
                                    "(No column name)": "7",
                                    "listaar": "40"
                                },
                                {
                                    "Kategória neve": "radír",
                                    "(No column name)": "7",
                                    "listaar": "44"
                                },
                                {
                                    "Kategória neve": "radír",
                                    "(No column name)": "7",
                                    "listaar": "49"
                                },
                                {
                                    "Kategória neve": "radír",
                                    "(No column name)": "7",
                                    "listaar": "50"
                                },
                                {
                                    "Kategória neve": "radírtoll",
                                    "(No column name)": "2",
                                    "listaar": "74"
                                },
                                {
                                    "Kategória neve": "radírtoll",
                                    "(No column name)": "2",
                                    "listaar": "119"
                                },
                                {
                                    "Kategória neve": "ragasztó",
                                    "(No column name)": "10",
                                    "listaar": "81"
                                },
                                {
                                    "Kategória neve": "ragasztó",
                                    "(No column name)": "10",
                                    "listaar": "89"
                                },
                                {
                                    "Kategória neve": "ragasztó",
                                    "(No column name)": "10",
                                    "listaar": "101"
                                },
                                {
                                    "Kategória neve": "ragasztó",
                                    "(No column name)": "10",
                                    "listaar": "103"
                                },
                                {
                                    "Kategória neve": "ragasztó",
                                    "(No column name)": "10",
                                    "listaar": "110"
                                },
                                {
                                    "Kategória neve": "ragasztó",
                                    "(No column name)": "10",
                                    "listaar": "133"
                                },
                                {
                                    "Kategória neve": "ragasztó",
                                    "(No column name)": "10",
                                    "listaar": "144"
                                },
                                {
                                    "Kategória neve": "ragasztó",
                                    "(No column name)": "10",
                                    "listaar": "293"
                                },
                                {
                                    "Kategória neve": "ragasztó",
                                    "(No column name)": "10",
                                    "listaar": "426"
                                },
                                {
                                    "Kategória neve": "ragasztószalag",
                                    "(No column name)": "4",
                                    "listaar": "15"
                                },
                                {
                                    "Kategória neve": "ragasztószalag",
                                    "(No column name)": "4",
                                    "listaar": "55"
                                },
                                {
                                    "Kategória neve": "ragasztószalag",
                                    "(No column name)": "4",
                                    "listaar": "63"
                                },
                                {
                                    "Kategória neve": "ragasztószalag",
                                    "(No column name)": "4",
                                    "listaar": "166"
                                },
                                {
                                    "Kategória neve": "rágógumi",
                                    "(No column name)": "1",
                                    "listaar": "89"
                                },
                                {
                                    "Kategória neve": "rajzlap",
                                    "(No column name)": "2",
                                    "listaar": "28"
                                },
                                {
                                    "Kategória neve": "rajzlap",
                                    "(No column name)": "2",
                                    "listaar": "342"
                                },
                                {
                                    "Kategória neve": "rajzszeg",
                                    "(No column name)": "2",
                                    "listaar": "63"
                                },
                                {
                                    "Kategória neve": "rajzszeg",
                                    "(No column name)": "2",
                                    "listaar": "106"
                                },
                                {
                                    "Kategória neve": "regiszteres füzet",
                                    "(No column name)": "2",
                                    "listaar": "203"
                                },
                                {
                                    "Kategória neve": "regiszteres füzet",
                                    "(No column name)": "2",
                                    "listaar": "256"
                                },
                                {
                                    "Kategória neve": "sál",
                                    "(No column name)": "1",
                                    "listaar": "1990"
                                },
                                {
                                    "Kategória neve": "spirál",
                                    "(No column name)": "1",
                                    "listaar": "45"
                                },
                                {
                                    "Kategória neve": "strandlabda",
                                    "(No column name)": "1",
                                    "listaar": "356"
                                },
                                {
                                    "Kategória neve": "szalvéta",
                                    "(No column name)": "6",
                                    "listaar": "118"
                                },
                                {
                                    "Kategória neve": "szalvéta",
                                    "(No column name)": "6",
                                    "listaar": "133"
                                },
                                {
                                    "Kategória neve": "szalvéta",
                                    "(No column name)": "6",
                                    "listaar": "161"
                                },
                                {
                                    "Kategória neve": "szalvéta",
                                    "(No column name)": "6",
                                    "listaar": "175"
                                },
                                {
                                    "Kategória neve": "szalvéta",
                                    "(No column name)": "6",
                                    "listaar": "176"
                                },
                                {
                                    "Kategória neve": "szalvéta",
                                    "(No column name)": "6",
                                    "listaar": "183"
                                },
                                {
                                    "Kategória neve": "számológép",
                                    "(No column name)": "2",
                                    "listaar": "508"
                                },
                                {
                                    "Kategória neve": "számológép",
                                    "(No column name)": "2",
                                    "listaar": "1173"
                                },
                                {
                                    "Kategória neve": "szemetes",
                                    "(No column name)": "1",
                                    "listaar": "129"
                                },
                                {
                                    "Kategória neve": "színes",
                                    "(No column name)": "2",
                                    "listaar": "99"
                                },
                                {
                                    "Kategória neve": "színes",
                                    "(No column name)": "2",
                                    "listaar": "161"
                                },
                                {
                                    "Kategória neve": "szögmérő",
                                    "(No column name)": "3",
                                    "listaar": "8"
                                },
                                {
                                    "Kategória neve": "szögmérő",
                                    "(No column name)": "3",
                                    "listaar": "11"
                                },
                                {
                                    "Kategória neve": "szögmérő",
                                    "(No column name)": "3",
                                    "listaar": "24"
                                },
                                {
                                    "Kategória neve": "szövegkiemelő",
                                    "(No column name)": "5",
                                    "listaar": "78"
                                },
                                {
                                    "Kategória neve": "szövegkiemelő",
                                    "(No column name)": "5",
                                    "listaar": "89"
                                },
                                {
                                    "Kategória neve": "szövegkiemelő",
                                    "(No column name)": "5",
                                    "listaar": "93"
                                },
                                {
                                    "Kategória neve": "szövegkiemelő",
                                    "(No column name)": "5",
                                    "listaar": "103"
                                },
                                {
                                    "Kategória neve": "szövegkiemelő",
                                    "(No column name)": "5",
                                    "listaar": "140"
                                },
                                {
                                    "Kategória neve": "táblafilc",
                                    "(No column name)": "1",
                                    "listaar": "633"
                                },
                                {
                                    "Kategória neve": "tapétavágó",
                                    "(No column name)": "1",
                                    "listaar": "40"
                                },
                                {
                                    "Kategória neve": "tempera",
                                    "(No column name)": "2",
                                    "listaar": "48"
                                },
                                {
                                    "Kategória neve": "tempera",
                                    "(No column name)": "2",
                                    "listaar": "96"
                                },
                                {
                                    "Kategória neve": "térképtű",
                                    "(No column name)": "1",
                                    "listaar": "103"
                                },
                                {
                                    "Kategória neve": "tintapatron",
                                    "(No column name)": "3",
                                    "listaar": "9"
                                },
                                {
                                    "Kategória neve": "tintapatron",
                                    "(No column name)": "3",
                                    "listaar": "11"
                                },
                                {
                                    "Kategória neve": "tintapatron",
                                    "(No column name)": "3",
                                    "listaar": "360"
                                },
                                {
                                    "Kategória neve": "toll",
                                    "(No column name)": "2",
                                    "listaar": "74"
                                },
                                {
                                    "Kategória neve": "toll",
                                    "(No column name)": "2",
                                    "listaar": "80"
                                },
                                {
                                    "Kategória neve": "tollbetét",
                                    "(No column name)": "18",
                                    "listaar": "15"
                                },
                                {
                                    "Kategória neve": "tollbetét",
                                    "(No column name)": "18",
                                    "listaar": "23"
                                },
                                {
                                    "Kategória neve": "tollbetét",
                                    "(No column name)": "18",
                                    "listaar": "30"
                                },
                                {
                                    "Kategória neve": "tollbetét",
                                    "(No column name)": "18",
                                    "listaar": "33"
                                },
                                {
                                    "Kategória neve": "tollbetét",
                                    "(No column name)": "18",
                                    "listaar": "39"
                                },
                                {
                                    "Kategória neve": "tollbetét",
                                    "(No column name)": "18",
                                    "listaar": "44"
                                },
                                {
                                    "Kategória neve": "tollbetét",
                                    "(No column name)": "18",
                                    "listaar": "48"
                                },
                                {
                                    "Kategória neve": "tollbetét",
                                    "(No column name)": "18",
                                    "listaar": "55"
                                },
                                {
                                    "Kategória neve": "tollbetét",
                                    "(No column name)": "18",
                                    "listaar": "78"
                                },
                                {
                                    "Kategória neve": "tollbetét",
                                    "(No column name)": "18",
                                    "listaar": "80"
                                },
                                {
                                    "Kategória neve": "tollbetét",
                                    "(No column name)": "18",
                                    "listaar": "85"
                                },
                                {
                                    "Kategória neve": "tollbetét",
                                    "(No column name)": "18",
                                    "listaar": "89"
                                },
                                {
                                    "Kategória neve": "tollbetét",
                                    "(No column name)": "18",
                                    "listaar": "91"
                                },
                                {
                                    "Kategória neve": "tollbetét",
                                    "(No column name)": "18",
                                    "listaar": "123"
                                },
                                {
                                    "Kategória neve": "tollbetét",
                                    "(No column name)": "18",
                                    "listaar": "228"
                                },
                                {
                                    "Kategória neve": "tollbetét",
                                    "(No column name)": "18",
                                    "listaar": "684"
                                },
                                {
                                    "Kategória neve": "tolltartó",
                                    "(No column name)": "7",
                                    "listaar": "324"
                                },
                                {
                                    "Kategória neve": "tolltartó",
                                    "(No column name)": "7",
                                    "listaar": "410"
                                },
                                {
                                    "Kategória neve": "tolltartó",
                                    "(No column name)": "7",
                                    "listaar": "411"
                                },
                                {
                                    "Kategória neve": "tolltartó",
                                    "(No column name)": "7",
                                    "listaar": "655"
                                },
                                {
                                    "Kategória neve": "tolltartó",
                                    "(No column name)": "7",
                                    "listaar": "728"
                                },
                                {
                                    "Kategória neve": "tolltartó",
                                    "(No column name)": "7",
                                    "listaar": "765"
                                },
                                {
                                    "Kategória neve": "toner",
                                    "(No column name)": "1",
                                    "listaar": "14250"
                                },
                                {
                                    "Kategória neve": "töltőtoll",
                                    "(No column name)": "1",
                                    "listaar": "493"
                                },
                                {
                                    "Kategória neve": "tűzőgép",
                                    "(No column name)": "6",
                                    "listaar": "286"
                                },
                                {
                                    "Kategória neve": "tűzőgép",
                                    "(No column name)": "6",
                                    "listaar": "339"
                                },
                                {
                                    "Kategória neve": "tűzőgép",
                                    "(No column name)": "6",
                                    "listaar": "405"
                                },
                                {
                                    "Kategória neve": "tűzőgép",
                                    "(No column name)": "6",
                                    "listaar": "438"
                                },
                                {
                                    "Kategória neve": "tűzőgép",
                                    "(No column name)": "6",
                                    "listaar": "1351"
                                },
                                {
                                    "Kategória neve": "tűzőgép",
                                    "(No column name)": "6",
                                    "listaar": "2100"
                                },
                                {
                                    "Kategória neve": "tűzőkapocs",
                                    "(No column name)": "2",
                                    "listaar": "34"
                                },
                                {
                                    "Kategória neve": "tűzőkapocs",
                                    "(No column name)": "2",
                                    "listaar": "44"
                                },
                                {
                                    "Kategória neve": "vízfesték",
                                    "(No column name)": "4",
                                    "listaar": "176"
                                },
                                {
                                    "Kategória neve": "vízfesték",
                                    "(No column name)": "4",
                                    "listaar": "180"
                                },
                                {
                                    "Kategória neve": "vízfesték",
                                    "(No column name)": "4",
                                    "listaar": "210"
                                },
                                {
                                    "Kategória neve": "vízfesték",
                                    "(No column name)": "4",
                                    "listaar": "249"
                                },
                                {
                                    "Kategória neve": "vonalzó",
                                    "(No column name)": "6",
                                    "listaar": "30"
                                },
                                {
                                    "Kategória neve": "vonalzó",
                                    "(No column name)": "6",
                                    "listaar": "33"
                                },
                                {
                                    "Kategória neve": "vonalzó",
                                    "(No column name)": "6",
                                    "listaar": "58"
                                },
                                {
                                    "Kategória neve": "zászló",
                                    "(No column name)": "1",
                                    "listaar": "20"
                                },
                                {
                                    "Kategória neve": "zseléstoll",
                                    "(No column name)": "4",
                                    "listaar": "66"
                                },
                                {
                                    "Kategória neve": "zseléstoll",
                                    "(No column name)": "4",
                                    "listaar": "95"
                                },
                                {
                                    "Kategória neve": "zseléstoll",
                                    "(No column name)": "4",
                                    "listaar": "161"
                                },
                                {
                                    "Kategória neve": "zseléstoll",
                                    "(No column name)": "4",
                                    "listaar": "228"
                                }
                            ]
                        },
                        "text/html": [
                            "<table>",
                            "<tr><th>Kategória neve</th><th>(No column name)</th><th>listaar</th></tr>",
                            "<tr><td>ajándék tárgy</td><td>3</td><td>24</td></tr>",
                            "<tr><td>ajándék tárgy</td><td>3</td><td>73</td></tr>",
                            "<tr><td>ajándék tárgy</td><td>3</td><td>129</td></tr>",
                            "<tr><td>ajándék tasak</td><td>20</td><td>11</td></tr>",
                            "<tr><td>ajándék tasak</td><td>20</td><td>19</td></tr>",
                            "<tr><td>ajándék tasak</td><td>20</td><td>26</td></tr>",
                            "<tr><td>ajándék tasak</td><td>20</td><td>40</td></tr>",
                            "<tr><td>ajándék tasak</td><td>20</td><td>64</td></tr>",
                            "<tr><td>ajándék tasak</td><td>20</td><td>81</td></tr>",
                            "<tr><td>ajándék tasak</td><td>20</td><td>103</td></tr>",
                            "<tr><td>ajándék tasak</td><td>20</td><td>114</td></tr>",
                            "<tr><td>ajándék tasak</td><td>20</td><td>125</td></tr>",
                            "<tr><td>ajándék tasak</td><td>20</td><td>148</td></tr>",
                            "<tr><td>ajándék tasak</td><td>20</td><td>169</td></tr>",
                            "<tr><td>ajándék tasak</td><td>20</td><td>185</td></tr>",
                            "<tr><td>ajándék tasak</td><td>20</td><td>206</td></tr>",
                            "<tr><td>ajándék tasak</td><td>20</td><td>214</td></tr>",
                            "<tr><td>ajándék tasak</td><td>20</td><td>290</td></tr>",
                            "<tr><td>álarc</td><td>3</td><td>89</td></tr>",
                            "<tr><td>álarc</td><td>3</td><td>144</td></tr>",
                            "<tr><td>alkalmi</td><td>3</td><td>16900</td></tr>",
                            "<tr><td>alkalmi</td><td>3</td><td>32000</td></tr>",
                            "<tr><td>alufólia</td><td>2</td><td>118</td></tr>",
                            "<tr><td>alufólia</td><td>2</td><td>214</td></tr>",
                            "<tr><td>árazószalag</td><td>1</td><td>106</td></tr>",
                            "<tr><td>átírótömb</td><td>1</td><td>115</td></tr>",
                            "<tr><td>beíró</td><td>1</td><td>228</td></tr>",
                            "<tr><td>beírókönyv</td><td>2</td><td>133</td></tr>",
                            "<tr><td>beírókönyv</td><td>2</td><td>328</td></tr>",
                            "<tr><td>bélyegző</td><td>4</td><td>650</td></tr>",
                            "<tr><td>bélyegző</td><td>4</td><td>780</td></tr>",
                            "<tr><td>bélyegző</td><td>4</td><td>1147</td></tr>",
                            "<tr><td>bélyegző</td><td>4</td><td>1377</td></tr>",
                            "<tr><td>bélyegzőfesték</td><td>1</td><td>297</td></tr>",
                            "<tr><td>boríték</td><td>7</td><td>3</td></tr>",
                            "<tr><td>boríték</td><td>7</td><td>6</td></tr>",
                            "<tr><td>boríték</td><td>7</td><td>15</td></tr>",
                            "<tr><td>boríték</td><td>7</td><td>18</td></tr>",
                            "<tr><td>boríték</td><td>7</td><td>39</td></tr>",
                            "<tr><td>cd tok</td><td>1</td><td>30</td></tr>",
                            "<tr><td>celofán</td><td>2</td><td>46</td></tr>",
                            "<tr><td>celofán</td><td>2</td><td>73</td></tr>",
                            "<tr><td>ceruza</td><td>19</td><td>11</td></tr>",
                            "<tr><td>ceruza</td><td>19</td><td>23</td></tr>",
                            "<tr><td>ceruza</td><td>19</td><td>30</td></tr>",
                            "<tr><td>ceruza</td><td>19</td><td>35</td></tr>",
                            "<tr><td>ceruza</td><td>19</td><td>36</td></tr>",
                            "<tr><td>ceruza</td><td>19</td><td>39</td></tr>",
                            "<tr><td>ceruza</td><td>19</td><td>40</td></tr>",
                            "<tr><td>ceruza</td><td>19</td><td>44</td></tr>",
                            "<tr><td>ceruza</td><td>19</td><td>53</td></tr>",
                            "<tr><td>ceruza</td><td>19</td><td>55</td></tr>",
                            "<tr><td>ceruza</td><td>19</td><td>58</td></tr>",
                            "<tr><td>ceruza</td><td>19</td><td>59</td></tr>",
                            "<tr><td>ceruza</td><td>19</td><td>106</td></tr>",
                            "<tr><td>ceruza</td><td>19</td><td>146</td></tr>",
                            "<tr><td>címke</td><td>3</td><td>20</td></tr>",
                            "<tr><td>címke</td><td>3</td><td>26</td></tr>",
                            "<tr><td>címke</td><td>3</td><td>31</td></tr>",
                            "<tr><td>color copy</td><td>5</td><td>10</td></tr>",
                            "<tr><td>color copy</td><td>5</td><td>14</td></tr>",
                            "<tr><td>color copy</td><td>5</td><td>15</td></tr>",
                            "<tr><td>color copy</td><td>5</td><td>1500</td></tr>",
                            "<tr><td>csomagoló</td><td>2</td><td>89</td></tr>",
                            "<tr><td>csomagoló</td><td>2</td><td>110</td></tr>",
                            "<tr><td>csomagoló papír</td><td>7</td><td>23</td></tr>",
                            "<tr><td>csomagoló papír</td><td>7</td><td>44</td></tr>",
                            "<tr><td>csomagoló papír</td><td>7</td><td>56</td></tr>",
                            "<tr><td>csomagoló papír</td><td>7</td><td>106</td></tr>",
                            "<tr><td>csomagoló papír</td><td>7</td><td>121</td></tr>",
                            "<tr><td>csomagoló papír</td><td>7</td><td>148</td></tr>",
                            "<tr><td>csomagoló papír</td><td>7</td><td>220</td></tr>",
                            "<tr><td>dekor</td><td>4</td><td>3</td></tr>",
                            "<tr><td>dekor</td><td>4</td><td>15</td></tr>",
                            "<tr><td>dekor</td><td>4</td><td>23</td></tr>",
                            "<tr><td>dekor</td><td>4</td><td>44</td></tr>",
                            "<tr><td>dipa</td><td>1</td><td>9</td></tr>",
                            "<tr><td>díszdoboz</td><td>3</td><td>44</td></tr>",
                            "<tr><td>díszdoboz</td><td>3</td><td>61</td></tr>",
                            "<tr><td>díszdoboz</td><td>3</td><td>66</td></tr>",
                            "<tr><td>díszkötöző</td><td>5</td><td>15</td></tr>",
                            "<tr><td>díszkötöző</td><td>5</td><td>26</td></tr>",
                            "<tr><td>díszkötöző</td><td>5</td><td>44</td></tr>",
                            "<tr><td>díszkötöző</td><td>5</td><td>81</td></tr>",
                            "<tr><td>dvd</td><td>1</td><td>133</td></tr>",
                            "<tr><td>ecset</td><td>7</td><td>33</td></tr>",
                            "<tr><td>ecset</td><td>7</td><td>36</td></tr>",
                            "<tr><td>ecset</td><td>7</td><td>40</td></tr>",
                            "<tr><td>ecset</td><td>7</td><td>60</td></tr>",
                            "<tr><td>ecset</td><td>7</td><td>65</td></tr>",
                            "<tr><td>ecset</td><td>7</td><td>79</td></tr>",
                            "<tr><td>ecset</td><td>7</td><td>180</td></tr>",
                            "<tr><td>előlap</td><td>1</td><td>25</td></tr>",
                            "<tr><td>emlékkönyv</td><td>3</td><td>316</td></tr>",
                            "<tr><td>emlékkönyv</td><td>3</td><td>449</td></tr>",
                            "<tr><td>emlékkönyv</td><td>3</td><td>526</td></tr>",
                            "<tr><td>emléklap</td><td>1</td><td>26</td></tr>",
                            "<tr><td>fax papír</td><td>1</td><td>161</td></tr>",
                            "<tr><td>fehérnemű</td><td>7</td><td>240</td></tr>",
                            "<tr><td>fehérnemű</td><td>7</td><td>390</td></tr>",
                            "<tr><td>fehérnemű</td><td>7</td><td>690</td></tr>",
                            "<tr><td>fehérnemű</td><td>7</td><td>990</td></tr>",
                            "<tr><td>fénymásoló papír</td><td>5</td><td>686</td></tr>",
                            "<tr><td>fénymásoló papír</td><td>5</td><td>728</td></tr>",
                            "<tr><td>fénymásoló papír</td><td>5</td><td>845</td></tr>",
                            "<tr><td>fénymásoló papír</td><td>5</td><td>1488</td></tr>",
                            "<tr><td>férfi ing</td><td>1</td><td>6490</td></tr>",
                            "<tr><td>férfi kabát</td><td>1</td><td>22000</td></tr>",
                            "<tr><td>férfi nadrág</td><td>2</td><td>7890</td></tr>",
                            "<tr><td>férfi nadrág</td><td>2</td><td>11900</td></tr>",
                            "<tr><td>festékpatron</td><td>1</td><td>625</td></tr>",
                            "<tr><td>filctoll</td><td>13</td><td>0</td></tr>",
                            "<tr><td>filctoll</td><td>13</td><td>26</td></tr>",
                            "<tr><td>filctoll</td><td>13</td><td>46</td></tr>",
                            "<tr><td>filctoll</td><td>13</td><td>53</td></tr>",
                            "<tr><td>filctoll</td><td>13</td><td>76</td></tr>",
                            "<tr><td>filctoll</td><td>13</td><td>103</td></tr>",
                            "<tr><td>filctoll</td><td>13</td><td>114</td></tr>",
                            "<tr><td>filctoll</td><td>13</td><td>140</td></tr>",
                            "<tr><td>filctoll</td><td>13</td><td>276</td></tr>",
                            "<tr><td>filctoll</td><td>13</td><td>278</td></tr>",
                            "<tr><td>filctoll</td><td>13</td><td>390</td></tr>",
                            "<tr><td>filctoll</td><td>13</td><td>434</td></tr>",
                            "<tr><td>floppy</td><td>1</td><td>51</td></tr>",
                            "<tr><td>fólia</td><td>3</td><td>40</td></tr>",
                            "<tr><td>fólia</td><td>3</td><td>44</td></tr>",
                            "<tr><td>fotópapír</td><td>1</td><td>30</td></tr>",
                            "<tr><td>füzet</td><td>11</td><td>30</td></tr>",
                            "<tr><td>füzet</td><td>11</td><td>34</td></tr>",
                            "<tr><td>füzet</td><td>11</td><td>48</td></tr>",
                            "<tr><td>füzet</td><td>11</td><td>68</td></tr>",
                            "<tr><td>füzet</td><td>11</td><td>78</td></tr>",
                            "<tr><td>füzet</td><td>11</td><td>89</td></tr>",
                            "<tr><td>füzet</td><td>11</td><td>144</td></tr>",
                            "<tr><td>füzet</td><td>11</td><td>155</td></tr>",
                            "<tr><td>füzet</td><td>11</td><td>161</td></tr>",
                            "<tr><td>füzet</td><td>11</td><td>206</td></tr>",
                            "<tr><td>füzetborító</td><td>7</td><td>8</td></tr>",
                            "<tr><td>füzetborító</td><td>7</td><td>10</td></tr>",
                            "<tr><td>füzetborító</td><td>7</td><td>19</td></tr>",
                            "<tr><td>füzetborító</td><td>7</td><td>23</td></tr>",
                            "<tr><td>füzetborító</td><td>7</td><td>24</td></tr>",
                            "<tr><td>füzetborító</td><td>7</td><td>195</td></tr>",
                            "<tr><td>füzettartó</td><td>4</td><td>203</td></tr>",
                            "<tr><td>füzettartó</td><td>4</td><td>411</td></tr>",
                            "<tr><td>füzettartó</td><td>4</td><td>508</td></tr>",
                            "<tr><td>füzettartó</td><td>4</td><td>551</td></tr>",
                            "<tr><td>gemkapocs</td><td>2</td><td>30</td></tr>",
                            "<tr><td>gemkapocs</td><td>2</td><td>48</td></tr>",
                            "<tr><td>gémkapocs</td><td>2</td><td>44</td></tr>",
                            "<tr><td>gémkapocs</td><td>2</td><td>103</td></tr>",
                            "<tr><td>genoterm</td><td>1</td><td>89</td></tr>",
                            "<tr><td>genotherm</td><td>3</td><td>8</td></tr>",
                            "<tr><td>genotherm</td><td>3</td><td>63</td></tr>",
                            "<tr><td>genotherm</td><td>3</td><td>110</td></tr>",
                            "<tr><td>golyóstoll</td><td>26</td><td>23</td></tr>",
                            "<tr><td>golyóstoll</td><td>26</td><td>33</td></tr>",
                            "<tr><td>golyóstoll</td><td>26</td><td>41</td></tr>",
                            "<tr><td>golyóstoll</td><td>26</td><td>44</td></tr>",
                            "<tr><td>golyóstoll</td><td>26</td><td>51</td></tr>",
                            "<tr><td>golyóstoll</td><td>26</td><td>63</td></tr>",
                            "<tr><td>golyóstoll</td><td>26</td><td>81</td></tr>",
                            "<tr><td>golyóstoll</td><td>26</td><td>93</td></tr>",
                            "<tr><td>golyóstoll</td><td>26</td><td>94</td></tr>",
                            "<tr><td>golyóstoll</td><td>26</td><td>101</td></tr>",
                            "<tr><td>golyóstoll</td><td>26</td><td>110</td></tr>",
                            "<tr><td>golyóstoll</td><td>26</td><td>188</td></tr>",
                            "<tr><td>golyóstoll</td><td>26</td><td>189</td></tr>",
                            "<tr><td>golyóstoll</td><td>26</td><td>218</td></tr>",
                            "<tr><td>golyóstoll</td><td>26</td><td>230</td></tr>",
                            "<tr><td>golyóstoll</td><td>26</td><td>231</td></tr>",
                            "<tr><td>golyóstoll</td><td>26</td><td>239</td></tr>",
                            "<tr><td>golyóstoll</td><td>26</td><td>273</td></tr>",
                            "<tr><td>golyóstoll</td><td>26</td><td>294</td></tr>",
                            "<tr><td>golyóstoll</td><td>26</td><td>364</td></tr>",
                            "<tr><td>golyóstoll</td><td>26</td><td>390</td></tr>",
                            "<tr><td>golyóstoll</td><td>26</td><td>401</td></tr>",
                            "<tr><td>golyóstoll</td><td>26</td><td>455</td></tr>",
                            "<tr><td>golyóstoll</td><td>26</td><td>655</td></tr>",
                            "<tr><td>golyóstoll</td><td>26</td><td>773</td></tr>",
                            "<tr><td>golyóstoll</td><td>26</td><td>1019</td></tr>",
                            "<tr><td>gumigyűrű</td><td>1</td><td>19</td></tr>",
                            "<tr><td>gyermek cipő</td><td>6</td><td>6900</td></tr>",
                            "<tr><td>gyermek cipő</td><td>6</td><td>7900</td></tr>",
                            "<tr><td>gyermek cipő</td><td>6</td><td>8000</td></tr>",
                            "<tr><td>gyermek kabát</td><td>2</td><td>8900</td></tr>",
                            "<tr><td>gyermek nadrág</td><td>4</td><td>1290</td></tr>",
                            "<tr><td>gyermek nadrág</td><td>4</td><td>4990</td></tr>",
                            "<tr><td>gyermek póló</td><td>2</td><td>3900</td></tr>",
                            "<tr><td>gyorsfűző</td><td>3</td><td>18</td></tr>",
                            "<tr><td>gyorsfűző</td><td>3</td><td>30</td></tr>",
                            "<tr><td>gyorsfűző</td><td>3</td><td>35</td></tr>",
                            "<tr><td>gyurma</td><td>4</td><td>121</td></tr>",
                            "<tr><td>gyurma</td><td>4</td><td>161</td></tr>",
                            "<tr><td>gyurma</td><td>4</td><td>180</td></tr>",
                            "<tr><td>gyurma</td><td>4</td><td>228</td></tr>",
                            "<tr><td>gyűrűskönyv</td><td>5</td><td>95</td></tr>",
                            "<tr><td>gyűrűskönyv</td><td>5</td><td>184</td></tr>",
                            "<tr><td>gyűrűskönyv</td><td>5</td><td>218</td></tr>",
                            "<tr><td>gyűrűskönyv</td><td>5</td><td>581</td></tr>",
                            "<tr><td>gyűrűskönyv</td><td>5</td><td>699</td></tr>",
                            "<tr><td>hajgumi</td><td>1</td><td>66</td></tr>",
                            "<tr><td>határidő napló</td><td>2</td><td>464</td></tr>",
                            "<tr><td>határidő napló</td><td>2</td><td>728</td></tr>",
                            "<tr><td>hegyező</td><td>4</td><td>23</td></tr>",
                            "<tr><td>hegyező</td><td>4</td><td>30</td></tr>",
                            "<tr><td>hegyező</td><td>4</td><td>875</td></tr>",
                            "<tr><td>hegyző</td><td>2</td><td>70</td></tr>",
                            "<tr><td>hegyző</td><td>2</td><td>180</td></tr>",
                            "<tr><td>hibajavító</td><td>7</td><td>81</td></tr>",
                            "<tr><td>hibajavító</td><td>7</td><td>133</td></tr>",
                            "<tr><td>hibajavító</td><td>7</td><td>185</td></tr>",
                            "<tr><td>hibajavító</td><td>7</td><td>273</td></tr>",
                            "<tr><td>hibajavító</td><td>7</td><td>278</td></tr>",
                            "<tr><td>hibajavító</td><td>7</td><td>286</td></tr>",
                            "<tr><td>hibajavító</td><td>7</td><td>794</td></tr>",
                            "<tr><td>hűtőmágnes</td><td>2</td><td>24</td></tr>",
                            "<tr><td>hűtőmágnes</td><td>2</td><td>169</td></tr>",
                            "<tr><td>indigó</td><td>2</td><td>12</td></tr>",
                            "<tr><td>indigó</td><td>2</td><td>15</td></tr>",
                            "<tr><td>írásvetítő fólia</td><td>1</td><td>81</td></tr>",
                            "<tr><td>iratgyűjtő</td><td>3</td><td>19</td></tr>",
                            "<tr><td>iratgyűjtő</td><td>3</td><td>133</td></tr>",
                            "<tr><td>iratrendező</td><td>2</td><td>243</td></tr>",
                            "<tr><td>iratrendező</td><td>2</td><td>259</td></tr>",
                            "<tr><td>iratsín</td><td>2</td><td>44</td></tr>",
                            "<tr><td>iratsín</td><td>2</td><td>89</td></tr>",
                            "<tr><td>irattartó</td><td>2</td><td>66</td></tr>",
                            "<tr><td>irattartó</td><td>2</td><td>214</td></tr>",
                            "<tr><td>irodaszer</td><td>1</td><td>59</td></tr>",
                            "<tr><td>írólap</td><td>2</td><td>29</td></tr>",
                            "<tr><td>írólap</td><td>2</td><td>34</td></tr>",
                            "<tr><td>ironbél</td><td>5</td><td>23</td></tr>",
                            "<tr><td>ironbél</td><td>5</td><td>36</td></tr>",
                            "<tr><td>ironbél</td><td>5</td><td>59</td></tr>",
                            "<tr><td>ironbél</td><td>5</td><td>74</td></tr>",
                            "<tr><td>ironbél</td><td>5</td><td>78</td></tr>",
                            "<tr><td>iskolaszer</td><td>24</td><td>5</td></tr>",
                            "<tr><td>iskolaszer</td><td>24</td><td>8</td></tr>",
                            "<tr><td>iskolaszer</td><td>24</td><td>9</td></tr>",
                            "<tr><td>iskolaszer</td><td>24</td><td>19</td></tr>",
                            "<tr><td>iskolaszer</td><td>24</td><td>23</td></tr>",
                            "<tr><td>iskolaszer</td><td>24</td><td>33</td></tr>",
                            "<tr><td>iskolaszer</td><td>24</td><td>35</td></tr>",
                            "<tr><td>iskolaszer</td><td>24</td><td>36</td></tr>",
                            "<tr><td>iskolaszer</td><td>24</td><td>43</td></tr>",
                            "<tr><td>iskolaszer</td><td>24</td><td>45</td></tr>",
                            "<tr><td>iskolaszer</td><td>24</td><td>51</td></tr>",
                            "<tr><td>iskolaszer</td><td>24</td><td>58</td></tr>",
                            "<tr><td>iskolaszer</td><td>24</td><td>61</td></tr>",
                            "<tr><td>iskolaszer</td><td>24</td><td>73</td></tr>",
                            "<tr><td>iskolaszer</td><td>24</td><td>74</td></tr>",
                            "<tr><td>iskolaszer</td><td>24</td><td>103</td></tr>",
                            "<tr><td>iskolaszer</td><td>24</td><td>125</td></tr>",
                            "<tr><td>iskolaszer</td><td>24</td><td>161</td></tr>",
                            "<tr><td>iskolaszer</td><td>24</td><td>324</td></tr>",
                            "<tr><td>iskolaszer</td><td>24</td><td>511</td></tr>",
                            "<tr><td>játékautó</td><td>4</td><td>65</td></tr>",
                            "<tr><td>játékautó</td><td>4</td><td>73</td></tr>",
                            "<tr><td>játékautó</td><td>4</td><td>133</td></tr>",
                            "<tr><td>játékautó</td><td>4</td><td>165</td></tr>",
                            "<tr><td>jelzőkréta</td><td>1</td><td>48</td></tr>",
                            "<tr><td>kapocskiszedő</td><td>1</td><td>106</td></tr>",
                            "<tr><td>karton</td><td>6</td><td>11</td></tr>",
                            "<tr><td>karton</td><td>6</td><td>25</td></tr>",
                            "<tr><td>karton</td><td>6</td><td>38</td></tr>",
                            "<tr><td>karton</td><td>6</td><td>40</td></tr>",
                            "<tr><td>karton</td><td>6</td><td>73</td></tr>",
                            "<tr><td>karton</td><td>6</td><td>89</td></tr>",
                            "<tr><td>kártya</td><td>1</td><td>131</td></tr>",
                            "<tr><td>képeslap</td><td>16</td><td>14</td></tr>",
                            "<tr><td>képeslap</td><td>16</td><td>15</td></tr>",
                            "<tr><td>képeslap</td><td>16</td><td>30</td></tr>",
                            "<tr><td>képeslap</td><td>16</td><td>33</td></tr>",
                            "<tr><td>képeslap</td><td>16</td><td>36</td></tr>",
                            "<tr><td>képeslap</td><td>16</td><td>44</td></tr>",
                            "<tr><td>képeslap</td><td>16</td><td>48</td></tr>",
                            "<tr><td>képeslap</td><td>16</td><td>51</td></tr>",
                            "<tr><td>képeslap</td><td>16</td><td>55</td></tr>",
                            "<tr><td>képeslap</td><td>16</td><td>59</td></tr>",
                            "<tr><td>képeslap</td><td>16</td><td>73</td></tr>",
                            "<tr><td>képeslap</td><td>16</td><td>81</td></tr>",
                            "<tr><td>képeslap</td><td>16</td><td>89</td></tr>",
                            "<tr><td>képeslap</td><td>16</td><td>118</td></tr>",
                            "<tr><td>képeslap</td><td>16</td><td>184</td></tr>",
                            "<tr><td>képkirakó</td><td>1</td><td>195</td></tr>",
                            "<tr><td>kosztüm</td><td>2</td><td>39000</td></tr>",
                            "<tr><td>kosztüm</td><td>2</td><td>46000</td></tr>",
                            "<tr><td>könyv</td><td>15</td><td>214</td></tr>",
                            "<tr><td>könyv</td><td>15</td><td>291</td></tr>",
                            "<tr><td>könyv</td><td>15</td><td>308</td></tr>",
                            "<tr><td>könyv</td><td>15</td><td>324</td></tr>",
                            "<tr><td>könyv</td><td>15</td><td>345</td></tr>",
                            "<tr><td>könyv</td><td>15</td><td>440</td></tr>",
                            "<tr><td>könyv</td><td>15</td><td>674</td></tr>",
                            "<tr><td>könyv</td><td>15</td><td>691</td></tr>",
                            "<tr><td>könyv</td><td>15</td><td>720</td></tr>",
                            "<tr><td>könyv</td><td>15</td><td>735</td></tr>",
                            "<tr><td>könyv</td><td>15</td><td>868</td></tr>",
                            "<tr><td>könyv</td><td>15</td><td>1089</td></tr>",
                            "<tr><td>körző</td><td>3</td><td>30</td></tr>",
                            "<tr><td>körző</td><td>3</td><td>161</td></tr>",
                            "<tr><td>körző</td><td>3</td><td>243</td></tr>",
                            "<tr><td>kreatív</td><td>2</td><td>4</td></tr>",
                            "<tr><td>kreatív</td><td>2</td><td>13</td></tr>",
                            "<tr><td>kulcstartó</td><td>7</td><td>36</td></tr>",
                            "<tr><td>kulcstartó</td><td>7</td><td>103</td></tr>",
                            "<tr><td>kulcstartó</td><td>7</td><td>115</td></tr>",
                            "<tr><td>kulcstartó</td><td>7</td><td>124</td></tr>",
                            "<tr><td>kulcstartó</td><td>7</td><td>129</td></tr>",
                            "<tr><td>kulcstartó</td><td>7</td><td>148</td></tr>",
                            "<tr><td>kulcstartó</td><td>7</td><td>155</td></tr>",
                            "<tr><td>labda</td><td>2</td><td>81</td></tr>",
                            "<tr><td>labda</td><td>2</td><td>110</td></tr>",
                            "<tr><td>levélpapír</td><td>7</td><td>15</td></tr>",
                            "<tr><td>levélpapír</td><td>7</td><td>56</td></tr>",
                            "<tr><td>levélpapír</td><td>7</td><td>74</td></tr>",
                            "<tr><td>levélpapír</td><td>7</td><td>89</td></tr>",
                            "<tr><td>levélpapír</td><td>7</td><td>103</td></tr>",
                            "<tr><td>levélpapír</td><td>7</td><td>140</td></tr>",
                            "<tr><td>levélpapír</td><td>7</td><td>169</td></tr>",
                            "<tr><td>lufi</td><td>2</td><td>11</td></tr>",
                            "<tr><td>lufi</td><td>2</td><td>15</td></tr>",
                            "<tr><td>lyukasztó</td><td>2</td><td>526</td></tr>",
                            "<tr><td>lyukasztó</td><td>2</td><td>765</td></tr>",
                            "<tr><td>mappa</td><td>9</td><td>148</td></tr>",
                            "<tr><td>mappa</td><td>9</td><td>184</td></tr>",
                            "<tr><td>mappa</td><td>9</td><td>191</td></tr>",
                            "<tr><td>mappa</td><td>9</td><td>195</td></tr>",
                            "<tr><td>mappa</td><td>9</td><td>210</td></tr>",
                            "<tr><td>mappa</td><td>9</td><td>211</td></tr>",
                            "<tr><td>mappa</td><td>9</td><td>264</td></tr>",
                            "<tr><td>mappa</td><td>9</td><td>360</td></tr>",
                            "<tr><td>mappa</td><td>9</td><td>1765</td></tr>",
                            "<tr><td>matrica</td><td>10</td><td>49</td></tr>",
                            "<tr><td>matrica</td><td>10</td><td>55</td></tr>",
                            "<tr><td>matrica</td><td>10</td><td>56</td></tr>",
                            "<tr><td>matrica</td><td>10</td><td>93</td></tr>",
                            "<tr><td>matrica</td><td>10</td><td>109</td></tr>",
                            "<tr><td>matrica</td><td>10</td><td>148</td></tr>",
                            "<tr><td>matrica</td><td>10</td><td>161</td></tr>",
                            "<tr><td>matrica</td><td>10</td><td>168</td></tr>",
                            "<tr><td>matrica</td><td>10</td><td>175</td></tr>",
                            "<tr><td>meghívó</td><td>4</td><td>59</td></tr>",
                            "<tr><td>meghívó</td><td>4</td><td>63</td></tr>",
                            "<tr><td>meghívó</td><td>4</td><td>155</td></tr>",
                            "<tr><td>meghívó</td><td>4</td><td>169</td></tr>",
                            "<tr><td>miliméterpapír</td><td>1</td><td>8</td></tr>",
                            "<tr><td>munkafüzet</td><td>9</td><td>190</td></tr>",
                            "<tr><td>munkafüzet</td><td>9</td><td>198</td></tr>",
                            "<tr><td>munkafüzet</td><td>9</td><td>293</td></tr>",
                            "<tr><td>munkafüzet</td><td>9</td><td>353</td></tr>",
                            "<tr><td>munkafüzet</td><td>9</td><td>403</td></tr>",
                            "<tr><td>munkafüzet</td><td>9</td><td>440</td></tr>",
                            "<tr><td>munkafüzet</td><td>9</td><td>785</td></tr>",
                            "<tr><td>műnyomó</td><td>1</td><td>3</td></tr>",
                            "<tr><td>naptár</td><td>1</td><td>89</td></tr>",
                            "<tr><td>naptárhát</td><td>2</td><td>15</td></tr>",
                            "<tr><td>naptárhát</td><td>2</td><td>78</td></tr>",
                            "<tr><td>névjegytartó</td><td>1</td><td>310</td></tr>",
                            "<tr><td>notesz</td><td>5</td><td>44</td></tr>",
                            "<tr><td>notesz</td><td>5</td><td>56</td></tr>",
                            "<tr><td>notesz</td><td>5</td><td>89</td></tr>",
                            "<tr><td>notesz</td><td>5</td><td>103</td></tr>",
                            "<tr><td>női kabát</td><td>1</td><td>24000</td></tr>",
                            "<tr><td>női nadrág</td><td>1</td><td>8290</td></tr>",
                            "<tr><td>ofszet</td><td>1</td><td>4</td></tr>",
                            "<tr><td>oklevél</td><td>2</td><td>48</td></tr>",
                            "<tr><td>oklevél</td><td>2</td><td>55</td></tr>",
                            "<tr><td>olló</td><td>3</td><td>133</td></tr>",
                            "<tr><td>olló</td><td>3</td><td>161</td></tr>",
                            "<tr><td>olló</td><td>3</td><td>176</td></tr>",
                            "<tr><td>öntapadó</td><td>2</td><td>59</td></tr>",
                            "<tr><td>öntapadó</td><td>2</td><td>4575</td></tr>",
                            "<tr><td>papízsebkendő</td><td>1</td><td>20</td></tr>",
                            "<tr><td>pausz</td><td>1</td><td>15</td></tr>",
                            "<tr><td>pénztárbizonylat</td><td>2</td><td>103</td></tr>",
                            "<tr><td>pénztárbizonylat</td><td>2</td><td>144</td></tr>",
                            "<tr><td>pénztárgépszalag</td><td>2</td><td>81</td></tr>",
                            "<tr><td>pénztárgépszalag</td><td>2</td><td>93</td></tr>",
                            "<tr><td>pixiron</td><td>9</td><td>59</td></tr>",
                            "<tr><td>pixiron</td><td>9</td><td>94</td></tr>",
                            "<tr><td>pixiron</td><td>9</td><td>125</td></tr>",
                            "<tr><td>pixiron</td><td>9</td><td>133</td></tr>",
                            "<tr><td>pixiron</td><td>9</td><td>235</td></tr>",
                            "<tr><td>pixiron</td><td>9</td><td>276</td></tr>",
                            "<tr><td>pixiron</td><td>9</td><td>299</td></tr>",
                            "<tr><td>pixiron</td><td>9</td><td>468</td></tr>",
                            "<tr><td>plüss</td><td>3</td><td>161</td></tr>",
                            "<tr><td>plüss</td><td>3</td><td>173</td></tr>",
                            "<tr><td>plüss</td><td>3</td><td>314</td></tr>",
                            "<tr><td>post-it</td><td>2</td><td>36</td></tr>",
                            "<tr><td>post-it</td><td>2</td><td>89</td></tr>",
                            "<tr><td>radír</td><td>7</td><td>19</td></tr>",
                            "<tr><td>radír</td><td>7</td><td>36</td></tr>",
                            "<tr><td>radír</td><td>7</td><td>40</td></tr>",
                            "<tr><td>radír</td><td>7</td><td>44</td></tr>",
                            "<tr><td>radír</td><td>7</td><td>49</td></tr>",
                            "<tr><td>radír</td><td>7</td><td>50</td></tr>",
                            "<tr><td>radírtoll</td><td>2</td><td>74</td></tr>",
                            "<tr><td>radírtoll</td><td>2</td><td>119</td></tr>",
                            "<tr><td>ragasztó</td><td>10</td><td>81</td></tr>",
                            "<tr><td>ragasztó</td><td>10</td><td>89</td></tr>",
                            "<tr><td>ragasztó</td><td>10</td><td>101</td></tr>",
                            "<tr><td>ragasztó</td><td>10</td><td>103</td></tr>",
                            "<tr><td>ragasztó</td><td>10</td><td>110</td></tr>",
                            "<tr><td>ragasztó</td><td>10</td><td>133</td></tr>",
                            "<tr><td>ragasztó</td><td>10</td><td>144</td></tr>",
                            "<tr><td>ragasztó</td><td>10</td><td>293</td></tr>",
                            "<tr><td>ragasztó</td><td>10</td><td>426</td></tr>",
                            "<tr><td>ragasztószalag</td><td>4</td><td>15</td></tr>",
                            "<tr><td>ragasztószalag</td><td>4</td><td>55</td></tr>",
                            "<tr><td>ragasztószalag</td><td>4</td><td>63</td></tr>",
                            "<tr><td>ragasztószalag</td><td>4</td><td>166</td></tr>",
                            "<tr><td>rágógumi</td><td>1</td><td>89</td></tr>",
                            "<tr><td>rajzlap</td><td>2</td><td>28</td></tr>",
                            "<tr><td>rajzlap</td><td>2</td><td>342</td></tr>",
                            "<tr><td>rajzszeg</td><td>2</td><td>63</td></tr>",
                            "<tr><td>rajzszeg</td><td>2</td><td>106</td></tr>",
                            "<tr><td>regiszteres füzet</td><td>2</td><td>203</td></tr>",
                            "<tr><td>regiszteres füzet</td><td>2</td><td>256</td></tr>",
                            "<tr><td>sál</td><td>1</td><td>1990</td></tr>",
                            "<tr><td>spirál</td><td>1</td><td>45</td></tr>",
                            "<tr><td>strandlabda</td><td>1</td><td>356</td></tr>",
                            "<tr><td>szalvéta</td><td>6</td><td>118</td></tr>",
                            "<tr><td>szalvéta</td><td>6</td><td>133</td></tr>",
                            "<tr><td>szalvéta</td><td>6</td><td>161</td></tr>",
                            "<tr><td>szalvéta</td><td>6</td><td>175</td></tr>",
                            "<tr><td>szalvéta</td><td>6</td><td>176</td></tr>",
                            "<tr><td>szalvéta</td><td>6</td><td>183</td></tr>",
                            "<tr><td>számológép</td><td>2</td><td>508</td></tr>",
                            "<tr><td>számológép</td><td>2</td><td>1173</td></tr>",
                            "<tr><td>szemetes</td><td>1</td><td>129</td></tr>",
                            "<tr><td>színes</td><td>2</td><td>99</td></tr>",
                            "<tr><td>színes</td><td>2</td><td>161</td></tr>",
                            "<tr><td>szögmérő</td><td>3</td><td>8</td></tr>",
                            "<tr><td>szögmérő</td><td>3</td><td>11</td></tr>",
                            "<tr><td>szögmérő</td><td>3</td><td>24</td></tr>",
                            "<tr><td>szövegkiemelő</td><td>5</td><td>78</td></tr>",
                            "<tr><td>szövegkiemelő</td><td>5</td><td>89</td></tr>",
                            "<tr><td>szövegkiemelő</td><td>5</td><td>93</td></tr>",
                            "<tr><td>szövegkiemelő</td><td>5</td><td>103</td></tr>",
                            "<tr><td>szövegkiemelő</td><td>5</td><td>140</td></tr>",
                            "<tr><td>táblafilc</td><td>1</td><td>633</td></tr>",
                            "<tr><td>tapétavágó</td><td>1</td><td>40</td></tr>",
                            "<tr><td>tempera</td><td>2</td><td>48</td></tr>",
                            "<tr><td>tempera</td><td>2</td><td>96</td></tr>",
                            "<tr><td>térképtű</td><td>1</td><td>103</td></tr>",
                            "<tr><td>tintapatron</td><td>3</td><td>9</td></tr>",
                            "<tr><td>tintapatron</td><td>3</td><td>11</td></tr>",
                            "<tr><td>tintapatron</td><td>3</td><td>360</td></tr>",
                            "<tr><td>toll</td><td>2</td><td>74</td></tr>",
                            "<tr><td>toll</td><td>2</td><td>80</td></tr>",
                            "<tr><td>tollbetét</td><td>18</td><td>15</td></tr>",
                            "<tr><td>tollbetét</td><td>18</td><td>23</td></tr>",
                            "<tr><td>tollbetét</td><td>18</td><td>30</td></tr>",
                            "<tr><td>tollbetét</td><td>18</td><td>33</td></tr>",
                            "<tr><td>tollbetét</td><td>18</td><td>39</td></tr>",
                            "<tr><td>tollbetét</td><td>18</td><td>44</td></tr>",
                            "<tr><td>tollbetét</td><td>18</td><td>48</td></tr>",
                            "<tr><td>tollbetét</td><td>18</td><td>55</td></tr>",
                            "<tr><td>tollbetét</td><td>18</td><td>78</td></tr>",
                            "<tr><td>tollbetét</td><td>18</td><td>80</td></tr>",
                            "<tr><td>tollbetét</td><td>18</td><td>85</td></tr>",
                            "<tr><td>tollbetét</td><td>18</td><td>89</td></tr>",
                            "<tr><td>tollbetét</td><td>18</td><td>91</td></tr>",
                            "<tr><td>tollbetét</td><td>18</td><td>123</td></tr>",
                            "<tr><td>tollbetét</td><td>18</td><td>228</td></tr>",
                            "<tr><td>tollbetét</td><td>18</td><td>684</td></tr>",
                            "<tr><td>tolltartó</td><td>7</td><td>324</td></tr>",
                            "<tr><td>tolltartó</td><td>7</td><td>410</td></tr>",
                            "<tr><td>tolltartó</td><td>7</td><td>411</td></tr>",
                            "<tr><td>tolltartó</td><td>7</td><td>655</td></tr>",
                            "<tr><td>tolltartó</td><td>7</td><td>728</td></tr>",
                            "<tr><td>tolltartó</td><td>7</td><td>765</td></tr>",
                            "<tr><td>toner</td><td>1</td><td>14250</td></tr>",
                            "<tr><td>töltőtoll</td><td>1</td><td>493</td></tr>",
                            "<tr><td>tűzőgép</td><td>6</td><td>286</td></tr>",
                            "<tr><td>tűzőgép</td><td>6</td><td>339</td></tr>",
                            "<tr><td>tűzőgép</td><td>6</td><td>405</td></tr>",
                            "<tr><td>tűzőgép</td><td>6</td><td>438</td></tr>",
                            "<tr><td>tűzőgép</td><td>6</td><td>1351</td></tr>",
                            "<tr><td>tűzőgép</td><td>6</td><td>2100</td></tr>",
                            "<tr><td>tűzőkapocs</td><td>2</td><td>34</td></tr>",
                            "<tr><td>tűzőkapocs</td><td>2</td><td>44</td></tr>",
                            "<tr><td>vízfesték</td><td>4</td><td>176</td></tr>",
                            "<tr><td>vízfesték</td><td>4</td><td>180</td></tr>",
                            "<tr><td>vízfesték</td><td>4</td><td>210</td></tr>",
                            "<tr><td>vízfesték</td><td>4</td><td>249</td></tr>",
                            "<tr><td>vonalzó</td><td>6</td><td>30</td></tr>",
                            "<tr><td>vonalzó</td><td>6</td><td>33</td></tr>",
                            "<tr><td>vonalzó</td><td>6</td><td>58</td></tr>",
                            "<tr><td>zászló</td><td>1</td><td>20</td></tr>",
                            "<tr><td>zseléstoll</td><td>4</td><td>66</td></tr>",
                            "<tr><td>zseléstoll</td><td>4</td><td>95</td></tr>",
                            "<tr><td>zseléstoll</td><td>4</td><td>161</td></tr>",
                            "<tr><td>zseléstoll</td><td>4</td><td>228</td></tr>",
                            "</table>"
                        ]
                    }
                }
            ],
            "execution_count": 13
        },
        {
            "cell_type": "markdown",
            "source": [
                "8. <span style=\"font-weight: 600; color: rgb(36, 41, 47); font-family: -apple-system, BlinkMacSystemFont, &quot;Segoe UI&quot;, Helvetica, Arial, sans-serif, &quot;Apple Color Emoji&quot;, &quot;Segoe UI Emoji&quot;; font-size: 16px;\">Készítsünk listát a rendelési tételekről. Az egyes rendelési tételeket termékenként soroljuk be 4 osztályba a rendelés mennyisége alapján. Jelenítsük meg ezt az információt is egy új oszlopban, az oszlop neve legyen 'Mennyiségi kategória'.</span>\n",
                "\n",
                "1. A lista csak a 100 Ft feletti egységárú rendelési tételeket vegye figyelembe!"
            ],
            "metadata": {
                "azdata_cell_guid": "27a3d3dc-eafb-4a5e-b103-9f465b9eda8f"
            },
            "attachments": {}
        },
        {
            "cell_type": "code",
            "source": [
                ""
            ],
            "metadata": {
                "azdata_cell_guid": "f09edb3f-649b-4a96-958e-9e12774ae8b7",
                "language": "sql"
            },
            "outputs": [],
            "execution_count": null
        },
        {
            "cell_type": "markdown",
            "source": [
                "9. <span style=\"font-weight: 600; color: rgb(36, 41, 47); font-family: -apple-system, BlinkMacSystemFont, &quot;Segoe UI&quot;, Helvetica, Arial, sans-serif, &quot;Apple Color Emoji&quot;, &quot;Segoe UI Emoji&quot;; font-size: 16px;\">Listázzuk a termékek kódját, megnevezését, kategóriájának nevét, és listaárát.</span>\n",
                "\n",
                "1. A listát egészítsük ki két új oszloppal, amelyek a kategória legolcsóbb, illetve legdrágább termékének árát tartalmazzák.\n",
                "2. A két új oszlop létrehozásánál partíciókkal dolgozzunk!"
            ],
            "metadata": {
                "azdata_cell_guid": "f12a331a-0e26-4d3d-9c68-812316286577"
            },
            "attachments": {}
        },
        {
            "cell_type": "code",
            "source": [
                ""
            ],
            "metadata": {
                "azdata_cell_guid": "10a77fc9-e61a-46fc-a401-59720d82bc50",
                "language": "sql"
            },
            "outputs": [],
            "execution_count": null
        },
        {
            "cell_type": "markdown",
            "source": [
                "10. <span style=\"font-weight: 600; color: rgb(36, 41, 47); font-family: -apple-system, BlinkMacSystemFont, &quot;Segoe UI&quot;, Helvetica, Arial, sans-serif, &quot;Apple Color Emoji&quot;, &quot;Segoe UI Emoji&quot;; font-size: 16px;\">Készítsünk listát a rendelésekről. A lista legyen rendezve ügyfelenként (LOGIN), azon belül a rendelés dátuma szerint. A listához készítsünk sorszámozást is. A sorszám a következő formában jelenjen meg: sorszám_év_login. Pl: 1_2015_adam1</span>\n",
                "\n",
                "1. A számozás login-onként, azon belül rendelési évenként kezdődjön újra.\n",
                "2. A sorszám oszlop neve legyen Azonosító"
            ],
            "metadata": {
                "azdata_cell_guid": "9229e2b6-e200-4499-b95b-2d0222149831"
            },
            "attachments": {}
        },
        {
            "cell_type": "code",
            "source": [
                ""
            ],
            "metadata": {
                "azdata_cell_guid": "8b49ed67-28c6-4880-82a8-cd369e5bba99",
                "language": "sql"
            },
            "outputs": [],
            "execution_count": null
        },
        {
            "cell_type": "markdown",
            "source": [
                "11. <span style=\"color: rgb(36, 41, 47); font-family: -apple-system, BlinkMacSystemFont, &quot;Segoe UI&quot;, Helvetica, Arial, sans-serif, &quot;Apple Color Emoji&quot;, &quot;Segoe UI Emoji&quot;; font-size: 16px;\">Készítsünk listát a termékek adatairól listaár szerint növekvő sorrendben! A lista jelenítse meg két új oszlopban a sorrend szerint előző, illetve következő termék listaárát is a termék saját kategóriájában és raktárában!</span>\n",
                "\n",
                "1. Ahol nincs előző vagy következő érték, ott 0 jelenjen meg!\n",
                "2. Az oszlopokat nevezzük el értelemszerűen!"
            ],
            "metadata": {
                "azdata_cell_guid": "7f5fc7a7-3b6a-4d89-b292-490830afb0c6"
            },
            "attachments": {}
        },
        {
            "cell_type": "code",
            "source": [
                ""
            ],
            "metadata": {
                "azdata_cell_guid": "4a9ece40-f782-4c0d-92cd-9c21969067ed",
                "language": "sql"
            },
            "outputs": [],
            "execution_count": null
        },
        {
            "cell_type": "markdown",
            "source": [
                "12. <span style=\"color: rgb(36, 41, 47); font-family: -apple-system, BlinkMacSystemFont, &quot;Segoe UI&quot;, Helvetica, Arial, sans-serif, &quot;Apple Color Emoji&quot;, &quot;Segoe UI Emoji&quot;; font-size: 16px;\">Listázzuk a termékek kódját, nevét és listaárát listaár szerinti sorrendben!</span>\n",
                "\n",
                "1. Vegyünk fel egy új oszlopot Mozgóátlag néven, amely minden esetben az aktuális termék, az előző, és a következő termék átlagárát tartalmazza!\n",
                "2. A mozgóátlagot kerekítsük két tizedesre!"
            ],
            "metadata": {
                "azdata_cell_guid": "5a483c52-bb98-44bb-bd03-1146d4b0abfa"
            },
            "attachments": {}
        },
        {
            "cell_type": "code",
            "source": [
                ""
            ],
            "metadata": {
                "azdata_cell_guid": "dd6e89bd-08f9-4b18-8460-03c45b503df0",
                "language": "sql"
            },
            "outputs": [],
            "execution_count": null
        },
        {
            "cell_type": "markdown",
            "source": [
                "13. <span style=\"color: rgb(36, 41, 47); font-family: -apple-system, BlinkMacSystemFont, &quot;Segoe UI&quot;, Helvetica, Arial, sans-serif, &quot;Apple Color Emoji&quot;, &quot;Segoe UI Emoji&quot;; font-size: 16px;\">Készítsünk listát, amely a rendelések sorszámát és a rendelés értékét tartalmazza. A listát egészítsük ki egy új oszloppal, amely minden rendelés esetén addigi rendelések összegét tartalmazza (az aktuálisat is beleértve)!</span>\n",
                "\n",
                "1. A listát rendezzük sorszám szerint növekvő sorrendbe.\n",
                "2. A lista ne tartalmazzon duplikált sorokat!"
            ],
            "metadata": {
                "azdata_cell_guid": "85d5cb66-96c6-42de-99cf-85ab22d08548"
            },
            "attachments": {}
        },
        {
            "cell_type": "code",
            "source": [
                "SELECT DISTINCT(SORSZAM),\r\n",
                "--az aktualis osszege\r\n",
                "SUM(MENNYISEG*EGYSEGAR) OVER(PARTITON BY SORSZAM),\r\n",
                "--addigi rendeles osszege\r\n",
                "SUM(MENNYISEG*EGYSEGAR) OVER(ORDER BY SORSZAM RANGE BETWEEN UNBOUNDED PRECIDING AND CURRENT ROW)\r\n",
                "--logikai ablak: elejetol aktualisig\r\n",
                "FROM Rendeles_tetel\r\n",
                "--GROUP BY SORSZAM\r\n",
                "ORDER BY SORSZAM ASC"
            ],
            "metadata": {
                "azdata_cell_guid": "cb07d64b-0eaa-498b-b4d2-0b46971e95ce",
                "language": "sql"
            },
            "outputs": [
                {
                    "output_type": "error",
                    "evalue": "Msg 102, Level 15, State 1, Line 4\r\nIncorrect syntax near 'PRECIDING'.",
                    "ename": "",
                    "traceback": []
                },
                {
                    "output_type": "display_data",
                    "data": {
                        "text/html": "Total execution time: 00:00:00.001"
                    },
                    "metadata": {}
                }
            ],
            "execution_count": 17
        },
        {
            "cell_type": "markdown",
            "source": [
                "14. <span style=\"color: rgb(36, 41, 47); font-family: -apple-system, BlinkMacSystemFont, &quot;Segoe UI&quot;, Helvetica, Arial, sans-serif, &quot;Apple Color Emoji&quot;, &quot;Segoe UI Emoji&quot;; font-size: 16px;\">Készítsünk listát a termékek kódjáról, nevéről, kategória azonosítójáról, raktár azonosítójáról és listaáráról, valamint a termék adott szempontok szerinti rangsorokban elfoglalt helyezéseiről. (Szempontonként külön oszlopban, a helyezéseknél növekvő sorrendet feltételezve). A szempontok a következők legyenek: listaár, kategória szerinti listaár, és raktárkód szerinti listaár.</span>\n",
                "\n",
                "1. Az oszlopokat nevezzük el értelemszerűen.\n",
                "2. A helyezések egyenlőség esetén \"sűrűn\" kövessék egymást.\n",
                "3. A lista legyen rendezett kategória azonosító, azon belül listaár szerint!"
            ],
            "metadata": {
                "azdata_cell_guid": "f95ad665-a807-4099-bf06-64ed974f866f"
            },
            "attachments": {}
        },
        {
            "cell_type": "code",
            "source": [
                "--ROW_NUMER: 1, 2, 3 --> mindig novekvo, nincs egyenlo\r\n",
                "--RANK(): 1, 1, 1 --> figyelembe veszi az egyenloket es egyenlo erteket kapnak, annyit ugrik ahany egyforma van\r\n",
                "--DENSE_RANK(): 1, 1, 2 --> csak 1-et ugrik\r\n",
                "SELECT TERMEKKOD,\r\n",
                "MEGNEVEZES,\r\n",
                "KAT_ID,\r\n",
                "RAKTAR_KOD,\r\n",
                "LISTAAR,\r\n",
                "--sorszam listaar szerint\r\n",
                "DENSE_RANK() OVER(ORDER BY listaar)\r\n",
                "FROM Termek\r\n",
                "ORDER BY KAT_ID, LISTAAR"
            ],
            "metadata": {
                "azdata_cell_guid": "74c7ec8a-ae4a-4d03-b1c4-e8f6bb1be12c",
                "language": "sql"
            },
            "outputs": [
                {
                    "output_type": "display_data",
                    "data": {
                        "text/html": "(551 rows affected)"
                    },
                    "metadata": {}
                },
                {
                    "output_type": "display_data",
                    "data": {
                        "text/html": "Total execution time: 00:00:00.054"
                    },
                    "metadata": {}
                },
                {
                    "output_type": "execute_result",
                    "metadata": {},
                    "execution_count": 18,
                    "data": {
                        "application/vnd.dataresource+json": {
                            "schema": {
                                "fields": [
                                    {
                                        "name": "TERMEKKOD"
                                    },
                                    {
                                        "name": "MEGNEVEZES"
                                    },
                                    {
                                        "name": "KAT_ID"
                                    },
                                    {
                                        "name": "RAKTAR_KOD"
                                    },
                                    {
                                        "name": "LISTAAR"
                                    },
                                    {
                                        "name": "(No column name)"
                                    }
                                ]
                            },
                            "data": [
                                {
                                    "TERMEKKOD": "08070491T",
                                    "MEGNEVEZES": "Szám.tech. kicsiknek",
                                    "KAT_ID": "4",
                                    "RAKTAR_KOD": "8",
                                    "LISTAAR": "214",
                                    "(No column name)": "112"
                                },
                                {
                                    "TERMEKKOD": "08070485T",
                                    "MEGNEVEZES": "Jól felkészültem-e - Fizika",
                                    "KAT_ID": "4",
                                    "RAKTAR_KOD": "6",
                                    "LISTAAR": "291",
                                    "(No column name)": "131"
                                },
                                {
                                    "TERMEKKOD": "08070480T",
                                    "MEGNEVEZES": "Fizika 13 éveseknek",
                                    "KAT_ID": "4",
                                    "RAKTAR_KOD": "8",
                                    "LISTAAR": "308",
                                    "(No column name)": "136"
                                },
                                {
                                    "TERMEKKOD": "08070483T",
                                    "MEGNEVEZES": "Fizikai feladatok és tévedések",
                                    "KAT_ID": "4",
                                    "RAKTAR_KOD": "5",
                                    "LISTAAR": "324",
                                    "(No column name)": "140"
                                },
                                {
                                    "TERMEKKOD": "08070484T",
                                    "MEGNEVEZES": "Fogalmazás lépésről lépésre",
                                    "KAT_ID": "4",
                                    "RAKTAR_KOD": "8",
                                    "LISTAAR": "345",
                                    "(No column name)": "144"
                                },
                                {
                                    "TERMEKKOD": "08070494T",
                                    "MEGNEVEZES": "Érettségi felv. fel. Fizika",
                                    "KAT_ID": "4",
                                    "RAKTAR_KOD": "6",
                                    "LISTAAR": "440",
                                    "(No column name)": "158"
                                },
                                {
                                    "TERMEKKOD": "08070495T",
                                    "MEGNEVEZES": "Érettségi felv. fel. Biológia",
                                    "KAT_ID": "4",
                                    "RAKTAR_KOD": "9",
                                    "LISTAAR": "440",
                                    "(No column name)": "158"
                                },
                                {
                                    "TERMEKKOD": "08070479T",
                                    "MEGNEVEZES": "Fizika",
                                    "KAT_ID": "4",
                                    "RAKTAR_KOD": "7",
                                    "LISTAAR": "674",
                                    "(No column name)": "173"
                                },
                                {
                                    "TERMEKKOD": "08070490T",
                                    "MEGNEVEZES": "Szövegszerkesztés",
                                    "KAT_ID": "4",
                                    "RAKTAR_KOD": "8",
                                    "LISTAAR": "691",
                                    "(No column name)": "177"
                                },
                                {
                                    "TERMEKKOD": "08070493T",
                                    "MEGNEVEZES": "Érettségi felv. fel. Matematika",
                                    "KAT_ID": "4",
                                    "RAKTAR_KOD": "5",
                                    "LISTAAR": "720",
                                    "(No column name)": "179"
                                },
                                {
                                    "TERMEKKOD": "08070492T",
                                    "MEGNEVEZES": "Informatika",
                                    "KAT_ID": "4",
                                    "RAKTAR_KOD": "9",
                                    "LISTAAR": "735",
                                    "(No column name)": "181"
                                },
                                {
                                    "TERMEKKOD": "08070489T",
                                    "MEGNEVEZES": "RAMba zárt világ",
                                    "KAT_ID": "4",
                                    "RAKTAR_KOD": "8",
                                    "LISTAAR": "868",
                                    "(No column name)": "188"
                                },
                                {
                                    "TERMEKKOD": "08070472T",
                                    "MEGNEVEZES": "A föld amelyen élünk - Európa földrajza",
                                    "KAT_ID": "4",
                                    "RAKTAR_KOD": "8",
                                    "LISTAAR": "1089",
                                    "(No column name)": "192"
                                },
                                {
                                    "TERMEKKOD": "08070473T",
                                    "MEGNEVEZES": "A föld amelyen élünk - Távoli földrészek",
                                    "KAT_ID": "4",
                                    "RAKTAR_KOD": "6",
                                    "LISTAAR": "1089",
                                    "(No column name)": "192"
                                },
                                {
                                    "TERMEKKOD": "08070474T",
                                    "MEGNEVEZES": "A föld amelyen élünk - Hazánk földrajza",
                                    "KAT_ID": "4",
                                    "RAKTAR_KOD": "5",
                                    "LISTAAR": "1089",
                                    "(No column name)": "192"
                                },
                                {
                                    "TERMEKKOD": "04050035T",
                                    "MEGNEVEZES": "Bérlet tok",
                                    "KAT_ID": "5",
                                    "RAKTAR_KOD": "5",
                                    "LISTAAR": "24",
                                    "(No column name)": "18"
                                },
                                {
                                    "TERMEKKOD": "04110258T",
                                    "MEGNEVEZES": "Lampion",
                                    "KAT_ID": "5",
                                    "RAKTAR_KOD": "9",
                                    "LISTAAR": "73",
                                    "(No column name)": "54"
                                },
                                {
                                    "TERMEKKOD": "04050267T",
                                    "MEGNEVEZES": "Logikai készlet",
                                    "KAT_ID": "5",
                                    "RAKTAR_KOD": "5",
                                    "LISTAAR": "129",
                                    "(No column name)": "82"
                                },
                                {
                                    "TERMEKKOD": "04030285T",
                                    "MEGNEVEZES": "Mikulás zacskó",
                                    "KAT_ID": "6",
                                    "RAKTAR_KOD": "8",
                                    "LISTAAR": "11",
                                    "(No column name)": "9"
                                },
                                {
                                    "TERMEKKOD": "03080004T",
                                    "MEGNEVEZES": "Ajándék cs. tasak italos, fólia",
                                    "KAT_ID": "6",
                                    "RAKTAR_KOD": "6",
                                    "LISTAAR": "19",
                                    "(No column name)": "15"
                                },
                                {
                                    "TERMEKKOD": "03080006T",
                                    "MEGNEVEZES": "Ajándék cs. tasak mintás kicsi",
                                    "KAT_ID": "6",
                                    "RAKTAR_KOD": "8",
                                    "LISTAAR": "26",
                                    "(No column name)": "20"
                                },
                                {
                                    "TERMEKKOD": "03050457T",
                                    "MEGNEVEZES": "Ajándék cs. tasak kicsi",
                                    "KAT_ID": "6",
                                    "RAKTAR_KOD": "6",
                                    "LISTAAR": "26",
                                    "(No column name)": "20"
                                },
                                {
                                    "TERMEKKOD": "03050459T",
                                    "MEGNEVEZES": "Talpas tasak",
                                    "KAT_ID": "6",
                                    "RAKTAR_KOD": "8",
                                    "LISTAAR": "40",
                                    "(No column name)": "31"
                                },
                                {
                                    "TERMEKKOD": "03080013T",
                                    "MEGNEVEZES": "Ajándék csom. 50x70 húsvéti",
                                    "KAT_ID": "6",
                                    "RAKTAR_KOD": "6",
                                    "LISTAAR": "64",
                                    "(No column name)": "49"
                                },
                                {
                                    "TERMEKKOD": "03080014T",
                                    "MEGNEVEZES": "Ajándék csom. 70x50 metál",
                                    "KAT_ID": "6",
                                    "RAKTAR_KOD": "8",
                                    "LISTAAR": "81",
                                    "(No column name)": "60"
                                },
                                {
                                    "TERMEKKOD": "03080008T",
                                    "MEGNEVEZES": "Ajándék cs. tasak kicsi",
                                    "KAT_ID": "6",
                                    "RAKTAR_KOD": "7",
                                    "LISTAAR": "103",
                                    "(No column name)": "70"
                                },
                                {
                                    "TERMEKKOD": "03080439T",
                                    "MEGNEVEZES": "Italtartó doboz",
                                    "KAT_ID": "6",
                                    "RAKTAR_KOD": "8",
                                    "LISTAAR": "114",
                                    "(No column name)": "74"
                                },
                                {
                                    "TERMEKKOD": "03080012T",
                                    "MEGNEVEZES": "Ajándék csom. 200x70",
                                    "KAT_ID": "6",
                                    "RAKTAR_KOD": "8",
                                    "LISTAAR": "125",
                                    "(No column name)": "81"
                                },
                                {
                                    "TERMEKKOD": "03080011T",
                                    "MEGNEVEZES": "Ajándék cs. tasak közepes",
                                    "KAT_ID": "6",
                                    "RAKTAR_KOD": "6",
                                    "LISTAAR": "148",
                                    "(No column name)": "88"
                                },
                                {
                                    "TERMEKKOD": "03080009T",
                                    "MEGNEVEZES": "Ajándék csom. 100x70 metál",
                                    "KAT_ID": "6",
                                    "RAKTAR_KOD": "8",
                                    "LISTAAR": "148",
                                    "(No column name)": "88"
                                },
                                {
                                    "TERMEKKOD": "03050458T",
                                    "MEGNEVEZES": "Ajándék cs. 2×100×70",
                                    "KAT_ID": "6",
                                    "RAKTAR_KOD": "7",
                                    "LISTAAR": "148",
                                    "(No column name)": "88"
                                },
                                {
                                    "TERMEKKOD": "03080015T",
                                    "MEGNEVEZES": "Ajándék csom. gyűrt",
                                    "KAT_ID": "6",
                                    "RAKTAR_KOD": "9",
                                    "LISTAAR": "169",
                                    "(No column name)": "94"
                                },
                                {
                                    "TERMEKKOD": "03080437T",
                                    "MEGNEVEZES": "Ajándék csomagoló tasak",
                                    "KAT_ID": "6",
                                    "RAKTAR_KOD": "7",
                                    "LISTAAR": "185",
                                    "(No column name)": "101"
                                },
                                {
                                    "TERMEKKOD": "03080003T",
                                    "MEGNEVEZES": "Ajándék cs. tasak italos",
                                    "KAT_ID": "6",
                                    "RAKTAR_KOD": "6",
                                    "LISTAAR": "185",
                                    "(No column name)": "101"
                                },
                                {
                                    "TERMEKKOD": "03080007T",
                                    "MEGNEVEZES": "Ajándék cs. tasak mintás nagy",
                                    "KAT_ID": "6",
                                    "RAKTAR_KOD": "9",
                                    "LISTAAR": "206",
                                    "(No column name)": "109"
                                },
                                {
                                    "TERMEKKOD": "03080010T",
                                    "MEGNEVEZES": "Ajándék csom. 150x70",
                                    "KAT_ID": "6",
                                    "RAKTAR_KOD": "9",
                                    "LISTAAR": "206",
                                    "(No column name)": "109"
                                },
                                {
                                    "TERMEKKOD": "03080438T",
                                    "MEGNEVEZES": "Ajándék csomagoló tasak lézeres",
                                    "KAT_ID": "6",
                                    "RAKTAR_KOD": "7",
                                    "LISTAAR": "214",
                                    "(No column name)": "112"
                                },
                                {
                                    "TERMEKKOD": "03080005T",
                                    "MEGNEVEZES": "Ajándék cs. tasak virágos nagy",
                                    "KAT_ID": "6",
                                    "RAKTAR_KOD": "8",
                                    "LISTAAR": "290",
                                    "(No column name)": "130"
                                },
                                {
                                    "TERMEKKOD": "04050022T",
                                    "MEGNEVEZES": "Álarc",
                                    "KAT_ID": "7",
                                    "RAKTAR_KOD": "8",
                                    "LISTAAR": "89",
                                    "(No column name)": "62"
                                },
                                {
                                    "TERMEKKOD": "04050023T",
                                    "MEGNEVEZES": "Álarc fejdísz",
                                    "KAT_ID": "7",
                                    "RAKTAR_KOD": "8",
                                    "LISTAAR": "144",
                                    "(No column name)": "86"
                                },
                                {
                                    "TERMEKKOD": "04050024T",
                                    "MEGNEVEZES": "Álarc szemüveg",
                                    "KAT_ID": "7",
                                    "RAKTAR_KOD": "7",
                                    "LISTAAR": "144",
                                    "(No column name)": "86"
                                },
                                {
                                    "TERMEKKOD": "G041-AL211",
                                    "MEGNEVEZES": "fiú ünneplős ruha",
                                    "KAT_ID": "8",
                                    "RAKTAR_KOD": "4",
                                    "LISTAAR": "16900",
                                    "(No column name)": "215"
                                },
                                {
                                    "TERMEKKOD": "L041-AL211",
                                    "MEGNEVEZES": "lány ünneplős ruha",
                                    "KAT_ID": "8",
                                    "RAKTAR_KOD": "3",
                                    "LISTAAR": "16900",
                                    "(No column name)": "215"
                                },
                                {
                                    "TERMEKKOD": "N029-AL212",
                                    "MEGNEVEZES": "női koktélruha",
                                    "KAT_ID": "8",
                                    "RAKTAR_KOD": "4",
                                    "LISTAAR": "32000",
                                    "(No column name)": "218"
                                },
                                {
                                    "TERMEKKOD": "05010026T",
                                    "MEGNEVEZES": "Alufólia 10 m-es",
                                    "KAT_ID": "9",
                                    "RAKTAR_KOD": "9",
                                    "LISTAAR": "118",
                                    "(No column name)": "76"
                                },
                                {
                                    "TERMEKKOD": "05010027T",
                                    "MEGNEVEZES": "Alufólia 20 m-es",
                                    "KAT_ID": "9",
                                    "RAKTAR_KOD": "6",
                                    "LISTAAR": "214",
                                    "(No column name)": "112"
                                },
                                {
                                    "TERMEKKOD": "02010028T",
                                    "MEGNEVEZES": "Árazószalag ",
                                    "KAT_ID": "10",
                                    "RAKTAR_KOD": "9",
                                    "LISTAAR": "106",
                                    "(No column name)": "71"
                                },
                                {
                                    "TERMEKKOD": "02020029T",
                                    "MEGNEVEZES": "Átírótömb A/6",
                                    "KAT_ID": "11",
                                    "RAKTAR_KOD": "8",
                                    "LISTAAR": "115",
                                    "(No column name)": "75"
                                },
                                {
                                    "TERMEKKOD": "06080423T",
                                    "MEGNEVEZES": "Beíró A/5 kockás",
                                    "KAT_ID": "12",
                                    "RAKTAR_KOD": "5",
                                    "LISTAAR": "228",
                                    "(No column name)": "115"
                                },
                                {
                                    "TERMEKKOD": "02020032T",
                                    "MEGNEVEZES": "Beírókönyv A5 ",
                                    "KAT_ID": "13",
                                    "RAKTAR_KOD": "8",
                                    "LISTAAR": "133",
                                    "(No column name)": "84"
                                },
                                {
                                    "TERMEKKOD": "02020033T",
                                    "MEGNEVEZES": "Beírókönyv A4",
                                    "KAT_ID": "13",
                                    "RAKTAR_KOD": "5",
                                    "LISTAAR": "328",
                                    "(No column name)": "141"
                                },
                                {
                                    "TERMEKKOD": "02060039T",
                                    "MEGNEVEZES": "Bélyegző párna",
                                    "KAT_ID": "14",
                                    "RAKTAR_KOD": "6",
                                    "LISTAAR": "650",
                                    "(No column name)": "171"
                                },
                                {
                                    "TERMEKKOD": "02060038T",
                                    "MEGNEVEZES": "Bélyegző IDEAL 50",
                                    "KAT_ID": "14",
                                    "RAKTAR_KOD": "8",
                                    "LISTAAR": "780",
                                    "(No column name)": "184"
                                },
                                {
                                    "TERMEKKOD": "02060448T",
                                    "MEGNEVEZES": "Bélyegző RP 18-47",
                                    "KAT_ID": "14",
                                    "RAKTAR_KOD": "7",
                                    "LISTAAR": "1147",
                                    "(No column name)": "193"
                                },
                                {
                                    "TERMEKKOD": "02060447T",
                                    "MEGNEVEZES": "Bélyegző pocket",
                                    "KAT_ID": "14",
                                    "RAKTAR_KOD": "6",
                                    "LISTAAR": "1377",
                                    "(No column name)": "197"
                                },
                                {
                                    "TERMEKKOD": "02060034T",
                                    "MEGNEVEZES": "Bélyegzőfesték ",
                                    "KAT_ID": "15",
                                    "RAKTAR_KOD": "9",
                                    "LISTAAR": "297",
                                    "(No column name)": "134"
                                },
                                {
                                    "TERMEKKOD": "02030042T",
                                    "MEGNEVEZES": "Boríték LC 6",
                                    "KAT_ID": "16",
                                    "RAKTAR_KOD": "6",
                                    "LISTAAR": "3",
                                    "(No column name)": "2"
                                },
                                {
                                    "TERMEKKOD": "02030040T",
                                    "MEGNEVEZES": "Boríték LA 4 francia",
                                    "KAT_ID": "16",
                                    "RAKTAR_KOD": "6",
                                    "LISTAAR": "6",
                                    "(No column name)": "5"
                                },
                                {
                                    "TERMEKKOD": "02030041T",
                                    "MEGNEVEZES": "Boríték LC 5",
                                    "KAT_ID": "16",
                                    "RAKTAR_KOD": "9",
                                    "LISTAAR": "6",
                                    "(No column name)": "5"
                                },
                                {
                                    "TERMEKKOD": "02030044T",
                                    "MEGNEVEZES": "Boríték mintás",
                                    "KAT_ID": "16",
                                    "RAKTAR_KOD": "6",
                                    "LISTAAR": "15",
                                    "(No column name)": "13"
                                },
                                {
                                    "TERMEKKOD": "02050460T",
                                    "MEGNEVEZES": "Boríték C/4-es",
                                    "KAT_ID": "16",
                                    "RAKTAR_KOD": "5",
                                    "LISTAAR": "15",
                                    "(No column name)": "13"
                                },
                                {
                                    "TERMEKKOD": "02050461T",
                                    "MEGNEVEZES": "Boríték B/4-es",
                                    "KAT_ID": "16",
                                    "RAKTAR_KOD": "8",
                                    "LISTAAR": "18",
                                    "(No column name)": "14"
                                },
                                {
                                    "TERMEKKOD": "02030043T",
                                    "MEGNEVEZES": "Boríték légp. kicsi",
                                    "KAT_ID": "16",
                                    "RAKTAR_KOD": "7",
                                    "LISTAAR": "39",
                                    "(No column name)": "30"
                                },
                                {
                                    "TERMEKKOD": "02080069T",
                                    "MEGNEVEZES": "CD tartó tok",
                                    "KAT_ID": "17",
                                    "RAKTAR_KOD": "8",
                                    "LISTAAR": "30",
                                    "(No column name)": "23"
                                },
                                {
                                    "TERMEKKOD": "05050045T",
                                    "MEGNEVEZES": "Celofán",
                                    "KAT_ID": "18",
                                    "RAKTAR_KOD": "8",
                                    "LISTAAR": "46",
                                    "(No column name)": "36"
                                },
                                {
                                    "TERMEKKOD": "05050046T",
                                    "MEGNEVEZES": "Celofán 50 db-os",
                                    "KAT_ID": "18",
                                    "RAKTAR_KOD": "8",
                                    "LISTAAR": "73",
                                    "(No column name)": "54"
                                },
                                {
                                    "TERMEKKOD": "07040058T",
                                    "MEGNEVEZES": "Ceruza radíros kínai",
                                    "KAT_ID": "19",
                                    "RAKTAR_KOD": "7",
                                    "LISTAAR": "11",
                                    "(No column name)": "9"
                                },
                                {
                                    "TERMEKKOD": "07080065T",
                                    "MEGNEVEZES": "Ceruza kínai",
                                    "KAT_ID": "19",
                                    "RAKTAR_KOD": "8",
                                    "LISTAAR": "11",
                                    "(No column name)": "9"
                                },
                                {
                                    "TERMEKKOD": "07040053T",
                                    "MEGNEVEZES": "Ceruza HB radiros",
                                    "KAT_ID": "19",
                                    "RAKTAR_KOD": "5",
                                    "LISTAAR": "23",
                                    "(No column name)": "17"
                                },
                                {
                                    "TERMEKKOD": "07040050T",
                                    "MEGNEVEZES": "Ceruza Cseh",
                                    "KAT_ID": "19",
                                    "RAKTAR_KOD": "6",
                                    "LISTAAR": "30",
                                    "(No column name)": "23"
                                },
                                {
                                    "TERMEKKOD": "07080063T",
                                    "MEGNEVEZES": "Ceruza szorzótáblás",
                                    "KAT_ID": "19",
                                    "RAKTAR_KOD": "7",
                                    "LISTAAR": "35",
                                    "(No column name)": "27"
                                },
                                {
                                    "TERMEKKOD": "07040060T",
                                    "MEGNEVEZES": "Ceruza stabilo swano",
                                    "KAT_ID": "19",
                                    "RAKTAR_KOD": "6",
                                    "LISTAAR": "36",
                                    "(No column name)": "28"
                                },
                                {
                                    "TERMEKKOD": "07040051T",
                                    "MEGNEVEZES": "Ceruza háromszög ",
                                    "KAT_ID": "19",
                                    "RAKTAR_KOD": "6",
                                    "LISTAAR": "39",
                                    "(No column name)": "30"
                                },
                                {
                                    "TERMEKKOD": "07040047T",
                                    "MEGNEVEZES": "Ceruza 2H-4B",
                                    "KAT_ID": "19",
                                    "RAKTAR_KOD": "5",
                                    "LISTAAR": "39",
                                    "(No column name)": "30"
                                },
                                {
                                    "TERMEKKOD": "07080064T",
                                    "MEGNEVEZES": "Ceruza zöld színű",
                                    "KAT_ID": "19",
                                    "RAKTAR_KOD": "6",
                                    "LISTAAR": "40",
                                    "(No column name)": "31"
                                },
                                {
                                    "TERMEKKOD": "07040049T",
                                    "MEGNEVEZES": "Ceruza Conté zöld",
                                    "KAT_ID": "19",
                                    "RAKTAR_KOD": "9",
                                    "LISTAAR": "40",
                                    "(No column name)": "31"
                                },
                                {
                                    "TERMEKKOD": "07040056T",
                                    "MEGNEVEZES": "Ceruza piros-kék vékony",
                                    "KAT_ID": "19",
                                    "RAKTAR_KOD": "7",
                                    "LISTAAR": "40",
                                    "(No column name)": "31"
                                },
                                {
                                    "TERMEKKOD": "07040061T",
                                    "MEGNEVEZES": "Ceruza stabilo opera",
                                    "KAT_ID": "19",
                                    "RAKTAR_KOD": "9",
                                    "LISTAAR": "44",
                                    "(No column name)": "34"
                                },
                                {
                                    "TERMEKKOD": "07040052T",
                                    "MEGNEVEZES": "Ceruza 2H-3B Koh-i-nor",
                                    "KAT_ID": "19",
                                    "RAKTAR_KOD": "5",
                                    "LISTAAR": "53",
                                    "(No column name)": "41"
                                },
                                {
                                    "TERMEKKOD": "07040054T",
                                    "MEGNEVEZES": "Ceruza kártyás",
                                    "KAT_ID": "19",
                                    "RAKTAR_KOD": "7",
                                    "LISTAAR": "55",
                                    "(No column name)": "42"
                                },
                                {
                                    "TERMEKKOD": "07040048T",
                                    "MEGNEVEZES": "Ceruza arany, ezüst",
                                    "KAT_ID": "19",
                                    "RAKTAR_KOD": "6",
                                    "LISTAAR": "55",
                                    "(No column name)": "42"
                                },
                                {
                                    "TERMEKKOD": "07040059T",
                                    "MEGNEVEZES": "Ceruza smaragd",
                                    "KAT_ID": "19",
                                    "RAKTAR_KOD": "9",
                                    "LISTAAR": "58",
                                    "(No column name)": "44"
                                },
                                {
                                    "TERMEKKOD": "07040055T",
                                    "MEGNEVEZES": "Ceruza piros-kék",
                                    "KAT_ID": "19",
                                    "RAKTAR_KOD": "9",
                                    "LISTAAR": "59",
                                    "(No column name)": "45"
                                },
                                {
                                    "TERMEKKOD": "07040057T",
                                    "MEGNEVEZES": "Ceruza Progresso",
                                    "KAT_ID": "19",
                                    "RAKTAR_KOD": "7",
                                    "LISTAAR": "106",
                                    "(No column name)": "71"
                                },
                                {
                                    "TERMEKKOD": "07080062T",
                                    "MEGNEVEZES": "Ceruza szén",
                                    "KAT_ID": "19",
                                    "RAKTAR_KOD": "5",
                                    "LISTAAR": "146",
                                    "(No column name)": "87"
                                },
                                {
                                    "TERMEKKOD": "04110068T",
                                    "MEGNEVEZES": "Címke egyszínű",
                                    "KAT_ID": "20",
                                    "RAKTAR_KOD": "9",
                                    "LISTAAR": "20",
                                    "(No column name)": "16"
                                },
                                {
                                    "TERMEKKOD": "04110066T",
                                    "MEGNEVEZES": "Címke 8 db-os",
                                    "KAT_ID": "20",
                                    "RAKTAR_KOD": "7",
                                    "LISTAAR": "26",
                                    "(No column name)": "20"
                                },
                                {
                                    "TERMEKKOD": "04110067T",
                                    "MEGNEVEZES": "Címke WD. állat",
                                    "KAT_ID": "20",
                                    "RAKTAR_KOD": "7",
                                    "LISTAAR": "31",
                                    "(No column name)": "24"
                                },
                                {
                                    "TERMEKKOD": "01100503T",
                                    "MEGNEVEZES": "Color Copy A4 120 g",
                                    "KAT_ID": "21",
                                    "RAKTAR_KOD": "6",
                                    "LISTAAR": "10",
                                    "(No column name)": "8"
                                },
                                {
                                    "TERMEKKOD": "01090500T",
                                    "MEGNEVEZES": "Color Copy A4 200 g",
                                    "KAT_ID": "21",
                                    "RAKTAR_KOD": "9",
                                    "LISTAAR": "14",
                                    "(No column name)": "12"
                                },
                                {
                                    "TERMEKKOD": "01100497T",
                                    "MEGNEVEZES": "Color Copy 160 g-os ",
                                    "KAT_ID": "21",
                                    "RAKTAR_KOD": "5",
                                    "LISTAAR": "14",
                                    "(No column name)": "12"
                                },
                                {
                                    "TERMEKKOD": "01090499T",
                                    "MEGNEVEZES": "Color Copy A/4 250 g",
                                    "KAT_ID": "21",
                                    "RAKTAR_KOD": "6",
                                    "LISTAAR": "15",
                                    "(No column name)": "13"
                                },
                                {
                                    "TERMEKKOD": "01100496T",
                                    "MEGNEVEZES": "Színes másoló a/4 80g",
                                    "KAT_ID": "21",
                                    "RAKTAR_KOD": "5",
                                    "LISTAAR": "1500",
                                    "(No column name)": "199"
                                },
                                {
                                    "TERMEKKOD": "05010370T",
                                    "MEGNEVEZES": "Szilvia csomagoló",
                                    "KAT_ID": "22",
                                    "RAKTAR_KOD": "7",
                                    "LISTAAR": "89",
                                    "(No column name)": "62"
                                },
                                {
                                    "TERMEKKOD": "03080016T",
                                    "MEGNEVEZES": "házt.csom.  5 ív",
                                    "KAT_ID": "22",
                                    "RAKTAR_KOD": "8",
                                    "LISTAAR": "110",
                                    "(No column name)": "73"
                                },
                                {
                                    "TERMEKKOD": "03080021T",
                                    "MEGNEVEZES": "Ajándék csom. vékony",
                                    "KAT_ID": "24",
                                    "RAKTAR_KOD": "7",
                                    "LISTAAR": "23",
                                    "(No column name)": "17"
                                },
                                {
                                    "TERMEKKOD": "03080020T",
                                    "MEGNEVEZES": "Ajándék csom. nagy  ",
                                    "KAT_ID": "24",
                                    "RAKTAR_KOD": "9",
                                    "LISTAAR": "44",
                                    "(No column name)": "34"
                                },
                                {
                                    "TERMEKKOD": "03080019T",
                                    "MEGNEVEZES": "Ajándék csom. Krepp",
                                    "KAT_ID": "24",
                                    "RAKTAR_KOD": "5",
                                    "LISTAAR": "56",
                                    "(No column name)": "43"
                                },
                                {
                                    "TERMEKKOD": "03080031T",
                                    "MEGNEVEZES": "Ajándék cs. húsvéti",
                                    "KAT_ID": "24",
                                    "RAKTAR_KOD": "6",
                                    "LISTAAR": "106",
                                    "(No column name)": "71"
                                },
                                {
                                    "TERMEKKOD": "03080018T",
                                    "MEGNEVEZES": "Ajándék csom. gyűrt 50x70 ",
                                    "KAT_ID": "24",
                                    "RAKTAR_KOD": "5",
                                    "LISTAAR": "121",
                                    "(No column name)": "78"
                                },
                                {
                                    "TERMEKKOD": "03080017T",
                                    "MEGNEVEZES": "iskolai csomagoló papír",
                                    "KAT_ID": "24",
                                    "RAKTAR_KOD": "9",
                                    "LISTAAR": "148",
                                    "(No column name)": "88"
                                },
                                {
                                    "TERMEKKOD": "03080030T",
                                    "MEGNEVEZES": "Ajándék cs. húsvéti 200x70",
                                    "KAT_ID": "24",
                                    "RAKTAR_KOD": "7",
                                    "LISTAAR": "220",
                                    "(No column name)": "114"
                                },
                                {
                                    "TERMEKKOD": "04030288T",
                                    "MEGNEVEZES": "Műanyag pohár 1 dl-es",
                                    "KAT_ID": "25",
                                    "RAKTAR_KOD": "7",
                                    "LISTAAR": "3",
                                    "(No column name)": "2"
                                },
                                {
                                    "TERMEKKOD": "04030289T",
                                    "MEGNEVEZES": "Műanyag pohár 5 cl-es",
                                    "KAT_ID": "25",
                                    "RAKTAR_KOD": "6",
                                    "LISTAAR": "15",
                                    "(No column name)": "13"
                                },
                                {
                                    "TERMEKKOD": "04030287T",
                                    "MEGNEVEZES": "Műanyag foszforeszkáló állat",
                                    "KAT_ID": "25",
                                    "RAKTAR_KOD": "8",
                                    "LISTAAR": "23",
                                    "(No column name)": "17"
                                },
                                {
                                    "TERMEKKOD": "04030286T",
                                    "MEGNEVEZES": "Műanyag állatok",
                                    "KAT_ID": "25",
                                    "RAKTAR_KOD": "5",
                                    "LISTAAR": "44",
                                    "(No column name)": "34"
                                },
                                {
                                    "TERMEKKOD": "01100072T",
                                    "MEGNEVEZES": "Dipa A/4 keretezett",
                                    "KAT_ID": "26",
                                    "RAKTAR_KOD": "9",
                                    "LISTAAR": "9",
                                    "(No column name)": "7"
                                },
                                {
                                    "TERMEKKOD": "04050075T",
                                    "MEGNEVEZES": "Díszdoboz tollnak 2 db-os keskeny",
                                    "KAT_ID": "27",
                                    "RAKTAR_KOD": "5",
                                    "LISTAAR": "44",
                                    "(No column name)": "34"
                                },
                                {
                                    "TERMEKKOD": "04050073T",
                                    "MEGNEVEZES": "Díszdoboz kar.",
                                    "KAT_ID": "27",
                                    "RAKTAR_KOD": "9",
                                    "LISTAAR": "61",
                                    "(No column name)": "47"
                                },
                                {
                                    "TERMEKKOD": "04050074T",
                                    "MEGNEVEZES": "Díszdoboz tollnak 2 db-os",
                                    "KAT_ID": "27",
                                    "RAKTAR_KOD": "7",
                                    "LISTAAR": "66",
                                    "(No column name)": "51"
                                },
                                {
                                    "TERMEKKOD": "03050078T",
                                    "MEGNEVEZES": "Díszkötöző szalag metál kicsi",
                                    "KAT_ID": "28",
                                    "RAKTAR_KOD": "8",
                                    "LISTAAR": "15",
                                    "(No column name)": "13"
                                },
                                {
                                    "TERMEKKOD": "03050079T",
                                    "MEGNEVEZES": "Díszkötöző szalag vékony",
                                    "KAT_ID": "28",
                                    "RAKTAR_KOD": "8",
                                    "LISTAAR": "15",
                                    "(No column name)": "13"
                                },
                                {
                                    "TERMEKKOD": "03050076T",
                                    "MEGNEVEZES": "Díszkötöző szalag metál nagy",
                                    "KAT_ID": "28",
                                    "RAKTAR_KOD": "8",
                                    "LISTAAR": "26",
                                    "(No column name)": "20"
                                },
                                {
                                    "TERMEKKOD": "03050077T",
                                    "MEGNEVEZES": "Diszkötöző szalag arany",
                                    "KAT_ID": "28",
                                    "RAKTAR_KOD": "8",
                                    "LISTAAR": "44",
                                    "(No column name)": "34"
                                },
                                {
                                    "TERMEKKOD": "03050080T",
                                    "MEGNEVEZES": "Diszkötöző széles szalag",
                                    "KAT_ID": "28",
                                    "RAKTAR_KOD": "6",
                                    "LISTAAR": "81",
                                    "(No column name)": "60"
                                },
                                {
                                    "TERMEKKOD": "02080081T",
                                    "MEGNEVEZES": "Dvd",
                                    "KAT_ID": "29",
                                    "RAKTAR_KOD": "9",
                                    "LISTAAR": "133",
                                    "(No column name)": "84"
                                },
                                {
                                    "TERMEKKOD": "06010083T",
                                    "MEGNEVEZES": "Ecset Centrum 7,8,9",
                                    "KAT_ID": "30",
                                    "RAKTAR_KOD": "6",
                                    "LISTAAR": "33",
                                    "(No column name)": "25"
                                },
                                {
                                    "TERMEKKOD": "06010086T",
                                    "MEGNEVEZES": "Ecset Nebulo 4-es",
                                    "KAT_ID": "30",
                                    "RAKTAR_KOD": "8",
                                    "LISTAAR": "36",
                                    "(No column name)": "28"
                                },
                                {
                                    "TERMEKKOD": "06010082T",
                                    "MEGNEVEZES": "Ecset Centrum 10,11,12",
                                    "KAT_ID": "30",
                                    "RAKTAR_KOD": "8",
                                    "LISTAAR": "40",
                                    "(No column name)": "31"
                                },
                                {
                                    "TERMEKKOD": "06010084T",
                                    "MEGNEVEZES": "Ecset Deák 2-es",
                                    "KAT_ID": "30",
                                    "RAKTAR_KOD": "9",
                                    "LISTAAR": "60",
                                    "(No column name)": "46"
                                },
                                {
                                    "TERMEKKOD": "06010085T",
                                    "MEGNEVEZES": "Ecset Lizzy 10-es",
                                    "KAT_ID": "30",
                                    "RAKTAR_KOD": "5",
                                    "LISTAAR": "65",
                                    "(No column name)": "50"
                                },
                                {
                                    "TERMEKKOD": "06040087T",
                                    "MEGNEVEZES": "Ecset Nebuló 10-es",
                                    "KAT_ID": "30",
                                    "RAKTAR_KOD": "7",
                                    "LISTAAR": "79",
                                    "(No column name)": "58"
                                },
                                {
                                    "TERMEKKOD": "06080428T",
                                    "MEGNEVEZES": "Ecsetkészlet",
                                    "KAT_ID": "30",
                                    "RAKTAR_KOD": "8",
                                    "LISTAAR": "180",
                                    "(No column name)": "98"
                                },
                                {
                                    "TERMEKKOD": "01040502T",
                                    "MEGNEVEZES": "Előlap spirálhoz",
                                    "KAT_ID": "31",
                                    "RAKTAR_KOD": "5",
                                    "LISTAAR": "25",
                                    "(No column name)": "19"
                                },
                                {
                                    "TERMEKKOD": "04080442T",
                                    "MEGNEVEZES": "Emlékkönyv",
                                    "KAT_ID": "32",
                                    "RAKTAR_KOD": "7",
                                    "LISTAAR": "316",
                                    "(No column name)": "139"
                                },
                                {
                                    "TERMEKKOD": "04080443T",
                                    "MEGNEVEZES": "Emlékkönyv lakatos",
                                    "KAT_ID": "32",
                                    "RAKTAR_KOD": "7",
                                    "LISTAAR": "449",
                                    "(No column name)": "159"
                                },
                                {
                                    "TERMEKKOD": "04040090T",
                                    "MEGNEVEZES": "Emlékkönyv",
                                    "KAT_ID": "32",
                                    "RAKTAR_KOD": "6",
                                    "LISTAAR": "526",
                                    "(No column name)": "166"
                                },
                                {
                                    "TERMEKKOD": "01030091T",
                                    "MEGNEVEZES": "Emléklap A/5",
                                    "KAT_ID": "33",
                                    "RAKTAR_KOD": "7",
                                    "LISTAAR": "26",
                                    "(No column name)": "20"
                                },
                                {
                                    "TERMEKKOD": "01080093T",
                                    "MEGNEVEZES": "Fax papír 15 m",
                                    "KAT_ID": "34",
                                    "RAKTAR_KOD": "9",
                                    "LISTAAR": "161",
                                    "(No column name)": "90"
                                },
                                {
                                    "TERMEKKOD": "G029-FE307",
                                    "MEGNEVEZES": "fiú zokni",
                                    "KAT_ID": "35",
                                    "RAKTAR_KOD": "4",
                                    "LISTAAR": "240",
                                    "(No column name)": "120"
                                },
                                {
                                    "TERMEKKOD": "L029-FE307",
                                    "MEGNEVEZES": "lány zokni",
                                    "KAT_ID": "35",
                                    "RAKTAR_KOD": "4",
                                    "LISTAAR": "240",
                                    "(No column name)": "120"
                                },
                                {
                                    "TERMEKKOD": "G023-FE301",
                                    "MEGNEVEZES": "fiú alsó",
                                    "KAT_ID": "35",
                                    "RAKTAR_KOD": "3",
                                    "LISTAAR": "390",
                                    "(No column name)": "149"
                                },
                                {
                                    "TERMEKKOD": "L023-FE301",
                                    "MEGNEVEZES": "lány alsó",
                                    "KAT_ID": "35",
                                    "RAKTAR_KOD": "1",
                                    "LISTAAR": "390",
                                    "(No column name)": "149"
                                },
                                {
                                    "TERMEKKOD": "N019-FE301",
                                    "MEGNEVEZES": "női alsó",
                                    "KAT_ID": "35",
                                    "RAKTAR_KOD": "2",
                                    "LISTAAR": "690",
                                    "(No column name)": "176"
                                },
                                {
                                    "TERMEKKOD": "G038-FE316",
                                    "MEGNEVEZES": "fiú harisnya",
                                    "KAT_ID": "35",
                                    "RAKTAR_KOD": "3",
                                    "LISTAAR": "990",
                                    "(No column name)": "190"
                                },
                                {
                                    "TERMEKKOD": "L033-FE311",
                                    "MEGNEVEZES": "lány harisnya",
                                    "KAT_ID": "35",
                                    "RAKTAR_KOD": "3",
                                    "LISTAAR": "990",
                                    "(No column name)": "190"
                                },
                                {
                                    "TERMEKKOD": "01100505T",
                                    "MEGNEVEZES": "Fehér másoló A/4",
                                    "KAT_ID": "36",
                                    "RAKTAR_KOD": "6",
                                    "LISTAAR": "686",
                                    "(No column name)": "175"
                                },
                                {
                                    "TERMEKKOD": "01100095T",
                                    "MEGNEVEZES": "Fénymásoló papír GetCopy",
                                    "KAT_ID": "36",
                                    "RAKTAR_KOD": "9",
                                    "LISTAAR": "728",
                                    "(No column name)": "180"
                                },
                                {
                                    "TERMEKKOD": "01100096T",
                                    "MEGNEVEZES": "Fénymásoló papír Qconnect",
                                    "KAT_ID": "36",
                                    "RAKTAR_KOD": "5",
                                    "LISTAAR": "728",
                                    "(No column name)": "180"
                                },
                                {
                                    "TERMEKKOD": "01100094T",
                                    "MEGNEVEZES": "Fénymásoló papír DataCopy",
                                    "KAT_ID": "36",
                                    "RAKTAR_KOD": "9",
                                    "LISTAAR": "845",
                                    "(No column name)": "187"
                                },
                                {
                                    "TERMEKKOD": "01100504T",
                                    "MEGNEVEZES": "Fehér másoló A/3",
                                    "KAT_ID": "36",
                                    "RAKTAR_KOD": "6",
                                    "LISTAAR": "1488",
                                    "(No column name)": "198"
                                },
                                {
                                    "TERMEKKOD": "F021-IN215",
                                    "MEGNEVEZES": "férfi ing",
                                    "KAT_ID": "37",
                                    "RAKTAR_KOD": "1",
                                    "LISTAAR": "6490",
                                    "(No column name)": "206"
                                },
                                {
                                    "TERMEKKOD": "F001-KB101",
                                    "MEGNEVEZES": "férfi szövet kabát",
                                    "KAT_ID": "38",
                                    "RAKTAR_KOD": "1",
                                    "LISTAAR": "22000",
                                    "(No column name)": "216"
                                },
                                {
                                    "TERMEKKOD": "F007-NA201",
                                    "MEGNEVEZES": "férfi farmer nadrág",
                                    "KAT_ID": "39",
                                    "RAKTAR_KOD": "3",
                                    "LISTAAR": "7890",
                                    "(No column name)": "208"
                                },
                                {
                                    "TERMEKKOD": "F013-NA207",
                                    "MEGNEVEZES": "férfi szövet nadrág",
                                    "KAT_ID": "39",
                                    "RAKTAR_KOD": "1",
                                    "LISTAAR": "11900",
                                    "(No column name)": "213"
                                },
                                {
                                    "TERMEKKOD": "02080455T",
                                    "MEGNEVEZES": "Festékpatron BCI-3BK",
                                    "KAT_ID": "40",
                                    "RAKTAR_KOD": "6",
                                    "LISTAAR": "625",
                                    "(No column name)": "169"
                                },
                                {
                                    "TERMEKKOD": "07030108T",
                                    "MEGNEVEZES": "Filctoll CD író",
                                    "KAT_ID": "41",
                                    "RAKTAR_KOD": "5",
                                    "LISTAAR": "0",
                                    "(No column name)": "1"
                                },
                                {
                                    "TERMEKKOD": "07040097T",
                                    "MEGNEVEZES": "Filctoll ",
                                    "KAT_ID": "41",
                                    "RAKTAR_KOD": "8",
                                    "LISTAAR": "26",
                                    "(No column name)": "20"
                                },
                                {
                                    "TERMEKKOD": "07040102T",
                                    "MEGNEVEZES": "Filctoll supra fine",
                                    "KAT_ID": "41",
                                    "RAKTAR_KOD": "7",
                                    "LISTAAR": "46",
                                    "(No column name)": "36"
                                },
                                {
                                    "TERMEKKOD": "07030103T",
                                    "MEGNEVEZES": "Filctoll TINTEN PEN",
                                    "KAT_ID": "41",
                                    "RAKTAR_KOD": "8",
                                    "LISTAAR": "53",
                                    "(No column name)": "41"
                                },
                                {
                                    "TERMEKKOD": "07030104T",
                                    "MEGNEVEZES": "Filctoll vastag ARTIP",
                                    "KAT_ID": "41",
                                    "RAKTAR_KOD": "8",
                                    "LISTAAR": "76",
                                    "(No column name)": "56"
                                },
                                {
                                    "TERMEKKOD": "07030106T",
                                    "MEGNEVEZES": "Filctoll, alkoholosOHP F-M-C",
                                    "KAT_ID": "41",
                                    "RAKTAR_KOD": "9",
                                    "LISTAAR": "103",
                                    "(No column name)": "70"
                                },
                                {
                                    "TERMEKKOD": "07030105T",
                                    "MEGNEVEZES": "Filctoll, alkoholos Centropen",
                                    "KAT_ID": "41",
                                    "RAKTAR_KOD": "5",
                                    "LISTAAR": "114",
                                    "(No column name)": "74"
                                },
                                {
                                    "TERMEKKOD": "07040101T",
                                    "MEGNEVEZES": "Filctoll permanent vastag",
                                    "KAT_ID": "41",
                                    "RAKTAR_KOD": "9",
                                    "LISTAAR": "140",
                                    "(No column name)": "85"
                                },
                                {
                                    "TERMEKKOD": "07030107T",
                                    "MEGNEVEZES": "Filctoll, textil Edding 4500",
                                    "KAT_ID": "41",
                                    "RAKTAR_KOD": "5",
                                    "LISTAAR": "276",
                                    "(No column name)": "127"
                                },
                                {
                                    "TERMEKKOD": "07040098T",
                                    "MEGNEVEZES": "Filctoll document pen",
                                    "KAT_ID": "41",
                                    "RAKTAR_KOD": "5",
                                    "LISTAAR": "278",
                                    "(No column name)": "128"
                                },
                                {
                                    "TERMEKKOD": "07040100T",
                                    "MEGNEVEZES": "Filctoll Marvy alkoholos",
                                    "KAT_ID": "41",
                                    "RAKTAR_KOD": "5",
                                    "LISTAAR": "390",
                                    "(No column name)": "149"
                                },
                                {
                                    "TERMEKKOD": "07040099T",
                                    "MEGNEVEZES": "Filctoll Edding 750",
                                    "KAT_ID": "41",
                                    "RAKTAR_KOD": "9",
                                    "LISTAAR": "434",
                                    "(No column name)": "156"
                                },
                                {
                                    "TERMEKKOD": "07040257T",
                                    "MEGNEVEZES": "Lakk filc Edding 750",
                                    "KAT_ID": "41",
                                    "RAKTAR_KOD": "8",
                                    "LISTAAR": "434",
                                    "(No column name)": "156"
                                },
                                {
                                    "TERMEKKOD": "02080109T",
                                    "MEGNEVEZES": "Floppy lemez",
                                    "KAT_ID": "42",
                                    "RAKTAR_KOD": "7",
                                    "LISTAAR": "51",
                                    "(No column name)": "40"
                                },
                                {
                                    "TERMEKKOD": "02040507T",
                                    "MEGNEVEZES": "Fólia tasakos A4 80 mik.",
                                    "KAT_ID": "43",
                                    "RAKTAR_KOD": "8",
                                    "LISTAAR": "40",
                                    "(No column name)": "31"
                                },
                                {
                                    "TERMEKKOD": "02040508T",
                                    "MEGNEVEZES": "Fólia tasakos A4100 mik.",
                                    "KAT_ID": "43",
                                    "RAKTAR_KOD": "8",
                                    "LISTAAR": "44",
                                    "(No column name)": "34"
                                },
                                {
                                    "TERMEKKOD": "02040506T",
                                    "MEGNEVEZES": "Fólia tasakos A4 125 mik.",
                                    "KAT_ID": "43",
                                    "RAKTAR_KOD": "9",
                                    "LISTAAR": "44",
                                    "(No column name)": "34"
                                },
                                {
                                    "TERMEKKOD": "01010110T",
                                    "MEGNEVEZES": "Fotópapír A/4 fényes",
                                    "KAT_ID": "44",
                                    "RAKTAR_KOD": "9",
                                    "LISTAAR": "30",
                                    "(No column name)": "23"
                                },
                                {
                                    "TERMEKKOD": "06010114T",
                                    "MEGNEVEZES": "Füzet A/5 hangjegy 36/16",
                                    "KAT_ID": "45",
                                    "RAKTAR_KOD": "6",
                                    "LISTAAR": "30",
                                    "(No column name)": "23"
                                },
                                {
                                    "TERMEKKOD": "06080116T",
                                    "MEGNEVEZES": "Füzet A5 1-8 osz.-ig",
                                    "KAT_ID": "45",
                                    "RAKTAR_KOD": "7",
                                    "LISTAAR": "34",
                                    "(No column name)": "26"
                                },
                                {
                                    "TERMEKKOD": "06010113T",
                                    "MEGNEVEZES": "Füzet 31-32 szótár",
                                    "KAT_ID": "45",
                                    "RAKTAR_KOD": "8",
                                    "LISTAAR": "34",
                                    "(No column name)": "26"
                                },
                                {
                                    "TERMEKKOD": "06010115T",
                                    "MEGNEVEZES": "Füzet A/5, mintás",
                                    "KAT_ID": "45",
                                    "RAKTAR_KOD": "9",
                                    "LISTAAR": "48",
                                    "(No column name)": "37"
                                },
                                {
                                    "TERMEKKOD": "06010111T",
                                    "MEGNEVEZES": "Füzet  A/4 ",
                                    "KAT_ID": "45",
                                    "RAKTAR_KOD": "9",
                                    "LISTAAR": "68",
                                    "(No column name)": "52"
                                },
                                {
                                    "TERMEKKOD": "06010112T",
                                    "MEGNEVEZES": "Füzet  A4 mintás",
                                    "KAT_ID": "45",
                                    "RAKTAR_KOD": "9",
                                    "LISTAAR": "78",
                                    "(No column name)": "57"
                                },
                                {
                                    "TERMEKKOD": "06040357T",
                                    "MEGNEVEZES": "Sp.Füzet A/5 70-es",
                                    "KAT_ID": "45",
                                    "RAKTAR_KOD": "6",
                                    "LISTAAR": "89",
                                    "(No column name)": "62"
                                },
                                {
                                    "TERMEKKOD": "06040356T",
                                    "MEGNEVEZES": "Sp.Füzet A/4  70es",
                                    "KAT_ID": "45",
                                    "RAKTAR_KOD": "8",
                                    "LISTAAR": "144",
                                    "(No column name)": "86"
                                },
                                {
                                    "TERMEKKOD": "06040355T",
                                    "MEGNEVEZES": "Sp.Füzet A/4 70-as",
                                    "KAT_ID": "45",
                                    "RAKTAR_KOD": "8",
                                    "LISTAAR": "155",
                                    "(No column name)": "89"
                                },
                                {
                                    "TERMEKKOD": "06080426T",
                                    "MEGNEVEZES": "Szótárfüzet Lizzy",
                                    "KAT_ID": "45",
                                    "RAKTAR_KOD": "7",
                                    "LISTAAR": "161",
                                    "(No column name)": "90"
                                },
                                {
                                    "TERMEKKOD": "06040354T",
                                    "MEGNEVEZES": "Sp.Füzet A/4  perforált, lyuk.",
                                    "KAT_ID": "45",
                                    "RAKTAR_KOD": "5",
                                    "LISTAAR": "206",
                                    "(No column name)": "109"
                                },
                                {
                                    "TERMEKKOD": "06080118T",
                                    "MEGNEVEZES": "Füzetborító átlátszó A5",
                                    "KAT_ID": "46",
                                    "RAKTAR_KOD": "6",
                                    "LISTAAR": "8",
                                    "(No column name)": "6"
                                },
                                {
                                    "TERMEKKOD": "06080117T",
                                    "MEGNEVEZES": "Füzetborító A/4 átlátszó",
                                    "KAT_ID": "46",
                                    "RAKTAR_KOD": "6",
                                    "LISTAAR": "10",
                                    "(No column name)": "8"
                                },
                                {
                                    "TERMEKKOD": "06080122T",
                                    "MEGNEVEZES": "Füzetborító öntapadós nagy",
                                    "KAT_ID": "46",
                                    "RAKTAR_KOD": "7",
                                    "LISTAAR": "19",
                                    "(No column name)": "15"
                                },
                                {
                                    "TERMEKKOD": "06080119T",
                                    "MEGNEVEZES": "Füzetborító mesefig.",
                                    "KAT_ID": "46",
                                    "RAKTAR_KOD": "2",
                                    "LISTAAR": "19",
                                    "(No column name)": "15"
                                },
                                {
                                    "TERMEKKOD": "06080120T",
                                    "MEGNEVEZES": "Füzetborító öntapadó kicsi",
                                    "KAT_ID": "46",
                                    "RAKTAR_KOD": "9",
                                    "LISTAAR": "23",
                                    "(No column name)": "17"
                                },
                                {
                                    "TERMEKKOD": "06080424T",
                                    "MEGNEVEZES": "Füzetborító A/4 mintás",
                                    "KAT_ID": "46",
                                    "RAKTAR_KOD": "9",
                                    "LISTAAR": "24",
                                    "(No column name)": "18"
                                },
                                {
                                    "TERMEKKOD": "06080121T",
                                    "MEGNEVEZES": "Füzetborító öntapadó tekercses",
                                    "KAT_ID": "46",
                                    "RAKTAR_KOD": "7",
                                    "LISTAAR": "195",
                                    "(No column name)": "106"
                                },
                                {
                                    "TERMEKKOD": "06080126T",
                                    "MEGNEVEZES": "Füzettartó A/5  ",
                                    "KAT_ID": "47",
                                    "RAKTAR_KOD": "9",
                                    "LISTAAR": "203",
                                    "(No column name)": "108"
                                },
                                {
                                    "TERMEKKOD": "06080125T",
                                    "MEGNEVEZES": "Füzettartó A/5 vastag",
                                    "KAT_ID": "47",
                                    "RAKTAR_KOD": "7",
                                    "LISTAAR": "411",
                                    "(No column name)": "154"
                                },
                                {
                                    "TERMEKKOD": "06080124T",
                                    "MEGNEVEZES": "Füzettartó A/4 keménytáblás",
                                    "KAT_ID": "47",
                                    "RAKTAR_KOD": "6",
                                    "LISTAAR": "508",
                                    "(No column name)": "164"
                                },
                                {
                                    "TERMEKKOD": "06080123T",
                                    "MEGNEVEZES": "Füzettartó A/4 keménytáblás",
                                    "KAT_ID": "47",
                                    "RAKTAR_KOD": "6",
                                    "LISTAAR": "551",
                                    "(No column name)": "167"
                                },
                                {
                                    "TERMEKKOD": "02040145T",
                                    "MEGNEVEZES": "Gemkapocs 28 mm",
                                    "KAT_ID": "48",
                                    "RAKTAR_KOD": "8",
                                    "LISTAAR": "30",
                                    "(No column name)": "23"
                                },
                                {
                                    "TERMEKKOD": "02040146T",
                                    "MEGNEVEZES": "Gemkapocs ICO",
                                    "KAT_ID": "48",
                                    "RAKTAR_KOD": "7",
                                    "LISTAAR": "48",
                                    "(No column name)": "37"
                                },
                                {
                                    "TERMEKKOD": "02080450T",
                                    "MEGNEVEZES": "Gémkapocs 28-as színes",
                                    "KAT_ID": "49",
                                    "RAKTAR_KOD": "8",
                                    "LISTAAR": "44",
                                    "(No column name)": "34"
                                },
                                {
                                    "TERMEKKOD": "02080451T",
                                    "MEGNEVEZES": "Gémkapocs 50-es",
                                    "KAT_ID": "49",
                                    "RAKTAR_KOD": "5",
                                    "LISTAAR": "103",
                                    "(No column name)": "70"
                                },
                                {
                                    "TERMEKKOD": "02080456T",
                                    "MEGNEVEZES": "Genoterm HERLITZ 10-es",
                                    "KAT_ID": "50",
                                    "RAKTAR_KOD": "7",
                                    "LISTAAR": "89",
                                    "(No column name)": "62"
                                },
                                {
                                    "TERMEKKOD": "02040147T",
                                    "MEGNEVEZES": "Genotherm lefűzhető A/5",
                                    "KAT_ID": "51",
                                    "RAKTAR_KOD": "8",
                                    "LISTAAR": "8",
                                    "(No column name)": "6"
                                },
                                {
                                    "TERMEKKOD": "02040148T",
                                    "MEGNEVEZES": "Genotherm lefűzhető A4 10db-os",
                                    "KAT_ID": "51",
                                    "RAKTAR_KOD": "9",
                                    "LISTAAR": "63",
                                    "(No column name)": "48"
                                },
                                {
                                    "TERMEKKOD": "02040149T",
                                    "MEGNEVEZES": "Genotherm A4 10db-os",
                                    "KAT_ID": "51",
                                    "RAKTAR_KOD": "7",
                                    "LISTAAR": "110",
                                    "(No column name)": "73"
                                },
                                {
                                    "TERMEKKOD": "07080156T",
                                    "MEGNEVEZES": "Golyóstoll kupakos piros",
                                    "KAT_ID": "52",
                                    "RAKTAR_KOD": "8",
                                    "LISTAAR": "23",
                                    "(No column name)": "17"
                                },
                                {
                                    "TERMEKKOD": "07080155T",
                                    "MEGNEVEZES": "Golyóstoll",
                                    "KAT_ID": "52",
                                    "RAKTAR_KOD": "5",
                                    "LISTAAR": "33",
                                    "(No column name)": "25"
                                },
                                {
                                    "TERMEKKOD": "07080153T",
                                    "MEGNEVEZES": "Golyóstoll illatos ICO",
                                    "KAT_ID": "52",
                                    "RAKTAR_KOD": "8",
                                    "LISTAAR": "41",
                                    "(No column name)": "32"
                                },
                                {
                                    "TERMEKKOD": "07080161T",
                                    "MEGNEVEZES": "Golyóstoll kétszínű",
                                    "KAT_ID": "52",
                                    "RAKTAR_KOD": "9",
                                    "LISTAAR": "44",
                                    "(No column name)": "34"
                                },
                                {
                                    "TERMEKKOD": "07080150T",
                                    "MEGNEVEZES": "Golyóstoll",
                                    "KAT_ID": "52",
                                    "RAKTAR_KOD": "6",
                                    "LISTAAR": "51",
                                    "(No column name)": "40"
                                },
                                {
                                    "TERMEKKOD": "07080159T",
                                    "MEGNEVEZES": "Golyóstoll Pax tip.",
                                    "KAT_ID": "52",
                                    "RAKTAR_KOD": "8",
                                    "LISTAAR": "63",
                                    "(No column name)": "48"
                                },
                                {
                                    "TERMEKKOD": "07080466T",
                                    "MEGNEVEZES": "Golyóstoll Stabiló 308",
                                    "KAT_ID": "52",
                                    "RAKTAR_KOD": "9",
                                    "LISTAAR": "81",
                                    "(No column name)": "60"
                                },
                                {
                                    "TERMEKKOD": "07080157T",
                                    "MEGNEVEZES": "Golyóstoll Montex Hytone",
                                    "KAT_ID": "52",
                                    "RAKTAR_KOD": "7",
                                    "LISTAAR": "93",
                                    "(No column name)": "64"
                                },
                                {
                                    "TERMEKKOD": "07040169T",
                                    "MEGNEVEZES": "Golyóstoll Zodiák",
                                    "KAT_ID": "52",
                                    "RAKTAR_KOD": "8",
                                    "LISTAAR": "94",
                                    "(No column name)": "65"
                                },
                                {
                                    "TERMEKKOD": "07080162T",
                                    "MEGNEVEZES": "Golyóstoll Stabilo piros",
                                    "KAT_ID": "52",
                                    "RAKTAR_KOD": "6",
                                    "LISTAAR": "101",
                                    "(No column name)": "69"
                                },
                                {
                                    "TERMEKKOD": "07080468T",
                                    "MEGNEVEZES": "Golyóstoll háromfunkciós",
                                    "KAT_ID": "52",
                                    "RAKTAR_KOD": "6",
                                    "LISTAAR": "110",
                                    "(No column name)": "73"
                                },
                                {
                                    "TERMEKKOD": "07080470T",
                                    "MEGNEVEZES": "Golyóstoll háromszög",
                                    "KAT_ID": "52",
                                    "RAKTAR_KOD": "7",
                                    "LISTAAR": "188",
                                    "(No column name)": "102"
                                },
                                {
                                    "TERMEKKOD": "07040168T",
                                    "MEGNEVEZES": "Golyóstoll Zebra new hard",
                                    "KAT_ID": "52",
                                    "RAKTAR_KOD": "8",
                                    "LISTAAR": "189",
                                    "(No column name)": "103"
                                },
                                {
                                    "TERMEKKOD": "07040165T",
                                    "MEGNEVEZES": "Golyóstoll UNI laknock",
                                    "KAT_ID": "52",
                                    "RAKTAR_KOD": "9",
                                    "LISTAAR": "218",
                                    "(No column name)": "113"
                                },
                                {
                                    "TERMEKKOD": "07080163T",
                                    "MEGNEVEZES": "Golyóstoll UNI átlátszó",
                                    "KAT_ID": "52",
                                    "RAKTAR_KOD": "5",
                                    "LISTAAR": "230",
                                    "(No column name)": "116"
                                },
                                {
                                    "TERMEKKOD": "07080164T",
                                    "MEGNEVEZES": "Golyóstoll UNI gumis",
                                    "KAT_ID": "52",
                                    "RAKTAR_KOD": "6",
                                    "LISTAAR": "231",
                                    "(No column name)": "117"
                                },
                                {
                                    "TERMEKKOD": "07080160T",
                                    "MEGNEVEZES": "Golyóstoll penac",
                                    "KAT_ID": "52",
                                    "RAKTAR_KOD": "7",
                                    "LISTAAR": "239",
                                    "(No column name)": "119"
                                },
                                {
                                    "TERMEKKOD": "07080467T",
                                    "MEGNEVEZES": "Golyóstoll kétfunkciós ICO",
                                    "KAT_ID": "52",
                                    "RAKTAR_KOD": "8",
                                    "LISTAAR": "273",
                                    "(No column name)": "126"
                                },
                                {
                                    "TERMEKKOD": "07080471T",
                                    "MEGNEVEZES": "Golyóstoll levélbontós",
                                    "KAT_ID": "52",
                                    "RAKTAR_KOD": "7",
                                    "LISTAAR": "294",
                                    "(No column name)": "133"
                                },
                                {
                                    "TERMEKKOD": "07080469T",
                                    "MEGNEVEZES": "Golyóstoll UNIBALL 07",
                                    "KAT_ID": "52",
                                    "RAKTAR_KOD": "8",
                                    "LISTAAR": "364",
                                    "(No column name)": "148"
                                },
                                {
                                    "TERMEKKOD": "07080151T",
                                    "MEGNEVEZES": "Golyóstoll + ceruza Twister 2in1",
                                    "KAT_ID": "52",
                                    "RAKTAR_KOD": "9",
                                    "LISTAAR": "390",
                                    "(No column name)": "149"
                                },
                                {
                                    "TERMEKKOD": "07080154T",
                                    "MEGNEVEZES": "Golyóstoll INOXCROM",
                                    "KAT_ID": "52",
                                    "RAKTAR_KOD": "6",
                                    "LISTAAR": "401",
                                    "(No column name)": "150"
                                },
                                {
                                    "TERMEKKOD": "07040166T",
                                    "MEGNEVEZES": "Golyóstoll Zebra 301",
                                    "KAT_ID": "52",
                                    "RAKTAR_KOD": "8",
                                    "LISTAAR": "455",
                                    "(No column name)": "160"
                                },
                                {
                                    "TERMEKKOD": "07040167T",
                                    "MEGNEVEZES": "Golyóstoll Zebra mini",
                                    "KAT_ID": "52",
                                    "RAKTAR_KOD": "9",
                                    "LISTAAR": "655",
                                    "(No column name)": "172"
                                },
                                {
                                    "TERMEKKOD": "07080158T",
                                    "MEGNEVEZES": "Golyóstoll Parker tokban",
                                    "KAT_ID": "52",
                                    "RAKTAR_KOD": "5",
                                    "LISTAAR": "773",
                                    "(No column name)": "183"
                                },
                                {
                                    "TERMEKKOD": "07080152T",
                                    "MEGNEVEZES": "Golyóstoll 3 funkciós ",
                                    "KAT_ID": "52",
                                    "RAKTAR_KOD": "5",
                                    "LISTAAR": "1019",
                                    "(No column name)": "191"
                                },
                                {
                                    "TERMEKKOD": "05050170T",
                                    "MEGNEVEZES": "Gumigyűrű",
                                    "KAT_ID": "53",
                                    "RAKTAR_KOD": "9",
                                    "LISTAAR": "19",
                                    "(No column name)": "15"
                                },
                                {
                                    "TERMEKKOD": "L064-CI401",
                                    "MEGNEVEZES": "gyermek szandál (lány)",
                                    "KAT_ID": "54",
                                    "RAKTAR_KOD": "3",
                                    "LISTAAR": "6900",
                                    "(No column name)": "207"
                                },
                                {
                                    "TERMEKKOD": "G064-CI401",
                                    "MEGNEVEZES": "gyermek szandál (fiú)",
                                    "KAT_ID": "54",
                                    "RAKTAR_KOD": "1",
                                    "LISTAAR": "6900",
                                    "(No column name)": "207"
                                },
                                {
                                    "TERMEKKOD": "G073-CI410",
                                    "MEGNEVEZES": "gyermek cipő (fiú)",
                                    "KAT_ID": "54",
                                    "RAKTAR_KOD": "2",
                                    "LISTAAR": "7900",
                                    "(No column name)": "209"
                                },
                                {
                                    "TERMEKKOD": "L073-CI410",
                                    "MEGNEVEZES": "gyermek cipő (lány)",
                                    "KAT_ID": "54",
                                    "RAKTAR_KOD": "3",
                                    "LISTAAR": "7900",
                                    "(No column name)": "209"
                                },
                                {
                                    "TERMEKKOD": "L082-CI419",
                                    "MEGNEVEZES": "gyermek csizma (lány)",
                                    "KAT_ID": "54",
                                    "RAKTAR_KOD": "1",
                                    "LISTAAR": "8000",
                                    "(No column name)": "210"
                                },
                                {
                                    "TERMEKKOD": "G082-CI419",
                                    "MEGNEVEZES": "gyermek csizma (fiú)",
                                    "KAT_ID": "54",
                                    "RAKTAR_KOD": "3",
                                    "LISTAAR": "8000",
                                    "(No column name)": "210"
                                },
                                {
                                    "TERMEKKOD": "L001-KB101",
                                    "MEGNEVEZES": "gyermek kabát (lány)",
                                    "KAT_ID": "55",
                                    "RAKTAR_KOD": "1",
                                    "LISTAAR": "8900",
                                    "(No column name)": "212"
                                },
                                {
                                    "TERMEKKOD": "G001-KB101",
                                    "MEGNEVEZES": "gyermek kabát (fiú)",
                                    "KAT_ID": "55",
                                    "RAKTAR_KOD": "1",
                                    "LISTAAR": "8900",
                                    "(No column name)": "212"
                                },
                                {
                                    "TERMEKKOD": "G019-NA207",
                                    "MEGNEVEZES": "gyermek pamut nadrág (fiú)",
                                    "KAT_ID": "56",
                                    "RAKTAR_KOD": "3",
                                    "LISTAAR": "1290",
                                    "(No column name)": "195"
                                },
                                {
                                    "TERMEKKOD": "L019-NA207",
                                    "MEGNEVEZES": "gyermek pamut nadrág (lány)",
                                    "KAT_ID": "56",
                                    "RAKTAR_KOD": "1",
                                    "LISTAAR": "1290",
                                    "(No column name)": "195"
                                },
                                {
                                    "TERMEKKOD": "G013-NA201",
                                    "MEGNEVEZES": "gyermek farmer nadrág (fiú)",
                                    "KAT_ID": "56",
                                    "RAKTAR_KOD": "3",
                                    "LISTAAR": "4990",
                                    "(No column name)": "205"
                                },
                                {
                                    "TERMEKKOD": "L013-NA201",
                                    "MEGNEVEZES": "gyermek farmer nadrág (lány)",
                                    "KAT_ID": "56",
                                    "RAKTAR_KOD": "3",
                                    "LISTAAR": "4990",
                                    "(No column name)": "205"
                                },
                                {
                                    "TERMEKKOD": "L048-PO218",
                                    "MEGNEVEZES": "gyermek póló (lány)",
                                    "KAT_ID": "57",
                                    "RAKTAR_KOD": "3",
                                    "LISTAAR": "3900",
                                    "(No column name)": "203"
                                },
                                {
                                    "TERMEKKOD": "G048-PO218",
                                    "MEGNEVEZES": "gyermek póló (fiú)",
                                    "KAT_ID": "57",
                                    "RAKTAR_KOD": "3",
                                    "LISTAAR": "3900",
                                    "(No column name)": "203"
                                },
                                {
                                    "TERMEKKOD": "02040176T",
                                    "MEGNEVEZES": "Gyorsfűző dosszié fehér",
                                    "KAT_ID": "58",
                                    "RAKTAR_KOD": "7",
                                    "LISTAAR": "18",
                                    "(No column name)": "14"
                                },
                                {
                                    "TERMEKKOD": "02040177T",
                                    "MEGNEVEZES": "Gyorsfűző műa.",
                                    "KAT_ID": "58",
                                    "RAKTAR_KOD": "5",
                                    "LISTAAR": "30",
                                    "(No column name)": "23"
                                },
                                {
                                    "TERMEKKOD": "02040178T",
                                    "MEGNEVEZES": "Gyorsfűző műa.",
                                    "KAT_ID": "58",
                                    "RAKTAR_KOD": "8",
                                    "LISTAAR": "35",
                                    "(No column name)": "27"
                                },
                                {
                                    "TERMEKKOD": "06080441T",
                                    "MEGNEVEZES": "Gyurmakés",
                                    "KAT_ID": "59",
                                    "RAKTAR_KOD": "9",
                                    "LISTAAR": "121",
                                    "(No column name)": "78"
                                },
                                {
                                    "TERMEKKOD": "06080440T",
                                    "MEGNEVEZES": "Gyurma 12 szinű",
                                    "KAT_ID": "59",
                                    "RAKTAR_KOD": "5",
                                    "LISTAAR": "161",
                                    "(No column name)": "90"
                                },
                                {
                                    "TERMEKKOD": "06040179T",
                                    "MEGNEVEZES": "Gyurma színes 200 g-os",
                                    "KAT_ID": "59",
                                    "RAKTAR_KOD": "6",
                                    "LISTAAR": "180",
                                    "(No column name)": "98"
                                },
                                {
                                    "TERMEKKOD": "06040180T",
                                    "MEGNEVEZES": "Gyurma színes natúr",
                                    "KAT_ID": "59",
                                    "RAKTAR_KOD": "8",
                                    "LISTAAR": "228",
                                    "(No column name)": "115"
                                },
                                {
                                    "TERMEKKOD": "06040183T",
                                    "MEGNEVEZES": "Gyűrűskönyv bet. A/5",
                                    "KAT_ID": "60",
                                    "RAKTAR_KOD": "9",
                                    "LISTAAR": "95",
                                    "(No column name)": "66"
                                },
                                {
                                    "TERMEKKOD": "06040182T",
                                    "MEGNEVEZES": "Gyűrűskönyv bet. A/4",
                                    "KAT_ID": "60",
                                    "RAKTAR_KOD": "7",
                                    "LISTAAR": "184",
                                    "(No column name)": "100"
                                },
                                {
                                    "TERMEKKOD": "06040184T",
                                    "MEGNEVEZES": "Gyűrűskönyv betét A/5",
                                    "KAT_ID": "60",
                                    "RAKTAR_KOD": "9",
                                    "LISTAAR": "218",
                                    "(No column name)": "113"
                                },
                                {
                                    "TERMEKKOD": "06040185T",
                                    "MEGNEVEZES": "Gyűrűskönyv",
                                    "KAT_ID": "60",
                                    "RAKTAR_KOD": "9",
                                    "LISTAAR": "581",
                                    "(No column name)": "168"
                                },
                                {
                                    "TERMEKKOD": "06040186T",
                                    "MEGNEVEZES": "Gyűrűskönyv színes",
                                    "KAT_ID": "60",
                                    "RAKTAR_KOD": "6",
                                    "LISTAAR": "699",
                                    "(No column name)": "178"
                                },
                                {
                                    "TERMEKKOD": "04050187T",
                                    "MEGNEVEZES": "Hajgumi macis",
                                    "KAT_ID": "61",
                                    "RAKTAR_KOD": "8",
                                    "LISTAAR": "66",
                                    "(No column name)": "51"
                                },
                                {
                                    "TERMEKKOD": "02020444T",
                                    "MEGNEVEZES": "Határidő napló A/6",
                                    "KAT_ID": "62",
                                    "RAKTAR_KOD": "9",
                                    "LISTAAR": "464",
                                    "(No column name)": "161"
                                },
                                {
                                    "TERMEKKOD": "04020445T",
                                    "MEGNEVEZES": "Határidő napló 2010-s",
                                    "KAT_ID": "62",
                                    "RAKTAR_KOD": "9",
                                    "LISTAAR": "728",
                                    "(No column name)": "180"
                                },
                                {
                                    "TERMEKKOD": "06080190T",
                                    "MEGNEVEZES": "Hegyező műanyag egyes",
                                    "KAT_ID": "64",
                                    "RAKTAR_KOD": "6",
                                    "LISTAAR": "23",
                                    "(No column name)": "17"
                                },
                                {
                                    "TERMEKKOD": "06080189T",
                                    "MEGNEVEZES": "Hegyező műanyag dupla",
                                    "KAT_ID": "64",
                                    "RAKTAR_KOD": "6",
                                    "LISTAAR": "30",
                                    "(No column name)": "23"
                                },
                                {
                                    "TERMEKKOD": "06080191T",
                                    "MEGNEVEZES": "Hegyező tartályos egyes",
                                    "KAT_ID": "64",
                                    "RAKTAR_KOD": "8",
                                    "LISTAAR": "30",
                                    "(No column name)": "23"
                                },
                                {
                                    "TERMEKKOD": "06080188T",
                                    "MEGNEVEZES": "Hegyező gép",
                                    "KAT_ID": "64",
                                    "RAKTAR_KOD": "8",
                                    "LISTAAR": "875",
                                    "(No column name)": "189"
                                },
                                {
                                    "TERMEKKOD": "06080192T",
                                    "MEGNEVEZES": "Hegyző fém 1 lyukú",
                                    "KAT_ID": "65",
                                    "RAKTAR_KOD": "9",
                                    "LISTAAR": "70",
                                    "(No column name)": "53"
                                },
                                {
                                    "TERMEKKOD": "06080193T",
                                    "MEGNEVEZES": "Hegyző fém 2 lyukú",
                                    "KAT_ID": "65",
                                    "RAKTAR_KOD": "7",
                                    "LISTAAR": "180",
                                    "(No column name)": "98"
                                },
                                {
                                    "TERMEKKOD": "02040197T",
                                    "MEGNEVEZES": "Hibajavító lap ",
                                    "KAT_ID": "66",
                                    "RAKTAR_KOD": "9",
                                    "LISTAAR": "81",
                                    "(No column name)": "60"
                                },
                                {
                                    "TERMEKKOD": "02040198T",
                                    "MEGNEVEZES": "Hibajavító roller 5 mm",
                                    "KAT_ID": "66",
                                    "RAKTAR_KOD": "7",
                                    "LISTAAR": "133",
                                    "(No column name)": "84"
                                },
                                {
                                    "TERMEKKOD": "02040195T",
                                    "MEGNEVEZES": "Hibajavító ecsetes Aqua",
                                    "KAT_ID": "66",
                                    "RAKTAR_KOD": "5",
                                    "LISTAAR": "185",
                                    "(No column name)": "101"
                                },
                                {
                                    "TERMEKKOD": "02040196T",
                                    "MEGNEVEZES": "Hibajavító készlet Blanco",
                                    "KAT_ID": "66",
                                    "RAKTAR_KOD": "7",
                                    "LISTAAR": "273",
                                    "(No column name)": "126"
                                },
                                {
                                    "TERMEKKOD": "02040200T",
                                    "MEGNEVEZES": "Hibajavító Kores mini pen",
                                    "KAT_ID": "66",
                                    "RAKTAR_KOD": "6",
                                    "LISTAAR": "278",
                                    "(No column name)": "128"
                                },
                                {
                                    "TERMEKKOD": "02040199T",
                                    "MEGNEVEZES": "Hibajavító roller Pax",
                                    "KAT_ID": "66",
                                    "RAKTAR_KOD": "7",
                                    "LISTAAR": "286",
                                    "(No column name)": "129"
                                },
                                {
                                    "TERMEKKOD": "02040194T",
                                    "MEGNEVEZES": "Hibajav.roll.Pritt 4,2mm",
                                    "KAT_ID": "66",
                                    "RAKTAR_KOD": "8",
                                    "LISTAAR": "794",
                                    "(No column name)": "186"
                                },
                                {
                                    "TERMEKKOD": "04050203T",
                                    "MEGNEVEZES": "Hűtőmágnes",
                                    "KAT_ID": "67",
                                    "RAKTAR_KOD": "7",
                                    "LISTAAR": "24",
                                    "(No column name)": "18"
                                },
                                {
                                    "TERMEKKOD": "04050204T",
                                    "MEGNEVEZES": "Hűtőmágnes WD",
                                    "KAT_ID": "67",
                                    "RAKTAR_KOD": "8",
                                    "LISTAAR": "169",
                                    "(No column name)": "94"
                                },
                                {
                                    "TERMEKKOD": "06040206T",
                                    "MEGNEVEZES": "kék indigó",
                                    "KAT_ID": "68",
                                    "RAKTAR_KOD": "5",
                                    "LISTAAR": "12",
                                    "(No column name)": "10"
                                },
                                {
                                    "TERMEKKOD": "06040205T",
                                    "MEGNEVEZES": "Indigó Pelikán",
                                    "KAT_ID": "68",
                                    "RAKTAR_KOD": "5",
                                    "LISTAAR": "15",
                                    "(No column name)": "13"
                                },
                                {
                                    "TERMEKKOD": "02040207T",
                                    "MEGNEVEZES": "Iratgyűjtő ESSELTE ablakos",
                                    "KAT_ID": "70",
                                    "RAKTAR_KOD": "6",
                                    "LISTAAR": "19",
                                    "(No column name)": "15"
                                },
                                {
                                    "TERMEKKOD": "02040208T",
                                    "MEGNEVEZES": "Iratgyűjtő fehér",
                                    "KAT_ID": "70",
                                    "RAKTAR_KOD": "8",
                                    "LISTAAR": "19",
                                    "(No column name)": "15"
                                },
                                {
                                    "TERMEKKOD": "02040025T",
                                    "MEGNEVEZES": "Álló irattartó karton",
                                    "KAT_ID": "70",
                                    "RAKTAR_KOD": "8",
                                    "LISTAAR": "133",
                                    "(No column name)": "84"
                                },
                                {
                                    "TERMEKKOD": "02040211T",
                                    "MEGNEVEZES": "Iratrendező ESSELTE",
                                    "KAT_ID": "71",
                                    "RAKTAR_KOD": "9",
                                    "LISTAAR": "243",
                                    "(No column name)": "121"
                                },
                                {
                                    "TERMEKKOD": "02080432T",
                                    "MEGNEVEZES": "Tokos iratrendező",
                                    "KAT_ID": "71",
                                    "RAKTAR_KOD": "5",
                                    "LISTAAR": "259",
                                    "(No column name)": "124"
                                },
                                {
                                    "TERMEKKOD": "02040209T",
                                    "MEGNEVEZES": "Iratsín fehér",
                                    "KAT_ID": "72",
                                    "RAKTAR_KOD": "7",
                                    "LISTAAR": "44",
                                    "(No column name)": "34"
                                },
                                {
                                    "TERMEKKOD": "02040210T",
                                    "MEGNEVEZES": "Iratsín kék",
                                    "KAT_ID": "72",
                                    "RAKTAR_KOD": "6",
                                    "LISTAAR": "89",
                                    "(No column name)": "62"
                                },
                                {
                                    "TERMEKKOD": "02080436T",
                                    "MEGNEVEZES": "Irattartó müa. boríték A/4",
                                    "KAT_ID": "73",
                                    "RAKTAR_KOD": "7",
                                    "LISTAAR": "66",
                                    "(No column name)": "51"
                                },
                                {
                                    "TERMEKKOD": "02080431T",
                                    "MEGNEVEZES": "Álló irattartó",
                                    "KAT_ID": "73",
                                    "RAKTAR_KOD": "8",
                                    "LISTAAR": "214",
                                    "(No column name)": "112"
                                },
                                {
                                    "TERMEKKOD": "02040214T",
                                    "MEGNEVEZES": "Iromány fedél feles",
                                    "KAT_ID": "74",
                                    "RAKTAR_KOD": "5",
                                    "LISTAAR": "59",
                                    "(No column name)": "45"
                                },
                                {
                                    "TERMEKKOD": "06040212T",
                                    "MEGNEVEZES": "Írólap 10-50 ffam.",
                                    "KAT_ID": "75",
                                    "RAKTAR_KOD": "8",
                                    "LISTAAR": "29",
                                    "(No column name)": "22"
                                },
                                {
                                    "TERMEKKOD": "06040213T",
                                    "MEGNEVEZES": "Írólap 20-50 ",
                                    "KAT_ID": "75",
                                    "RAKTAR_KOD": "8",
                                    "LISTAAR": "34",
                                    "(No column name)": "26"
                                },
                                {
                                    "TERMEKKOD": "07040218T",
                                    "MEGNEVEZES": "Ironbél HB 0,5",
                                    "KAT_ID": "76",
                                    "RAKTAR_KOD": "6",
                                    "LISTAAR": "23",
                                    "(No column name)": "17"
                                },
                                {
                                    "TERMEKKOD": "07040216T",
                                    "MEGNEVEZES": "Ironbél B 0,5",
                                    "KAT_ID": "76",
                                    "RAKTAR_KOD": "5",
                                    "LISTAAR": "36",
                                    "(No column name)": "28"
                                },
                                {
                                    "TERMEKKOD": "07040217T",
                                    "MEGNEVEZES": "Ironbél H 0,5",
                                    "KAT_ID": "76",
                                    "RAKTAR_KOD": "6",
                                    "LISTAAR": "59",
                                    "(No column name)": "45"
                                },
                                {
                                    "TERMEKKOD": "07040215T",
                                    "MEGNEVEZES": "Ironbél  2B ICO",
                                    "KAT_ID": "76",
                                    "RAKTAR_KOD": "7",
                                    "LISTAAR": "74",
                                    "(No column name)": "55"
                                },
                                {
                                    "TERMEKKOD": "07040219T",
                                    "MEGNEVEZES": "Ironbél HI-POLIMER HB 0,7",
                                    "KAT_ID": "76",
                                    "RAKTAR_KOD": "6",
                                    "LISTAAR": "78",
                                    "(No column name)": "57"
                                },
                                {
                                    "TERMEKKOD": "06040089T",
                                    "MEGNEVEZES": "Ellenőrzőborító",
                                    "KAT_ID": "78",
                                    "RAKTAR_KOD": "7",
                                    "LISTAAR": "5",
                                    "(No column name)": "4"
                                },
                                {
                                    "TERMEKKOD": "06040181T",
                                    "MEGNEVEZES": "Gyűjtőlap A/4",
                                    "KAT_ID": "78",
                                    "RAKTAR_KOD": "6",
                                    "LISTAAR": "8",
                                    "(No column name)": "6"
                                },
                                {
                                    "TERMEKKOD": "06040353T",
                                    "MEGNEVEZES": "Sorvezető",
                                    "KAT_ID": "78",
                                    "RAKTAR_KOD": "5",
                                    "LISTAAR": "8",
                                    "(No column name)": "6"
                                },
                                {
                                    "TERMEKKOD": "06010305T",
                                    "MEGNEVEZES": "Papírcenti 100 cm-es",
                                    "KAT_ID": "78",
                                    "RAKTAR_KOD": "6",
                                    "LISTAAR": "9",
                                    "(No column name)": "7"
                                },
                                {
                                    "TERMEKKOD": "06040383T",
                                    "MEGNEVEZES": "Taffet papír",
                                    "KAT_ID": "78",
                                    "RAKTAR_KOD": "6",
                                    "LISTAAR": "19",
                                    "(No column name)": "15"
                                },
                                {
                                    "TERMEKKOD": "06010202T",
                                    "MEGNEVEZES": "Hurkapálca 10 db-os",
                                    "KAT_ID": "78",
                                    "RAKTAR_KOD": "6",
                                    "LISTAAR": "23",
                                    "(No column name)": "17"
                                },
                                {
                                    "TERMEKKOD": "06010036T",
                                    "MEGNEVEZES": "Betűtartó sin",
                                    "KAT_ID": "78",
                                    "RAKTAR_KOD": "7",
                                    "LISTAAR": "33",
                                    "(No column name)": "25"
                                },
                                {
                                    "TERMEKKOD": "06010367T",
                                    "MEGNEVEZES": "Számolókorong",
                                    "KAT_ID": "78",
                                    "RAKTAR_KOD": "6",
                                    "LISTAAR": "35",
                                    "(No column name)": "27"
                                },
                                {
                                    "TERMEKKOD": "07050463T",
                                    "MEGNEVEZES": "Ceruzafogó",
                                    "KAT_ID": "78",
                                    "RAKTAR_KOD": "8",
                                    "LISTAAR": "36",
                                    "(No column name)": "28"
                                },
                                {
                                    "TERMEKKOD": "06010365T",
                                    "MEGNEVEZES": "Számegyenes",
                                    "KAT_ID": "78",
                                    "RAKTAR_KOD": "8",
                                    "LISTAAR": "36",
                                    "(No column name)": "28"
                                },
                                {
                                    "TERMEKKOD": "06010201T",
                                    "MEGNEVEZES": "Hőmérő, műa.",
                                    "KAT_ID": "78",
                                    "RAKTAR_KOD": "6",
                                    "LISTAAR": "36",
                                    "(No column name)": "28"
                                },
                                {
                                    "TERMEKKOD": "06010373T",
                                    "MEGNEVEZES": "Színes papír I.II-IV.V-VIII-ig",
                                    "KAT_ID": "78",
                                    "RAKTAR_KOD": "8",
                                    "LISTAAR": "43",
                                    "(No column name)": "33"
                                },
                                {
                                    "TERMEKKOD": "06010374T",
                                    "MEGNEVEZES": "Szorzótábla műanyag",
                                    "KAT_ID": "78",
                                    "RAKTAR_KOD": "8",
                                    "LISTAAR": "45",
                                    "(No column name)": "35"
                                },
                                {
                                    "TERMEKKOD": "06040088T",
                                    "MEGNEVEZES": "Egészségügyi könyv",
                                    "KAT_ID": "78",
                                    "RAKTAR_KOD": "7",
                                    "LISTAAR": "51",
                                    "(No column name)": "40"
                                },
                                {
                                    "TERMEKKOD": "06040384T",
                                    "MEGNEVEZES": "Technika cs. I-II-III-IV",
                                    "KAT_ID": "78",
                                    "RAKTAR_KOD": "5",
                                    "LISTAAR": "58",
                                    "(No column name)": "44"
                                },
                                {
                                    "TERMEKKOD": "06010368T",
                                    "MEGNEVEZES": "Számolópálca",
                                    "KAT_ID": "78",
                                    "RAKTAR_KOD": "5",
                                    "LISTAAR": "61",
                                    "(No column name)": "47"
                                },
                                {
                                    "TERMEKKOD": "06050249T",
                                    "MEGNEVEZES": "Krepp papír",
                                    "KAT_ID": "78",
                                    "RAKTAR_KOD": "5",
                                    "LISTAAR": "73",
                                    "(No column name)": "54"
                                },
                                {
                                    "TERMEKKOD": "06080430T",
                                    "MEGNEVEZES": "Öntapadős betűk",
                                    "KAT_ID": "78",
                                    "RAKTAR_KOD": "7",
                                    "LISTAAR": "74",
                                    "(No column name)": "55"
                                },
                                {
                                    "TERMEKKOD": "06040352T",
                                    "MEGNEVEZES": "Rovatolt papír 20 íves",
                                    "KAT_ID": "78",
                                    "RAKTAR_KOD": "6",
                                    "LISTAAR": "103",
                                    "(No column name)": "70"
                                },
                                {
                                    "TERMEKKOD": "06040399T",
                                    "MEGNEVEZES": "Tombola tömb",
                                    "KAT_ID": "78",
                                    "RAKTAR_KOD": "7",
                                    "LISTAAR": "125",
                                    "(No column name)": "81"
                                },
                                {
                                    "TERMEKKOD": "06080259T",
                                    "MEGNEVEZES": "Leckefüzet",
                                    "KAT_ID": "78",
                                    "RAKTAR_KOD": "6",
                                    "LISTAAR": "161",
                                    "(No column name)": "90"
                                },
                                {
                                    "TERMEKKOD": "06080427T",
                                    "MEGNEVEZES": "Ablakkréta",
                                    "KAT_ID": "78",
                                    "RAKTAR_KOD": "9",
                                    "LISTAAR": "161",
                                    "(No column name)": "90"
                                },
                                {
                                    "TERMEKKOD": "06080422T",
                                    "MEGNEVEZES": "Füzettartó A/4",
                                    "KAT_ID": "78",
                                    "RAKTAR_KOD": "7",
                                    "LISTAAR": "324",
                                    "(No column name)": "140"
                                },
                                {
                                    "TERMEKKOD": "06040400T",
                                    "MEGNEVEZES": "Tornazsák",
                                    "KAT_ID": "78",
                                    "RAKTAR_KOD": "8",
                                    "LISTAAR": "511",
                                    "(No column name)": "165"
                                },
                                {
                                    "TERMEKKOD": "04050220T",
                                    "MEGNEVEZES": "Játék autó",
                                    "KAT_ID": "79",
                                    "RAKTAR_KOD": "7",
                                    "LISTAAR": "65",
                                    "(No column name)": "50"
                                },
                                {
                                    "TERMEKKOD": "04050223T",
                                    "MEGNEVEZES": "Játékautó mini",
                                    "KAT_ID": "79",
                                    "RAKTAR_KOD": "7",
                                    "LISTAAR": "73",
                                    "(No column name)": "54"
                                },
                                {
                                    "TERMEKKOD": "04050221T",
                                    "MEGNEVEZES": "Játékautó Blisteres",
                                    "KAT_ID": "79",
                                    "RAKTAR_KOD": "7",
                                    "LISTAAR": "133",
                                    "(No column name)": "84"
                                },
                                {
                                    "TERMEKKOD": "04050222T",
                                    "MEGNEVEZES": "Játékautó elemes",
                                    "KAT_ID": "79",
                                    "RAKTAR_KOD": "7",
                                    "LISTAAR": "165",
                                    "(No column name)": "91"
                                },
                                {
                                    "TERMEKKOD": "04050224T",
                                    "MEGNEVEZES": "Jelzőkréta",
                                    "KAT_ID": "80",
                                    "RAKTAR_KOD": "5",
                                    "LISTAAR": "48",
                                    "(No column name)": "37"
                                },
                                {
                                    "TERMEKKOD": "02080226T",
                                    "MEGNEVEZES": "Kapocskiszedő",
                                    "KAT_ID": "82",
                                    "RAKTAR_KOD": "8",
                                    "LISTAAR": "106",
                                    "(No column name)": "71"
                                },
                                {
                                    "TERMEKKOD": "01090515T",
                                    "MEGNEVEZES": "Színes A/3 160 gr IQ",
                                    "KAT_ID": "83",
                                    "RAKTAR_KOD": "5",
                                    "LISTAAR": "11",
                                    "(No column name)": "9"
                                },
                                {
                                    "TERMEKKOD": "01090516T",
                                    "MEGNEVEZES": "Színes karton A4",
                                    "KAT_ID": "83",
                                    "RAKTAR_KOD": "9",
                                    "LISTAAR": "25",
                                    "(No column name)": "19"
                                },
                                {
                                    "TERMEKKOD": "01080513T",
                                    "MEGNEVEZES": "Selyemfényű karton A/4",
                                    "KAT_ID": "83",
                                    "RAKTAR_KOD": "8",
                                    "LISTAAR": "38",
                                    "(No column name)": "29"
                                },
                                {
                                    "TERMEKKOD": "01100509T",
                                    "MEGNEVEZES": "Márványos A/4",
                                    "KAT_ID": "83",
                                    "RAKTAR_KOD": "6",
                                    "LISTAAR": "40",
                                    "(No column name)": "31"
                                },
                                {
                                    "TERMEKKOD": "01100070T",
                                    "MEGNEVEZES": "Dekorációs karton",
                                    "KAT_ID": "83",
                                    "RAKTAR_KOD": "5",
                                    "LISTAAR": "73",
                                    "(No column name)": "54"
                                },
                                {
                                    "TERMEKKOD": "01100071T",
                                    "MEGNEVEZES": "Dekorációs karton arany, ezüst",
                                    "KAT_ID": "83",
                                    "RAKTAR_KOD": "7",
                                    "LISTAAR": "89",
                                    "(No column name)": "62"
                                },
                                {
                                    "TERMEKKOD": "04050225T",
                                    "MEGNEVEZES": "Kártya mini Magyar",
                                    "KAT_ID": "84",
                                    "RAKTAR_KOD": "6",
                                    "LISTAAR": "131",
                                    "(No column name)": "83"
                                },
                                {
                                    "TERMEKKOD": "04030240T",
                                    "MEGNEVEZES": "Képeslap virágos",
                                    "KAT_ID": "85",
                                    "RAKTAR_KOD": "7",
                                    "LISTAAR": "14",
                                    "(No column name)": "12"
                                },
                                {
                                    "TERMEKKOD": "04030236T",
                                    "MEGNEVEZES": "Képeslap karácsonyi WD",
                                    "KAT_ID": "85",
                                    "RAKTAR_KOD": "6",
                                    "LISTAAR": "15",
                                    "(No column name)": "13"
                                },
                                {
                                    "TERMEKKOD": "04030234T",
                                    "MEGNEVEZES": "Képeslap karácsonyi",
                                    "KAT_ID": "85",
                                    "RAKTAR_KOD": "5",
                                    "LISTAAR": "30",
                                    "(No column name)": "23"
                                },
                                {
                                    "TERMEKKOD": "04110227T",
                                    "MEGNEVEZES": "Képeslap  borítékos",
                                    "KAT_ID": "85",
                                    "RAKTAR_KOD": "6",
                                    "LISTAAR": "33",
                                    "(No column name)": "25"
                                },
                                {
                                    "TERMEKKOD": "04110229T",
                                    "MEGNEVEZES": "Képeslap \"Részvét\"",
                                    "KAT_ID": "85",
                                    "RAKTAR_KOD": "5",
                                    "LISTAAR": "33",
                                    "(No column name)": "25"
                                },
                                {
                                    "TERMEKKOD": "04030237T",
                                    "MEGNEVEZES": "Képeslap kerek",
                                    "KAT_ID": "85",
                                    "RAKTAR_KOD": "9",
                                    "LISTAAR": "36",
                                    "(No column name)": "28"
                                },
                                {
                                    "TERMEKKOD": "04030241T",
                                    "MEGNEVEZES": "Képeslap virágos +boríték",
                                    "KAT_ID": "85",
                                    "RAKTAR_KOD": "8",
                                    "LISTAAR": "44",
                                    "(No column name)": "34"
                                },
                                {
                                    "TERMEKKOD": "04030239T",
                                    "MEGNEVEZES": "Képeslap stancolt szív",
                                    "KAT_ID": "85",
                                    "RAKTAR_KOD": "9",
                                    "LISTAAR": "48",
                                    "(No column name)": "37"
                                },
                                {
                                    "TERMEKKOD": "04110232T",
                                    "MEGNEVEZES": "Képeslap humoros kaparós",
                                    "KAT_ID": "85",
                                    "RAKTAR_KOD": "8",
                                    "LISTAAR": "51",
                                    "(No column name)": "40"
                                },
                                {
                                    "TERMEKKOD": "04110230T",
                                    "MEGNEVEZES": "Képeslap humoros ",
                                    "KAT_ID": "85",
                                    "RAKTAR_KOD": "6",
                                    "LISTAAR": "55",
                                    "(No column name)": "42"
                                },
                                {
                                    "TERMEKKOD": "04030238T",
                                    "MEGNEVEZES": "Képeslap stancolt",
                                    "KAT_ID": "85",
                                    "RAKTAR_KOD": "9",
                                    "LISTAAR": "59",
                                    "(No column name)": "45"
                                },
                                {
                                    "TERMEKKOD": "04030235T",
                                    "MEGNEVEZES": "Képeslap karácsonyi borítékos",
                                    "KAT_ID": "85",
                                    "RAKTAR_KOD": "7",
                                    "LISTAAR": "73",
                                    "(No column name)": "54"
                                },
                                {
                                    "TERMEKKOD": "04110231T",
                                    "MEGNEVEZES": "Képeslap humoros borítékos",
                                    "KAT_ID": "85",
                                    "RAKTAR_KOD": "5",
                                    "LISTAAR": "81",
                                    "(No column name)": "60"
                                },
                                {
                                    "TERMEKKOD": "04110233T",
                                    "MEGNEVEZES": "Képeslap humoros",
                                    "KAT_ID": "85",
                                    "RAKTAR_KOD": "5",
                                    "LISTAAR": "89",
                                    "(No column name)": "62"
                                },
                                {
                                    "TERMEKKOD": "04030242T",
                                    "MEGNEVEZES": "Képeslap WD +boríték",
                                    "KAT_ID": "85",
                                    "RAKTAR_KOD": "8",
                                    "LISTAAR": "118",
                                    "(No column name)": "76"
                                },
                                {
                                    "TERMEKKOD": "04110228T",
                                    "MEGNEVEZES": "Képeslap \"Nászajándék\"",
                                    "KAT_ID": "85",
                                    "RAKTAR_KOD": "9",
                                    "LISTAAR": "184",
                                    "(No column name)": "100"
                                },
                                {
                                    "TERMEKKOD": "04030243T",
                                    "MEGNEVEZES": "Képkirakó Dirib-darab",
                                    "KAT_ID": "86",
                                    "RAKTAR_KOD": "7",
                                    "LISTAAR": "195",
                                    "(No column name)": "106"
                                },
                                {
                                    "TERMEKKOD": "N035-AL218",
                                    "MEGNEVEZES": "kosztüm (rövid)",
                                    "KAT_ID": "88",
                                    "RAKTAR_KOD": "3",
                                    "LISTAAR": "39000",
                                    "(No column name)": "219"
                                },
                                {
                                    "TERMEKKOD": "N039-AL222",
                                    "MEGNEVEZES": "kosztüm (hosszú)",
                                    "KAT_ID": "88",
                                    "RAKTAR_KOD": "2",
                                    "LISTAAR": "46000",
                                    "(No column name)": "220"
                                },
                                {
                                    "TERMEKKOD": "06040247T",
                                    "MEGNEVEZES": "Körzőhegy grafit",
                                    "KAT_ID": "89",
                                    "RAKTAR_KOD": "8",
                                    "LISTAAR": "30",
                                    "(No column name)": "23"
                                },
                                {
                                    "TERMEKKOD": "06040246T",
                                    "MEGNEVEZES": "Körző",
                                    "KAT_ID": "89",
                                    "RAKTAR_KOD": "5",
                                    "LISTAAR": "161",
                                    "(No column name)": "90"
                                },
                                {
                                    "TERMEKKOD": "06040248T",
                                    "MEGNEVEZES": "Körző maped",
                                    "KAT_ID": "89",
                                    "RAKTAR_KOD": "6",
                                    "LISTAAR": "243",
                                    "(No column name)": "121"
                                },
                                {
                                    "TERMEKKOD": "01090501T",
                                    "MEGNEVEZES": "Kreatív A/4 300g ",
                                    "KAT_ID": "90",
                                    "RAKTAR_KOD": "8",
                                    "LISTAAR": "4",
                                    "(No column name)": "3"
                                },
                                {
                                    "TERMEKKOD": "01100510T",
                                    "MEGNEVEZES": "Kreatív A/4 120g ",
                                    "KAT_ID": "90",
                                    "RAKTAR_KOD": "5",
                                    "LISTAAR": "13",
                                    "(No column name)": "11"
                                },
                                {
                                    "TERMEKKOD": "04050255T",
                                    "MEGNEVEZES": "Kulcstartó mesefigurás",
                                    "KAT_ID": "91",
                                    "RAKTAR_KOD": "9",
                                    "LISTAAR": "36",
                                    "(No column name)": "28"
                                },
                                {
                                    "TERMEKKOD": "04050253T",
                                    "MEGNEVEZES": "Kulcstartó figurás",
                                    "KAT_ID": "91",
                                    "RAKTAR_KOD": "8",
                                    "LISTAAR": "103",
                                    "(No column name)": "70"
                                },
                                {
                                    "TERMEKKOD": "04050250T",
                                    "MEGNEVEZES": "Kulcstartó autós",
                                    "KAT_ID": "91",
                                    "RAKTAR_KOD": "8",
                                    "LISTAAR": "115",
                                    "(No column name)": "75"
                                },
                                {
                                    "TERMEKKOD": "04050252T",
                                    "MEGNEVEZES": "Kulcstartó Csőrikés",
                                    "KAT_ID": "91",
                                    "RAKTAR_KOD": "8",
                                    "LISTAAR": "124",
                                    "(No column name)": "80"
                                },
                                {
                                    "TERMEKKOD": "04050256T",
                                    "MEGNEVEZES": "Kulcstartó nagyítós",
                                    "KAT_ID": "91",
                                    "RAKTAR_KOD": "9",
                                    "LISTAAR": "129",
                                    "(No column name)": "82"
                                },
                                {
                                    "TERMEKKOD": "04050251T",
                                    "MEGNEVEZES": "Kulcstartó billiárd golyós",
                                    "KAT_ID": "91",
                                    "RAKTAR_KOD": "8",
                                    "LISTAAR": "148",
                                    "(No column name)": "88"
                                },
                                {
                                    "TERMEKKOD": "04050254T",
                                    "MEGNEVEZES": "Kulcstartó intarziás állatos",
                                    "KAT_ID": "91",
                                    "RAKTAR_KOD": "9",
                                    "LISTAAR": "155",
                                    "(No column name)": "89"
                                },
                                {
                                    "TERMEKKOD": "04040387T",
                                    "MEGNEVEZES": "Tenisz labda",
                                    "KAT_ID": "92",
                                    "RAKTAR_KOD": "8",
                                    "LISTAAR": "81",
                                    "(No column name)": "60"
                                },
                                {
                                    "TERMEKKOD": "04050171T",
                                    "MEGNEVEZES": "Gumilabda közepes",
                                    "KAT_ID": "92",
                                    "RAKTAR_KOD": "7",
                                    "LISTAAR": "110",
                                    "(No column name)": "73"
                                },
                                {
                                    "TERMEKKOD": "04030260T",
                                    "MEGNEVEZES": "Levélpapír A/4",
                                    "KAT_ID": "93",
                                    "RAKTAR_KOD": "6",
                                    "LISTAAR": "15",
                                    "(No column name)": "13"
                                },
                                {
                                    "TERMEKKOD": "04030262T",
                                    "MEGNEVEZES": "Levélpapír sima",
                                    "KAT_ID": "93",
                                    "RAKTAR_KOD": "6",
                                    "LISTAAR": "56",
                                    "(No column name)": "43"
                                },
                                {
                                    "TERMEKKOD": "04030264T",
                                    "MEGNEVEZES": "Levélpapír szett ",
                                    "KAT_ID": "93",
                                    "RAKTAR_KOD": "6",
                                    "LISTAAR": "74",
                                    "(No column name)": "55"
                                },
                                {
                                    "TERMEKKOD": "04030263T",
                                    "MEGNEVEZES": "Levélpapír szett",
                                    "KAT_ID": "93",
                                    "RAKTAR_KOD": "7",
                                    "LISTAAR": "89",
                                    "(No column name)": "62"
                                },
                                {
                                    "TERMEKKOD": "04030265T",
                                    "MEGNEVEZES": "Levélpapír szett natur, mintás",
                                    "KAT_ID": "93",
                                    "RAKTAR_KOD": "6",
                                    "LISTAAR": "103",
                                    "(No column name)": "70"
                                },
                                {
                                    "TERMEKKOD": "04030261T",
                                    "MEGNEVEZES": "Levélpapír állatos",
                                    "KAT_ID": "93",
                                    "RAKTAR_KOD": "6",
                                    "LISTAAR": "140",
                                    "(No column name)": "85"
                                },
                                {
                                    "TERMEKKOD": "04030266T",
                                    "MEGNEVEZES": "Levélpapír szett virágos",
                                    "KAT_ID": "93",
                                    "RAKTAR_KOD": "7",
                                    "LISTAAR": "169",
                                    "(No column name)": "94"
                                },
                                {
                                    "TERMEKKOD": "04050269T",
                                    "MEGNEVEZES": "Lufi hullámos",
                                    "KAT_ID": "94",
                                    "RAKTAR_KOD": "6",
                                    "LISTAAR": "11",
                                    "(No column name)": "9"
                                },
                                {
                                    "TERMEKKOD": "04050268T",
                                    "MEGNEVEZES": "Lufi formázható",
                                    "KAT_ID": "94",
                                    "RAKTAR_KOD": "7",
                                    "LISTAAR": "15",
                                    "(No column name)": "13"
                                },
                                {
                                    "TERMEKKOD": "02080453T",
                                    "MEGNEVEZES": "Lyukasztó EAGLE",
                                    "KAT_ID": "95",
                                    "RAKTAR_KOD": "7",
                                    "LISTAAR": "526",
                                    "(No column name)": "166"
                                },
                                {
                                    "TERMEKKOD": "02080454T",
                                    "MEGNEVEZES": "Lyukasztó BOXER",
                                    "KAT_ID": "95",
                                    "RAKTAR_KOD": "9",
                                    "LISTAAR": "765",
                                    "(No column name)": "182"
                                },
                                {
                                    "TERMEKKOD": "06040174T",
                                    "MEGNEVEZES": "Gumis mappa ",
                                    "KAT_ID": "96",
                                    "RAKTAR_KOD": "6",
                                    "LISTAAR": "148",
                                    "(No column name)": "88"
                                },
                                {
                                    "TERMEKKOD": "02080435T",
                                    "MEGNEVEZES": "Mappa bemutató",
                                    "KAT_ID": "96",
                                    "RAKTAR_KOD": "9",
                                    "LISTAAR": "184",
                                    "(No column name)": "100"
                                },
                                {
                                    "TERMEKKOD": "06040175T",
                                    "MEGNEVEZES": "Gumis mappa Köbüki",
                                    "KAT_ID": "96",
                                    "RAKTAR_KOD": "8",
                                    "LISTAAR": "191",
                                    "(No column name)": "105"
                                },
                                {
                                    "TERMEKKOD": "06040172T",
                                    "MEGNEVEZES": "Gumis mappa csomagolt",
                                    "KAT_ID": "96",
                                    "RAKTAR_KOD": "7",
                                    "LISTAAR": "195",
                                    "(No column name)": "106"
                                },
                                {
                                    "TERMEKKOD": "02080434T",
                                    "MEGNEVEZES": "Mappa müa A/4",
                                    "KAT_ID": "96",
                                    "RAKTAR_KOD": "8",
                                    "LISTAAR": "210",
                                    "(No column name)": "110"
                                },
                                {
                                    "TERMEKKOD": "06040173T",
                                    "MEGNEVEZES": "Gumis mappa fóliázott állatos",
                                    "KAT_ID": "96",
                                    "RAKTAR_KOD": "7",
                                    "LISTAAR": "211",
                                    "(No column name)": "111"
                                },
                                {
                                    "TERMEKKOD": "04080271T",
                                    "MEGNEVEZES": "Mappa PVC villámzáras",
                                    "KAT_ID": "96",
                                    "RAKTAR_KOD": "8",
                                    "LISTAAR": "264",
                                    "(No column name)": "125"
                                },
                                {
                                    "TERMEKKOD": "04080272T",
                                    "MEGNEVEZES": "Mappa PVC villámzáras  képes",
                                    "KAT_ID": "96",
                                    "RAKTAR_KOD": "9",
                                    "LISTAAR": "360",
                                    "(No column name)": "147"
                                },
                                {
                                    "TERMEKKOD": "04080270T",
                                    "MEGNEVEZES": "Mappa bőr A5",
                                    "KAT_ID": "96",
                                    "RAKTAR_KOD": "6",
                                    "LISTAAR": "1765",
                                    "(No column name)": "200"
                                },
                                {
                                    "TERMEKKOD": "04110274T",
                                    "MEGNEVEZES": "Matrica autóra H",
                                    "KAT_ID": "97",
                                    "RAKTAR_KOD": "5",
                                    "LISTAAR": "49",
                                    "(No column name)": "38"
                                },
                                {
                                    "TERMEKKOD": "04110275T",
                                    "MEGNEVEZES": "Matrica motoros kicsi",
                                    "KAT_ID": "97",
                                    "RAKTAR_KOD": "9",
                                    "LISTAAR": "49",
                                    "(No column name)": "38"
                                },
                                {
                                    "TERMEKKOD": "04110273T",
                                    "MEGNEVEZES": "Matrica állatos",
                                    "KAT_ID": "97",
                                    "RAKTAR_KOD": "5",
                                    "LISTAAR": "55",
                                    "(No column name)": "42"
                                },
                                {
                                    "TERMEKKOD": "04110282T",
                                    "MEGNEVEZES": "Matrica WD kicsi",
                                    "KAT_ID": "97",
                                    "RAKTAR_KOD": "5",
                                    "LISTAAR": "56",
                                    "(No column name)": "43"
                                },
                                {
                                    "TERMEKKOD": "04110277T",
                                    "MEGNEVEZES": "Matrica Stickers szíves",
                                    "KAT_ID": "97",
                                    "RAKTAR_KOD": "6",
                                    "LISTAAR": "93",
                                    "(No column name)": "64"
                                },
                                {
                                    "TERMEKKOD": "04110276T",
                                    "MEGNEVEZES": "Matrica Stickers nagy állatos",
                                    "KAT_ID": "97",
                                    "RAKTAR_KOD": "9",
                                    "LISTAAR": "109",
                                    "(No column name)": "72"
                                },
                                {
                                    "TERMEKKOD": "04110280T",
                                    "MEGNEVEZES": "Matrica tetoválós kicsi",
                                    "KAT_ID": "97",
                                    "RAKTAR_KOD": "9",
                                    "LISTAAR": "148",
                                    "(No column name)": "88"
                                },
                                {
                                    "TERMEKKOD": "04110278T",
                                    "MEGNEVEZES": "Matrica Test ékszer tattoo",
                                    "KAT_ID": "97",
                                    "RAKTAR_KOD": "8",
                                    "LISTAAR": "161",
                                    "(No column name)": "90"
                                },
                                {
                                    "TERMEKKOD": "04110279T",
                                    "MEGNEVEZES": "Matrica tetoválás",
                                    "KAT_ID": "97",
                                    "RAKTAR_KOD": "7",
                                    "LISTAAR": "168",
                                    "(No column name)": "93"
                                },
                                {
                                    "TERMEKKOD": "04110281T",
                                    "MEGNEVEZES": "Matrica világítós ",
                                    "KAT_ID": "97",
                                    "RAKTAR_KOD": "9",
                                    "LISTAAR": "175",
                                    "(No column name)": "96"
                                },
                                {
                                    "TERMEKKOD": "01030092T",
                                    "MEGNEVEZES": "Esküvői meghívó",
                                    "KAT_ID": "98",
                                    "RAKTAR_KOD": "9",
                                    "LISTAAR": "59",
                                    "(No column name)": "45"
                                },
                                {
                                    "TERMEKKOD": "06080429T",
                                    "MEGNEVEZES": "Meghívó ballagási",
                                    "KAT_ID": "98",
                                    "RAKTAR_KOD": "6",
                                    "LISTAAR": "63",
                                    "(No column name)": "48"
                                },
                                {
                                    "TERMEKKOD": "04110283T",
                                    "MEGNEVEZES": "Meghívó állatos",
                                    "KAT_ID": "98",
                                    "RAKTAR_KOD": "5",
                                    "LISTAAR": "155",
                                    "(No column name)": "89"
                                },
                                {
                                    "TERMEKKOD": "04110284T",
                                    "MEGNEVEZES": "Meghívó borítékos",
                                    "KAT_ID": "98",
                                    "RAKTAR_KOD": "5",
                                    "LISTAAR": "169",
                                    "(No column name)": "94"
                                },
                                {
                                    "TERMEKKOD": "06080425T",
                                    "MEGNEVEZES": "Miliméterpapír",
                                    "KAT_ID": "99",
                                    "RAKTAR_KOD": "6",
                                    "LISTAAR": "8",
                                    "(No column name)": "6"
                                },
                                {
                                    "TERMEKKOD": "08070482T",
                                    "MEGNEVEZES": "Fizika munkafüzet 14 év.",
                                    "KAT_ID": "100",
                                    "RAKTAR_KOD": "5",
                                    "LISTAAR": "190",
                                    "(No column name)": "104"
                                },
                                {
                                    "TERMEKKOD": "08070481T",
                                    "MEGNEVEZES": "Fizika munkafüzet 13 év.",
                                    "KAT_ID": "100",
                                    "RAKTAR_KOD": "7",
                                    "LISTAAR": "198",
                                    "(No column name)": "107"
                                },
                                {
                                    "TERMEKKOD": "08070476T",
                                    "MEGNEVEZES": "Anyanyelvi gyakorló 2",
                                    "KAT_ID": "100",
                                    "RAKTAR_KOD": "6",
                                    "LISTAAR": "293",
                                    "(No column name)": "132"
                                },
                                {
                                    "TERMEKKOD": "08070477T",
                                    "MEGNEVEZES": "Anyanyelvi gyakorló 3",
                                    "KAT_ID": "100",
                                    "RAKTAR_KOD": "6",
                                    "LISTAAR": "353",
                                    "(No column name)": "145"
                                },
                                {
                                    "TERMEKKOD": "08070486T",
                                    "MEGNEVEZES": "Matematika gyakorló 2",
                                    "KAT_ID": "100",
                                    "RAKTAR_KOD": "6",
                                    "LISTAAR": "403",
                                    "(No column name)": "151"
                                },
                                {
                                    "TERMEKKOD": "08070487T",
                                    "MEGNEVEZES": "Matematika gyakorló 3",
                                    "KAT_ID": "100",
                                    "RAKTAR_KOD": "6",
                                    "LISTAAR": "403",
                                    "(No column name)": "151"
                                },
                                {
                                    "TERMEKKOD": "08070488T",
                                    "MEGNEVEZES": "Matematika gyakorló 4",
                                    "KAT_ID": "100",
                                    "RAKTAR_KOD": "9",
                                    "LISTAAR": "403",
                                    "(No column name)": "151"
                                },
                                {
                                    "TERMEKKOD": "08070475T",
                                    "MEGNEVEZES": "A föld amelyen élünk - munkafüzet",
                                    "KAT_ID": "100",
                                    "RAKTAR_KOD": "5",
                                    "LISTAAR": "440",
                                    "(No column name)": "158"
                                },
                                {
                                    "TERMEKKOD": "08070478T",
                                    "MEGNEVEZES": "Összefoglaló feladatgyüjtemény számtech.",
                                    "KAT_ID": "100",
                                    "RAKTAR_KOD": "8",
                                    "LISTAAR": "785",
                                    "(No column name)": "185"
                                },
                                {
                                    "TERMEKKOD": "01090498T",
                                    "MEGNEVEZES": "Műnyomó 300g 17,5*20",
                                    "KAT_ID": "101",
                                    "RAKTAR_KOD": "8",
                                    "LISTAAR": "3",
                                    "(No column name)": "2"
                                },
                                {
                                    "TERMEKKOD": "02040290T",
                                    "MEGNEVEZES": "Naptár 24-es",
                                    "KAT_ID": "103",
                                    "RAKTAR_KOD": "8",
                                    "LISTAAR": "89",
                                    "(No column name)": "62"
                                },
                                {
                                    "TERMEKKOD": "02040291T",
                                    "MEGNEVEZES": "Naptárhát kicsi",
                                    "KAT_ID": "104",
                                    "RAKTAR_KOD": "8",
                                    "LISTAAR": "15",
                                    "(No column name)": "13"
                                },
                                {
                                    "TERMEKKOD": "02040292T",
                                    "MEGNEVEZES": "Naptárhát nagy",
                                    "KAT_ID": "104",
                                    "RAKTAR_KOD": "9",
                                    "LISTAAR": "78",
                                    "(No column name)": "57"
                                },
                                {
                                    "TERMEKKOD": "02040293T",
                                    "MEGNEVEZES": "Névjegytartó kicsi",
                                    "KAT_ID": "105",
                                    "RAKTAR_KOD": "9",
                                    "LISTAAR": "310",
                                    "(No column name)": "137"
                                },
                                {
                                    "TERMEKKOD": "02040298T",
                                    "MEGNEVEZES": "Notesz mintás",
                                    "KAT_ID": "106",
                                    "RAKTAR_KOD": "6",
                                    "LISTAAR": "44",
                                    "(No column name)": "34"
                                },
                                {
                                    "TERMEKKOD": "02040296T",
                                    "MEGNEVEZES": "Notesz A/6 College",
                                    "KAT_ID": "106",
                                    "RAKTAR_KOD": "6",
                                    "LISTAAR": "56",
                                    "(No column name)": "43"
                                },
                                {
                                    "TERMEKKOD": "02040295T",
                                    "MEGNEVEZES": "Notesz A/5 sima spirál",
                                    "KAT_ID": "106",
                                    "RAKTAR_KOD": "9",
                                    "LISTAAR": "89",
                                    "(No column name)": "62"
                                },
                                {
                                    "TERMEKKOD": "02040294T",
                                    "MEGNEVEZES": "Notesz A/5 sima",
                                    "KAT_ID": "106",
                                    "RAKTAR_KOD": "5",
                                    "LISTAAR": "103",
                                    "(No column name)": "70"
                                },
                                {
                                    "TERMEKKOD": "02040297T",
                                    "MEGNEVEZES": "Notesz sima spirál College",
                                    "KAT_ID": "106",
                                    "RAKTAR_KOD": "9",
                                    "LISTAAR": "103",
                                    "(No column name)": "70"
                                },
                                {
                                    "TERMEKKOD": "N001-KB101",
                                    "MEGNEVEZES": "női szövet kabát",
                                    "KAT_ID": "107",
                                    "RAKTAR_KOD": "1",
                                    "LISTAAR": "24000",
                                    "(No column name)": "217"
                                },
                                {
                                    "TERMEKKOD": "N008-NA201",
                                    "MEGNEVEZES": "női farmer nadrág",
                                    "KAT_ID": "108",
                                    "RAKTAR_KOD": "2",
                                    "LISTAAR": "8290",
                                    "(No column name)": "211"
                                },
                                {
                                    "TERMEKKOD": "01090517T",
                                    "MEGNEVEZES": "Színes ofszet B/4",
                                    "KAT_ID": "109",
                                    "RAKTAR_KOD": "7",
                                    "LISTAAR": "4",
                                    "(No column name)": "3"
                                },
                                {
                                    "TERMEKKOD": "01020299T",
                                    "MEGNEVEZES": "Oklevél A/4 egyszínű",
                                    "KAT_ID": "110",
                                    "RAKTAR_KOD": "9",
                                    "LISTAAR": "48",
                                    "(No column name)": "37"
                                },
                                {
                                    "TERMEKKOD": "01020300T",
                                    "MEGNEVEZES": "Oklevél A/4 színes",
                                    "KAT_ID": "110",
                                    "RAKTAR_KOD": "9",
                                    "LISTAAR": "55",
                                    "(No column name)": "42"
                                },
                                {
                                    "TERMEKKOD": "06050301T",
                                    "MEGNEVEZES": "Olló gyerek ",
                                    "KAT_ID": "111",
                                    "RAKTAR_KOD": "8",
                                    "LISTAAR": "133",
                                    "(No column name)": "84"
                                },
                                {
                                    "TERMEKKOD": "06050303T",
                                    "MEGNEVEZES": "Olló, iskolai",
                                    "KAT_ID": "111",
                                    "RAKTAR_KOD": "7",
                                    "LISTAAR": "161",
                                    "(No column name)": "90"
                                },
                                {
                                    "TERMEKKOD": "06050302T",
                                    "MEGNEVEZES": "Olló Tagit 18 cm-es",
                                    "KAT_ID": "111",
                                    "RAKTAR_KOD": "5",
                                    "LISTAAR": "176",
                                    "(No column name)": "97"
                                },
                                {
                                    "TERMEKKOD": "01010304T",
                                    "MEGNEVEZES": "Öntapadós hologramos papír A/4",
                                    "KAT_ID": "112",
                                    "RAKTAR_KOD": "8",
                                    "LISTAAR": "59",
                                    "(No column name)": "45"
                                },
                                {
                                    "TERMEKKOD": "01080512T",
                                    "MEGNEVEZES": "Öntapadó A/4",
                                    "KAT_ID": "112",
                                    "RAKTAR_KOD": "5",
                                    "LISTAAR": "4575",
                                    "(No column name)": "204"
                                },
                                {
                                    "TERMEKKOD": "05010306T",
                                    "MEGNEVEZES": "Papízsebkendő,10db Szindy",
                                    "KAT_ID": "114",
                                    "RAKTAR_KOD": "8",
                                    "LISTAAR": "20",
                                    "(No column name)": "16"
                                },
                                {
                                    "TERMEKKOD": "01040307T",
                                    "MEGNEVEZES": "Pausz papír A/4",
                                    "KAT_ID": "115",
                                    "RAKTAR_KOD": "8",
                                    "LISTAAR": "15",
                                    "(No column name)": "13"
                                },
                                {
                                    "TERMEKKOD": "02020245T",
                                    "MEGNEVEZES": "Kiadási pénztárbizonylat 2×25",
                                    "KAT_ID": "116",
                                    "RAKTAR_KOD": "7",
                                    "LISTAAR": "103",
                                    "(No column name)": "70"
                                },
                                {
                                    "TERMEKKOD": "02020037T",
                                    "MEGNEVEZES": "Bevételi pénztárbizonylat 3×25",
                                    "KAT_ID": "116",
                                    "RAKTAR_KOD": "6",
                                    "LISTAAR": "144",
                                    "(No column name)": "86"
                                },
                                {
                                    "TERMEKKOD": "02040308T",
                                    "MEGNEVEZES": "Pénztárgépsz. 2 pl. nem öníró",
                                    "KAT_ID": "117",
                                    "RAKTAR_KOD": "9",
                                    "LISTAAR": "81",
                                    "(No column name)": "60"
                                },
                                {
                                    "TERMEKKOD": "02040309T",
                                    "MEGNEVEZES": "Pénztárgépszalag 2pl SC 57.5/60",
                                    "KAT_ID": "117",
                                    "RAKTAR_KOD": "6",
                                    "LISTAAR": "93",
                                    "(No column name)": "64"
                                },
                                {
                                    "TERMEKKOD": "07080313T",
                                    "MEGNEVEZES": "Pixiron Centrum",
                                    "KAT_ID": "118",
                                    "RAKTAR_KOD": "9",
                                    "LISTAAR": "59",
                                    "(No column name)": "45"
                                },
                                {
                                    "TERMEKKOD": "07080317T",
                                    "MEGNEVEZES": "Pixiron mini ",
                                    "KAT_ID": "118",
                                    "RAKTAR_KOD": "5",
                                    "LISTAAR": "59",
                                    "(No column name)": "45"
                                },
                                {
                                    "TERMEKKOD": "07080315T",
                                    "MEGNEVEZES": "Pixiron Handy műanyag",
                                    "KAT_ID": "118",
                                    "RAKTAR_KOD": "8",
                                    "LISTAAR": "94",
                                    "(No column name)": "65"
                                },
                                {
                                    "TERMEKKOD": "07080312T",
                                    "MEGNEVEZES": "Pixiron 0,7 Handy",
                                    "KAT_ID": "118",
                                    "RAKTAR_KOD": "5",
                                    "LISTAAR": "125",
                                    "(No column name)": "81"
                                },
                                {
                                    "TERMEKKOD": "07080314T",
                                    "MEGNEVEZES": "Pixiron Handy fém",
                                    "KAT_ID": "118",
                                    "RAKTAR_KOD": "8",
                                    "LISTAAR": "133",
                                    "(No column name)": "84"
                                },
                                {
                                    "TERMEKKOD": "07080318T",
                                    "MEGNEVEZES": "Pixiron Penac",
                                    "KAT_ID": "118",
                                    "RAKTAR_KOD": "5",
                                    "LISTAAR": "235",
                                    "(No column name)": "118"
                                },
                                {
                                    "TERMEKKOD": "07080311T",
                                    "MEGNEVEZES": "Pixiron  UNI",
                                    "KAT_ID": "118",
                                    "RAKTAR_KOD": "8",
                                    "LISTAAR": "276",
                                    "(No column name)": "127"
                                },
                                {
                                    "TERMEKKOD": "07080319T",
                                    "MEGNEVEZES": "Pixiron Pentel színes",
                                    "KAT_ID": "118",
                                    "RAKTAR_KOD": "7",
                                    "LISTAAR": "299",
                                    "(No column name)": "135"
                                },
                                {
                                    "TERMEKKOD": "07080316T",
                                    "MEGNEVEZES": "Pixiron KOH-I-NOOR",
                                    "KAT_ID": "118",
                                    "RAKTAR_KOD": "8",
                                    "LISTAAR": "468",
                                    "(No column name)": "162"
                                },
                                {
                                    "TERMEKKOD": "04050321T",
                                    "MEGNEVEZES": "Plüss kicsi",
                                    "KAT_ID": "119",
                                    "RAKTAR_KOD": "7",
                                    "LISTAAR": "161",
                                    "(No column name)": "90"
                                },
                                {
                                    "TERMEKKOD": "04050320T",
                                    "MEGNEVEZES": "Plüss  QX állatok",
                                    "KAT_ID": "119",
                                    "RAKTAR_KOD": "9",
                                    "LISTAAR": "173",
                                    "(No column name)": "95"
                                },
                                {
                                    "TERMEKKOD": "04050322T",
                                    "MEGNEVEZES": "Plüss sárkány",
                                    "KAT_ID": "119",
                                    "RAKTAR_KOD": "5",
                                    "LISTAAR": "314",
                                    "(No column name)": "138"
                                },
                                {
                                    "TERMEKKOD": "06040323T",
                                    "MEGNEVEZES": "Post-it 51×38 100 lapos",
                                    "KAT_ID": "121",
                                    "RAKTAR_KOD": "8",
                                    "LISTAAR": "36",
                                    "(No column name)": "28"
                                },
                                {
                                    "TERMEKKOD": "06040324T",
                                    "MEGNEVEZES": "Post-it 75×75 100 lapos",
                                    "KAT_ID": "121",
                                    "RAKTAR_KOD": "7",
                                    "LISTAAR": "89",
                                    "(No column name)": "62"
                                },
                                {
                                    "TERMEKKOD": "06040326T",
                                    "MEGNEVEZES": "Radír KOH-I-NOR 80",
                                    "KAT_ID": "122",
                                    "RAKTAR_KOD": "8",
                                    "LISTAAR": "19",
                                    "(No column name)": "15"
                                },
                                {
                                    "TERMEKKOD": "06040327T",
                                    "MEGNEVEZES": "Radír Koh-i-nor 40",
                                    "KAT_ID": "122",
                                    "RAKTAR_KOD": "9",
                                    "LISTAAR": "36",
                                    "(No column name)": "28"
                                },
                                {
                                    "TERMEKKOD": "06040325T",
                                    "MEGNEVEZES": "Radír gyümölcsös",
                                    "KAT_ID": "122",
                                    "RAKTAR_KOD": "9",
                                    "LISTAAR": "40",
                                    "(No column name)": "31"
                                },
                                {
                                    "TERMEKKOD": "06040328T",
                                    "MEGNEVEZES": "Radír Maped",
                                    "KAT_ID": "122",
                                    "RAKTAR_KOD": "8",
                                    "LISTAAR": "44",
                                    "(No column name)": "34"
                                },
                                {
                                    "TERMEKKOD": "06040329T",
                                    "MEGNEVEZES": "Radír stabilo",
                                    "KAT_ID": "122",
                                    "RAKTAR_KOD": "6",
                                    "LISTAAR": "44",
                                    "(No column name)": "34"
                                },
                                {
                                    "TERMEKKOD": "06040331T",
                                    "MEGNEVEZES": "Radír Tikky 40 ",
                                    "KAT_ID": "122",
                                    "RAKTAR_KOD": "8",
                                    "LISTAAR": "49",
                                    "(No column name)": "38"
                                },
                                {
                                    "TERMEKKOD": "06040330T",
                                    "MEGNEVEZES": "Radír Tikky 30 ",
                                    "KAT_ID": "122",
                                    "RAKTAR_KOD": "7",
                                    "LISTAAR": "50",
                                    "(No column name)": "39"
                                },
                                {
                                    "TERMEKKOD": "06080332T",
                                    "MEGNEVEZES": "Radírtoll betét ER100",
                                    "KAT_ID": "123",
                                    "RAKTAR_KOD": "5",
                                    "LISTAAR": "74",
                                    "(No column name)": "55"
                                },
                                {
                                    "TERMEKKOD": "06080333T",
                                    "MEGNEVEZES": "Radírtoll betét vastag",
                                    "KAT_ID": "123",
                                    "RAKTAR_KOD": "7",
                                    "LISTAAR": "119",
                                    "(No column name)": "77"
                                },
                                {
                                    "TERMEKKOD": "06080336T",
                                    "MEGNEVEZES": "Ragasztó 8 g Pritt",
                                    "KAT_ID": "124",
                                    "RAKTAR_KOD": "9",
                                    "LISTAAR": "81",
                                    "(No column name)": "60"
                                },
                                {
                                    "TERMEKKOD": "06080339T",
                                    "MEGNEVEZES": "Ragasztó kores",
                                    "KAT_ID": "124",
                                    "RAKTAR_KOD": "5",
                                    "LISTAAR": "89",
                                    "(No column name)": "62"
                                },
                                {
                                    "TERMEKKOD": "06080338T",
                                    "MEGNEVEZES": "Ragasztó kenőfejes Nebuló",
                                    "KAT_ID": "124",
                                    "RAKTAR_KOD": "8",
                                    "LISTAAR": "101",
                                    "(No column name)": "69"
                                },
                                {
                                    "TERMEKKOD": "05040310T",
                                    "MEGNEVEZES": "Pill.ragasztó",
                                    "KAT_ID": "124",
                                    "RAKTAR_KOD": "8",
                                    "LISTAAR": "103",
                                    "(No column name)": "70"
                                },
                                {
                                    "TERMEKKOD": "06080335T",
                                    "MEGNEVEZES": "Ragasztó 9 g Pax",
                                    "KAT_ID": "124",
                                    "RAKTAR_KOD": "9",
                                    "LISTAAR": "110",
                                    "(No column name)": "73"
                                },
                                {
                                    "TERMEKKOD": "06080334T",
                                    "MEGNEVEZES": "Ragasztó szalag KORES ",
                                    "KAT_ID": "124",
                                    "RAKTAR_KOD": "5",
                                    "LISTAAR": "133",
                                    "(No column name)": "84"
                                },
                                {
                                    "TERMEKKOD": "05080340T",
                                    "MEGNEVEZES": "Ragasztó, Technokol 35g kék",
                                    "KAT_ID": "124",
                                    "RAKTAR_KOD": "8",
                                    "LISTAAR": "144",
                                    "(No column name)": "86"
                                },
                                {
                                    "TERMEKKOD": "05080341T",
                                    "MEGNEVEZES": "Ragasztó, Technokol 35g piros",
                                    "KAT_ID": "124",
                                    "RAKTAR_KOD": "6",
                                    "LISTAAR": "144",
                                    "(No column name)": "86"
                                },
                                {
                                    "TERMEKKOD": "06080337T",
                                    "MEGNEVEZES": "Ragasztó Gyurma",
                                    "KAT_ID": "124",
                                    "RAKTAR_KOD": "7",
                                    "LISTAAR": "293",
                                    "(No column name)": "132"
                                },
                                {
                                    "TERMEKKOD": "06010343T",
                                    "MEGNEVEZES": "Ragasztószalag 19 mm-es SCOTCH+ tépő",
                                    "KAT_ID": "124",
                                    "RAKTAR_KOD": "6",
                                    "LISTAAR": "426",
                                    "(No column name)": "155"
                                },
                                {
                                    "TERMEKKOD": "03010342T",
                                    "MEGNEVEZES": "Ragasztószalag  TIXO",
                                    "KAT_ID": "125",
                                    "RAKTAR_KOD": "9",
                                    "LISTAAR": "15",
                                    "(No column name)": "13"
                                },
                                {
                                    "TERMEKKOD": "02080433T",
                                    "MEGNEVEZES": "Ragasztószalag 19 mm-es",
                                    "KAT_ID": "125",
                                    "RAKTAR_KOD": "9",
                                    "LISTAAR": "55",
                                    "(No column name)": "42"
                                },
                                {
                                    "TERMEKKOD": "03010344T",
                                    "MEGNEVEZES": "Ragasztószalag nagy 12 mm",
                                    "KAT_ID": "125",
                                    "RAKTAR_KOD": "7",
                                    "LISTAAR": "63",
                                    "(No column name)": "48"
                                },
                                {
                                    "TERMEKKOD": "03010345T",
                                    "MEGNEVEZES": "Ragasztószalag széles barna",
                                    "KAT_ID": "125",
                                    "RAKTAR_KOD": "6",
                                    "LISTAAR": "166",
                                    "(No column name)": "92"
                                },
                                {
                                    "TERMEKKOD": "05050346T",
                                    "MEGNEVEZES": "Rágógumi Orbit",
                                    "KAT_ID": "126",
                                    "RAKTAR_KOD": "9",
                                    "LISTAAR": "89",
                                    "(No column name)": "62"
                                },
                                {
                                    "TERMEKKOD": "06040347T",
                                    "MEGNEVEZES": "Rajzlap A/4 10db ffam.",
                                    "KAT_ID": "127",
                                    "RAKTAR_KOD": "5",
                                    "LISTAAR": "28",
                                    "(No column name)": "21"
                                },
                                {
                                    "TERMEKKOD": "01010001T",
                                    "MEGNEVEZES": "félfamentes rajzlap A4 (10 lap)",
                                    "KAT_ID": "127",
                                    "RAKTAR_KOD": "9",
                                    "LISTAAR": "342",
                                    "(No column name)": "143"
                                },
                                {
                                    "TERMEKKOD": "05040349T",
                                    "MEGNEVEZES": "Rajzszeg",
                                    "KAT_ID": "128",
                                    "RAKTAR_KOD": "6",
                                    "LISTAAR": "63",
                                    "(No column name)": "48"
                                },
                                {
                                    "TERMEKKOD": "05040348T",
                                    "MEGNEVEZES": "Rajzszeg színes",
                                    "KAT_ID": "128",
                                    "RAKTAR_KOD": "8",
                                    "LISTAAR": "106",
                                    "(No column name)": "71"
                                },
                                {
                                    "TERMEKKOD": "06040351T",
                                    "MEGNEVEZES": "Regiszteres füzet A5 Hightech",
                                    "KAT_ID": "129",
                                    "RAKTAR_KOD": "5",
                                    "LISTAAR": "203",
                                    "(No column name)": "108"
                                },
                                {
                                    "TERMEKKOD": "06040350T",
                                    "MEGNEVEZES": "Regiszteres füzet A4",
                                    "KAT_ID": "129",
                                    "RAKTAR_KOD": "9",
                                    "LISTAAR": "256",
                                    "(No column name)": "123"
                                },
                                {
                                    "TERMEKKOD": "U001-KI501",
                                    "MEGNEVEZES": "sál",
                                    "KAT_ID": "130",
                                    "RAKTAR_KOD": "1",
                                    "LISTAAR": "1990",
                                    "(No column name)": "201"
                                },
                                {
                                    "TERMEKKOD": "02080514T",
                                    "MEGNEVEZES": "Spirál 1/4 ",
                                    "KAT_ID": "131",
                                    "RAKTAR_KOD": "9",
                                    "LISTAAR": "45",
                                    "(No column name)": "35"
                                },
                                {
                                    "TERMEKKOD": "04050358T",
                                    "MEGNEVEZES": "Strandlabda ",
                                    "KAT_ID": "132",
                                    "RAKTAR_KOD": "8",
                                    "LISTAAR": "356",
                                    "(No column name)": "146"
                                },
                                {
                                    "TERMEKKOD": "05110360T",
                                    "MEGNEVEZES": "Szalvéta egyszínű",
                                    "KAT_ID": "133",
                                    "RAKTAR_KOD": "6",
                                    "LISTAAR": "118",
                                    "(No column name)": "76"
                                },
                                {
                                    "TERMEKKOD": "05110363T",
                                    "MEGNEVEZES": "Szalvéta dekor",
                                    "KAT_ID": "133",
                                    "RAKTAR_KOD": "9",
                                    "LISTAAR": "133",
                                    "(No column name)": "84"
                                },
                                {
                                    "TERMEKKOD": "05110364T",
                                    "MEGNEVEZES": "Szalvéta kicsi virágos",
                                    "KAT_ID": "133",
                                    "RAKTAR_KOD": "8",
                                    "LISTAAR": "161",
                                    "(No column name)": "90"
                                },
                                {
                                    "TERMEKKOD": "05110361T",
                                    "MEGNEVEZES": "Szalvéta Goma húsvéti",
                                    "KAT_ID": "133",
                                    "RAKTAR_KOD": "7",
                                    "LISTAAR": "175",
                                    "(No column name)": "96"
                                },
                                {
                                    "TERMEKKOD": "05110359T",
                                    "MEGNEVEZES": "Szalvéta ",
                                    "KAT_ID": "133",
                                    "RAKTAR_KOD": "8",
                                    "LISTAAR": "176",
                                    "(No column name)": "97"
                                },
                                {
                                    "TERMEKKOD": "04110362T",
                                    "MEGNEVEZES": "Szalvéta gyűjtőknek",
                                    "KAT_ID": "133",
                                    "RAKTAR_KOD": "5",
                                    "LISTAAR": "183",
                                    "(No column name)": "99"
                                },
                                {
                                    "TERMEKKOD": "06010366T",
                                    "MEGNEVEZES": "Számológép Roxin",
                                    "KAT_ID": "134",
                                    "RAKTAR_KOD": "6",
                                    "LISTAAR": "508",
                                    "(No column name)": "164"
                                },
                                {
                                    "TERMEKKOD": "06040446T",
                                    "MEGNEVEZES": "Számológép tudományos",
                                    "KAT_ID": "134",
                                    "RAKTAR_KOD": "5",
                                    "LISTAAR": "1173",
                                    "(No column name)": "194"
                                },
                                {
                                    "TERMEKKOD": "05010369T",
                                    "MEGNEVEZES": "Szemetes zsák 60 literes",
                                    "KAT_ID": "135",
                                    "RAKTAR_KOD": "7",
                                    "LISTAAR": "129",
                                    "(No column name)": "82"
                                },
                                {
                                    "TERMEKKOD": "07010371T",
                                    "MEGNEVEZES": "Színes ceruza 6-os",
                                    "KAT_ID": "136",
                                    "RAKTAR_KOD": "8",
                                    "LISTAAR": "99",
                                    "(No column name)": "68"
                                },
                                {
                                    "TERMEKKOD": "07010372T",
                                    "MEGNEVEZES": "Színes ceruza 12 szín",
                                    "KAT_ID": "136",
                                    "RAKTAR_KOD": "7",
                                    "LISTAAR": "161",
                                    "(No column name)": "90"
                                },
                                {
                                    "TERMEKKOD": "06010377T",
                                    "MEGNEVEZES": "Szögmérő színes",
                                    "KAT_ID": "137",
                                    "RAKTAR_KOD": "9",
                                    "LISTAAR": "8",
                                    "(No column name)": "6"
                                },
                                {
                                    "TERMEKKOD": "06010376T",
                                    "MEGNEVEZES": "Szögmérő papír",
                                    "KAT_ID": "137",
                                    "RAKTAR_KOD": "6",
                                    "LISTAAR": "11",
                                    "(No column name)": "9"
                                },
                                {
                                    "TERMEKKOD": "06010375T",
                                    "MEGNEVEZES": "Szögmérő 180 fokos műa.",
                                    "KAT_ID": "137",
                                    "RAKTAR_KOD": "6",
                                    "LISTAAR": "24",
                                    "(No column name)": "18"
                                },
                                {
                                    "TERMEKKOD": "06040380T",
                                    "MEGNEVEZES": "Szövegkiemelő",
                                    "KAT_ID": "138",
                                    "RAKTAR_KOD": "5",
                                    "LISTAAR": "78",
                                    "(No column name)": "57"
                                },
                                {
                                    "TERMEKKOD": "06040378T",
                                    "MEGNEVEZES": "Szövegkiemelő vékony",
                                    "KAT_ID": "138",
                                    "RAKTAR_KOD": "8",
                                    "LISTAAR": "89",
                                    "(No column name)": "62"
                                },
                                {
                                    "TERMEKKOD": "06040379T",
                                    "MEGNEVEZES": "Szövegkiemelő ",
                                    "KAT_ID": "138",
                                    "RAKTAR_KOD": "9",
                                    "LISTAAR": "93",
                                    "(No column name)": "64"
                                },
                                {
                                    "TERMEKKOD": "06040381T",
                                    "MEGNEVEZES": "Szövegkiemelő Videotip",
                                    "KAT_ID": "138",
                                    "RAKTAR_KOD": "6",
                                    "LISTAAR": "103",
                                    "(No column name)": "70"
                                },
                                {
                                    "TERMEKKOD": "07050464T",
                                    "MEGNEVEZES": "Szövegkiemelő Staedtler",
                                    "KAT_ID": "138",
                                    "RAKTAR_KOD": "7",
                                    "LISTAAR": "140",
                                    "(No column name)": "85"
                                },
                                {
                                    "TERMEKKOD": "06040382T",
                                    "MEGNEVEZES": "Táblafilc",
                                    "KAT_ID": "139",
                                    "RAKTAR_KOD": "9",
                                    "LISTAAR": "633",
                                    "(No column name)": "170"
                                },
                                {
                                    "TERMEKKOD": "05050465T",
                                    "MEGNEVEZES": "Tapétavágó kés",
                                    "KAT_ID": "140",
                                    "RAKTAR_KOD": "6",
                                    "LISTAAR": "40",
                                    "(No column name)": "31"
                                },
                                {
                                    "TERMEKKOD": "06040386T",
                                    "MEGNEVEZES": "Tempera szóló színes",
                                    "KAT_ID": "141",
                                    "RAKTAR_KOD": "8",
                                    "LISTAAR": "48",
                                    "(No column name)": "37"
                                },
                                {
                                    "TERMEKKOD": "06040385T",
                                    "MEGNEVEZES": "Tempera szóló ezüst",
                                    "KAT_ID": "141",
                                    "RAKTAR_KOD": "8",
                                    "LISTAAR": "96",
                                    "(No column name)": "67"
                                },
                                {
                                    "TERMEKKOD": "02080449T",
                                    "MEGNEVEZES": "Térképtű színes",
                                    "KAT_ID": "142",
                                    "RAKTAR_KOD": "6",
                                    "LISTAAR": "103",
                                    "(No column name)": "70"
                                },
                                {
                                    "TERMEKKOD": "07040388T",
                                    "MEGNEVEZES": "Tintapatron /kék/",
                                    "KAT_ID": "143",
                                    "RAKTAR_KOD": "7",
                                    "LISTAAR": "9",
                                    "(No column name)": "7"
                                },
                                {
                                    "TERMEKKOD": "07040390T",
                                    "MEGNEVEZES": "Tintapatron színes",
                                    "KAT_ID": "143",
                                    "RAKTAR_KOD": "9",
                                    "LISTAAR": "11",
                                    "(No column name)": "9"
                                },
                                {
                                    "TERMEKKOD": "07040389T",
                                    "MEGNEVEZES": "Tintapatron 30 db-os kék",
                                    "KAT_ID": "143",
                                    "RAKTAR_KOD": "7",
                                    "LISTAAR": "360",
                                    "(No column name)": "147"
                                },
                                {
                                    "TERMEKKOD": "07010244T",
                                    "MEGNEVEZES": "Kerámiatoll",
                                    "KAT_ID": "144",
                                    "RAKTAR_KOD": "5",
                                    "LISTAAR": "74",
                                    "(No column name)": "55"
                                },
                                {
                                    "TERMEKKOD": "07040391T",
                                    "MEGNEVEZES": "Toll Centropen roller",
                                    "KAT_ID": "144",
                                    "RAKTAR_KOD": "9",
                                    "LISTAAR": "80",
                                    "(No column name)": "59"
                                },
                                {
                                    "TERMEKKOD": "07010141T",
                                    "MEGNEVEZES": "G.toll betét X20",
                                    "KAT_ID": "145",
                                    "RAKTAR_KOD": "7",
                                    "LISTAAR": "15",
                                    "(No column name)": "13"
                                },
                                {
                                    "TERMEKKOD": "07010140T",
                                    "MEGNEVEZES": "G.toll betét Stabilo",
                                    "KAT_ID": "145",
                                    "RAKTAR_KOD": "5",
                                    "LISTAAR": "23",
                                    "(No column name)": "17"
                                },
                                {
                                    "TERMEKKOD": "07040127T",
                                    "MEGNEVEZES": "G. toll betét mini",
                                    "KAT_ID": "145",
                                    "RAKTAR_KOD": "9",
                                    "LISTAAR": "30",
                                    "(No column name)": "23"
                                },
                                {
                                    "TERMEKKOD": "07040129T",
                                    "MEGNEVEZES": "G. toll betét réz",
                                    "KAT_ID": "145",
                                    "RAKTAR_KOD": "5",
                                    "LISTAAR": "30",
                                    "(No column name)": "23"
                                },
                                {
                                    "TERMEKKOD": "07010138T",
                                    "MEGNEVEZES": "G.toll betét jumbo",
                                    "KAT_ID": "145",
                                    "RAKTAR_KOD": "8",
                                    "LISTAAR": "33",
                                    "(No column name)": "25"
                                },
                                {
                                    "TERMEKKOD": "07040133T",
                                    "MEGNEVEZES": "G.toll betét görbe hegyű",
                                    "KAT_ID": "145",
                                    "RAKTAR_KOD": "5",
                                    "LISTAAR": "39",
                                    "(No column name)": "30"
                                },
                                {
                                    "TERMEKKOD": "07040134T",
                                    "MEGNEVEZES": "G.toll betét illatos",
                                    "KAT_ID": "145",
                                    "RAKTAR_KOD": "7",
                                    "LISTAAR": "44",
                                    "(No column name)": "34"
                                },
                                {
                                    "TERMEKKOD": "07010137T",
                                    "MEGNEVEZES": "G.toll betét PAX tip.",
                                    "KAT_ID": "145",
                                    "RAKTAR_KOD": "6",
                                    "LISTAAR": "48",
                                    "(No column name)": "37"
                                },
                                {
                                    "TERMEKKOD": "07040132T",
                                    "MEGNEVEZES": "G.toll betét csavaros",
                                    "KAT_ID": "145",
                                    "RAKTAR_KOD": "8",
                                    "LISTAAR": "55",
                                    "(No column name)": "42"
                                },
                                {
                                    "TERMEKKOD": "07040128T",
                                    "MEGNEVEZES": "G. toll betét mini fém",
                                    "KAT_ID": "145",
                                    "RAKTAR_KOD": "6",
                                    "LISTAAR": "55",
                                    "(No column name)": "42"
                                },
                                {
                                    "TERMEKKOD": "07010143T",
                                    "MEGNEVEZES": "G.toll betét Zebra H-0,7",
                                    "KAT_ID": "145",
                                    "RAKTAR_KOD": "7",
                                    "LISTAAR": "78",
                                    "(No column name)": "57"
                                },
                                {
                                    "TERMEKKOD": "07040130T",
                                    "MEGNEVEZES": "G. toll betét S7S",
                                    "KAT_ID": "145",
                                    "RAKTAR_KOD": "6",
                                    "LISTAAR": "80",
                                    "(No column name)": "59"
                                },
                                {
                                    "TERMEKKOD": "07040131T",
                                    "MEGNEVEZES": "G. toll betét UNI lachnok Fine SA-7C",
                                    "KAT_ID": "145",
                                    "RAKTAR_KOD": "9",
                                    "LISTAAR": "85",
                                    "(No column name)": "61"
                                },
                                {
                                    "TERMEKKOD": "07010144T",
                                    "MEGNEVEZES": "G.toll betét Zebra K-0,7",
                                    "KAT_ID": "145",
                                    "RAKTAR_KOD": "9",
                                    "LISTAAR": "89",
                                    "(No column name)": "62"
                                },
                                {
                                    "TERMEKKOD": "07010139T",
                                    "MEGNEVEZES": "G.toll betét S7L ",
                                    "KAT_ID": "145",
                                    "RAKTAR_KOD": "6",
                                    "LISTAAR": "91",
                                    "(No column name)": "63"
                                },
                                {
                                    "TERMEKKOD": "07010136T",
                                    "MEGNEVEZES": "G.toll betét PAX",
                                    "KAT_ID": "145",
                                    "RAKTAR_KOD": "6",
                                    "LISTAAR": "123",
                                    "(No column name)": "79"
                                },
                                {
                                    "TERMEKKOD": "07010142T",
                                    "MEGNEVEZES": "G.toll betét Zebra F-0.7",
                                    "KAT_ID": "145",
                                    "RAKTAR_KOD": "5",
                                    "LISTAAR": "228",
                                    "(No column name)": "115"
                                },
                                {
                                    "TERMEKKOD": "07040135T",
                                    "MEGNEVEZES": "G.toll betét Parker ",
                                    "KAT_ID": "145",
                                    "RAKTAR_KOD": "6",
                                    "LISTAAR": "684",
                                    "(No column name)": "174"
                                },
                                {
                                    "TERMEKKOD": "06040394T",
                                    "MEGNEVEZES": "Tolltartó zipzáras",
                                    "KAT_ID": "146",
                                    "RAKTAR_KOD": "5",
                                    "LISTAAR": "324",
                                    "(No column name)": "140"
                                },
                                {
                                    "TERMEKKOD": "06040396T",
                                    "MEGNEVEZES": "Tolltartó Garfield",
                                    "KAT_ID": "146",
                                    "RAKTAR_KOD": "7",
                                    "LISTAAR": "410",
                                    "(No column name)": "153"
                                },
                                {
                                    "TERMEKKOD": "06040398T",
                                    "MEGNEVEZES": "Tolltartó hengeres ",
                                    "KAT_ID": "146",
                                    "RAKTAR_KOD": "5",
                                    "LISTAAR": "411",
                                    "(No column name)": "154"
                                },
                                {
                                    "TERMEKKOD": "06040397T",
                                    "MEGNEVEZES": "Tolltartó asztali",
                                    "KAT_ID": "146",
                                    "RAKTAR_KOD": "8",
                                    "LISTAAR": "655",
                                    "(No column name)": "172"
                                },
                                {
                                    "TERMEKKOD": "06040395T",
                                    "MEGNEVEZES": "Tolltartó 2 zipzáros töltött",
                                    "KAT_ID": "146",
                                    "RAKTAR_KOD": "7",
                                    "LISTAAR": "728",
                                    "(No column name)": "180"
                                },
                                {
                                    "TERMEKKOD": "06040392T",
                                    "MEGNEVEZES": "Tolltartó 1 zipzáros",
                                    "KAT_ID": "146",
                                    "RAKTAR_KOD": "7",
                                    "LISTAAR": "728",
                                    "(No column name)": "180"
                                },
                                {
                                    "TERMEKKOD": "06040393T",
                                    "MEGNEVEZES": "Tolltartó 2 részes NG.",
                                    "KAT_ID": "146",
                                    "RAKTAR_KOD": "9",
                                    "LISTAAR": "765",
                                    "(No column name)": "182"
                                },
                                {
                                    "TERMEKKOD": "02080511T",
                                    "MEGNEVEZES": "Oki toner C",
                                    "KAT_ID": "147",
                                    "RAKTAR_KOD": "8",
                                    "LISTAAR": "14250",
                                    "(No column name)": "214"
                                },
                                {
                                    "TERMEKKOD": "07050462T",
                                    "MEGNEVEZES": "Töltőtoll tinta ",
                                    "KAT_ID": "148",
                                    "RAKTAR_KOD": "5",
                                    "LISTAAR": "493",
                                    "(No column name)": "163"
                                },
                                {
                                    "TERMEKKOD": "02040402T",
                                    "MEGNEVEZES": "Tűzőgép Boxer ",
                                    "KAT_ID": "149",
                                    "RAKTAR_KOD": "5",
                                    "LISTAAR": "286",
                                    "(No column name)": "129"
                                },
                                {
                                    "TERMEKKOD": "02040401T",
                                    "MEGNEVEZES": "Tűzőgép Boxer 10",
                                    "KAT_ID": "149",
                                    "RAKTAR_KOD": "8",
                                    "LISTAAR": "339",
                                    "(No column name)": "142"
                                },
                                {
                                    "TERMEKKOD": "02040404T",
                                    "MEGNEVEZES": "Tűzőgép EAGLE",
                                    "KAT_ID": "149",
                                    "RAKTAR_KOD": "8",
                                    "LISTAAR": "405",
                                    "(No column name)": "152"
                                },
                                {
                                    "TERMEKKOD": "02080452T",
                                    "MEGNEVEZES": "Tűzőgép mini",
                                    "KAT_ID": "149",
                                    "RAKTAR_KOD": "6",
                                    "LISTAAR": "438",
                                    "(No column name)": "157"
                                },
                                {
                                    "TERMEKKOD": "02040403T",
                                    "MEGNEVEZES": "Tűzőgép SAX 239",
                                    "KAT_ID": "149",
                                    "RAKTAR_KOD": "5",
                                    "LISTAAR": "1351",
                                    "(No column name)": "196"
                                },
                                {
                                    "TERMEKKOD": "02040002T",
                                    "MEGNEVEZES": "irodai tűzőgép",
                                    "KAT_ID": "149",
                                    "RAKTAR_KOD": "6",
                                    "LISTAAR": "2100",
                                    "(No column name)": "202"
                                },
                                {
                                    "TERMEKKOD": "02040406T",
                                    "MEGNEVEZES": "Tűzőkapocs 24/6",
                                    "KAT_ID": "150",
                                    "RAKTAR_KOD": "9",
                                    "LISTAAR": "34",
                                    "(No column name)": "26"
                                },
                                {
                                    "TERMEKKOD": "02040405T",
                                    "MEGNEVEZES": "Tűzőkapocs 10-es",
                                    "KAT_ID": "150",
                                    "RAKTAR_KOD": "7",
                                    "LISTAAR": "44",
                                    "(No column name)": "34"
                                },
                                {
                                    "TERMEKKOD": "06080410T",
                                    "MEGNEVEZES": "Vízfesték 12db-os kínai",
                                    "KAT_ID": "151",
                                    "RAKTAR_KOD": "6",
                                    "LISTAAR": "176",
                                    "(No column name)": "97"
                                },
                                {
                                    "TERMEKKOD": "06080409T",
                                    "MEGNEVEZES": "Vízfesték 12 színű kerek",
                                    "KAT_ID": "151",
                                    "RAKTAR_KOD": "6",
                                    "LISTAAR": "180",
                                    "(No column name)": "98"
                                },
                                {
                                    "TERMEKKOD": "06080408T",
                                    "MEGNEVEZES": "Vízfesték 12 db-os ",
                                    "KAT_ID": "151",
                                    "RAKTAR_KOD": "7",
                                    "LISTAAR": "210",
                                    "(No column name)": "110"
                                },
                                {
                                    "TERMEKKOD": "06080407T",
                                    "MEGNEVEZES": "Vízfesték  12 színű nagy",
                                    "KAT_ID": "151",
                                    "RAKTAR_KOD": "7",
                                    "LISTAAR": "249",
                                    "(No column name)": "122"
                                },
                                {
                                    "TERMEKKOD": "06080412T",
                                    "MEGNEVEZES": "Vonalzó 16 cm-es LIZZY",
                                    "KAT_ID": "152",
                                    "RAKTAR_KOD": "7",
                                    "LISTAAR": "30",
                                    "(No column name)": "23"
                                },
                                {
                                    "TERMEKKOD": "06080413T",
                                    "MEGNEVEZES": "Vonalzó 30 cm",
                                    "KAT_ID": "152",
                                    "RAKTAR_KOD": "8",
                                    "LISTAAR": "30",
                                    "(No column name)": "23"
                                },
                                {
                                    "TERMEKKOD": "06080414T",
                                    "MEGNEVEZES": "Vonalzó 20 cm-es ",
                                    "KAT_ID": "152",
                                    "RAKTAR_KOD": "8",
                                    "LISTAAR": "30",
                                    "(No column name)": "23"
                                },
                                {
                                    "TERMEKKOD": "06080415T",
                                    "MEGNEVEZES": "Vonalzó 45 fokos",
                                    "KAT_ID": "152",
                                    "RAKTAR_KOD": "9",
                                    "LISTAAR": "30",
                                    "(No column name)": "23"
                                },
                                {
                                    "TERMEKKOD": "06080416T",
                                    "MEGNEVEZES": "Vonalzó 60 fokos",
                                    "KAT_ID": "152",
                                    "RAKTAR_KOD": "6",
                                    "LISTAAR": "33",
                                    "(No column name)": "25"
                                },
                                {
                                    "TERMEKKOD": "06080411T",
                                    "MEGNEVEZES": "Vonalzó 15 cm-es ESSELTE",
                                    "KAT_ID": "152",
                                    "RAKTAR_KOD": "8",
                                    "LISTAAR": "58",
                                    "(No column name)": "44"
                                },
                                {
                                    "TERMEKKOD": "06080417T",
                                    "MEGNEVEZES": "Zászló papír",
                                    "KAT_ID": "153",
                                    "RAKTAR_KOD": "5",
                                    "LISTAAR": "20",
                                    "(No column name)": "16"
                                },
                                {
                                    "TERMEKKOD": "07080419T",
                                    "MEGNEVEZES": "Zselés toll MICRO",
                                    "KAT_ID": "154",
                                    "RAKTAR_KOD": "9",
                                    "LISTAAR": "66",
                                    "(No column name)": "51"
                                },
                                {
                                    "TERMEKKOD": "07080418T",
                                    "MEGNEVEZES": "Zselés toll ",
                                    "KAT_ID": "154",
                                    "RAKTAR_KOD": "7",
                                    "LISTAAR": "95",
                                    "(No column name)": "66"
                                },
                                {
                                    "TERMEKKOD": "07080420T",
                                    "MEGNEVEZES": "Zselés toll Muhnwa",
                                    "KAT_ID": "154",
                                    "RAKTAR_KOD": "7",
                                    "LISTAAR": "161",
                                    "(No column name)": "90"
                                },
                                {
                                    "TERMEKKOD": "07080421T",
                                    "MEGNEVEZES": "Zseléstoll Lizzy Card",
                                    "KAT_ID": "154",
                                    "RAKTAR_KOD": "7",
                                    "LISTAAR": "228",
                                    "(No column name)": "115"
                                },
                                {
                                    "TERMEKKOD": "02040206T",
                                    "MEGNEVEZES": "Írásvetítő fólia",
                                    "KAT_ID": "155",
                                    "RAKTAR_KOD": "8",
                                    "LISTAAR": "81",
                                    "(No column name)": "60"
                                }
                            ]
                        },
                        "text/html": [
                            "<table>",
                            "<tr><th>TERMEKKOD</th><th>MEGNEVEZES</th><th>KAT_ID</th><th>RAKTAR_KOD</th><th>LISTAAR</th><th>(No column name)</th></tr>",
                            "<tr><td>08070491T</td><td>Szám.tech. kicsiknek</td><td>4</td><td>8</td><td>214</td><td>112</td></tr>",
                            "<tr><td>08070485T</td><td>Jól felkészültem-e - Fizika</td><td>4</td><td>6</td><td>291</td><td>131</td></tr>",
                            "<tr><td>08070480T</td><td>Fizika 13 éveseknek</td><td>4</td><td>8</td><td>308</td><td>136</td></tr>",
                            "<tr><td>08070483T</td><td>Fizikai feladatok és tévedések</td><td>4</td><td>5</td><td>324</td><td>140</td></tr>",
                            "<tr><td>08070484T</td><td>Fogalmazás lépésről lépésre</td><td>4</td><td>8</td><td>345</td><td>144</td></tr>",
                            "<tr><td>08070494T</td><td>Érettségi felv. fel. Fizika</td><td>4</td><td>6</td><td>440</td><td>158</td></tr>",
                            "<tr><td>08070495T</td><td>Érettségi felv. fel. Biológia</td><td>4</td><td>9</td><td>440</td><td>158</td></tr>",
                            "<tr><td>08070479T</td><td>Fizika</td><td>4</td><td>7</td><td>674</td><td>173</td></tr>",
                            "<tr><td>08070490T</td><td>Szövegszerkesztés</td><td>4</td><td>8</td><td>691</td><td>177</td></tr>",
                            "<tr><td>08070493T</td><td>Érettségi felv. fel. Matematika</td><td>4</td><td>5</td><td>720</td><td>179</td></tr>",
                            "<tr><td>08070492T</td><td>Informatika</td><td>4</td><td>9</td><td>735</td><td>181</td></tr>",
                            "<tr><td>08070489T</td><td>RAMba zárt világ</td><td>4</td><td>8</td><td>868</td><td>188</td></tr>",
                            "<tr><td>08070472T</td><td>A föld amelyen élünk - Európa földrajza</td><td>4</td><td>8</td><td>1089</td><td>192</td></tr>",
                            "<tr><td>08070473T</td><td>A föld amelyen élünk - Távoli földrészek</td><td>4</td><td>6</td><td>1089</td><td>192</td></tr>",
                            "<tr><td>08070474T</td><td>A föld amelyen élünk - Hazánk földrajza</td><td>4</td><td>5</td><td>1089</td><td>192</td></tr>",
                            "<tr><td>04050035T</td><td>Bérlet tok</td><td>5</td><td>5</td><td>24</td><td>18</td></tr>",
                            "<tr><td>04110258T</td><td>Lampion</td><td>5</td><td>9</td><td>73</td><td>54</td></tr>",
                            "<tr><td>04050267T</td><td>Logikai készlet</td><td>5</td><td>5</td><td>129</td><td>82</td></tr>",
                            "<tr><td>04030285T</td><td>Mikulás zacskó</td><td>6</td><td>8</td><td>11</td><td>9</td></tr>",
                            "<tr><td>03080004T</td><td>Ajándék cs. tasak italos, fólia</td><td>6</td><td>6</td><td>19</td><td>15</td></tr>",
                            "<tr><td>03080006T</td><td>Ajándék cs. tasak mintás kicsi</td><td>6</td><td>8</td><td>26</td><td>20</td></tr>",
                            "<tr><td>03050457T</td><td>Ajándék cs. tasak kicsi</td><td>6</td><td>6</td><td>26</td><td>20</td></tr>",
                            "<tr><td>03050459T</td><td>Talpas tasak</td><td>6</td><td>8</td><td>40</td><td>31</td></tr>",
                            "<tr><td>03080013T</td><td>Ajándék csom. 50x70 húsvéti</td><td>6</td><td>6</td><td>64</td><td>49</td></tr>",
                            "<tr><td>03080014T</td><td>Ajándék csom. 70x50 metál</td><td>6</td><td>8</td><td>81</td><td>60</td></tr>",
                            "<tr><td>03080008T</td><td>Ajándék cs. tasak kicsi</td><td>6</td><td>7</td><td>103</td><td>70</td></tr>",
                            "<tr><td>03080439T</td><td>Italtartó doboz</td><td>6</td><td>8</td><td>114</td><td>74</td></tr>",
                            "<tr><td>03080012T</td><td>Ajándék csom. 200x70</td><td>6</td><td>8</td><td>125</td><td>81</td></tr>",
                            "<tr><td>03080011T</td><td>Ajándék cs. tasak közepes</td><td>6</td><td>6</td><td>148</td><td>88</td></tr>",
                            "<tr><td>03080009T</td><td>Ajándék csom. 100x70 metál</td><td>6</td><td>8</td><td>148</td><td>88</td></tr>",
                            "<tr><td>03050458T</td><td>Ajándék cs. 2×100×70</td><td>6</td><td>7</td><td>148</td><td>88</td></tr>",
                            "<tr><td>03080015T</td><td>Ajándék csom. gyűrt</td><td>6</td><td>9</td><td>169</td><td>94</td></tr>",
                            "<tr><td>03080437T</td><td>Ajándék csomagoló tasak</td><td>6</td><td>7</td><td>185</td><td>101</td></tr>",
                            "<tr><td>03080003T</td><td>Ajándék cs. tasak italos</td><td>6</td><td>6</td><td>185</td><td>101</td></tr>",
                            "<tr><td>03080007T</td><td>Ajándék cs. tasak mintás nagy</td><td>6</td><td>9</td><td>206</td><td>109</td></tr>",
                            "<tr><td>03080010T</td><td>Ajándék csom. 150x70</td><td>6</td><td>9</td><td>206</td><td>109</td></tr>",
                            "<tr><td>03080438T</td><td>Ajándék csomagoló tasak lézeres</td><td>6</td><td>7</td><td>214</td><td>112</td></tr>",
                            "<tr><td>03080005T</td><td>Ajándék cs. tasak virágos nagy</td><td>6</td><td>8</td><td>290</td><td>130</td></tr>",
                            "<tr><td>04050022T</td><td>Álarc</td><td>7</td><td>8</td><td>89</td><td>62</td></tr>",
                            "<tr><td>04050023T</td><td>Álarc fejdísz</td><td>7</td><td>8</td><td>144</td><td>86</td></tr>",
                            "<tr><td>04050024T</td><td>Álarc szemüveg</td><td>7</td><td>7</td><td>144</td><td>86</td></tr>",
                            "<tr><td>G041-AL211</td><td>fiú ünneplős ruha</td><td>8</td><td>4</td><td>16900</td><td>215</td></tr>",
                            "<tr><td>L041-AL211</td><td>lány ünneplős ruha</td><td>8</td><td>3</td><td>16900</td><td>215</td></tr>",
                            "<tr><td>N029-AL212</td><td>női koktélruha</td><td>8</td><td>4</td><td>32000</td><td>218</td></tr>",
                            "<tr><td>05010026T</td><td>Alufólia 10 m-es</td><td>9</td><td>9</td><td>118</td><td>76</td></tr>",
                            "<tr><td>05010027T</td><td>Alufólia 20 m-es</td><td>9</td><td>6</td><td>214</td><td>112</td></tr>",
                            "<tr><td>02010028T</td><td>Árazószalag </td><td>10</td><td>9</td><td>106</td><td>71</td></tr>",
                            "<tr><td>02020029T</td><td>Átírótömb A/6</td><td>11</td><td>8</td><td>115</td><td>75</td></tr>",
                            "<tr><td>06080423T</td><td>Beíró A/5 kockás</td><td>12</td><td>5</td><td>228</td><td>115</td></tr>",
                            "<tr><td>02020032T</td><td>Beírókönyv A5 </td><td>13</td><td>8</td><td>133</td><td>84</td></tr>",
                            "<tr><td>02020033T</td><td>Beírókönyv A4</td><td>13</td><td>5</td><td>328</td><td>141</td></tr>",
                            "<tr><td>02060039T</td><td>Bélyegző párna</td><td>14</td><td>6</td><td>650</td><td>171</td></tr>",
                            "<tr><td>02060038T</td><td>Bélyegző IDEAL 50</td><td>14</td><td>8</td><td>780</td><td>184</td></tr>",
                            "<tr><td>02060448T</td><td>Bélyegző RP 18-47</td><td>14</td><td>7</td><td>1147</td><td>193</td></tr>",
                            "<tr><td>02060447T</td><td>Bélyegző pocket</td><td>14</td><td>6</td><td>1377</td><td>197</td></tr>",
                            "<tr><td>02060034T</td><td>Bélyegzőfesték </td><td>15</td><td>9</td><td>297</td><td>134</td></tr>",
                            "<tr><td>02030042T</td><td>Boríték LC 6</td><td>16</td><td>6</td><td>3</td><td>2</td></tr>",
                            "<tr><td>02030040T</td><td>Boríték LA 4 francia</td><td>16</td><td>6</td><td>6</td><td>5</td></tr>",
                            "<tr><td>02030041T</td><td>Boríték LC 5</td><td>16</td><td>9</td><td>6</td><td>5</td></tr>",
                            "<tr><td>02030044T</td><td>Boríték mintás</td><td>16</td><td>6</td><td>15</td><td>13</td></tr>",
                            "<tr><td>02050460T</td><td>Boríték C/4-es</td><td>16</td><td>5</td><td>15</td><td>13</td></tr>",
                            "<tr><td>02050461T</td><td>Boríték B/4-es</td><td>16</td><td>8</td><td>18</td><td>14</td></tr>",
                            "<tr><td>02030043T</td><td>Boríték légp. kicsi</td><td>16</td><td>7</td><td>39</td><td>30</td></tr>",
                            "<tr><td>02080069T</td><td>CD tartó tok</td><td>17</td><td>8</td><td>30</td><td>23</td></tr>",
                            "<tr><td>05050045T</td><td>Celofán</td><td>18</td><td>8</td><td>46</td><td>36</td></tr>",
                            "<tr><td>05050046T</td><td>Celofán 50 db-os</td><td>18</td><td>8</td><td>73</td><td>54</td></tr>",
                            "<tr><td>07040058T</td><td>Ceruza radíros kínai</td><td>19</td><td>7</td><td>11</td><td>9</td></tr>",
                            "<tr><td>07080065T</td><td>Ceruza kínai</td><td>19</td><td>8</td><td>11</td><td>9</td></tr>",
                            "<tr><td>07040053T</td><td>Ceruza HB radiros</td><td>19</td><td>5</td><td>23</td><td>17</td></tr>",
                            "<tr><td>07040050T</td><td>Ceruza Cseh</td><td>19</td><td>6</td><td>30</td><td>23</td></tr>",
                            "<tr><td>07080063T</td><td>Ceruza szorzótáblás</td><td>19</td><td>7</td><td>35</td><td>27</td></tr>",
                            "<tr><td>07040060T</td><td>Ceruza stabilo swano</td><td>19</td><td>6</td><td>36</td><td>28</td></tr>",
                            "<tr><td>07040051T</td><td>Ceruza háromszög </td><td>19</td><td>6</td><td>39</td><td>30</td></tr>",
                            "<tr><td>07040047T</td><td>Ceruza 2H-4B</td><td>19</td><td>5</td><td>39</td><td>30</td></tr>",
                            "<tr><td>07080064T</td><td>Ceruza zöld színű</td><td>19</td><td>6</td><td>40</td><td>31</td></tr>",
                            "<tr><td>07040049T</td><td>Ceruza Conté zöld</td><td>19</td><td>9</td><td>40</td><td>31</td></tr>",
                            "<tr><td>07040056T</td><td>Ceruza piros-kék vékony</td><td>19</td><td>7</td><td>40</td><td>31</td></tr>",
                            "<tr><td>07040061T</td><td>Ceruza stabilo opera</td><td>19</td><td>9</td><td>44</td><td>34</td></tr>",
                            "<tr><td>07040052T</td><td>Ceruza 2H-3B Koh-i-nor</td><td>19</td><td>5</td><td>53</td><td>41</td></tr>",
                            "<tr><td>07040054T</td><td>Ceruza kártyás</td><td>19</td><td>7</td><td>55</td><td>42</td></tr>",
                            "<tr><td>07040048T</td><td>Ceruza arany, ezüst</td><td>19</td><td>6</td><td>55</td><td>42</td></tr>",
                            "<tr><td>07040059T</td><td>Ceruza smaragd</td><td>19</td><td>9</td><td>58</td><td>44</td></tr>",
                            "<tr><td>07040055T</td><td>Ceruza piros-kék</td><td>19</td><td>9</td><td>59</td><td>45</td></tr>",
                            "<tr><td>07040057T</td><td>Ceruza Progresso</td><td>19</td><td>7</td><td>106</td><td>71</td></tr>",
                            "<tr><td>07080062T</td><td>Ceruza szén</td><td>19</td><td>5</td><td>146</td><td>87</td></tr>",
                            "<tr><td>04110068T</td><td>Címke egyszínű</td><td>20</td><td>9</td><td>20</td><td>16</td></tr>",
                            "<tr><td>04110066T</td><td>Címke 8 db-os</td><td>20</td><td>7</td><td>26</td><td>20</td></tr>",
                            "<tr><td>04110067T</td><td>Címke WD. állat</td><td>20</td><td>7</td><td>31</td><td>24</td></tr>",
                            "<tr><td>01100503T</td><td>Color Copy A4 120 g</td><td>21</td><td>6</td><td>10</td><td>8</td></tr>",
                            "<tr><td>01090500T</td><td>Color Copy A4 200 g</td><td>21</td><td>9</td><td>14</td><td>12</td></tr>",
                            "<tr><td>01100497T</td><td>Color Copy 160 g-os </td><td>21</td><td>5</td><td>14</td><td>12</td></tr>",
                            "<tr><td>01090499T</td><td>Color Copy A/4 250 g</td><td>21</td><td>6</td><td>15</td><td>13</td></tr>",
                            "<tr><td>01100496T</td><td>Színes másoló a/4 80g</td><td>21</td><td>5</td><td>1500</td><td>199</td></tr>",
                            "<tr><td>05010370T</td><td>Szilvia csomagoló</td><td>22</td><td>7</td><td>89</td><td>62</td></tr>",
                            "<tr><td>03080016T</td><td>házt.csom.  5 ív</td><td>22</td><td>8</td><td>110</td><td>73</td></tr>",
                            "<tr><td>03080021T</td><td>Ajándék csom. vékony</td><td>24</td><td>7</td><td>23</td><td>17</td></tr>",
                            "<tr><td>03080020T</td><td>Ajándék csom. nagy  </td><td>24</td><td>9</td><td>44</td><td>34</td></tr>",
                            "<tr><td>03080019T</td><td>Ajándék csom. Krepp</td><td>24</td><td>5</td><td>56</td><td>43</td></tr>",
                            "<tr><td>03080031T</td><td>Ajándék cs. húsvéti</td><td>24</td><td>6</td><td>106</td><td>71</td></tr>",
                            "<tr><td>03080018T</td><td>Ajándék csom. gyűrt 50x70 </td><td>24</td><td>5</td><td>121</td><td>78</td></tr>",
                            "<tr><td>03080017T</td><td>iskolai csomagoló papír</td><td>24</td><td>9</td><td>148</td><td>88</td></tr>",
                            "<tr><td>03080030T</td><td>Ajándék cs. húsvéti 200x70</td><td>24</td><td>7</td><td>220</td><td>114</td></tr>",
                            "<tr><td>04030288T</td><td>Műanyag pohár 1 dl-es</td><td>25</td><td>7</td><td>3</td><td>2</td></tr>",
                            "<tr><td>04030289T</td><td>Műanyag pohár 5 cl-es</td><td>25</td><td>6</td><td>15</td><td>13</td></tr>",
                            "<tr><td>04030287T</td><td>Műanyag foszforeszkáló állat</td><td>25</td><td>8</td><td>23</td><td>17</td></tr>",
                            "<tr><td>04030286T</td><td>Műanyag állatok</td><td>25</td><td>5</td><td>44</td><td>34</td></tr>",
                            "<tr><td>01100072T</td><td>Dipa A/4 keretezett</td><td>26</td><td>9</td><td>9</td><td>7</td></tr>",
                            "<tr><td>04050075T</td><td>Díszdoboz tollnak 2 db-os keskeny</td><td>27</td><td>5</td><td>44</td><td>34</td></tr>",
                            "<tr><td>04050073T</td><td>Díszdoboz kar.</td><td>27</td><td>9</td><td>61</td><td>47</td></tr>",
                            "<tr><td>04050074T</td><td>Díszdoboz tollnak 2 db-os</td><td>27</td><td>7</td><td>66</td><td>51</td></tr>",
                            "<tr><td>03050078T</td><td>Díszkötöző szalag metál kicsi</td><td>28</td><td>8</td><td>15</td><td>13</td></tr>",
                            "<tr><td>03050079T</td><td>Díszkötöző szalag vékony</td><td>28</td><td>8</td><td>15</td><td>13</td></tr>",
                            "<tr><td>03050076T</td><td>Díszkötöző szalag metál nagy</td><td>28</td><td>8</td><td>26</td><td>20</td></tr>",
                            "<tr><td>03050077T</td><td>Diszkötöző szalag arany</td><td>28</td><td>8</td><td>44</td><td>34</td></tr>",
                            "<tr><td>03050080T</td><td>Diszkötöző széles szalag</td><td>28</td><td>6</td><td>81</td><td>60</td></tr>",
                            "<tr><td>02080081T</td><td>Dvd</td><td>29</td><td>9</td><td>133</td><td>84</td></tr>",
                            "<tr><td>06010083T</td><td>Ecset Centrum 7,8,9</td><td>30</td><td>6</td><td>33</td><td>25</td></tr>",
                            "<tr><td>06010086T</td><td>Ecset Nebulo 4-es</td><td>30</td><td>8</td><td>36</td><td>28</td></tr>",
                            "<tr><td>06010082T</td><td>Ecset Centrum 10,11,12</td><td>30</td><td>8</td><td>40</td><td>31</td></tr>",
                            "<tr><td>06010084T</td><td>Ecset Deák 2-es</td><td>30</td><td>9</td><td>60</td><td>46</td></tr>",
                            "<tr><td>06010085T</td><td>Ecset Lizzy 10-es</td><td>30</td><td>5</td><td>65</td><td>50</td></tr>",
                            "<tr><td>06040087T</td><td>Ecset Nebuló 10-es</td><td>30</td><td>7</td><td>79</td><td>58</td></tr>",
                            "<tr><td>06080428T</td><td>Ecsetkészlet</td><td>30</td><td>8</td><td>180</td><td>98</td></tr>",
                            "<tr><td>01040502T</td><td>Előlap spirálhoz</td><td>31</td><td>5</td><td>25</td><td>19</td></tr>",
                            "<tr><td>04080442T</td><td>Emlékkönyv</td><td>32</td><td>7</td><td>316</td><td>139</td></tr>",
                            "<tr><td>04080443T</td><td>Emlékkönyv lakatos</td><td>32</td><td>7</td><td>449</td><td>159</td></tr>",
                            "<tr><td>04040090T</td><td>Emlékkönyv</td><td>32</td><td>6</td><td>526</td><td>166</td></tr>",
                            "<tr><td>01030091T</td><td>Emléklap A/5</td><td>33</td><td>7</td><td>26</td><td>20</td></tr>",
                            "<tr><td>01080093T</td><td>Fax papír 15 m</td><td>34</td><td>9</td><td>161</td><td>90</td></tr>",
                            "<tr><td>G029-FE307</td><td>fiú zokni</td><td>35</td><td>4</td><td>240</td><td>120</td></tr>",
                            "<tr><td>L029-FE307</td><td>lány zokni</td><td>35</td><td>4</td><td>240</td><td>120</td></tr>",
                            "<tr><td>G023-FE301</td><td>fiú alsó</td><td>35</td><td>3</td><td>390</td><td>149</td></tr>",
                            "<tr><td>L023-FE301</td><td>lány alsó</td><td>35</td><td>1</td><td>390</td><td>149</td></tr>",
                            "<tr><td>N019-FE301</td><td>női alsó</td><td>35</td><td>2</td><td>690</td><td>176</td></tr>",
                            "<tr><td>G038-FE316</td><td>fiú harisnya</td><td>35</td><td>3</td><td>990</td><td>190</td></tr>",
                            "<tr><td>L033-FE311</td><td>lány harisnya</td><td>35</td><td>3</td><td>990</td><td>190</td></tr>",
                            "<tr><td>01100505T</td><td>Fehér másoló A/4</td><td>36</td><td>6</td><td>686</td><td>175</td></tr>",
                            "<tr><td>01100095T</td><td>Fénymásoló papír GetCopy</td><td>36</td><td>9</td><td>728</td><td>180</td></tr>",
                            "<tr><td>01100096T</td><td>Fénymásoló papír Qconnect</td><td>36</td><td>5</td><td>728</td><td>180</td></tr>",
                            "<tr><td>01100094T</td><td>Fénymásoló papír DataCopy</td><td>36</td><td>9</td><td>845</td><td>187</td></tr>",
                            "<tr><td>01100504T</td><td>Fehér másoló A/3</td><td>36</td><td>6</td><td>1488</td><td>198</td></tr>",
                            "<tr><td>F021-IN215</td><td>férfi ing</td><td>37</td><td>1</td><td>6490</td><td>206</td></tr>",
                            "<tr><td>F001-KB101</td><td>férfi szövet kabát</td><td>38</td><td>1</td><td>22000</td><td>216</td></tr>",
                            "<tr><td>F007-NA201</td><td>férfi farmer nadrág</td><td>39</td><td>3</td><td>7890</td><td>208</td></tr>",
                            "<tr><td>F013-NA207</td><td>férfi szövet nadrág</td><td>39</td><td>1</td><td>11900</td><td>213</td></tr>",
                            "<tr><td>02080455T</td><td>Festékpatron BCI-3BK</td><td>40</td><td>6</td><td>625</td><td>169</td></tr>",
                            "<tr><td>07030108T</td><td>Filctoll CD író</td><td>41</td><td>5</td><td>0</td><td>1</td></tr>",
                            "<tr><td>07040097T</td><td>Filctoll </td><td>41</td><td>8</td><td>26</td><td>20</td></tr>",
                            "<tr><td>07040102T</td><td>Filctoll supra fine</td><td>41</td><td>7</td><td>46</td><td>36</td></tr>",
                            "<tr><td>07030103T</td><td>Filctoll TINTEN PEN</td><td>41</td><td>8</td><td>53</td><td>41</td></tr>",
                            "<tr><td>07030104T</td><td>Filctoll vastag ARTIP</td><td>41</td><td>8</td><td>76</td><td>56</td></tr>",
                            "<tr><td>07030106T</td><td>Filctoll, alkoholosOHP F-M-C</td><td>41</td><td>9</td><td>103</td><td>70</td></tr>",
                            "<tr><td>07030105T</td><td>Filctoll, alkoholos Centropen</td><td>41</td><td>5</td><td>114</td><td>74</td></tr>",
                            "<tr><td>07040101T</td><td>Filctoll permanent vastag</td><td>41</td><td>9</td><td>140</td><td>85</td></tr>",
                            "<tr><td>07030107T</td><td>Filctoll, textil Edding 4500</td><td>41</td><td>5</td><td>276</td><td>127</td></tr>",
                            "<tr><td>07040098T</td><td>Filctoll document pen</td><td>41</td><td>5</td><td>278</td><td>128</td></tr>",
                            "<tr><td>07040100T</td><td>Filctoll Marvy alkoholos</td><td>41</td><td>5</td><td>390</td><td>149</td></tr>",
                            "<tr><td>07040099T</td><td>Filctoll Edding 750</td><td>41</td><td>9</td><td>434</td><td>156</td></tr>",
                            "<tr><td>07040257T</td><td>Lakk filc Edding 750</td><td>41</td><td>8</td><td>434</td><td>156</td></tr>",
                            "<tr><td>02080109T</td><td>Floppy lemez</td><td>42</td><td>7</td><td>51</td><td>40</td></tr>",
                            "<tr><td>02040507T</td><td>Fólia tasakos A4 80 mik.</td><td>43</td><td>8</td><td>40</td><td>31</td></tr>",
                            "<tr><td>02040508T</td><td>Fólia tasakos A4100 mik.</td><td>43</td><td>8</td><td>44</td><td>34</td></tr>",
                            "<tr><td>02040506T</td><td>Fólia tasakos A4 125 mik.</td><td>43</td><td>9</td><td>44</td><td>34</td></tr>",
                            "<tr><td>01010110T</td><td>Fotópapír A/4 fényes</td><td>44</td><td>9</td><td>30</td><td>23</td></tr>",
                            "<tr><td>06010114T</td><td>Füzet A/5 hangjegy 36/16</td><td>45</td><td>6</td><td>30</td><td>23</td></tr>",
                            "<tr><td>06080116T</td><td>Füzet A5 1-8 osz.-ig</td><td>45</td><td>7</td><td>34</td><td>26</td></tr>",
                            "<tr><td>06010113T</td><td>Füzet 31-32 szótár</td><td>45</td><td>8</td><td>34</td><td>26</td></tr>",
                            "<tr><td>06010115T</td><td>Füzet A/5, mintás</td><td>45</td><td>9</td><td>48</td><td>37</td></tr>",
                            "<tr><td>06010111T</td><td>Füzet  A/4 </td><td>45</td><td>9</td><td>68</td><td>52</td></tr>",
                            "<tr><td>06010112T</td><td>Füzet  A4 mintás</td><td>45</td><td>9</td><td>78</td><td>57</td></tr>",
                            "<tr><td>06040357T</td><td>Sp.Füzet A/5 70-es</td><td>45</td><td>6</td><td>89</td><td>62</td></tr>",
                            "<tr><td>06040356T</td><td>Sp.Füzet A/4  70es</td><td>45</td><td>8</td><td>144</td><td>86</td></tr>",
                            "<tr><td>06040355T</td><td>Sp.Füzet A/4 70-as</td><td>45</td><td>8</td><td>155</td><td>89</td></tr>",
                            "<tr><td>06080426T</td><td>Szótárfüzet Lizzy</td><td>45</td><td>7</td><td>161</td><td>90</td></tr>",
                            "<tr><td>06040354T</td><td>Sp.Füzet A/4  perforált, lyuk.</td><td>45</td><td>5</td><td>206</td><td>109</td></tr>",
                            "<tr><td>06080118T</td><td>Füzetborító átlátszó A5</td><td>46</td><td>6</td><td>8</td><td>6</td></tr>",
                            "<tr><td>06080117T</td><td>Füzetborító A/4 átlátszó</td><td>46</td><td>6</td><td>10</td><td>8</td></tr>",
                            "<tr><td>06080122T</td><td>Füzetborító öntapadós nagy</td><td>46</td><td>7</td><td>19</td><td>15</td></tr>",
                            "<tr><td>06080119T</td><td>Füzetborító mesefig.</td><td>46</td><td>2</td><td>19</td><td>15</td></tr>",
                            "<tr><td>06080120T</td><td>Füzetborító öntapadó kicsi</td><td>46</td><td>9</td><td>23</td><td>17</td></tr>",
                            "<tr><td>06080424T</td><td>Füzetborító A/4 mintás</td><td>46</td><td>9</td><td>24</td><td>18</td></tr>",
                            "<tr><td>06080121T</td><td>Füzetborító öntapadó tekercses</td><td>46</td><td>7</td><td>195</td><td>106</td></tr>",
                            "<tr><td>06080126T</td><td>Füzettartó A/5  </td><td>47</td><td>9</td><td>203</td><td>108</td></tr>",
                            "<tr><td>06080125T</td><td>Füzettartó A/5 vastag</td><td>47</td><td>7</td><td>411</td><td>154</td></tr>",
                            "<tr><td>06080124T</td><td>Füzettartó A/4 keménytáblás</td><td>47</td><td>6</td><td>508</td><td>164</td></tr>",
                            "<tr><td>06080123T</td><td>Füzettartó A/4 keménytáblás</td><td>47</td><td>6</td><td>551</td><td>167</td></tr>",
                            "<tr><td>02040145T</td><td>Gemkapocs 28 mm</td><td>48</td><td>8</td><td>30</td><td>23</td></tr>",
                            "<tr><td>02040146T</td><td>Gemkapocs ICO</td><td>48</td><td>7</td><td>48</td><td>37</td></tr>",
                            "<tr><td>02080450T</td><td>Gémkapocs 28-as színes</td><td>49</td><td>8</td><td>44</td><td>34</td></tr>",
                            "<tr><td>02080451T</td><td>Gémkapocs 50-es</td><td>49</td><td>5</td><td>103</td><td>70</td></tr>",
                            "<tr><td>02080456T</td><td>Genoterm HERLITZ 10-es</td><td>50</td><td>7</td><td>89</td><td>62</td></tr>",
                            "<tr><td>02040147T</td><td>Genotherm lefűzhető A/5</td><td>51</td><td>8</td><td>8</td><td>6</td></tr>",
                            "<tr><td>02040148T</td><td>Genotherm lefűzhető A4 10db-os</td><td>51</td><td>9</td><td>63</td><td>48</td></tr>",
                            "<tr><td>02040149T</td><td>Genotherm A4 10db-os</td><td>51</td><td>7</td><td>110</td><td>73</td></tr>",
                            "<tr><td>07080156T</td><td>Golyóstoll kupakos piros</td><td>52</td><td>8</td><td>23</td><td>17</td></tr>",
                            "<tr><td>07080155T</td><td>Golyóstoll</td><td>52</td><td>5</td><td>33</td><td>25</td></tr>",
                            "<tr><td>07080153T</td><td>Golyóstoll illatos ICO</td><td>52</td><td>8</td><td>41</td><td>32</td></tr>",
                            "<tr><td>07080161T</td><td>Golyóstoll kétszínű</td><td>52</td><td>9</td><td>44</td><td>34</td></tr>",
                            "<tr><td>07080150T</td><td>Golyóstoll</td><td>52</td><td>6</td><td>51</td><td>40</td></tr>",
                            "<tr><td>07080159T</td><td>Golyóstoll Pax tip.</td><td>52</td><td>8</td><td>63</td><td>48</td></tr>",
                            "<tr><td>07080466T</td><td>Golyóstoll Stabiló 308</td><td>52</td><td>9</td><td>81</td><td>60</td></tr>",
                            "<tr><td>07080157T</td><td>Golyóstoll Montex Hytone</td><td>52</td><td>7</td><td>93</td><td>64</td></tr>",
                            "<tr><td>07040169T</td><td>Golyóstoll Zodiák</td><td>52</td><td>8</td><td>94</td><td>65</td></tr>",
                            "<tr><td>07080162T</td><td>Golyóstoll Stabilo piros</td><td>52</td><td>6</td><td>101</td><td>69</td></tr>",
                            "<tr><td>07080468T</td><td>Golyóstoll háromfunkciós</td><td>52</td><td>6</td><td>110</td><td>73</td></tr>",
                            "<tr><td>07080470T</td><td>Golyóstoll háromszög</td><td>52</td><td>7</td><td>188</td><td>102</td></tr>",
                            "<tr><td>07040168T</td><td>Golyóstoll Zebra new hard</td><td>52</td><td>8</td><td>189</td><td>103</td></tr>",
                            "<tr><td>07040165T</td><td>Golyóstoll UNI laknock</td><td>52</td><td>9</td><td>218</td><td>113</td></tr>",
                            "<tr><td>07080163T</td><td>Golyóstoll UNI átlátszó</td><td>52</td><td>5</td><td>230</td><td>116</td></tr>",
                            "<tr><td>07080164T</td><td>Golyóstoll UNI gumis</td><td>52</td><td>6</td><td>231</td><td>117</td></tr>",
                            "<tr><td>07080160T</td><td>Golyóstoll penac</td><td>52</td><td>7</td><td>239</td><td>119</td></tr>",
                            "<tr><td>07080467T</td><td>Golyóstoll kétfunkciós ICO</td><td>52</td><td>8</td><td>273</td><td>126</td></tr>",
                            "<tr><td>07080471T</td><td>Golyóstoll levélbontós</td><td>52</td><td>7</td><td>294</td><td>133</td></tr>",
                            "<tr><td>07080469T</td><td>Golyóstoll UNIBALL 07</td><td>52</td><td>8</td><td>364</td><td>148</td></tr>",
                            "<tr><td>07080151T</td><td>Golyóstoll + ceruza Twister 2in1</td><td>52</td><td>9</td><td>390</td><td>149</td></tr>",
                            "<tr><td>07080154T</td><td>Golyóstoll INOXCROM</td><td>52</td><td>6</td><td>401</td><td>150</td></tr>",
                            "<tr><td>07040166T</td><td>Golyóstoll Zebra 301</td><td>52</td><td>8</td><td>455</td><td>160</td></tr>",
                            "<tr><td>07040167T</td><td>Golyóstoll Zebra mini</td><td>52</td><td>9</td><td>655</td><td>172</td></tr>",
                            "<tr><td>07080158T</td><td>Golyóstoll Parker tokban</td><td>52</td><td>5</td><td>773</td><td>183</td></tr>",
                            "<tr><td>07080152T</td><td>Golyóstoll 3 funkciós </td><td>52</td><td>5</td><td>1019</td><td>191</td></tr>",
                            "<tr><td>05050170T</td><td>Gumigyűrű</td><td>53</td><td>9</td><td>19</td><td>15</td></tr>",
                            "<tr><td>L064-CI401</td><td>gyermek szandál (lány)</td><td>54</td><td>3</td><td>6900</td><td>207</td></tr>",
                            "<tr><td>G064-CI401</td><td>gyermek szandál (fiú)</td><td>54</td><td>1</td><td>6900</td><td>207</td></tr>",
                            "<tr><td>G073-CI410</td><td>gyermek cipő (fiú)</td><td>54</td><td>2</td><td>7900</td><td>209</td></tr>",
                            "<tr><td>L073-CI410</td><td>gyermek cipő (lány)</td><td>54</td><td>3</td><td>7900</td><td>209</td></tr>",
                            "<tr><td>L082-CI419</td><td>gyermek csizma (lány)</td><td>54</td><td>1</td><td>8000</td><td>210</td></tr>",
                            "<tr><td>G082-CI419</td><td>gyermek csizma (fiú)</td><td>54</td><td>3</td><td>8000</td><td>210</td></tr>",
                            "<tr><td>L001-KB101</td><td>gyermek kabát (lány)</td><td>55</td><td>1</td><td>8900</td><td>212</td></tr>",
                            "<tr><td>G001-KB101</td><td>gyermek kabát (fiú)</td><td>55</td><td>1</td><td>8900</td><td>212</td></tr>",
                            "<tr><td>G019-NA207</td><td>gyermek pamut nadrág (fiú)</td><td>56</td><td>3</td><td>1290</td><td>195</td></tr>",
                            "<tr><td>L019-NA207</td><td>gyermek pamut nadrág (lány)</td><td>56</td><td>1</td><td>1290</td><td>195</td></tr>",
                            "<tr><td>G013-NA201</td><td>gyermek farmer nadrág (fiú)</td><td>56</td><td>3</td><td>4990</td><td>205</td></tr>",
                            "<tr><td>L013-NA201</td><td>gyermek farmer nadrág (lány)</td><td>56</td><td>3</td><td>4990</td><td>205</td></tr>",
                            "<tr><td>L048-PO218</td><td>gyermek póló (lány)</td><td>57</td><td>3</td><td>3900</td><td>203</td></tr>",
                            "<tr><td>G048-PO218</td><td>gyermek póló (fiú)</td><td>57</td><td>3</td><td>3900</td><td>203</td></tr>",
                            "<tr><td>02040176T</td><td>Gyorsfűző dosszié fehér</td><td>58</td><td>7</td><td>18</td><td>14</td></tr>",
                            "<tr><td>02040177T</td><td>Gyorsfűző műa.</td><td>58</td><td>5</td><td>30</td><td>23</td></tr>",
                            "<tr><td>02040178T</td><td>Gyorsfűző műa.</td><td>58</td><td>8</td><td>35</td><td>27</td></tr>",
                            "<tr><td>06080441T</td><td>Gyurmakés</td><td>59</td><td>9</td><td>121</td><td>78</td></tr>",
                            "<tr><td>06080440T</td><td>Gyurma 12 szinű</td><td>59</td><td>5</td><td>161</td><td>90</td></tr>",
                            "<tr><td>06040179T</td><td>Gyurma színes 200 g-os</td><td>59</td><td>6</td><td>180</td><td>98</td></tr>",
                            "<tr><td>06040180T</td><td>Gyurma színes natúr</td><td>59</td><td>8</td><td>228</td><td>115</td></tr>",
                            "<tr><td>06040183T</td><td>Gyűrűskönyv bet. A/5</td><td>60</td><td>9</td><td>95</td><td>66</td></tr>",
                            "<tr><td>06040182T</td><td>Gyűrűskönyv bet. A/4</td><td>60</td><td>7</td><td>184</td><td>100</td></tr>",
                            "<tr><td>06040184T</td><td>Gyűrűskönyv betét A/5</td><td>60</td><td>9</td><td>218</td><td>113</td></tr>",
                            "<tr><td>06040185T</td><td>Gyűrűskönyv</td><td>60</td><td>9</td><td>581</td><td>168</td></tr>",
                            "<tr><td>06040186T</td><td>Gyűrűskönyv színes</td><td>60</td><td>6</td><td>699</td><td>178</td></tr>",
                            "<tr><td>04050187T</td><td>Hajgumi macis</td><td>61</td><td>8</td><td>66</td><td>51</td></tr>",
                            "<tr><td>02020444T</td><td>Határidő napló A/6</td><td>62</td><td>9</td><td>464</td><td>161</td></tr>",
                            "<tr><td>04020445T</td><td>Határidő napló 2010-s</td><td>62</td><td>9</td><td>728</td><td>180</td></tr>",
                            "<tr><td>06080190T</td><td>Hegyező műanyag egyes</td><td>64</td><td>6</td><td>23</td><td>17</td></tr>",
                            "<tr><td>06080189T</td><td>Hegyező műanyag dupla</td><td>64</td><td>6</td><td>30</td><td>23</td></tr>",
                            "<tr><td>06080191T</td><td>Hegyező tartályos egyes</td><td>64</td><td>8</td><td>30</td><td>23</td></tr>",
                            "<tr><td>06080188T</td><td>Hegyező gép</td><td>64</td><td>8</td><td>875</td><td>189</td></tr>",
                            "<tr><td>06080192T</td><td>Hegyző fém 1 lyukú</td><td>65</td><td>9</td><td>70</td><td>53</td></tr>",
                            "<tr><td>06080193T</td><td>Hegyző fém 2 lyukú</td><td>65</td><td>7</td><td>180</td><td>98</td></tr>",
                            "<tr><td>02040197T</td><td>Hibajavító lap </td><td>66</td><td>9</td><td>81</td><td>60</td></tr>",
                            "<tr><td>02040198T</td><td>Hibajavító roller 5 mm</td><td>66</td><td>7</td><td>133</td><td>84</td></tr>",
                            "<tr><td>02040195T</td><td>Hibajavító ecsetes Aqua</td><td>66</td><td>5</td><td>185</td><td>101</td></tr>",
                            "<tr><td>02040196T</td><td>Hibajavító készlet Blanco</td><td>66</td><td>7</td><td>273</td><td>126</td></tr>",
                            "<tr><td>02040200T</td><td>Hibajavító Kores mini pen</td><td>66</td><td>6</td><td>278</td><td>128</td></tr>",
                            "<tr><td>02040199T</td><td>Hibajavító roller Pax</td><td>66</td><td>7</td><td>286</td><td>129</td></tr>",
                            "<tr><td>02040194T</td><td>Hibajav.roll.Pritt 4,2mm</td><td>66</td><td>8</td><td>794</td><td>186</td></tr>",
                            "<tr><td>04050203T</td><td>Hűtőmágnes</td><td>67</td><td>7</td><td>24</td><td>18</td></tr>",
                            "<tr><td>04050204T</td><td>Hűtőmágnes WD</td><td>67</td><td>8</td><td>169</td><td>94</td></tr>",
                            "<tr><td>06040206T</td><td>kék indigó</td><td>68</td><td>5</td><td>12</td><td>10</td></tr>",
                            "<tr><td>06040205T</td><td>Indigó Pelikán</td><td>68</td><td>5</td><td>15</td><td>13</td></tr>",
                            "<tr><td>02040207T</td><td>Iratgyűjtő ESSELTE ablakos</td><td>70</td><td>6</td><td>19</td><td>15</td></tr>",
                            "<tr><td>02040208T</td><td>Iratgyűjtő fehér</td><td>70</td><td>8</td><td>19</td><td>15</td></tr>",
                            "<tr><td>02040025T</td><td>Álló irattartó karton</td><td>70</td><td>8</td><td>133</td><td>84</td></tr>",
                            "<tr><td>02040211T</td><td>Iratrendező ESSELTE</td><td>71</td><td>9</td><td>243</td><td>121</td></tr>",
                            "<tr><td>02080432T</td><td>Tokos iratrendező</td><td>71</td><td>5</td><td>259</td><td>124</td></tr>",
                            "<tr><td>02040209T</td><td>Iratsín fehér</td><td>72</td><td>7</td><td>44</td><td>34</td></tr>",
                            "<tr><td>02040210T</td><td>Iratsín kék</td><td>72</td><td>6</td><td>89</td><td>62</td></tr>",
                            "<tr><td>02080436T</td><td>Irattartó müa. boríték A/4</td><td>73</td><td>7</td><td>66</td><td>51</td></tr>",
                            "<tr><td>02080431T</td><td>Álló irattartó</td><td>73</td><td>8</td><td>214</td><td>112</td></tr>",
                            "<tr><td>02040214T</td><td>Iromány fedél feles</td><td>74</td><td>5</td><td>59</td><td>45</td></tr>",
                            "<tr><td>06040212T</td><td>Írólap 10-50 ffam.</td><td>75</td><td>8</td><td>29</td><td>22</td></tr>",
                            "<tr><td>06040213T</td><td>Írólap 20-50 </td><td>75</td><td>8</td><td>34</td><td>26</td></tr>",
                            "<tr><td>07040218T</td><td>Ironbél HB 0,5</td><td>76</td><td>6</td><td>23</td><td>17</td></tr>",
                            "<tr><td>07040216T</td><td>Ironbél B 0,5</td><td>76</td><td>5</td><td>36</td><td>28</td></tr>",
                            "<tr><td>07040217T</td><td>Ironbél H 0,5</td><td>76</td><td>6</td><td>59</td><td>45</td></tr>",
                            "<tr><td>07040215T</td><td>Ironbél  2B ICO</td><td>76</td><td>7</td><td>74</td><td>55</td></tr>",
                            "<tr><td>07040219T</td><td>Ironbél HI-POLIMER HB 0,7</td><td>76</td><td>6</td><td>78</td><td>57</td></tr>",
                            "<tr><td>06040089T</td><td>Ellenőrzőborító</td><td>78</td><td>7</td><td>5</td><td>4</td></tr>",
                            "<tr><td>06040181T</td><td>Gyűjtőlap A/4</td><td>78</td><td>6</td><td>8</td><td>6</td></tr>",
                            "<tr><td>06040353T</td><td>Sorvezető</td><td>78</td><td>5</td><td>8</td><td>6</td></tr>",
                            "<tr><td>06010305T</td><td>Papírcenti 100 cm-es</td><td>78</td><td>6</td><td>9</td><td>7</td></tr>",
                            "<tr><td>06040383T</td><td>Taffet papír</td><td>78</td><td>6</td><td>19</td><td>15</td></tr>",
                            "<tr><td>06010202T</td><td>Hurkapálca 10 db-os</td><td>78</td><td>6</td><td>23</td><td>17</td></tr>",
                            "<tr><td>06010036T</td><td>Betűtartó sin</td><td>78</td><td>7</td><td>33</td><td>25</td></tr>",
                            "<tr><td>06010367T</td><td>Számolókorong</td><td>78</td><td>6</td><td>35</td><td>27</td></tr>",
                            "<tr><td>07050463T</td><td>Ceruzafogó</td><td>78</td><td>8</td><td>36</td><td>28</td></tr>",
                            "<tr><td>06010365T</td><td>Számegyenes</td><td>78</td><td>8</td><td>36</td><td>28</td></tr>",
                            "<tr><td>06010201T</td><td>Hőmérő, műa.</td><td>78</td><td>6</td><td>36</td><td>28</td></tr>",
                            "<tr><td>06010373T</td><td>Színes papír I.II-IV.V-VIII-ig</td><td>78</td><td>8</td><td>43</td><td>33</td></tr>",
                            "<tr><td>06010374T</td><td>Szorzótábla műanyag</td><td>78</td><td>8</td><td>45</td><td>35</td></tr>",
                            "<tr><td>06040088T</td><td>Egészségügyi könyv</td><td>78</td><td>7</td><td>51</td><td>40</td></tr>",
                            "<tr><td>06040384T</td><td>Technika cs. I-II-III-IV</td><td>78</td><td>5</td><td>58</td><td>44</td></tr>",
                            "<tr><td>06010368T</td><td>Számolópálca</td><td>78</td><td>5</td><td>61</td><td>47</td></tr>",
                            "<tr><td>06050249T</td><td>Krepp papír</td><td>78</td><td>5</td><td>73</td><td>54</td></tr>",
                            "<tr><td>06080430T</td><td>Öntapadős betűk</td><td>78</td><td>7</td><td>74</td><td>55</td></tr>",
                            "<tr><td>06040352T</td><td>Rovatolt papír 20 íves</td><td>78</td><td>6</td><td>103</td><td>70</td></tr>",
                            "<tr><td>06040399T</td><td>Tombola tömb</td><td>78</td><td>7</td><td>125</td><td>81</td></tr>",
                            "<tr><td>06080259T</td><td>Leckefüzet</td><td>78</td><td>6</td><td>161</td><td>90</td></tr>",
                            "<tr><td>06080427T</td><td>Ablakkréta</td><td>78</td><td>9</td><td>161</td><td>90</td></tr>",
                            "<tr><td>06080422T</td><td>Füzettartó A/4</td><td>78</td><td>7</td><td>324</td><td>140</td></tr>",
                            "<tr><td>06040400T</td><td>Tornazsák</td><td>78</td><td>8</td><td>511</td><td>165</td></tr>",
                            "<tr><td>04050220T</td><td>Játék autó</td><td>79</td><td>7</td><td>65</td><td>50</td></tr>",
                            "<tr><td>04050223T</td><td>Játékautó mini</td><td>79</td><td>7</td><td>73</td><td>54</td></tr>",
                            "<tr><td>04050221T</td><td>Játékautó Blisteres</td><td>79</td><td>7</td><td>133</td><td>84</td></tr>",
                            "<tr><td>04050222T</td><td>Játékautó elemes</td><td>79</td><td>7</td><td>165</td><td>91</td></tr>",
                            "<tr><td>04050224T</td><td>Jelzőkréta</td><td>80</td><td>5</td><td>48</td><td>37</td></tr>",
                            "<tr><td>02080226T</td><td>Kapocskiszedő</td><td>82</td><td>8</td><td>106</td><td>71</td></tr>",
                            "<tr><td>01090515T</td><td>Színes A/3 160 gr IQ</td><td>83</td><td>5</td><td>11</td><td>9</td></tr>",
                            "<tr><td>01090516T</td><td>Színes karton A4</td><td>83</td><td>9</td><td>25</td><td>19</td></tr>",
                            "<tr><td>01080513T</td><td>Selyemfényű karton A/4</td><td>83</td><td>8</td><td>38</td><td>29</td></tr>",
                            "<tr><td>01100509T</td><td>Márványos A/4</td><td>83</td><td>6</td><td>40</td><td>31</td></tr>",
                            "<tr><td>01100070T</td><td>Dekorációs karton</td><td>83</td><td>5</td><td>73</td><td>54</td></tr>",
                            "<tr><td>01100071T</td><td>Dekorációs karton arany, ezüst</td><td>83</td><td>7</td><td>89</td><td>62</td></tr>",
                            "<tr><td>04050225T</td><td>Kártya mini Magyar</td><td>84</td><td>6</td><td>131</td><td>83</td></tr>",
                            "<tr><td>04030240T</td><td>Képeslap virágos</td><td>85</td><td>7</td><td>14</td><td>12</td></tr>",
                            "<tr><td>04030236T</td><td>Képeslap karácsonyi WD</td><td>85</td><td>6</td><td>15</td><td>13</td></tr>",
                            "<tr><td>04030234T</td><td>Képeslap karácsonyi</td><td>85</td><td>5</td><td>30</td><td>23</td></tr>",
                            "<tr><td>04110227T</td><td>Képeslap  borítékos</td><td>85</td><td>6</td><td>33</td><td>25</td></tr>",
                            "<tr><td>04110229T</td><td>Képeslap &quot;Részvét&quot;</td><td>85</td><td>5</td><td>33</td><td>25</td></tr>",
                            "<tr><td>04030237T</td><td>Képeslap kerek</td><td>85</td><td>9</td><td>36</td><td>28</td></tr>",
                            "<tr><td>04030241T</td><td>Képeslap virágos +boríték</td><td>85</td><td>8</td><td>44</td><td>34</td></tr>",
                            "<tr><td>04030239T</td><td>Képeslap stancolt szív</td><td>85</td><td>9</td><td>48</td><td>37</td></tr>",
                            "<tr><td>04110232T</td><td>Képeslap humoros kaparós</td><td>85</td><td>8</td><td>51</td><td>40</td></tr>",
                            "<tr><td>04110230T</td><td>Képeslap humoros </td><td>85</td><td>6</td><td>55</td><td>42</td></tr>",
                            "<tr><td>04030238T</td><td>Képeslap stancolt</td><td>85</td><td>9</td><td>59</td><td>45</td></tr>",
                            "<tr><td>04030235T</td><td>Képeslap karácsonyi borítékos</td><td>85</td><td>7</td><td>73</td><td>54</td></tr>",
                            "<tr><td>04110231T</td><td>Képeslap humoros borítékos</td><td>85</td><td>5</td><td>81</td><td>60</td></tr>",
                            "<tr><td>04110233T</td><td>Képeslap humoros</td><td>85</td><td>5</td><td>89</td><td>62</td></tr>",
                            "<tr><td>04030242T</td><td>Képeslap WD +boríték</td><td>85</td><td>8</td><td>118</td><td>76</td></tr>",
                            "<tr><td>04110228T</td><td>Képeslap &quot;Nászajándék&quot;</td><td>85</td><td>9</td><td>184</td><td>100</td></tr>",
                            "<tr><td>04030243T</td><td>Képkirakó Dirib-darab</td><td>86</td><td>7</td><td>195</td><td>106</td></tr>",
                            "<tr><td>N035-AL218</td><td>kosztüm (rövid)</td><td>88</td><td>3</td><td>39000</td><td>219</td></tr>",
                            "<tr><td>N039-AL222</td><td>kosztüm (hosszú)</td><td>88</td><td>2</td><td>46000</td><td>220</td></tr>",
                            "<tr><td>06040247T</td><td>Körzőhegy grafit</td><td>89</td><td>8</td><td>30</td><td>23</td></tr>",
                            "<tr><td>06040246T</td><td>Körző</td><td>89</td><td>5</td><td>161</td><td>90</td></tr>",
                            "<tr><td>06040248T</td><td>Körző maped</td><td>89</td><td>6</td><td>243</td><td>121</td></tr>",
                            "<tr><td>01090501T</td><td>Kreatív A/4 300g </td><td>90</td><td>8</td><td>4</td><td>3</td></tr>",
                            "<tr><td>01100510T</td><td>Kreatív A/4 120g </td><td>90</td><td>5</td><td>13</td><td>11</td></tr>",
                            "<tr><td>04050255T</td><td>Kulcstartó mesefigurás</td><td>91</td><td>9</td><td>36</td><td>28</td></tr>",
                            "<tr><td>04050253T</td><td>Kulcstartó figurás</td><td>91</td><td>8</td><td>103</td><td>70</td></tr>",
                            "<tr><td>04050250T</td><td>Kulcstartó autós</td><td>91</td><td>8</td><td>115</td><td>75</td></tr>",
                            "<tr><td>04050252T</td><td>Kulcstartó Csőrikés</td><td>91</td><td>8</td><td>124</td><td>80</td></tr>",
                            "<tr><td>04050256T</td><td>Kulcstartó nagyítós</td><td>91</td><td>9</td><td>129</td><td>82</td></tr>",
                            "<tr><td>04050251T</td><td>Kulcstartó billiárd golyós</td><td>91</td><td>8</td><td>148</td><td>88</td></tr>",
                            "<tr><td>04050254T</td><td>Kulcstartó intarziás állatos</td><td>91</td><td>9</td><td>155</td><td>89</td></tr>",
                            "<tr><td>04040387T</td><td>Tenisz labda</td><td>92</td><td>8</td><td>81</td><td>60</td></tr>",
                            "<tr><td>04050171T</td><td>Gumilabda közepes</td><td>92</td><td>7</td><td>110</td><td>73</td></tr>",
                            "<tr><td>04030260T</td><td>Levélpapír A/4</td><td>93</td><td>6</td><td>15</td><td>13</td></tr>",
                            "<tr><td>04030262T</td><td>Levélpapír sima</td><td>93</td><td>6</td><td>56</td><td>43</td></tr>",
                            "<tr><td>04030264T</td><td>Levélpapír szett </td><td>93</td><td>6</td><td>74</td><td>55</td></tr>",
                            "<tr><td>04030263T</td><td>Levélpapír szett</td><td>93</td><td>7</td><td>89</td><td>62</td></tr>",
                            "<tr><td>04030265T</td><td>Levélpapír szett natur, mintás</td><td>93</td><td>6</td><td>103</td><td>70</td></tr>",
                            "<tr><td>04030261T</td><td>Levélpapír állatos</td><td>93</td><td>6</td><td>140</td><td>85</td></tr>",
                            "<tr><td>04030266T</td><td>Levélpapír szett virágos</td><td>93</td><td>7</td><td>169</td><td>94</td></tr>",
                            "<tr><td>04050269T</td><td>Lufi hullámos</td><td>94</td><td>6</td><td>11</td><td>9</td></tr>",
                            "<tr><td>04050268T</td><td>Lufi formázható</td><td>94</td><td>7</td><td>15</td><td>13</td></tr>",
                            "<tr><td>02080453T</td><td>Lyukasztó EAGLE</td><td>95</td><td>7</td><td>526</td><td>166</td></tr>",
                            "<tr><td>02080454T</td><td>Lyukasztó BOXER</td><td>95</td><td>9</td><td>765</td><td>182</td></tr>",
                            "<tr><td>06040174T</td><td>Gumis mappa </td><td>96</td><td>6</td><td>148</td><td>88</td></tr>",
                            "<tr><td>02080435T</td><td>Mappa bemutató</td><td>96</td><td>9</td><td>184</td><td>100</td></tr>",
                            "<tr><td>06040175T</td><td>Gumis mappa Köbüki</td><td>96</td><td>8</td><td>191</td><td>105</td></tr>",
                            "<tr><td>06040172T</td><td>Gumis mappa csomagolt</td><td>96</td><td>7</td><td>195</td><td>106</td></tr>",
                            "<tr><td>02080434T</td><td>Mappa müa A/4</td><td>96</td><td>8</td><td>210</td><td>110</td></tr>",
                            "<tr><td>06040173T</td><td>Gumis mappa fóliázott állatos</td><td>96</td><td>7</td><td>211</td><td>111</td></tr>",
                            "<tr><td>04080271T</td><td>Mappa PVC villámzáras</td><td>96</td><td>8</td><td>264</td><td>125</td></tr>",
                            "<tr><td>04080272T</td><td>Mappa PVC villámzáras  képes</td><td>96</td><td>9</td><td>360</td><td>147</td></tr>",
                            "<tr><td>04080270T</td><td>Mappa bőr A5</td><td>96</td><td>6</td><td>1765</td><td>200</td></tr>",
                            "<tr><td>04110274T</td><td>Matrica autóra H</td><td>97</td><td>5</td><td>49</td><td>38</td></tr>",
                            "<tr><td>04110275T</td><td>Matrica motoros kicsi</td><td>97</td><td>9</td><td>49</td><td>38</td></tr>",
                            "<tr><td>04110273T</td><td>Matrica állatos</td><td>97</td><td>5</td><td>55</td><td>42</td></tr>",
                            "<tr><td>04110282T</td><td>Matrica WD kicsi</td><td>97</td><td>5</td><td>56</td><td>43</td></tr>",
                            "<tr><td>04110277T</td><td>Matrica Stickers szíves</td><td>97</td><td>6</td><td>93</td><td>64</td></tr>",
                            "<tr><td>04110276T</td><td>Matrica Stickers nagy állatos</td><td>97</td><td>9</td><td>109</td><td>72</td></tr>",
                            "<tr><td>04110280T</td><td>Matrica tetoválós kicsi</td><td>97</td><td>9</td><td>148</td><td>88</td></tr>",
                            "<tr><td>04110278T</td><td>Matrica Test ékszer tattoo</td><td>97</td><td>8</td><td>161</td><td>90</td></tr>",
                            "<tr><td>04110279T</td><td>Matrica tetoválás</td><td>97</td><td>7</td><td>168</td><td>93</td></tr>",
                            "<tr><td>04110281T</td><td>Matrica világítós </td><td>97</td><td>9</td><td>175</td><td>96</td></tr>",
                            "<tr><td>01030092T</td><td>Esküvői meghívó</td><td>98</td><td>9</td><td>59</td><td>45</td></tr>",
                            "<tr><td>06080429T</td><td>Meghívó ballagási</td><td>98</td><td>6</td><td>63</td><td>48</td></tr>",
                            "<tr><td>04110283T</td><td>Meghívó állatos</td><td>98</td><td>5</td><td>155</td><td>89</td></tr>",
                            "<tr><td>04110284T</td><td>Meghívó borítékos</td><td>98</td><td>5</td><td>169</td><td>94</td></tr>",
                            "<tr><td>06080425T</td><td>Miliméterpapír</td><td>99</td><td>6</td><td>8</td><td>6</td></tr>",
                            "<tr><td>08070482T</td><td>Fizika munkafüzet 14 év.</td><td>100</td><td>5</td><td>190</td><td>104</td></tr>",
                            "<tr><td>08070481T</td><td>Fizika munkafüzet 13 év.</td><td>100</td><td>7</td><td>198</td><td>107</td></tr>",
                            "<tr><td>08070476T</td><td>Anyanyelvi gyakorló 2</td><td>100</td><td>6</td><td>293</td><td>132</td></tr>",
                            "<tr><td>08070477T</td><td>Anyanyelvi gyakorló 3</td><td>100</td><td>6</td><td>353</td><td>145</td></tr>",
                            "<tr><td>08070486T</td><td>Matematika gyakorló 2</td><td>100</td><td>6</td><td>403</td><td>151</td></tr>",
                            "<tr><td>08070487T</td><td>Matematika gyakorló 3</td><td>100</td><td>6</td><td>403</td><td>151</td></tr>",
                            "<tr><td>08070488T</td><td>Matematika gyakorló 4</td><td>100</td><td>9</td><td>403</td><td>151</td></tr>",
                            "<tr><td>08070475T</td><td>A föld amelyen élünk - munkafüzet</td><td>100</td><td>5</td><td>440</td><td>158</td></tr>",
                            "<tr><td>08070478T</td><td>Összefoglaló feladatgyüjtemény számtech.</td><td>100</td><td>8</td><td>785</td><td>185</td></tr>",
                            "<tr><td>01090498T</td><td>Műnyomó 300g 17,5*20</td><td>101</td><td>8</td><td>3</td><td>2</td></tr>",
                            "<tr><td>02040290T</td><td>Naptár 24-es</td><td>103</td><td>8</td><td>89</td><td>62</td></tr>",
                            "<tr><td>02040291T</td><td>Naptárhát kicsi</td><td>104</td><td>8</td><td>15</td><td>13</td></tr>",
                            "<tr><td>02040292T</td><td>Naptárhát nagy</td><td>104</td><td>9</td><td>78</td><td>57</td></tr>",
                            "<tr><td>02040293T</td><td>Névjegytartó kicsi</td><td>105</td><td>9</td><td>310</td><td>137</td></tr>",
                            "<tr><td>02040298T</td><td>Notesz mintás</td><td>106</td><td>6</td><td>44</td><td>34</td></tr>",
                            "<tr><td>02040296T</td><td>Notesz A/6 College</td><td>106</td><td>6</td><td>56</td><td>43</td></tr>",
                            "<tr><td>02040295T</td><td>Notesz A/5 sima spirál</td><td>106</td><td>9</td><td>89</td><td>62</td></tr>",
                            "<tr><td>02040294T</td><td>Notesz A/5 sima</td><td>106</td><td>5</td><td>103</td><td>70</td></tr>",
                            "<tr><td>02040297T</td><td>Notesz sima spirál College</td><td>106</td><td>9</td><td>103</td><td>70</td></tr>",
                            "<tr><td>N001-KB101</td><td>női szövet kabát</td><td>107</td><td>1</td><td>24000</td><td>217</td></tr>",
                            "<tr><td>N008-NA201</td><td>női farmer nadrág</td><td>108</td><td>2</td><td>8290</td><td>211</td></tr>",
                            "<tr><td>01090517T</td><td>Színes ofszet B/4</td><td>109</td><td>7</td><td>4</td><td>3</td></tr>",
                            "<tr><td>01020299T</td><td>Oklevél A/4 egyszínű</td><td>110</td><td>9</td><td>48</td><td>37</td></tr>",
                            "<tr><td>01020300T</td><td>Oklevél A/4 színes</td><td>110</td><td>9</td><td>55</td><td>42</td></tr>",
                            "<tr><td>06050301T</td><td>Olló gyerek </td><td>111</td><td>8</td><td>133</td><td>84</td></tr>",
                            "<tr><td>06050303T</td><td>Olló, iskolai</td><td>111</td><td>7</td><td>161</td><td>90</td></tr>",
                            "<tr><td>06050302T</td><td>Olló Tagit 18 cm-es</td><td>111</td><td>5</td><td>176</td><td>97</td></tr>",
                            "<tr><td>01010304T</td><td>Öntapadós hologramos papír A/4</td><td>112</td><td>8</td><td>59</td><td>45</td></tr>",
                            "<tr><td>01080512T</td><td>Öntapadó A/4</td><td>112</td><td>5</td><td>4575</td><td>204</td></tr>",
                            "<tr><td>05010306T</td><td>Papízsebkendő,10db Szindy</td><td>114</td><td>8</td><td>20</td><td>16</td></tr>",
                            "<tr><td>01040307T</td><td>Pausz papír A/4</td><td>115</td><td>8</td><td>15</td><td>13</td></tr>",
                            "<tr><td>02020245T</td><td>Kiadási pénztárbizonylat 2×25</td><td>116</td><td>7</td><td>103</td><td>70</td></tr>",
                            "<tr><td>02020037T</td><td>Bevételi pénztárbizonylat 3×25</td><td>116</td><td>6</td><td>144</td><td>86</td></tr>",
                            "<tr><td>02040308T</td><td>Pénztárgépsz. 2 pl. nem öníró</td><td>117</td><td>9</td><td>81</td><td>60</td></tr>",
                            "<tr><td>02040309T</td><td>Pénztárgépszalag 2pl SC 57.5/60</td><td>117</td><td>6</td><td>93</td><td>64</td></tr>",
                            "<tr><td>07080313T</td><td>Pixiron Centrum</td><td>118</td><td>9</td><td>59</td><td>45</td></tr>",
                            "<tr><td>07080317T</td><td>Pixiron mini </td><td>118</td><td>5</td><td>59</td><td>45</td></tr>",
                            "<tr><td>07080315T</td><td>Pixiron Handy műanyag</td><td>118</td><td>8</td><td>94</td><td>65</td></tr>",
                            "<tr><td>07080312T</td><td>Pixiron 0,7 Handy</td><td>118</td><td>5</td><td>125</td><td>81</td></tr>",
                            "<tr><td>07080314T</td><td>Pixiron Handy fém</td><td>118</td><td>8</td><td>133</td><td>84</td></tr>",
                            "<tr><td>07080318T</td><td>Pixiron Penac</td><td>118</td><td>5</td><td>235</td><td>118</td></tr>",
                            "<tr><td>07080311T</td><td>Pixiron  UNI</td><td>118</td><td>8</td><td>276</td><td>127</td></tr>",
                            "<tr><td>07080319T</td><td>Pixiron Pentel színes</td><td>118</td><td>7</td><td>299</td><td>135</td></tr>",
                            "<tr><td>07080316T</td><td>Pixiron KOH-I-NOOR</td><td>118</td><td>8</td><td>468</td><td>162</td></tr>",
                            "<tr><td>04050321T</td><td>Plüss kicsi</td><td>119</td><td>7</td><td>161</td><td>90</td></tr>",
                            "<tr><td>04050320T</td><td>Plüss  QX állatok</td><td>119</td><td>9</td><td>173</td><td>95</td></tr>",
                            "<tr><td>04050322T</td><td>Plüss sárkány</td><td>119</td><td>5</td><td>314</td><td>138</td></tr>",
                            "<tr><td>06040323T</td><td>Post-it 51×38 100 lapos</td><td>121</td><td>8</td><td>36</td><td>28</td></tr>",
                            "<tr><td>06040324T</td><td>Post-it 75×75 100 lapos</td><td>121</td><td>7</td><td>89</td><td>62</td></tr>",
                            "<tr><td>06040326T</td><td>Radír KOH-I-NOR 80</td><td>122</td><td>8</td><td>19</td><td>15</td></tr>",
                            "<tr><td>06040327T</td><td>Radír Koh-i-nor 40</td><td>122</td><td>9</td><td>36</td><td>28</td></tr>",
                            "<tr><td>06040325T</td><td>Radír gyümölcsös</td><td>122</td><td>9</td><td>40</td><td>31</td></tr>",
                            "<tr><td>06040328T</td><td>Radír Maped</td><td>122</td><td>8</td><td>44</td><td>34</td></tr>",
                            "<tr><td>06040329T</td><td>Radír stabilo</td><td>122</td><td>6</td><td>44</td><td>34</td></tr>",
                            "<tr><td>06040331T</td><td>Radír Tikky 40 </td><td>122</td><td>8</td><td>49</td><td>38</td></tr>",
                            "<tr><td>06040330T</td><td>Radír Tikky 30 </td><td>122</td><td>7</td><td>50</td><td>39</td></tr>",
                            "<tr><td>06080332T</td><td>Radírtoll betét ER100</td><td>123</td><td>5</td><td>74</td><td>55</td></tr>",
                            "<tr><td>06080333T</td><td>Radírtoll betét vastag</td><td>123</td><td>7</td><td>119</td><td>77</td></tr>",
                            "<tr><td>06080336T</td><td>Ragasztó 8 g Pritt</td><td>124</td><td>9</td><td>81</td><td>60</td></tr>",
                            "<tr><td>06080339T</td><td>Ragasztó kores</td><td>124</td><td>5</td><td>89</td><td>62</td></tr>",
                            "<tr><td>06080338T</td><td>Ragasztó kenőfejes Nebuló</td><td>124</td><td>8</td><td>101</td><td>69</td></tr>",
                            "<tr><td>05040310T</td><td>Pill.ragasztó</td><td>124</td><td>8</td><td>103</td><td>70</td></tr>",
                            "<tr><td>06080335T</td><td>Ragasztó 9 g Pax</td><td>124</td><td>9</td><td>110</td><td>73</td></tr>",
                            "<tr><td>06080334T</td><td>Ragasztó szalag KORES </td><td>124</td><td>5</td><td>133</td><td>84</td></tr>",
                            "<tr><td>05080340T</td><td>Ragasztó, Technokol 35g kék</td><td>124</td><td>8</td><td>144</td><td>86</td></tr>",
                            "<tr><td>05080341T</td><td>Ragasztó, Technokol 35g piros</td><td>124</td><td>6</td><td>144</td><td>86</td></tr>",
                            "<tr><td>06080337T</td><td>Ragasztó Gyurma</td><td>124</td><td>7</td><td>293</td><td>132</td></tr>",
                            "<tr><td>06010343T</td><td>Ragasztószalag 19 mm-es SCOTCH+ tépő</td><td>124</td><td>6</td><td>426</td><td>155</td></tr>",
                            "<tr><td>03010342T</td><td>Ragasztószalag  TIXO</td><td>125</td><td>9</td><td>15</td><td>13</td></tr>",
                            "<tr><td>02080433T</td><td>Ragasztószalag 19 mm-es</td><td>125</td><td>9</td><td>55</td><td>42</td></tr>",
                            "<tr><td>03010344T</td><td>Ragasztószalag nagy 12 mm</td><td>125</td><td>7</td><td>63</td><td>48</td></tr>",
                            "<tr><td>03010345T</td><td>Ragasztószalag széles barna</td><td>125</td><td>6</td><td>166</td><td>92</td></tr>",
                            "<tr><td>05050346T</td><td>Rágógumi Orbit</td><td>126</td><td>9</td><td>89</td><td>62</td></tr>",
                            "<tr><td>06040347T</td><td>Rajzlap A/4 10db ffam.</td><td>127</td><td>5</td><td>28</td><td>21</td></tr>",
                            "<tr><td>01010001T</td><td>félfamentes rajzlap A4 (10 lap)</td><td>127</td><td>9</td><td>342</td><td>143</td></tr>",
                            "<tr><td>05040349T</td><td>Rajzszeg</td><td>128</td><td>6</td><td>63</td><td>48</td></tr>",
                            "<tr><td>05040348T</td><td>Rajzszeg színes</td><td>128</td><td>8</td><td>106</td><td>71</td></tr>",
                            "<tr><td>06040351T</td><td>Regiszteres füzet A5 Hightech</td><td>129</td><td>5</td><td>203</td><td>108</td></tr>",
                            "<tr><td>06040350T</td><td>Regiszteres füzet A4</td><td>129</td><td>9</td><td>256</td><td>123</td></tr>",
                            "<tr><td>U001-KI501</td><td>sál</td><td>130</td><td>1</td><td>1990</td><td>201</td></tr>",
                            "<tr><td>02080514T</td><td>Spirál 1/4 </td><td>131</td><td>9</td><td>45</td><td>35</td></tr>",
                            "<tr><td>04050358T</td><td>Strandlabda </td><td>132</td><td>8</td><td>356</td><td>146</td></tr>",
                            "<tr><td>05110360T</td><td>Szalvéta egyszínű</td><td>133</td><td>6</td><td>118</td><td>76</td></tr>",
                            "<tr><td>05110363T</td><td>Szalvéta dekor</td><td>133</td><td>9</td><td>133</td><td>84</td></tr>",
                            "<tr><td>05110364T</td><td>Szalvéta kicsi virágos</td><td>133</td><td>8</td><td>161</td><td>90</td></tr>",
                            "<tr><td>05110361T</td><td>Szalvéta Goma húsvéti</td><td>133</td><td>7</td><td>175</td><td>96</td></tr>",
                            "<tr><td>05110359T</td><td>Szalvéta </td><td>133</td><td>8</td><td>176</td><td>97</td></tr>",
                            "<tr><td>04110362T</td><td>Szalvéta gyűjtőknek</td><td>133</td><td>5</td><td>183</td><td>99</td></tr>",
                            "<tr><td>06010366T</td><td>Számológép Roxin</td><td>134</td><td>6</td><td>508</td><td>164</td></tr>",
                            "<tr><td>06040446T</td><td>Számológép tudományos</td><td>134</td><td>5</td><td>1173</td><td>194</td></tr>",
                            "<tr><td>05010369T</td><td>Szemetes zsák 60 literes</td><td>135</td><td>7</td><td>129</td><td>82</td></tr>",
                            "<tr><td>07010371T</td><td>Színes ceruza 6-os</td><td>136</td><td>8</td><td>99</td><td>68</td></tr>",
                            "<tr><td>07010372T</td><td>Színes ceruza 12 szín</td><td>136</td><td>7</td><td>161</td><td>90</td></tr>",
                            "<tr><td>06010377T</td><td>Szögmérő színes</td><td>137</td><td>9</td><td>8</td><td>6</td></tr>",
                            "<tr><td>06010376T</td><td>Szögmérő papír</td><td>137</td><td>6</td><td>11</td><td>9</td></tr>",
                            "<tr><td>06010375T</td><td>Szögmérő 180 fokos műa.</td><td>137</td><td>6</td><td>24</td><td>18</td></tr>",
                            "<tr><td>06040380T</td><td>Szövegkiemelő</td><td>138</td><td>5</td><td>78</td><td>57</td></tr>",
                            "<tr><td>06040378T</td><td>Szövegkiemelő vékony</td><td>138</td><td>8</td><td>89</td><td>62</td></tr>",
                            "<tr><td>06040379T</td><td>Szövegkiemelő </td><td>138</td><td>9</td><td>93</td><td>64</td></tr>",
                            "<tr><td>06040381T</td><td>Szövegkiemelő Videotip</td><td>138</td><td>6</td><td>103</td><td>70</td></tr>",
                            "<tr><td>07050464T</td><td>Szövegkiemelő Staedtler</td><td>138</td><td>7</td><td>140</td><td>85</td></tr>",
                            "<tr><td>06040382T</td><td>Táblafilc</td><td>139</td><td>9</td><td>633</td><td>170</td></tr>",
                            "<tr><td>05050465T</td><td>Tapétavágó kés</td><td>140</td><td>6</td><td>40</td><td>31</td></tr>",
                            "<tr><td>06040386T</td><td>Tempera szóló színes</td><td>141</td><td>8</td><td>48</td><td>37</td></tr>",
                            "<tr><td>06040385T</td><td>Tempera szóló ezüst</td><td>141</td><td>8</td><td>96</td><td>67</td></tr>",
                            "<tr><td>02080449T</td><td>Térképtű színes</td><td>142</td><td>6</td><td>103</td><td>70</td></tr>",
                            "<tr><td>07040388T</td><td>Tintapatron /kék/</td><td>143</td><td>7</td><td>9</td><td>7</td></tr>",
                            "<tr><td>07040390T</td><td>Tintapatron színes</td><td>143</td><td>9</td><td>11</td><td>9</td></tr>",
                            "<tr><td>07040389T</td><td>Tintapatron 30 db-os kék</td><td>143</td><td>7</td><td>360</td><td>147</td></tr>",
                            "<tr><td>07010244T</td><td>Kerámiatoll</td><td>144</td><td>5</td><td>74</td><td>55</td></tr>",
                            "<tr><td>07040391T</td><td>Toll Centropen roller</td><td>144</td><td>9</td><td>80</td><td>59</td></tr>",
                            "<tr><td>07010141T</td><td>G.toll betét X20</td><td>145</td><td>7</td><td>15</td><td>13</td></tr>",
                            "<tr><td>07010140T</td><td>G.toll betét Stabilo</td><td>145</td><td>5</td><td>23</td><td>17</td></tr>",
                            "<tr><td>07040127T</td><td>G. toll betét mini</td><td>145</td><td>9</td><td>30</td><td>23</td></tr>",
                            "<tr><td>07040129T</td><td>G. toll betét réz</td><td>145</td><td>5</td><td>30</td><td>23</td></tr>",
                            "<tr><td>07010138T</td><td>G.toll betét jumbo</td><td>145</td><td>8</td><td>33</td><td>25</td></tr>",
                            "<tr><td>07040133T</td><td>G.toll betét görbe hegyű</td><td>145</td><td>5</td><td>39</td><td>30</td></tr>",
                            "<tr><td>07040134T</td><td>G.toll betét illatos</td><td>145</td><td>7</td><td>44</td><td>34</td></tr>",
                            "<tr><td>07010137T</td><td>G.toll betét PAX tip.</td><td>145</td><td>6</td><td>48</td><td>37</td></tr>",
                            "<tr><td>07040132T</td><td>G.toll betét csavaros</td><td>145</td><td>8</td><td>55</td><td>42</td></tr>",
                            "<tr><td>07040128T</td><td>G. toll betét mini fém</td><td>145</td><td>6</td><td>55</td><td>42</td></tr>",
                            "<tr><td>07010143T</td><td>G.toll betét Zebra H-0,7</td><td>145</td><td>7</td><td>78</td><td>57</td></tr>",
                            "<tr><td>07040130T</td><td>G. toll betét S7S</td><td>145</td><td>6</td><td>80</td><td>59</td></tr>",
                            "<tr><td>07040131T</td><td>G. toll betét UNI lachnok Fine SA-7C</td><td>145</td><td>9</td><td>85</td><td>61</td></tr>",
                            "<tr><td>07010144T</td><td>G.toll betét Zebra K-0,7</td><td>145</td><td>9</td><td>89</td><td>62</td></tr>",
                            "<tr><td>07010139T</td><td>G.toll betét S7L </td><td>145</td><td>6</td><td>91</td><td>63</td></tr>",
                            "<tr><td>07010136T</td><td>G.toll betét PAX</td><td>145</td><td>6</td><td>123</td><td>79</td></tr>",
                            "<tr><td>07010142T</td><td>G.toll betét Zebra F-0.7</td><td>145</td><td>5</td><td>228</td><td>115</td></tr>",
                            "<tr><td>07040135T</td><td>G.toll betét Parker </td><td>145</td><td>6</td><td>684</td><td>174</td></tr>",
                            "<tr><td>06040394T</td><td>Tolltartó zipzáras</td><td>146</td><td>5</td><td>324</td><td>140</td></tr>",
                            "<tr><td>06040396T</td><td>Tolltartó Garfield</td><td>146</td><td>7</td><td>410</td><td>153</td></tr>",
                            "<tr><td>06040398T</td><td>Tolltartó hengeres </td><td>146</td><td>5</td><td>411</td><td>154</td></tr>",
                            "<tr><td>06040397T</td><td>Tolltartó asztali</td><td>146</td><td>8</td><td>655</td><td>172</td></tr>",
                            "<tr><td>06040395T</td><td>Tolltartó 2 zipzáros töltött</td><td>146</td><td>7</td><td>728</td><td>180</td></tr>",
                            "<tr><td>06040392T</td><td>Tolltartó 1 zipzáros</td><td>146</td><td>7</td><td>728</td><td>180</td></tr>",
                            "<tr><td>06040393T</td><td>Tolltartó 2 részes NG.</td><td>146</td><td>9</td><td>765</td><td>182</td></tr>",
                            "<tr><td>02080511T</td><td>Oki toner C</td><td>147</td><td>8</td><td>14250</td><td>214</td></tr>",
                            "<tr><td>07050462T</td><td>Töltőtoll tinta </td><td>148</td><td>5</td><td>493</td><td>163</td></tr>",
                            "<tr><td>02040402T</td><td>Tűzőgép Boxer </td><td>149</td><td>5</td><td>286</td><td>129</td></tr>",
                            "<tr><td>02040401T</td><td>Tűzőgép Boxer 10</td><td>149</td><td>8</td><td>339</td><td>142</td></tr>",
                            "<tr><td>02040404T</td><td>Tűzőgép EAGLE</td><td>149</td><td>8</td><td>405</td><td>152</td></tr>",
                            "<tr><td>02080452T</td><td>Tűzőgép mini</td><td>149</td><td>6</td><td>438</td><td>157</td></tr>",
                            "<tr><td>02040403T</td><td>Tűzőgép SAX 239</td><td>149</td><td>5</td><td>1351</td><td>196</td></tr>",
                            "<tr><td>02040002T</td><td>irodai tűzőgép</td><td>149</td><td>6</td><td>2100</td><td>202</td></tr>",
                            "<tr><td>02040406T</td><td>Tűzőkapocs 24/6</td><td>150</td><td>9</td><td>34</td><td>26</td></tr>",
                            "<tr><td>02040405T</td><td>Tűzőkapocs 10-es</td><td>150</td><td>7</td><td>44</td><td>34</td></tr>",
                            "<tr><td>06080410T</td><td>Vízfesték 12db-os kínai</td><td>151</td><td>6</td><td>176</td><td>97</td></tr>",
                            "<tr><td>06080409T</td><td>Vízfesték 12 színű kerek</td><td>151</td><td>6</td><td>180</td><td>98</td></tr>",
                            "<tr><td>06080408T</td><td>Vízfesték 12 db-os </td><td>151</td><td>7</td><td>210</td><td>110</td></tr>",
                            "<tr><td>06080407T</td><td>Vízfesték  12 színű nagy</td><td>151</td><td>7</td><td>249</td><td>122</td></tr>",
                            "<tr><td>06080412T</td><td>Vonalzó 16 cm-es LIZZY</td><td>152</td><td>7</td><td>30</td><td>23</td></tr>",
                            "<tr><td>06080413T</td><td>Vonalzó 30 cm</td><td>152</td><td>8</td><td>30</td><td>23</td></tr>",
                            "<tr><td>06080414T</td><td>Vonalzó 20 cm-es </td><td>152</td><td>8</td><td>30</td><td>23</td></tr>",
                            "<tr><td>06080415T</td><td>Vonalzó 45 fokos</td><td>152</td><td>9</td><td>30</td><td>23</td></tr>",
                            "<tr><td>06080416T</td><td>Vonalzó 60 fokos</td><td>152</td><td>6</td><td>33</td><td>25</td></tr>",
                            "<tr><td>06080411T</td><td>Vonalzó 15 cm-es ESSELTE</td><td>152</td><td>8</td><td>58</td><td>44</td></tr>",
                            "<tr><td>06080417T</td><td>Zászló papír</td><td>153</td><td>5</td><td>20</td><td>16</td></tr>",
                            "<tr><td>07080419T</td><td>Zselés toll MICRO</td><td>154</td><td>9</td><td>66</td><td>51</td></tr>",
                            "<tr><td>07080418T</td><td>Zselés toll </td><td>154</td><td>7</td><td>95</td><td>66</td></tr>",
                            "<tr><td>07080420T</td><td>Zselés toll Muhnwa</td><td>154</td><td>7</td><td>161</td><td>90</td></tr>",
                            "<tr><td>07080421T</td><td>Zseléstoll Lizzy Card</td><td>154</td><td>7</td><td>228</td><td>115</td></tr>",
                            "<tr><td>02040206T</td><td>Írásvetítő fólia</td><td>155</td><td>8</td><td>81</td><td>60</td></tr>",
                            "</table>"
                        ]
                    }
                }
            ],
            "execution_count": 18
        },
        {
            "cell_type": "markdown",
            "source": [
                "15. <span style=\"color: rgb(36, 41, 47); font-family: -apple-system, BlinkMacSystemFont, &quot;Segoe UI&quot;, Helvetica, Arial, sans-serif, &quot;Apple Color Emoji&quot;, &quot;Segoe UI Emoji&quot;; font-size: 16px;\">Készítsünk listát a rendelési tételekről, amely minden sor esetén göngyölítve tartalmazza az ügyfél adott rendelési tételig meglévő rendelési tételeinek összértékét!</span>\n",
                "\n",
                "1. Az új oszlop neve legyen Eddigi rendelési tételek összértéke!\n",
                "2. Az ügyfél neve is jelenjen meg!"
            ],
            "metadata": {
                "azdata_cell_guid": "93552388-ffec-49ff-99e5-ae8dc8072601"
            },
            "attachments": {}
        },
        {
            "cell_type": "code",
            "source": [
                ""
            ],
            "metadata": {
                "azdata_cell_guid": "0e7f547f-7d96-4611-b1c2-0fa84a581e79",
                "language": "sql"
            },
            "outputs": [],
            "execution_count": null
        }
    ]
}