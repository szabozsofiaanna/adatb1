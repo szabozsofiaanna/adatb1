{
    "metadata": {
        "kernelspec": {
            "name": "SQL",
            "display_name": "SQL",
            "language": "sql"
        },
        "language_info": {
            "name": "sql",
            "version": ""
        }
    },
    "nbformat_minor": 2,
    "nbformat": 4,
    "cells": [
        {
            "cell_type": "markdown",
            "source": [
                "1. <span style=\"background-color: rgb(255, 255, 255); color: rgb(0, 0, 0); font-family: &quot;Open Sans&quot;, sans-serif; font-size: 14.44px;\">Kérdezzük le, hogy melyik ügyfél (USERNEV) hány különböző szálláshelyen foglalt!</span>\n",
                "\n",
                "a. A listában azok az ügyfelek is jelenjenek meg, akiknek még nem volt foglalásuk\n",
                "\n",
                "b. Megfelelően jelölve jelenjen meg a végösszeg is!"
            ],
            "metadata": {
                "azdata_cell_guid": "212bd10e-c5e0-42a9-872e-92d8181f645b"
            },
            "attachments": {}
        },
        {
            "cell_type": "code",
            "source": [
                "SELECT IIF(v.USERNEV IS NULL, 'Végösszeg', v.usernev) as 'Ügyfél',\n",
                "COUNT(DISTINCT(sz.SZALLAS_FK)) as 'Különböző szálláshelyek száma'\n",
                "FROM Vendeg v LEFT JOIN Foglalas f ON v.USERNEV = f.UGYFEL_FK\n",
                "              LEFT JOIN Szoba sz ON f.SZOBA_FK = sz.SZOBA_ID\n",
                "              LEFT JOIN Szallashely szh ON sz.SZALLAS_FK = szh.SZALLAS_ID\n",
                "GROUP BY ROLLUP(v.USERNEV)"
            ],
            "metadata": {
                "azdata_cell_guid": "6dfc5bdc-51c4-4f5f-9134-7b979b708604",
                "language": "sql"
            },
            "outputs": [],
            "execution_count": null
        },
        {
            "cell_type": "code",
            "source": [
                "SELECT IIF(v.usernev IS NULL, 'Végösszeg', v.usernev) AS 'Ügyfél',\n",
                "       COUNT(DISTINCT(szh.SZALLAS_ID)) AS 'Különböző szálláshelyek száma'\n",
                "FROM Vendeg v LEFT JOIN Foglalas f ON v.USERNEV = f.UGYFEL_FK\n",
                "              LEFT JOIN Szoba sz ON f.SZOBA_FK = sz.SZOBA_ID\n",
                "              LEFT JOIN Szallashely szh ON sz.SZALLAS_FK = szh.SZALLAS_ID\n",
                "GROUP BY ROLLUP(v.USERNEV)\n"
            ],
            "metadata": {
                "azdata_cell_guid": "126ba0f9-ffa5-43dd-aae5-500649e6f961",
                "language": "sql"
            },
            "outputs": [],
            "execution_count": null
        },
        {
            "cell_type": "markdown",
            "source": [
                "2. <span style=\"background-color: rgb(255, 255, 255); color: rgb(0, 0, 0); font-family: &quot;Open Sans&quot;, sans-serif; font-size: 14.44px;\">Készítsünk listát, amely megjeleníti a vendégek adatait!</span>\n",
                "\n",
                "- Egy új oszlopban számoljuk ki a vendég életkorát (években)\n",
                "- Egy másik új oszlopban határozzuk meg, hogy születési dátum szerint növekvő rendezésnél mennyi az adott ügyfél. az előtte lévő 2 ügyfél és az utána lévő 2 ügyfél átlagos életkora! Az oszlopot nevezzük el értelemszerűen!"
            ],
            "metadata": {
                "azdata_cell_guid": "218e67ee-59b0-4d39-b7b2-6170ebd25591"
            },
            "attachments": {}
        },
        {
            "cell_type": "code",
            "source": [
                "SELECT *,\n",
                "DATEDIFF(YEAR, szul_dat, GETDATE()) as 'Életkor',\n",
                "AVG(DATEDIFF(YEAR, szul_dat, GETDATE())) OVER(ORDER BY szul_dat ROWS BETWEEN 2 preceding and 2 following) as 'átlagos életkor'\n",
                "from vendeg"
            ],
            "metadata": {
                "azdata_cell_guid": "600d9e67-f673-431e-bab5-bc8391dd6a3c",
                "language": "sql"
            },
            "outputs": [],
            "execution_count": null
        },
        {
            "cell_type": "code",
            "source": [
                "SELECT *,\n",
                "       DATEDIFF(YEAR, szul_dat, GETDATE()) AS 'Életkor',\n",
                "       AVG(DATEDIFF(YEAR, szul_dat, GETDATE()))\n",
                "           OVER(ORDER BY szul_dat ROWS BETWEEN 2 PRECEDING AND 2 FOLLOWING) AS 'Átlagos életkor'\n",
                "FROM Vendeg"
            ],
            "metadata": {
                "azdata_cell_guid": "937b1d99-ee45-4f29-bda9-c8488ca4af96",
                "language": "sql"
            },
            "outputs": [],
            "execution_count": null
        },
        {
            "cell_type": "markdown",
            "source": [
                "3. <span style=\"background-color: rgb(255, 255, 255); color: rgb(0, 0, 0); font-family: &quot;Open Sans&quot;, sans-serif; font-size: 14.44px;\">Egészítsük ki a megkezdett lekérdezést, amely listázza azon vendégek azonosítóját és nevét, akik már legalább egyszer foglaltak, és MINDEN ESETBEN összesen két fő számára (felnőtt + gyermek szám összege)!&nbsp;</span> \n",
                "\n",
                " a. A lista ne tartalmazzon ismétlődő sorokat!"
            ],
            "metadata": {
                "azdata_cell_guid": "eaa27fbe-84c4-4e77-8593-9cc2c081459a"
            },
            "attachments": {}
        },
        {
            "cell_type": "code",
            "source": [
                "SELECT v.USERNEV, v.NEV\n",
                "FROM Vendeg v JOIN Foglalas f ON v.USERNEV = f.UGYFEL_FK \n",
                "WHERE NOT EXISTS\n",
                "( \n",
                "  SELECT *\n",
                "  FROM Foglalas f2 \n",
                "  WHERE v.USERNEV = f2.UGYFEL_FK\n",
                " AND f2.FELNOTT_SZAM + f2.GYERMEK_SZAM <>2\n",
                ")"
            ],
            "metadata": {
                "azdata_cell_guid": "a9c2fc01-522e-4d8a-8303-39392f778948",
                "language": "sql"
            },
            "outputs": [],
            "execution_count": null
        }
    ]
}